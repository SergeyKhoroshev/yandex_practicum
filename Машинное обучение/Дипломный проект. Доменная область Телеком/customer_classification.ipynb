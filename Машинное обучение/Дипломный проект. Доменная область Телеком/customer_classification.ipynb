{
  "cells": [
    {
      "cell_type": "markdown",
      "metadata": {
        "id": "nS_TK0BotA5H"
      },
      "source": [
        "# Прогнозирование оттока клиентов"
      ]
    },
    {
      "cell_type": "markdown",
      "metadata": {
        "id": "iZLjBNyCtA5H"
      },
      "source": [
        "Оператор связи «Ниединогоразрыва.ком» хочет научиться прогнозировать отток клиентов. Если клиент собирается уйти, ему будет предложен промокод и специальные условия. Есть персональные данные, информация о тарифах и договорах некоторых клиентов.\n",
        "\n",
        "Цель: необходимо построить модель, которая спрогнозирует уход клиента в ближайшее время."
      ]
    },
    {
      "cell_type": "markdown",
      "metadata": {
        "id": "MD1Yx-WqtA5I"
      },
      "source": [
        "# План работы:\n",
        "\n",
        "1. Изучение общей информации о данных\n",
        "2. Предобработка данных\n",
        "   - 2.1 Объединение датасетов\n",
        "   - 2.2 Работа с типами данных\n",
        "   - 2.3 Обработка пропусков\n",
        "   - 2.4 Создание дополнительных признаков\n",
        "3. Исследовательский анализ\n",
        "   - 3.1 Изучение факторов влияния на отток клиентов\n",
        "   - 3.2 Взаимосвязь признаков\n",
        "4. Обучение моделей\n",
        "   - 4.1 Выделение выборок\n",
        "   - 4.2 Кодирование данных\n",
        "   - 4.3 Обучение моделей   \n",
        "5. Тестирование лучшей модели\n",
        "\n",
        "В данном проекте решается задача классификации."
      ]
    },
    {
      "cell_type": "markdown",
      "metadata": {
        "id": "_h9Y5EYdtA5I"
      },
      "source": [
        "## Изучение общей информации о данных"
      ]
    },
    {
      "cell_type": "markdown",
      "metadata": {
        "id": "Sx6m1lKTtA5I"
      },
      "source": [
        "Загрузим необходимые библиотеки и датасеты"
      ]
    },
    {
      "cell_type": "code",
      "execution_count": null,
      "metadata": {
        "scrolled": true,
        "id": "3i78IfU6tA5I",
        "outputId": "03ade2a9-8a94-41db-f898-632a4c1ea203"
      },
      "outputs": [
        {
          "name": "stdout",
          "output_type": "stream",
          "text": [
            "Collecting phik\n",
            "  Downloading phik-0.12.3-cp39-cp39-manylinux_2_17_x86_64.manylinux2014_x86_64.whl (679 kB)\n",
            "\u001b[K     |████████████████████████████████| 679 kB 1.1 MB/s eta 0:00:01\n",
            "\u001b[?25hRequirement already satisfied: scipy>=1.5.2 in /opt/conda/lib/python3.9/site-packages (from phik) (1.9.1)\n",
            "Requirement already satisfied: numpy>=1.18.0 in /opt/conda/lib/python3.9/site-packages (from phik) (1.21.1)\n",
            "Requirement already satisfied: matplotlib>=2.2.3 in /opt/conda/lib/python3.9/site-packages (from phik) (3.3.4)\n",
            "Requirement already satisfied: pandas>=0.25.1 in /opt/conda/lib/python3.9/site-packages (from phik) (1.2.4)\n",
            "Requirement already satisfied: joblib>=0.14.1 in /opt/conda/lib/python3.9/site-packages (from phik) (1.1.0)\n",
            "Requirement already satisfied: pyparsing!=2.0.4,!=2.1.2,!=2.1.6,>=2.0.3 in /opt/conda/lib/python3.9/site-packages (from matplotlib>=2.2.3->phik) (2.4.7)\n",
            "Requirement already satisfied: pillow>=6.2.0 in /opt/conda/lib/python3.9/site-packages (from matplotlib>=2.2.3->phik) (8.4.0)\n",
            "Requirement already satisfied: kiwisolver>=1.0.1 in /opt/conda/lib/python3.9/site-packages (from matplotlib>=2.2.3->phik) (1.4.4)\n",
            "Requirement already satisfied: cycler>=0.10 in /opt/conda/lib/python3.9/site-packages (from matplotlib>=2.2.3->phik) (0.11.0)\n",
            "Requirement already satisfied: python-dateutil>=2.1 in /opt/conda/lib/python3.9/site-packages (from matplotlib>=2.2.3->phik) (2.8.1)\n",
            "Requirement already satisfied: pytz>=2017.3 in /opt/conda/lib/python3.9/site-packages (from pandas>=0.25.1->phik) (2021.1)\n",
            "Requirement already satisfied: six>=1.5 in /opt/conda/lib/python3.9/site-packages (from python-dateutil>=2.1->matplotlib>=2.2.3->phik) (1.16.0)\n",
            "Installing collected packages: phik\n",
            "Successfully installed phik-0.12.3\n",
            "Collecting scikit-learn==1.1.3\n",
            "  Downloading scikit_learn-1.1.3-cp39-cp39-manylinux_2_17_x86_64.manylinux2014_x86_64.whl (30.8 MB)\n",
            "\u001b[K     |████████████████████████████████| 30.8 MB 47 kB/s  eta 0:00:01     |█████████████████████████       | 24.0 MB 1.1 MB/s eta 0:00:07\n",
            "\u001b[?25hRequirement already satisfied: scipy>=1.3.2 in /opt/conda/lib/python3.9/site-packages (from scikit-learn==1.1.3) (1.9.1)\n",
            "Requirement already satisfied: threadpoolctl>=2.0.0 in /opt/conda/lib/python3.9/site-packages (from scikit-learn==1.1.3) (3.1.0)\n",
            "Requirement already satisfied: joblib>=1.0.0 in /opt/conda/lib/python3.9/site-packages (from scikit-learn==1.1.3) (1.1.0)\n",
            "Requirement already satisfied: numpy>=1.17.3 in /opt/conda/lib/python3.9/site-packages (from scikit-learn==1.1.3) (1.21.1)\n",
            "Installing collected packages: scikit-learn\n",
            "  Attempting uninstall: scikit-learn\n",
            "    Found existing installation: scikit-learn 0.24.1\n",
            "    Uninstalling scikit-learn-0.24.1:\n",
            "      Successfully uninstalled scikit-learn-0.24.1\n",
            "Successfully installed scikit-learn-1.1.3\n"
          ]
        }
      ],
      "source": [
        "!pip install phik\n",
        "!pip install scikit-learn==1.1.3"
      ]
    },
    {
      "cell_type": "code",
      "execution_count": null,
      "metadata": {
        "id": "qIIhA0V2tA5K"
      },
      "outputs": [],
      "source": [
        "import pandas as pd\n",
        "import numpy as np\n",
        "import phik\n",
        "from phik.report import plot_correlation_matrix\n",
        "import seaborn as sns\n",
        "import matplotlib.pyplot as plt\n",
        "from sklearn.model_selection import train_test_split, GridSearchCV\n",
        "from sklearn.preprocessing import OneHotEncoder\n",
        "from catboost import CatBoostClassifier\n",
        "from sklearn.ensemble import RandomForestClassifier\n",
        "from sklearn.tree import DecisionTreeClassifier\n",
        "from sklearn.metrics import roc_auc_score, accuracy_score, roc_curve"
      ]
    },
    {
      "cell_type": "code",
      "execution_count": null,
      "metadata": {
        "id": "oD6MK4UntA5K"
      },
      "outputs": [],
      "source": [
        "RANDOM_STATE = 310723\n",
        "data_load = '2020-02-01'"
      ]
    },
    {
      "cell_type": "code",
      "execution_count": null,
      "metadata": {
        "id": "KUD5alSUtA5K"
      },
      "outputs": [],
      "source": [
        "data_contract = pd.read_csv('/datasets/contract_new.csv')\n",
        "data_personal = pd.read_csv('/datasets/personal_new.csv')\n",
        "data_internet = pd.read_csv('/datasets/internet_new.csv')\n",
        "data_phone = pd.read_csv('/datasets/phone_new.csv')"
      ]
    },
    {
      "cell_type": "markdown",
      "metadata": {
        "id": "Km_b3BPqtA5L"
      },
      "source": [
        "Изучим общую информацию о данных"
      ]
    },
    {
      "cell_type": "code",
      "execution_count": null,
      "metadata": {
        "id": "7-u1RuwDtA5L",
        "outputId": "c5bc64ba-9909-4639-dc68-ac6800da1992"
      },
      "outputs": [
        {
          "name": "stdout",
          "output_type": "stream",
          "text": [
            "<class 'pandas.core.frame.DataFrame'>\n",
            "RangeIndex: 7043 entries, 0 to 7042\n",
            "Data columns (total 8 columns):\n",
            " #   Column            Non-Null Count  Dtype  \n",
            "---  ------            --------------  -----  \n",
            " 0   customerID        7043 non-null   object \n",
            " 1   BeginDate         7043 non-null   object \n",
            " 2   EndDate           7043 non-null   object \n",
            " 3   Type              7043 non-null   object \n",
            " 4   PaperlessBilling  7043 non-null   object \n",
            " 5   PaymentMethod     7043 non-null   object \n",
            " 6   MonthlyCharges    7043 non-null   float64\n",
            " 7   TotalCharges      7043 non-null   object \n",
            "dtypes: float64(1), object(7)\n",
            "memory usage: 440.3+ KB\n"
          ]
        }
      ],
      "source": [
        "data_contract.info()"
      ]
    },
    {
      "cell_type": "code",
      "execution_count": null,
      "metadata": {
        "id": "FdhJiIqftA5L",
        "outputId": "0934ad93-35f0-4dd5-e384-d5b8ffa1bc2b"
      },
      "outputs": [
        {
          "data": {
            "text/html": [
              "<div>\n",
              "<style scoped>\n",
              "    .dataframe tbody tr th:only-of-type {\n",
              "        vertical-align: middle;\n",
              "    }\n",
              "\n",
              "    .dataframe tbody tr th {\n",
              "        vertical-align: top;\n",
              "    }\n",
              "\n",
              "    .dataframe thead th {\n",
              "        text-align: right;\n",
              "    }\n",
              "</style>\n",
              "<table border=\"1\" class=\"dataframe\">\n",
              "  <thead>\n",
              "    <tr style=\"text-align: right;\">\n",
              "      <th></th>\n",
              "      <th>customerID</th>\n",
              "      <th>BeginDate</th>\n",
              "      <th>EndDate</th>\n",
              "      <th>Type</th>\n",
              "      <th>PaperlessBilling</th>\n",
              "      <th>PaymentMethod</th>\n",
              "      <th>MonthlyCharges</th>\n",
              "      <th>TotalCharges</th>\n",
              "    </tr>\n",
              "  </thead>\n",
              "  <tbody>\n",
              "    <tr>\n",
              "      <th>0</th>\n",
              "      <td>7590-VHVEG</td>\n",
              "      <td>2020-01-01</td>\n",
              "      <td>No</td>\n",
              "      <td>Month-to-month</td>\n",
              "      <td>Yes</td>\n",
              "      <td>Electronic check</td>\n",
              "      <td>29.85</td>\n",
              "      <td>31.04</td>\n",
              "    </tr>\n",
              "    <tr>\n",
              "      <th>1</th>\n",
              "      <td>5575-GNVDE</td>\n",
              "      <td>2017-04-01</td>\n",
              "      <td>No</td>\n",
              "      <td>One year</td>\n",
              "      <td>No</td>\n",
              "      <td>Mailed check</td>\n",
              "      <td>56.95</td>\n",
              "      <td>2071.84</td>\n",
              "    </tr>\n",
              "    <tr>\n",
              "      <th>2</th>\n",
              "      <td>3668-QPYBK</td>\n",
              "      <td>2019-10-01</td>\n",
              "      <td>No</td>\n",
              "      <td>Month-to-month</td>\n",
              "      <td>Yes</td>\n",
              "      <td>Mailed check</td>\n",
              "      <td>53.85</td>\n",
              "      <td>226.17</td>\n",
              "    </tr>\n",
              "    <tr>\n",
              "      <th>3</th>\n",
              "      <td>7795-CFOCW</td>\n",
              "      <td>2016-05-01</td>\n",
              "      <td>No</td>\n",
              "      <td>One year</td>\n",
              "      <td>No</td>\n",
              "      <td>Bank transfer (automatic)</td>\n",
              "      <td>42.30</td>\n",
              "      <td>1960.6</td>\n",
              "    </tr>\n",
              "    <tr>\n",
              "      <th>4</th>\n",
              "      <td>9237-HQITU</td>\n",
              "      <td>2019-09-01</td>\n",
              "      <td>No</td>\n",
              "      <td>Month-to-month</td>\n",
              "      <td>Yes</td>\n",
              "      <td>Electronic check</td>\n",
              "      <td>70.70</td>\n",
              "      <td>353.5</td>\n",
              "    </tr>\n",
              "  </tbody>\n",
              "</table>\n",
              "</div>"
            ],
            "text/plain": [
              "   customerID   BeginDate EndDate            Type PaperlessBilling  \\\n",
              "0  7590-VHVEG  2020-01-01      No  Month-to-month              Yes   \n",
              "1  5575-GNVDE  2017-04-01      No        One year               No   \n",
              "2  3668-QPYBK  2019-10-01      No  Month-to-month              Yes   \n",
              "3  7795-CFOCW  2016-05-01      No        One year               No   \n",
              "4  9237-HQITU  2019-09-01      No  Month-to-month              Yes   \n",
              "\n",
              "               PaymentMethod  MonthlyCharges TotalCharges  \n",
              "0           Electronic check           29.85        31.04  \n",
              "1               Mailed check           56.95      2071.84  \n",
              "2               Mailed check           53.85       226.17  \n",
              "3  Bank transfer (automatic)           42.30       1960.6  \n",
              "4           Electronic check           70.70        353.5  "
            ]
          },
          "execution_count": 6,
          "metadata": {},
          "output_type": "execute_result"
        }
      ],
      "source": [
        "data_contract.head()"
      ]
    },
    {
      "cell_type": "markdown",
      "metadata": {
        "id": "BGBB-NnptA5L"
      },
      "source": [
        "Определили, что поле customerID присутствует здесь и в других датасетах для связки клиентов между таблицами БД. Видим, что в данном наборе данных нет пропусков и последний столбец почему-то относится к типу данных object, хотя на первый взгляд в нём отображены числовые данные"
      ]
    },
    {
      "cell_type": "code",
      "execution_count": null,
      "metadata": {
        "id": "EO7kVHvdtA5L",
        "outputId": "60cff588-cd9c-4742-bc09-5f894018f707"
      },
      "outputs": [
        {
          "name": "stdout",
          "output_type": "stream",
          "text": [
            "<class 'pandas.core.frame.DataFrame'>\n",
            "RangeIndex: 7043 entries, 0 to 7042\n",
            "Data columns (total 5 columns):\n",
            " #   Column         Non-Null Count  Dtype \n",
            "---  ------         --------------  ----- \n",
            " 0   customerID     7043 non-null   object\n",
            " 1   gender         7043 non-null   object\n",
            " 2   SeniorCitizen  7043 non-null   int64 \n",
            " 3   Partner        7043 non-null   object\n",
            " 4   Dependents     7043 non-null   object\n",
            "dtypes: int64(1), object(4)\n",
            "memory usage: 275.2+ KB\n"
          ]
        }
      ],
      "source": [
        "data_personal.info()"
      ]
    },
    {
      "cell_type": "code",
      "execution_count": null,
      "metadata": {
        "id": "QYkoxw6ztA5L",
        "outputId": "d50b04cb-ccc0-49b2-b228-bc13d8c18e4f"
      },
      "outputs": [
        {
          "data": {
            "text/html": [
              "<div>\n",
              "<style scoped>\n",
              "    .dataframe tbody tr th:only-of-type {\n",
              "        vertical-align: middle;\n",
              "    }\n",
              "\n",
              "    .dataframe tbody tr th {\n",
              "        vertical-align: top;\n",
              "    }\n",
              "\n",
              "    .dataframe thead th {\n",
              "        text-align: right;\n",
              "    }\n",
              "</style>\n",
              "<table border=\"1\" class=\"dataframe\">\n",
              "  <thead>\n",
              "    <tr style=\"text-align: right;\">\n",
              "      <th></th>\n",
              "      <th>customerID</th>\n",
              "      <th>gender</th>\n",
              "      <th>SeniorCitizen</th>\n",
              "      <th>Partner</th>\n",
              "      <th>Dependents</th>\n",
              "    </tr>\n",
              "  </thead>\n",
              "  <tbody>\n",
              "    <tr>\n",
              "      <th>0</th>\n",
              "      <td>7590-VHVEG</td>\n",
              "      <td>Female</td>\n",
              "      <td>0</td>\n",
              "      <td>Yes</td>\n",
              "      <td>No</td>\n",
              "    </tr>\n",
              "    <tr>\n",
              "      <th>1</th>\n",
              "      <td>5575-GNVDE</td>\n",
              "      <td>Male</td>\n",
              "      <td>0</td>\n",
              "      <td>No</td>\n",
              "      <td>No</td>\n",
              "    </tr>\n",
              "    <tr>\n",
              "      <th>2</th>\n",
              "      <td>3668-QPYBK</td>\n",
              "      <td>Male</td>\n",
              "      <td>0</td>\n",
              "      <td>No</td>\n",
              "      <td>No</td>\n",
              "    </tr>\n",
              "    <tr>\n",
              "      <th>3</th>\n",
              "      <td>7795-CFOCW</td>\n",
              "      <td>Male</td>\n",
              "      <td>0</td>\n",
              "      <td>No</td>\n",
              "      <td>No</td>\n",
              "    </tr>\n",
              "    <tr>\n",
              "      <th>4</th>\n",
              "      <td>9237-HQITU</td>\n",
              "      <td>Female</td>\n",
              "      <td>0</td>\n",
              "      <td>No</td>\n",
              "      <td>No</td>\n",
              "    </tr>\n",
              "  </tbody>\n",
              "</table>\n",
              "</div>"
            ],
            "text/plain": [
              "   customerID  gender  SeniorCitizen Partner Dependents\n",
              "0  7590-VHVEG  Female              0     Yes         No\n",
              "1  5575-GNVDE    Male              0      No         No\n",
              "2  3668-QPYBK    Male              0      No         No\n",
              "3  7795-CFOCW    Male              0      No         No\n",
              "4  9237-HQITU  Female              0      No         No"
            ]
          },
          "execution_count": 8,
          "metadata": {},
          "output_type": "execute_result"
        }
      ],
      "source": [
        "data_personal.head()"
      ]
    },
    {
      "cell_type": "markdown",
      "metadata": {
        "id": "gLxi1Ia6tA5M"
      },
      "source": [
        "Здесь тоже нет пропусков, количество строк такое же, как и в предыдущем наборе, и на первый взгляд все столбцы являются бинарными категориальными признаками"
      ]
    },
    {
      "cell_type": "code",
      "execution_count": null,
      "metadata": {
        "id": "UA79Cr14tA5M",
        "outputId": "2642f76b-f7e5-46a4-cab7-027ab3adac1a"
      },
      "outputs": [
        {
          "name": "stdout",
          "output_type": "stream",
          "text": [
            "<class 'pandas.core.frame.DataFrame'>\n",
            "RangeIndex: 5517 entries, 0 to 5516\n",
            "Data columns (total 8 columns):\n",
            " #   Column            Non-Null Count  Dtype \n",
            "---  ------            --------------  ----- \n",
            " 0   customerID        5517 non-null   object\n",
            " 1   InternetService   5517 non-null   object\n",
            " 2   OnlineSecurity    5517 non-null   object\n",
            " 3   OnlineBackup      5517 non-null   object\n",
            " 4   DeviceProtection  5517 non-null   object\n",
            " 5   TechSupport       5517 non-null   object\n",
            " 6   StreamingTV       5517 non-null   object\n",
            " 7   StreamingMovies   5517 non-null   object\n",
            "dtypes: object(8)\n",
            "memory usage: 344.9+ KB\n"
          ]
        }
      ],
      "source": [
        "data_internet.info()"
      ]
    },
    {
      "cell_type": "code",
      "execution_count": null,
      "metadata": {
        "id": "RR62AJHWtA5M",
        "outputId": "e18e427c-75b2-43e3-c05f-07b5bd400839"
      },
      "outputs": [
        {
          "data": {
            "text/html": [
              "<div>\n",
              "<style scoped>\n",
              "    .dataframe tbody tr th:only-of-type {\n",
              "        vertical-align: middle;\n",
              "    }\n",
              "\n",
              "    .dataframe tbody tr th {\n",
              "        vertical-align: top;\n",
              "    }\n",
              "\n",
              "    .dataframe thead th {\n",
              "        text-align: right;\n",
              "    }\n",
              "</style>\n",
              "<table border=\"1\" class=\"dataframe\">\n",
              "  <thead>\n",
              "    <tr style=\"text-align: right;\">\n",
              "      <th></th>\n",
              "      <th>customerID</th>\n",
              "      <th>InternetService</th>\n",
              "      <th>OnlineSecurity</th>\n",
              "      <th>OnlineBackup</th>\n",
              "      <th>DeviceProtection</th>\n",
              "      <th>TechSupport</th>\n",
              "      <th>StreamingTV</th>\n",
              "      <th>StreamingMovies</th>\n",
              "    </tr>\n",
              "  </thead>\n",
              "  <tbody>\n",
              "    <tr>\n",
              "      <th>0</th>\n",
              "      <td>7590-VHVEG</td>\n",
              "      <td>DSL</td>\n",
              "      <td>No</td>\n",
              "      <td>Yes</td>\n",
              "      <td>No</td>\n",
              "      <td>No</td>\n",
              "      <td>No</td>\n",
              "      <td>No</td>\n",
              "    </tr>\n",
              "    <tr>\n",
              "      <th>1</th>\n",
              "      <td>5575-GNVDE</td>\n",
              "      <td>DSL</td>\n",
              "      <td>Yes</td>\n",
              "      <td>No</td>\n",
              "      <td>Yes</td>\n",
              "      <td>No</td>\n",
              "      <td>No</td>\n",
              "      <td>No</td>\n",
              "    </tr>\n",
              "    <tr>\n",
              "      <th>2</th>\n",
              "      <td>3668-QPYBK</td>\n",
              "      <td>DSL</td>\n",
              "      <td>Yes</td>\n",
              "      <td>Yes</td>\n",
              "      <td>No</td>\n",
              "      <td>No</td>\n",
              "      <td>No</td>\n",
              "      <td>No</td>\n",
              "    </tr>\n",
              "    <tr>\n",
              "      <th>3</th>\n",
              "      <td>7795-CFOCW</td>\n",
              "      <td>DSL</td>\n",
              "      <td>Yes</td>\n",
              "      <td>No</td>\n",
              "      <td>Yes</td>\n",
              "      <td>Yes</td>\n",
              "      <td>No</td>\n",
              "      <td>No</td>\n",
              "    </tr>\n",
              "    <tr>\n",
              "      <th>4</th>\n",
              "      <td>9237-HQITU</td>\n",
              "      <td>Fiber optic</td>\n",
              "      <td>No</td>\n",
              "      <td>No</td>\n",
              "      <td>No</td>\n",
              "      <td>No</td>\n",
              "      <td>No</td>\n",
              "      <td>No</td>\n",
              "    </tr>\n",
              "  </tbody>\n",
              "</table>\n",
              "</div>"
            ],
            "text/plain": [
              "   customerID InternetService OnlineSecurity OnlineBackup DeviceProtection  \\\n",
              "0  7590-VHVEG             DSL             No          Yes               No   \n",
              "1  5575-GNVDE             DSL            Yes           No              Yes   \n",
              "2  3668-QPYBK             DSL            Yes          Yes               No   \n",
              "3  7795-CFOCW             DSL            Yes           No              Yes   \n",
              "4  9237-HQITU     Fiber optic             No           No               No   \n",
              "\n",
              "  TechSupport StreamingTV StreamingMovies  \n",
              "0          No          No              No  \n",
              "1          No          No              No  \n",
              "2          No          No              No  \n",
              "3         Yes          No              No  \n",
              "4          No          No              No  "
            ]
          },
          "execution_count": 10,
          "metadata": {},
          "output_type": "execute_result"
        }
      ],
      "source": [
        "data_internet.head()"
      ]
    },
    {
      "cell_type": "markdown",
      "metadata": {
        "id": "JgDyjzcCtA5M"
      },
      "source": [
        "Данных по пользователям интернетом меньше, чем в двух первых наборах. Это логично, кто-то из клиентов не пользуется интернетом. Признаки датасета являются бинарными категориальными"
      ]
    },
    {
      "cell_type": "code",
      "execution_count": null,
      "metadata": {
        "id": "mytbf7t9tA5M",
        "outputId": "d679622f-8b92-475a-b81c-a4cdab75e647"
      },
      "outputs": [
        {
          "name": "stdout",
          "output_type": "stream",
          "text": [
            "<class 'pandas.core.frame.DataFrame'>\n",
            "RangeIndex: 6361 entries, 0 to 6360\n",
            "Data columns (total 2 columns):\n",
            " #   Column         Non-Null Count  Dtype \n",
            "---  ------         --------------  ----- \n",
            " 0   customerID     6361 non-null   object\n",
            " 1   MultipleLines  6361 non-null   object\n",
            "dtypes: object(2)\n",
            "memory usage: 99.5+ KB\n"
          ]
        }
      ],
      "source": [
        "data_phone.info()"
      ]
    },
    {
      "cell_type": "code",
      "execution_count": null,
      "metadata": {
        "id": "hiST7cIxtA5M",
        "outputId": "6bb18fc8-7a28-426c-d791-2432fba3ff03"
      },
      "outputs": [
        {
          "data": {
            "text/html": [
              "<div>\n",
              "<style scoped>\n",
              "    .dataframe tbody tr th:only-of-type {\n",
              "        vertical-align: middle;\n",
              "    }\n",
              "\n",
              "    .dataframe tbody tr th {\n",
              "        vertical-align: top;\n",
              "    }\n",
              "\n",
              "    .dataframe thead th {\n",
              "        text-align: right;\n",
              "    }\n",
              "</style>\n",
              "<table border=\"1\" class=\"dataframe\">\n",
              "  <thead>\n",
              "    <tr style=\"text-align: right;\">\n",
              "      <th></th>\n",
              "      <th>customerID</th>\n",
              "      <th>MultipleLines</th>\n",
              "    </tr>\n",
              "  </thead>\n",
              "  <tbody>\n",
              "    <tr>\n",
              "      <th>0</th>\n",
              "      <td>5575-GNVDE</td>\n",
              "      <td>No</td>\n",
              "    </tr>\n",
              "    <tr>\n",
              "      <th>1</th>\n",
              "      <td>3668-QPYBK</td>\n",
              "      <td>No</td>\n",
              "    </tr>\n",
              "    <tr>\n",
              "      <th>2</th>\n",
              "      <td>9237-HQITU</td>\n",
              "      <td>No</td>\n",
              "    </tr>\n",
              "    <tr>\n",
              "      <th>3</th>\n",
              "      <td>9305-CDSKC</td>\n",
              "      <td>Yes</td>\n",
              "    </tr>\n",
              "    <tr>\n",
              "      <th>4</th>\n",
              "      <td>1452-KIOVK</td>\n",
              "      <td>Yes</td>\n",
              "    </tr>\n",
              "  </tbody>\n",
              "</table>\n",
              "</div>"
            ],
            "text/plain": [
              "   customerID MultipleLines\n",
              "0  5575-GNVDE            No\n",
              "1  3668-QPYBK            No\n",
              "2  9237-HQITU            No\n",
              "3  9305-CDSKC           Yes\n",
              "4  1452-KIOVK           Yes"
            ]
          },
          "execution_count": 12,
          "metadata": {},
          "output_type": "execute_result"
        }
      ],
      "source": [
        "data_phone.head()"
      ]
    },
    {
      "cell_type": "markdown",
      "metadata": {
        "id": "Pm6BprGntA5M"
      },
      "source": [
        "В данном наборе данных один бинарный категориальный признак: подключены у клиента несколько телефонных линий или нет. Данных так же меньше, чем в первых двух датасетах"
      ]
    },
    {
      "cell_type": "markdown",
      "metadata": {
        "id": "GqlLu2amtA5N"
      },
      "source": [
        "Вывод: после первичного изучения данных мы выяснили, что есть 2 датасета, объединяющих всех клиентов, и 2, разделяющих клиентов по услугам пользования интернетом и телефоном. Из-за разделения по услугам количество строк отличается, а значит после объединения данных появятся пропуски, которые необходимо обработать. В основном в датасетах присутствуют бинарные категориальные признаки, но есть и количественные"
      ]
    },
    {
      "cell_type": "markdown",
      "metadata": {
        "id": "tHEjLawEtA5N"
      },
      "source": [
        "## Предобработка данных"
      ]
    },
    {
      "cell_type": "markdown",
      "metadata": {
        "id": "it-GM4uKtA5N"
      },
      "source": [
        "### Объединение датасетов"
      ]
    },
    {
      "cell_type": "markdown",
      "metadata": {
        "id": "pZRIZvedtA5N"
      },
      "source": [
        "Для того чтобы наша будущая модель могла прогнозировать отток клиентов необходимо объединить данные датафреймов, так как в разрозненном виде они не дадут нужного результата"
      ]
    },
    {
      "cell_type": "code",
      "execution_count": null,
      "metadata": {
        "id": "lbuxakqbtA5N",
        "outputId": "e0640eba-0ec5-4e8a-8676-354fa9e041ba"
      },
      "outputs": [
        {
          "name": "stdout",
          "output_type": "stream",
          "text": [
            "<class 'pandas.core.frame.DataFrame'>\n",
            "Int64Index: 7043 entries, 0 to 7042\n",
            "Data columns (total 12 columns):\n",
            " #   Column            Non-Null Count  Dtype  \n",
            "---  ------            --------------  -----  \n",
            " 0   customerID        7043 non-null   object \n",
            " 1   BeginDate         7043 non-null   object \n",
            " 2   EndDate           7043 non-null   object \n",
            " 3   Type              7043 non-null   object \n",
            " 4   PaperlessBilling  7043 non-null   object \n",
            " 5   PaymentMethod     7043 non-null   object \n",
            " 6   MonthlyCharges    7043 non-null   float64\n",
            " 7   TotalCharges      7043 non-null   object \n",
            " 8   gender            7043 non-null   object \n",
            " 9   SeniorCitizen     7043 non-null   int64  \n",
            " 10  Partner           7043 non-null   object \n",
            " 11  Dependents        7043 non-null   object \n",
            "dtypes: float64(1), int64(1), object(10)\n",
            "memory usage: 715.3+ KB\n"
          ]
        }
      ],
      "source": [
        "data = data_contract.merge(data_personal, on='customerID', how='inner')\n",
        "data.info()"
      ]
    },
    {
      "cell_type": "markdown",
      "metadata": {
        "id": "on8fZQzmtA5N"
      },
      "source": [
        "Мы использовали метод слияния inner, так как в первых двух датафреймах одинаковое количество строк с уникальными идентификаторами клиентов"
      ]
    },
    {
      "cell_type": "code",
      "execution_count": null,
      "metadata": {
        "id": "P2B3SOoZtA5O",
        "outputId": "da6c4d9a-c421-4076-978e-a39b27de2812"
      },
      "outputs": [
        {
          "name": "stdout",
          "output_type": "stream",
          "text": [
            "<class 'pandas.core.frame.DataFrame'>\n",
            "Int64Index: 7043 entries, 0 to 7042\n",
            "Data columns (total 20 columns):\n",
            " #   Column            Non-Null Count  Dtype  \n",
            "---  ------            --------------  -----  \n",
            " 0   customerID        7043 non-null   object \n",
            " 1   BeginDate         7043 non-null   object \n",
            " 2   EndDate           7043 non-null   object \n",
            " 3   Type              7043 non-null   object \n",
            " 4   PaperlessBilling  7043 non-null   object \n",
            " 5   PaymentMethod     7043 non-null   object \n",
            " 6   MonthlyCharges    7043 non-null   float64\n",
            " 7   TotalCharges      7043 non-null   object \n",
            " 8   gender            7043 non-null   object \n",
            " 9   SeniorCitizen     7043 non-null   int64  \n",
            " 10  Partner           7043 non-null   object \n",
            " 11  Dependents        7043 non-null   object \n",
            " 12  InternetService   5517 non-null   object \n",
            " 13  OnlineSecurity    5517 non-null   object \n",
            " 14  OnlineBackup      5517 non-null   object \n",
            " 15  DeviceProtection  5517 non-null   object \n",
            " 16  TechSupport       5517 non-null   object \n",
            " 17  StreamingTV       5517 non-null   object \n",
            " 18  StreamingMovies   5517 non-null   object \n",
            " 19  MultipleLines     6361 non-null   object \n",
            "dtypes: float64(1), int64(1), object(18)\n",
            "memory usage: 1.1+ MB\n"
          ]
        }
      ],
      "source": [
        "data = data.merge(data_internet, on='customerID', how='left')\n",
        "data = data.merge(data_phone, on='customerID', how='left')\n",
        "data.info()"
      ]
    },
    {
      "cell_type": "markdown",
      "metadata": {
        "id": "rta9pq4RtA5O"
      },
      "source": [
        "Данные по пользователям интернетом и телефоном мы присоединили левым типом, так как нам нужно сохранить все строки. Проверим, как выглядит датасет теперь"
      ]
    },
    {
      "cell_type": "code",
      "execution_count": null,
      "metadata": {
        "scrolled": true,
        "id": "MBDkBbtztA5O",
        "outputId": "81fe182c-757d-4992-94d9-4549b11478b1"
      },
      "outputs": [
        {
          "data": {
            "text/html": [
              "<div>\n",
              "<style scoped>\n",
              "    .dataframe tbody tr th:only-of-type {\n",
              "        vertical-align: middle;\n",
              "    }\n",
              "\n",
              "    .dataframe tbody tr th {\n",
              "        vertical-align: top;\n",
              "    }\n",
              "\n",
              "    .dataframe thead th {\n",
              "        text-align: right;\n",
              "    }\n",
              "</style>\n",
              "<table border=\"1\" class=\"dataframe\">\n",
              "  <thead>\n",
              "    <tr style=\"text-align: right;\">\n",
              "      <th></th>\n",
              "      <th>customerID</th>\n",
              "      <th>BeginDate</th>\n",
              "      <th>EndDate</th>\n",
              "      <th>Type</th>\n",
              "      <th>PaperlessBilling</th>\n",
              "      <th>PaymentMethod</th>\n",
              "      <th>MonthlyCharges</th>\n",
              "      <th>TotalCharges</th>\n",
              "      <th>gender</th>\n",
              "      <th>SeniorCitizen</th>\n",
              "      <th>Partner</th>\n",
              "      <th>Dependents</th>\n",
              "      <th>InternetService</th>\n",
              "      <th>OnlineSecurity</th>\n",
              "      <th>OnlineBackup</th>\n",
              "      <th>DeviceProtection</th>\n",
              "      <th>TechSupport</th>\n",
              "      <th>StreamingTV</th>\n",
              "      <th>StreamingMovies</th>\n",
              "      <th>MultipleLines</th>\n",
              "    </tr>\n",
              "  </thead>\n",
              "  <tbody>\n",
              "    <tr>\n",
              "      <th>0</th>\n",
              "      <td>7590-VHVEG</td>\n",
              "      <td>2020-01-01</td>\n",
              "      <td>No</td>\n",
              "      <td>Month-to-month</td>\n",
              "      <td>Yes</td>\n",
              "      <td>Electronic check</td>\n",
              "      <td>29.85</td>\n",
              "      <td>31.04</td>\n",
              "      <td>Female</td>\n",
              "      <td>0</td>\n",
              "      <td>Yes</td>\n",
              "      <td>No</td>\n",
              "      <td>DSL</td>\n",
              "      <td>No</td>\n",
              "      <td>Yes</td>\n",
              "      <td>No</td>\n",
              "      <td>No</td>\n",
              "      <td>No</td>\n",
              "      <td>No</td>\n",
              "      <td>NaN</td>\n",
              "    </tr>\n",
              "    <tr>\n",
              "      <th>1</th>\n",
              "      <td>5575-GNVDE</td>\n",
              "      <td>2017-04-01</td>\n",
              "      <td>No</td>\n",
              "      <td>One year</td>\n",
              "      <td>No</td>\n",
              "      <td>Mailed check</td>\n",
              "      <td>56.95</td>\n",
              "      <td>2071.84</td>\n",
              "      <td>Male</td>\n",
              "      <td>0</td>\n",
              "      <td>No</td>\n",
              "      <td>No</td>\n",
              "      <td>DSL</td>\n",
              "      <td>Yes</td>\n",
              "      <td>No</td>\n",
              "      <td>Yes</td>\n",
              "      <td>No</td>\n",
              "      <td>No</td>\n",
              "      <td>No</td>\n",
              "      <td>No</td>\n",
              "    </tr>\n",
              "    <tr>\n",
              "      <th>2</th>\n",
              "      <td>3668-QPYBK</td>\n",
              "      <td>2019-10-01</td>\n",
              "      <td>No</td>\n",
              "      <td>Month-to-month</td>\n",
              "      <td>Yes</td>\n",
              "      <td>Mailed check</td>\n",
              "      <td>53.85</td>\n",
              "      <td>226.17</td>\n",
              "      <td>Male</td>\n",
              "      <td>0</td>\n",
              "      <td>No</td>\n",
              "      <td>No</td>\n",
              "      <td>DSL</td>\n",
              "      <td>Yes</td>\n",
              "      <td>Yes</td>\n",
              "      <td>No</td>\n",
              "      <td>No</td>\n",
              "      <td>No</td>\n",
              "      <td>No</td>\n",
              "      <td>No</td>\n",
              "    </tr>\n",
              "    <tr>\n",
              "      <th>3</th>\n",
              "      <td>7795-CFOCW</td>\n",
              "      <td>2016-05-01</td>\n",
              "      <td>No</td>\n",
              "      <td>One year</td>\n",
              "      <td>No</td>\n",
              "      <td>Bank transfer (automatic)</td>\n",
              "      <td>42.30</td>\n",
              "      <td>1960.6</td>\n",
              "      <td>Male</td>\n",
              "      <td>0</td>\n",
              "      <td>No</td>\n",
              "      <td>No</td>\n",
              "      <td>DSL</td>\n",
              "      <td>Yes</td>\n",
              "      <td>No</td>\n",
              "      <td>Yes</td>\n",
              "      <td>Yes</td>\n",
              "      <td>No</td>\n",
              "      <td>No</td>\n",
              "      <td>NaN</td>\n",
              "    </tr>\n",
              "    <tr>\n",
              "      <th>4</th>\n",
              "      <td>9237-HQITU</td>\n",
              "      <td>2019-09-01</td>\n",
              "      <td>No</td>\n",
              "      <td>Month-to-month</td>\n",
              "      <td>Yes</td>\n",
              "      <td>Electronic check</td>\n",
              "      <td>70.70</td>\n",
              "      <td>353.5</td>\n",
              "      <td>Female</td>\n",
              "      <td>0</td>\n",
              "      <td>No</td>\n",
              "      <td>No</td>\n",
              "      <td>Fiber optic</td>\n",
              "      <td>No</td>\n",
              "      <td>No</td>\n",
              "      <td>No</td>\n",
              "      <td>No</td>\n",
              "      <td>No</td>\n",
              "      <td>No</td>\n",
              "      <td>No</td>\n",
              "    </tr>\n",
              "  </tbody>\n",
              "</table>\n",
              "</div>"
            ],
            "text/plain": [
              "   customerID   BeginDate EndDate            Type PaperlessBilling  \\\n",
              "0  7590-VHVEG  2020-01-01      No  Month-to-month              Yes   \n",
              "1  5575-GNVDE  2017-04-01      No        One year               No   \n",
              "2  3668-QPYBK  2019-10-01      No  Month-to-month              Yes   \n",
              "3  7795-CFOCW  2016-05-01      No        One year               No   \n",
              "4  9237-HQITU  2019-09-01      No  Month-to-month              Yes   \n",
              "\n",
              "               PaymentMethod  MonthlyCharges TotalCharges  gender  \\\n",
              "0           Electronic check           29.85        31.04  Female   \n",
              "1               Mailed check           56.95      2071.84    Male   \n",
              "2               Mailed check           53.85       226.17    Male   \n",
              "3  Bank transfer (automatic)           42.30       1960.6    Male   \n",
              "4           Electronic check           70.70        353.5  Female   \n",
              "\n",
              "   SeniorCitizen Partner Dependents InternetService OnlineSecurity  \\\n",
              "0              0     Yes         No             DSL             No   \n",
              "1              0      No         No             DSL            Yes   \n",
              "2              0      No         No             DSL            Yes   \n",
              "3              0      No         No             DSL            Yes   \n",
              "4              0      No         No     Fiber optic             No   \n",
              "\n",
              "  OnlineBackup DeviceProtection TechSupport StreamingTV StreamingMovies  \\\n",
              "0          Yes               No          No          No              No   \n",
              "1           No              Yes          No          No              No   \n",
              "2          Yes               No          No          No              No   \n",
              "3           No              Yes         Yes          No              No   \n",
              "4           No               No          No          No              No   \n",
              "\n",
              "  MultipleLines  \n",
              "0           NaN  \n",
              "1            No  \n",
              "2            No  \n",
              "3           NaN  \n",
              "4            No  "
            ]
          },
          "execution_count": 15,
          "metadata": {},
          "output_type": "execute_result"
        }
      ],
      "source": [
        "data.head()"
      ]
    },
    {
      "cell_type": "markdown",
      "metadata": {
        "id": "vWv5SRRItA5O"
      },
      "source": [
        "Посмотрим, сколько у нас уникальных идентификаторов клиентов и нет ли дубликатов"
      ]
    },
    {
      "cell_type": "code",
      "execution_count": null,
      "metadata": {
        "id": "5Gv_uSU0tA5O",
        "outputId": "eaf35d8d-c462-4fca-f189-956b0e59813e"
      },
      "outputs": [
        {
          "data": {
            "text/plain": [
              "7916-VCCPB    1\n",
              "5519-TEEUH    1\n",
              "7077-XJMET    1\n",
              "2371-KFUOG    1\n",
              "3606-TWKGI    1\n",
              "             ..\n",
              "4236-XPXAV    1\n",
              "2720-WGKHP    1\n",
              "0320-JDNQG    1\n",
              "0835-JKADZ    1\n",
              "6897-UUBNU    1\n",
              "Name: customerID, Length: 7043, dtype: int64"
            ]
          },
          "execution_count": 16,
          "metadata": {},
          "output_type": "execute_result"
        }
      ],
      "source": [
        "data['customerID'].value_counts()"
      ]
    },
    {
      "cell_type": "markdown",
      "metadata": {
        "id": "Y8HqnLfHtA5P"
      },
      "source": [
        "Таким образом, мы объединили наши данные, не потеряв ни одного клиента, и можем приступить к дальнейшей предобработке"
      ]
    },
    {
      "cell_type": "markdown",
      "metadata": {
        "id": "vBQYaHpstA5P"
      },
      "source": [
        "### Работа с типами данных"
      ]
    },
    {
      "cell_type": "markdown",
      "metadata": {
        "id": "uWYGGPN1tA5P"
      },
      "source": [
        "Вернёмся к вопросу с типом данных. В первой части у нас возникло сомнение, что в столбце TotalCharges должны быть объекты типа \"object\", так как в нём отображаются числа. Изменим тип данных на вещественные числа. Если в столбце будут появляться неподходящие значения, они станут пропусками"
      ]
    },
    {
      "cell_type": "code",
      "execution_count": null,
      "metadata": {
        "scrolled": true,
        "id": "ZALa76CDtA5P",
        "outputId": "01d9444a-9fb1-415c-e610-60021c228622"
      },
      "outputs": [
        {
          "data": {
            "text/plain": [
              "count    7032.000000\n",
              "mean     2118.621822\n",
              "std      2112.736199\n",
              "min        19.050000\n",
              "25%       439.745000\n",
              "50%      1345.275000\n",
              "75%      3239.317500\n",
              "max      9221.380000\n",
              "Name: TotalCharges, dtype: float64"
            ]
          },
          "execution_count": 17,
          "metadata": {},
          "output_type": "execute_result"
        }
      ],
      "source": [
        "data['TotalCharges'] = pd.to_numeric(data['TotalCharges'], errors='coerce')\n",
        "data['TotalCharges'].describe()"
      ]
    },
    {
      "cell_type": "markdown",
      "metadata": {
        "id": "lPNfWUgatA5P"
      },
      "source": [
        "Посмотрим, появились ли пропуски"
      ]
    },
    {
      "cell_type": "code",
      "execution_count": null,
      "metadata": {
        "id": "xxZl69UStA5P",
        "outputId": "33d29dd6-2f46-4166-fd9b-ac9757800e92"
      },
      "outputs": [
        {
          "data": {
            "text/plain": [
              "11"
            ]
          },
          "execution_count": 18,
          "metadata": {},
          "output_type": "execute_result"
        }
      ],
      "source": [
        "data['TotalCharges'].isna().sum()"
      ]
    },
    {
      "cell_type": "markdown",
      "metadata": {
        "id": "FQu5120stA5P"
      },
      "source": [
        "Видим, что появились пропущенные значения, а значит далее мы можем поработать с ними и с другими пропусками в данных"
      ]
    },
    {
      "cell_type": "markdown",
      "metadata": {
        "id": "ZUd7ROYttA5P"
      },
      "source": [
        "### Обработка пропусков"
      ]
    },
    {
      "cell_type": "markdown",
      "metadata": {
        "id": "1XyvVgYAtA5P"
      },
      "source": [
        "Обработаем 11 строк с пропусками из предыдущего подпункта. Так как числовых признаков не так много в наборе данных, они будут достаточно сильно влиять на прогноз модели. Это означает, что усреднять данные для этих пропусков - в целом не лучшая идея, потому что мы начнём терять их объективность. Предположим, что пустые значения появились в столбце неспроста и означают то, что клиент просто ещё ничего не платил. Поэтому мы можем заполнить пропуски нулевым значением"
      ]
    },
    {
      "cell_type": "code",
      "execution_count": null,
      "metadata": {
        "id": "8Mx_t7eItA5Q",
        "outputId": "0f302e06-de8b-4cc1-e6b8-b315d15fed34"
      },
      "outputs": [
        {
          "data": {
            "text/plain": [
              "0"
            ]
          },
          "execution_count": 19,
          "metadata": {},
          "output_type": "execute_result"
        }
      ],
      "source": [
        "data['TotalCharges'] = data['TotalCharges'].fillna(0)\n",
        "data['TotalCharges'].isna().sum()"
      ]
    },
    {
      "cell_type": "markdown",
      "metadata": {
        "id": "JCODHImstA5Q"
      },
      "source": [
        "Посмотрим, в каких столбцах и сколько пропусков"
      ]
    },
    {
      "cell_type": "code",
      "execution_count": null,
      "metadata": {
        "id": "nZHn4glQtA5Q",
        "outputId": "5419c7c6-b1e7-4742-f89b-114d918beaa7"
      },
      "outputs": [
        {
          "data": {
            "text/plain": [
              "customerID             0\n",
              "BeginDate              0\n",
              "EndDate                0\n",
              "Type                   0\n",
              "PaperlessBilling       0\n",
              "PaymentMethod          0\n",
              "MonthlyCharges         0\n",
              "TotalCharges           0\n",
              "gender                 0\n",
              "SeniorCitizen          0\n",
              "Partner                0\n",
              "Dependents             0\n",
              "InternetService     1526\n",
              "OnlineSecurity      1526\n",
              "OnlineBackup        1526\n",
              "DeviceProtection    1526\n",
              "TechSupport         1526\n",
              "StreamingTV         1526\n",
              "StreamingMovies     1526\n",
              "MultipleLines        682\n",
              "dtype: int64"
            ]
          },
          "execution_count": 20,
          "metadata": {},
          "output_type": "execute_result"
        }
      ],
      "source": [
        "data.isna().sum()"
      ]
    },
    {
      "cell_type": "markdown",
      "metadata": {
        "id": "8GEQduPytA5Q"
      },
      "source": [
        "Так как клиенты в нашем датасете все уникальные, мы можем утверждать, что 1526 человек не пользуются интернетом, а 682 - телефоном. Для корректного последующего анализа данных мы можем так и обозначить эти пропуски"
      ]
    },
    {
      "cell_type": "code",
      "execution_count": null,
      "metadata": {
        "id": "r-Im9wratA5Q",
        "outputId": "e74719fc-6390-40c6-c1ed-cb062296b126"
      },
      "outputs": [
        {
          "data": {
            "text/plain": [
              "customerID          0\n",
              "BeginDate           0\n",
              "EndDate             0\n",
              "Type                0\n",
              "PaperlessBilling    0\n",
              "PaymentMethod       0\n",
              "MonthlyCharges      0\n",
              "TotalCharges        0\n",
              "gender              0\n",
              "SeniorCitizen       0\n",
              "Partner             0\n",
              "Dependents          0\n",
              "InternetService     0\n",
              "OnlineSecurity      0\n",
              "OnlineBackup        0\n",
              "DeviceProtection    0\n",
              "TechSupport         0\n",
              "StreamingTV         0\n",
              "StreamingMovies     0\n",
              "MultipleLines       0\n",
              "dtype: int64"
            ]
          },
          "execution_count": 21,
          "metadata": {},
          "output_type": "execute_result"
        }
      ],
      "source": [
        "int_features_list = data_internet.columns.to_list()\n",
        "for feature in int_features_list:\n",
        "    data[feature] = data[feature].fillna('no_internet')\n",
        "\n",
        "data['MultipleLines'] = data['MultipleLines'].fillna('no_phone')\n",
        "\n",
        "data.isna().sum()"
      ]
    },
    {
      "cell_type": "code",
      "execution_count": null,
      "metadata": {
        "id": "JHZvfbUztA5Q",
        "outputId": "da473a4e-53ae-46e0-ba5d-e0163b8eff0a"
      },
      "outputs": [
        {
          "data": {
            "text/html": [
              "<div>\n",
              "<style scoped>\n",
              "    .dataframe tbody tr th:only-of-type {\n",
              "        vertical-align: middle;\n",
              "    }\n",
              "\n",
              "    .dataframe tbody tr th {\n",
              "        vertical-align: top;\n",
              "    }\n",
              "\n",
              "    .dataframe thead th {\n",
              "        text-align: right;\n",
              "    }\n",
              "</style>\n",
              "<table border=\"1\" class=\"dataframe\">\n",
              "  <thead>\n",
              "    <tr style=\"text-align: right;\">\n",
              "      <th></th>\n",
              "      <th>customerID</th>\n",
              "      <th>BeginDate</th>\n",
              "      <th>EndDate</th>\n",
              "      <th>Type</th>\n",
              "      <th>PaperlessBilling</th>\n",
              "      <th>PaymentMethod</th>\n",
              "      <th>MonthlyCharges</th>\n",
              "      <th>TotalCharges</th>\n",
              "      <th>gender</th>\n",
              "      <th>SeniorCitizen</th>\n",
              "      <th>Partner</th>\n",
              "      <th>Dependents</th>\n",
              "      <th>InternetService</th>\n",
              "      <th>OnlineSecurity</th>\n",
              "      <th>OnlineBackup</th>\n",
              "      <th>DeviceProtection</th>\n",
              "      <th>TechSupport</th>\n",
              "      <th>StreamingTV</th>\n",
              "      <th>StreamingMovies</th>\n",
              "      <th>MultipleLines</th>\n",
              "    </tr>\n",
              "  </thead>\n",
              "  <tbody>\n",
              "    <tr>\n",
              "      <th>7037</th>\n",
              "      <td>2569-WGERO</td>\n",
              "      <td>2014-02-01</td>\n",
              "      <td>No</td>\n",
              "      <td>Two year</td>\n",
              "      <td>Yes</td>\n",
              "      <td>Bank transfer (automatic)</td>\n",
              "      <td>21.15</td>\n",
              "      <td>1553.26</td>\n",
              "      <td>Female</td>\n",
              "      <td>0</td>\n",
              "      <td>No</td>\n",
              "      <td>No</td>\n",
              "      <td>no_internet</td>\n",
              "      <td>no_internet</td>\n",
              "      <td>no_internet</td>\n",
              "      <td>no_internet</td>\n",
              "      <td>no_internet</td>\n",
              "      <td>no_internet</td>\n",
              "      <td>no_internet</td>\n",
              "      <td>No</td>\n",
              "    </tr>\n",
              "    <tr>\n",
              "      <th>7038</th>\n",
              "      <td>6840-RESVB</td>\n",
              "      <td>2018-02-01</td>\n",
              "      <td>No</td>\n",
              "      <td>One year</td>\n",
              "      <td>Yes</td>\n",
              "      <td>Mailed check</td>\n",
              "      <td>84.80</td>\n",
              "      <td>2035.20</td>\n",
              "      <td>Male</td>\n",
              "      <td>0</td>\n",
              "      <td>Yes</td>\n",
              "      <td>Yes</td>\n",
              "      <td>DSL</td>\n",
              "      <td>Yes</td>\n",
              "      <td>No</td>\n",
              "      <td>Yes</td>\n",
              "      <td>Yes</td>\n",
              "      <td>Yes</td>\n",
              "      <td>Yes</td>\n",
              "      <td>Yes</td>\n",
              "    </tr>\n",
              "    <tr>\n",
              "      <th>7039</th>\n",
              "      <td>2234-XADUH</td>\n",
              "      <td>2014-02-01</td>\n",
              "      <td>No</td>\n",
              "      <td>One year</td>\n",
              "      <td>Yes</td>\n",
              "      <td>Credit card (automatic)</td>\n",
              "      <td>103.20</td>\n",
              "      <td>7430.40</td>\n",
              "      <td>Female</td>\n",
              "      <td>0</td>\n",
              "      <td>Yes</td>\n",
              "      <td>Yes</td>\n",
              "      <td>Fiber optic</td>\n",
              "      <td>No</td>\n",
              "      <td>Yes</td>\n",
              "      <td>Yes</td>\n",
              "      <td>No</td>\n",
              "      <td>Yes</td>\n",
              "      <td>Yes</td>\n",
              "      <td>Yes</td>\n",
              "    </tr>\n",
              "    <tr>\n",
              "      <th>7040</th>\n",
              "      <td>4801-JZAZL</td>\n",
              "      <td>2019-03-01</td>\n",
              "      <td>No</td>\n",
              "      <td>Month-to-month</td>\n",
              "      <td>Yes</td>\n",
              "      <td>Electronic check</td>\n",
              "      <td>29.60</td>\n",
              "      <td>325.60</td>\n",
              "      <td>Female</td>\n",
              "      <td>0</td>\n",
              "      <td>Yes</td>\n",
              "      <td>Yes</td>\n",
              "      <td>DSL</td>\n",
              "      <td>Yes</td>\n",
              "      <td>No</td>\n",
              "      <td>No</td>\n",
              "      <td>No</td>\n",
              "      <td>No</td>\n",
              "      <td>No</td>\n",
              "      <td>no_phone</td>\n",
              "    </tr>\n",
              "    <tr>\n",
              "      <th>7041</th>\n",
              "      <td>8361-LTMKD</td>\n",
              "      <td>2019-07-01</td>\n",
              "      <td>No</td>\n",
              "      <td>Month-to-month</td>\n",
              "      <td>Yes</td>\n",
              "      <td>Mailed check</td>\n",
              "      <td>74.40</td>\n",
              "      <td>520.80</td>\n",
              "      <td>Male</td>\n",
              "      <td>1</td>\n",
              "      <td>Yes</td>\n",
              "      <td>No</td>\n",
              "      <td>Fiber optic</td>\n",
              "      <td>No</td>\n",
              "      <td>No</td>\n",
              "      <td>No</td>\n",
              "      <td>No</td>\n",
              "      <td>No</td>\n",
              "      <td>No</td>\n",
              "      <td>Yes</td>\n",
              "    </tr>\n",
              "    <tr>\n",
              "      <th>7042</th>\n",
              "      <td>3186-AJIEK</td>\n",
              "      <td>2014-08-01</td>\n",
              "      <td>No</td>\n",
              "      <td>Two year</td>\n",
              "      <td>Yes</td>\n",
              "      <td>Bank transfer (automatic)</td>\n",
              "      <td>105.65</td>\n",
              "      <td>7251.82</td>\n",
              "      <td>Male</td>\n",
              "      <td>0</td>\n",
              "      <td>No</td>\n",
              "      <td>No</td>\n",
              "      <td>Fiber optic</td>\n",
              "      <td>Yes</td>\n",
              "      <td>No</td>\n",
              "      <td>Yes</td>\n",
              "      <td>Yes</td>\n",
              "      <td>Yes</td>\n",
              "      <td>Yes</td>\n",
              "      <td>No</td>\n",
              "    </tr>\n",
              "  </tbody>\n",
              "</table>\n",
              "</div>"
            ],
            "text/plain": [
              "      customerID   BeginDate EndDate            Type PaperlessBilling  \\\n",
              "7037  2569-WGERO  2014-02-01      No        Two year              Yes   \n",
              "7038  6840-RESVB  2018-02-01      No        One year              Yes   \n",
              "7039  2234-XADUH  2014-02-01      No        One year              Yes   \n",
              "7040  4801-JZAZL  2019-03-01      No  Month-to-month              Yes   \n",
              "7041  8361-LTMKD  2019-07-01      No  Month-to-month              Yes   \n",
              "7042  3186-AJIEK  2014-08-01      No        Two year              Yes   \n",
              "\n",
              "                  PaymentMethod  MonthlyCharges  TotalCharges  gender  \\\n",
              "7037  Bank transfer (automatic)           21.15       1553.26  Female   \n",
              "7038               Mailed check           84.80       2035.20    Male   \n",
              "7039    Credit card (automatic)          103.20       7430.40  Female   \n",
              "7040           Electronic check           29.60        325.60  Female   \n",
              "7041               Mailed check           74.40        520.80    Male   \n",
              "7042  Bank transfer (automatic)          105.65       7251.82    Male   \n",
              "\n",
              "      SeniorCitizen Partner Dependents InternetService OnlineSecurity  \\\n",
              "7037              0      No         No     no_internet    no_internet   \n",
              "7038              0     Yes        Yes             DSL            Yes   \n",
              "7039              0     Yes        Yes     Fiber optic             No   \n",
              "7040              0     Yes        Yes             DSL            Yes   \n",
              "7041              1     Yes         No     Fiber optic             No   \n",
              "7042              0      No         No     Fiber optic            Yes   \n",
              "\n",
              "     OnlineBackup DeviceProtection  TechSupport  StreamingTV StreamingMovies  \\\n",
              "7037  no_internet      no_internet  no_internet  no_internet     no_internet   \n",
              "7038           No              Yes          Yes          Yes             Yes   \n",
              "7039          Yes              Yes           No          Yes             Yes   \n",
              "7040           No               No           No           No              No   \n",
              "7041           No               No           No           No              No   \n",
              "7042           No              Yes          Yes          Yes             Yes   \n",
              "\n",
              "     MultipleLines  \n",
              "7037            No  \n",
              "7038           Yes  \n",
              "7039           Yes  \n",
              "7040      no_phone  \n",
              "7041           Yes  \n",
              "7042            No  "
            ]
          },
          "execution_count": 22,
          "metadata": {},
          "output_type": "execute_result"
        }
      ],
      "source": [
        "data.tail(6)"
      ]
    },
    {
      "cell_type": "markdown",
      "metadata": {
        "id": "8T8MnaBctA5R"
      },
      "source": [
        "Видим, что заглушки на месте"
      ]
    },
    {
      "cell_type": "markdown",
      "metadata": {
        "id": "DsDsRh0gtA5R"
      },
      "source": [
        "### Создание дополнительных признаков"
      ]
    },
    {
      "cell_type": "markdown",
      "metadata": {
        "id": "b6hFNsthtA5R"
      },
      "source": [
        "Для того, чтобы решить задачу классификации клиентов, нужно выделить целевой признак. В нашем случае подходит признак окончания контракта. Если контракт не окончен, присваиваем ему 0 - клиент не ушёл. Если же дата окончания есть, значит присваем 1 - клиент ушёл"
      ]
    },
    {
      "cell_type": "code",
      "execution_count": null,
      "metadata": {
        "id": "Tl10f5gWtA5R",
        "outputId": "ac0747c0-3899-4dbc-e6cd-17d2e1029582"
      },
      "outputs": [
        {
          "data": {
            "text/plain": [
              "0    5942\n",
              "1    1101\n",
              "Name: Gone, dtype: int64"
            ]
          },
          "execution_count": 23,
          "metadata": {},
          "output_type": "execute_result"
        }
      ],
      "source": [
        "data['Gone'] = data['EndDate']\n",
        "\n",
        "for value in list(data['Gone'].unique()):\n",
        "    if value != 'No':\n",
        "        data['Gone'] = data['Gone'].replace(value, 1)\n",
        "\n",
        "data['Gone'] = data['Gone'].replace('No', 0)\n",
        "data['Gone'].value_counts()"
      ]
    },
    {
      "cell_type": "markdown",
      "metadata": {
        "id": "T36xNt8qtA5R"
      },
      "source": [
        "Добавим ещё один признак, который поможет модели лучше определить класс пользователя. Выделим количество дней действия контракта каждого клиента. Для этого вычтем из даты окончания контракта дату начала. Если даты окончания нет, заменим её на дату выгрузки данных"
      ]
    },
    {
      "cell_type": "code",
      "execution_count": null,
      "metadata": {
        "id": "vFn51SLFtA5R",
        "outputId": "56397d5b-8bf2-4a79-afe1-d1eaa94b9dc7"
      },
      "outputs": [
        {
          "data": {
            "text/plain": [
              "2020-02-01    5942\n",
              "2020-01-01      39\n",
              "2019-12-01      38\n",
              "2018-11-01      35\n",
              "2019-09-01      32\n",
              "              ... \n",
              "2014-12-01       2\n",
              "2014-09-01       2\n",
              "2014-06-01       1\n",
              "2014-11-01       1\n",
              "2014-10-01       1\n",
              "Name: EndDate, Length: 67, dtype: int64"
            ]
          },
          "execution_count": 24,
          "metadata": {},
          "output_type": "execute_result"
        }
      ],
      "source": [
        "data['EndDate'] = data['EndDate'].replace('No', data_load)\n",
        "data['EndDate'].value_counts()"
      ]
    },
    {
      "cell_type": "code",
      "execution_count": null,
      "metadata": {
        "id": "3iSeqnB6tA5R",
        "outputId": "b290b2bc-c2f1-4294-db03-4659c38e9a51"
      },
      "outputs": [
        {
          "data": {
            "text/plain": [
              "0      31\n",
              "1    1036\n",
              "2     123\n",
              "3    1371\n",
              "4     153\n",
              "Name: ContractDuration, dtype: int64"
            ]
          },
          "execution_count": 25,
          "metadata": {},
          "output_type": "execute_result"
        }
      ],
      "source": [
        "data['EndDate'] = pd.to_datetime(data['EndDate'], format='%Y.%m.%d')\n",
        "data['BeginDate'] = pd.to_datetime(data['BeginDate'], format='%Y.%m.%d')\n",
        "\n",
        "data['ContractDuration'] = (data['EndDate'] - data['BeginDate']).dt.days\n",
        "data['ContractDuration'].head()"
      ]
    },
    {
      "cell_type": "markdown",
      "metadata": {
        "id": "TFFXU4cKtA5S"
      },
      "source": [
        "Теперь нам необходимо удалить признаки начала и конца действия контракта, так как они могут привести к утечке данных и модель переобучится"
      ]
    },
    {
      "cell_type": "code",
      "execution_count": null,
      "metadata": {
        "scrolled": true,
        "id": "53GnNsIZtA5S"
      },
      "outputs": [],
      "source": [
        "data = data.drop(['EndDate', 'BeginDate'], axis=1)"
      ]
    },
    {
      "cell_type": "markdown",
      "metadata": {
        "id": "I5nYk2MptA5S"
      },
      "source": [
        "Перед аналитическим блоком установим уникальный номер пользователя как индекс"
      ]
    },
    {
      "cell_type": "code",
      "execution_count": null,
      "metadata": {
        "id": "D2bEcXaItA5S",
        "outputId": "b8e86524-3bdc-45f9-a3b9-7d1019fe3ac6"
      },
      "outputs": [
        {
          "data": {
            "text/html": [
              "<div>\n",
              "<style scoped>\n",
              "    .dataframe tbody tr th:only-of-type {\n",
              "        vertical-align: middle;\n",
              "    }\n",
              "\n",
              "    .dataframe tbody tr th {\n",
              "        vertical-align: top;\n",
              "    }\n",
              "\n",
              "    .dataframe thead th {\n",
              "        text-align: right;\n",
              "    }\n",
              "</style>\n",
              "<table border=\"1\" class=\"dataframe\">\n",
              "  <thead>\n",
              "    <tr style=\"text-align: right;\">\n",
              "      <th></th>\n",
              "      <th>Type</th>\n",
              "      <th>PaperlessBilling</th>\n",
              "      <th>PaymentMethod</th>\n",
              "      <th>MonthlyCharges</th>\n",
              "      <th>TotalCharges</th>\n",
              "      <th>gender</th>\n",
              "      <th>SeniorCitizen</th>\n",
              "      <th>Partner</th>\n",
              "      <th>Dependents</th>\n",
              "      <th>InternetService</th>\n",
              "      <th>OnlineSecurity</th>\n",
              "      <th>OnlineBackup</th>\n",
              "      <th>DeviceProtection</th>\n",
              "      <th>TechSupport</th>\n",
              "      <th>StreamingTV</th>\n",
              "      <th>StreamingMovies</th>\n",
              "      <th>MultipleLines</th>\n",
              "      <th>Gone</th>\n",
              "      <th>ContractDuration</th>\n",
              "    </tr>\n",
              "    <tr>\n",
              "      <th>customerID</th>\n",
              "      <th></th>\n",
              "      <th></th>\n",
              "      <th></th>\n",
              "      <th></th>\n",
              "      <th></th>\n",
              "      <th></th>\n",
              "      <th></th>\n",
              "      <th></th>\n",
              "      <th></th>\n",
              "      <th></th>\n",
              "      <th></th>\n",
              "      <th></th>\n",
              "      <th></th>\n",
              "      <th></th>\n",
              "      <th></th>\n",
              "      <th></th>\n",
              "      <th></th>\n",
              "      <th></th>\n",
              "      <th></th>\n",
              "    </tr>\n",
              "  </thead>\n",
              "  <tbody>\n",
              "    <tr>\n",
              "      <th>7590-VHVEG</th>\n",
              "      <td>Month-to-month</td>\n",
              "      <td>Yes</td>\n",
              "      <td>Electronic check</td>\n",
              "      <td>29.85</td>\n",
              "      <td>31.04</td>\n",
              "      <td>Female</td>\n",
              "      <td>0</td>\n",
              "      <td>Yes</td>\n",
              "      <td>No</td>\n",
              "      <td>DSL</td>\n",
              "      <td>No</td>\n",
              "      <td>Yes</td>\n",
              "      <td>No</td>\n",
              "      <td>No</td>\n",
              "      <td>No</td>\n",
              "      <td>No</td>\n",
              "      <td>no_phone</td>\n",
              "      <td>0</td>\n",
              "      <td>31</td>\n",
              "    </tr>\n",
              "    <tr>\n",
              "      <th>5575-GNVDE</th>\n",
              "      <td>One year</td>\n",
              "      <td>No</td>\n",
              "      <td>Mailed check</td>\n",
              "      <td>56.95</td>\n",
              "      <td>2071.84</td>\n",
              "      <td>Male</td>\n",
              "      <td>0</td>\n",
              "      <td>No</td>\n",
              "      <td>No</td>\n",
              "      <td>DSL</td>\n",
              "      <td>Yes</td>\n",
              "      <td>No</td>\n",
              "      <td>Yes</td>\n",
              "      <td>No</td>\n",
              "      <td>No</td>\n",
              "      <td>No</td>\n",
              "      <td>No</td>\n",
              "      <td>0</td>\n",
              "      <td>1036</td>\n",
              "    </tr>\n",
              "    <tr>\n",
              "      <th>3668-QPYBK</th>\n",
              "      <td>Month-to-month</td>\n",
              "      <td>Yes</td>\n",
              "      <td>Mailed check</td>\n",
              "      <td>53.85</td>\n",
              "      <td>226.17</td>\n",
              "      <td>Male</td>\n",
              "      <td>0</td>\n",
              "      <td>No</td>\n",
              "      <td>No</td>\n",
              "      <td>DSL</td>\n",
              "      <td>Yes</td>\n",
              "      <td>Yes</td>\n",
              "      <td>No</td>\n",
              "      <td>No</td>\n",
              "      <td>No</td>\n",
              "      <td>No</td>\n",
              "      <td>No</td>\n",
              "      <td>0</td>\n",
              "      <td>123</td>\n",
              "    </tr>\n",
              "    <tr>\n",
              "      <th>7795-CFOCW</th>\n",
              "      <td>One year</td>\n",
              "      <td>No</td>\n",
              "      <td>Bank transfer (automatic)</td>\n",
              "      <td>42.30</td>\n",
              "      <td>1960.60</td>\n",
              "      <td>Male</td>\n",
              "      <td>0</td>\n",
              "      <td>No</td>\n",
              "      <td>No</td>\n",
              "      <td>DSL</td>\n",
              "      <td>Yes</td>\n",
              "      <td>No</td>\n",
              "      <td>Yes</td>\n",
              "      <td>Yes</td>\n",
              "      <td>No</td>\n",
              "      <td>No</td>\n",
              "      <td>no_phone</td>\n",
              "      <td>0</td>\n",
              "      <td>1371</td>\n",
              "    </tr>\n",
              "    <tr>\n",
              "      <th>9237-HQITU</th>\n",
              "      <td>Month-to-month</td>\n",
              "      <td>Yes</td>\n",
              "      <td>Electronic check</td>\n",
              "      <td>70.70</td>\n",
              "      <td>353.50</td>\n",
              "      <td>Female</td>\n",
              "      <td>0</td>\n",
              "      <td>No</td>\n",
              "      <td>No</td>\n",
              "      <td>Fiber optic</td>\n",
              "      <td>No</td>\n",
              "      <td>No</td>\n",
              "      <td>No</td>\n",
              "      <td>No</td>\n",
              "      <td>No</td>\n",
              "      <td>No</td>\n",
              "      <td>No</td>\n",
              "      <td>0</td>\n",
              "      <td>153</td>\n",
              "    </tr>\n",
              "  </tbody>\n",
              "</table>\n",
              "</div>"
            ],
            "text/plain": [
              "                      Type PaperlessBilling              PaymentMethod  \\\n",
              "customerID                                                               \n",
              "7590-VHVEG  Month-to-month              Yes           Electronic check   \n",
              "5575-GNVDE        One year               No               Mailed check   \n",
              "3668-QPYBK  Month-to-month              Yes               Mailed check   \n",
              "7795-CFOCW        One year               No  Bank transfer (automatic)   \n",
              "9237-HQITU  Month-to-month              Yes           Electronic check   \n",
              "\n",
              "            MonthlyCharges  TotalCharges  gender  SeniorCitizen Partner  \\\n",
              "customerID                                                                \n",
              "7590-VHVEG           29.85         31.04  Female              0     Yes   \n",
              "5575-GNVDE           56.95       2071.84    Male              0      No   \n",
              "3668-QPYBK           53.85        226.17    Male              0      No   \n",
              "7795-CFOCW           42.30       1960.60    Male              0      No   \n",
              "9237-HQITU           70.70        353.50  Female              0      No   \n",
              "\n",
              "           Dependents InternetService OnlineSecurity OnlineBackup  \\\n",
              "customerID                                                          \n",
              "7590-VHVEG         No             DSL             No          Yes   \n",
              "5575-GNVDE         No             DSL            Yes           No   \n",
              "3668-QPYBK         No             DSL            Yes          Yes   \n",
              "7795-CFOCW         No             DSL            Yes           No   \n",
              "9237-HQITU         No     Fiber optic             No           No   \n",
              "\n",
              "           DeviceProtection TechSupport StreamingTV StreamingMovies  \\\n",
              "customerID                                                            \n",
              "7590-VHVEG               No          No          No              No   \n",
              "5575-GNVDE              Yes          No          No              No   \n",
              "3668-QPYBK               No          No          No              No   \n",
              "7795-CFOCW              Yes         Yes          No              No   \n",
              "9237-HQITU               No          No          No              No   \n",
              "\n",
              "           MultipleLines  Gone  ContractDuration  \n",
              "customerID                                        \n",
              "7590-VHVEG      no_phone     0                31  \n",
              "5575-GNVDE            No     0              1036  \n",
              "3668-QPYBK            No     0               123  \n",
              "7795-CFOCW      no_phone     0              1371  \n",
              "9237-HQITU            No     0               153  "
            ]
          },
          "execution_count": 27,
          "metadata": {},
          "output_type": "execute_result"
        }
      ],
      "source": [
        "data = data.set_index('customerID')\n",
        "data.head()"
      ]
    },
    {
      "cell_type": "markdown",
      "metadata": {
        "id": "1HCdMTkLtA5S"
      },
      "source": [
        "Вывод: в этом разделе мы объединили наши данные в общий датафрейм, починили типы данных, обработали пропуски и выделили целевой признак, а также добавили дополнительный для лучшего обучения моделей. Теперь приступим к исследовательскому анализу, который поможет лучше раскрыть имеющиеся данные"
      ]
    },
    {
      "cell_type": "markdown",
      "metadata": {
        "id": "C7rDeLuCtA5S"
      },
      "source": [
        "## Исследовательский анализ"
      ]
    },
    {
      "cell_type": "markdown",
      "metadata": {
        "id": "I4AjQLoctA5S"
      },
      "source": [
        "### Изучение факторов влияния на отток клиентов"
      ]
    },
    {
      "cell_type": "markdown",
      "metadata": {
        "id": "cfGS9a4ZtA5S"
      },
      "source": [
        "Оценим признаки, представленные числами, с точки зрения целевого. Сначала посмотрим, как в целом выглядят распределения данных"
      ]
    },
    {
      "cell_type": "code",
      "execution_count": null,
      "metadata": {
        "scrolled": true,
        "id": "-trKMTMPtA5S",
        "outputId": "4911de81-9e18-407b-ca59-f39988677d1c"
      },
      "outputs": [
        {
          "data": {
            "image/png": "[encoded data removed]",
            "text/plain": [
              "<Figure size 1080x1080 with 6 Axes>"
            ]
          },
          "metadata": {
            "needs_background": "light"
          },
          "output_type": "display_data"
        }
      ],
      "source": [
        "data.hist(figsize=(15, 15));"
      ]
    },
    {
      "cell_type": "markdown",
      "metadata": {
        "id": "n1k0X6XctA5T"
      },
      "source": [
        "Видим, что распределения вполне корректные. Выглядит интересно, что распределение целевого признака и признака Пенсионер очень похожи.\n",
        "\n",
        "Теперь оставим выборку только активных пользователей и построим такие же гистограммы"
      ]
    },
    {
      "cell_type": "code",
      "execution_count": null,
      "metadata": {
        "scrolled": true,
        "id": "U1lF0pectA5T",
        "outputId": "1f80fe65-3913-4d38-d3e1-35fd44a9a591"
      },
      "outputs": [
        {
          "data": {
            "image/png": "[encoded data removed]",
            "text/plain": [
              "<Figure size 1080x1080 with 6 Axes>"
            ]
          },
          "metadata": {
            "needs_background": "light"
          },
          "output_type": "display_data"
        }
      ],
      "source": [
        "data_active = data.query('Gone == 0')\n",
        "data_active.hist(figsize=(15, 15));"
      ]
    },
    {
      "cell_type": "markdown",
      "metadata": {
        "id": "O782gwWXtA5T"
      },
      "source": [
        "На графиках мало что изменилось. Это логично, ведь большую часть данных составляют именно действующие клиенты, и то, что на этих графиках не произошло значимых изменений говорит о разнородности ушедших клиентов.\n",
        "\n",
        "Лучше составить их портрет поможет выделение выборки ушедших пользователей"
      ]
    },
    {
      "cell_type": "code",
      "execution_count": null,
      "metadata": {
        "scrolled": true,
        "id": "6YQWKWNptA5T",
        "outputId": "d9fdbe7d-7f18-46a7-93aa-ab4ab159c345"
      },
      "outputs": [
        {
          "data": {
            "image/png": "[encoded data removed]",
            "text/plain": [
              "<Figure size 1080x1080 with 6 Axes>"
            ]
          },
          "metadata": {
            "needs_background": "light"
          },
          "output_type": "display_data"
        }
      ],
      "source": [
        "data_inactive = data.query('Gone == 1')\n",
        "data_inactive.hist(figsize=(15, 15));"
      ]
    },
    {
      "cell_type": "markdown",
      "metadata": {
        "id": "VSAwzpGFtA5T"
      },
      "source": [
        "Здесь ситуация изменилась. На графиках видно, что относительное количество ушедших пенсионеров больше относительного количества действующих.\n",
        "\n",
        "Средний ежемесячный платёж также выше у тех, кто уходит, как и среднее общее количество потраченных денег на услуги. Продолжительность контракта ушедших в основном от 500 до 1500 дней - в этом диапазоне мы видим провал среди действующих клиентов. Это говорит о том, что оператор связи делает недостаточно для удержания своих среднесрочных клиентов.\n",
        "\n",
        "Предположительно различные привилегии доступны только для очень давних клиентов и для новых. Поэтому пользователи со сроком 2-4 года отказываются от услуг в пользу конкурентов"
      ]
    },
    {
      "cell_type": "markdown",
      "metadata": {
        "id": "NrbUhAwdtA5U"
      },
      "source": [
        "Рассмотрим поближе различия ежемесячных платежей в зависимости от того, ушедший пользователь или нет"
      ]
    },
    {
      "cell_type": "code",
      "execution_count": null,
      "metadata": {
        "scrolled": false,
        "id": "M4VE0ufItA5U",
        "outputId": "a7b5387f-21ad-4803-8898-e596b6a50f70"
      },
      "outputs": [
        {
          "data": {
            "image/png": "[encoded data removed]",
            "text/plain": [
              "<Figure size 720x360 with 1 Axes>"
            ]
          },
          "metadata": {
            "needs_background": "light"
          },
          "output_type": "display_data"
        }
      ],
      "source": [
        "plt.figure(figsize=(10, 5))\n",
        "fig = sns.histplot(data, x='MonthlyCharges', hue='Gone', multiple=\"stack\")\n",
        "plt.show()"
      ]
    },
    {
      "cell_type": "markdown",
      "metadata": {
        "id": "-8QnAXY9tA5U"
      },
      "source": [
        "Ушедшие клиенты в среднем платят больше"
      ]
    },
    {
      "cell_type": "markdown",
      "metadata": {
        "id": "b_jkAhmQtA5U"
      },
      "source": [
        "Посмотрим на общее количество платежей"
      ]
    },
    {
      "cell_type": "code",
      "execution_count": null,
      "metadata": {
        "id": "TSgLXX5rtA5U",
        "outputId": "bae523fa-8566-4785-8ac1-eced5fd322bc"
      },
      "outputs": [
        {
          "data": {
            "image/png": "[encoded data removed]",
            "text/plain": [
              "<Figure size 720x360 with 1 Axes>"
            ]
          },
          "metadata": {
            "needs_background": "light"
          },
          "output_type": "display_data"
        }
      ],
      "source": [
        "plt.figure(figsize=(10, 5))\n",
        "fig = sns.histplot(data, x='TotalCharges', hue='Gone', multiple=\"stack\")\n",
        "plt.show()"
      ]
    },
    {
      "cell_type": "markdown",
      "metadata": {
        "id": "WPzY71g8tA5V"
      },
      "source": [
        "Видно смещение доли ушедших клиентов в правую сторону, значит в среднем они платили больше"
      ]
    },
    {
      "cell_type": "markdown",
      "metadata": {
        "id": "UQnp8K_-tA5V"
      },
      "source": [
        "Обратим внимание на длительность контракта"
      ]
    },
    {
      "cell_type": "code",
      "execution_count": null,
      "metadata": {
        "id": "xiIOEDZ3tA5V",
        "outputId": "462bfe95-1ef6-46f3-9045-625e2267fb29"
      },
      "outputs": [
        {
          "data": {
            "image/png": "[encoded data removed]",
            "text/plain": [
              "<Figure size 720x360 with 1 Axes>"
            ]
          },
          "metadata": {
            "needs_background": "light"
          },
          "output_type": "display_data"
        }
      ],
      "source": [
        "plt.figure(figsize=(10, 5))\n",
        "fig = sns.histplot(data, x='ContractDuration', hue='Gone', multiple=\"stack\")\n",
        "plt.show()"
      ]
    },
    {
      "cell_type": "markdown",
      "metadata": {
        "id": "X7T4i3UUtA5V"
      },
      "source": [
        "Видим, что основная часть ушедших пользователей сосредоточена там, где среди активных есть провал. Значит компания теряет среднесрочных пользователей"
      ]
    },
    {
      "cell_type": "markdown",
      "metadata": {
        "id": "5F8uomn2tA5V"
      },
      "source": [
        "### Взаимосвязь признаков"
      ]
    },
    {
      "cell_type": "markdown",
      "metadata": {
        "id": "IXHhYYTctA5V"
      },
      "source": [
        "Чтобы определить, действительно ли все признаки имеют значение для целевого признака, а также же их мультиколлинеарность, построим матрицу корреляции с помощью библиотеки phik, которая принимает и численные, и категориальные признаки и находит взаимосвязь между ними"
      ]
    },
    {
      "cell_type": "code",
      "execution_count": null,
      "metadata": {
        "id": "8bShVKYLtA5V",
        "outputId": "3127c693-4a87-4c34-e4e6-0a1ffc730b22"
      },
      "outputs": [
        {
          "name": "stdout",
          "output_type": "stream",
          "text": [
            "interval columns not set, guessing: ['MonthlyCharges', 'TotalCharges', 'SeniorCitizen', 'Gone', 'ContractDuration']\n"
          ]
        },
        {
          "data": {
            "image/png": "[encoded data removed]",
            "text/plain": [
              "<Figure size 1080x1080 with 2 Axes>"
            ]
          },
          "metadata": {
            "needs_background": "light"
          },
          "output_type": "display_data"
        }
      ],
      "source": [
        "phik_matrix = data.phik_matrix()\n",
        "\n",
        "plot_correlation_matrix(phik_matrix.values, x_labels=phik_matrix.columns, y_labels=phik_matrix.index,\n",
        "                        vmin=0, vmax=1, color_map='Blues', title=r'Корреляция признаков', fontsize_factor=1.5,\n",
        "                        figsize=(15,15))\n",
        "plt.tight_layout()"
      ]
    },
    {
      "cell_type": "markdown",
      "metadata": {
        "id": "c_s6SHYqtA5V"
      },
      "source": [
        "На матрице видим, что столбец Gender практически не имеет взаимосвязи с другими признаками, а значит он не имеет смысла, и его можно удалить.\n",
        "\n",
        "Обратим внимание на очень связанные между собой признаки, которые объединяют в себе услугу пользования интернетом. В данном случае это не означает мультиколлинеарность, так как по сути пользователь покупает пакетом эту услугу, поэтому взаимосвязь признаков логична и не скажется отрицательно на работе модели.\n",
        "\n",
        "Также отметим, что синтетический признак длительности контракта имеет наибольшее влияние на целевой признак, что поможет более точно определять уход клиента будущей модели"
      ]
    },
    {
      "cell_type": "code",
      "execution_count": null,
      "metadata": {
        "id": "JqOGh6YOtA5W",
        "outputId": "bf64e260-0a5b-4b22-dd9e-c8241375d76c"
      },
      "outputs": [
        {
          "data": {
            "text/html": [
              "<div>\n",
              "<style scoped>\n",
              "    .dataframe tbody tr th:only-of-type {\n",
              "        vertical-align: middle;\n",
              "    }\n",
              "\n",
              "    .dataframe tbody tr th {\n",
              "        vertical-align: top;\n",
              "    }\n",
              "\n",
              "    .dataframe thead th {\n",
              "        text-align: right;\n",
              "    }\n",
              "</style>\n",
              "<table border=\"1\" class=\"dataframe\">\n",
              "  <thead>\n",
              "    <tr style=\"text-align: right;\">\n",
              "      <th></th>\n",
              "      <th>Type</th>\n",
              "      <th>PaperlessBilling</th>\n",
              "      <th>PaymentMethod</th>\n",
              "      <th>MonthlyCharges</th>\n",
              "      <th>TotalCharges</th>\n",
              "      <th>SeniorCitizen</th>\n",
              "      <th>Partner</th>\n",
              "      <th>Dependents</th>\n",
              "      <th>InternetService</th>\n",
              "      <th>OnlineSecurity</th>\n",
              "      <th>OnlineBackup</th>\n",
              "      <th>DeviceProtection</th>\n",
              "      <th>TechSupport</th>\n",
              "      <th>StreamingTV</th>\n",
              "      <th>StreamingMovies</th>\n",
              "      <th>MultipleLines</th>\n",
              "      <th>Gone</th>\n",
              "      <th>ContractDuration</th>\n",
              "    </tr>\n",
              "    <tr>\n",
              "      <th>customerID</th>\n",
              "      <th></th>\n",
              "      <th></th>\n",
              "      <th></th>\n",
              "      <th></th>\n",
              "      <th></th>\n",
              "      <th></th>\n",
              "      <th></th>\n",
              "      <th></th>\n",
              "      <th></th>\n",
              "      <th></th>\n",
              "      <th></th>\n",
              "      <th></th>\n",
              "      <th></th>\n",
              "      <th></th>\n",
              "      <th></th>\n",
              "      <th></th>\n",
              "      <th></th>\n",
              "      <th></th>\n",
              "    </tr>\n",
              "  </thead>\n",
              "  <tbody>\n",
              "    <tr>\n",
              "      <th>7590-VHVEG</th>\n",
              "      <td>Month-to-month</td>\n",
              "      <td>Yes</td>\n",
              "      <td>Electronic check</td>\n",
              "      <td>29.85</td>\n",
              "      <td>31.04</td>\n",
              "      <td>0</td>\n",
              "      <td>Yes</td>\n",
              "      <td>No</td>\n",
              "      <td>DSL</td>\n",
              "      <td>No</td>\n",
              "      <td>Yes</td>\n",
              "      <td>No</td>\n",
              "      <td>No</td>\n",
              "      <td>No</td>\n",
              "      <td>No</td>\n",
              "      <td>no_phone</td>\n",
              "      <td>0</td>\n",
              "      <td>31</td>\n",
              "    </tr>\n",
              "    <tr>\n",
              "      <th>5575-GNVDE</th>\n",
              "      <td>One year</td>\n",
              "      <td>No</td>\n",
              "      <td>Mailed check</td>\n",
              "      <td>56.95</td>\n",
              "      <td>2071.84</td>\n",
              "      <td>0</td>\n",
              "      <td>No</td>\n",
              "      <td>No</td>\n",
              "      <td>DSL</td>\n",
              "      <td>Yes</td>\n",
              "      <td>No</td>\n",
              "      <td>Yes</td>\n",
              "      <td>No</td>\n",
              "      <td>No</td>\n",
              "      <td>No</td>\n",
              "      <td>No</td>\n",
              "      <td>0</td>\n",
              "      <td>1036</td>\n",
              "    </tr>\n",
              "    <tr>\n",
              "      <th>3668-QPYBK</th>\n",
              "      <td>Month-to-month</td>\n",
              "      <td>Yes</td>\n",
              "      <td>Mailed check</td>\n",
              "      <td>53.85</td>\n",
              "      <td>226.17</td>\n",
              "      <td>0</td>\n",
              "      <td>No</td>\n",
              "      <td>No</td>\n",
              "      <td>DSL</td>\n",
              "      <td>Yes</td>\n",
              "      <td>Yes</td>\n",
              "      <td>No</td>\n",
              "      <td>No</td>\n",
              "      <td>No</td>\n",
              "      <td>No</td>\n",
              "      <td>No</td>\n",
              "      <td>0</td>\n",
              "      <td>123</td>\n",
              "    </tr>\n",
              "    <tr>\n",
              "      <th>7795-CFOCW</th>\n",
              "      <td>One year</td>\n",
              "      <td>No</td>\n",
              "      <td>Bank transfer (automatic)</td>\n",
              "      <td>42.30</td>\n",
              "      <td>1960.60</td>\n",
              "      <td>0</td>\n",
              "      <td>No</td>\n",
              "      <td>No</td>\n",
              "      <td>DSL</td>\n",
              "      <td>Yes</td>\n",
              "      <td>No</td>\n",
              "      <td>Yes</td>\n",
              "      <td>Yes</td>\n",
              "      <td>No</td>\n",
              "      <td>No</td>\n",
              "      <td>no_phone</td>\n",
              "      <td>0</td>\n",
              "      <td>1371</td>\n",
              "    </tr>\n",
              "    <tr>\n",
              "      <th>9237-HQITU</th>\n",
              "      <td>Month-to-month</td>\n",
              "      <td>Yes</td>\n",
              "      <td>Electronic check</td>\n",
              "      <td>70.70</td>\n",
              "      <td>353.50</td>\n",
              "      <td>0</td>\n",
              "      <td>No</td>\n",
              "      <td>No</td>\n",
              "      <td>Fiber optic</td>\n",
              "      <td>No</td>\n",
              "      <td>No</td>\n",
              "      <td>No</td>\n",
              "      <td>No</td>\n",
              "      <td>No</td>\n",
              "      <td>No</td>\n",
              "      <td>No</td>\n",
              "      <td>0</td>\n",
              "      <td>153</td>\n",
              "    </tr>\n",
              "  </tbody>\n",
              "</table>\n",
              "</div>"
            ],
            "text/plain": [
              "                      Type PaperlessBilling              PaymentMethod  \\\n",
              "customerID                                                               \n",
              "7590-VHVEG  Month-to-month              Yes           Electronic check   \n",
              "5575-GNVDE        One year               No               Mailed check   \n",
              "3668-QPYBK  Month-to-month              Yes               Mailed check   \n",
              "7795-CFOCW        One year               No  Bank transfer (automatic)   \n",
              "9237-HQITU  Month-to-month              Yes           Electronic check   \n",
              "\n",
              "            MonthlyCharges  TotalCharges  SeniorCitizen Partner Dependents  \\\n",
              "customerID                                                                   \n",
              "7590-VHVEG           29.85         31.04              0     Yes         No   \n",
              "5575-GNVDE           56.95       2071.84              0      No         No   \n",
              "3668-QPYBK           53.85        226.17              0      No         No   \n",
              "7795-CFOCW           42.30       1960.60              0      No         No   \n",
              "9237-HQITU           70.70        353.50              0      No         No   \n",
              "\n",
              "           InternetService OnlineSecurity OnlineBackup DeviceProtection  \\\n",
              "customerID                                                                \n",
              "7590-VHVEG             DSL             No          Yes               No   \n",
              "5575-GNVDE             DSL            Yes           No              Yes   \n",
              "3668-QPYBK             DSL            Yes          Yes               No   \n",
              "7795-CFOCW             DSL            Yes           No              Yes   \n",
              "9237-HQITU     Fiber optic             No           No               No   \n",
              "\n",
              "           TechSupport StreamingTV StreamingMovies MultipleLines  Gone  \\\n",
              "customerID                                                               \n",
              "7590-VHVEG          No          No              No      no_phone     0   \n",
              "5575-GNVDE          No          No              No            No     0   \n",
              "3668-QPYBK          No          No              No            No     0   \n",
              "7795-CFOCW         Yes          No              No      no_phone     0   \n",
              "9237-HQITU          No          No              No            No     0   \n",
              "\n",
              "            ContractDuration  \n",
              "customerID                    \n",
              "7590-VHVEG                31  \n",
              "5575-GNVDE              1036  \n",
              "3668-QPYBK               123  \n",
              "7795-CFOCW              1371  \n",
              "9237-HQITU               153  "
            ]
          },
          "execution_count": 35,
          "metadata": {},
          "output_type": "execute_result"
        }
      ],
      "source": [
        "data = data.drop(['gender'], axis=1)\n",
        "data.head()"
      ]
    },
    {
      "cell_type": "markdown",
      "metadata": {
        "id": "gD8Yu4U4tA5W"
      },
      "source": [
        "Вывод: в ходе анализа мы выяснили, что большинство уходящих клиентов имеют срок контракта примерно от 2 до 4 лет, при этом уходящие клиенты в среднем больше платят ежемесячно и имеют в среднем большее итоговое значение платежей.\n",
        "\n",
        "Самым не взаимосвязанным с другими признаком оказался пол пользователя, а самым влияющим на целевую переменную - созданный нами признак длительности контракта.\n",
        "\n",
        "Таким образом, теперь мы имеем представление об уходящем клиенте и знаем, какие из имеющихся у нас признаков в значительной степени коррелируют с его уходом"
      ]
    },
    {
      "cell_type": "markdown",
      "metadata": {
        "id": "u4VPjAhytA5W"
      },
      "source": [
        "## Обучение моделей"
      ]
    },
    {
      "cell_type": "markdown",
      "metadata": {
        "id": "Fl1v35gltA5W"
      },
      "source": [
        "### Выделение выборок"
      ]
    },
    {
      "cell_type": "markdown",
      "metadata": {
        "id": "ya94S9u8tA5W"
      },
      "source": [
        "Разделим наш датасет на целевой признак и остальные признаки. В свою очередь их разделим на обучающую и тестовую выборки, отделив на тест четвёртую часть данных"
      ]
    },
    {
      "cell_type": "code",
      "execution_count": null,
      "metadata": {
        "id": "NmVy2YlCtA5W"
      },
      "outputs": [],
      "source": [
        "features = data.drop(['Gone'], axis=1)\n",
        "target = data['Gone']\n",
        "\n",
        "features_train, features_test, target_train, target_test = train_test_split(features, target, test_size=0.25,\n",
        "                                                                            stratify=target, random_state=RANDOM_STATE)"
      ]
    },
    {
      "cell_type": "markdown",
      "metadata": {
        "id": "uZYaoy25tA5W"
      },
      "source": [
        "### Кодирование данных"
      ]
    },
    {
      "cell_type": "markdown",
      "metadata": {
        "id": "EQsAq8XFtA5W"
      },
      "source": [
        "Выделим категориальные признаки и закодируем в численные с помощью техники прямого кодирования, избегая дамми-ловушки"
      ]
    },
    {
      "cell_type": "code",
      "execution_count": null,
      "metadata": {
        "id": "UXxii55ptA5W"
      },
      "outputs": [],
      "source": [
        "ohe_features = features_train.select_dtypes(include='object').columns.to_list()\n",
        "\n",
        "encoder_ohe = OneHotEncoder(drop='first', handle_unknown='ignore', sparse=False)\n",
        "\n",
        "encoder_ohe.fit(features_train[ohe_features])\n",
        "\n",
        "features_train[\n",
        "    encoder_ohe.get_feature_names_out()\n",
        "] = encoder_ohe.transform(features_train[ohe_features])\n",
        "\n",
        "features_train = features_train.drop(ohe_features, axis=1)"
      ]
    },
    {
      "cell_type": "markdown",
      "metadata": {
        "id": "VwHNO8mFtA5W"
      },
      "source": [
        "### Обучение моделей"
      ]
    },
    {
      "cell_type": "code",
      "execution_count": null,
      "metadata": {
        "id": "eXwx5f8etA5X",
        "outputId": "4710befb-deb3-4cf9-8037-3daee0a92996"
      },
      "outputs": [
        {
          "name": "stdout",
          "output_type": "stream",
          "text": [
            "ROC-AUC score случайного леса: 0.7925880124146896\n",
            "Лучшие параметры: {'max_depth': 3, 'n_estimators': 30}\n"
          ]
        }
      ],
      "source": [
        "params = {\n",
        "    'max_depth': range(1, 4),\n",
        "    'n_estimators': range(10, 31, 10)\n",
        "}\n",
        "rf_model = GridSearchCV(RandomForestClassifier(random_state=RANDOM_STATE,\n",
        "                                                       class_weight='balanced'), params, cv=5, scoring='roc_auc')\n",
        "rf_model.fit(features_train, target_train)\n",
        "\n",
        "print('ROC-AUC score случайного леса:', rf_model.best_score_)\n",
        "print('Лучшие параметры:', rf_model.best_params_)"
      ]
    },
    {
      "cell_type": "code",
      "execution_count": null,
      "metadata": {
        "id": "dcNCWV39tA5X",
        "outputId": "bb5d033e-af9b-4e09-8693-bcbda37e2477"
      },
      "outputs": [
        {
          "name": "stdout",
          "output_type": "stream",
          "text": [
            "ROC-AUC score решающего деерва: 0.7837589262203087\n",
            "Лучшие параметры: {'max_depth': 6}\n"
          ]
        }
      ],
      "source": [
        "params = {\n",
        "    'max_depth': range(1, 7),\n",
        "}\n",
        "dt_model = GridSearchCV(DecisionTreeClassifier(random_state=RANDOM_STATE,\n",
        "                                                       class_weight='balanced'), params, cv=5, scoring='roc_auc')\n",
        "dt_model.fit(features_train, target_train)\n",
        "\n",
        "print('ROC-AUC score решающего деерва:', dt_model.best_score_)\n",
        "print('Лучшие параметры:', dt_model.best_params_)"
      ]
    },
    {
      "cell_type": "markdown",
      "metadata": {
        "id": "ciQtitMwtA5X"
      },
      "source": [
        "Для модели Catboost не нужно кодировать данные, поэтому переназначим переменные для выборок и передадим данные в оригинальном виде"
      ]
    },
    {
      "cell_type": "code",
      "execution_count": null,
      "metadata": {
        "id": "eDlvtdE9tA5X",
        "outputId": "2cecbc8b-4962-4cb0-9803-3892e11483fc"
      },
      "outputs": [
        {
          "name": "stdout",
          "output_type": "stream",
          "text": [
            "ROC-AUC score Catboost: 0.9280110743680746\n",
            "Лучшие параметры: {'learning_rate': 0.5, 'max_depth': 2, 'n_estimators': 450}\n"
          ]
        }
      ],
      "source": [
        "features_train, features_test, target_train, target_test = train_test_split(features, target, test_size=0.25,\n",
        "                                                                            stratify=target, random_state=RANDOM_STATE)\n",
        "\n",
        "params = {\n",
        "    'max_depth': range(1, 3),\n",
        "    'n_estimators': range(450, 501, 10),\n",
        "    'learning_rate': np.arange(0.5, 0.7, 0.1)\n",
        "}\n",
        "cat_model = GridSearchCV(CatBoostClassifier(random_state=RANDOM_STATE, verbose=False,\n",
        "                                           cat_features=features_train.select_dtypes(include='object').columns.to_list()),\n",
        "                                           params, cv=5, scoring='roc_auc')\n",
        "cat_model.fit(features_train, target_train)\n",
        "\n",
        "print('ROC-AUC score Catboost:', cat_model.best_score_)\n",
        "print('Лучшие параметры:', cat_model.best_params_)"
      ]
    },
    {
      "cell_type": "markdown",
      "metadata": {
        "id": "SbM2hMDDtA5Y"
      },
      "source": [
        "Вывод: в этом разделе мы разделили выборки для обучения и теста, закодировали данные для моделей с деревьями, обучили несколько моделей и получили отличные результаты на одной из них.\n",
        "\n",
        "Этой моделью оказался градиентный бустинг CatBoost c параметрами learning_rate=0.5, max_depth=2, n_estimators=450.\n",
        "\n",
        "Таким образом, теперь мы можем протестировать модель и заодно узнаем её точность по метрике accuracy"
      ]
    },
    {
      "cell_type": "markdown",
      "metadata": {
        "id": "W9YlXgM-tA5Y"
      },
      "source": [
        "## Тестирование лучшей модели"
      ]
    },
    {
      "cell_type": "markdown",
      "metadata": {
        "id": "1jtPK5XQtA5Y"
      },
      "source": [
        "Используем лучшие подобранные гиперпараметры Catboost для тестирования"
      ]
    },
    {
      "cell_type": "code",
      "execution_count": null,
      "metadata": {
        "id": "xdaxG2obtA5Y",
        "outputId": "ea1a2e30-1794-4291-a3cd-5173fac3bffe"
      },
      "outputs": [
        {
          "name": "stdout",
          "output_type": "stream",
          "text": [
            "ROC-AUC score CatBoost на тестовой выборке: 0.9287544353358621\n",
            "Accuracy score CatBoost на тестовой выборке: 0.9312890403180011\n"
          ]
        }
      ],
      "source": [
        "model = CatBoostClassifier(verbose=False, random_state=RANDOM_STATE,\n",
        "                           learning_rate=0.5, max_depth=2, n_estimators=450,\n",
        "                           cat_features=features_train.select_dtypes(include='object').columns.to_list())\n",
        "cat_model = model.fit(features_train, target_train)\n",
        "predict_prob = model.predict_proba(features_test)\n",
        "probabilities = predict_prob[:, 1]\n",
        "roc_auc = roc_auc_score(target_test, probabilities)\n",
        "accuracy = accuracy_score(target_test, model.predict(features_test))\n",
        "\n",
        "print('ROC-AUC score CatBoost на тестовой выборке:', roc_auc)\n",
        "print('Accuracy score CatBoost на тестовой выборке:', accuracy)"
      ]
    },
    {
      "cell_type": "markdown",
      "metadata": {
        "id": "gLaH70nItA5Y"
      },
      "source": [
        "Построим график ROC кривой"
      ]
    },
    {
      "cell_type": "code",
      "execution_count": null,
      "metadata": {
        "scrolled": true,
        "id": "cbO1KqtctA5Y",
        "outputId": "18a37d5b-bd15-4bc6-ffc1-479b42db53f7"
      },
      "outputs": [
        {
          "data": {
            "image/png": "[encoded data removed]",
            "text/plain": [
              "<Figure size 720x360 with 1 Axes>"
            ]
          },
          "metadata": {
            "needs_background": "light"
          },
          "output_type": "display_data"
        }
      ],
      "source": [
        "fpr, tpr, _ = roc_curve(target_test, probabilities)\n",
        "\n",
        "plt.figure(figsize=(10, 5))\n",
        "plt.plot(fpr,tpr)\n",
        "plt.ylabel('True Positive Rate')\n",
        "plt.xlabel('False Positive Rate')\n",
        "plt.show()"
      ]
    },
    {
      "cell_type": "markdown",
      "metadata": {
        "id": "xFeJdtpTtA5Y"
      },
      "source": [
        "Наша модель показывает хороший уровен истинно положительных ответов, а значит хорошо классифицирует данные по категориям"
      ]
    },
    {
      "cell_type": "markdown",
      "metadata": {
        "id": "nSyYPEMatA5Y"
      },
      "source": [
        "В конце оценим, какой из признаков оказался наиболее важным для нашей лучшей модели"
      ]
    },
    {
      "cell_type": "code",
      "execution_count": null,
      "metadata": {
        "id": "2fjJNdM4tA5Z",
        "outputId": "684a92e6-dd78-4dae-9fdf-d99e0becf287"
      },
      "outputs": [
        {
          "data": {
            "image/png": "[encoded data removed]",
            "text/plain": [
              "<Figure size 720x576 with 1 Axes>"
            ]
          },
          "metadata": {
            "needs_background": "light"
          },
          "output_type": "display_data"
        }
      ],
      "source": [
        "model_feat_imp = pd.Series(cat_model.feature_importances_,\n",
        "                         features.columns)\n",
        "\n",
        "fig, ax = plt.subplots(figsize=(10, 8))\n",
        "model_feat_imp.plot.bar(ax=ax)\n",
        "ax.set_title(\"Важность признаков\")\n",
        "ax.set_ylabel('Важность')\n",
        "fig.tight_layout()"
      ]
    },
    {
      "cell_type": "markdown",
      "metadata": {
        "id": "qCw_QPUEtA5Z"
      },
      "source": [
        "Видим, что наиболее важным признаком оказался синтетический признак длительности контракта"
      ]
    },
    {
      "cell_type": "markdown",
      "metadata": {
        "id": "xAdo6ja-tA5Z"
      },
      "source": [
        "Итого мы получили хорошие значения метрики ROC-AUC, необходимые для запуска модели, а также оценили её точность.\n",
        "\n",
        "Модель на 93% верно будет определять класс клиентов, а значит у оператора связи есть хорошая опора для удержания своих пользователей"
      ]
    },
    {
      "cell_type": "markdown",
      "metadata": {
        "id": "w0pCgT5atA5a"
      },
      "source": [
        "# Отчёт по работе"
      ]
    },
    {
      "cell_type": "markdown",
      "metadata": {
        "id": "2dgojWqAtA5a"
      },
      "source": [
        "Все шаги, проделанные в проекте, совпадают с планом\n",
        "\n",
        "Затруднения возникли с интеграцией кодировщика OHE в Pipeline, поэтому было принято решение вынести кодирование данных отдельно\n",
        "\n",
        "Одним из ключевых шагов, повлиявших на достижение высокого значения метрики ROC-AUC, стало создание синтетического признака длительности контракта на основе двух оригинальных признаков с датами начала и окончания(выгрузки) контракта\n",
        "\n",
        "Модель машинного обучения - CatBoostClassifier. Гиперпараметры: learning_rate=0.5, max_depth=2, n_estimators=500\n",
        "\n",
        "RANDOM_STATE = 310723\n",
        "\n",
        "Размер тестовой выборки: 25% от общего датасета (1761 строка, 17 столбцов)\n",
        "\n",
        "Метрика ROC-AUC на тестовой выборке: 0.9287544353358621\n",
        "\n",
        "При обучении использовались признаки:\n",
        "\n",
        "  - Type – тип оплаты: ежемесячный, годовой и тд\n",
        "\n",
        "  - PaperlessBilling – безналичный расчет\n",
        "\n",
        "  - PaymentMethod – способ оплаты\n",
        "\n",
        "  - MonthlyCharges – ежемесячные траты на услуги\n",
        "\n",
        "  - TotalCharges – всего потрачено денег на услуги\n",
        "\n",
        "  - Dependents – наличие иждивенцев\n",
        "\n",
        "  - Senior Citizen – наличие пенсионного статуса по возрасту\n",
        "\n",
        "  - MultipleLines – наличие возможности ведения параллельных линий во время звонка\n",
        "\n",
        "  - ContractDuration - длительность контракта\n",
        "\n",
        "  - Услуги интернета: InternetService, OnlineSecurity, OnlineBackup, DeviceProtection, TechSupport, StreamingTV, StreamingMovies\n",
        "\n",
        "Сгенерирован признак ContractDuration на основе признаков BeginDate и EndDate, а также даты выгрузки данных\n",
        "\n",
        "Предобработка данных происходила в несколько этапов:\n",
        "\n",
        "1. Были объединены датасеты. С данными о персональных и информацией по договору - типом inner, с остальными - left.\n",
        "2. Был изменён тип данных столбца с общим количеством платежей на численный.\n",
        "3. Были обработаны пропуски, образовавшиеся в ходе изменения типа данных этого столбца (заполнены нулём), а также при объединении датасетов (по категориям 'не пользуются интернетом' или 'не пользуются телефоном'.\n",
        "4. Были созданы новые признаки: целевой признак Gone из столбца EndDate, который сообщает нам, ушедший клиент или активный, а также синтетический признак ContractDuration, который даёт информацию о длительности контракта пользователя. Признаки BeginDate и EndDate были удалены во избежание утечки данных в модель."
      ]
    }
  ],
  "metadata": {
    "ExecuteTimeLog": [
      {
        "duration": 422,
        "start_time": "2023-08-03T03:04:19.494Z"
      },
      {
        "duration": 415,
        "start_time": "2023-08-03T03:08:25.049Z"
      },
      {
        "duration": 12,
        "start_time": "2023-08-03T03:09:09.156Z"
      },
      {
        "duration": 27,
        "start_time": "2023-08-03T03:09:38.713Z"
      },
      {
        "duration": 9,
        "start_time": "2023-08-03T03:09:53.773Z"
      },
      {
        "duration": 11,
        "start_time": "2023-08-03T03:13:53.199Z"
      },
      {
        "duration": 8,
        "start_time": "2023-08-03T03:14:01.828Z"
      },
      {
        "duration": 15,
        "start_time": "2023-08-03T03:17:37.203Z"
      },
      {
        "duration": 10,
        "start_time": "2023-08-03T03:17:48.735Z"
      },
      {
        "duration": 12,
        "start_time": "2023-08-03T03:18:32.344Z"
      },
      {
        "duration": 7,
        "start_time": "2023-08-03T03:18:49.644Z"
      },
      {
        "duration": 356,
        "start_time": "2023-08-05T11:55:53.521Z"
      },
      {
        "duration": 301,
        "start_time": "2023-08-05T11:55:53.879Z"
      },
      {
        "duration": 12,
        "start_time": "2023-08-05T11:55:54.182Z"
      },
      {
        "duration": 26,
        "start_time": "2023-08-05T11:55:54.195Z"
      },
      {
        "duration": 15,
        "start_time": "2023-08-05T11:55:54.223Z"
      },
      {
        "duration": 11,
        "start_time": "2023-08-05T11:55:54.240Z"
      },
      {
        "duration": 11,
        "start_time": "2023-08-05T11:55:54.252Z"
      },
      {
        "duration": 10,
        "start_time": "2023-08-05T11:55:54.264Z"
      },
      {
        "duration": 18,
        "start_time": "2023-08-05T11:55:54.276Z"
      },
      {
        "duration": 8,
        "start_time": "2023-08-05T11:55:54.296Z"
      },
      {
        "duration": 27,
        "start_time": "2023-08-05T12:05:52.157Z"
      },
      {
        "duration": 9,
        "start_time": "2023-08-05T12:09:20.862Z"
      },
      {
        "duration": 20,
        "start_time": "2023-08-05T12:09:32.582Z"
      },
      {
        "duration": 23,
        "start_time": "2023-08-05T12:09:42.707Z"
      },
      {
        "duration": 20,
        "start_time": "2023-08-05T12:10:02.350Z"
      },
      {
        "duration": 23,
        "start_time": "2023-08-05T12:11:12.748Z"
      },
      {
        "duration": 32,
        "start_time": "2023-08-05T12:12:14.339Z"
      },
      {
        "duration": 354,
        "start_time": "2023-08-05T12:13:47.634Z"
      },
      {
        "duration": 89,
        "start_time": "2023-08-05T12:13:47.990Z"
      },
      {
        "duration": 12,
        "start_time": "2023-08-05T12:13:48.080Z"
      },
      {
        "duration": 33,
        "start_time": "2023-08-05T12:13:48.094Z"
      },
      {
        "duration": 10,
        "start_time": "2023-08-05T12:13:48.130Z"
      },
      {
        "duration": 22,
        "start_time": "2023-08-05T12:13:48.141Z"
      },
      {
        "duration": 27,
        "start_time": "2023-08-05T12:13:48.165Z"
      },
      {
        "duration": 27,
        "start_time": "2023-08-05T12:13:48.194Z"
      },
      {
        "duration": 13,
        "start_time": "2023-08-05T12:13:48.223Z"
      },
      {
        "duration": 28,
        "start_time": "2023-08-05T12:13:48.238Z"
      },
      {
        "duration": 30,
        "start_time": "2023-08-05T12:13:48.268Z"
      },
      {
        "duration": 29,
        "start_time": "2023-08-05T12:13:48.300Z"
      },
      {
        "duration": 18,
        "start_time": "2023-08-05T12:18:04.429Z"
      },
      {
        "duration": 8,
        "start_time": "2023-08-05T12:18:31.903Z"
      },
      {
        "duration": 711,
        "start_time": "2023-08-05T12:39:53.128Z"
      },
      {
        "duration": 9,
        "start_time": "2023-08-05T12:40:40.807Z"
      },
      {
        "duration": 13,
        "start_time": "2023-08-05T12:42:15.315Z"
      },
      {
        "duration": 4,
        "start_time": "2023-08-05T12:42:49.008Z"
      },
      {
        "duration": 11,
        "start_time": "2023-08-05T13:39:38.026Z"
      },
      {
        "duration": 27,
        "start_time": "2023-08-05T13:44:26.307Z"
      },
      {
        "duration": 10,
        "start_time": "2023-08-05T13:44:36.630Z"
      },
      {
        "duration": 6,
        "start_time": "2023-08-05T13:47:03.971Z"
      },
      {
        "duration": 412,
        "start_time": "2023-08-05T14:09:18.176Z"
      },
      {
        "duration": 2,
        "start_time": "2023-08-05T14:09:18.590Z"
      },
      {
        "duration": 95,
        "start_time": "2023-08-05T14:09:18.596Z"
      },
      {
        "duration": 14,
        "start_time": "2023-08-05T14:09:18.692Z"
      },
      {
        "duration": 17,
        "start_time": "2023-08-05T14:09:18.708Z"
      },
      {
        "duration": 11,
        "start_time": "2023-08-05T14:09:18.727Z"
      },
      {
        "duration": 15,
        "start_time": "2023-08-05T14:09:18.740Z"
      },
      {
        "duration": 34,
        "start_time": "2023-08-05T14:09:18.756Z"
      },
      {
        "duration": 10,
        "start_time": "2023-08-05T14:09:18.793Z"
      },
      {
        "duration": 11,
        "start_time": "2023-08-05T14:09:18.805Z"
      },
      {
        "duration": 8,
        "start_time": "2023-08-05T14:09:18.817Z"
      },
      {
        "duration": 20,
        "start_time": "2023-08-05T14:09:18.826Z"
      },
      {
        "duration": 54,
        "start_time": "2023-08-05T14:09:18.848Z"
      },
      {
        "duration": 15,
        "start_time": "2023-08-05T14:09:18.904Z"
      },
      {
        "duration": 18,
        "start_time": "2023-08-05T14:09:18.921Z"
      },
      {
        "duration": 10,
        "start_time": "2023-08-05T14:09:18.940Z"
      },
      {
        "duration": 7,
        "start_time": "2023-08-05T14:09:18.951Z"
      },
      {
        "duration": 72,
        "start_time": "2023-08-05T14:09:18.959Z"
      },
      {
        "duration": 0,
        "start_time": "2023-08-05T14:09:19.032Z"
      },
      {
        "duration": 0,
        "start_time": "2023-08-05T14:09:19.033Z"
      },
      {
        "duration": 5,
        "start_time": "2023-08-05T14:09:41.963Z"
      },
      {
        "duration": 12,
        "start_time": "2023-08-05T14:09:47.332Z"
      },
      {
        "duration": 9,
        "start_time": "2023-08-05T14:19:49.114Z"
      },
      {
        "duration": 5,
        "start_time": "2023-08-05T14:21:23.851Z"
      },
      {
        "duration": 6,
        "start_time": "2023-08-05T14:21:34.553Z"
      },
      {
        "duration": 4,
        "start_time": "2023-08-05T14:21:55.385Z"
      },
      {
        "duration": 27,
        "start_time": "2023-08-05T14:22:29.529Z"
      },
      {
        "duration": 19,
        "start_time": "2023-08-05T14:24:22.892Z"
      },
      {
        "duration": 19,
        "start_time": "2023-08-05T14:24:41.826Z"
      },
      {
        "duration": 18,
        "start_time": "2023-08-05T14:25:35.947Z"
      },
      {
        "duration": 17,
        "start_time": "2023-08-05T14:26:06.095Z"
      },
      {
        "duration": 17,
        "start_time": "2023-08-05T14:26:15.767Z"
      },
      {
        "duration": 6,
        "start_time": "2023-08-05T14:36:19.712Z"
      },
      {
        "duration": 4,
        "start_time": "2023-08-05T14:52:23.057Z"
      },
      {
        "duration": 384,
        "start_time": "2023-08-06T10:05:19.636Z"
      },
      {
        "duration": 3,
        "start_time": "2023-08-06T10:05:20.022Z"
      },
      {
        "duration": 327,
        "start_time": "2023-08-06T10:05:20.027Z"
      },
      {
        "duration": 14,
        "start_time": "2023-08-06T10:05:20.356Z"
      },
      {
        "duration": 20,
        "start_time": "2023-08-06T10:05:20.372Z"
      },
      {
        "duration": 12,
        "start_time": "2023-08-06T10:05:20.394Z"
      },
      {
        "duration": 8,
        "start_time": "2023-08-06T10:05:20.408Z"
      },
      {
        "duration": 14,
        "start_time": "2023-08-06T10:05:20.417Z"
      },
      {
        "duration": 14,
        "start_time": "2023-08-06T10:05:20.433Z"
      },
      {
        "duration": 12,
        "start_time": "2023-08-06T10:05:20.449Z"
      },
      {
        "duration": 33,
        "start_time": "2023-08-06T10:05:20.463Z"
      },
      {
        "duration": 26,
        "start_time": "2023-08-06T10:05:20.498Z"
      },
      {
        "duration": 31,
        "start_time": "2023-08-06T10:05:20.525Z"
      },
      {
        "duration": 39,
        "start_time": "2023-08-06T10:05:20.559Z"
      },
      {
        "duration": 11,
        "start_time": "2023-08-06T10:05:20.600Z"
      },
      {
        "duration": 14,
        "start_time": "2023-08-06T10:05:20.613Z"
      },
      {
        "duration": 5,
        "start_time": "2023-08-06T10:05:20.629Z"
      },
      {
        "duration": 11,
        "start_time": "2023-08-06T10:05:20.635Z"
      },
      {
        "duration": 12,
        "start_time": "2023-08-06T10:05:20.648Z"
      },
      {
        "duration": 45,
        "start_time": "2023-08-06T10:05:20.662Z"
      },
      {
        "duration": 38,
        "start_time": "2023-08-06T10:05:20.709Z"
      },
      {
        "duration": 7,
        "start_time": "2023-08-06T10:05:20.750Z"
      },
      {
        "duration": 29,
        "start_time": "2023-08-06T10:05:20.758Z"
      },
      {
        "duration": 61,
        "start_time": "2023-08-06T10:07:29.076Z"
      },
      {
        "duration": 8,
        "start_time": "2023-08-06T10:07:34.528Z"
      },
      {
        "duration": 7,
        "start_time": "2023-08-06T10:07:52.812Z"
      },
      {
        "duration": 7,
        "start_time": "2023-08-06T10:12:13.969Z"
      },
      {
        "duration": 8,
        "start_time": "2023-08-06T10:14:50.513Z"
      },
      {
        "duration": 440,
        "start_time": "2023-08-06T10:15:09.866Z"
      },
      {
        "duration": 2,
        "start_time": "2023-08-06T10:15:10.308Z"
      },
      {
        "duration": 99,
        "start_time": "2023-08-06T10:15:10.312Z"
      },
      {
        "duration": 15,
        "start_time": "2023-08-06T10:15:10.412Z"
      },
      {
        "duration": 21,
        "start_time": "2023-08-06T10:15:10.429Z"
      },
      {
        "duration": 12,
        "start_time": "2023-08-06T10:15:10.452Z"
      },
      {
        "duration": 8,
        "start_time": "2023-08-06T10:15:10.465Z"
      },
      {
        "duration": 30,
        "start_time": "2023-08-06T10:15:10.475Z"
      },
      {
        "duration": 15,
        "start_time": "2023-08-06T10:15:10.507Z"
      },
      {
        "duration": 12,
        "start_time": "2023-08-06T10:15:10.524Z"
      },
      {
        "duration": 9,
        "start_time": "2023-08-06T10:15:10.538Z"
      },
      {
        "duration": 21,
        "start_time": "2023-08-06T10:15:10.549Z"
      },
      {
        "duration": 50,
        "start_time": "2023-08-06T10:15:10.572Z"
      },
      {
        "duration": 18,
        "start_time": "2023-08-06T10:15:10.625Z"
      },
      {
        "duration": 11,
        "start_time": "2023-08-06T10:15:10.644Z"
      },
      {
        "duration": 15,
        "start_time": "2023-08-06T10:15:10.657Z"
      },
      {
        "duration": 22,
        "start_time": "2023-08-06T10:15:10.673Z"
      },
      {
        "duration": 12,
        "start_time": "2023-08-06T10:15:10.697Z"
      },
      {
        "duration": 14,
        "start_time": "2023-08-06T10:15:10.710Z"
      },
      {
        "duration": 22,
        "start_time": "2023-08-06T10:15:10.726Z"
      },
      {
        "duration": 19,
        "start_time": "2023-08-06T10:15:10.749Z"
      },
      {
        "duration": 26,
        "start_time": "2023-08-06T10:15:10.770Z"
      },
      {
        "duration": 73,
        "start_time": "2023-08-06T10:15:10.797Z"
      },
      {
        "duration": 7,
        "start_time": "2023-08-06T10:16:56.970Z"
      },
      {
        "duration": 6,
        "start_time": "2023-08-06T10:17:14.299Z"
      },
      {
        "duration": 379,
        "start_time": "2023-08-06T10:18:13.527Z"
      },
      {
        "duration": 3,
        "start_time": "2023-08-06T10:18:13.908Z"
      },
      {
        "duration": 102,
        "start_time": "2023-08-06T10:18:13.912Z"
      },
      {
        "duration": 13,
        "start_time": "2023-08-06T10:18:14.017Z"
      },
      {
        "duration": 20,
        "start_time": "2023-08-06T10:18:14.032Z"
      },
      {
        "duration": 11,
        "start_time": "2023-08-06T10:18:14.053Z"
      },
      {
        "duration": 16,
        "start_time": "2023-08-06T10:18:14.065Z"
      },
      {
        "duration": 14,
        "start_time": "2023-08-06T10:18:14.082Z"
      },
      {
        "duration": 28,
        "start_time": "2023-08-06T10:18:14.098Z"
      },
      {
        "duration": 18,
        "start_time": "2023-08-06T10:18:14.127Z"
      },
      {
        "duration": 16,
        "start_time": "2023-08-06T10:18:14.147Z"
      },
      {
        "duration": 39,
        "start_time": "2023-08-06T10:18:14.164Z"
      },
      {
        "duration": 30,
        "start_time": "2023-08-06T10:18:14.204Z"
      },
      {
        "duration": 17,
        "start_time": "2023-08-06T10:18:14.237Z"
      },
      {
        "duration": 15,
        "start_time": "2023-08-06T10:18:14.256Z"
      },
      {
        "duration": 33,
        "start_time": "2023-08-06T10:18:14.272Z"
      },
      {
        "duration": 5,
        "start_time": "2023-08-06T10:18:14.307Z"
      },
      {
        "duration": 14,
        "start_time": "2023-08-06T10:18:14.314Z"
      },
      {
        "duration": 13,
        "start_time": "2023-08-06T10:18:14.330Z"
      },
      {
        "duration": 22,
        "start_time": "2023-08-06T10:18:14.344Z"
      },
      {
        "duration": 41,
        "start_time": "2023-08-06T10:18:14.368Z"
      },
      {
        "duration": 5,
        "start_time": "2023-08-06T10:18:14.411Z"
      },
      {
        "duration": 6,
        "start_time": "2023-08-06T10:18:34.722Z"
      },
      {
        "duration": 69,
        "start_time": "2023-08-06T10:18:46.016Z"
      },
      {
        "duration": 9,
        "start_time": "2023-08-06T10:27:50.337Z"
      },
      {
        "duration": 434,
        "start_time": "2023-08-06T10:28:04.679Z"
      },
      {
        "duration": 3,
        "start_time": "2023-08-06T10:28:05.114Z"
      },
      {
        "duration": 100,
        "start_time": "2023-08-06T10:28:05.119Z"
      },
      {
        "duration": 13,
        "start_time": "2023-08-06T10:28:05.221Z"
      },
      {
        "duration": 20,
        "start_time": "2023-08-06T10:28:05.236Z"
      },
      {
        "duration": 13,
        "start_time": "2023-08-06T10:28:05.258Z"
      },
      {
        "duration": 16,
        "start_time": "2023-08-06T10:28:05.272Z"
      },
      {
        "duration": 13,
        "start_time": "2023-08-06T10:28:05.294Z"
      },
      {
        "duration": 13,
        "start_time": "2023-08-06T10:28:05.308Z"
      },
      {
        "duration": 17,
        "start_time": "2023-08-06T10:28:05.323Z"
      },
      {
        "duration": 20,
        "start_time": "2023-08-06T10:28:05.342Z"
      },
      {
        "duration": 32,
        "start_time": "2023-08-06T10:28:05.363Z"
      },
      {
        "duration": 30,
        "start_time": "2023-08-06T10:28:05.397Z"
      },
      {
        "duration": 27,
        "start_time": "2023-08-06T10:28:05.431Z"
      },
      {
        "duration": 27,
        "start_time": "2023-08-06T10:28:05.460Z"
      },
      {
        "duration": 11,
        "start_time": "2023-08-06T10:28:05.495Z"
      },
      {
        "duration": 5,
        "start_time": "2023-08-06T10:28:05.507Z"
      },
      {
        "duration": 6,
        "start_time": "2023-08-06T10:28:05.513Z"
      },
      {
        "duration": 12,
        "start_time": "2023-08-06T10:28:05.521Z"
      },
      {
        "duration": 19,
        "start_time": "2023-08-06T10:28:05.534Z"
      },
      {
        "duration": 47,
        "start_time": "2023-08-06T10:28:05.555Z"
      },
      {
        "duration": 72,
        "start_time": "2023-08-06T10:28:05.603Z"
      },
      {
        "duration": 56,
        "start_time": "2023-08-06T10:28:25.709Z"
      },
      {
        "duration": 372,
        "start_time": "2023-08-06T10:31:51.047Z"
      },
      {
        "duration": 2,
        "start_time": "2023-08-06T10:31:51.421Z"
      },
      {
        "duration": 100,
        "start_time": "2023-08-06T10:31:51.425Z"
      },
      {
        "duration": 15,
        "start_time": "2023-08-06T10:31:51.527Z"
      },
      {
        "duration": 27,
        "start_time": "2023-08-06T10:31:51.544Z"
      },
      {
        "duration": 11,
        "start_time": "2023-08-06T10:31:51.572Z"
      },
      {
        "duration": 13,
        "start_time": "2023-08-06T10:31:51.585Z"
      },
      {
        "duration": 20,
        "start_time": "2023-08-06T10:31:51.600Z"
      },
      {
        "duration": 11,
        "start_time": "2023-08-06T10:31:51.621Z"
      },
      {
        "duration": 13,
        "start_time": "2023-08-06T10:31:51.634Z"
      },
      {
        "duration": 16,
        "start_time": "2023-08-06T10:31:51.648Z"
      },
      {
        "duration": 32,
        "start_time": "2023-08-06T10:31:51.666Z"
      },
      {
        "duration": 30,
        "start_time": "2023-08-06T10:31:51.700Z"
      },
      {
        "duration": 18,
        "start_time": "2023-08-06T10:31:51.732Z"
      },
      {
        "duration": 15,
        "start_time": "2023-08-06T10:31:51.751Z"
      },
      {
        "duration": 30,
        "start_time": "2023-08-06T10:31:51.768Z"
      },
      {
        "duration": 4,
        "start_time": "2023-08-06T10:31:51.800Z"
      },
      {
        "duration": 8,
        "start_time": "2023-08-06T10:31:51.806Z"
      },
      {
        "duration": 14,
        "start_time": "2023-08-06T10:31:51.815Z"
      },
      {
        "duration": 19,
        "start_time": "2023-08-06T10:31:51.831Z"
      },
      {
        "duration": 44,
        "start_time": "2023-08-06T10:31:51.852Z"
      },
      {
        "duration": 49,
        "start_time": "2023-08-06T10:31:51.898Z"
      },
      {
        "duration": 443,
        "start_time": "2023-08-06T10:33:30.475Z"
      },
      {
        "duration": 3,
        "start_time": "2023-08-06T10:33:30.920Z"
      },
      {
        "duration": 118,
        "start_time": "2023-08-06T10:33:30.925Z"
      },
      {
        "duration": 13,
        "start_time": "2023-08-06T10:33:31.045Z"
      },
      {
        "duration": 39,
        "start_time": "2023-08-06T10:33:31.060Z"
      },
      {
        "duration": 50,
        "start_time": "2023-08-06T10:33:31.100Z"
      },
      {
        "duration": 56,
        "start_time": "2023-08-06T10:33:31.152Z"
      },
      {
        "duration": 64,
        "start_time": "2023-08-06T10:33:31.210Z"
      },
      {
        "duration": 60,
        "start_time": "2023-08-06T10:33:31.276Z"
      },
      {
        "duration": 37,
        "start_time": "2023-08-06T10:33:31.338Z"
      },
      {
        "duration": 33,
        "start_time": "2023-08-06T10:33:31.376Z"
      },
      {
        "duration": 43,
        "start_time": "2023-08-06T10:33:31.411Z"
      },
      {
        "duration": 30,
        "start_time": "2023-08-06T10:33:31.456Z"
      },
      {
        "duration": 20,
        "start_time": "2023-08-06T10:33:31.489Z"
      },
      {
        "duration": 21,
        "start_time": "2023-08-06T10:33:31.510Z"
      },
      {
        "duration": 22,
        "start_time": "2023-08-06T10:33:31.532Z"
      },
      {
        "duration": 20,
        "start_time": "2023-08-06T10:33:31.555Z"
      },
      {
        "duration": 34,
        "start_time": "2023-08-06T10:33:31.577Z"
      },
      {
        "duration": 43,
        "start_time": "2023-08-06T10:33:31.613Z"
      },
      {
        "duration": 33,
        "start_time": "2023-08-06T10:33:31.658Z"
      },
      {
        "duration": 35,
        "start_time": "2023-08-06T10:33:31.693Z"
      },
      {
        "duration": 71,
        "start_time": "2023-08-06T10:33:31.731Z"
      },
      {
        "duration": 8,
        "start_time": "2023-08-06T10:35:27.599Z"
      },
      {
        "duration": 8,
        "start_time": "2023-08-06T10:53:02.016Z"
      },
      {
        "duration": 75,
        "start_time": "2023-08-06T10:54:33.447Z"
      },
      {
        "duration": 54,
        "start_time": "2023-08-06T10:54:39.901Z"
      },
      {
        "duration": 18,
        "start_time": "2023-08-06T10:54:53.329Z"
      },
      {
        "duration": 25,
        "start_time": "2023-08-06T10:55:06.596Z"
      },
      {
        "duration": 32,
        "start_time": "2023-08-06T10:55:47.049Z"
      },
      {
        "duration": 19,
        "start_time": "2023-08-06T11:02:44.329Z"
      },
      {
        "duration": 21,
        "start_time": "2023-08-06T11:05:13.005Z"
      },
      {
        "duration": 18,
        "start_time": "2023-08-06T11:10:42.017Z"
      },
      {
        "duration": 914,
        "start_time": "2023-08-06T11:27:08.089Z"
      },
      {
        "duration": 571,
        "start_time": "2023-08-06T11:27:28.181Z"
      },
      {
        "duration": 207,
        "start_time": "2023-08-06T11:42:28.231Z"
      },
      {
        "duration": 118,
        "start_time": "2023-08-06T11:42:48.623Z"
      },
      {
        "duration": 14109,
        "start_time": "2023-08-06T11:44:02.639Z"
      },
      {
        "duration": 12927,
        "start_time": "2023-08-06T11:44:26.871Z"
      },
      {
        "duration": 125,
        "start_time": "2023-08-06T11:45:25.811Z"
      },
      {
        "duration": 119,
        "start_time": "2023-08-06T11:47:34.316Z"
      },
      {
        "duration": 30316,
        "start_time": "2023-08-06T11:53:04.183Z"
      },
      {
        "duration": 29,
        "start_time": "2023-08-06T11:54:44.375Z"
      },
      {
        "duration": 74982,
        "start_time": "2023-08-06T11:56:14.728Z"
      },
      {
        "duration": 18,
        "start_time": "2023-08-06T12:03:26.038Z"
      },
      {
        "duration": 399,
        "start_time": "2023-08-06T12:03:47.029Z"
      },
      {
        "duration": 3,
        "start_time": "2023-08-06T12:03:47.430Z"
      },
      {
        "duration": 123,
        "start_time": "2023-08-06T12:03:47.435Z"
      },
      {
        "duration": 15,
        "start_time": "2023-08-06T12:03:47.560Z"
      },
      {
        "duration": 46,
        "start_time": "2023-08-06T12:03:47.577Z"
      },
      {
        "duration": 28,
        "start_time": "2023-08-06T12:03:47.624Z"
      },
      {
        "duration": 22,
        "start_time": "2023-08-06T12:03:47.653Z"
      },
      {
        "duration": 31,
        "start_time": "2023-08-06T12:03:47.677Z"
      },
      {
        "duration": 35,
        "start_time": "2023-08-06T12:03:47.710Z"
      },
      {
        "duration": 26,
        "start_time": "2023-08-06T12:03:47.747Z"
      },
      {
        "duration": 11,
        "start_time": "2023-08-06T12:03:47.775Z"
      },
      {
        "duration": 41,
        "start_time": "2023-08-06T12:03:47.788Z"
      },
      {
        "duration": 31,
        "start_time": "2023-08-06T12:03:47.831Z"
      },
      {
        "duration": 18,
        "start_time": "2023-08-06T12:03:47.865Z"
      },
      {
        "duration": 22,
        "start_time": "2023-08-06T12:03:47.885Z"
      },
      {
        "duration": 13,
        "start_time": "2023-08-06T12:03:47.909Z"
      },
      {
        "duration": 16,
        "start_time": "2023-08-06T12:03:47.924Z"
      },
      {
        "duration": 15,
        "start_time": "2023-08-06T12:03:47.942Z"
      },
      {
        "duration": 24,
        "start_time": "2023-08-06T12:03:47.959Z"
      },
      {
        "duration": 29,
        "start_time": "2023-08-06T12:03:47.984Z"
      },
      {
        "duration": 17,
        "start_time": "2023-08-06T12:03:48.014Z"
      },
      {
        "duration": 119,
        "start_time": "2023-08-06T12:03:48.033Z"
      },
      {
        "duration": 7,
        "start_time": "2023-08-06T12:03:48.153Z"
      },
      {
        "duration": 16,
        "start_time": "2023-08-06T12:03:48.161Z"
      },
      {
        "duration": 10,
        "start_time": "2023-08-06T12:03:48.178Z"
      },
      {
        "duration": 18,
        "start_time": "2023-08-06T12:03:48.190Z"
      },
      {
        "duration": 827,
        "start_time": "2023-08-06T12:03:48.209Z"
      },
      {
        "duration": 96,
        "start_time": "2023-08-06T12:03:49.037Z"
      },
      {
        "duration": 0,
        "start_time": "2023-08-06T12:03:49.135Z"
      },
      {
        "duration": 665,
        "start_time": "2023-08-06T12:06:06.078Z"
      },
      {
        "duration": 509,
        "start_time": "2023-08-06T12:07:36.054Z"
      },
      {
        "duration": 580,
        "start_time": "2023-08-06T12:53:42.215Z"
      },
      {
        "duration": 584,
        "start_time": "2023-08-06T12:53:51.133Z"
      },
      {
        "duration": 676,
        "start_time": "2023-08-06T12:53:57.199Z"
      },
      {
        "duration": 1447,
        "start_time": "2023-08-06T12:56:09.010Z"
      },
      {
        "duration": 3030,
        "start_time": "2023-08-06T12:56:18.481Z"
      },
      {
        "duration": 518,
        "start_time": "2023-08-06T13:16:22.267Z"
      },
      {
        "duration": 3,
        "start_time": "2023-08-06T13:17:49.663Z"
      },
      {
        "duration": 14,
        "start_time": "2023-08-06T13:19:16.094Z"
      },
      {
        "duration": 5583,
        "start_time": "2023-08-06T13:22:06.526Z"
      },
      {
        "duration": 5413,
        "start_time": "2023-08-06T13:22:42.561Z"
      },
      {
        "duration": 48,
        "start_time": "2023-08-06T13:55:44.229Z"
      },
      {
        "duration": 12,
        "start_time": "2023-08-06T13:56:07.908Z"
      },
      {
        "duration": 18,
        "start_time": "2023-08-06T13:56:31.165Z"
      },
      {
        "duration": 201,
        "start_time": "2023-08-06T14:14:40.823Z"
      },
      {
        "duration": 128,
        "start_time": "2023-08-06T14:17:17.551Z"
      },
      {
        "duration": 3,
        "start_time": "2023-08-06T14:18:18.919Z"
      },
      {
        "duration": 5,
        "start_time": "2023-08-06T14:25:32.375Z"
      },
      {
        "duration": 5,
        "start_time": "2023-08-06T14:34:01.774Z"
      },
      {
        "duration": 4,
        "start_time": "2023-08-06T14:34:54.224Z"
      },
      {
        "duration": 12787,
        "start_time": "2023-08-06T14:38:12.474Z"
      },
      {
        "duration": 4799,
        "start_time": "2023-08-06T14:50:52.781Z"
      },
      {
        "duration": 1293,
        "start_time": "2023-08-06T14:50:57.582Z"
      },
      {
        "duration": 2,
        "start_time": "2023-08-06T14:50:58.877Z"
      },
      {
        "duration": 117,
        "start_time": "2023-08-06T14:50:58.881Z"
      },
      {
        "duration": 24,
        "start_time": "2023-08-06T14:50:59.000Z"
      },
      {
        "duration": 20,
        "start_time": "2023-08-06T14:50:59.026Z"
      },
      {
        "duration": 10,
        "start_time": "2023-08-06T14:50:59.047Z"
      },
      {
        "duration": 15,
        "start_time": "2023-08-06T14:50:59.058Z"
      },
      {
        "duration": 29,
        "start_time": "2023-08-06T14:50:59.074Z"
      },
      {
        "duration": 29,
        "start_time": "2023-08-06T14:50:59.105Z"
      },
      {
        "duration": 18,
        "start_time": "2023-08-06T14:50:59.135Z"
      },
      {
        "duration": 7,
        "start_time": "2023-08-06T14:50:59.155Z"
      },
      {
        "duration": 27,
        "start_time": "2023-08-06T14:50:59.163Z"
      },
      {
        "duration": 45,
        "start_time": "2023-08-06T14:50:59.193Z"
      },
      {
        "duration": 17,
        "start_time": "2023-08-06T14:50:59.240Z"
      },
      {
        "duration": 17,
        "start_time": "2023-08-06T14:50:59.259Z"
      },
      {
        "duration": 25,
        "start_time": "2023-08-06T14:50:59.277Z"
      },
      {
        "duration": 18,
        "start_time": "2023-08-06T14:50:59.304Z"
      },
      {
        "duration": 9,
        "start_time": "2023-08-06T14:50:59.324Z"
      },
      {
        "duration": 19,
        "start_time": "2023-08-06T14:50:59.334Z"
      },
      {
        "duration": 21,
        "start_time": "2023-08-06T14:50:59.354Z"
      },
      {
        "duration": 17,
        "start_time": "2023-08-06T14:50:59.376Z"
      },
      {
        "duration": 75,
        "start_time": "2023-08-06T14:50:59.399Z"
      },
      {
        "duration": 6,
        "start_time": "2023-08-06T14:50:59.476Z"
      },
      {
        "duration": 21,
        "start_time": "2023-08-06T14:50:59.484Z"
      },
      {
        "duration": 12,
        "start_time": "2023-08-06T14:50:59.520Z"
      },
      {
        "duration": 24,
        "start_time": "2023-08-06T14:50:59.534Z"
      },
      {
        "duration": 648,
        "start_time": "2023-08-06T14:50:59.560Z"
      },
      {
        "duration": 794,
        "start_time": "2023-08-06T14:51:00.210Z"
      },
      {
        "duration": 658,
        "start_time": "2023-08-06T14:51:01.011Z"
      },
      {
        "duration": 4972,
        "start_time": "2023-08-06T14:51:01.671Z"
      },
      {
        "duration": 17,
        "start_time": "2023-08-06T14:51:06.644Z"
      },
      {
        "duration": 12,
        "start_time": "2023-08-06T14:51:06.663Z"
      },
      {
        "duration": 146,
        "start_time": "2023-08-06T14:51:06.696Z"
      },
      {
        "duration": 37,
        "start_time": "2023-08-06T14:55:20.836Z"
      },
      {
        "duration": 33,
        "start_time": "2023-08-06T14:57:47.820Z"
      },
      {
        "duration": 4690,
        "start_time": "2023-08-06T14:59:48.088Z"
      },
      {
        "duration": 1327,
        "start_time": "2023-08-06T14:59:52.781Z"
      },
      {
        "duration": 2,
        "start_time": "2023-08-06T14:59:54.113Z"
      },
      {
        "duration": 112,
        "start_time": "2023-08-06T14:59:54.118Z"
      },
      {
        "duration": 17,
        "start_time": "2023-08-06T14:59:54.231Z"
      },
      {
        "duration": 32,
        "start_time": "2023-08-06T14:59:54.250Z"
      },
      {
        "duration": 19,
        "start_time": "2023-08-06T14:59:54.284Z"
      },
      {
        "duration": 48,
        "start_time": "2023-08-06T14:59:54.305Z"
      },
      {
        "duration": 55,
        "start_time": "2023-08-06T14:59:54.354Z"
      },
      {
        "duration": 22,
        "start_time": "2023-08-06T14:59:54.414Z"
      },
      {
        "duration": 20,
        "start_time": "2023-08-06T14:59:54.438Z"
      },
      {
        "duration": 24,
        "start_time": "2023-08-06T14:59:54.460Z"
      },
      {
        "duration": 59,
        "start_time": "2023-08-06T14:59:54.486Z"
      },
      {
        "duration": 44,
        "start_time": "2023-08-06T14:59:54.547Z"
      },
      {
        "duration": 25,
        "start_time": "2023-08-06T14:59:54.592Z"
      },
      {
        "duration": 15,
        "start_time": "2023-08-06T14:59:54.619Z"
      },
      {
        "duration": 20,
        "start_time": "2023-08-06T14:59:54.635Z"
      },
      {
        "duration": 13,
        "start_time": "2023-08-06T14:59:54.657Z"
      },
      {
        "duration": 8,
        "start_time": "2023-08-06T14:59:54.672Z"
      },
      {
        "duration": 26,
        "start_time": "2023-08-06T14:59:54.682Z"
      },
      {
        "duration": 51,
        "start_time": "2023-08-06T14:59:54.710Z"
      },
      {
        "duration": 21,
        "start_time": "2023-08-06T14:59:54.763Z"
      },
      {
        "duration": 79,
        "start_time": "2023-08-06T14:59:54.786Z"
      },
      {
        "duration": 8,
        "start_time": "2023-08-06T14:59:54.867Z"
      },
      {
        "duration": 30,
        "start_time": "2023-08-06T14:59:54.877Z"
      },
      {
        "duration": 16,
        "start_time": "2023-08-06T14:59:54.909Z"
      },
      {
        "duration": 22,
        "start_time": "2023-08-06T14:59:54.927Z"
      },
      {
        "duration": 738,
        "start_time": "2023-08-06T14:59:54.952Z"
      },
      {
        "duration": 792,
        "start_time": "2023-08-06T14:59:55.692Z"
      },
      {
        "duration": 669,
        "start_time": "2023-08-06T14:59:56.486Z"
      },
      {
        "duration": 4860,
        "start_time": "2023-08-06T14:59:57.156Z"
      },
      {
        "duration": 19,
        "start_time": "2023-08-06T15:00:02.018Z"
      },
      {
        "duration": 88,
        "start_time": "2023-08-06T15:00:02.038Z"
      },
      {
        "duration": 231,
        "start_time": "2023-08-06T15:00:02.128Z"
      },
      {
        "duration": 4789,
        "start_time": "2023-08-06T15:08:56.302Z"
      },
      {
        "duration": 1339,
        "start_time": "2023-08-06T15:09:01.094Z"
      },
      {
        "duration": 5,
        "start_time": "2023-08-06T15:09:02.435Z"
      },
      {
        "duration": 133,
        "start_time": "2023-08-06T15:09:02.444Z"
      },
      {
        "duration": 28,
        "start_time": "2023-08-06T15:09:02.580Z"
      },
      {
        "duration": 29,
        "start_time": "2023-08-06T15:09:02.615Z"
      },
      {
        "duration": 31,
        "start_time": "2023-08-06T15:09:02.647Z"
      },
      {
        "duration": 13,
        "start_time": "2023-08-06T15:09:02.680Z"
      },
      {
        "duration": 31,
        "start_time": "2023-08-06T15:09:02.695Z"
      },
      {
        "duration": 19,
        "start_time": "2023-08-06T15:09:02.730Z"
      },
      {
        "duration": 13,
        "start_time": "2023-08-06T15:09:02.751Z"
      },
      {
        "duration": 11,
        "start_time": "2023-08-06T15:09:02.766Z"
      },
      {
        "duration": 39,
        "start_time": "2023-08-06T15:09:02.778Z"
      },
      {
        "duration": 41,
        "start_time": "2023-08-06T15:09:02.820Z"
      },
      {
        "duration": 42,
        "start_time": "2023-08-06T15:09:02.863Z"
      },
      {
        "duration": 20,
        "start_time": "2023-08-06T15:09:02.914Z"
      },
      {
        "duration": 17,
        "start_time": "2023-08-06T15:09:02.936Z"
      },
      {
        "duration": 13,
        "start_time": "2023-08-06T15:09:02.955Z"
      },
      {
        "duration": 18,
        "start_time": "2023-08-06T15:09:02.970Z"
      },
      {
        "duration": 38,
        "start_time": "2023-08-06T15:09:02.990Z"
      },
      {
        "duration": 22,
        "start_time": "2023-08-06T15:09:03.031Z"
      },
      {
        "duration": 22,
        "start_time": "2023-08-06T15:09:03.055Z"
      },
      {
        "duration": 64,
        "start_time": "2023-08-06T15:09:03.079Z"
      },
      {
        "duration": 11,
        "start_time": "2023-08-06T15:09:03.145Z"
      },
      {
        "duration": 15,
        "start_time": "2023-08-06T15:09:03.158Z"
      },
      {
        "duration": 34,
        "start_time": "2023-08-06T15:09:03.174Z"
      },
      {
        "duration": 48,
        "start_time": "2023-08-06T15:09:03.214Z"
      },
      {
        "duration": 699,
        "start_time": "2023-08-06T15:09:03.266Z"
      },
      {
        "duration": 816,
        "start_time": "2023-08-06T15:09:03.967Z"
      },
      {
        "duration": 728,
        "start_time": "2023-08-06T15:09:04.785Z"
      },
      {
        "duration": 4798,
        "start_time": "2023-08-06T15:09:05.516Z"
      },
      {
        "duration": 24,
        "start_time": "2023-08-06T15:09:10.319Z"
      },
      {
        "duration": 14,
        "start_time": "2023-08-06T15:09:10.344Z"
      },
      {
        "duration": 102,
        "start_time": "2023-08-06T15:09:10.361Z"
      },
      {
        "duration": 297,
        "start_time": "2023-08-06T15:09:10.465Z"
      },
      {
        "duration": 5,
        "start_time": "2023-08-06T15:09:37.412Z"
      },
      {
        "duration": 2484,
        "start_time": "2023-08-06T15:09:45.226Z"
      },
      {
        "duration": 482,
        "start_time": "2023-08-06T15:15:12.362Z"
      },
      {
        "duration": 455,
        "start_time": "2023-08-06T15:15:39.620Z"
      },
      {
        "duration": 87,
        "start_time": "2023-08-06T15:28:34.270Z"
      },
      {
        "duration": 88119,
        "start_time": "2023-08-06T15:28:50.320Z"
      },
      {
        "duration": 33783,
        "start_time": "2023-08-06T15:31:50.653Z"
      },
      {
        "duration": 352532,
        "start_time": "2023-08-06T15:32:54.984Z"
      },
      {
        "duration": 1574286,
        "start_time": "2023-08-06T15:41:20.860Z"
      },
      {
        "duration": 9069221,
        "start_time": "2023-08-06T16:22:44.421Z"
      },
      {
        "duration": 65,
        "start_time": "2023-08-07T02:25:55.611Z"
      },
      {
        "duration": 11212,
        "start_time": "2023-08-07T02:26:09.321Z"
      },
      {
        "duration": 1412,
        "start_time": "2023-08-07T02:26:20.535Z"
      },
      {
        "duration": 3,
        "start_time": "2023-08-07T02:26:21.948Z"
      },
      {
        "duration": 383,
        "start_time": "2023-08-07T02:26:21.953Z"
      },
      {
        "duration": 13,
        "start_time": "2023-08-07T02:26:22.339Z"
      },
      {
        "duration": 18,
        "start_time": "2023-08-07T02:26:22.353Z"
      },
      {
        "duration": 10,
        "start_time": "2023-08-07T02:26:22.373Z"
      },
      {
        "duration": 17,
        "start_time": "2023-08-07T02:26:22.385Z"
      },
      {
        "duration": 24,
        "start_time": "2023-08-07T02:26:22.411Z"
      },
      {
        "duration": 11,
        "start_time": "2023-08-07T02:26:22.437Z"
      },
      {
        "duration": 14,
        "start_time": "2023-08-07T02:26:22.450Z"
      },
      {
        "duration": 7,
        "start_time": "2023-08-07T02:26:22.466Z"
      },
      {
        "duration": 31,
        "start_time": "2023-08-07T02:26:22.474Z"
      },
      {
        "duration": 34,
        "start_time": "2023-08-07T02:26:22.510Z"
      },
      {
        "duration": 16,
        "start_time": "2023-08-07T02:26:22.546Z"
      },
      {
        "duration": 10,
        "start_time": "2023-08-07T02:26:22.564Z"
      },
      {
        "duration": 33,
        "start_time": "2023-08-07T02:26:22.576Z"
      },
      {
        "duration": 7,
        "start_time": "2023-08-07T02:26:22.616Z"
      },
      {
        "duration": 7,
        "start_time": "2023-08-07T02:26:22.625Z"
      },
      {
        "duration": 12,
        "start_time": "2023-08-07T02:26:22.633Z"
      },
      {
        "duration": 18,
        "start_time": "2023-08-07T02:26:22.647Z"
      },
      {
        "duration": 16,
        "start_time": "2023-08-07T02:26:22.666Z"
      },
      {
        "duration": 62,
        "start_time": "2023-08-07T02:26:22.683Z"
      },
      {
        "duration": 7,
        "start_time": "2023-08-07T02:26:22.746Z"
      },
      {
        "duration": 14,
        "start_time": "2023-08-07T02:26:22.754Z"
      },
      {
        "duration": 13,
        "start_time": "2023-08-07T02:26:22.769Z"
      },
      {
        "duration": 29,
        "start_time": "2023-08-07T02:26:22.801Z"
      },
      {
        "duration": 660,
        "start_time": "2023-08-07T02:26:22.831Z"
      },
      {
        "duration": 761,
        "start_time": "2023-08-07T02:26:23.492Z"
      },
      {
        "duration": 679,
        "start_time": "2023-08-07T02:26:24.254Z"
      },
      {
        "duration": 5140,
        "start_time": "2023-08-07T02:26:24.935Z"
      },
      {
        "duration": 26,
        "start_time": "2023-08-07T02:26:30.077Z"
      },
      {
        "duration": 39,
        "start_time": "2023-08-07T02:26:30.107Z"
      },
      {
        "duration": 102,
        "start_time": "2023-08-07T02:26:30.148Z"
      },
      {
        "duration": 2646,
        "start_time": "2023-08-07T02:26:30.251Z"
      },
      {
        "duration": 459,
        "start_time": "2023-08-07T02:26:32.914Z"
      },
      {
        "duration": 579812,
        "start_time": "2023-08-07T02:26:33.375Z"
      },
      {
        "duration": 757218,
        "start_time": "2023-08-07T02:47:19.627Z"
      },
      {
        "duration": 420053,
        "start_time": "2023-08-07T03:01:50.457Z"
      },
      {
        "duration": 318376,
        "start_time": "2023-08-07T03:11:07.361Z"
      },
      {
        "duration": 346505,
        "start_time": "2023-08-07T03:17:50.328Z"
      },
      {
        "duration": 349486,
        "start_time": "2023-08-07T03:29:01.560Z"
      },
      {
        "duration": 343556,
        "start_time": "2023-08-07T03:41:42.111Z"
      },
      {
        "duration": 4287,
        "start_time": "2023-08-07T03:55:13.593Z"
      },
      {
        "duration": 3864,
        "start_time": "2023-08-07T03:58:05.918Z"
      },
      {
        "duration": 494,
        "start_time": "2023-08-09T02:27:01.668Z"
      },
      {
        "duration": 9526,
        "start_time": "2023-08-09T02:27:19.644Z"
      },
      {
        "duration": 1052,
        "start_time": "2023-08-09T02:27:37.475Z"
      },
      {
        "duration": 3,
        "start_time": "2023-08-09T02:27:45.763Z"
      },
      {
        "duration": 325,
        "start_time": "2023-08-09T02:27:46.193Z"
      },
      {
        "duration": 14,
        "start_time": "2023-08-09T02:27:47.438Z"
      },
      {
        "duration": 15,
        "start_time": "2023-08-09T02:27:48.104Z"
      },
      {
        "duration": 11,
        "start_time": "2023-08-09T02:27:48.957Z"
      },
      {
        "duration": 13,
        "start_time": "2023-08-09T02:27:49.616Z"
      },
      {
        "duration": 11,
        "start_time": "2023-08-09T02:27:50.734Z"
      },
      {
        "duration": 9,
        "start_time": "2023-08-09T02:27:51.031Z"
      },
      {
        "duration": 10,
        "start_time": "2023-08-09T02:27:51.653Z"
      },
      {
        "duration": 7,
        "start_time": "2023-08-09T02:27:51.973Z"
      },
      {
        "duration": 22,
        "start_time": "2023-08-09T02:27:55.662Z"
      },
      {
        "duration": 31,
        "start_time": "2023-08-09T02:27:56.879Z"
      },
      {
        "duration": 18,
        "start_time": "2023-08-09T02:27:57.922Z"
      },
      {
        "duration": 8,
        "start_time": "2023-08-09T02:27:58.670Z"
      },
      {
        "duration": 11,
        "start_time": "2023-08-09T02:28:00.100Z"
      },
      {
        "duration": 5,
        "start_time": "2023-08-09T02:28:00.819Z"
      },
      {
        "duration": 7,
        "start_time": "2023-08-09T02:28:03.058Z"
      },
      {
        "duration": 13,
        "start_time": "2023-08-09T02:28:03.917Z"
      },
      {
        "duration": 20,
        "start_time": "2023-08-09T02:28:05.138Z"
      },
      {
        "duration": 18,
        "start_time": "2023-08-09T02:28:05.633Z"
      },
      {
        "duration": 47,
        "start_time": "2023-08-09T02:28:08.565Z"
      },
      {
        "duration": 8,
        "start_time": "2023-08-09T02:28:09.506Z"
      },
      {
        "duration": 13,
        "start_time": "2023-08-09T02:28:10.299Z"
      },
      {
        "duration": 8,
        "start_time": "2023-08-09T02:28:11.393Z"
      },
      {
        "duration": 18,
        "start_time": "2023-08-09T02:28:12.356Z"
      },
      {
        "duration": 647,
        "start_time": "2023-08-09T02:28:15.052Z"
      },
      {
        "duration": 670,
        "start_time": "2023-08-09T02:28:18.079Z"
      },
      {
        "duration": 573,
        "start_time": "2023-08-09T02:28:19.383Z"
      },
      {
        "duration": 64,
        "start_time": "2023-08-09T02:30:58.831Z"
      },
      {
        "duration": 14,
        "start_time": "2023-08-09T02:32:16.097Z"
      },
      {
        "duration": 14,
        "start_time": "2023-08-09T02:33:20.008Z"
      },
      {
        "duration": 216,
        "start_time": "2023-08-09T02:34:00.520Z"
      },
      {
        "duration": 220,
        "start_time": "2023-08-09T02:34:09.074Z"
      },
      {
        "duration": 150,
        "start_time": "2023-08-09T02:34:55.401Z"
      },
      {
        "duration": 218,
        "start_time": "2023-08-09T02:36:34.139Z"
      },
      {
        "duration": 239,
        "start_time": "2023-08-09T02:37:28.825Z"
      },
      {
        "duration": 206,
        "start_time": "2023-08-09T02:37:56.912Z"
      },
      {
        "duration": 336,
        "start_time": "2023-08-09T02:38:53.694Z"
      },
      {
        "duration": 290,
        "start_time": "2023-08-09T02:41:23.136Z"
      },
      {
        "duration": 236,
        "start_time": "2023-08-09T02:41:49.351Z"
      },
      {
        "duration": 225,
        "start_time": "2023-08-09T02:42:15.986Z"
      },
      {
        "duration": 255,
        "start_time": "2023-08-09T02:42:24.060Z"
      },
      {
        "duration": 217,
        "start_time": "2023-08-09T02:42:41.812Z"
      },
      {
        "duration": 4,
        "start_time": "2023-08-09T02:53:59.605Z"
      },
      {
        "duration": 11,
        "start_time": "2023-08-09T02:59:21.260Z"
      },
      {
        "duration": 11,
        "start_time": "2023-08-09T02:59:34.179Z"
      },
      {
        "duration": 11,
        "start_time": "2023-08-09T03:00:14.002Z"
      },
      {
        "duration": 68,
        "start_time": "2023-08-09T03:00:15.727Z"
      },
      {
        "duration": 28,
        "start_time": "2023-08-09T03:00:22.805Z"
      },
      {
        "duration": 2552,
        "start_time": "2023-08-09T03:04:34.045Z"
      },
      {
        "duration": 3,
        "start_time": "2023-08-09T03:05:02.718Z"
      },
      {
        "duration": 420,
        "start_time": "2023-08-09T03:06:20.303Z"
      },
      {
        "duration": 14475,
        "start_time": "2023-08-09T03:10:45.424Z"
      },
      {
        "duration": 6065,
        "start_time": "2023-08-09T03:11:49.919Z"
      },
      {
        "duration": 306189,
        "start_time": "2023-08-09T03:12:18.166Z"
      },
      {
        "duration": 299201,
        "start_time": "2023-08-09T03:18:39.812Z"
      },
      {
        "duration": 3128,
        "start_time": "2023-08-09T03:25:36.639Z"
      },
      {
        "duration": 3,
        "start_time": "2023-08-09T03:26:25.245Z"
      },
      {
        "duration": 3,
        "start_time": "2023-08-09T03:26:41.763Z"
      },
      {
        "duration": 116,
        "start_time": "2023-08-09T03:27:01.234Z"
      },
      {
        "duration": 4,
        "start_time": "2023-08-09T03:28:18.787Z"
      },
      {
        "duration": 458,
        "start_time": "2023-08-09T03:31:37.987Z"
      },
      {
        "duration": 4,
        "start_time": "2023-08-09T03:35:58.623Z"
      },
      {
        "duration": 11,
        "start_time": "2023-08-09T03:38:09.247Z"
      },
      {
        "duration": 12,
        "start_time": "2023-08-09T03:38:28.276Z"
      },
      {
        "duration": 220,
        "start_time": "2023-08-09T03:38:33.839Z"
      },
      {
        "duration": 108,
        "start_time": "2023-08-09T03:39:16.989Z"
      },
      {
        "duration": 10324,
        "start_time": "2023-08-10T03:40:30.344Z"
      },
      {
        "duration": 1517,
        "start_time": "2023-08-10T03:40:40.671Z"
      },
      {
        "duration": 3,
        "start_time": "2023-08-10T03:40:42.190Z"
      },
      {
        "duration": 388,
        "start_time": "2023-08-10T03:40:42.195Z"
      },
      {
        "duration": 17,
        "start_time": "2023-08-10T03:40:42.586Z"
      },
      {
        "duration": 19,
        "start_time": "2023-08-10T03:40:42.605Z"
      },
      {
        "duration": 25,
        "start_time": "2023-08-10T03:40:42.625Z"
      },
      {
        "duration": 12,
        "start_time": "2023-08-10T03:40:42.652Z"
      },
      {
        "duration": 35,
        "start_time": "2023-08-10T03:40:42.665Z"
      },
      {
        "duration": 12,
        "start_time": "2023-08-10T03:40:42.702Z"
      },
      {
        "duration": 18,
        "start_time": "2023-08-10T03:40:42.717Z"
      },
      {
        "duration": 10,
        "start_time": "2023-08-10T03:40:42.737Z"
      },
      {
        "duration": 29,
        "start_time": "2023-08-10T03:40:42.749Z"
      },
      {
        "duration": 41,
        "start_time": "2023-08-10T03:40:42.802Z"
      },
      {
        "duration": 19,
        "start_time": "2023-08-10T03:40:42.845Z"
      },
      {
        "duration": 20,
        "start_time": "2023-08-10T03:40:42.865Z"
      },
      {
        "duration": 19,
        "start_time": "2023-08-10T03:40:42.900Z"
      },
      {
        "duration": 4,
        "start_time": "2023-08-10T03:40:42.921Z"
      },
      {
        "duration": 9,
        "start_time": "2023-08-10T03:40:42.927Z"
      },
      {
        "duration": 13,
        "start_time": "2023-08-10T03:40:42.938Z"
      },
      {
        "duration": 54,
        "start_time": "2023-08-10T03:40:42.953Z"
      },
      {
        "duration": 27,
        "start_time": "2023-08-10T03:40:43.009Z"
      },
      {
        "duration": 82,
        "start_time": "2023-08-10T03:40:43.038Z"
      },
      {
        "duration": 7,
        "start_time": "2023-08-10T03:40:43.122Z"
      },
      {
        "duration": 20,
        "start_time": "2023-08-10T03:40:43.131Z"
      },
      {
        "duration": 8,
        "start_time": "2023-08-10T03:40:43.152Z"
      },
      {
        "duration": 42,
        "start_time": "2023-08-10T03:40:43.162Z"
      },
      {
        "duration": 675,
        "start_time": "2023-08-10T03:40:43.206Z"
      },
      {
        "duration": 643,
        "start_time": "2023-08-10T03:40:43.882Z"
      },
      {
        "duration": 599,
        "start_time": "2023-08-10T03:40:44.527Z"
      },
      {
        "duration": 223,
        "start_time": "2023-08-10T03:40:45.127Z"
      },
      {
        "duration": 374,
        "start_time": "2023-08-10T03:40:45.351Z"
      },
      {
        "duration": 324,
        "start_time": "2023-08-10T03:40:45.729Z"
      },
      {
        "duration": 4808,
        "start_time": "2023-08-10T03:40:46.055Z"
      },
      {
        "duration": 19,
        "start_time": "2023-08-10T03:40:50.865Z"
      },
      {
        "duration": 33,
        "start_time": "2023-08-10T03:40:50.886Z"
      },
      {
        "duration": 85,
        "start_time": "2023-08-10T03:40:50.921Z"
      },
      {
        "duration": 2220,
        "start_time": "2023-08-10T03:40:51.007Z"
      },
      {
        "duration": 460,
        "start_time": "2023-08-10T03:40:53.228Z"
      },
      {
        "duration": 357435,
        "start_time": "2023-08-10T03:40:53.690Z"
      },
      {
        "duration": 4477,
        "start_time": "2023-08-10T03:46:51.129Z"
      },
      {
        "duration": 164,
        "start_time": "2023-08-10T03:46:55.614Z"
      },
      {
        "duration": 401,
        "start_time": "2023-08-10T03:46:55.780Z"
      },
      {
        "duration": 171,
        "start_time": "2023-08-10T03:48:25.288Z"
      },
      {
        "duration": 5,
        "start_time": "2023-08-10T03:48:31.658Z"
      },
      {
        "duration": 5,
        "start_time": "2023-08-10T03:48:56.524Z"
      },
      {
        "duration": 3987,
        "start_time": "2023-08-10T03:54:39.293Z"
      }
    ],
    "kernelspec": {
      "display_name": "Python 3 (ipykernel)",
      "language": "python",
      "name": "python3"
    },
    "language_info": {
      "codemirror_mode": {
        "name": "ipython",
        "version": 3
      },
      "file_extension": ".py",
      "mimetype": "text/x-python",
      "name": "python",
      "nbconvert_exporter": "python",
      "pygments_lexer": "ipython3",
      "version": "3.9.5"
    },
    "toc": {
      "base_numbering": 1,
      "nav_menu": {},
      "number_sections": true,
      "sideBar": true,
      "skip_h1_title": true,
      "title_cell": "Table of Contents",
      "title_sidebar": "Contents",
      "toc_cell": false,
      "toc_position": {},
      "toc_section_display": true,
      "toc_window_display": false
    },
    "colab": {
      "provenance": []
    }
  },
  "nbformat": 4,
  "nbformat_minor": 0
}