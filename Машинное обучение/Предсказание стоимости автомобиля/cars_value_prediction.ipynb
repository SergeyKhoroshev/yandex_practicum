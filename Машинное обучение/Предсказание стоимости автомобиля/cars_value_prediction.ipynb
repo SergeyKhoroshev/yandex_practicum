{
  "cells": [
    {
      "cell_type": "markdown",
      "metadata": {
        "id": "KVMwtQHcG1a9"
      },
      "source": [
        "# Определение стоимости автомобилей"
      ]
    },
    {
      "cell_type": "markdown",
      "metadata": {
        "id": "DXrIOPjTG1a9"
      },
      "source": [
        "Цель: нужно построить модель для определения стоимости автомобиля \n",
        "\n",
        "Заказчику важны:\n",
        "\n",
        "- качество предсказания;\n",
        "- скорость предсказания;\n",
        "- время обучения.\n",
        "\n",
        "Решаем задачу регрессии"
      ]
    },
    {
      "cell_type": "markdown",
      "metadata": {
        "id": "fRHwF_XtG1a9"
      },
      "source": [
        "# Содержание\n",
        "\n",
        "1. Подготовка данных\n",
        "\n",
        "   - 1.1 Общее изучение данных\n",
        "   - 1.2 Работа с проупсками и дубликатами\n",
        "   - 1.3 Деление на выборки, кодировка и масштабирование\n",
        "\n",
        "\n",
        "2. Обучение моделей\n",
        "3. Анализ моделей"
      ]
    },
    {
      "cell_type": "markdown",
      "metadata": {
        "id": "Ek8YlmZPG1a9"
      },
      "source": [
        "## Подготовка данных"
      ]
    },
    {
      "cell_type": "markdown",
      "metadata": {
        "id": "mevySpXfG1a9"
      },
      "source": [
        "### Общее изучение данных"
      ]
    },
    {
      "cell_type": "markdown",
      "metadata": {
        "id": "rLrcaOXAG1a9"
      },
      "source": [
        "Импортируем необходимые библиотеки, читаем данные из файла и изучаем датасет"
      ]
    },
    {
      "cell_type": "code",
      "execution_count": 3,
      "metadata": {
        "colab": {
          "base_uri": "https://localhost:8080/"
        },
        "id": "zodPP_8iG1a-",
        "outputId": "a9ffbced-b9e1-49ed-b919-bbca17bd421a"
      },
      "outputs": [
        {
          "output_type": "stream",
          "name": "stdout",
          "text": [
            "Looking in indexes: https://pypi.org/simple, https://us-python.pkg.dev/colab-wheels/public/simple/\n",
            "Requirement already satisfied: scikit-learn==1.1.3 in /usr/local/lib/python3.10/dist-packages (1.1.3)\n",
            "Requirement already satisfied: numpy>=1.17.3 in /usr/local/lib/python3.10/dist-packages (from scikit-learn==1.1.3) (1.22.4)\n",
            "Requirement already satisfied: scipy>=1.3.2 in /usr/local/lib/python3.10/dist-packages (from scikit-learn==1.1.3) (1.10.1)\n",
            "Requirement already satisfied: joblib>=1.0.0 in /usr/local/lib/python3.10/dist-packages (from scikit-learn==1.1.3) (1.2.0)\n",
            "Requirement already satisfied: threadpoolctl>=2.0.0 in /usr/local/lib/python3.10/dist-packages (from scikit-learn==1.1.3) (3.1.0)\n"
          ]
        }
      ],
      "source": [
        "!pip install scikit-learn==1.1.3"
      ]
    },
    {
      "cell_type": "code",
      "source": [
        "!pip install catboost"
      ],
      "metadata": {
        "colab": {
          "base_uri": "https://localhost:8080/"
        },
        "id": "f3CMFS7KNGMm",
        "outputId": "581080c5-9171-4539-847f-67c67087ed5e"
      },
      "execution_count": 4,
      "outputs": [
        {
          "output_type": "stream",
          "name": "stdout",
          "text": [
            "Looking in indexes: https://pypi.org/simple, https://us-python.pkg.dev/colab-wheels/public/simple/\n",
            "Collecting catboost\n",
            "  Downloading catboost-1.2-cp310-cp310-manylinux2014_x86_64.whl (98.6 MB)\n",
            "\u001b[2K     \u001b[90m━━━━━━━━━━━━━━━━━━━━━━━━━━━━━━━━━━━━━━━━\u001b[0m \u001b[32m98.6/98.6 MB\u001b[0m \u001b[31m8.8 MB/s\u001b[0m eta \u001b[36m0:00:00\u001b[0m\n",
            "\u001b[?25hRequirement already satisfied: graphviz in /usr/local/lib/python3.10/dist-packages (from catboost) (0.20.1)\n",
            "Requirement already satisfied: matplotlib in /usr/local/lib/python3.10/dist-packages (from catboost) (3.7.1)\n",
            "Requirement already satisfied: numpy>=1.16.0 in /usr/local/lib/python3.10/dist-packages (from catboost) (1.22.4)\n",
            "Requirement already satisfied: pandas>=0.24 in /usr/local/lib/python3.10/dist-packages (from catboost) (1.5.3)\n",
            "Requirement already satisfied: scipy in /usr/local/lib/python3.10/dist-packages (from catboost) (1.10.1)\n",
            "Requirement already satisfied: plotly in /usr/local/lib/python3.10/dist-packages (from catboost) (5.13.1)\n",
            "Requirement already satisfied: six in /usr/local/lib/python3.10/dist-packages (from catboost) (1.16.0)\n",
            "Requirement already satisfied: python-dateutil>=2.8.1 in /usr/local/lib/python3.10/dist-packages (from pandas>=0.24->catboost) (2.8.2)\n",
            "Requirement already satisfied: pytz>=2020.1 in /usr/local/lib/python3.10/dist-packages (from pandas>=0.24->catboost) (2022.7.1)\n",
            "Requirement already satisfied: contourpy>=1.0.1 in /usr/local/lib/python3.10/dist-packages (from matplotlib->catboost) (1.0.7)\n",
            "Requirement already satisfied: cycler>=0.10 in /usr/local/lib/python3.10/dist-packages (from matplotlib->catboost) (0.11.0)\n",
            "Requirement already satisfied: fonttools>=4.22.0 in /usr/local/lib/python3.10/dist-packages (from matplotlib->catboost) (4.39.3)\n",
            "Requirement already satisfied: kiwisolver>=1.0.1 in /usr/local/lib/python3.10/dist-packages (from matplotlib->catboost) (1.4.4)\n",
            "Requirement already satisfied: packaging>=20.0 in /usr/local/lib/python3.10/dist-packages (from matplotlib->catboost) (23.1)\n",
            "Requirement already satisfied: pillow>=6.2.0 in /usr/local/lib/python3.10/dist-packages (from matplotlib->catboost) (8.4.0)\n",
            "Requirement already satisfied: pyparsing>=2.3.1 in /usr/local/lib/python3.10/dist-packages (from matplotlib->catboost) (3.0.9)\n",
            "Requirement already satisfied: tenacity>=6.2.0 in /usr/local/lib/python3.10/dist-packages (from plotly->catboost) (8.2.2)\n",
            "Installing collected packages: catboost\n",
            "Successfully installed catboost-1.2\n"
          ]
        }
      ]
    },
    {
      "cell_type": "code",
      "execution_count": 5,
      "metadata": {
        "id": "2qiW2fX1G1a-"
      },
      "outputs": [],
      "source": [
        "import pandas as pd\n",
        "from sklearn.model_selection import train_test_split, RandomizedSearchCV\n",
        "from sklearn.preprocessing import OrdinalEncoder, StandardScaler\n",
        "from sklearn.ensemble import RandomForestRegressor\n",
        "from sklearn.tree import DecisionTreeRegressor\n",
        "from lightgbm import LGBMRegressor\n",
        "from catboost import CatBoostRegressor\n",
        "from sklearn.metrics import mean_squared_error"
      ]
    },
    {
      "cell_type": "code",
      "execution_count": 6,
      "metadata": {
        "scrolled": false,
        "colab": {
          "base_uri": "https://localhost:8080/",
          "height": 443
        },
        "id": "dkKOf18sG1a_",
        "outputId": "6f8554f7-2563-49d6-8152-1c36393016f4"
      },
      "outputs": [
        {
          "output_type": "execute_result",
          "data": {
            "text/plain": [
              "           DateCrawled  Price VehicleType  RegistrationYear Gearbox  Power  \\\n",
              "0  2016-03-24 11:52:17    480         NaN              1993  manual      0   \n",
              "1  2016-03-24 10:58:45  18300       coupe              2011  manual    190   \n",
              "2  2016-03-14 12:52:21   9800         suv              2004    auto    163   \n",
              "3  2016-03-17 16:54:04   1500       small              2001  manual     75   \n",
              "4  2016-03-31 17:25:20   3600       small              2008  manual     69   \n",
              "\n",
              "   Model  Kilometer  RegistrationMonth  FuelType       Brand Repaired  \\\n",
              "0   golf     150000                  0    petrol  volkswagen      NaN   \n",
              "1    NaN     125000                  5  gasoline        audi      yes   \n",
              "2  grand     125000                  8  gasoline        jeep      NaN   \n",
              "3   golf     150000                  6    petrol  volkswagen       no   \n",
              "4  fabia      90000                  7  gasoline       skoda       no   \n",
              "\n",
              "           DateCreated  NumberOfPictures  PostalCode             LastSeen  \n",
              "0  2016-03-24 00:00:00                 0       70435  2016-04-07 03:16:57  \n",
              "1  2016-03-24 00:00:00                 0       66954  2016-04-07 01:46:50  \n",
              "2  2016-03-14 00:00:00                 0       90480  2016-04-05 12:47:46  \n",
              "3  2016-03-17 00:00:00                 0       91074  2016-03-17 17:40:17  \n",
              "4  2016-03-31 00:00:00                 0       60437  2016-04-06 10:17:21  "
            ],
            "text/html": [
              "\n",
              "  <div id=\"df-9122b9ef-5156-41f6-b7a4-41265b5d7496\">\n",
              "    <div class=\"colab-df-container\">\n",
              "      <div>\n",
              "<style scoped>\n",
              "    .dataframe tbody tr th:only-of-type {\n",
              "        vertical-align: middle;\n",
              "    }\n",
              "\n",
              "    .dataframe tbody tr th {\n",
              "        vertical-align: top;\n",
              "    }\n",
              "\n",
              "    .dataframe thead th {\n",
              "        text-align: right;\n",
              "    }\n",
              "</style>\n",
              "<table border=\"1\" class=\"dataframe\">\n",
              "  <thead>\n",
              "    <tr style=\"text-align: right;\">\n",
              "      <th></th>\n",
              "      <th>DateCrawled</th>\n",
              "      <th>Price</th>\n",
              "      <th>VehicleType</th>\n",
              "      <th>RegistrationYear</th>\n",
              "      <th>Gearbox</th>\n",
              "      <th>Power</th>\n",
              "      <th>Model</th>\n",
              "      <th>Kilometer</th>\n",
              "      <th>RegistrationMonth</th>\n",
              "      <th>FuelType</th>\n",
              "      <th>Brand</th>\n",
              "      <th>Repaired</th>\n",
              "      <th>DateCreated</th>\n",
              "      <th>NumberOfPictures</th>\n",
              "      <th>PostalCode</th>\n",
              "      <th>LastSeen</th>\n",
              "    </tr>\n",
              "  </thead>\n",
              "  <tbody>\n",
              "    <tr>\n",
              "      <th>0</th>\n",
              "      <td>2016-03-24 11:52:17</td>\n",
              "      <td>480</td>\n",
              "      <td>NaN</td>\n",
              "      <td>1993</td>\n",
              "      <td>manual</td>\n",
              "      <td>0</td>\n",
              "      <td>golf</td>\n",
              "      <td>150000</td>\n",
              "      <td>0</td>\n",
              "      <td>petrol</td>\n",
              "      <td>volkswagen</td>\n",
              "      <td>NaN</td>\n",
              "      <td>2016-03-24 00:00:00</td>\n",
              "      <td>0</td>\n",
              "      <td>70435</td>\n",
              "      <td>2016-04-07 03:16:57</td>\n",
              "    </tr>\n",
              "    <tr>\n",
              "      <th>1</th>\n",
              "      <td>2016-03-24 10:58:45</td>\n",
              "      <td>18300</td>\n",
              "      <td>coupe</td>\n",
              "      <td>2011</td>\n",
              "      <td>manual</td>\n",
              "      <td>190</td>\n",
              "      <td>NaN</td>\n",
              "      <td>125000</td>\n",
              "      <td>5</td>\n",
              "      <td>gasoline</td>\n",
              "      <td>audi</td>\n",
              "      <td>yes</td>\n",
              "      <td>2016-03-24 00:00:00</td>\n",
              "      <td>0</td>\n",
              "      <td>66954</td>\n",
              "      <td>2016-04-07 01:46:50</td>\n",
              "    </tr>\n",
              "    <tr>\n",
              "      <th>2</th>\n",
              "      <td>2016-03-14 12:52:21</td>\n",
              "      <td>9800</td>\n",
              "      <td>suv</td>\n",
              "      <td>2004</td>\n",
              "      <td>auto</td>\n",
              "      <td>163</td>\n",
              "      <td>grand</td>\n",
              "      <td>125000</td>\n",
              "      <td>8</td>\n",
              "      <td>gasoline</td>\n",
              "      <td>jeep</td>\n",
              "      <td>NaN</td>\n",
              "      <td>2016-03-14 00:00:00</td>\n",
              "      <td>0</td>\n",
              "      <td>90480</td>\n",
              "      <td>2016-04-05 12:47:46</td>\n",
              "    </tr>\n",
              "    <tr>\n",
              "      <th>3</th>\n",
              "      <td>2016-03-17 16:54:04</td>\n",
              "      <td>1500</td>\n",
              "      <td>small</td>\n",
              "      <td>2001</td>\n",
              "      <td>manual</td>\n",
              "      <td>75</td>\n",
              "      <td>golf</td>\n",
              "      <td>150000</td>\n",
              "      <td>6</td>\n",
              "      <td>petrol</td>\n",
              "      <td>volkswagen</td>\n",
              "      <td>no</td>\n",
              "      <td>2016-03-17 00:00:00</td>\n",
              "      <td>0</td>\n",
              "      <td>91074</td>\n",
              "      <td>2016-03-17 17:40:17</td>\n",
              "    </tr>\n",
              "    <tr>\n",
              "      <th>4</th>\n",
              "      <td>2016-03-31 17:25:20</td>\n",
              "      <td>3600</td>\n",
              "      <td>small</td>\n",
              "      <td>2008</td>\n",
              "      <td>manual</td>\n",
              "      <td>69</td>\n",
              "      <td>fabia</td>\n",
              "      <td>90000</td>\n",
              "      <td>7</td>\n",
              "      <td>gasoline</td>\n",
              "      <td>skoda</td>\n",
              "      <td>no</td>\n",
              "      <td>2016-03-31 00:00:00</td>\n",
              "      <td>0</td>\n",
              "      <td>60437</td>\n",
              "      <td>2016-04-06 10:17:21</td>\n",
              "    </tr>\n",
              "  </tbody>\n",
              "</table>\n",
              "</div>\n",
              "      <button class=\"colab-df-convert\" onclick=\"convertToInteractive('df-9122b9ef-5156-41f6-b7a4-41265b5d7496')\"\n",
              "              title=\"Convert this dataframe to an interactive table.\"\n",
              "              style=\"display:none;\">\n",
              "        \n",
              "  <svg xmlns=\"http://www.w3.org/2000/svg\" height=\"24px\"viewBox=\"0 0 24 24\"\n",
              "       width=\"24px\">\n",
              "    <path d=\"M0 0h24v24H0V0z\" fill=\"none\"/>\n",
              "    <path d=\"M18.56 5.44l.94 2.06.94-2.06 2.06-.94-2.06-.94-.94-2.06-.94 2.06-2.06.94zm-11 1L8.5 8.5l.94-2.06 2.06-.94-2.06-.94L8.5 2.5l-.94 2.06-2.06.94zm10 10l.94 2.06.94-2.06 2.06-.94-2.06-.94-.94-2.06-.94 2.06-2.06.94z\"/><path d=\"M17.41 7.96l-1.37-1.37c-.4-.4-.92-.59-1.43-.59-.52 0-1.04.2-1.43.59L10.3 9.45l-7.72 7.72c-.78.78-.78 2.05 0 2.83L4 21.41c.39.39.9.59 1.41.59.51 0 1.02-.2 1.41-.59l7.78-7.78 2.81-2.81c.8-.78.8-2.07 0-2.86zM5.41 20L4 18.59l7.72-7.72 1.47 1.35L5.41 20z\"/>\n",
              "  </svg>\n",
              "      </button>\n",
              "      \n",
              "  <style>\n",
              "    .colab-df-container {\n",
              "      display:flex;\n",
              "      flex-wrap:wrap;\n",
              "      gap: 12px;\n",
              "    }\n",
              "\n",
              "    .colab-df-convert {\n",
              "      background-color: #E8F0FE;\n",
              "      border: none;\n",
              "      border-radius: 50%;\n",
              "      cursor: pointer;\n",
              "      display: none;\n",
              "      fill: #1967D2;\n",
              "      height: 32px;\n",
              "      padding: 0 0 0 0;\n",
              "      width: 32px;\n",
              "    }\n",
              "\n",
              "    .colab-df-convert:hover {\n",
              "      background-color: #E2EBFA;\n",
              "      box-shadow: 0px 1px 2px rgba(60, 64, 67, 0.3), 0px 1px 3px 1px rgba(60, 64, 67, 0.15);\n",
              "      fill: #174EA6;\n",
              "    }\n",
              "\n",
              "    [theme=dark] .colab-df-convert {\n",
              "      background-color: #3B4455;\n",
              "      fill: #D2E3FC;\n",
              "    }\n",
              "\n",
              "    [theme=dark] .colab-df-convert:hover {\n",
              "      background-color: #434B5C;\n",
              "      box-shadow: 0px 1px 3px 1px rgba(0, 0, 0, 0.15);\n",
              "      filter: drop-shadow(0px 1px 2px rgba(0, 0, 0, 0.3));\n",
              "      fill: #FFFFFF;\n",
              "    }\n",
              "  </style>\n",
              "\n",
              "      <script>\n",
              "        const buttonEl =\n",
              "          document.querySelector('#df-9122b9ef-5156-41f6-b7a4-41265b5d7496 button.colab-df-convert');\n",
              "        buttonEl.style.display =\n",
              "          google.colab.kernel.accessAllowed ? 'block' : 'none';\n",
              "\n",
              "        async function convertToInteractive(key) {\n",
              "          const element = document.querySelector('#df-9122b9ef-5156-41f6-b7a4-41265b5d7496');\n",
              "          const dataTable =\n",
              "            await google.colab.kernel.invokeFunction('convertToInteractive',\n",
              "                                                     [key], {});\n",
              "          if (!dataTable) return;\n",
              "\n",
              "          const docLinkHtml = 'Like what you see? Visit the ' +\n",
              "            '<a target=\"_blank\" href=https://colab.research.google.com/notebooks/data_table.ipynb>data table notebook</a>'\n",
              "            + ' to learn more about interactive tables.';\n",
              "          element.innerHTML = '';\n",
              "          dataTable['output_type'] = 'display_data';\n",
              "          await google.colab.output.renderOutput(dataTable, element);\n",
              "          const docLink = document.createElement('div');\n",
              "          docLink.innerHTML = docLinkHtml;\n",
              "          element.appendChild(docLink);\n",
              "        }\n",
              "      </script>\n",
              "    </div>\n",
              "  </div>\n",
              "  "
            ]
          },
          "metadata": {},
          "execution_count": 6
        }
      ],
      "source": [
        "data = pd.read_csv('autos.csv')\n",
        "data_full = data.copy()\n",
        "data.head()"
      ]
    },
    {
      "cell_type": "code",
      "execution_count": 7,
      "metadata": {
        "scrolled": false,
        "colab": {
          "base_uri": "https://localhost:8080/"
        },
        "id": "b27PXBgpG1a_",
        "outputId": "e6673394-eaa9-4170-eea3-0f5eee0b3839"
      },
      "outputs": [
        {
          "output_type": "stream",
          "name": "stdout",
          "text": [
            "<class 'pandas.core.frame.DataFrame'>\n",
            "RangeIndex: 354369 entries, 0 to 354368\n",
            "Data columns (total 16 columns):\n",
            " #   Column             Non-Null Count   Dtype \n",
            "---  ------             --------------   ----- \n",
            " 0   DateCrawled        354369 non-null  object\n",
            " 1   Price              354369 non-null  int64 \n",
            " 2   VehicleType        316879 non-null  object\n",
            " 3   RegistrationYear   354369 non-null  int64 \n",
            " 4   Gearbox            334536 non-null  object\n",
            " 5   Power              354369 non-null  int64 \n",
            " 6   Model              334664 non-null  object\n",
            " 7   Kilometer          354369 non-null  int64 \n",
            " 8   RegistrationMonth  354369 non-null  int64 \n",
            " 9   FuelType           321474 non-null  object\n",
            " 10  Brand              354369 non-null  object\n",
            " 11  Repaired           283215 non-null  object\n",
            " 12  DateCreated        354369 non-null  object\n",
            " 13  NumberOfPictures   354369 non-null  int64 \n",
            " 14  PostalCode         354369 non-null  int64 \n",
            " 15  LastSeen           354369 non-null  object\n",
            "dtypes: int64(7), object(9)\n",
            "memory usage: 43.3+ MB\n"
          ]
        }
      ],
      "source": [
        "data.info()"
      ]
    },
    {
      "cell_type": "markdown",
      "metadata": {
        "id": "6lpTvHtDG1a_"
      },
      "source": [
        "Удалим неиформативные столбцы"
      ]
    },
    {
      "cell_type": "code",
      "execution_count": 8,
      "metadata": {
        "id": "qaCs0dmCG1a_"
      },
      "outputs": [],
      "source": [
        "data = data.drop(columns=['DateCrawled', 'RegistrationMonth', 'PostalCode', 'LastSeen'], axis=1)"
      ]
    },
    {
      "cell_type": "code",
      "execution_count": 9,
      "metadata": {
        "scrolled": false,
        "colab": {
          "base_uri": "https://localhost:8080/",
          "height": 1000
        },
        "id": "3HT1Yz9LG1bA",
        "outputId": "0fb4996e-6d5d-4ea4-f5c7-478097b78315"
      },
      "outputs": [
        {
          "output_type": "display_data",
          "data": {
            "text/plain": [
              "<Figure size 1500x1500 with 6 Axes>"
            ],
            "image/png": "[encoded data removed]"
          },
          "metadata": {}
        }
      ],
      "source": [
        "data.hist(figsize=(15, 15));"
      ]
    },
    {
      "cell_type": "code",
      "execution_count": 10,
      "metadata": {
        "colab": {
          "base_uri": "https://localhost:8080/"
        },
        "id": "4fi0NpfYG1bA",
        "outputId": "367a4844-fc11-4815-a29c-d7ae18014721"
      },
      "outputs": [
        {
          "output_type": "execute_result",
          "data": {
            "text/plain": [
              "0    354369\n",
              "Name: NumberOfPictures, dtype: int64"
            ]
          },
          "metadata": {},
          "execution_count": 10
        }
      ],
      "source": [
        "data['NumberOfPictures'].value_counts()"
      ]
    },
    {
      "cell_type": "markdown",
      "metadata": {
        "id": "2sWwhxNkG1bA"
      },
      "source": [
        "Столбец с количеством фотографий содержит одни нули, поэтому удалим его"
      ]
    },
    {
      "cell_type": "code",
      "execution_count": 11,
      "metadata": {
        "id": "gx0aN6ltG1bA"
      },
      "outputs": [],
      "source": [
        "data = data.drop('NumberOfPictures', axis=1)"
      ]
    },
    {
      "cell_type": "markdown",
      "metadata": {
        "id": "-T-XsLCiG1bA"
      },
      "source": [
        "Посмотрим, сколько нулей в столбце с ценой"
      ]
    },
    {
      "cell_type": "code",
      "execution_count": 12,
      "metadata": {
        "colab": {
          "base_uri": "https://localhost:8080/"
        },
        "id": "7BPWMuV1G1bA",
        "outputId": "abe62691-52d0-4827-8a9d-70ca2cb3c8d6"
      },
      "outputs": [
        {
          "output_type": "execute_result",
          "data": {
            "text/plain": [
              "10772"
            ]
          },
          "metadata": {},
          "execution_count": 12
        }
      ],
      "source": [
        "data.loc[data['Price'] == 0, 'Price'].count()"
      ]
    },
    {
      "cell_type": "code",
      "execution_count": 13,
      "metadata": {
        "colab": {
          "base_uri": "https://localhost:8080/",
          "height": 830
        },
        "id": "T5VOt3z6G1bB",
        "outputId": "dd1b7f34-3106-403e-da1e-882e0c113f19"
      },
      "outputs": [
        {
          "output_type": "display_data",
          "data": {
            "text/plain": [
              "<Figure size 1000x1000 with 1 Axes>"
            ],
            "image/png": "[encoded data removed]"
          },
          "metadata": {}
        }
      ],
      "source": [
        "data['Price'].hist(bins=50, figsize=(10, 10), range=(0, 500));"
      ]
    },
    {
      "cell_type": "markdown",
      "metadata": {
        "id": "w6ssDo5TG1bB"
      },
      "source": [
        "### Работа с пропусками и дубликатами"
      ]
    },
    {
      "cell_type": "code",
      "execution_count": 14,
      "metadata": {
        "colab": {
          "base_uri": "https://localhost:8080/"
        },
        "id": "Mhsb3tQsG1bB",
        "outputId": "0a96a4e8-8d83-431f-8373-29060d1f9286"
      },
      "outputs": [
        {
          "output_type": "execute_result",
          "data": {
            "text/plain": [
              "count    354369.000000\n",
              "mean       4416.656776\n",
              "std        4514.158514\n",
              "min           0.000000\n",
              "25%        1050.000000\n",
              "50%        2700.000000\n",
              "75%        6400.000000\n",
              "max       20000.000000\n",
              "Name: Price, dtype: float64"
            ]
          },
          "metadata": {},
          "execution_count": 14
        }
      ],
      "source": [
        "data['Price'].describe()"
      ]
    },
    {
      "cell_type": "markdown",
      "metadata": {
        "id": "IJ-EMIGXG1bB"
      },
      "source": [
        "Так как нулевых значений не так много, удалим их, так как пытаться восстанавливать целевой признак нежелательно"
      ]
    },
    {
      "cell_type": "code",
      "execution_count": 15,
      "metadata": {
        "colab": {
          "base_uri": "https://localhost:8080/"
        },
        "id": "XLh_DM_5G1bB",
        "outputId": "ffb08d89-4bbb-4b0a-ee5e-2a9a5383fc5a"
      },
      "outputs": [
        {
          "output_type": "execute_result",
          "data": {
            "text/plain": [
              "count    343597.000000\n",
              "mean       4555.121974\n",
              "std        4515.058553\n",
              "min           1.000000\n",
              "25%        1200.000000\n",
              "50%        2890.000000\n",
              "75%        6500.000000\n",
              "max       20000.000000\n",
              "Name: Price, dtype: float64"
            ]
          },
          "metadata": {},
          "execution_count": 15
        }
      ],
      "source": [
        "data_null_price = data.loc[data['Price'] == 0]\n",
        "data = data.loc[data['Price'] != 0]\n",
        "data['Price'].describe()"
      ]
    },
    {
      "cell_type": "markdown",
      "metadata": {
        "id": "W-E2DzUHG1bC"
      },
      "source": [
        "Изучим столбец мощность"
      ]
    },
    {
      "cell_type": "code",
      "execution_count": 16,
      "metadata": {
        "scrolled": false,
        "colab": {
          "base_uri": "https://localhost:8080/"
        },
        "id": "Kiu0P6LeG1bC",
        "outputId": "d773bc88-df00-4b3f-a266-7ca344b2183b"
      },
      "outputs": [
        {
          "output_type": "execute_result",
          "data": {
            "text/plain": [
              "0       36360\n",
              "75      23319\n",
              "60      15465\n",
              "150     14170\n",
              "101     12960\n",
              "        ...  \n",
              "519         1\n",
              "2461        1\n",
              "6006        1\n",
              "5815        1\n",
              "1241        1\n",
              "Name: Power, Length: 701, dtype: int64"
            ]
          },
          "metadata": {},
          "execution_count": 16
        }
      ],
      "source": [
        "data['Power'].value_counts()"
      ]
    },
    {
      "cell_type": "code",
      "execution_count": 17,
      "metadata": {
        "scrolled": true,
        "colab": {
          "base_uri": "https://localhost:8080/"
        },
        "id": "WWh7BXzKG1bC",
        "outputId": "39bfb467-e520-4456-a81d-cc4bdc77b0eb"
      },
      "outputs": [
        {
          "output_type": "execute_result",
          "data": {
            "text/plain": [
              "count    343597.000000\n",
              "mean        111.000192\n",
              "std         188.177974\n",
              "min           0.000000\n",
              "25%          69.000000\n",
              "50%         105.000000\n",
              "75%         143.000000\n",
              "max       20000.000000\n",
              "Name: Power, dtype: float64"
            ]
          },
          "metadata": {},
          "execution_count": 17
        }
      ],
      "source": [
        "data['Power'].describe()"
      ]
    },
    {
      "cell_type": "markdown",
      "metadata": {
        "id": "tu43pYVHG1bC"
      },
      "source": [
        "Также заменим нулевые значения, которых не может быть, на медианное значение по моделям автомобилей. Отсечём выбросы. Потенциально самый мощный автомобиль в мире имеет 4000 л.с., поэтому основываемся на реалистичности"
      ]
    },
    {
      "cell_type": "code",
      "execution_count": 18,
      "metadata": {
        "scrolled": true,
        "colab": {
          "base_uri": "https://localhost:8080/"
        },
        "id": "9oCloofSG1bK",
        "outputId": "ff783624-9f23-42ac-902b-ee46b7095f4c"
      },
      "outputs": [
        {
          "output_type": "execute_result",
          "data": {
            "text/plain": [
              "0       36360\n",
              "75      23319\n",
              "60      15465\n",
              "150     14170\n",
              "101     12960\n",
              "        ...  \n",
              "700         1\n",
              "2331        1\n",
              "2789        1\n",
              "519         1\n",
              "1241        1\n",
              "Name: Power, Length: 626, dtype: int64"
            ]
          },
          "metadata": {},
          "execution_count": 18
        }
      ],
      "source": [
        "data['Power'] = data['Power'].fillna(data.groupby(by=['Model'])['Power'].transform('median'))\n",
        "data = data.query('Power <= 4000')\n",
        "data['Power'].value_counts()"
      ]
    },
    {
      "cell_type": "markdown",
      "metadata": {
        "id": "K_vZ9t_IG1bL"
      },
      "source": [
        "Заменим неявный дубликат в столбце модели"
      ]
    },
    {
      "cell_type": "code",
      "execution_count": 19,
      "metadata": {
        "id": "0xx_KRo2G1bL"
      },
      "outputs": [],
      "source": [
        "data['Model'] = data['Model'].replace('rangerover', 'range_rover')"
      ]
    },
    {
      "cell_type": "markdown",
      "metadata": {
        "id": "Ci-FGTm7G1bL"
      },
      "source": [
        "Выделим из данных теоретически возможный год регистрации авто"
      ]
    },
    {
      "cell_type": "code",
      "execution_count": 20,
      "metadata": {
        "scrolled": false,
        "colab": {
          "base_uri": "https://localhost:8080/"
        },
        "id": "wwaHfmW9G1bL",
        "outputId": "bbc57598-ae2c-41bc-81ce-c9d5d1386526"
      },
      "outputs": [
        {
          "output_type": "execute_result",
          "data": {
            "text/plain": [
              "2000    23068\n",
              "1999    21990\n",
              "2005    21521\n",
              "2006    19674\n",
              "2001    19645\n",
              "        ...  \n",
              "1949        1\n",
              "1931        1\n",
              "1925        1\n",
              "1927        1\n",
              "1946        1\n",
              "Name: RegistrationYear, Length: 92, dtype: int64"
            ]
          },
          "metadata": {},
          "execution_count": 20
        }
      ],
      "source": [
        "data = data.query('1885 <= RegistrationYear <= 2016')\n",
        "data['RegistrationYear'].value_counts()"
      ]
    },
    {
      "cell_type": "markdown",
      "metadata": {
        "id": "tAGh2AL5G1bL"
      },
      "source": [
        "Добавим столбец с возрастом автомобиля, рассчитав его как разность между годом регистрации и датой создания анкеты"
      ]
    },
    {
      "cell_type": "code",
      "execution_count": 21,
      "metadata": {
        "colab": {
          "base_uri": "https://localhost:8080/",
          "height": 310
        },
        "id": "jHiP-Sp4G1bL",
        "outputId": "fcaa513e-422f-4bf5-ade0-982c1b663d76"
      },
      "outputs": [
        {
          "output_type": "stream",
          "name": "stderr",
          "text": [
            "<ipython-input-21-68edd2b4ab15>:1: SettingWithCopyWarning: \n",
            "A value is trying to be set on a copy of a slice from a DataFrame.\n",
            "Try using .loc[row_indexer,col_indexer] = value instead\n",
            "\n",
            "See the caveats in the documentation: https://pandas.pydata.org/pandas-docs/stable/user_guide/indexing.html#returning-a-view-versus-a-copy\n",
            "  data['DateCreated'] = pd.to_datetime(data['DateCreated'], format='%Y.%m.%d %H:%M:%S')\n"
          ]
        },
        {
          "output_type": "execute_result",
          "data": {
            "text/plain": [
              "   Price VehicleType  RegistrationYear Gearbox  Power  Model  Kilometer  \\\n",
              "0    480         NaN              1993  manual      0   golf     150000   \n",
              "1  18300       coupe              2011  manual    190    NaN     125000   \n",
              "2   9800         suv              2004    auto    163  grand     125000   \n",
              "3   1500       small              2001  manual     75   golf     150000   \n",
              "4   3600       small              2008  manual     69  fabia      90000   \n",
              "\n",
              "   FuelType       Brand Repaired DateCreated  Age  \n",
              "0    petrol  volkswagen      NaN  2016-03-24   23  \n",
              "1  gasoline        audi      yes  2016-03-24    5  \n",
              "2  gasoline        jeep      NaN  2016-03-14   12  \n",
              "3    petrol  volkswagen       no  2016-03-17   15  \n",
              "4  gasoline       skoda       no  2016-03-31    8  "
            ],
            "text/html": [
              "\n",
              "  <div id=\"df-db3b73b2-6e1c-4f95-a468-941ba7d9bd03\">\n",
              "    <div class=\"colab-df-container\">\n",
              "      <div>\n",
              "<style scoped>\n",
              "    .dataframe tbody tr th:only-of-type {\n",
              "        vertical-align: middle;\n",
              "    }\n",
              "\n",
              "    .dataframe tbody tr th {\n",
              "        vertical-align: top;\n",
              "    }\n",
              "\n",
              "    .dataframe thead th {\n",
              "        text-align: right;\n",
              "    }\n",
              "</style>\n",
              "<table border=\"1\" class=\"dataframe\">\n",
              "  <thead>\n",
              "    <tr style=\"text-align: right;\">\n",
              "      <th></th>\n",
              "      <th>Price</th>\n",
              "      <th>VehicleType</th>\n",
              "      <th>RegistrationYear</th>\n",
              "      <th>Gearbox</th>\n",
              "      <th>Power</th>\n",
              "      <th>Model</th>\n",
              "      <th>Kilometer</th>\n",
              "      <th>FuelType</th>\n",
              "      <th>Brand</th>\n",
              "      <th>Repaired</th>\n",
              "      <th>DateCreated</th>\n",
              "      <th>Age</th>\n",
              "    </tr>\n",
              "  </thead>\n",
              "  <tbody>\n",
              "    <tr>\n",
              "      <th>0</th>\n",
              "      <td>480</td>\n",
              "      <td>NaN</td>\n",
              "      <td>1993</td>\n",
              "      <td>manual</td>\n",
              "      <td>0</td>\n",
              "      <td>golf</td>\n",
              "      <td>150000</td>\n",
              "      <td>petrol</td>\n",
              "      <td>volkswagen</td>\n",
              "      <td>NaN</td>\n",
              "      <td>2016-03-24</td>\n",
              "      <td>23</td>\n",
              "    </tr>\n",
              "    <tr>\n",
              "      <th>1</th>\n",
              "      <td>18300</td>\n",
              "      <td>coupe</td>\n",
              "      <td>2011</td>\n",
              "      <td>manual</td>\n",
              "      <td>190</td>\n",
              "      <td>NaN</td>\n",
              "      <td>125000</td>\n",
              "      <td>gasoline</td>\n",
              "      <td>audi</td>\n",
              "      <td>yes</td>\n",
              "      <td>2016-03-24</td>\n",
              "      <td>5</td>\n",
              "    </tr>\n",
              "    <tr>\n",
              "      <th>2</th>\n",
              "      <td>9800</td>\n",
              "      <td>suv</td>\n",
              "      <td>2004</td>\n",
              "      <td>auto</td>\n",
              "      <td>163</td>\n",
              "      <td>grand</td>\n",
              "      <td>125000</td>\n",
              "      <td>gasoline</td>\n",
              "      <td>jeep</td>\n",
              "      <td>NaN</td>\n",
              "      <td>2016-03-14</td>\n",
              "      <td>12</td>\n",
              "    </tr>\n",
              "    <tr>\n",
              "      <th>3</th>\n",
              "      <td>1500</td>\n",
              "      <td>small</td>\n",
              "      <td>2001</td>\n",
              "      <td>manual</td>\n",
              "      <td>75</td>\n",
              "      <td>golf</td>\n",
              "      <td>150000</td>\n",
              "      <td>petrol</td>\n",
              "      <td>volkswagen</td>\n",
              "      <td>no</td>\n",
              "      <td>2016-03-17</td>\n",
              "      <td>15</td>\n",
              "    </tr>\n",
              "    <tr>\n",
              "      <th>4</th>\n",
              "      <td>3600</td>\n",
              "      <td>small</td>\n",
              "      <td>2008</td>\n",
              "      <td>manual</td>\n",
              "      <td>69</td>\n",
              "      <td>fabia</td>\n",
              "      <td>90000</td>\n",
              "      <td>gasoline</td>\n",
              "      <td>skoda</td>\n",
              "      <td>no</td>\n",
              "      <td>2016-03-31</td>\n",
              "      <td>8</td>\n",
              "    </tr>\n",
              "  </tbody>\n",
              "</table>\n",
              "</div>\n",
              "      <button class=\"colab-df-convert\" onclick=\"convertToInteractive('df-db3b73b2-6e1c-4f95-a468-941ba7d9bd03')\"\n",
              "              title=\"Convert this dataframe to an interactive table.\"\n",
              "              style=\"display:none;\">\n",
              "        \n",
              "  <svg xmlns=\"http://www.w3.org/2000/svg\" height=\"24px\"viewBox=\"0 0 24 24\"\n",
              "       width=\"24px\">\n",
              "    <path d=\"M0 0h24v24H0V0z\" fill=\"none\"/>\n",
              "    <path d=\"M18.56 5.44l.94 2.06.94-2.06 2.06-.94-2.06-.94-.94-2.06-.94 2.06-2.06.94zm-11 1L8.5 8.5l.94-2.06 2.06-.94-2.06-.94L8.5 2.5l-.94 2.06-2.06.94zm10 10l.94 2.06.94-2.06 2.06-.94-2.06-.94-.94-2.06-.94 2.06-2.06.94z\"/><path d=\"M17.41 7.96l-1.37-1.37c-.4-.4-.92-.59-1.43-.59-.52 0-1.04.2-1.43.59L10.3 9.45l-7.72 7.72c-.78.78-.78 2.05 0 2.83L4 21.41c.39.39.9.59 1.41.59.51 0 1.02-.2 1.41-.59l7.78-7.78 2.81-2.81c.8-.78.8-2.07 0-2.86zM5.41 20L4 18.59l7.72-7.72 1.47 1.35L5.41 20z\"/>\n",
              "  </svg>\n",
              "      </button>\n",
              "      \n",
              "  <style>\n",
              "    .colab-df-container {\n",
              "      display:flex;\n",
              "      flex-wrap:wrap;\n",
              "      gap: 12px;\n",
              "    }\n",
              "\n",
              "    .colab-df-convert {\n",
              "      background-color: #E8F0FE;\n",
              "      border: none;\n",
              "      border-radius: 50%;\n",
              "      cursor: pointer;\n",
              "      display: none;\n",
              "      fill: #1967D2;\n",
              "      height: 32px;\n",
              "      padding: 0 0 0 0;\n",
              "      width: 32px;\n",
              "    }\n",
              "\n",
              "    .colab-df-convert:hover {\n",
              "      background-color: #E2EBFA;\n",
              "      box-shadow: 0px 1px 2px rgba(60, 64, 67, 0.3), 0px 1px 3px 1px rgba(60, 64, 67, 0.15);\n",
              "      fill: #174EA6;\n",
              "    }\n",
              "\n",
              "    [theme=dark] .colab-df-convert {\n",
              "      background-color: #3B4455;\n",
              "      fill: #D2E3FC;\n",
              "    }\n",
              "\n",
              "    [theme=dark] .colab-df-convert:hover {\n",
              "      background-color: #434B5C;\n",
              "      box-shadow: 0px 1px 3px 1px rgba(0, 0, 0, 0.15);\n",
              "      filter: drop-shadow(0px 1px 2px rgba(0, 0, 0, 0.3));\n",
              "      fill: #FFFFFF;\n",
              "    }\n",
              "  </style>\n",
              "\n",
              "      <script>\n",
              "        const buttonEl =\n",
              "          document.querySelector('#df-db3b73b2-6e1c-4f95-a468-941ba7d9bd03 button.colab-df-convert');\n",
              "        buttonEl.style.display =\n",
              "          google.colab.kernel.accessAllowed ? 'block' : 'none';\n",
              "\n",
              "        async function convertToInteractive(key) {\n",
              "          const element = document.querySelector('#df-db3b73b2-6e1c-4f95-a468-941ba7d9bd03');\n",
              "          const dataTable =\n",
              "            await google.colab.kernel.invokeFunction('convertToInteractive',\n",
              "                                                     [key], {});\n",
              "          if (!dataTable) return;\n",
              "\n",
              "          const docLinkHtml = 'Like what you see? Visit the ' +\n",
              "            '<a target=\"_blank\" href=https://colab.research.google.com/notebooks/data_table.ipynb>data table notebook</a>'\n",
              "            + ' to learn more about interactive tables.';\n",
              "          element.innerHTML = '';\n",
              "          dataTable['output_type'] = 'display_data';\n",
              "          await google.colab.output.renderOutput(dataTable, element);\n",
              "          const docLink = document.createElement('div');\n",
              "          docLink.innerHTML = docLinkHtml;\n",
              "          element.appendChild(docLink);\n",
              "        }\n",
              "      </script>\n",
              "    </div>\n",
              "  </div>\n",
              "  "
            ]
          },
          "metadata": {},
          "execution_count": 21
        }
      ],
      "source": [
        "data['DateCreated'] = pd.to_datetime(data['DateCreated'], format='%Y.%m.%d %H:%M:%S')\n",
        "data['Age'] = pd.DatetimeIndex(data['DateCreated']).year - data['RegistrationYear']\n",
        "data.head()"
      ]
    },
    {
      "cell_type": "markdown",
      "metadata": {
        "id": "__sqxBbOG1bM"
      },
      "source": [
        "Удалим теперь ненужные столбцы"
      ]
    },
    {
      "cell_type": "code",
      "execution_count": 22,
      "metadata": {
        "colab": {
          "base_uri": "https://localhost:8080/"
        },
        "id": "m2f0afyaG1bM",
        "outputId": "0f19f326-4545-448c-c86f-f5f9d1b203c0"
      },
      "outputs": [
        {
          "output_type": "stream",
          "name": "stdout",
          "text": [
            "<class 'pandas.core.frame.DataFrame'>\n",
            "Int64Index: 329690 entries, 0 to 354368\n",
            "Data columns (total 10 columns):\n",
            " #   Column       Non-Null Count   Dtype \n",
            "---  ------       --------------   ----- \n",
            " 0   Price        329690 non-null  int64 \n",
            " 1   VehicleType  309758 non-null  object\n",
            " 2   Gearbox      314091 non-null  object\n",
            " 3   Power        329690 non-null  int64 \n",
            " 4   Model        314060 non-null  object\n",
            " 5   Kilometer    329690 non-null  int64 \n",
            " 6   FuelType     305528 non-null  object\n",
            " 7   Brand        329690 non-null  object\n",
            " 8   Repaired     269835 non-null  object\n",
            " 9   Age          329690 non-null  int64 \n",
            "dtypes: int64(4), object(6)\n",
            "memory usage: 27.7+ MB\n"
          ]
        }
      ],
      "source": [
        "data = data.drop(columns=['RegistrationYear', 'DateCreated'], axis=1)\n",
        "data.info()"
      ]
    },
    {
      "cell_type": "markdown",
      "metadata": {
        "id": "--VOym-GG1bM"
      },
      "source": [
        "Заполним пропуски в колонках категориальных признаков"
      ]
    },
    {
      "cell_type": "code",
      "execution_count": 23,
      "metadata": {
        "id": "v4phfx3WG1bM"
      },
      "outputs": [],
      "source": [
        "data = data.fillna('unknown')"
      ]
    },
    {
      "cell_type": "markdown",
      "metadata": {
        "id": "vcAL-FfyG1bN"
      },
      "source": [
        "Посмотрим, сколько строк мы удалили"
      ]
    },
    {
      "cell_type": "code",
      "execution_count": 24,
      "metadata": {
        "colab": {
          "base_uri": "https://localhost:8080/"
        },
        "id": "VNpNkMBoG1bN",
        "outputId": "18e6fab8-cf8d-4c21-aafe-864f6ed19713"
      },
      "outputs": [
        {
          "output_type": "execute_result",
          "data": {
            "text/plain": [
              "24679"
            ]
          },
          "metadata": {},
          "execution_count": 24
        }
      ],
      "source": [
        "data_full.shape[0] - data.shape[0]"
      ]
    },
    {
      "cell_type": "markdown",
      "metadata": {
        "id": "WflNyyUMG1bN"
      },
      "source": [
        "В процентах"
      ]
    },
    {
      "cell_type": "code",
      "execution_count": 25,
      "metadata": {
        "colab": {
          "base_uri": "https://localhost:8080/"
        },
        "id": "u2IqtVTrG1bN",
        "outputId": "39285744-b7e8-4e15-e0a3-630033f8c553"
      },
      "outputs": [
        {
          "output_type": "execute_result",
          "data": {
            "text/plain": [
              "0.06964209623302264"
            ]
          },
          "metadata": {},
          "execution_count": 25
        }
      ],
      "source": [
        "1 - (data.shape[0] / data_full.shape[0])"
      ]
    },
    {
      "cell_type": "code",
      "execution_count": 26,
      "metadata": {
        "scrolled": true,
        "colab": {
          "base_uri": "https://localhost:8080/",
          "height": 363
        },
        "id": "cSd-1NvAG1bO",
        "outputId": "e06aa74b-7d82-4411-e2b9-0a325e671c52"
      },
      "outputs": [
        {
          "output_type": "execute_result",
          "data": {
            "text/plain": [
              "    Price  VehicleType Gearbox  Power    Model  Kilometer  FuelType  \\\n",
              "0     480      unknown  manual      0     golf     150000    petrol   \n",
              "1   18300        coupe  manual    190  unknown     125000  gasoline   \n",
              "2    9800          suv    auto    163    grand     125000  gasoline   \n",
              "3    1500        small  manual     75     golf     150000    petrol   \n",
              "4    3600        small  manual     69    fabia      90000  gasoline   \n",
              "5     650        sedan  manual    102      3er     150000    petrol   \n",
              "6    2200  convertible  manual    109  2_reihe     150000    petrol   \n",
              "8   14500          bus  manual    125    c_max      30000    petrol   \n",
              "9     999        small  manual    101     golf     150000   unknown   \n",
              "10   2000        sedan  manual    105  3_reihe     150000    petrol   \n",
              "\n",
              "         Brand Repaired  Age  \n",
              "0   volkswagen  unknown   23  \n",
              "1         audi      yes    5  \n",
              "2         jeep  unknown   12  \n",
              "3   volkswagen       no   15  \n",
              "4        skoda       no    8  \n",
              "5          bmw      yes   21  \n",
              "6      peugeot       no   12  \n",
              "8         ford  unknown    2  \n",
              "9   volkswagen  unknown   18  \n",
              "10       mazda       no   12  "
            ],
            "text/html": [
              "\n",
              "  <div id=\"df-ae4309e1-a436-4a35-83e5-1e9488aada12\">\n",
              "    <div class=\"colab-df-container\">\n",
              "      <div>\n",
              "<style scoped>\n",
              "    .dataframe tbody tr th:only-of-type {\n",
              "        vertical-align: middle;\n",
              "    }\n",
              "\n",
              "    .dataframe tbody tr th {\n",
              "        vertical-align: top;\n",
              "    }\n",
              "\n",
              "    .dataframe thead th {\n",
              "        text-align: right;\n",
              "    }\n",
              "</style>\n",
              "<table border=\"1\" class=\"dataframe\">\n",
              "  <thead>\n",
              "    <tr style=\"text-align: right;\">\n",
              "      <th></th>\n",
              "      <th>Price</th>\n",
              "      <th>VehicleType</th>\n",
              "      <th>Gearbox</th>\n",
              "      <th>Power</th>\n",
              "      <th>Model</th>\n",
              "      <th>Kilometer</th>\n",
              "      <th>FuelType</th>\n",
              "      <th>Brand</th>\n",
              "      <th>Repaired</th>\n",
              "      <th>Age</th>\n",
              "    </tr>\n",
              "  </thead>\n",
              "  <tbody>\n",
              "    <tr>\n",
              "      <th>0</th>\n",
              "      <td>480</td>\n",
              "      <td>unknown</td>\n",
              "      <td>manual</td>\n",
              "      <td>0</td>\n",
              "      <td>golf</td>\n",
              "      <td>150000</td>\n",
              "      <td>petrol</td>\n",
              "      <td>volkswagen</td>\n",
              "      <td>unknown</td>\n",
              "      <td>23</td>\n",
              "    </tr>\n",
              "    <tr>\n",
              "      <th>1</th>\n",
              "      <td>18300</td>\n",
              "      <td>coupe</td>\n",
              "      <td>manual</td>\n",
              "      <td>190</td>\n",
              "      <td>unknown</td>\n",
              "      <td>125000</td>\n",
              "      <td>gasoline</td>\n",
              "      <td>audi</td>\n",
              "      <td>yes</td>\n",
              "      <td>5</td>\n",
              "    </tr>\n",
              "    <tr>\n",
              "      <th>2</th>\n",
              "      <td>9800</td>\n",
              "      <td>suv</td>\n",
              "      <td>auto</td>\n",
              "      <td>163</td>\n",
              "      <td>grand</td>\n",
              "      <td>125000</td>\n",
              "      <td>gasoline</td>\n",
              "      <td>jeep</td>\n",
              "      <td>unknown</td>\n",
              "      <td>12</td>\n",
              "    </tr>\n",
              "    <tr>\n",
              "      <th>3</th>\n",
              "      <td>1500</td>\n",
              "      <td>small</td>\n",
              "      <td>manual</td>\n",
              "      <td>75</td>\n",
              "      <td>golf</td>\n",
              "      <td>150000</td>\n",
              "      <td>petrol</td>\n",
              "      <td>volkswagen</td>\n",
              "      <td>no</td>\n",
              "      <td>15</td>\n",
              "    </tr>\n",
              "    <tr>\n",
              "      <th>4</th>\n",
              "      <td>3600</td>\n",
              "      <td>small</td>\n",
              "      <td>manual</td>\n",
              "      <td>69</td>\n",
              "      <td>fabia</td>\n",
              "      <td>90000</td>\n",
              "      <td>gasoline</td>\n",
              "      <td>skoda</td>\n",
              "      <td>no</td>\n",
              "      <td>8</td>\n",
              "    </tr>\n",
              "    <tr>\n",
              "      <th>5</th>\n",
              "      <td>650</td>\n",
              "      <td>sedan</td>\n",
              "      <td>manual</td>\n",
              "      <td>102</td>\n",
              "      <td>3er</td>\n",
              "      <td>150000</td>\n",
              "      <td>petrol</td>\n",
              "      <td>bmw</td>\n",
              "      <td>yes</td>\n",
              "      <td>21</td>\n",
              "    </tr>\n",
              "    <tr>\n",
              "      <th>6</th>\n",
              "      <td>2200</td>\n",
              "      <td>convertible</td>\n",
              "      <td>manual</td>\n",
              "      <td>109</td>\n",
              "      <td>2_reihe</td>\n",
              "      <td>150000</td>\n",
              "      <td>petrol</td>\n",
              "      <td>peugeot</td>\n",
              "      <td>no</td>\n",
              "      <td>12</td>\n",
              "    </tr>\n",
              "    <tr>\n",
              "      <th>8</th>\n",
              "      <td>14500</td>\n",
              "      <td>bus</td>\n",
              "      <td>manual</td>\n",
              "      <td>125</td>\n",
              "      <td>c_max</td>\n",
              "      <td>30000</td>\n",
              "      <td>petrol</td>\n",
              "      <td>ford</td>\n",
              "      <td>unknown</td>\n",
              "      <td>2</td>\n",
              "    </tr>\n",
              "    <tr>\n",
              "      <th>9</th>\n",
              "      <td>999</td>\n",
              "      <td>small</td>\n",
              "      <td>manual</td>\n",
              "      <td>101</td>\n",
              "      <td>golf</td>\n",
              "      <td>150000</td>\n",
              "      <td>unknown</td>\n",
              "      <td>volkswagen</td>\n",
              "      <td>unknown</td>\n",
              "      <td>18</td>\n",
              "    </tr>\n",
              "    <tr>\n",
              "      <th>10</th>\n",
              "      <td>2000</td>\n",
              "      <td>sedan</td>\n",
              "      <td>manual</td>\n",
              "      <td>105</td>\n",
              "      <td>3_reihe</td>\n",
              "      <td>150000</td>\n",
              "      <td>petrol</td>\n",
              "      <td>mazda</td>\n",
              "      <td>no</td>\n",
              "      <td>12</td>\n",
              "    </tr>\n",
              "  </tbody>\n",
              "</table>\n",
              "</div>\n",
              "      <button class=\"colab-df-convert\" onclick=\"convertToInteractive('df-ae4309e1-a436-4a35-83e5-1e9488aada12')\"\n",
              "              title=\"Convert this dataframe to an interactive table.\"\n",
              "              style=\"display:none;\">\n",
              "        \n",
              "  <svg xmlns=\"http://www.w3.org/2000/svg\" height=\"24px\"viewBox=\"0 0 24 24\"\n",
              "       width=\"24px\">\n",
              "    <path d=\"M0 0h24v24H0V0z\" fill=\"none\"/>\n",
              "    <path d=\"M18.56 5.44l.94 2.06.94-2.06 2.06-.94-2.06-.94-.94-2.06-.94 2.06-2.06.94zm-11 1L8.5 8.5l.94-2.06 2.06-.94-2.06-.94L8.5 2.5l-.94 2.06-2.06.94zm10 10l.94 2.06.94-2.06 2.06-.94-2.06-.94-.94-2.06-.94 2.06-2.06.94z\"/><path d=\"M17.41 7.96l-1.37-1.37c-.4-.4-.92-.59-1.43-.59-.52 0-1.04.2-1.43.59L10.3 9.45l-7.72 7.72c-.78.78-.78 2.05 0 2.83L4 21.41c.39.39.9.59 1.41.59.51 0 1.02-.2 1.41-.59l7.78-7.78 2.81-2.81c.8-.78.8-2.07 0-2.86zM5.41 20L4 18.59l7.72-7.72 1.47 1.35L5.41 20z\"/>\n",
              "  </svg>\n",
              "      </button>\n",
              "      \n",
              "  <style>\n",
              "    .colab-df-container {\n",
              "      display:flex;\n",
              "      flex-wrap:wrap;\n",
              "      gap: 12px;\n",
              "    }\n",
              "\n",
              "    .colab-df-convert {\n",
              "      background-color: #E8F0FE;\n",
              "      border: none;\n",
              "      border-radius: 50%;\n",
              "      cursor: pointer;\n",
              "      display: none;\n",
              "      fill: #1967D2;\n",
              "      height: 32px;\n",
              "      padding: 0 0 0 0;\n",
              "      width: 32px;\n",
              "    }\n",
              "\n",
              "    .colab-df-convert:hover {\n",
              "      background-color: #E2EBFA;\n",
              "      box-shadow: 0px 1px 2px rgba(60, 64, 67, 0.3), 0px 1px 3px 1px rgba(60, 64, 67, 0.15);\n",
              "      fill: #174EA6;\n",
              "    }\n",
              "\n",
              "    [theme=dark] .colab-df-convert {\n",
              "      background-color: #3B4455;\n",
              "      fill: #D2E3FC;\n",
              "    }\n",
              "\n",
              "    [theme=dark] .colab-df-convert:hover {\n",
              "      background-color: #434B5C;\n",
              "      box-shadow: 0px 1px 3px 1px rgba(0, 0, 0, 0.15);\n",
              "      filter: drop-shadow(0px 1px 2px rgba(0, 0, 0, 0.3));\n",
              "      fill: #FFFFFF;\n",
              "    }\n",
              "  </style>\n",
              "\n",
              "      <script>\n",
              "        const buttonEl =\n",
              "          document.querySelector('#df-ae4309e1-a436-4a35-83e5-1e9488aada12 button.colab-df-convert');\n",
              "        buttonEl.style.display =\n",
              "          google.colab.kernel.accessAllowed ? 'block' : 'none';\n",
              "\n",
              "        async function convertToInteractive(key) {\n",
              "          const element = document.querySelector('#df-ae4309e1-a436-4a35-83e5-1e9488aada12');\n",
              "          const dataTable =\n",
              "            await google.colab.kernel.invokeFunction('convertToInteractive',\n",
              "                                                     [key], {});\n",
              "          if (!dataTable) return;\n",
              "\n",
              "          const docLinkHtml = 'Like what you see? Visit the ' +\n",
              "            '<a target=\"_blank\" href=https://colab.research.google.com/notebooks/data_table.ipynb>data table notebook</a>'\n",
              "            + ' to learn more about interactive tables.';\n",
              "          element.innerHTML = '';\n",
              "          dataTable['output_type'] = 'display_data';\n",
              "          await google.colab.output.renderOutput(dataTable, element);\n",
              "          const docLink = document.createElement('div');\n",
              "          docLink.innerHTML = docLinkHtml;\n",
              "          element.appendChild(docLink);\n",
              "        }\n",
              "      </script>\n",
              "    </div>\n",
              "  </div>\n",
              "  "
            ]
          },
          "metadata": {},
          "execution_count": 26
        }
      ],
      "source": [
        "data.head(10)"
      ]
    },
    {
      "cell_type": "markdown",
      "metadata": {
        "id": "RE3fBhuiG1bO"
      },
      "source": [
        "### Деление на выборки, кодировка и масштабирование "
      ]
    },
    {
      "cell_type": "markdown",
      "metadata": {
        "id": "PEA0SLK6G1bO"
      },
      "source": [
        "Выделим признаки и целевой признак, разделим на обучающую и тестовую выборки"
      ]
    },
    {
      "cell_type": "code",
      "execution_count": 27,
      "metadata": {
        "id": "dUjxU1u5G1bO"
      },
      "outputs": [],
      "source": [
        "features = data.drop('Price', axis=1)\n",
        "target = data['Price']\n",
        "\n",
        "features_train, features_test, target_train, target_test = train_test_split(\n",
        "    features, target, test_size=0.25, random_state=12345)"
      ]
    },
    {
      "cell_type": "code",
      "execution_count": 28,
      "metadata": {
        "colab": {
          "base_uri": "https://localhost:8080/"
        },
        "id": "WigGdj17G1bP",
        "outputId": "956288c9-913d-4f63-cf68-e80d6b324c5b"
      },
      "outputs": [
        {
          "output_type": "execute_result",
          "data": {
            "text/plain": [
              "(247267, 9)"
            ]
          },
          "metadata": {},
          "execution_count": 28
        }
      ],
      "source": [
        "features_train.shape"
      ]
    },
    {
      "cell_type": "code",
      "execution_count": 29,
      "metadata": {
        "colab": {
          "base_uri": "https://localhost:8080/"
        },
        "id": "3Hctcd0wG1bQ",
        "outputId": "eb4c6dc9-6074-4acf-f2ed-49bf9ec6aa81"
      },
      "outputs": [
        {
          "output_type": "execute_result",
          "data": {
            "text/plain": [
              "(82423, 9)"
            ]
          },
          "metadata": {},
          "execution_count": 29
        }
      ],
      "source": [
        "features_test.shape"
      ]
    },
    {
      "cell_type": "markdown",
      "metadata": {
        "id": "l03gqFzkG1bQ"
      },
      "source": [
        "Закодируем категориальные признаки в численные с помощью порядкового кодирования"
      ]
    },
    {
      "cell_type": "code",
      "execution_count": 30,
      "metadata": {
        "id": "nizvgPuxG1bQ"
      },
      "outputs": [],
      "source": [
        "oe_features = features_train.select_dtypes(include='object').columns.to_list()\n",
        "\n",
        "encoder = OrdinalEncoder()\n",
        "encoder.fit(features_train[oe_features])\n",
        "\n",
        "features_train[\n",
        "    encoder.get_feature_names_out()\n",
        "] = encoder.transform(features_train[oe_features])\n",
        "\n",
        "features_test[\n",
        "    encoder.get_feature_names_out()\n",
        "] = encoder.transform(features_test[oe_features])"
      ]
    },
    {
      "cell_type": "markdown",
      "metadata": {
        "id": "zzkWtaslG1bR"
      },
      "source": [
        "Масштабируем наш датасет, чтобы нивелировать разность в размерах чисел в столбцах"
      ]
    },
    {
      "cell_type": "code",
      "execution_count": 31,
      "metadata": {
        "id": "9_yse83_G1bR"
      },
      "outputs": [],
      "source": [
        "pd.options.mode.chained_assignment = None\n",
        "\n",
        "scaler = StandardScaler()\n",
        "scaler.fit(features_train)\n",
        "features_train = scaler.transform(features_train)\n",
        "features_test = scaler.transform(features_test)"
      ]
    },
    {
      "cell_type": "markdown",
      "metadata": {
        "id": "vf-h2UzvG1bR"
      },
      "source": [
        "Вывод: в датасете достаточно много пропусков, которые частично пришлось заполнить заглушками. В идеальном варианте для точного предсказания модели необходимо вычистить все неполные данные, так как восстановить их на 100% верно не представляется возможным, а искажения ведут к неточным предсказаниям. В нашем случае мы могли бы потерять много данных, убрав все пропуски. Поэтому, несмотря на небольшое снижения качества моделей, данные всё же были частично восстановлены"
      ]
    },
    {
      "cell_type": "markdown",
      "metadata": {
        "id": "Sv3I9ne1G1bS"
      },
      "source": [
        "## Обучение моделей"
      ]
    },
    {
      "cell_type": "markdown",
      "metadata": {
        "id": "iyrS5wkIG1bS"
      },
      "source": [
        "В этом разделе с помощью RandomizedSearchCV подберём лучшие гиперпараметры 4 моделям, 2 из которых градиентный бустинг, а 2 нет"
      ]
    },
    {
      "cell_type": "markdown",
      "metadata": {
        "id": "Ign6773YG1bS"
      },
      "source": [
        "Обучим модель решающего дерева"
      ]
    },
    {
      "cell_type": "code",
      "execution_count": 32,
      "metadata": {
        "colab": {
          "base_uri": "https://localhost:8080/"
        },
        "id": "URalK7dbG1bS",
        "outputId": "e9b1f51c-a07c-403c-92a9-ff63421f83ec"
      },
      "outputs": [
        {
          "output_type": "stream",
          "name": "stdout",
          "text": [
            "Лучшие параметры решающего дерева: {'min_samples_split': 6, 'min_samples_leaf': 6, 'max_depth': 18}\n",
            "Лучший RMSE: 1833.1396374581395\n",
            "CPU times: user 42.5 s, sys: 71.6 ms, total: 42.5 s\n",
            "Wall time: 48.2 s\n"
          ]
        }
      ],
      "source": [
        "%%time\n",
        "\n",
        "params_dt = {'max_depth': range(15, 26),\n",
        "             'min_samples_split': range(2, 10),\n",
        "             'min_samples_leaf': range(1, 10)}\n",
        "cv_dt = RandomizedSearchCV(DecisionTreeRegressor(random_state=12345), params_dt, scoring='neg_root_mean_squared_error')\n",
        "\n",
        "dt_model = cv_dt.fit(features_train, target_train)\n",
        "print('Лучшие параметры решающего дерева:', dt_model.best_params_)\n",
        "print('Лучший RMSE:', abs(dt_model.best_score_))"
      ]
    },
    {
      "cell_type": "markdown",
      "metadata": {
        "id": "he0i5v04G1bT"
      },
      "source": [
        "Обучим модель случайного леса"
      ]
    },
    {
      "cell_type": "code",
      "execution_count": 33,
      "metadata": {
        "colab": {
          "base_uri": "https://localhost:8080/"
        },
        "id": "HnwIgXuiG1bT",
        "outputId": "eb68448c-d6c1-4956-d383-578964a5f7e2"
      },
      "outputs": [
        {
          "output_type": "stream",
          "name": "stdout",
          "text": [
            "Лучшие параметры рандомного леса: {'n_estimators': 80, 'min_samples_split': 8, 'max_depth': 15}\n",
            "Лучший RMSE: 1676.737314481507\n",
            "CPU times: user 21min 38s, sys: 1.53 s, total: 21min 40s\n",
            "Wall time: 21min 44s\n"
          ]
        }
      ],
      "source": [
        "%%time\n",
        "\n",
        "params_rf = {'max_depth': range(6, 16),\n",
        "             'n_estimators': range(50, 81, 10),\n",
        "             'min_samples_split': range(2, 10)}\n",
        "cv_rf = RandomizedSearchCV(RandomForestRegressor(random_state=12345), params_rf, scoring='neg_root_mean_squared_error')\n",
        "\n",
        "rf_model = cv_rf.fit(features_train, target_train)\n",
        "print('Лучшие параметры рандомного леса:', rf_model.best_params_)\n",
        "print('Лучший RMSE:', abs(rf_model.best_score_))"
      ]
    },
    {
      "cell_type": "markdown",
      "metadata": {
        "id": "l887tobMG1bT"
      },
      "source": [
        "Обучим модель LGBM"
      ]
    },
    {
      "cell_type": "code",
      "execution_count": 34,
      "metadata": {
        "colab": {
          "base_uri": "https://localhost:8080/"
        },
        "id": "dpruhUkEG1bT",
        "outputId": "747667f4-bb20-4c80-9134-9855d8b8c3a8"
      },
      "outputs": [
        {
          "output_type": "stream",
          "name": "stdout",
          "text": [
            "Лучшие параметры LGBM: {'n_estimators': 30, 'max_depth': 14}\n",
            "Лучший RMSE: 1960.764537024065\n",
            "CPU times: user 59.2 s, sys: 210 ms, total: 59.4 s\n",
            "Wall time: 34.3 s\n"
          ]
        }
      ],
      "source": [
        "%%time\n",
        "\n",
        "params_lgbm = {'max_depth': range(6, 16),\n",
        "             'n_estimators': range(10, 31, 10)}\n",
        "cv_lgbm = RandomizedSearchCV(LGBMRegressor(random_state=12345), params_lgbm, scoring='neg_root_mean_squared_error')\n",
        "\n",
        "lgbm_model = cv_lgbm.fit(features_train, target_train)\n",
        "print('Лучшие параметры LGBM:', lgbm_model.best_params_)\n",
        "print('Лучший RMSE:', abs(lgbm_model.best_score_))"
      ]
    },
    {
      "cell_type": "markdown",
      "metadata": {
        "id": "R3x7bBHaG1bT"
      },
      "source": [
        "Обучим модель CatBoost"
      ]
    },
    {
      "cell_type": "code",
      "execution_count": 35,
      "metadata": {
        "colab": {
          "base_uri": "https://localhost:8080/"
        },
        "id": "TVsFGLVHG1bT",
        "outputId": "4d475ecb-a92f-47e4-c908-1dcc74db1045"
      },
      "outputs": [
        {
          "output_type": "stream",
          "name": "stdout",
          "text": [
            "Лучшие параметры CatBoost: {'n_estimators': 80, 'max_depth': 14}\n",
            "Лучший RMSE: 1634.3377246271323\n",
            "CPU times: user 13min 53s, sys: 3min 32s, total: 17min 26s\n",
            "Wall time: 11min 23s\n"
          ]
        }
      ],
      "source": [
        "%%time\n",
        "\n",
        "params_cat = {'max_depth': range(6, 16),\n",
        "             'n_estimators': range(50, 81, 10)}\n",
        "cv_cat = RandomizedSearchCV(CatBoostRegressor(random_state=12345, verbose=False), \n",
        "                            params_cat, scoring='neg_root_mean_squared_error')\n",
        "\n",
        "cat_model = cv_cat.fit(features_train, target_train)\n",
        "print('Лучшие параметры CatBoost:', cat_model.best_params_)\n",
        "print('Лучший RMSE:', abs(cat_model.best_score_))"
      ]
    },
    {
      "cell_type": "markdown",
      "metadata": {
        "id": "nMBjpCCZG1bU"
      },
      "source": [
        "Вывод: в этом разделе мы обучили и c помощью RandomizedSearchCV подобрали лучшие гиперпараметры к четырём моделям, две - бустинг, две - не бустинг. Лучший результат по RMSE показала модель CatBoost. Определиться со временем обучения и предсказания мы сможем, проанализировав эту модель на тестовой выборке"
      ]
    },
    {
      "cell_type": "markdown",
      "metadata": {
        "id": "6l6U3E8sG1bU"
      },
      "source": [
        "## Анализ моделей"
      ]
    },
    {
      "cell_type": "markdown",
      "metadata": {
        "id": "d3rWYJP8G1bU"
      },
      "source": [
        "Проанализируем время обучения, время предсказания и качество модели CatBoost с лучшими гиперпараметрами"
      ]
    },
    {
      "cell_type": "code",
      "execution_count": 40,
      "metadata": {
        "colab": {
          "base_uri": "https://localhost:8080/"
        },
        "id": "KxGB35KuG1bV",
        "outputId": "35cf0bb4-45cc-4b78-adbd-e65b6810b636"
      },
      "outputs": [
        {
          "output_type": "stream",
          "name": "stdout",
          "text": [
            "25 s ± 1.1 s per loop (mean ± std. dev. of 7 runs, 1 loop each)\n"
          ]
        }
      ],
      "source": [
        "%%timeit\n",
        "\n",
        "cat_model = CatBoostRegressor(random_state=12345, verbose=False, max_depth=14, n_estimators=80)\n",
        "cat_model.fit(features_train, target_train)"
      ]
    },
    {
      "cell_type": "code",
      "execution_count": 41,
      "metadata": {
        "colab": {
          "base_uri": "https://localhost:8080/"
        },
        "id": "9t1WodVKG1bV",
        "outputId": "b1f6136c-32af-4868-8b16-72df20608954"
      },
      "outputs": [
        {
          "output_type": "stream",
          "name": "stdout",
          "text": [
            "53.1 ms ± 975 µs per loop (mean ± std. dev. of 7 runs, 10 loops each)\n"
          ]
        }
      ],
      "source": [
        "%%timeit\n",
        "\n",
        "cat_model.predict(features_test)"
      ]
    },
    {
      "cell_type": "code",
      "execution_count": 42,
      "metadata": {
        "colab": {
          "base_uri": "https://localhost:8080/"
        },
        "id": "XapAotTzG1bV",
        "outputId": "2b85241d-c3d3-4eb2-9864-4ae62135abc4"
      },
      "outputs": [
        {
          "output_type": "stream",
          "name": "stdout",
          "text": [
            "RMSE: 1616.295963163732\n"
          ]
        }
      ],
      "source": [
        "print('RMSE:', mean_squared_error(target_test, cat_model.predict(features_test), squared=False))"
      ]
    },
    {
      "cell_type": "markdown",
      "metadata": {
        "id": "Agr851rsG1bV"
      },
      "source": [
        "Вывод: Несмотря на то, что модель решающего дерева обучается и даёт предсказания быстрее, качество несравнимо лучше у модели CatBoost. Случайный лес по качеству сопоставим с CatBoost, но долго даёт предсказания. LGBM не отличилась ни скоростью, ни качеством"
      ]
    },
    {
      "cell_type": "markdown",
      "metadata": {
        "id": "0G0H3EUfG1bV"
      },
      "source": [
        "Таким образом, с учётом пожеланий заказчика, лучшая модель для предсказаний стоимости автомобиля - это CatBoost.\n",
        "\n",
        "Время обучения: 25 s ± 1.1 s\n",
        "\n",
        "Время предсказания: 53.1 ms ± 975 ms\n",
        "\n",
        "RMSE на тестовой выборке: 1616.295963163732"
      ]
    }
  ],
  "metadata": {
    "ExecuteTimeLog": [
      {
        "duration": 380,
        "start_time": "2023-05-20T09:59:08.177Z"
      },
      {
        "duration": 2814,
        "start_time": "2023-05-20T09:59:27.384Z"
      },
      {
        "duration": 829,
        "start_time": "2023-05-20T09:59:36.634Z"
      },
      {
        "duration": 141,
        "start_time": "2023-05-20T09:59:54.112Z"
      },
      {
        "duration": 1040,
        "start_time": "2023-05-20T10:02:49.946Z"
      },
      {
        "duration": 658,
        "start_time": "2023-05-20T10:03:08.415Z"
      },
      {
        "duration": 796,
        "start_time": "2023-05-20T10:03:18.016Z"
      },
      {
        "duration": 1123,
        "start_time": "2023-05-20T10:05:36.854Z"
      },
      {
        "duration": 11,
        "start_time": "2023-05-20T10:09:48.944Z"
      },
      {
        "duration": 10,
        "start_time": "2023-05-20T10:11:12.773Z"
      },
      {
        "duration": 7,
        "start_time": "2023-05-20T10:12:54.595Z"
      },
      {
        "duration": 7,
        "start_time": "2023-05-20T10:13:44.843Z"
      },
      {
        "duration": 8,
        "start_time": "2023-05-20T10:14:36.390Z"
      },
      {
        "duration": 64,
        "start_time": "2023-05-20T10:18:26.347Z"
      },
      {
        "duration": 27,
        "start_time": "2023-05-20T10:23:27.971Z"
      },
      {
        "duration": 392,
        "start_time": "2023-05-20T10:23:38.455Z"
      },
      {
        "duration": 790,
        "start_time": "2023-05-20T10:23:38.850Z"
      },
      {
        "duration": 115,
        "start_time": "2023-05-20T10:23:39.641Z"
      },
      {
        "duration": 29,
        "start_time": "2023-05-20T10:23:39.758Z"
      },
      {
        "duration": 1146,
        "start_time": "2023-05-20T10:23:39.789Z"
      },
      {
        "duration": 16,
        "start_time": "2023-05-20T10:23:40.937Z"
      },
      {
        "duration": 31,
        "start_time": "2023-05-20T10:23:40.955Z"
      },
      {
        "duration": 11,
        "start_time": "2023-05-20T10:23:40.988Z"
      },
      {
        "duration": 8,
        "start_time": "2023-05-20T10:23:41.001Z"
      },
      {
        "duration": 7,
        "start_time": "2023-05-20T10:23:41.011Z"
      },
      {
        "duration": 41,
        "start_time": "2023-05-20T10:25:37.415Z"
      },
      {
        "duration": 8,
        "start_time": "2023-05-20T10:25:53.014Z"
      },
      {
        "duration": 36,
        "start_time": "2023-05-20T10:28:00.252Z"
      },
      {
        "duration": 38,
        "start_time": "2023-05-20T10:29:49.976Z"
      },
      {
        "duration": 52,
        "start_time": "2023-05-20T10:31:38.186Z"
      },
      {
        "duration": 411,
        "start_time": "2023-05-20T10:34:20.243Z"
      },
      {
        "duration": 767,
        "start_time": "2023-05-20T10:34:20.656Z"
      },
      {
        "duration": 116,
        "start_time": "2023-05-20T10:34:21.425Z"
      },
      {
        "duration": 30,
        "start_time": "2023-05-20T10:34:21.543Z"
      },
      {
        "duration": 1094,
        "start_time": "2023-05-20T10:34:21.575Z"
      },
      {
        "duration": 8,
        "start_time": "2023-05-20T10:34:22.670Z"
      },
      {
        "duration": 29,
        "start_time": "2023-05-20T10:34:22.680Z"
      },
      {
        "duration": 12,
        "start_time": "2023-05-20T10:34:22.710Z"
      },
      {
        "duration": 81,
        "start_time": "2023-05-20T10:34:22.723Z"
      },
      {
        "duration": 21,
        "start_time": "2023-05-20T10:34:22.806Z"
      },
      {
        "duration": 23,
        "start_time": "2023-05-20T10:34:22.828Z"
      },
      {
        "duration": 30,
        "start_time": "2023-05-20T10:34:22.853Z"
      },
      {
        "duration": 25,
        "start_time": "2023-05-20T10:42:01.972Z"
      },
      {
        "duration": 21,
        "start_time": "2023-05-20T10:43:39.884Z"
      },
      {
        "duration": 18,
        "start_time": "2023-05-20T10:46:31.932Z"
      },
      {
        "duration": 27,
        "start_time": "2023-05-20T10:48:47.850Z"
      },
      {
        "duration": 26,
        "start_time": "2023-05-20T10:50:24.969Z"
      },
      {
        "duration": 13,
        "start_time": "2023-05-20T10:50:47.868Z"
      },
      {
        "duration": 12,
        "start_time": "2023-05-20T10:51:09.789Z"
      },
      {
        "duration": 46,
        "start_time": "2023-05-20T10:54:23.809Z"
      },
      {
        "duration": 13,
        "start_time": "2023-05-20T10:54:33.202Z"
      },
      {
        "duration": 415,
        "start_time": "2023-05-20T10:55:19.054Z"
      },
      {
        "duration": 813,
        "start_time": "2023-05-20T10:55:19.471Z"
      },
      {
        "duration": 146,
        "start_time": "2023-05-20T10:55:20.286Z"
      },
      {
        "duration": 34,
        "start_time": "2023-05-20T10:55:20.435Z"
      },
      {
        "duration": 1132,
        "start_time": "2023-05-20T10:55:20.471Z"
      },
      {
        "duration": 7,
        "start_time": "2023-05-20T10:55:21.605Z"
      },
      {
        "duration": 46,
        "start_time": "2023-05-20T10:55:21.614Z"
      },
      {
        "duration": 9,
        "start_time": "2023-05-20T10:55:21.663Z"
      },
      {
        "duration": 61,
        "start_time": "2023-05-20T10:55:21.674Z"
      },
      {
        "duration": 34,
        "start_time": "2023-05-20T10:55:21.752Z"
      },
      {
        "duration": 8,
        "start_time": "2023-05-20T10:55:21.787Z"
      },
      {
        "duration": 27,
        "start_time": "2023-05-20T10:55:21.796Z"
      },
      {
        "duration": 45,
        "start_time": "2023-05-20T10:55:21.825Z"
      },
      {
        "duration": 12,
        "start_time": "2023-05-20T10:55:21.872Z"
      },
      {
        "duration": 21,
        "start_time": "2023-05-20T10:55:21.886Z"
      },
      {
        "duration": 12,
        "start_time": "2023-05-20T10:55:21.909Z"
      },
      {
        "duration": 33,
        "start_time": "2023-05-20T10:55:21.958Z"
      },
      {
        "duration": 17,
        "start_time": "2023-05-20T10:55:21.992Z"
      },
      {
        "duration": 13,
        "start_time": "2023-05-20T10:55:22.010Z"
      },
      {
        "duration": 107,
        "start_time": "2023-05-20T10:55:22.024Z"
      },
      {
        "duration": 17,
        "start_time": "2023-05-20T10:57:03.479Z"
      },
      {
        "duration": 33,
        "start_time": "2023-05-20T11:01:39.942Z"
      },
      {
        "duration": 54,
        "start_time": "2023-05-20T11:03:44.843Z"
      },
      {
        "duration": 27,
        "start_time": "2023-05-20T11:03:51.872Z"
      },
      {
        "duration": 33,
        "start_time": "2023-05-20T11:04:38.677Z"
      },
      {
        "duration": 388,
        "start_time": "2023-05-20T11:07:03.064Z"
      },
      {
        "duration": 882,
        "start_time": "2023-05-20T11:07:03.454Z"
      },
      {
        "duration": 151,
        "start_time": "2023-05-20T11:07:04.337Z"
      },
      {
        "duration": 28,
        "start_time": "2023-05-20T11:07:04.493Z"
      },
      {
        "duration": 1138,
        "start_time": "2023-05-20T11:07:04.523Z"
      },
      {
        "duration": 7,
        "start_time": "2023-05-20T11:07:05.663Z"
      },
      {
        "duration": 32,
        "start_time": "2023-05-20T11:07:05.672Z"
      },
      {
        "duration": 10,
        "start_time": "2023-05-20T11:07:05.706Z"
      },
      {
        "duration": 91,
        "start_time": "2023-05-20T11:07:05.718Z"
      },
      {
        "duration": 38,
        "start_time": "2023-05-20T11:07:05.812Z"
      },
      {
        "duration": 7,
        "start_time": "2023-05-20T11:07:05.852Z"
      },
      {
        "duration": 30,
        "start_time": "2023-05-20T11:07:05.861Z"
      },
      {
        "duration": 24,
        "start_time": "2023-05-20T11:07:05.892Z"
      },
      {
        "duration": 36,
        "start_time": "2023-05-20T11:07:05.918Z"
      },
      {
        "duration": 19,
        "start_time": "2023-05-20T11:07:05.955Z"
      },
      {
        "duration": 28,
        "start_time": "2023-05-20T11:07:05.975Z"
      },
      {
        "duration": 13,
        "start_time": "2023-05-20T11:07:06.004Z"
      },
      {
        "duration": 58,
        "start_time": "2023-05-20T11:07:06.019Z"
      },
      {
        "duration": 17,
        "start_time": "2023-05-20T11:07:06.079Z"
      },
      {
        "duration": 84,
        "start_time": "2023-05-20T11:07:06.097Z"
      },
      {
        "duration": 17,
        "start_time": "2023-05-20T11:07:06.183Z"
      },
      {
        "duration": 78,
        "start_time": "2023-05-20T11:07:06.202Z"
      },
      {
        "duration": 15,
        "start_time": "2023-05-20T11:07:06.282Z"
      },
      {
        "duration": 81,
        "start_time": "2023-05-20T11:07:54.409Z"
      },
      {
        "duration": 17,
        "start_time": "2023-05-20T11:08:51.957Z"
      },
      {
        "duration": 18,
        "start_time": "2023-05-20T11:09:46.458Z"
      },
      {
        "duration": 26,
        "start_time": "2023-05-20T11:10:16.433Z"
      },
      {
        "duration": 426,
        "start_time": "2023-05-20T11:15:21.929Z"
      },
      {
        "duration": 875,
        "start_time": "2023-05-20T11:15:22.358Z"
      },
      {
        "duration": 141,
        "start_time": "2023-05-20T11:15:23.235Z"
      },
      {
        "duration": 28,
        "start_time": "2023-05-20T11:15:23.378Z"
      },
      {
        "duration": 1316,
        "start_time": "2023-05-20T11:15:23.408Z"
      },
      {
        "duration": 8,
        "start_time": "2023-05-20T11:15:24.726Z"
      },
      {
        "duration": 41,
        "start_time": "2023-05-20T11:15:24.736Z"
      },
      {
        "duration": 10,
        "start_time": "2023-05-20T11:15:24.779Z"
      },
      {
        "duration": 81,
        "start_time": "2023-05-20T11:15:24.790Z"
      },
      {
        "duration": 23,
        "start_time": "2023-05-20T11:15:24.875Z"
      },
      {
        "duration": 8,
        "start_time": "2023-05-20T11:15:24.900Z"
      },
      {
        "duration": 57,
        "start_time": "2023-05-20T11:15:24.909Z"
      },
      {
        "duration": 63,
        "start_time": "2023-05-20T11:15:24.968Z"
      },
      {
        "duration": 32,
        "start_time": "2023-05-20T11:15:25.032Z"
      },
      {
        "duration": 15,
        "start_time": "2023-05-20T11:15:25.066Z"
      },
      {
        "duration": 21,
        "start_time": "2023-05-20T11:15:25.083Z"
      },
      {
        "duration": 49,
        "start_time": "2023-05-20T11:15:25.105Z"
      },
      {
        "duration": 14,
        "start_time": "2023-05-20T11:15:25.156Z"
      },
      {
        "duration": 40,
        "start_time": "2023-05-20T11:15:25.173Z"
      },
      {
        "duration": 39,
        "start_time": "2023-05-20T11:15:25.215Z"
      },
      {
        "duration": 27,
        "start_time": "2023-05-20T11:15:25.256Z"
      },
      {
        "duration": 38,
        "start_time": "2023-05-20T11:15:25.285Z"
      },
      {
        "duration": 103,
        "start_time": "2023-05-20T11:15:25.325Z"
      },
      {
        "duration": 22,
        "start_time": "2023-05-20T11:15:25.429Z"
      },
      {
        "duration": 25,
        "start_time": "2023-05-20T11:15:25.452Z"
      },
      {
        "duration": 14,
        "start_time": "2023-05-20T11:15:25.478Z"
      },
      {
        "duration": 19,
        "start_time": "2023-05-20T11:15:25.493Z"
      },
      {
        "duration": 431,
        "start_time": "2023-05-20T11:16:59.029Z"
      },
      {
        "duration": 838,
        "start_time": "2023-05-20T11:16:59.462Z"
      },
      {
        "duration": 135,
        "start_time": "2023-05-20T11:17:00.302Z"
      },
      {
        "duration": 32,
        "start_time": "2023-05-20T11:17:00.439Z"
      },
      {
        "duration": 1165,
        "start_time": "2023-05-20T11:17:00.473Z"
      },
      {
        "duration": 15,
        "start_time": "2023-05-20T11:17:01.640Z"
      },
      {
        "duration": 32,
        "start_time": "2023-05-20T11:17:01.656Z"
      },
      {
        "duration": 12,
        "start_time": "2023-05-20T11:17:01.690Z"
      },
      {
        "duration": 96,
        "start_time": "2023-05-20T11:17:01.704Z"
      },
      {
        "duration": 33,
        "start_time": "2023-05-20T11:17:01.802Z"
      },
      {
        "duration": 17,
        "start_time": "2023-05-20T11:17:01.837Z"
      },
      {
        "duration": 38,
        "start_time": "2023-05-20T11:17:01.856Z"
      },
      {
        "duration": 73,
        "start_time": "2023-05-20T11:17:01.896Z"
      },
      {
        "duration": 138,
        "start_time": "2023-05-20T11:17:01.972Z"
      },
      {
        "duration": 13,
        "start_time": "2023-05-20T11:18:41.958Z"
      },
      {
        "duration": 8,
        "start_time": "2023-05-20T11:19:58.444Z"
      },
      {
        "duration": 10,
        "start_time": "2023-05-20T11:20:26.331Z"
      },
      {
        "duration": 6,
        "start_time": "2023-05-20T11:20:41.092Z"
      },
      {
        "duration": 306,
        "start_time": "2023-05-20T11:21:49.431Z"
      },
      {
        "duration": 271,
        "start_time": "2023-05-20T11:22:05.721Z"
      },
      {
        "duration": 267,
        "start_time": "2023-05-20T11:22:29.203Z"
      },
      {
        "duration": 252,
        "start_time": "2023-05-20T11:22:38.824Z"
      },
      {
        "duration": 16,
        "start_time": "2023-05-20T11:47:56.763Z"
      },
      {
        "duration": 25,
        "start_time": "2023-05-20T11:50:43.520Z"
      },
      {
        "duration": 376,
        "start_time": "2023-05-20T12:04:20.976Z"
      },
      {
        "duration": 801,
        "start_time": "2023-05-20T12:04:21.354Z"
      },
      {
        "duration": 125,
        "start_time": "2023-05-20T12:04:22.157Z"
      },
      {
        "duration": 28,
        "start_time": "2023-05-20T12:04:22.284Z"
      },
      {
        "duration": 938,
        "start_time": "2023-05-20T12:04:22.314Z"
      },
      {
        "duration": 7,
        "start_time": "2023-05-20T12:04:23.254Z"
      },
      {
        "duration": 32,
        "start_time": "2023-05-20T12:04:23.262Z"
      },
      {
        "duration": 15,
        "start_time": "2023-05-20T12:04:23.295Z"
      },
      {
        "duration": 206,
        "start_time": "2023-05-20T12:04:23.312Z"
      },
      {
        "duration": 18,
        "start_time": "2023-05-20T12:04:23.521Z"
      },
      {
        "duration": 36,
        "start_time": "2023-05-20T12:04:23.549Z"
      },
      {
        "duration": 8,
        "start_time": "2023-05-20T12:04:23.586Z"
      },
      {
        "duration": 146,
        "start_time": "2023-05-20T12:04:23.595Z"
      },
      {
        "duration": 796,
        "start_time": "2023-05-20T12:04:23.742Z"
      },
      {
        "duration": 0,
        "start_time": "2023-05-20T12:04:24.540Z"
      },
      {
        "duration": 0,
        "start_time": "2023-05-20T12:04:24.541Z"
      },
      {
        "duration": 0,
        "start_time": "2023-05-20T12:04:24.543Z"
      },
      {
        "duration": 0,
        "start_time": "2023-05-20T12:04:24.544Z"
      },
      {
        "duration": 0,
        "start_time": "2023-05-20T12:04:24.545Z"
      },
      {
        "duration": 0,
        "start_time": "2023-05-20T12:04:24.547Z"
      },
      {
        "duration": 9,
        "start_time": "2023-05-20T12:04:47.276Z"
      },
      {
        "duration": 28,
        "start_time": "2023-05-20T12:04:49.979Z"
      },
      {
        "duration": 441,
        "start_time": "2023-05-20T12:04:50.946Z"
      },
      {
        "duration": 375,
        "start_time": "2023-05-20T12:05:42.788Z"
      },
      {
        "duration": 778,
        "start_time": "2023-05-20T12:06:38.085Z"
      },
      {
        "duration": 714,
        "start_time": "2023-05-20T12:07:08.117Z"
      },
      {
        "duration": 44,
        "start_time": "2023-05-20T12:07:17.979Z"
      },
      {
        "duration": 52,
        "start_time": "2023-05-20T12:07:43.022Z"
      },
      {
        "duration": 81,
        "start_time": "2023-05-20T12:08:59.646Z"
      },
      {
        "duration": 66,
        "start_time": "2023-05-20T12:11:47.416Z"
      },
      {
        "duration": 141,
        "start_time": "2023-05-20T12:12:17.179Z"
      },
      {
        "duration": 13,
        "start_time": "2023-05-20T12:12:31.143Z"
      },
      {
        "duration": 15,
        "start_time": "2023-05-20T12:18:57.728Z"
      },
      {
        "duration": 125,
        "start_time": "2023-05-20T12:19:38.985Z"
      },
      {
        "duration": 141,
        "start_time": "2023-05-20T12:20:05.411Z"
      },
      {
        "duration": 1009,
        "start_time": "2023-05-20T12:38:06.810Z"
      },
      {
        "duration": 817,
        "start_time": "2023-05-20T12:38:07.821Z"
      },
      {
        "duration": 119,
        "start_time": "2023-05-20T12:38:08.640Z"
      },
      {
        "duration": 25,
        "start_time": "2023-05-20T12:38:08.761Z"
      },
      {
        "duration": 952,
        "start_time": "2023-05-20T12:38:08.788Z"
      },
      {
        "duration": 9,
        "start_time": "2023-05-20T12:38:09.749Z"
      },
      {
        "duration": 32,
        "start_time": "2023-05-20T12:38:09.760Z"
      },
      {
        "duration": 8,
        "start_time": "2023-05-20T12:38:09.793Z"
      },
      {
        "duration": 224,
        "start_time": "2023-05-20T12:38:09.802Z"
      },
      {
        "duration": 25,
        "start_time": "2023-05-20T12:38:10.029Z"
      },
      {
        "duration": 35,
        "start_time": "2023-05-20T12:38:10.055Z"
      },
      {
        "duration": 9,
        "start_time": "2023-05-20T12:38:10.091Z"
      },
      {
        "duration": 16,
        "start_time": "2023-05-20T12:38:10.101Z"
      },
      {
        "duration": 94,
        "start_time": "2023-05-20T12:38:10.119Z"
      },
      {
        "duration": 6,
        "start_time": "2023-05-20T12:38:10.215Z"
      },
      {
        "duration": 41,
        "start_time": "2023-05-20T12:38:10.223Z"
      },
      {
        "duration": 91,
        "start_time": "2023-05-20T12:38:10.266Z"
      },
      {
        "duration": 92,
        "start_time": "2023-05-20T12:38:10.359Z"
      },
      {
        "duration": 63,
        "start_time": "2023-05-20T12:38:10.452Z"
      },
      {
        "duration": 129,
        "start_time": "2023-05-20T12:38:10.516Z"
      },
      {
        "duration": 13,
        "start_time": "2023-05-20T12:38:10.650Z"
      },
      {
        "duration": 437,
        "start_time": "2023-05-20T12:38:10.665Z"
      },
      {
        "duration": 909,
        "start_time": "2023-05-20T12:39:42.733Z"
      },
      {
        "duration": 628,
        "start_time": "2023-05-20T12:40:35.028Z"
      },
      {
        "duration": 812,
        "start_time": "2023-05-20T12:41:07.894Z"
      },
      {
        "duration": 447,
        "start_time": "2023-05-20T12:41:17.110Z"
      },
      {
        "duration": 45,
        "start_time": "2023-05-20T13:29:16.975Z"
      },
      {
        "duration": 1042,
        "start_time": "2023-05-20T13:33:30.168Z"
      },
      {
        "duration": 854,
        "start_time": "2023-05-20T13:33:31.213Z"
      },
      {
        "duration": 115,
        "start_time": "2023-05-20T13:33:32.069Z"
      },
      {
        "duration": 30,
        "start_time": "2023-05-20T13:33:32.187Z"
      },
      {
        "duration": 964,
        "start_time": "2023-05-20T13:33:32.218Z"
      },
      {
        "duration": 8,
        "start_time": "2023-05-20T13:33:33.184Z"
      },
      {
        "duration": 33,
        "start_time": "2023-05-20T13:33:33.193Z"
      },
      {
        "duration": 30,
        "start_time": "2023-05-20T13:33:33.228Z"
      },
      {
        "duration": 206,
        "start_time": "2023-05-20T13:33:33.259Z"
      },
      {
        "duration": 18,
        "start_time": "2023-05-20T13:33:33.468Z"
      },
      {
        "duration": 35,
        "start_time": "2023-05-20T13:33:33.488Z"
      },
      {
        "duration": 28,
        "start_time": "2023-05-20T13:33:33.524Z"
      },
      {
        "duration": 15,
        "start_time": "2023-05-20T13:33:33.554Z"
      },
      {
        "duration": 80,
        "start_time": "2023-05-20T13:33:33.571Z"
      },
      {
        "duration": 8,
        "start_time": "2023-05-20T13:33:33.653Z"
      },
      {
        "duration": 32,
        "start_time": "2023-05-20T13:33:33.662Z"
      },
      {
        "duration": 106,
        "start_time": "2023-05-20T13:33:33.695Z"
      },
      {
        "duration": 88,
        "start_time": "2023-05-20T13:33:33.803Z"
      },
      {
        "duration": 76,
        "start_time": "2023-05-20T13:33:33.892Z"
      },
      {
        "duration": 154,
        "start_time": "2023-05-20T13:33:33.970Z"
      },
      {
        "duration": 23,
        "start_time": "2023-05-20T13:33:34.127Z"
      },
      {
        "duration": 177,
        "start_time": "2023-05-20T13:33:34.152Z"
      },
      {
        "duration": 438,
        "start_time": "2023-05-20T13:38:35.370Z"
      },
      {
        "duration": 4,
        "start_time": "2023-05-20T13:40:40.350Z"
      },
      {
        "duration": 4,
        "start_time": "2023-05-20T13:40:41.566Z"
      },
      {
        "duration": 3,
        "start_time": "2023-05-20T13:40:42.419Z"
      },
      {
        "duration": 329,
        "start_time": "2023-05-20T13:41:04.780Z"
      },
      {
        "duration": 24,
        "start_time": "2023-05-20T13:54:04.205Z"
      },
      {
        "duration": 203,
        "start_time": "2023-05-20T13:55:32.759Z"
      },
      {
        "duration": 1142,
        "start_time": "2023-05-21T10:28:37.266Z"
      },
      {
        "duration": 2902,
        "start_time": "2023-05-21T10:28:38.410Z"
      },
      {
        "duration": 115,
        "start_time": "2023-05-21T10:28:41.314Z"
      },
      {
        "duration": 34,
        "start_time": "2023-05-21T10:28:41.431Z"
      },
      {
        "duration": 1173,
        "start_time": "2023-05-21T10:28:41.468Z"
      },
      {
        "duration": 18,
        "start_time": "2023-05-21T10:28:42.644Z"
      },
      {
        "duration": 34,
        "start_time": "2023-05-21T10:28:42.664Z"
      },
      {
        "duration": 15,
        "start_time": "2023-05-21T10:28:42.699Z"
      },
      {
        "duration": 240,
        "start_time": "2023-05-21T10:28:42.716Z"
      },
      {
        "duration": 21,
        "start_time": "2023-05-21T10:28:42.958Z"
      },
      {
        "duration": 39,
        "start_time": "2023-05-21T10:28:42.981Z"
      },
      {
        "duration": 35,
        "start_time": "2023-05-21T10:28:43.022Z"
      },
      {
        "duration": 22,
        "start_time": "2023-05-21T10:28:43.059Z"
      },
      {
        "duration": 186,
        "start_time": "2023-05-21T10:28:43.086Z"
      },
      {
        "duration": 8,
        "start_time": "2023-05-21T10:28:43.274Z"
      },
      {
        "duration": 73,
        "start_time": "2023-05-21T10:28:43.283Z"
      },
      {
        "duration": 99,
        "start_time": "2023-05-21T10:28:43.359Z"
      },
      {
        "duration": 84,
        "start_time": "2023-05-21T10:28:43.460Z"
      },
      {
        "duration": 61,
        "start_time": "2023-05-21T10:28:43.557Z"
      },
      {
        "duration": 175,
        "start_time": "2023-05-21T10:28:43.620Z"
      },
      {
        "duration": 13,
        "start_time": "2023-05-21T10:28:43.798Z"
      },
      {
        "duration": 136,
        "start_time": "2023-05-21T10:28:43.813Z"
      },
      {
        "duration": 6,
        "start_time": "2023-05-21T10:28:43.951Z"
      },
      {
        "duration": 23,
        "start_time": "2023-05-21T10:28:43.959Z"
      },
      {
        "duration": 30,
        "start_time": "2023-05-21T10:28:43.983Z"
      },
      {
        "duration": 292,
        "start_time": "2023-05-21T10:28:44.014Z"
      },
      {
        "duration": 233,
        "start_time": "2023-05-21T10:30:49.067Z"
      },
      {
        "duration": 5,
        "start_time": "2023-05-21T10:34:03.378Z"
      },
      {
        "duration": 7368,
        "start_time": "2023-05-21T10:38:07.622Z"
      },
      {
        "duration": 2123,
        "start_time": "2023-05-21T10:38:30.478Z"
      },
      {
        "duration": 878,
        "start_time": "2023-05-21T10:38:32.603Z"
      },
      {
        "duration": 871,
        "start_time": "2023-05-21T10:38:33.483Z"
      },
      {
        "duration": 114,
        "start_time": "2023-05-21T10:38:34.360Z"
      },
      {
        "duration": 28,
        "start_time": "2023-05-21T10:38:34.477Z"
      },
      {
        "duration": 1007,
        "start_time": "2023-05-21T10:38:34.507Z"
      },
      {
        "duration": 8,
        "start_time": "2023-05-21T10:38:35.515Z"
      },
      {
        "duration": 57,
        "start_time": "2023-05-21T10:38:35.525Z"
      },
      {
        "duration": 9,
        "start_time": "2023-05-21T10:38:35.584Z"
      },
      {
        "duration": 237,
        "start_time": "2023-05-21T10:38:35.594Z"
      },
      {
        "duration": 36,
        "start_time": "2023-05-21T10:38:35.833Z"
      },
      {
        "duration": 40,
        "start_time": "2023-05-21T10:38:35.870Z"
      },
      {
        "duration": 12,
        "start_time": "2023-05-21T10:38:35.912Z"
      },
      {
        "duration": 23,
        "start_time": "2023-05-21T10:38:35.927Z"
      },
      {
        "duration": 75,
        "start_time": "2023-05-21T10:38:35.967Z"
      },
      {
        "duration": 27,
        "start_time": "2023-05-21T10:38:36.044Z"
      },
      {
        "duration": 35,
        "start_time": "2023-05-21T10:38:36.073Z"
      },
      {
        "duration": 99,
        "start_time": "2023-05-21T10:38:36.110Z"
      },
      {
        "duration": 100,
        "start_time": "2023-05-21T10:38:36.211Z"
      },
      {
        "duration": 69,
        "start_time": "2023-05-21T10:38:36.313Z"
      },
      {
        "duration": 142,
        "start_time": "2023-05-21T10:38:36.384Z"
      },
      {
        "duration": 13,
        "start_time": "2023-05-21T10:38:36.528Z"
      },
      {
        "duration": 134,
        "start_time": "2023-05-21T10:38:36.543Z"
      },
      {
        "duration": 4,
        "start_time": "2023-05-21T10:38:36.679Z"
      },
      {
        "duration": 6,
        "start_time": "2023-05-21T10:38:36.684Z"
      },
      {
        "duration": 7,
        "start_time": "2023-05-21T10:38:36.691Z"
      },
      {
        "duration": 723,
        "start_time": "2023-05-21T10:38:36.699Z"
      },
      {
        "duration": 0,
        "start_time": "2023-05-21T10:38:37.424Z"
      },
      {
        "duration": 9,
        "start_time": "2023-05-21T10:41:27.375Z"
      },
      {
        "duration": 17,
        "start_time": "2023-05-21T10:41:52.578Z"
      },
      {
        "duration": 49,
        "start_time": "2023-05-21T10:44:41.769Z"
      },
      {
        "duration": 105,
        "start_time": "2023-05-21T10:45:02.792Z"
      },
      {
        "duration": 15,
        "start_time": "2023-05-21T10:46:16.377Z"
      },
      {
        "duration": 9,
        "start_time": "2023-05-21T10:46:42.676Z"
      },
      {
        "duration": 2247,
        "start_time": "2023-05-21T10:52:37.353Z"
      },
      {
        "duration": 863,
        "start_time": "2023-05-21T10:52:39.603Z"
      },
      {
        "duration": 835,
        "start_time": "2023-05-21T10:52:40.468Z"
      },
      {
        "duration": 121,
        "start_time": "2023-05-21T10:52:41.306Z"
      },
      {
        "duration": 40,
        "start_time": "2023-05-21T10:52:41.430Z"
      },
      {
        "duration": 1004,
        "start_time": "2023-05-21T10:52:41.472Z"
      },
      {
        "duration": 11,
        "start_time": "2023-05-21T10:52:42.477Z"
      },
      {
        "duration": 31,
        "start_time": "2023-05-21T10:52:42.490Z"
      },
      {
        "duration": 26,
        "start_time": "2023-05-21T10:52:42.523Z"
      },
      {
        "duration": 242,
        "start_time": "2023-05-21T10:52:42.550Z"
      },
      {
        "duration": 21,
        "start_time": "2023-05-21T10:52:42.794Z"
      },
      {
        "duration": 58,
        "start_time": "2023-05-21T10:52:42.817Z"
      },
      {
        "duration": 10,
        "start_time": "2023-05-21T10:52:42.878Z"
      },
      {
        "duration": 18,
        "start_time": "2023-05-21T10:52:42.891Z"
      },
      {
        "duration": 100,
        "start_time": "2023-05-21T10:52:42.910Z"
      },
      {
        "duration": 7,
        "start_time": "2023-05-21T10:52:43.012Z"
      },
      {
        "duration": 11,
        "start_time": "2023-05-21T10:52:43.021Z"
      },
      {
        "duration": 54,
        "start_time": "2023-05-21T10:52:43.034Z"
      },
      {
        "duration": 111,
        "start_time": "2023-05-21T10:52:43.090Z"
      },
      {
        "duration": 115,
        "start_time": "2023-05-21T10:52:43.204Z"
      },
      {
        "duration": 77,
        "start_time": "2023-05-21T10:52:43.320Z"
      },
      {
        "duration": 195,
        "start_time": "2023-05-21T10:52:43.400Z"
      },
      {
        "duration": 21,
        "start_time": "2023-05-21T10:52:43.597Z"
      },
      {
        "duration": 129,
        "start_time": "2023-05-21T10:52:43.620Z"
      },
      {
        "duration": 6,
        "start_time": "2023-05-21T10:52:43.752Z"
      },
      {
        "duration": 13,
        "start_time": "2023-05-21T10:52:43.760Z"
      },
      {
        "duration": 5,
        "start_time": "2023-05-21T10:52:43.774Z"
      },
      {
        "duration": 696,
        "start_time": "2023-05-21T10:52:43.781Z"
      },
      {
        "duration": 17,
        "start_time": "2023-05-21T10:56:37.684Z"
      },
      {
        "duration": 2365,
        "start_time": "2023-05-21T10:56:58.401Z"
      },
      {
        "duration": 980,
        "start_time": "2023-05-21T10:57:00.769Z"
      },
      {
        "duration": 931,
        "start_time": "2023-05-21T10:57:01.752Z"
      },
      {
        "duration": 128,
        "start_time": "2023-05-21T10:57:02.685Z"
      },
      {
        "duration": 54,
        "start_time": "2023-05-21T10:57:02.816Z"
      },
      {
        "duration": 1068,
        "start_time": "2023-05-21T10:57:02.872Z"
      },
      {
        "duration": 28,
        "start_time": "2023-05-21T10:57:03.942Z"
      },
      {
        "duration": 38,
        "start_time": "2023-05-21T10:57:03.971Z"
      },
      {
        "duration": 9,
        "start_time": "2023-05-21T10:57:04.011Z"
      },
      {
        "duration": 253,
        "start_time": "2023-05-21T10:57:04.022Z"
      },
      {
        "duration": 24,
        "start_time": "2023-05-21T10:57:04.277Z"
      },
      {
        "duration": 61,
        "start_time": "2023-05-21T10:57:04.303Z"
      },
      {
        "duration": 12,
        "start_time": "2023-05-21T10:57:04.370Z"
      },
      {
        "duration": 39,
        "start_time": "2023-05-21T10:57:04.385Z"
      },
      {
        "duration": 119,
        "start_time": "2023-05-21T10:57:04.426Z"
      },
      {
        "duration": 67,
        "start_time": "2023-05-21T10:57:04.547Z"
      },
      {
        "duration": 13,
        "start_time": "2023-05-21T10:57:04.617Z"
      },
      {
        "duration": 59,
        "start_time": "2023-05-21T10:57:04.632Z"
      },
      {
        "duration": 100,
        "start_time": "2023-05-21T10:57:04.693Z"
      },
      {
        "duration": 104,
        "start_time": "2023-05-21T10:57:04.795Z"
      },
      {
        "duration": 77,
        "start_time": "2023-05-21T10:57:04.901Z"
      },
      {
        "duration": 153,
        "start_time": "2023-05-21T10:57:04.980Z"
      },
      {
        "duration": 37,
        "start_time": "2023-05-21T10:57:05.134Z"
      },
      {
        "duration": 130,
        "start_time": "2023-05-21T10:57:05.174Z"
      },
      {
        "duration": 5,
        "start_time": "2023-05-21T10:57:05.305Z"
      },
      {
        "duration": 22,
        "start_time": "2023-05-21T10:57:05.312Z"
      },
      {
        "duration": 8,
        "start_time": "2023-05-21T10:57:05.336Z"
      },
      {
        "duration": 779,
        "start_time": "2023-05-21T10:57:05.345Z"
      },
      {
        "duration": 2216,
        "start_time": "2023-05-21T11:01:54.601Z"
      },
      {
        "duration": 952,
        "start_time": "2023-05-21T11:01:56.821Z"
      },
      {
        "duration": 958,
        "start_time": "2023-05-21T11:01:57.775Z"
      },
      {
        "duration": 158,
        "start_time": "2023-05-21T11:01:58.735Z"
      },
      {
        "duration": 35,
        "start_time": "2023-05-21T11:01:58.896Z"
      },
      {
        "duration": 1129,
        "start_time": "2023-05-21T11:01:58.933Z"
      },
      {
        "duration": 9,
        "start_time": "2023-05-21T11:02:00.073Z"
      },
      {
        "duration": 58,
        "start_time": "2023-05-21T11:02:00.083Z"
      },
      {
        "duration": 36,
        "start_time": "2023-05-21T11:02:00.143Z"
      },
      {
        "duration": 257,
        "start_time": "2023-05-21T11:02:00.182Z"
      },
      {
        "duration": 33,
        "start_time": "2023-05-21T11:02:00.441Z"
      },
      {
        "duration": 40,
        "start_time": "2023-05-21T11:02:00.476Z"
      },
      {
        "duration": 11,
        "start_time": "2023-05-21T11:02:00.518Z"
      },
      {
        "duration": 50,
        "start_time": "2023-05-21T11:02:00.532Z"
      },
      {
        "duration": 98,
        "start_time": "2023-05-21T11:02:00.584Z"
      },
      {
        "duration": 8,
        "start_time": "2023-05-21T11:02:00.684Z"
      },
      {
        "duration": 135,
        "start_time": "2023-05-21T11:02:00.693Z"
      },
      {
        "duration": 103,
        "start_time": "2023-05-21T11:02:00.830Z"
      },
      {
        "duration": 135,
        "start_time": "2023-05-21T11:02:00.935Z"
      },
      {
        "duration": 94,
        "start_time": "2023-05-21T11:02:01.073Z"
      },
      {
        "duration": 80,
        "start_time": "2023-05-21T11:02:01.169Z"
      },
      {
        "duration": 167,
        "start_time": "2023-05-21T11:02:01.251Z"
      },
      {
        "duration": 14,
        "start_time": "2023-05-21T11:02:01.420Z"
      },
      {
        "duration": 179,
        "start_time": "2023-05-21T11:02:01.436Z"
      },
      {
        "duration": 4,
        "start_time": "2023-05-21T11:02:01.617Z"
      },
      {
        "duration": 55,
        "start_time": "2023-05-21T11:02:01.623Z"
      },
      {
        "duration": 56,
        "start_time": "2023-05-21T11:02:01.680Z"
      },
      {
        "duration": 778,
        "start_time": "2023-05-21T11:02:01.738Z"
      },
      {
        "duration": 171,
        "start_time": "2023-05-21T11:02:02.518Z"
      },
      {
        "duration": 26,
        "start_time": "2023-05-21T11:02:41.750Z"
      },
      {
        "duration": 25,
        "start_time": "2023-05-21T11:02:58.371Z"
      },
      {
        "duration": 55,
        "start_time": "2023-05-21T11:04:26.496Z"
      },
      {
        "duration": 25,
        "start_time": "2023-05-21T11:07:08.619Z"
      },
      {
        "duration": 26,
        "start_time": "2023-05-21T11:07:26.396Z"
      },
      {
        "duration": 5,
        "start_time": "2023-05-21T12:08:07.421Z"
      },
      {
        "duration": 160202,
        "start_time": "2023-05-21T12:18:43.902Z"
      },
      {
        "duration": 859035,
        "start_time": "2023-05-21T12:26:34.658Z"
      },
      {
        "duration": 4,
        "start_time": "2023-05-21T12:41:44.616Z"
      },
      {
        "duration": 2193,
        "start_time": "2023-05-21T12:53:20.581Z"
      },
      {
        "duration": 1036,
        "start_time": "2023-05-21T12:53:22.777Z"
      },
      {
        "duration": 884,
        "start_time": "2023-05-21T12:53:23.814Z"
      },
      {
        "duration": 133,
        "start_time": "2023-05-21T12:53:24.699Z"
      },
      {
        "duration": 44,
        "start_time": "2023-05-21T12:53:24.835Z"
      },
      {
        "duration": 1109,
        "start_time": "2023-05-21T12:53:24.881Z"
      },
      {
        "duration": 9,
        "start_time": "2023-05-21T12:53:25.992Z"
      },
      {
        "duration": 33,
        "start_time": "2023-05-21T12:53:26.003Z"
      },
      {
        "duration": 46,
        "start_time": "2023-05-21T12:53:26.038Z"
      },
      {
        "duration": 243,
        "start_time": "2023-05-21T12:53:26.090Z"
      },
      {
        "duration": 40,
        "start_time": "2023-05-21T12:53:26.334Z"
      },
      {
        "duration": 41,
        "start_time": "2023-05-21T12:53:26.376Z"
      },
      {
        "duration": 8,
        "start_time": "2023-05-21T12:53:26.419Z"
      },
      {
        "duration": 42,
        "start_time": "2023-05-21T12:53:26.430Z"
      },
      {
        "duration": 88,
        "start_time": "2023-05-21T12:53:26.474Z"
      },
      {
        "duration": 13,
        "start_time": "2023-05-21T12:53:26.565Z"
      },
      {
        "duration": 17,
        "start_time": "2023-05-21T12:53:26.580Z"
      },
      {
        "duration": 70,
        "start_time": "2023-05-21T12:53:26.598Z"
      },
      {
        "duration": 115,
        "start_time": "2023-05-21T12:53:26.671Z"
      },
      {
        "duration": 112,
        "start_time": "2023-05-21T12:53:26.788Z"
      },
      {
        "duration": 63,
        "start_time": "2023-05-21T12:53:26.902Z"
      },
      {
        "duration": 166,
        "start_time": "2023-05-21T12:53:26.968Z"
      },
      {
        "duration": 14,
        "start_time": "2023-05-21T12:53:27.136Z"
      },
      {
        "duration": 81,
        "start_time": "2023-05-21T12:53:27.151Z"
      },
      {
        "duration": 4,
        "start_time": "2023-05-21T12:53:27.234Z"
      },
      {
        "duration": 8,
        "start_time": "2023-05-21T12:53:27.261Z"
      },
      {
        "duration": 855,
        "start_time": "2023-05-21T12:53:27.271Z"
      },
      {
        "duration": 69,
        "start_time": "2023-05-21T12:53:28.128Z"
      },
      {
        "duration": 5,
        "start_time": "2023-05-21T12:53:28.199Z"
      },
      {
        "duration": 119,
        "start_time": "2023-05-21T12:55:10.172Z"
      },
      {
        "duration": 4,
        "start_time": "2023-05-21T12:56:26.196Z"
      },
      {
        "duration": 14,
        "start_time": "2023-05-21T12:57:40.093Z"
      },
      {
        "duration": 13,
        "start_time": "2023-05-21T12:57:46.381Z"
      },
      {
        "duration": 20,
        "start_time": "2023-05-21T13:00:09.854Z"
      },
      {
        "duration": 22,
        "start_time": "2023-05-21T13:05:46.803Z"
      },
      {
        "duration": 96944,
        "start_time": "2023-05-21T13:06:12.090Z"
      },
      {
        "duration": 271640,
        "start_time": "2023-05-21T13:07:59.542Z"
      },
      {
        "duration": 568198,
        "start_time": "2023-05-21T13:14:34.977Z"
      },
      {
        "duration": 71,
        "start_time": "2023-05-21T13:25:36.935Z"
      },
      {
        "duration": 98207,
        "start_time": "2023-05-21T13:28:43.807Z"
      },
      {
        "duration": 8,
        "start_time": "2023-05-21T13:33:32.753Z"
      },
      {
        "duration": 3128,
        "start_time": "2023-05-21T13:33:44.874Z"
      },
      {
        "duration": 11425,
        "start_time": "2023-05-21T13:35:24.490Z"
      },
      {
        "duration": 70772,
        "start_time": "2023-05-21T13:37:06.205Z"
      },
      {
        "duration": 204482,
        "start_time": "2023-05-21T13:38:44.112Z"
      },
      {
        "duration": 874321,
        "start_time": "2023-05-21T13:42:51.537Z"
      },
      {
        "duration": 7767,
        "start_time": "2023-05-21T13:58:20.661Z"
      },
      {
        "duration": 21189,
        "start_time": "2023-05-21T13:58:35.225Z"
      },
      {
        "duration": 633741,
        "start_time": "2023-05-21T13:59:37.373Z"
      },
      {
        "duration": 362793,
        "start_time": "2023-05-21T14:10:54.551Z"
      },
      {
        "duration": 52,
        "start_time": "2023-05-21T14:44:22.922Z"
      },
      {
        "duration": 2438,
        "start_time": "2023-05-21T14:45:37.706Z"
      },
      {
        "duration": 1157,
        "start_time": "2023-05-21T14:45:40.147Z"
      },
      {
        "duration": 1001,
        "start_time": "2023-05-21T14:45:41.306Z"
      },
      {
        "duration": 129,
        "start_time": "2023-05-21T14:45:42.308Z"
      },
      {
        "duration": 51,
        "start_time": "2023-05-21T14:45:42.440Z"
      },
      {
        "duration": 1038,
        "start_time": "2023-05-21T14:45:42.493Z"
      },
      {
        "duration": 9,
        "start_time": "2023-05-21T14:45:43.533Z"
      },
      {
        "duration": 47,
        "start_time": "2023-05-21T14:45:43.558Z"
      },
      {
        "duration": 14,
        "start_time": "2023-05-21T14:45:43.609Z"
      },
      {
        "duration": 259,
        "start_time": "2023-05-21T14:45:43.625Z"
      },
      {
        "duration": 19,
        "start_time": "2023-05-21T14:45:43.890Z"
      },
      {
        "duration": 59,
        "start_time": "2023-05-21T14:45:43.911Z"
      },
      {
        "duration": 21,
        "start_time": "2023-05-21T14:45:43.971Z"
      },
      {
        "duration": 19,
        "start_time": "2023-05-21T14:45:43.995Z"
      },
      {
        "duration": 1230,
        "start_time": "2023-05-21T14:45:44.016Z"
      },
      {
        "duration": 0,
        "start_time": "2023-05-21T14:45:45.248Z"
      },
      {
        "duration": 0,
        "start_time": "2023-05-21T14:45:45.250Z"
      },
      {
        "duration": 0,
        "start_time": "2023-05-21T14:45:45.251Z"
      },
      {
        "duration": 0,
        "start_time": "2023-05-21T14:45:45.252Z"
      },
      {
        "duration": 0,
        "start_time": "2023-05-21T14:45:45.254Z"
      },
      {
        "duration": 0,
        "start_time": "2023-05-21T14:45:45.255Z"
      },
      {
        "duration": 0,
        "start_time": "2023-05-21T14:45:45.256Z"
      },
      {
        "duration": 0,
        "start_time": "2023-05-21T14:45:45.256Z"
      },
      {
        "duration": 0,
        "start_time": "2023-05-21T14:45:45.257Z"
      },
      {
        "duration": 0,
        "start_time": "2023-05-21T14:45:45.258Z"
      },
      {
        "duration": 0,
        "start_time": "2023-05-21T14:45:45.259Z"
      },
      {
        "duration": 0,
        "start_time": "2023-05-21T14:45:45.262Z"
      },
      {
        "duration": 0,
        "start_time": "2023-05-21T14:45:45.262Z"
      },
      {
        "duration": 0,
        "start_time": "2023-05-21T14:45:45.263Z"
      },
      {
        "duration": 0,
        "start_time": "2023-05-21T14:45:45.264Z"
      },
      {
        "duration": 0,
        "start_time": "2023-05-21T14:45:45.265Z"
      },
      {
        "duration": 0,
        "start_time": "2023-05-21T14:45:45.267Z"
      },
      {
        "duration": 19,
        "start_time": "2023-05-21T14:48:15.996Z"
      },
      {
        "duration": 23,
        "start_time": "2023-05-21T14:48:50.156Z"
      },
      {
        "duration": 2271,
        "start_time": "2023-05-21T14:49:05.780Z"
      },
      {
        "duration": 1329,
        "start_time": "2023-05-21T14:49:08.054Z"
      },
      {
        "duration": 922,
        "start_time": "2023-05-21T14:49:09.385Z"
      },
      {
        "duration": 139,
        "start_time": "2023-05-21T14:49:10.308Z"
      },
      {
        "duration": 37,
        "start_time": "2023-05-21T14:49:10.457Z"
      },
      {
        "duration": 1022,
        "start_time": "2023-05-21T14:49:10.496Z"
      },
      {
        "duration": 7,
        "start_time": "2023-05-21T14:49:11.520Z"
      },
      {
        "duration": 64,
        "start_time": "2023-05-21T14:49:11.529Z"
      },
      {
        "duration": 9,
        "start_time": "2023-05-21T14:49:11.596Z"
      },
      {
        "duration": 261,
        "start_time": "2023-05-21T14:49:11.606Z"
      },
      {
        "duration": 30,
        "start_time": "2023-05-21T14:49:11.871Z"
      },
      {
        "duration": 57,
        "start_time": "2023-05-21T14:49:11.903Z"
      },
      {
        "duration": 15,
        "start_time": "2023-05-21T14:49:11.962Z"
      },
      {
        "duration": 20,
        "start_time": "2023-05-21T14:49:11.981Z"
      },
      {
        "duration": 44,
        "start_time": "2023-05-21T14:49:12.003Z"
      },
      {
        "duration": 0,
        "start_time": "2023-05-21T14:49:12.049Z"
      },
      {
        "duration": 0,
        "start_time": "2023-05-21T14:49:12.165Z"
      },
      {
        "duration": 0,
        "start_time": "2023-05-21T14:49:12.167Z"
      },
      {
        "duration": 0,
        "start_time": "2023-05-21T14:49:12.171Z"
      },
      {
        "duration": 0,
        "start_time": "2023-05-21T14:49:12.173Z"
      },
      {
        "duration": 0,
        "start_time": "2023-05-21T14:49:12.174Z"
      },
      {
        "duration": 0,
        "start_time": "2023-05-21T14:49:12.175Z"
      },
      {
        "duration": 0,
        "start_time": "2023-05-21T14:49:12.177Z"
      },
      {
        "duration": 0,
        "start_time": "2023-05-21T14:49:12.178Z"
      },
      {
        "duration": 0,
        "start_time": "2023-05-21T14:49:12.179Z"
      },
      {
        "duration": 0,
        "start_time": "2023-05-21T14:49:12.181Z"
      },
      {
        "duration": 0,
        "start_time": "2023-05-21T14:49:12.182Z"
      },
      {
        "duration": 0,
        "start_time": "2023-05-21T14:49:12.183Z"
      },
      {
        "duration": 0,
        "start_time": "2023-05-21T14:49:12.185Z"
      },
      {
        "duration": 0,
        "start_time": "2023-05-21T14:49:12.186Z"
      },
      {
        "duration": 0,
        "start_time": "2023-05-21T14:49:12.187Z"
      },
      {
        "duration": 0,
        "start_time": "2023-05-21T14:49:12.188Z"
      },
      {
        "duration": 0,
        "start_time": "2023-05-21T14:49:12.190Z"
      },
      {
        "duration": 42,
        "start_time": "2023-05-21T14:49:20.383Z"
      },
      {
        "duration": 169,
        "start_time": "2023-05-21T14:57:36.285Z"
      },
      {
        "duration": 45,
        "start_time": "2023-05-21T15:00:08.504Z"
      },
      {
        "duration": 58,
        "start_time": "2023-05-22T10:52:18.429Z"
      },
      {
        "duration": 7355,
        "start_time": "2023-05-22T10:52:48.052Z"
      },
      {
        "duration": 1041,
        "start_time": "2023-05-22T10:52:56.406Z"
      },
      {
        "duration": 3410,
        "start_time": "2023-05-22T10:52:58.037Z"
      },
      {
        "duration": 121,
        "start_time": "2023-05-22T10:53:02.493Z"
      },
      {
        "duration": 34,
        "start_time": "2023-05-22T10:53:05.535Z"
      },
      {
        "duration": 1295,
        "start_time": "2023-05-22T10:53:06.551Z"
      },
      {
        "duration": 9,
        "start_time": "2023-05-22T10:53:11.318Z"
      },
      {
        "duration": 33,
        "start_time": "2023-05-22T10:53:12.380Z"
      },
      {
        "duration": 11,
        "start_time": "2023-05-22T10:53:12.866Z"
      },
      {
        "duration": 222,
        "start_time": "2023-05-22T10:53:13.560Z"
      },
      {
        "duration": 19,
        "start_time": "2023-05-22T10:53:18.482Z"
      },
      {
        "duration": 40,
        "start_time": "2023-05-22T10:53:21.911Z"
      },
      {
        "duration": 10,
        "start_time": "2023-05-22T10:53:25.221Z"
      },
      {
        "duration": 214,
        "start_time": "2023-05-22T10:53:25.675Z"
      },
      {
        "duration": 246,
        "start_time": "2023-05-22T10:53:29.792Z"
      },
      {
        "duration": 29,
        "start_time": "2023-05-22T11:02:03.460Z"
      },
      {
        "duration": 38,
        "start_time": "2023-05-22T11:08:50.384Z"
      },
      {
        "duration": 20,
        "start_time": "2023-05-22T11:09:38.774Z"
      },
      {
        "duration": 208,
        "start_time": "2023-05-22T11:31:40.653Z"
      },
      {
        "duration": 26192,
        "start_time": "2023-05-22T11:31:53.795Z"
      },
      {
        "duration": 63740,
        "start_time": "2023-05-22T11:32:29.061Z"
      },
      {
        "duration": 200,
        "start_time": "2023-05-22T11:33:42.290Z"
      },
      {
        "duration": 5,
        "start_time": "2023-05-22T11:34:16.582Z"
      },
      {
        "duration": 363536,
        "start_time": "2023-05-22T11:34:26.113Z"
      },
      {
        "duration": 34,
        "start_time": "2023-05-22T12:20:45.330Z"
      },
      {
        "duration": 58,
        "start_time": "2023-05-22T12:27:16.410Z"
      },
      {
        "duration": 12,
        "start_time": "2023-05-22T12:30:22.843Z"
      },
      {
        "duration": 23,
        "start_time": "2023-05-22T12:31:17.945Z"
      },
      {
        "duration": 11,
        "start_time": "2023-05-22T12:32:47.340Z"
      },
      {
        "duration": 10,
        "start_time": "2023-05-22T12:33:02.283Z"
      },
      {
        "duration": 2235,
        "start_time": "2023-05-22T12:33:29.643Z"
      },
      {
        "duration": 1204,
        "start_time": "2023-05-22T12:33:31.886Z"
      },
      {
        "duration": 937,
        "start_time": "2023-05-22T12:33:33.091Z"
      },
      {
        "duration": 134,
        "start_time": "2023-05-22T12:33:34.029Z"
      },
      {
        "duration": 42,
        "start_time": "2023-05-22T12:33:34.166Z"
      },
      {
        "duration": 1012,
        "start_time": "2023-05-22T12:33:34.210Z"
      },
      {
        "duration": 9,
        "start_time": "2023-05-22T12:33:35.225Z"
      },
      {
        "duration": 77,
        "start_time": "2023-05-22T12:33:35.236Z"
      },
      {
        "duration": 9,
        "start_time": "2023-05-22T12:33:35.315Z"
      },
      {
        "duration": 284,
        "start_time": "2023-05-22T12:33:35.326Z"
      },
      {
        "duration": 19,
        "start_time": "2023-05-22T12:33:35.612Z"
      },
      {
        "duration": 64,
        "start_time": "2023-05-22T12:33:35.632Z"
      },
      {
        "duration": 8,
        "start_time": "2023-05-22T12:33:35.699Z"
      },
      {
        "duration": 19,
        "start_time": "2023-05-22T12:33:35.710Z"
      },
      {
        "duration": 203,
        "start_time": "2023-05-22T12:33:35.731Z"
      },
      {
        "duration": 0,
        "start_time": "2023-05-22T12:33:35.936Z"
      },
      {
        "duration": 0,
        "start_time": "2023-05-22T12:33:35.937Z"
      },
      {
        "duration": 0,
        "start_time": "2023-05-22T12:33:35.938Z"
      },
      {
        "duration": 0,
        "start_time": "2023-05-22T12:33:35.940Z"
      },
      {
        "duration": 0,
        "start_time": "2023-05-22T12:33:35.941Z"
      },
      {
        "duration": 0,
        "start_time": "2023-05-22T12:33:35.942Z"
      },
      {
        "duration": 0,
        "start_time": "2023-05-22T12:33:35.943Z"
      },
      {
        "duration": 0,
        "start_time": "2023-05-22T12:33:35.944Z"
      },
      {
        "duration": 0,
        "start_time": "2023-05-22T12:33:35.945Z"
      },
      {
        "duration": 0,
        "start_time": "2023-05-22T12:33:35.946Z"
      },
      {
        "duration": 0,
        "start_time": "2023-05-22T12:33:35.947Z"
      },
      {
        "duration": 0,
        "start_time": "2023-05-22T12:33:35.948Z"
      },
      {
        "duration": 0,
        "start_time": "2023-05-22T12:33:35.949Z"
      },
      {
        "duration": 0,
        "start_time": "2023-05-22T12:33:35.950Z"
      },
      {
        "duration": 0,
        "start_time": "2023-05-22T12:33:35.951Z"
      },
      {
        "duration": 0,
        "start_time": "2023-05-22T12:33:35.952Z"
      },
      {
        "duration": 0,
        "start_time": "2023-05-22T12:33:35.953Z"
      },
      {
        "duration": 0,
        "start_time": "2023-05-22T12:33:35.954Z"
      },
      {
        "duration": 186,
        "start_time": "2023-05-22T12:33:45.658Z"
      },
      {
        "duration": 4,
        "start_time": "2023-05-22T12:35:18.648Z"
      },
      {
        "duration": 14,
        "start_time": "2023-05-22T12:36:13.508Z"
      },
      {
        "duration": 2324,
        "start_time": "2023-05-22T12:36:57.487Z"
      },
      {
        "duration": 1173,
        "start_time": "2023-05-22T12:36:59.814Z"
      },
      {
        "duration": 1025,
        "start_time": "2023-05-22T12:37:00.989Z"
      },
      {
        "duration": 148,
        "start_time": "2023-05-22T12:37:02.016Z"
      },
      {
        "duration": 32,
        "start_time": "2023-05-22T12:37:02.173Z"
      },
      {
        "duration": 1061,
        "start_time": "2023-05-22T12:37:02.207Z"
      },
      {
        "duration": 20,
        "start_time": "2023-05-22T12:37:03.277Z"
      },
      {
        "duration": 35,
        "start_time": "2023-05-22T12:37:03.299Z"
      },
      {
        "duration": 13,
        "start_time": "2023-05-22T12:37:03.337Z"
      },
      {
        "duration": 242,
        "start_time": "2023-05-22T12:37:03.364Z"
      },
      {
        "duration": 22,
        "start_time": "2023-05-22T12:37:03.608Z"
      },
      {
        "duration": 60,
        "start_time": "2023-05-22T12:37:03.633Z"
      },
      {
        "duration": 9,
        "start_time": "2023-05-22T12:37:03.696Z"
      },
      {
        "duration": 22,
        "start_time": "2023-05-22T12:37:03.709Z"
      },
      {
        "duration": 197,
        "start_time": "2023-05-22T12:37:03.733Z"
      },
      {
        "duration": 0,
        "start_time": "2023-05-22T12:37:03.932Z"
      },
      {
        "duration": 0,
        "start_time": "2023-05-22T12:37:03.933Z"
      },
      {
        "duration": 0,
        "start_time": "2023-05-22T12:37:03.934Z"
      },
      {
        "duration": 0,
        "start_time": "2023-05-22T12:37:03.935Z"
      },
      {
        "duration": 0,
        "start_time": "2023-05-22T12:37:03.936Z"
      },
      {
        "duration": 0,
        "start_time": "2023-05-22T12:37:03.937Z"
      },
      {
        "duration": 0,
        "start_time": "2023-05-22T12:37:03.939Z"
      },
      {
        "duration": 0,
        "start_time": "2023-05-22T12:37:03.940Z"
      },
      {
        "duration": 0,
        "start_time": "2023-05-22T12:37:03.941Z"
      },
      {
        "duration": 0,
        "start_time": "2023-05-22T12:37:03.942Z"
      },
      {
        "duration": 0,
        "start_time": "2023-05-22T12:37:03.943Z"
      },
      {
        "duration": 0,
        "start_time": "2023-05-22T12:37:03.945Z"
      },
      {
        "duration": 0,
        "start_time": "2023-05-22T12:37:03.946Z"
      },
      {
        "duration": 0,
        "start_time": "2023-05-22T12:37:03.947Z"
      },
      {
        "duration": 0,
        "start_time": "2023-05-22T12:37:03.948Z"
      },
      {
        "duration": 0,
        "start_time": "2023-05-22T12:37:03.949Z"
      },
      {
        "duration": 0,
        "start_time": "2023-05-22T12:37:03.950Z"
      },
      {
        "duration": 0,
        "start_time": "2023-05-22T12:37:03.951Z"
      },
      {
        "duration": 11377,
        "start_time": "2023-05-22T12:37:11.546Z"
      },
      {
        "duration": 31,
        "start_time": "2023-05-22T12:42:56.382Z"
      },
      {
        "duration": 143,
        "start_time": "2023-05-22T12:43:31.789Z"
      },
      {
        "duration": 2376,
        "start_time": "2023-05-22T12:44:44.587Z"
      },
      {
        "duration": 1221,
        "start_time": "2023-05-22T12:44:46.969Z"
      },
      {
        "duration": 1131,
        "start_time": "2023-05-22T12:44:48.192Z"
      },
      {
        "duration": 149,
        "start_time": "2023-05-22T12:44:49.325Z"
      },
      {
        "duration": 34,
        "start_time": "2023-05-22T12:44:49.477Z"
      },
      {
        "duration": 1094,
        "start_time": "2023-05-22T12:44:49.513Z"
      },
      {
        "duration": 10,
        "start_time": "2023-05-22T12:44:50.609Z"
      },
      {
        "duration": 64,
        "start_time": "2023-05-22T12:44:50.621Z"
      },
      {
        "duration": 31,
        "start_time": "2023-05-22T12:44:50.687Z"
      },
      {
        "duration": 267,
        "start_time": "2023-05-22T12:44:50.720Z"
      },
      {
        "duration": 24,
        "start_time": "2023-05-22T12:44:50.989Z"
      },
      {
        "duration": 67,
        "start_time": "2023-05-22T12:44:51.015Z"
      },
      {
        "duration": 9,
        "start_time": "2023-05-22T12:44:51.089Z"
      },
      {
        "duration": 24,
        "start_time": "2023-05-22T12:44:51.101Z"
      },
      {
        "duration": 289,
        "start_time": "2023-05-22T12:44:51.127Z"
      },
      {
        "duration": 0,
        "start_time": "2023-05-22T12:44:51.418Z"
      },
      {
        "duration": 0,
        "start_time": "2023-05-22T12:44:51.420Z"
      },
      {
        "duration": 0,
        "start_time": "2023-05-22T12:44:51.421Z"
      },
      {
        "duration": 0,
        "start_time": "2023-05-22T12:44:51.422Z"
      },
      {
        "duration": 0,
        "start_time": "2023-05-22T12:44:51.423Z"
      },
      {
        "duration": 0,
        "start_time": "2023-05-22T12:44:51.425Z"
      },
      {
        "duration": 0,
        "start_time": "2023-05-22T12:44:51.426Z"
      },
      {
        "duration": 0,
        "start_time": "2023-05-22T12:44:51.427Z"
      },
      {
        "duration": 0,
        "start_time": "2023-05-22T12:44:51.428Z"
      },
      {
        "duration": 0,
        "start_time": "2023-05-22T12:44:51.429Z"
      },
      {
        "duration": 0,
        "start_time": "2023-05-22T12:44:51.431Z"
      },
      {
        "duration": 0,
        "start_time": "2023-05-22T12:44:51.460Z"
      },
      {
        "duration": 0,
        "start_time": "2023-05-22T12:44:51.461Z"
      },
      {
        "duration": 0,
        "start_time": "2023-05-22T12:44:51.462Z"
      },
      {
        "duration": 0,
        "start_time": "2023-05-22T12:44:51.463Z"
      },
      {
        "duration": 0,
        "start_time": "2023-05-22T12:44:51.464Z"
      },
      {
        "duration": 0,
        "start_time": "2023-05-22T12:44:51.465Z"
      },
      {
        "duration": 13,
        "start_time": "2023-05-22T12:45:47.341Z"
      },
      {
        "duration": 2328,
        "start_time": "2023-05-22T12:50:05.177Z"
      },
      {
        "duration": 1187,
        "start_time": "2023-05-22T12:50:07.508Z"
      },
      {
        "duration": 1102,
        "start_time": "2023-05-22T12:50:08.697Z"
      },
      {
        "duration": 151,
        "start_time": "2023-05-22T12:50:09.801Z"
      },
      {
        "duration": 37,
        "start_time": "2023-05-22T12:50:09.960Z"
      },
      {
        "duration": 1004,
        "start_time": "2023-05-22T12:50:09.998Z"
      },
      {
        "duration": 9,
        "start_time": "2023-05-22T12:50:11.004Z"
      },
      {
        "duration": 61,
        "start_time": "2023-05-22T12:50:11.014Z"
      },
      {
        "duration": 15,
        "start_time": "2023-05-22T12:50:11.077Z"
      },
      {
        "duration": 242,
        "start_time": "2023-05-22T12:50:11.095Z"
      },
      {
        "duration": 30,
        "start_time": "2023-05-22T12:50:11.340Z"
      },
      {
        "duration": 41,
        "start_time": "2023-05-22T12:50:11.371Z"
      },
      {
        "duration": 8,
        "start_time": "2023-05-22T12:50:11.414Z"
      },
      {
        "duration": 44,
        "start_time": "2023-05-22T12:50:11.425Z"
      },
      {
        "duration": 181,
        "start_time": "2023-05-22T12:50:11.470Z"
      },
      {
        "duration": 103,
        "start_time": "2023-05-22T12:50:11.661Z"
      },
      {
        "duration": 0,
        "start_time": "2023-05-22T12:50:11.769Z"
      },
      {
        "duration": 0,
        "start_time": "2023-05-22T12:50:11.774Z"
      },
      {
        "duration": 0,
        "start_time": "2023-05-22T12:50:11.775Z"
      },
      {
        "duration": 0,
        "start_time": "2023-05-22T12:50:11.779Z"
      },
      {
        "duration": 0,
        "start_time": "2023-05-22T12:50:11.780Z"
      },
      {
        "duration": 0,
        "start_time": "2023-05-22T12:50:11.782Z"
      },
      {
        "duration": 0,
        "start_time": "2023-05-22T12:50:11.784Z"
      },
      {
        "duration": 0,
        "start_time": "2023-05-22T12:50:11.785Z"
      },
      {
        "duration": 0,
        "start_time": "2023-05-22T12:50:11.787Z"
      },
      {
        "duration": 0,
        "start_time": "2023-05-22T12:50:11.788Z"
      },
      {
        "duration": 0,
        "start_time": "2023-05-22T12:50:11.789Z"
      },
      {
        "duration": 0,
        "start_time": "2023-05-22T12:50:11.790Z"
      },
      {
        "duration": 0,
        "start_time": "2023-05-22T12:50:11.791Z"
      },
      {
        "duration": 0,
        "start_time": "2023-05-22T12:50:11.793Z"
      },
      {
        "duration": 0,
        "start_time": "2023-05-22T12:50:11.794Z"
      },
      {
        "duration": 0,
        "start_time": "2023-05-22T12:50:11.795Z"
      },
      {
        "duration": 17,
        "start_time": "2023-05-22T12:50:30.154Z"
      },
      {
        "duration": 13,
        "start_time": "2023-05-22T12:50:35.042Z"
      },
      {
        "duration": 77,
        "start_time": "2023-05-22T12:50:35.310Z"
      },
      {
        "duration": 139,
        "start_time": "2023-05-22T12:50:35.641Z"
      },
      {
        "duration": 111,
        "start_time": "2023-05-22T12:50:37.919Z"
      },
      {
        "duration": 93,
        "start_time": "2023-05-22T12:50:38.493Z"
      },
      {
        "duration": 173,
        "start_time": "2023-05-22T12:50:55.450Z"
      },
      {
        "duration": 23,
        "start_time": "2023-05-22T12:53:33.054Z"
      },
      {
        "duration": 75,
        "start_time": "2023-05-22T12:53:35.954Z"
      },
      {
        "duration": 2432,
        "start_time": "2023-05-22T12:54:06.054Z"
      },
      {
        "duration": 1287,
        "start_time": "2023-05-22T12:54:08.489Z"
      },
      {
        "duration": 1024,
        "start_time": "2023-05-22T12:54:09.778Z"
      },
      {
        "duration": 132,
        "start_time": "2023-05-22T12:54:10.803Z"
      },
      {
        "duration": 58,
        "start_time": "2023-05-22T12:54:10.938Z"
      },
      {
        "duration": 1097,
        "start_time": "2023-05-22T12:54:10.999Z"
      },
      {
        "duration": 8,
        "start_time": "2023-05-22T12:54:12.098Z"
      },
      {
        "duration": 37,
        "start_time": "2023-05-22T12:54:12.107Z"
      },
      {
        "duration": 20,
        "start_time": "2023-05-22T12:54:12.158Z"
      },
      {
        "duration": 223,
        "start_time": "2023-05-22T12:54:12.185Z"
      },
      {
        "duration": 22,
        "start_time": "2023-05-22T12:54:12.410Z"
      },
      {
        "duration": 69,
        "start_time": "2023-05-22T12:54:12.434Z"
      },
      {
        "duration": 10,
        "start_time": "2023-05-22T12:54:12.505Z"
      },
      {
        "duration": 18,
        "start_time": "2023-05-22T12:54:12.518Z"
      },
      {
        "duration": 221,
        "start_time": "2023-05-22T12:54:12.562Z"
      },
      {
        "duration": 11,
        "start_time": "2023-05-22T12:54:12.789Z"
      },
      {
        "duration": 13,
        "start_time": "2023-05-22T12:54:12.804Z"
      },
      {
        "duration": 78,
        "start_time": "2023-05-22T12:54:12.819Z"
      },
      {
        "duration": 116,
        "start_time": "2023-05-22T12:54:12.899Z"
      },
      {
        "duration": 130,
        "start_time": "2023-05-22T12:54:13.017Z"
      },
      {
        "duration": 38,
        "start_time": "2023-05-22T12:54:13.149Z"
      },
      {
        "duration": 98,
        "start_time": "2023-05-22T12:54:13.189Z"
      },
      {
        "duration": 50,
        "start_time": "2023-05-22T12:54:13.288Z"
      },
      {
        "duration": 0,
        "start_time": "2023-05-22T12:54:13.341Z"
      },
      {
        "duration": 0,
        "start_time": "2023-05-22T12:54:13.342Z"
      },
      {
        "duration": 0,
        "start_time": "2023-05-22T12:54:13.344Z"
      },
      {
        "duration": 0,
        "start_time": "2023-05-22T12:54:13.345Z"
      },
      {
        "duration": 0,
        "start_time": "2023-05-22T12:54:13.347Z"
      },
      {
        "duration": 0,
        "start_time": "2023-05-22T12:54:13.348Z"
      },
      {
        "duration": 0,
        "start_time": "2023-05-22T12:54:13.349Z"
      },
      {
        "duration": 0,
        "start_time": "2023-05-22T12:54:13.350Z"
      },
      {
        "duration": 0,
        "start_time": "2023-05-22T12:54:13.352Z"
      },
      {
        "duration": 0,
        "start_time": "2023-05-22T12:54:13.354Z"
      },
      {
        "duration": 189,
        "start_time": "2023-05-22T12:54:37.291Z"
      },
      {
        "duration": 21,
        "start_time": "2023-05-22T12:55:48.485Z"
      },
      {
        "duration": 105,
        "start_time": "2023-05-22T12:55:48.782Z"
      },
      {
        "duration": 4,
        "start_time": "2023-05-22T12:55:49.489Z"
      },
      {
        "duration": 11,
        "start_time": "2023-05-22T12:55:50.075Z"
      },
      {
        "duration": 1006,
        "start_time": "2023-05-22T12:55:50.618Z"
      },
      {
        "duration": 92,
        "start_time": "2023-05-22T12:55:52.189Z"
      },
      {
        "duration": 30745,
        "start_time": "2023-05-22T12:55:54.028Z"
      },
      {
        "duration": 344274,
        "start_time": "2023-05-22T12:57:51.593Z"
      },
      {
        "duration": 734054,
        "start_time": "2023-05-22T13:07:29.630Z"
      },
      {
        "duration": 197057,
        "start_time": "2023-05-22T13:19:43.689Z"
      },
      {
        "duration": 29435,
        "start_time": "2023-05-22T13:23:53.387Z"
      },
      {
        "duration": 785032,
        "start_time": "2023-05-22T13:32:37.533Z"
      },
      {
        "duration": 855825,
        "start_time": "2023-05-22T13:54:03.812Z"
      },
      {
        "duration": 6889225,
        "start_time": "2023-05-22T14:08:19.639Z"
      },
      {
        "duration": 280217,
        "start_time": "2023-05-22T16:03:08.874Z"
      },
      {
        "duration": 3566266,
        "start_time": "2023-05-22T16:07:49.098Z"
      },
      {
        "duration": 116,
        "start_time": "2023-05-23T08:01:07.009Z"
      },
      {
        "duration": 7326,
        "start_time": "2023-05-23T08:01:52.736Z"
      },
      {
        "duration": 1072,
        "start_time": "2023-05-23T08:02:00.065Z"
      },
      {
        "duration": 3063,
        "start_time": "2023-05-23T08:02:01.138Z"
      },
      {
        "duration": 143,
        "start_time": "2023-05-23T08:02:04.204Z"
      },
      {
        "duration": 36,
        "start_time": "2023-05-23T08:02:04.355Z"
      },
      {
        "duration": 1181,
        "start_time": "2023-05-23T08:02:04.393Z"
      },
      {
        "duration": 8,
        "start_time": "2023-05-23T08:02:05.575Z"
      },
      {
        "duration": 41,
        "start_time": "2023-05-23T08:02:05.585Z"
      },
      {
        "duration": 42,
        "start_time": "2023-05-23T08:02:05.627Z"
      },
      {
        "duration": 238,
        "start_time": "2023-05-23T08:02:05.672Z"
      },
      {
        "duration": 21,
        "start_time": "2023-05-23T08:02:05.912Z"
      },
      {
        "duration": 49,
        "start_time": "2023-05-23T08:02:05.935Z"
      },
      {
        "duration": 8,
        "start_time": "2023-05-23T08:02:05.986Z"
      },
      {
        "duration": 29,
        "start_time": "2023-05-23T08:02:05.995Z"
      },
      {
        "duration": 163,
        "start_time": "2023-05-23T08:02:06.025Z"
      },
      {
        "duration": 11,
        "start_time": "2023-05-23T08:02:06.189Z"
      },
      {
        "duration": 58,
        "start_time": "2023-05-23T08:02:06.202Z"
      },
      {
        "duration": 101,
        "start_time": "2023-05-23T08:02:06.263Z"
      },
      {
        "duration": 103,
        "start_time": "2023-05-23T08:02:06.366Z"
      },
      {
        "duration": 19,
        "start_time": "2023-05-23T08:02:06.471Z"
      },
      {
        "duration": 90,
        "start_time": "2023-05-23T08:02:06.492Z"
      },
      {
        "duration": 154,
        "start_time": "2023-05-23T08:02:06.583Z"
      },
      {
        "duration": 25,
        "start_time": "2023-05-23T08:02:06.739Z"
      },
      {
        "duration": 68,
        "start_time": "2023-05-23T08:02:06.766Z"
      },
      {
        "duration": 4,
        "start_time": "2023-05-23T08:02:06.836Z"
      },
      {
        "duration": 20,
        "start_time": "2023-05-23T08:02:06.842Z"
      },
      {
        "duration": 797,
        "start_time": "2023-05-23T08:02:06.864Z"
      },
      {
        "duration": 50,
        "start_time": "2023-05-23T08:02:07.665Z"
      },
      {
        "duration": 26716,
        "start_time": "2023-05-23T08:02:07.716Z"
      },
      {
        "duration": 37,
        "start_time": "2023-05-23T08:02:34.434Z"
      },
      {
        "duration": 0,
        "start_time": "2023-05-23T08:02:34.473Z"
      },
      {
        "duration": 0,
        "start_time": "2023-05-23T08:02:34.475Z"
      },
      {
        "duration": 0,
        "start_time": "2023-05-23T08:02:34.476Z"
      },
      {
        "duration": 0,
        "start_time": "2023-05-23T08:02:34.477Z"
      },
      {
        "duration": 0,
        "start_time": "2023-05-23T08:02:34.478Z"
      },
      {
        "duration": 175,
        "start_time": "2023-05-23T08:02:48.273Z"
      },
      {
        "duration": 4337,
        "start_time": "2023-05-23T08:03:03.105Z"
      },
      {
        "duration": 3402,
        "start_time": "2023-05-23T08:03:17.662Z"
      },
      {
        "duration": 10,
        "start_time": "2023-05-23T08:03:32.894Z"
      },
      {
        "duration": 10,
        "start_time": "2023-05-23T08:04:34.023Z"
      },
      {
        "duration": 3388,
        "start_time": "2023-05-23T08:04:48.895Z"
      },
      {
        "duration": 9,
        "start_time": "2023-05-23T08:04:53.836Z"
      },
      {
        "duration": 48,
        "start_time": "2023-05-23T08:05:24.860Z"
      },
      {
        "duration": 4,
        "start_time": "2023-05-23T08:06:10.130Z"
      },
      {
        "duration": 65,
        "start_time": "2023-05-23T08:07:34.617Z"
      },
      {
        "duration": 4433,
        "start_time": "2023-05-23T08:07:53.573Z"
      },
      {
        "duration": 3515,
        "start_time": "2023-05-23T08:07:59.196Z"
      },
      {
        "duration": 52,
        "start_time": "2023-05-23T08:08:04.694Z"
      },
      {
        "duration": 55,
        "start_time": "2023-05-23T08:09:14.629Z"
      },
      {
        "duration": 719778,
        "start_time": "2023-05-23T08:10:57.125Z"
      },
      {
        "duration": 274416,
        "start_time": "2023-05-23T08:22:56.906Z"
      },
      {
        "duration": 211563,
        "start_time": "2023-05-23T08:27:53.730Z"
      },
      {
        "duration": 21201,
        "start_time": "2023-05-23T08:31:25.295Z"
      },
      {
        "duration": 2649,
        "start_time": "2023-05-23T08:31:46.497Z"
      },
      {
        "duration": 189160,
        "start_time": "2023-05-23T08:32:56.077Z"
      },
      {
        "duration": 7238,
        "start_time": "2023-05-23T08:36:05.240Z"
      },
      {
        "duration": 118,
        "start_time": "2023-05-23T08:36:12.479Z"
      },
      {
        "duration": 1290454,
        "start_time": "2023-05-23T08:37:02.318Z"
      },
      {
        "duration": 71405,
        "start_time": "2023-05-23T09:03:33.949Z"
      },
      {
        "duration": 4411,
        "start_time": "2023-05-23T09:04:45.356Z"
      },
      {
        "duration": 583,
        "start_time": "2023-05-23T09:04:49.768Z"
      },
      {
        "duration": 37,
        "start_time": "2023-05-23T09:10:47.171Z"
      },
      {
        "duration": 22,
        "start_time": "2023-05-23T09:11:08.742Z"
      },
      {
        "duration": 33,
        "start_time": "2023-05-23T09:16:24.563Z"
      },
      {
        "duration": 7480,
        "start_time": "2023-05-23T15:08:58.533Z"
      },
      {
        "duration": 1033,
        "start_time": "2023-05-23T15:09:06.015Z"
      },
      {
        "duration": 1011,
        "start_time": "2023-05-23T15:09:07.050Z"
      },
      {
        "duration": 125,
        "start_time": "2023-05-23T15:09:08.063Z"
      },
      {
        "duration": 27,
        "start_time": "2023-05-23T15:09:08.194Z"
      },
      {
        "duration": 801,
        "start_time": "2023-05-23T15:09:08.222Z"
      },
      {
        "duration": 7,
        "start_time": "2023-05-23T15:09:09.025Z"
      },
      {
        "duration": 30,
        "start_time": "2023-05-23T15:09:09.033Z"
      },
      {
        "duration": 9,
        "start_time": "2023-05-23T15:09:09.065Z"
      },
      {
        "duration": 205,
        "start_time": "2023-05-23T15:09:09.076Z"
      },
      {
        "duration": 26,
        "start_time": "2023-05-23T15:09:09.283Z"
      },
      {
        "duration": 33,
        "start_time": "2023-05-23T15:09:09.310Z"
      },
      {
        "duration": 8,
        "start_time": "2023-05-23T15:09:09.345Z"
      },
      {
        "duration": 15,
        "start_time": "2023-05-23T15:09:09.445Z"
      },
      {
        "duration": 65,
        "start_time": "2023-05-23T15:09:09.462Z"
      },
      {
        "duration": 11,
        "start_time": "2023-05-23T15:09:09.529Z"
      },
      {
        "duration": 59,
        "start_time": "2023-05-23T15:09:09.541Z"
      },
      {
        "duration": 100,
        "start_time": "2023-05-23T15:09:09.601Z"
      },
      {
        "duration": 102,
        "start_time": "2023-05-23T15:09:09.703Z"
      },
      {
        "duration": 20,
        "start_time": "2023-05-23T15:09:09.807Z"
      },
      {
        "duration": 91,
        "start_time": "2023-05-23T15:09:09.829Z"
      },
      {
        "duration": 166,
        "start_time": "2023-05-23T15:09:09.923Z"
      },
      {
        "duration": 12,
        "start_time": "2023-05-23T15:09:10.095Z"
      },
      {
        "duration": 88,
        "start_time": "2023-05-23T15:09:10.109Z"
      },
      {
        "duration": 4,
        "start_time": "2023-05-23T15:09:10.199Z"
      },
      {
        "duration": 30,
        "start_time": "2023-05-23T15:09:10.205Z"
      },
      {
        "duration": 774,
        "start_time": "2023-05-23T15:09:10.237Z"
      },
      {
        "duration": 46,
        "start_time": "2023-05-23T15:09:11.013Z"
      },
      {
        "duration": 24888,
        "start_time": "2023-05-23T15:09:11.061Z"
      },
      {
        "duration": 740590,
        "start_time": "2023-05-23T15:09:35.950Z"
      },
      {
        "duration": 65868,
        "start_time": "2023-05-23T15:21:56.542Z"
      },
      {
        "duration": 591764,
        "start_time": "2023-05-23T15:23:02.412Z"
      },
      {
        "duration": 4378,
        "start_time": "2023-05-23T15:32:54.178Z"
      },
      {
        "duration": 3222,
        "start_time": "2023-05-23T15:32:58.558Z"
      },
      {
        "duration": 67,
        "start_time": "2023-05-23T15:33:01.782Z"
      },
      {
        "duration": 278887,
        "start_time": "2023-05-23T15:33:01.851Z"
      },
      {
        "duration": 22643,
        "start_time": "2023-05-23T15:37:40.739Z"
      },
      {
        "duration": 2759,
        "start_time": "2023-05-23T15:38:03.383Z"
      },
      {
        "duration": 67103,
        "start_time": "2023-05-23T15:38:06.144Z"
      },
      {
        "duration": 3870,
        "start_time": "2023-05-23T15:39:13.248Z"
      },
      {
        "duration": 504,
        "start_time": "2023-05-23T15:39:17.194Z"
      },
      {
        "duration": 175113,
        "start_time": "2023-05-23T15:39:17.700Z"
      },
      {
        "duration": 11241,
        "start_time": "2023-05-23T15:42:12.815Z"
      },
      {
        "duration": 156,
        "start_time": "2023-05-23T15:42:24.058Z"
      },
      {
        "duration": 56,
        "start_time": "2023-05-23T15:42:24.216Z"
      },
      {
        "duration": 49,
        "start_time": "2023-05-24T11:21:01.780Z"
      },
      {
        "duration": 8503,
        "start_time": "2023-05-24T11:23:31.000Z"
      },
      {
        "duration": 1025,
        "start_time": "2023-05-24T11:23:39.505Z"
      },
      {
        "duration": 3120,
        "start_time": "2023-05-24T11:23:40.532Z"
      },
      {
        "duration": 122,
        "start_time": "2023-05-24T11:23:43.714Z"
      },
      {
        "duration": 27,
        "start_time": "2023-05-24T11:23:45.996Z"
      },
      {
        "duration": 1004,
        "start_time": "2023-05-24T11:23:48.822Z"
      },
      {
        "duration": 8,
        "start_time": "2023-05-24T11:23:52.865Z"
      },
      {
        "duration": 34,
        "start_time": "2023-05-24T11:23:54.053Z"
      },
      {
        "duration": 8,
        "start_time": "2023-05-24T11:23:55.996Z"
      },
      {
        "duration": 183,
        "start_time": "2023-05-24T11:23:56.781Z"
      },
      {
        "duration": 19,
        "start_time": "2023-05-24T11:24:02.890Z"
      },
      {
        "duration": 147,
        "start_time": "2023-05-24T11:24:05.923Z"
      },
      {
        "duration": 45,
        "start_time": "2023-05-24T11:24:46.386Z"
      },
      {
        "duration": 55,
        "start_time": "2023-05-24T11:28:20.781Z"
      },
      {
        "duration": 14,
        "start_time": "2023-05-24T11:28:29.876Z"
      },
      {
        "duration": 17,
        "start_time": "2023-05-24T11:28:40.222Z"
      },
      {
        "duration": 148,
        "start_time": "2023-05-24T11:28:42.265Z"
      },
      {
        "duration": 12,
        "start_time": "2023-05-24T11:29:06.723Z"
      },
      {
        "duration": 38,
        "start_time": "2023-05-24T11:29:07.765Z"
      },
      {
        "duration": 97,
        "start_time": "2023-05-24T11:29:13.276Z"
      },
      {
        "duration": 121,
        "start_time": "2023-05-24T11:29:15.191Z"
      },
      {
        "duration": 100,
        "start_time": "2023-05-24T11:29:50.493Z"
      },
      {
        "duration": 5,
        "start_time": "2023-05-24T11:29:52.706Z"
      },
      {
        "duration": 4,
        "start_time": "2023-05-24T11:30:02.365Z"
      },
      {
        "duration": 4,
        "start_time": "2023-05-24T11:31:04.769Z"
      },
      {
        "duration": 5,
        "start_time": "2023-05-24T11:31:14.809Z"
      },
      {
        "duration": 86,
        "start_time": "2023-05-24T11:33:02.302Z"
      },
      {
        "duration": 107,
        "start_time": "2023-05-24T11:33:24.814Z"
      },
      {
        "duration": 1007,
        "start_time": "2023-05-24T11:36:41.991Z"
      },
      {
        "duration": 15,
        "start_time": "2023-05-24T11:37:37.486Z"
      },
      {
        "duration": 5,
        "start_time": "2023-05-24T11:38:34.260Z"
      },
      {
        "duration": 5,
        "start_time": "2023-05-24T11:38:55.695Z"
      },
      {
        "duration": 2334,
        "start_time": "2023-05-24T11:39:20.267Z"
      },
      {
        "duration": 1056,
        "start_time": "2023-05-24T11:39:22.603Z"
      },
      {
        "duration": 1059,
        "start_time": "2023-05-24T11:39:23.660Z"
      },
      {
        "duration": 166,
        "start_time": "2023-05-24T11:39:24.721Z"
      },
      {
        "duration": 34,
        "start_time": "2023-05-24T11:39:24.894Z"
      },
      {
        "duration": 1023,
        "start_time": "2023-05-24T11:39:24.930Z"
      },
      {
        "duration": 9,
        "start_time": "2023-05-24T11:39:25.954Z"
      },
      {
        "duration": 35,
        "start_time": "2023-05-24T11:39:25.975Z"
      },
      {
        "duration": 9,
        "start_time": "2023-05-24T11:39:26.012Z"
      },
      {
        "duration": 246,
        "start_time": "2023-05-24T11:39:26.023Z"
      },
      {
        "duration": 32,
        "start_time": "2023-05-24T11:39:26.271Z"
      },
      {
        "duration": 85,
        "start_time": "2023-05-24T11:39:26.310Z"
      },
      {
        "duration": 12,
        "start_time": "2023-05-24T11:39:26.402Z"
      },
      {
        "duration": 18,
        "start_time": "2023-05-24T11:39:26.419Z"
      },
      {
        "duration": 186,
        "start_time": "2023-05-24T11:39:26.439Z"
      },
      {
        "duration": 12,
        "start_time": "2023-05-24T11:39:26.628Z"
      },
      {
        "duration": 61,
        "start_time": "2023-05-24T11:39:26.642Z"
      },
      {
        "duration": 113,
        "start_time": "2023-05-24T11:39:26.705Z"
      },
      {
        "duration": 123,
        "start_time": "2023-05-24T11:39:26.819Z"
      },
      {
        "duration": 146,
        "start_time": "2023-05-24T11:39:26.943Z"
      },
      {
        "duration": 7,
        "start_time": "2023-05-24T11:39:27.090Z"
      },
      {
        "duration": 7,
        "start_time": "2023-05-24T11:39:27.098Z"
      },
      {
        "duration": 51,
        "start_time": "2023-05-24T11:39:27.106Z"
      },
      {
        "duration": 0,
        "start_time": "2023-05-24T11:39:27.160Z"
      },
      {
        "duration": 0,
        "start_time": "2023-05-24T11:39:27.161Z"
      },
      {
        "duration": 1,
        "start_time": "2023-05-24T11:39:27.162Z"
      },
      {
        "duration": 0,
        "start_time": "2023-05-24T11:39:27.166Z"
      },
      {
        "duration": 0,
        "start_time": "2023-05-24T11:39:27.168Z"
      },
      {
        "duration": 0,
        "start_time": "2023-05-24T11:39:27.169Z"
      },
      {
        "duration": 0,
        "start_time": "2023-05-24T11:39:27.171Z"
      },
      {
        "duration": 0,
        "start_time": "2023-05-24T11:39:27.173Z"
      },
      {
        "duration": 0,
        "start_time": "2023-05-24T11:39:27.174Z"
      },
      {
        "duration": 0,
        "start_time": "2023-05-24T11:39:27.175Z"
      },
      {
        "duration": 0,
        "start_time": "2023-05-24T11:39:27.176Z"
      },
      {
        "duration": 0,
        "start_time": "2023-05-24T11:39:27.177Z"
      },
      {
        "duration": 0,
        "start_time": "2023-05-24T11:39:27.178Z"
      },
      {
        "duration": 0,
        "start_time": "2023-05-24T11:39:27.179Z"
      },
      {
        "duration": 0,
        "start_time": "2023-05-24T11:39:27.181Z"
      },
      {
        "duration": 0,
        "start_time": "2023-05-24T11:39:27.182Z"
      },
      {
        "duration": 0,
        "start_time": "2023-05-24T11:39:27.183Z"
      },
      {
        "duration": 0,
        "start_time": "2023-05-24T11:39:27.184Z"
      },
      {
        "duration": 0,
        "start_time": "2023-05-24T11:39:27.185Z"
      },
      {
        "duration": 0,
        "start_time": "2023-05-24T11:39:27.186Z"
      },
      {
        "duration": 0,
        "start_time": "2023-05-24T11:39:27.187Z"
      },
      {
        "duration": 0,
        "start_time": "2023-05-24T11:39:27.188Z"
      },
      {
        "duration": 5,
        "start_time": "2023-05-24T11:40:56.393Z"
      },
      {
        "duration": 5,
        "start_time": "2023-05-24T11:41:46.906Z"
      },
      {
        "duration": 19,
        "start_time": "2023-05-24T11:42:03.999Z"
      },
      {
        "duration": 105,
        "start_time": "2023-05-24T11:42:16.554Z"
      },
      {
        "duration": 4,
        "start_time": "2023-05-24T11:42:20.162Z"
      },
      {
        "duration": 4,
        "start_time": "2023-05-24T11:42:22.963Z"
      },
      {
        "duration": 1022,
        "start_time": "2023-05-24T11:42:36.563Z"
      },
      {
        "duration": 56,
        "start_time": "2023-05-24T11:42:51.411Z"
      },
      {
        "duration": 30035,
        "start_time": "2023-05-24T12:12:47.270Z"
      },
      {
        "duration": 916926,
        "start_time": "2023-05-24T12:15:01.062Z"
      },
      {
        "duration": 1177504,
        "start_time": "2023-05-24T12:30:17.990Z"
      },
      {
        "duration": 293560,
        "start_time": "2023-05-24T12:49:55.498Z"
      },
      {
        "duration": 7374,
        "start_time": "2023-05-24T13:16:06.755Z"
      },
      {
        "duration": 1836,
        "start_time": "2023-05-24T13:16:14.132Z"
      },
      {
        "duration": 40,
        "start_time": "2023-05-24T13:16:15.969Z"
      },
      {
        "duration": 296537,
        "start_time": "2023-05-24T13:17:52.702Z"
      },
      {
        "duration": 5933,
        "start_time": "2023-05-24T13:22:49.241Z"
      },
      {
        "duration": 747,
        "start_time": "2023-05-24T13:22:55.181Z"
      },
      {
        "duration": 54,
        "start_time": "2023-05-24T13:22:55.930Z"
      },
      {
        "duration": 99363,
        "start_time": "2023-05-24T13:22:55.986Z"
      },
      {
        "duration": 1856,
        "start_time": "2023-05-24T13:24:35.351Z"
      },
      {
        "duration": 290,
        "start_time": "2023-05-24T13:24:37.209Z"
      },
      {
        "duration": 266254,
        "start_time": "2023-05-24T13:24:37.506Z"
      },
      {
        "duration": 3467,
        "start_time": "2023-05-24T13:29:03.762Z"
      },
      {
        "duration": 35,
        "start_time": "2023-05-24T13:29:07.231Z"
      }
    ],
    "kernelspec": {
      "display_name": "Python 3 (ipykernel)",
      "language": "python",
      "name": "python3"
    },
    "language_info": {
      "codemirror_mode": {
        "name": "ipython",
        "version": 3
      },
      "file_extension": ".py",
      "mimetype": "text/x-python",
      "name": "python",
      "nbconvert_exporter": "python",
      "pygments_lexer": "ipython3",
      "version": "3.9.5"
    },
    "toc": {
      "base_numbering": 1,
      "nav_menu": {},
      "number_sections": true,
      "sideBar": true,
      "skip_h1_title": true,
      "title_cell": "Table of Contents",
      "title_sidebar": "Contents",
      "toc_cell": false,
      "toc_position": {},
      "toc_section_display": true,
      "toc_window_display": true
    },
    "colab": {
      "provenance": []
    }
  },
  "nbformat": 4,
  "nbformat_minor": 0
}