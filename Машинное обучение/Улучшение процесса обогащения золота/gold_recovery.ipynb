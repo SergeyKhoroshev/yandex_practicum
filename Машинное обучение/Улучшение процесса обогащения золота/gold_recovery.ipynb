{
  "cells": [
    {
      "cell_type": "markdown",
      "metadata": {
        "id": "fhLyvM6fOHo3"
      },
      "source": [
        "# Восстановление золота из руды"
      ]
    },
    {
      "cell_type": "markdown",
      "metadata": {
        "id": "U-BrUxM0OHo4"
      },
      "source": [
        "\n",
        "Цель: модель должна предсказать коэффициент восстановления золота из золотосодержащей руды \n",
        "\n",
        "# Содержание\n",
        "\n",
        "1. Подготовка данных\n",
        " - 1.1 Импорт и общее изучение данных\n",
        " - 1.2 Расчёт эффективности обогащения руды\n",
        " - 1.3 Предобработка данных\n",
        "2. Анализ данных\n",
        " - 2.1 Анализ концентрации металлов на разных этапах очистки\n",
        " - 2.2 Сравнение распределения размеров гранул сырья\n",
        " - 2.3 Исследование суммарной концентрации всех веществ на разных стадиях\n",
        "3. Модель\n",
        " - 3.1 Функция расчёта отклонения\n",
        " - 3.2 Подготовка данных для обучения модели\n",
        " - 3.3 Обучаем модели\n",
        "    - 3.3.1 Решающее дерево\n",
        "    - 3.3.2 Случайный лес\n",
        "    - 3.3.3 Линейная регрессия\n",
        "    - 3.3.4 CatBoostRegressor\n",
        "    - 3.3.4 Lasso\n",
        "    - 3.3.5 Проверка на dummy модели \n",
        " - 3.4 Проверка модели на тестовой выборке   \n",
        "\n",
        " \n",
        "Решаем задачу регрессии с помощью машинного обучения с учителем"
      ]
    },
    {
      "cell_type": "markdown",
      "metadata": {
        "id": "WnAJXjHVOHo4"
      },
      "source": [
        "## Подготовка данных"
      ]
    },
    {
      "cell_type": "markdown",
      "metadata": {
        "id": "wkV3NFc_OHo4"
      },
      "source": [
        "### Импорт и общее изучение данных"
      ]
    },
    {
      "cell_type": "markdown",
      "metadata": {
        "id": "X9VEe8NWOHo4"
      },
      "source": [
        "Импортируем необходимые библиотеки, откроем файлы, обозначив индексом дату, и изучим их"
      ]
    },
    {
      "cell_type": "code",
      "execution_count": null,
      "metadata": {
        "id": "-rpLNiP0OHo4"
      },
      "outputs": [],
      "source": [
        "import pandas as pd\n",
        "import numpy as np\n",
        "import matplotlib.pyplot as plt\n",
        "from sklearn.metrics import mean_absolute_error, make_scorer\n",
        "from sklearn.linear_model import LinearRegression, Lasso\n",
        "from sklearn.ensemble import RandomForestRegressor\n",
        "from sklearn.tree import DecisionTreeRegressor\n",
        "from sklearn.model_selection import RandomizedSearchCV, GridSearchCV\n",
        "from sklearn.dummy import DummyRegressor\n",
        "from catboost import CatBoostRegressor"
      ]
    },
    {
      "cell_type": "code",
      "execution_count": null,
      "metadata": {
        "id": "z42MbAnAOHo5"
      },
      "outputs": [],
      "source": [
        "data_train = pd.read_csv('/datasets/gold_recovery_train_new.csv', index_col='date')\n",
        "data_test = pd.read_csv('/datasets/gold_recovery_test_new.csv', index_col='date')\n",
        "data_full = pd.read_csv('/datasets/gold_recovery_full_new.csv', index_col='date')"
      ]
    },
    {
      "cell_type": "code",
      "execution_count": null,
      "metadata": {
        "scrolled": true,
        "id": "GUk-yrLjOHo5",
        "outputId": "5309a5ed-e601-4c66-81cc-5607775f07d9"
      },
      "outputs": [
        {
          "data": {
            "text/html": [
              "<div>\n",
              "<style scoped>\n",
              "    .dataframe tbody tr th:only-of-type {\n",
              "        vertical-align: middle;\n",
              "    }\n",
              "\n",
              "    .dataframe tbody tr th {\n",
              "        vertical-align: top;\n",
              "    }\n",
              "\n",
              "    .dataframe thead th {\n",
              "        text-align: right;\n",
              "    }\n",
              "</style>\n",
              "<table border=\"1\" class=\"dataframe\">\n",
              "  <thead>\n",
              "    <tr style=\"text-align: right;\">\n",
              "      <th></th>\n",
              "      <th>final.output.concentrate_ag</th>\n",
              "      <th>final.output.concentrate_pb</th>\n",
              "      <th>final.output.concentrate_sol</th>\n",
              "      <th>final.output.concentrate_au</th>\n",
              "      <th>final.output.recovery</th>\n",
              "      <th>final.output.tail_ag</th>\n",
              "      <th>final.output.tail_pb</th>\n",
              "      <th>final.output.tail_sol</th>\n",
              "      <th>final.output.tail_au</th>\n",
              "      <th>primary_cleaner.input.sulfate</th>\n",
              "      <th>...</th>\n",
              "      <th>secondary_cleaner.state.floatbank4_a_air</th>\n",
              "      <th>secondary_cleaner.state.floatbank4_a_level</th>\n",
              "      <th>secondary_cleaner.state.floatbank4_b_air</th>\n",
              "      <th>secondary_cleaner.state.floatbank4_b_level</th>\n",
              "      <th>secondary_cleaner.state.floatbank5_a_air</th>\n",
              "      <th>secondary_cleaner.state.floatbank5_a_level</th>\n",
              "      <th>secondary_cleaner.state.floatbank5_b_air</th>\n",
              "      <th>secondary_cleaner.state.floatbank5_b_level</th>\n",
              "      <th>secondary_cleaner.state.floatbank6_a_air</th>\n",
              "      <th>secondary_cleaner.state.floatbank6_a_level</th>\n",
              "    </tr>\n",
              "    <tr>\n",
              "      <th>date</th>\n",
              "      <th></th>\n",
              "      <th></th>\n",
              "      <th></th>\n",
              "      <th></th>\n",
              "      <th></th>\n",
              "      <th></th>\n",
              "      <th></th>\n",
              "      <th></th>\n",
              "      <th></th>\n",
              "      <th></th>\n",
              "      <th></th>\n",
              "      <th></th>\n",
              "      <th></th>\n",
              "      <th></th>\n",
              "      <th></th>\n",
              "      <th></th>\n",
              "      <th></th>\n",
              "      <th></th>\n",
              "      <th></th>\n",
              "      <th></th>\n",
              "      <th></th>\n",
              "    </tr>\n",
              "  </thead>\n",
              "  <tbody>\n",
              "    <tr>\n",
              "      <th>2016-01-15 00:00:00</th>\n",
              "      <td>6.055403</td>\n",
              "      <td>9.889648</td>\n",
              "      <td>5.507324</td>\n",
              "      <td>42.192020</td>\n",
              "      <td>70.541216</td>\n",
              "      <td>10.411962</td>\n",
              "      <td>0.895447</td>\n",
              "      <td>16.904297</td>\n",
              "      <td>2.143149</td>\n",
              "      <td>127.092003</td>\n",
              "      <td>...</td>\n",
              "      <td>14.016835</td>\n",
              "      <td>-502.488007</td>\n",
              "      <td>12.099931</td>\n",
              "      <td>-504.715942</td>\n",
              "      <td>9.925633</td>\n",
              "      <td>-498.310211</td>\n",
              "      <td>8.079666</td>\n",
              "      <td>-500.470978</td>\n",
              "      <td>14.151341</td>\n",
              "      <td>-605.841980</td>\n",
              "    </tr>\n",
              "    <tr>\n",
              "      <th>2016-01-15 01:00:00</th>\n",
              "      <td>6.029369</td>\n",
              "      <td>9.968944</td>\n",
              "      <td>5.257781</td>\n",
              "      <td>42.701629</td>\n",
              "      <td>69.266198</td>\n",
              "      <td>10.462676</td>\n",
              "      <td>0.927452</td>\n",
              "      <td>16.634514</td>\n",
              "      <td>2.224930</td>\n",
              "      <td>125.629232</td>\n",
              "      <td>...</td>\n",
              "      <td>13.992281</td>\n",
              "      <td>-505.503262</td>\n",
              "      <td>11.950531</td>\n",
              "      <td>-501.331529</td>\n",
              "      <td>10.039245</td>\n",
              "      <td>-500.169983</td>\n",
              "      <td>7.984757</td>\n",
              "      <td>-500.582168</td>\n",
              "      <td>13.998353</td>\n",
              "      <td>-599.787184</td>\n",
              "    </tr>\n",
              "    <tr>\n",
              "      <th>2016-01-15 02:00:00</th>\n",
              "      <td>6.055926</td>\n",
              "      <td>10.213995</td>\n",
              "      <td>5.383759</td>\n",
              "      <td>42.657501</td>\n",
              "      <td>68.116445</td>\n",
              "      <td>10.507046</td>\n",
              "      <td>0.953716</td>\n",
              "      <td>16.208849</td>\n",
              "      <td>2.257889</td>\n",
              "      <td>123.819808</td>\n",
              "      <td>...</td>\n",
              "      <td>14.015015</td>\n",
              "      <td>-502.520901</td>\n",
              "      <td>11.912783</td>\n",
              "      <td>-501.133383</td>\n",
              "      <td>10.070913</td>\n",
              "      <td>-500.129135</td>\n",
              "      <td>8.013877</td>\n",
              "      <td>-500.517572</td>\n",
              "      <td>14.028663</td>\n",
              "      <td>-601.427363</td>\n",
              "    </tr>\n",
              "    <tr>\n",
              "      <th>2016-01-15 03:00:00</th>\n",
              "      <td>6.047977</td>\n",
              "      <td>9.977019</td>\n",
              "      <td>4.858634</td>\n",
              "      <td>42.689819</td>\n",
              "      <td>68.347543</td>\n",
              "      <td>10.422762</td>\n",
              "      <td>0.883763</td>\n",
              "      <td>16.532835</td>\n",
              "      <td>2.146849</td>\n",
              "      <td>122.270188</td>\n",
              "      <td>...</td>\n",
              "      <td>14.036510</td>\n",
              "      <td>-500.857308</td>\n",
              "      <td>11.999550</td>\n",
              "      <td>-501.193686</td>\n",
              "      <td>9.970366</td>\n",
              "      <td>-499.201640</td>\n",
              "      <td>7.977324</td>\n",
              "      <td>-500.255908</td>\n",
              "      <td>14.005551</td>\n",
              "      <td>-599.996129</td>\n",
              "    </tr>\n",
              "    <tr>\n",
              "      <th>2016-01-15 04:00:00</th>\n",
              "      <td>6.148599</td>\n",
              "      <td>10.142511</td>\n",
              "      <td>4.939416</td>\n",
              "      <td>42.774141</td>\n",
              "      <td>66.927016</td>\n",
              "      <td>10.360302</td>\n",
              "      <td>0.792826</td>\n",
              "      <td>16.525686</td>\n",
              "      <td>2.055292</td>\n",
              "      <td>117.988169</td>\n",
              "      <td>...</td>\n",
              "      <td>14.027298</td>\n",
              "      <td>-499.838632</td>\n",
              "      <td>11.953070</td>\n",
              "      <td>-501.053894</td>\n",
              "      <td>9.925709</td>\n",
              "      <td>-501.686727</td>\n",
              "      <td>7.894242</td>\n",
              "      <td>-500.356035</td>\n",
              "      <td>13.996647</td>\n",
              "      <td>-601.496691</td>\n",
              "    </tr>\n",
              "  </tbody>\n",
              "</table>\n",
              "<p>5 rows × 86 columns</p>\n",
              "</div>"
            ],
            "text/plain": [
              "                     final.output.concentrate_ag  final.output.concentrate_pb  \\\n",
              "date                                                                            \n",
              "2016-01-15 00:00:00                     6.055403                     9.889648   \n",
              "2016-01-15 01:00:00                     6.029369                     9.968944   \n",
              "2016-01-15 02:00:00                     6.055926                    10.213995   \n",
              "2016-01-15 03:00:00                     6.047977                     9.977019   \n",
              "2016-01-15 04:00:00                     6.148599                    10.142511   \n",
              "\n",
              "                     final.output.concentrate_sol  \\\n",
              "date                                                \n",
              "2016-01-15 00:00:00                      5.507324   \n",
              "2016-01-15 01:00:00                      5.257781   \n",
              "2016-01-15 02:00:00                      5.383759   \n",
              "2016-01-15 03:00:00                      4.858634   \n",
              "2016-01-15 04:00:00                      4.939416   \n",
              "\n",
              "                     final.output.concentrate_au  final.output.recovery  \\\n",
              "date                                                                      \n",
              "2016-01-15 00:00:00                    42.192020              70.541216   \n",
              "2016-01-15 01:00:00                    42.701629              69.266198   \n",
              "2016-01-15 02:00:00                    42.657501              68.116445   \n",
              "2016-01-15 03:00:00                    42.689819              68.347543   \n",
              "2016-01-15 04:00:00                    42.774141              66.927016   \n",
              "\n",
              "                     final.output.tail_ag  final.output.tail_pb  \\\n",
              "date                                                              \n",
              "2016-01-15 00:00:00             10.411962              0.895447   \n",
              "2016-01-15 01:00:00             10.462676              0.927452   \n",
              "2016-01-15 02:00:00             10.507046              0.953716   \n",
              "2016-01-15 03:00:00             10.422762              0.883763   \n",
              "2016-01-15 04:00:00             10.360302              0.792826   \n",
              "\n",
              "                     final.output.tail_sol  final.output.tail_au  \\\n",
              "date                                                               \n",
              "2016-01-15 00:00:00              16.904297              2.143149   \n",
              "2016-01-15 01:00:00              16.634514              2.224930   \n",
              "2016-01-15 02:00:00              16.208849              2.257889   \n",
              "2016-01-15 03:00:00              16.532835              2.146849   \n",
              "2016-01-15 04:00:00              16.525686              2.055292   \n",
              "\n",
              "                     primary_cleaner.input.sulfate  ...  \\\n",
              "date                                                ...   \n",
              "2016-01-15 00:00:00                     127.092003  ...   \n",
              "2016-01-15 01:00:00                     125.629232  ...   \n",
              "2016-01-15 02:00:00                     123.819808  ...   \n",
              "2016-01-15 03:00:00                     122.270188  ...   \n",
              "2016-01-15 04:00:00                     117.988169  ...   \n",
              "\n",
              "                     secondary_cleaner.state.floatbank4_a_air  \\\n",
              "date                                                            \n",
              "2016-01-15 00:00:00                                 14.016835   \n",
              "2016-01-15 01:00:00                                 13.992281   \n",
              "2016-01-15 02:00:00                                 14.015015   \n",
              "2016-01-15 03:00:00                                 14.036510   \n",
              "2016-01-15 04:00:00                                 14.027298   \n",
              "\n",
              "                     secondary_cleaner.state.floatbank4_a_level  \\\n",
              "date                                                              \n",
              "2016-01-15 00:00:00                                 -502.488007   \n",
              "2016-01-15 01:00:00                                 -505.503262   \n",
              "2016-01-15 02:00:00                                 -502.520901   \n",
              "2016-01-15 03:00:00                                 -500.857308   \n",
              "2016-01-15 04:00:00                                 -499.838632   \n",
              "\n",
              "                     secondary_cleaner.state.floatbank4_b_air  \\\n",
              "date                                                            \n",
              "2016-01-15 00:00:00                                 12.099931   \n",
              "2016-01-15 01:00:00                                 11.950531   \n",
              "2016-01-15 02:00:00                                 11.912783   \n",
              "2016-01-15 03:00:00                                 11.999550   \n",
              "2016-01-15 04:00:00                                 11.953070   \n",
              "\n",
              "                     secondary_cleaner.state.floatbank4_b_level  \\\n",
              "date                                                              \n",
              "2016-01-15 00:00:00                                 -504.715942   \n",
              "2016-01-15 01:00:00                                 -501.331529   \n",
              "2016-01-15 02:00:00                                 -501.133383   \n",
              "2016-01-15 03:00:00                                 -501.193686   \n",
              "2016-01-15 04:00:00                                 -501.053894   \n",
              "\n",
              "                     secondary_cleaner.state.floatbank5_a_air  \\\n",
              "date                                                            \n",
              "2016-01-15 00:00:00                                  9.925633   \n",
              "2016-01-15 01:00:00                                 10.039245   \n",
              "2016-01-15 02:00:00                                 10.070913   \n",
              "2016-01-15 03:00:00                                  9.970366   \n",
              "2016-01-15 04:00:00                                  9.925709   \n",
              "\n",
              "                     secondary_cleaner.state.floatbank5_a_level  \\\n",
              "date                                                              \n",
              "2016-01-15 00:00:00                                 -498.310211   \n",
              "2016-01-15 01:00:00                                 -500.169983   \n",
              "2016-01-15 02:00:00                                 -500.129135   \n",
              "2016-01-15 03:00:00                                 -499.201640   \n",
              "2016-01-15 04:00:00                                 -501.686727   \n",
              "\n",
              "                     secondary_cleaner.state.floatbank5_b_air  \\\n",
              "date                                                            \n",
              "2016-01-15 00:00:00                                  8.079666   \n",
              "2016-01-15 01:00:00                                  7.984757   \n",
              "2016-01-15 02:00:00                                  8.013877   \n",
              "2016-01-15 03:00:00                                  7.977324   \n",
              "2016-01-15 04:00:00                                  7.894242   \n",
              "\n",
              "                     secondary_cleaner.state.floatbank5_b_level  \\\n",
              "date                                                              \n",
              "2016-01-15 00:00:00                                 -500.470978   \n",
              "2016-01-15 01:00:00                                 -500.582168   \n",
              "2016-01-15 02:00:00                                 -500.517572   \n",
              "2016-01-15 03:00:00                                 -500.255908   \n",
              "2016-01-15 04:00:00                                 -500.356035   \n",
              "\n",
              "                     secondary_cleaner.state.floatbank6_a_air  \\\n",
              "date                                                            \n",
              "2016-01-15 00:00:00                                 14.151341   \n",
              "2016-01-15 01:00:00                                 13.998353   \n",
              "2016-01-15 02:00:00                                 14.028663   \n",
              "2016-01-15 03:00:00                                 14.005551   \n",
              "2016-01-15 04:00:00                                 13.996647   \n",
              "\n",
              "                     secondary_cleaner.state.floatbank6_a_level  \n",
              "date                                                             \n",
              "2016-01-15 00:00:00                                 -605.841980  \n",
              "2016-01-15 01:00:00                                 -599.787184  \n",
              "2016-01-15 02:00:00                                 -601.427363  \n",
              "2016-01-15 03:00:00                                 -599.996129  \n",
              "2016-01-15 04:00:00                                 -601.496691  \n",
              "\n",
              "[5 rows x 86 columns]"
            ]
          },
          "execution_count": 3,
          "metadata": {},
          "output_type": "execute_result"
        }
      ],
      "source": [
        "data_train.head()"
      ]
    },
    {
      "cell_type": "code",
      "execution_count": null,
      "metadata": {
        "scrolled": true,
        "id": "mdfiuh9uOHo6",
        "outputId": "c95f42cb-22f3-4689-8dd9-6cfdafe56537"
      },
      "outputs": [
        {
          "name": "stdout",
          "output_type": "stream",
          "text": [
            "<class 'pandas.core.frame.DataFrame'>\n",
            "Index: 14149 entries, 2016-01-15 00:00:00 to 2018-08-18 10:59:59\n",
            "Data columns (total 86 columns):\n",
            " #   Column                                              Non-Null Count  Dtype  \n",
            "---  ------                                              --------------  -----  \n",
            " 0   final.output.concentrate_ag                         14148 non-null  float64\n",
            " 1   final.output.concentrate_pb                         14148 non-null  float64\n",
            " 2   final.output.concentrate_sol                        13938 non-null  float64\n",
            " 3   final.output.concentrate_au                         14149 non-null  float64\n",
            " 4   final.output.recovery                               14149 non-null  float64\n",
            " 5   final.output.tail_ag                                14149 non-null  float64\n",
            " 6   final.output.tail_pb                                14049 non-null  float64\n",
            " 7   final.output.tail_sol                               14144 non-null  float64\n",
            " 8   final.output.tail_au                                14149 non-null  float64\n",
            " 9   primary_cleaner.input.sulfate                       14129 non-null  float64\n",
            " 10  primary_cleaner.input.depressant                    14117 non-null  float64\n",
            " 11  primary_cleaner.input.feed_size                     14149 non-null  float64\n",
            " 12  primary_cleaner.input.xanthate                      14049 non-null  float64\n",
            " 13  primary_cleaner.output.concentrate_ag               14149 non-null  float64\n",
            " 14  primary_cleaner.output.concentrate_pb               14063 non-null  float64\n",
            " 15  primary_cleaner.output.concentrate_sol              13863 non-null  float64\n",
            " 16  primary_cleaner.output.concentrate_au               14149 non-null  float64\n",
            " 17  primary_cleaner.output.tail_ag                      14148 non-null  float64\n",
            " 18  primary_cleaner.output.tail_pb                      14134 non-null  float64\n",
            " 19  primary_cleaner.output.tail_sol                     14103 non-null  float64\n",
            " 20  primary_cleaner.output.tail_au                      14149 non-null  float64\n",
            " 21  primary_cleaner.state.floatbank8_a_air              14145 non-null  float64\n",
            " 22  primary_cleaner.state.floatbank8_a_level            14148 non-null  float64\n",
            " 23  primary_cleaner.state.floatbank8_b_air              14145 non-null  float64\n",
            " 24  primary_cleaner.state.floatbank8_b_level            14148 non-null  float64\n",
            " 25  primary_cleaner.state.floatbank8_c_air              14147 non-null  float64\n",
            " 26  primary_cleaner.state.floatbank8_c_level            14148 non-null  float64\n",
            " 27  primary_cleaner.state.floatbank8_d_air              14146 non-null  float64\n",
            " 28  primary_cleaner.state.floatbank8_d_level            14148 non-null  float64\n",
            " 29  rougher.calculation.sulfate_to_au_concentrate       14148 non-null  float64\n",
            " 30  rougher.calculation.floatbank10_sulfate_to_au_feed  14148 non-null  float64\n",
            " 31  rougher.calculation.floatbank11_sulfate_to_au_feed  14148 non-null  float64\n",
            " 32  rougher.calculation.au_pb_ratio                     14149 non-null  float64\n",
            " 33  rougher.input.feed_ag                               14149 non-null  float64\n",
            " 34  rougher.input.feed_pb                               14049 non-null  float64\n",
            " 35  rougher.input.feed_rate                             14141 non-null  float64\n",
            " 36  rougher.input.feed_size                             14005 non-null  float64\n",
            " 37  rougher.input.feed_sol                              14071 non-null  float64\n",
            " 38  rougher.input.feed_au                               14149 non-null  float64\n",
            " 39  rougher.input.floatbank10_sulfate                   14120 non-null  float64\n",
            " 40  rougher.input.floatbank10_xanthate                  14141 non-null  float64\n",
            " 41  rougher.input.floatbank11_sulfate                   14113 non-null  float64\n",
            " 42  rougher.input.floatbank11_xanthate                  13721 non-null  float64\n",
            " 43  rougher.output.concentrate_ag                       14149 non-null  float64\n",
            " 44  rougher.output.concentrate_pb                       14149 non-null  float64\n",
            " 45  rougher.output.concentrate_sol                      14127 non-null  float64\n",
            " 46  rougher.output.concentrate_au                       14149 non-null  float64\n",
            " 47  rougher.output.recovery                             14149 non-null  float64\n",
            " 48  rougher.output.tail_ag                              14148 non-null  float64\n",
            " 49  rougher.output.tail_pb                              14149 non-null  float64\n",
            " 50  rougher.output.tail_sol                             14149 non-null  float64\n",
            " 51  rougher.output.tail_au                              14149 non-null  float64\n",
            " 52  rougher.state.floatbank10_a_air                     14148 non-null  float64\n",
            " 53  rougher.state.floatbank10_a_level                   14148 non-null  float64\n",
            " 54  rougher.state.floatbank10_b_air                     14148 non-null  float64\n",
            " 55  rougher.state.floatbank10_b_level                   14148 non-null  float64\n",
            " 56  rougher.state.floatbank10_c_air                     14148 non-null  float64\n",
            " 57  rougher.state.floatbank10_c_level                   14148 non-null  float64\n",
            " 58  rougher.state.floatbank10_d_air                     14149 non-null  float64\n",
            " 59  rougher.state.floatbank10_d_level                   14149 non-null  float64\n",
            " 60  rougher.state.floatbank10_e_air                     13713 non-null  float64\n",
            " 61  rougher.state.floatbank10_e_level                   14149 non-null  float64\n",
            " 62  rougher.state.floatbank10_f_air                     14149 non-null  float64\n",
            " 63  rougher.state.floatbank10_f_level                   14149 non-null  float64\n",
            " 64  secondary_cleaner.output.tail_ag                    14147 non-null  float64\n",
            " 65  secondary_cleaner.output.tail_pb                    14139 non-null  float64\n",
            " 66  secondary_cleaner.output.tail_sol                   12544 non-null  float64\n",
            " 67  secondary_cleaner.output.tail_au                    14149 non-null  float64\n",
            " 68  secondary_cleaner.state.floatbank2_a_air            13932 non-null  float64\n",
            " 69  secondary_cleaner.state.floatbank2_a_level          14148 non-null  float64\n",
            " 70  secondary_cleaner.state.floatbank2_b_air            14128 non-null  float64\n",
            " 71  secondary_cleaner.state.floatbank2_b_level          14148 non-null  float64\n",
            " 72  secondary_cleaner.state.floatbank3_a_air            14145 non-null  float64\n",
            " 73  secondary_cleaner.state.floatbank3_a_level          14148 non-null  float64\n",
            " 74  secondary_cleaner.state.floatbank3_b_air            14148 non-null  float64\n",
            " 75  secondary_cleaner.state.floatbank3_b_level          14148 non-null  float64\n",
            " 76  secondary_cleaner.state.floatbank4_a_air            14143 non-null  float64\n",
            " 77  secondary_cleaner.state.floatbank4_a_level          14148 non-null  float64\n",
            " 78  secondary_cleaner.state.floatbank4_b_air            14148 non-null  float64\n",
            " 79  secondary_cleaner.state.floatbank4_b_level          14148 non-null  float64\n",
            " 80  secondary_cleaner.state.floatbank5_a_air            14148 non-null  float64\n",
            " 81  secondary_cleaner.state.floatbank5_a_level          14148 non-null  float64\n",
            " 82  secondary_cleaner.state.floatbank5_b_air            14148 non-null  float64\n",
            " 83  secondary_cleaner.state.floatbank5_b_level          14148 non-null  float64\n",
            " 84  secondary_cleaner.state.floatbank6_a_air            14147 non-null  float64\n",
            " 85  secondary_cleaner.state.floatbank6_a_level          14148 non-null  float64\n",
            "dtypes: float64(86)\n",
            "memory usage: 9.4+ MB\n"
          ]
        }
      ],
      "source": [
        "data_train.info()"
      ]
    },
    {
      "cell_type": "code",
      "execution_count": null,
      "metadata": {
        "scrolled": true,
        "id": "al4owGrbOHo6",
        "outputId": "77a457fa-66b1-4fae-a24f-b7b4a2f33430"
      },
      "outputs": [
        {
          "data": {
            "text/html": [
              "<div>\n",
              "<style scoped>\n",
              "    .dataframe tbody tr th:only-of-type {\n",
              "        vertical-align: middle;\n",
              "    }\n",
              "\n",
              "    .dataframe tbody tr th {\n",
              "        vertical-align: top;\n",
              "    }\n",
              "\n",
              "    .dataframe thead th {\n",
              "        text-align: right;\n",
              "    }\n",
              "</style>\n",
              "<table border=\"1\" class=\"dataframe\">\n",
              "  <thead>\n",
              "    <tr style=\"text-align: right;\">\n",
              "      <th></th>\n",
              "      <th>primary_cleaner.input.sulfate</th>\n",
              "      <th>primary_cleaner.input.depressant</th>\n",
              "      <th>primary_cleaner.input.feed_size</th>\n",
              "      <th>primary_cleaner.input.xanthate</th>\n",
              "      <th>primary_cleaner.state.floatbank8_a_air</th>\n",
              "      <th>primary_cleaner.state.floatbank8_a_level</th>\n",
              "      <th>primary_cleaner.state.floatbank8_b_air</th>\n",
              "      <th>primary_cleaner.state.floatbank8_b_level</th>\n",
              "      <th>primary_cleaner.state.floatbank8_c_air</th>\n",
              "      <th>primary_cleaner.state.floatbank8_c_level</th>\n",
              "      <th>...</th>\n",
              "      <th>secondary_cleaner.state.floatbank4_a_air</th>\n",
              "      <th>secondary_cleaner.state.floatbank4_a_level</th>\n",
              "      <th>secondary_cleaner.state.floatbank4_b_air</th>\n",
              "      <th>secondary_cleaner.state.floatbank4_b_level</th>\n",
              "      <th>secondary_cleaner.state.floatbank5_a_air</th>\n",
              "      <th>secondary_cleaner.state.floatbank5_a_level</th>\n",
              "      <th>secondary_cleaner.state.floatbank5_b_air</th>\n",
              "      <th>secondary_cleaner.state.floatbank5_b_level</th>\n",
              "      <th>secondary_cleaner.state.floatbank6_a_air</th>\n",
              "      <th>secondary_cleaner.state.floatbank6_a_level</th>\n",
              "    </tr>\n",
              "    <tr>\n",
              "      <th>date</th>\n",
              "      <th></th>\n",
              "      <th></th>\n",
              "      <th></th>\n",
              "      <th></th>\n",
              "      <th></th>\n",
              "      <th></th>\n",
              "      <th></th>\n",
              "      <th></th>\n",
              "      <th></th>\n",
              "      <th></th>\n",
              "      <th></th>\n",
              "      <th></th>\n",
              "      <th></th>\n",
              "      <th></th>\n",
              "      <th></th>\n",
              "      <th></th>\n",
              "      <th></th>\n",
              "      <th></th>\n",
              "      <th></th>\n",
              "      <th></th>\n",
              "      <th></th>\n",
              "    </tr>\n",
              "  </thead>\n",
              "  <tbody>\n",
              "    <tr>\n",
              "      <th>2016-09-01 00:59:59</th>\n",
              "      <td>210.800909</td>\n",
              "      <td>14.993118</td>\n",
              "      <td>8.080000</td>\n",
              "      <td>1.005021</td>\n",
              "      <td>1398.981301</td>\n",
              "      <td>-500.225577</td>\n",
              "      <td>1399.144926</td>\n",
              "      <td>-499.919735</td>\n",
              "      <td>1400.102998</td>\n",
              "      <td>-500.704369</td>\n",
              "      <td>...</td>\n",
              "      <td>12.023554</td>\n",
              "      <td>-497.795834</td>\n",
              "      <td>8.016656</td>\n",
              "      <td>-501.289139</td>\n",
              "      <td>7.946562</td>\n",
              "      <td>-432.317850</td>\n",
              "      <td>4.872511</td>\n",
              "      <td>-500.037437</td>\n",
              "      <td>26.705889</td>\n",
              "      <td>-499.709414</td>\n",
              "    </tr>\n",
              "    <tr>\n",
              "      <th>2016-09-01 01:59:59</th>\n",
              "      <td>215.392455</td>\n",
              "      <td>14.987471</td>\n",
              "      <td>8.080000</td>\n",
              "      <td>0.990469</td>\n",
              "      <td>1398.777912</td>\n",
              "      <td>-500.057435</td>\n",
              "      <td>1398.055362</td>\n",
              "      <td>-499.778182</td>\n",
              "      <td>1396.151033</td>\n",
              "      <td>-499.240168</td>\n",
              "      <td>...</td>\n",
              "      <td>12.058140</td>\n",
              "      <td>-498.695773</td>\n",
              "      <td>8.130979</td>\n",
              "      <td>-499.634209</td>\n",
              "      <td>7.958270</td>\n",
              "      <td>-525.839648</td>\n",
              "      <td>4.878850</td>\n",
              "      <td>-500.162375</td>\n",
              "      <td>25.019940</td>\n",
              "      <td>-499.819438</td>\n",
              "    </tr>\n",
              "    <tr>\n",
              "      <th>2016-09-01 02:59:59</th>\n",
              "      <td>215.259946</td>\n",
              "      <td>12.884934</td>\n",
              "      <td>7.786667</td>\n",
              "      <td>0.996043</td>\n",
              "      <td>1398.493666</td>\n",
              "      <td>-500.868360</td>\n",
              "      <td>1398.860436</td>\n",
              "      <td>-499.764529</td>\n",
              "      <td>1398.075709</td>\n",
              "      <td>-502.151509</td>\n",
              "      <td>...</td>\n",
              "      <td>11.962366</td>\n",
              "      <td>-498.767484</td>\n",
              "      <td>8.096893</td>\n",
              "      <td>-500.827423</td>\n",
              "      <td>8.071056</td>\n",
              "      <td>-500.801673</td>\n",
              "      <td>4.905125</td>\n",
              "      <td>-499.828510</td>\n",
              "      <td>24.994862</td>\n",
              "      <td>-500.622559</td>\n",
              "    </tr>\n",
              "    <tr>\n",
              "      <th>2016-09-01 03:59:59</th>\n",
              "      <td>215.336236</td>\n",
              "      <td>12.006805</td>\n",
              "      <td>7.640000</td>\n",
              "      <td>0.863514</td>\n",
              "      <td>1399.618111</td>\n",
              "      <td>-498.863574</td>\n",
              "      <td>1397.440120</td>\n",
              "      <td>-499.211024</td>\n",
              "      <td>1400.129303</td>\n",
              "      <td>-498.355873</td>\n",
              "      <td>...</td>\n",
              "      <td>12.033091</td>\n",
              "      <td>-498.350935</td>\n",
              "      <td>8.074946</td>\n",
              "      <td>-499.474407</td>\n",
              "      <td>7.897085</td>\n",
              "      <td>-500.868509</td>\n",
              "      <td>4.931400</td>\n",
              "      <td>-499.963623</td>\n",
              "      <td>24.948919</td>\n",
              "      <td>-498.709987</td>\n",
              "    </tr>\n",
              "    <tr>\n",
              "      <th>2016-09-01 04:59:59</th>\n",
              "      <td>199.099327</td>\n",
              "      <td>10.682530</td>\n",
              "      <td>7.530000</td>\n",
              "      <td>0.805575</td>\n",
              "      <td>1401.268123</td>\n",
              "      <td>-500.808305</td>\n",
              "      <td>1398.128818</td>\n",
              "      <td>-499.504543</td>\n",
              "      <td>1402.172226</td>\n",
              "      <td>-500.810606</td>\n",
              "      <td>...</td>\n",
              "      <td>12.025367</td>\n",
              "      <td>-500.786497</td>\n",
              "      <td>8.054678</td>\n",
              "      <td>-500.397500</td>\n",
              "      <td>8.107890</td>\n",
              "      <td>-509.526725</td>\n",
              "      <td>4.957674</td>\n",
              "      <td>-500.360026</td>\n",
              "      <td>25.003331</td>\n",
              "      <td>-500.856333</td>\n",
              "    </tr>\n",
              "  </tbody>\n",
              "</table>\n",
              "<p>5 rows × 52 columns</p>\n",
              "</div>"
            ],
            "text/plain": [
              "                     primary_cleaner.input.sulfate  \\\n",
              "date                                                 \n",
              "2016-09-01 00:59:59                     210.800909   \n",
              "2016-09-01 01:59:59                     215.392455   \n",
              "2016-09-01 02:59:59                     215.259946   \n",
              "2016-09-01 03:59:59                     215.336236   \n",
              "2016-09-01 04:59:59                     199.099327   \n",
              "\n",
              "                     primary_cleaner.input.depressant  \\\n",
              "date                                                    \n",
              "2016-09-01 00:59:59                         14.993118   \n",
              "2016-09-01 01:59:59                         14.987471   \n",
              "2016-09-01 02:59:59                         12.884934   \n",
              "2016-09-01 03:59:59                         12.006805   \n",
              "2016-09-01 04:59:59                         10.682530   \n",
              "\n",
              "                     primary_cleaner.input.feed_size  \\\n",
              "date                                                   \n",
              "2016-09-01 00:59:59                         8.080000   \n",
              "2016-09-01 01:59:59                         8.080000   \n",
              "2016-09-01 02:59:59                         7.786667   \n",
              "2016-09-01 03:59:59                         7.640000   \n",
              "2016-09-01 04:59:59                         7.530000   \n",
              "\n",
              "                     primary_cleaner.input.xanthate  \\\n",
              "date                                                  \n",
              "2016-09-01 00:59:59                        1.005021   \n",
              "2016-09-01 01:59:59                        0.990469   \n",
              "2016-09-01 02:59:59                        0.996043   \n",
              "2016-09-01 03:59:59                        0.863514   \n",
              "2016-09-01 04:59:59                        0.805575   \n",
              "\n",
              "                     primary_cleaner.state.floatbank8_a_air  \\\n",
              "date                                                          \n",
              "2016-09-01 00:59:59                             1398.981301   \n",
              "2016-09-01 01:59:59                             1398.777912   \n",
              "2016-09-01 02:59:59                             1398.493666   \n",
              "2016-09-01 03:59:59                             1399.618111   \n",
              "2016-09-01 04:59:59                             1401.268123   \n",
              "\n",
              "                     primary_cleaner.state.floatbank8_a_level  \\\n",
              "date                                                            \n",
              "2016-09-01 00:59:59                               -500.225577   \n",
              "2016-09-01 01:59:59                               -500.057435   \n",
              "2016-09-01 02:59:59                               -500.868360   \n",
              "2016-09-01 03:59:59                               -498.863574   \n",
              "2016-09-01 04:59:59                               -500.808305   \n",
              "\n",
              "                     primary_cleaner.state.floatbank8_b_air  \\\n",
              "date                                                          \n",
              "2016-09-01 00:59:59                             1399.144926   \n",
              "2016-09-01 01:59:59                             1398.055362   \n",
              "2016-09-01 02:59:59                             1398.860436   \n",
              "2016-09-01 03:59:59                             1397.440120   \n",
              "2016-09-01 04:59:59                             1398.128818   \n",
              "\n",
              "                     primary_cleaner.state.floatbank8_b_level  \\\n",
              "date                                                            \n",
              "2016-09-01 00:59:59                               -499.919735   \n",
              "2016-09-01 01:59:59                               -499.778182   \n",
              "2016-09-01 02:59:59                               -499.764529   \n",
              "2016-09-01 03:59:59                               -499.211024   \n",
              "2016-09-01 04:59:59                               -499.504543   \n",
              "\n",
              "                     primary_cleaner.state.floatbank8_c_air  \\\n",
              "date                                                          \n",
              "2016-09-01 00:59:59                             1400.102998   \n",
              "2016-09-01 01:59:59                             1396.151033   \n",
              "2016-09-01 02:59:59                             1398.075709   \n",
              "2016-09-01 03:59:59                             1400.129303   \n",
              "2016-09-01 04:59:59                             1402.172226   \n",
              "\n",
              "                     primary_cleaner.state.floatbank8_c_level  ...  \\\n",
              "date                                                           ...   \n",
              "2016-09-01 00:59:59                               -500.704369  ...   \n",
              "2016-09-01 01:59:59                               -499.240168  ...   \n",
              "2016-09-01 02:59:59                               -502.151509  ...   \n",
              "2016-09-01 03:59:59                               -498.355873  ...   \n",
              "2016-09-01 04:59:59                               -500.810606  ...   \n",
              "\n",
              "                     secondary_cleaner.state.floatbank4_a_air  \\\n",
              "date                                                            \n",
              "2016-09-01 00:59:59                                 12.023554   \n",
              "2016-09-01 01:59:59                                 12.058140   \n",
              "2016-09-01 02:59:59                                 11.962366   \n",
              "2016-09-01 03:59:59                                 12.033091   \n",
              "2016-09-01 04:59:59                                 12.025367   \n",
              "\n",
              "                     secondary_cleaner.state.floatbank4_a_level  \\\n",
              "date                                                              \n",
              "2016-09-01 00:59:59                                 -497.795834   \n",
              "2016-09-01 01:59:59                                 -498.695773   \n",
              "2016-09-01 02:59:59                                 -498.767484   \n",
              "2016-09-01 03:59:59                                 -498.350935   \n",
              "2016-09-01 04:59:59                                 -500.786497   \n",
              "\n",
              "                     secondary_cleaner.state.floatbank4_b_air  \\\n",
              "date                                                            \n",
              "2016-09-01 00:59:59                                  8.016656   \n",
              "2016-09-01 01:59:59                                  8.130979   \n",
              "2016-09-01 02:59:59                                  8.096893   \n",
              "2016-09-01 03:59:59                                  8.074946   \n",
              "2016-09-01 04:59:59                                  8.054678   \n",
              "\n",
              "                     secondary_cleaner.state.floatbank4_b_level  \\\n",
              "date                                                              \n",
              "2016-09-01 00:59:59                                 -501.289139   \n",
              "2016-09-01 01:59:59                                 -499.634209   \n",
              "2016-09-01 02:59:59                                 -500.827423   \n",
              "2016-09-01 03:59:59                                 -499.474407   \n",
              "2016-09-01 04:59:59                                 -500.397500   \n",
              "\n",
              "                     secondary_cleaner.state.floatbank5_a_air  \\\n",
              "date                                                            \n",
              "2016-09-01 00:59:59                                  7.946562   \n",
              "2016-09-01 01:59:59                                  7.958270   \n",
              "2016-09-01 02:59:59                                  8.071056   \n",
              "2016-09-01 03:59:59                                  7.897085   \n",
              "2016-09-01 04:59:59                                  8.107890   \n",
              "\n",
              "                     secondary_cleaner.state.floatbank5_a_level  \\\n",
              "date                                                              \n",
              "2016-09-01 00:59:59                                 -432.317850   \n",
              "2016-09-01 01:59:59                                 -525.839648   \n",
              "2016-09-01 02:59:59                                 -500.801673   \n",
              "2016-09-01 03:59:59                                 -500.868509   \n",
              "2016-09-01 04:59:59                                 -509.526725   \n",
              "\n",
              "                     secondary_cleaner.state.floatbank5_b_air  \\\n",
              "date                                                            \n",
              "2016-09-01 00:59:59                                  4.872511   \n",
              "2016-09-01 01:59:59                                  4.878850   \n",
              "2016-09-01 02:59:59                                  4.905125   \n",
              "2016-09-01 03:59:59                                  4.931400   \n",
              "2016-09-01 04:59:59                                  4.957674   \n",
              "\n",
              "                     secondary_cleaner.state.floatbank5_b_level  \\\n",
              "date                                                              \n",
              "2016-09-01 00:59:59                                 -500.037437   \n",
              "2016-09-01 01:59:59                                 -500.162375   \n",
              "2016-09-01 02:59:59                                 -499.828510   \n",
              "2016-09-01 03:59:59                                 -499.963623   \n",
              "2016-09-01 04:59:59                                 -500.360026   \n",
              "\n",
              "                     secondary_cleaner.state.floatbank6_a_air  \\\n",
              "date                                                            \n",
              "2016-09-01 00:59:59                                 26.705889   \n",
              "2016-09-01 01:59:59                                 25.019940   \n",
              "2016-09-01 02:59:59                                 24.994862   \n",
              "2016-09-01 03:59:59                                 24.948919   \n",
              "2016-09-01 04:59:59                                 25.003331   \n",
              "\n",
              "                     secondary_cleaner.state.floatbank6_a_level  \n",
              "date                                                             \n",
              "2016-09-01 00:59:59                                 -499.709414  \n",
              "2016-09-01 01:59:59                                 -499.819438  \n",
              "2016-09-01 02:59:59                                 -500.622559  \n",
              "2016-09-01 03:59:59                                 -498.709987  \n",
              "2016-09-01 04:59:59                                 -500.856333  \n",
              "\n",
              "[5 rows x 52 columns]"
            ]
          },
          "execution_count": 5,
          "metadata": {},
          "output_type": "execute_result"
        }
      ],
      "source": [
        "data_test.head()"
      ]
    },
    {
      "cell_type": "code",
      "execution_count": null,
      "metadata": {
        "scrolled": true,
        "id": "a-40Sy39OHo6",
        "outputId": "265bbf66-80cd-4d6a-8c88-5fa909bc8e5a"
      },
      "outputs": [
        {
          "name": "stdout",
          "output_type": "stream",
          "text": [
            "<class 'pandas.core.frame.DataFrame'>\n",
            "Index: 5290 entries, 2016-09-01 00:59:59 to 2017-12-31 23:59:59\n",
            "Data columns (total 52 columns):\n",
            " #   Column                                      Non-Null Count  Dtype  \n",
            "---  ------                                      --------------  -----  \n",
            " 0   primary_cleaner.input.sulfate               5286 non-null   float64\n",
            " 1   primary_cleaner.input.depressant            5285 non-null   float64\n",
            " 2   primary_cleaner.input.feed_size             5290 non-null   float64\n",
            " 3   primary_cleaner.input.xanthate              5286 non-null   float64\n",
            " 4   primary_cleaner.state.floatbank8_a_air      5290 non-null   float64\n",
            " 5   primary_cleaner.state.floatbank8_a_level    5290 non-null   float64\n",
            " 6   primary_cleaner.state.floatbank8_b_air      5290 non-null   float64\n",
            " 7   primary_cleaner.state.floatbank8_b_level    5290 non-null   float64\n",
            " 8   primary_cleaner.state.floatbank8_c_air      5290 non-null   float64\n",
            " 9   primary_cleaner.state.floatbank8_c_level    5290 non-null   float64\n",
            " 10  primary_cleaner.state.floatbank8_d_air      5290 non-null   float64\n",
            " 11  primary_cleaner.state.floatbank8_d_level    5290 non-null   float64\n",
            " 12  rougher.input.feed_ag                       5290 non-null   float64\n",
            " 13  rougher.input.feed_pb                       5290 non-null   float64\n",
            " 14  rougher.input.feed_rate                     5287 non-null   float64\n",
            " 15  rougher.input.feed_size                     5289 non-null   float64\n",
            " 16  rougher.input.feed_sol                      5269 non-null   float64\n",
            " 17  rougher.input.feed_au                       5290 non-null   float64\n",
            " 18  rougher.input.floatbank10_sulfate           5285 non-null   float64\n",
            " 19  rougher.input.floatbank10_xanthate          5290 non-null   float64\n",
            " 20  rougher.input.floatbank11_sulfate           5282 non-null   float64\n",
            " 21  rougher.input.floatbank11_xanthate          5265 non-null   float64\n",
            " 22  rougher.state.floatbank10_a_air             5290 non-null   float64\n",
            " 23  rougher.state.floatbank10_a_level           5290 non-null   float64\n",
            " 24  rougher.state.floatbank10_b_air             5290 non-null   float64\n",
            " 25  rougher.state.floatbank10_b_level           5290 non-null   float64\n",
            " 26  rougher.state.floatbank10_c_air             5290 non-null   float64\n",
            " 27  rougher.state.floatbank10_c_level           5290 non-null   float64\n",
            " 28  rougher.state.floatbank10_d_air             5290 non-null   float64\n",
            " 29  rougher.state.floatbank10_d_level           5290 non-null   float64\n",
            " 30  rougher.state.floatbank10_e_air             5290 non-null   float64\n",
            " 31  rougher.state.floatbank10_e_level           5290 non-null   float64\n",
            " 32  rougher.state.floatbank10_f_air             5290 non-null   float64\n",
            " 33  rougher.state.floatbank10_f_level           5290 non-null   float64\n",
            " 34  secondary_cleaner.state.floatbank2_a_air    5287 non-null   float64\n",
            " 35  secondary_cleaner.state.floatbank2_a_level  5290 non-null   float64\n",
            " 36  secondary_cleaner.state.floatbank2_b_air    5288 non-null   float64\n",
            " 37  secondary_cleaner.state.floatbank2_b_level  5290 non-null   float64\n",
            " 38  secondary_cleaner.state.floatbank3_a_air    5281 non-null   float64\n",
            " 39  secondary_cleaner.state.floatbank3_a_level  5290 non-null   float64\n",
            " 40  secondary_cleaner.state.floatbank3_b_air    5290 non-null   float64\n",
            " 41  secondary_cleaner.state.floatbank3_b_level  5290 non-null   float64\n",
            " 42  secondary_cleaner.state.floatbank4_a_air    5290 non-null   float64\n",
            " 43  secondary_cleaner.state.floatbank4_a_level  5290 non-null   float64\n",
            " 44  secondary_cleaner.state.floatbank4_b_air    5290 non-null   float64\n",
            " 45  secondary_cleaner.state.floatbank4_b_level  5290 non-null   float64\n",
            " 46  secondary_cleaner.state.floatbank5_a_air    5290 non-null   float64\n",
            " 47  secondary_cleaner.state.floatbank5_a_level  5290 non-null   float64\n",
            " 48  secondary_cleaner.state.floatbank5_b_air    5290 non-null   float64\n",
            " 49  secondary_cleaner.state.floatbank5_b_level  5290 non-null   float64\n",
            " 50  secondary_cleaner.state.floatbank6_a_air    5290 non-null   float64\n",
            " 51  secondary_cleaner.state.floatbank6_a_level  5290 non-null   float64\n",
            "dtypes: float64(52)\n",
            "memory usage: 2.1+ MB\n"
          ]
        }
      ],
      "source": [
        "data_test.info()"
      ]
    },
    {
      "cell_type": "code",
      "execution_count": null,
      "metadata": {
        "scrolled": true,
        "id": "3iPPI1oSOHo6",
        "outputId": "ea1455a5-fe4e-4e4a-aa3c-b6e328d852db"
      },
      "outputs": [
        {
          "data": {
            "text/html": [
              "<div>\n",
              "<style scoped>\n",
              "    .dataframe tbody tr th:only-of-type {\n",
              "        vertical-align: middle;\n",
              "    }\n",
              "\n",
              "    .dataframe tbody tr th {\n",
              "        vertical-align: top;\n",
              "    }\n",
              "\n",
              "    .dataframe thead th {\n",
              "        text-align: right;\n",
              "    }\n",
              "</style>\n",
              "<table border=\"1\" class=\"dataframe\">\n",
              "  <thead>\n",
              "    <tr style=\"text-align: right;\">\n",
              "      <th></th>\n",
              "      <th>final.output.concentrate_ag</th>\n",
              "      <th>final.output.concentrate_pb</th>\n",
              "      <th>final.output.concentrate_sol</th>\n",
              "      <th>final.output.concentrate_au</th>\n",
              "      <th>final.output.recovery</th>\n",
              "      <th>final.output.tail_ag</th>\n",
              "      <th>final.output.tail_pb</th>\n",
              "      <th>final.output.tail_sol</th>\n",
              "      <th>final.output.tail_au</th>\n",
              "      <th>primary_cleaner.input.sulfate</th>\n",
              "      <th>...</th>\n",
              "      <th>secondary_cleaner.state.floatbank4_a_air</th>\n",
              "      <th>secondary_cleaner.state.floatbank4_a_level</th>\n",
              "      <th>secondary_cleaner.state.floatbank4_b_air</th>\n",
              "      <th>secondary_cleaner.state.floatbank4_b_level</th>\n",
              "      <th>secondary_cleaner.state.floatbank5_a_air</th>\n",
              "      <th>secondary_cleaner.state.floatbank5_a_level</th>\n",
              "      <th>secondary_cleaner.state.floatbank5_b_air</th>\n",
              "      <th>secondary_cleaner.state.floatbank5_b_level</th>\n",
              "      <th>secondary_cleaner.state.floatbank6_a_air</th>\n",
              "      <th>secondary_cleaner.state.floatbank6_a_level</th>\n",
              "    </tr>\n",
              "    <tr>\n",
              "      <th>date</th>\n",
              "      <th></th>\n",
              "      <th></th>\n",
              "      <th></th>\n",
              "      <th></th>\n",
              "      <th></th>\n",
              "      <th></th>\n",
              "      <th></th>\n",
              "      <th></th>\n",
              "      <th></th>\n",
              "      <th></th>\n",
              "      <th></th>\n",
              "      <th></th>\n",
              "      <th></th>\n",
              "      <th></th>\n",
              "      <th></th>\n",
              "      <th></th>\n",
              "      <th></th>\n",
              "      <th></th>\n",
              "      <th></th>\n",
              "      <th></th>\n",
              "      <th></th>\n",
              "    </tr>\n",
              "  </thead>\n",
              "  <tbody>\n",
              "    <tr>\n",
              "      <th>2016-01-15 00:00:00</th>\n",
              "      <td>6.055403</td>\n",
              "      <td>9.889648</td>\n",
              "      <td>5.507324</td>\n",
              "      <td>42.192020</td>\n",
              "      <td>70.541216</td>\n",
              "      <td>10.411962</td>\n",
              "      <td>0.895447</td>\n",
              "      <td>16.904297</td>\n",
              "      <td>2.143149</td>\n",
              "      <td>127.092003</td>\n",
              "      <td>...</td>\n",
              "      <td>14.016835</td>\n",
              "      <td>-502.488007</td>\n",
              "      <td>12.099931</td>\n",
              "      <td>-504.715942</td>\n",
              "      <td>9.925633</td>\n",
              "      <td>-498.310211</td>\n",
              "      <td>8.079666</td>\n",
              "      <td>-500.470978</td>\n",
              "      <td>14.151341</td>\n",
              "      <td>-605.841980</td>\n",
              "    </tr>\n",
              "    <tr>\n",
              "      <th>2016-01-15 01:00:00</th>\n",
              "      <td>6.029369</td>\n",
              "      <td>9.968944</td>\n",
              "      <td>5.257781</td>\n",
              "      <td>42.701629</td>\n",
              "      <td>69.266198</td>\n",
              "      <td>10.462676</td>\n",
              "      <td>0.927452</td>\n",
              "      <td>16.634514</td>\n",
              "      <td>2.224930</td>\n",
              "      <td>125.629232</td>\n",
              "      <td>...</td>\n",
              "      <td>13.992281</td>\n",
              "      <td>-505.503262</td>\n",
              "      <td>11.950531</td>\n",
              "      <td>-501.331529</td>\n",
              "      <td>10.039245</td>\n",
              "      <td>-500.169983</td>\n",
              "      <td>7.984757</td>\n",
              "      <td>-500.582168</td>\n",
              "      <td>13.998353</td>\n",
              "      <td>-599.787184</td>\n",
              "    </tr>\n",
              "    <tr>\n",
              "      <th>2016-01-15 02:00:00</th>\n",
              "      <td>6.055926</td>\n",
              "      <td>10.213995</td>\n",
              "      <td>5.383759</td>\n",
              "      <td>42.657501</td>\n",
              "      <td>68.116445</td>\n",
              "      <td>10.507046</td>\n",
              "      <td>0.953716</td>\n",
              "      <td>16.208849</td>\n",
              "      <td>2.257889</td>\n",
              "      <td>123.819808</td>\n",
              "      <td>...</td>\n",
              "      <td>14.015015</td>\n",
              "      <td>-502.520901</td>\n",
              "      <td>11.912783</td>\n",
              "      <td>-501.133383</td>\n",
              "      <td>10.070913</td>\n",
              "      <td>-500.129135</td>\n",
              "      <td>8.013877</td>\n",
              "      <td>-500.517572</td>\n",
              "      <td>14.028663</td>\n",
              "      <td>-601.427363</td>\n",
              "    </tr>\n",
              "    <tr>\n",
              "      <th>2016-01-15 03:00:00</th>\n",
              "      <td>6.047977</td>\n",
              "      <td>9.977019</td>\n",
              "      <td>4.858634</td>\n",
              "      <td>42.689819</td>\n",
              "      <td>68.347543</td>\n",
              "      <td>10.422762</td>\n",
              "      <td>0.883763</td>\n",
              "      <td>16.532835</td>\n",
              "      <td>2.146849</td>\n",
              "      <td>122.270188</td>\n",
              "      <td>...</td>\n",
              "      <td>14.036510</td>\n",
              "      <td>-500.857308</td>\n",
              "      <td>11.999550</td>\n",
              "      <td>-501.193686</td>\n",
              "      <td>9.970366</td>\n",
              "      <td>-499.201640</td>\n",
              "      <td>7.977324</td>\n",
              "      <td>-500.255908</td>\n",
              "      <td>14.005551</td>\n",
              "      <td>-599.996129</td>\n",
              "    </tr>\n",
              "    <tr>\n",
              "      <th>2016-01-15 04:00:00</th>\n",
              "      <td>6.148599</td>\n",
              "      <td>10.142511</td>\n",
              "      <td>4.939416</td>\n",
              "      <td>42.774141</td>\n",
              "      <td>66.927016</td>\n",
              "      <td>10.360302</td>\n",
              "      <td>0.792826</td>\n",
              "      <td>16.525686</td>\n",
              "      <td>2.055292</td>\n",
              "      <td>117.988169</td>\n",
              "      <td>...</td>\n",
              "      <td>14.027298</td>\n",
              "      <td>-499.838632</td>\n",
              "      <td>11.953070</td>\n",
              "      <td>-501.053894</td>\n",
              "      <td>9.925709</td>\n",
              "      <td>-501.686727</td>\n",
              "      <td>7.894242</td>\n",
              "      <td>-500.356035</td>\n",
              "      <td>13.996647</td>\n",
              "      <td>-601.496691</td>\n",
              "    </tr>\n",
              "  </tbody>\n",
              "</table>\n",
              "<p>5 rows × 86 columns</p>\n",
              "</div>"
            ],
            "text/plain": [
              "                     final.output.concentrate_ag  final.output.concentrate_pb  \\\n",
              "date                                                                            \n",
              "2016-01-15 00:00:00                     6.055403                     9.889648   \n",
              "2016-01-15 01:00:00                     6.029369                     9.968944   \n",
              "2016-01-15 02:00:00                     6.055926                    10.213995   \n",
              "2016-01-15 03:00:00                     6.047977                     9.977019   \n",
              "2016-01-15 04:00:00                     6.148599                    10.142511   \n",
              "\n",
              "                     final.output.concentrate_sol  \\\n",
              "date                                                \n",
              "2016-01-15 00:00:00                      5.507324   \n",
              "2016-01-15 01:00:00                      5.257781   \n",
              "2016-01-15 02:00:00                      5.383759   \n",
              "2016-01-15 03:00:00                      4.858634   \n",
              "2016-01-15 04:00:00                      4.939416   \n",
              "\n",
              "                     final.output.concentrate_au  final.output.recovery  \\\n",
              "date                                                                      \n",
              "2016-01-15 00:00:00                    42.192020              70.541216   \n",
              "2016-01-15 01:00:00                    42.701629              69.266198   \n",
              "2016-01-15 02:00:00                    42.657501              68.116445   \n",
              "2016-01-15 03:00:00                    42.689819              68.347543   \n",
              "2016-01-15 04:00:00                    42.774141              66.927016   \n",
              "\n",
              "                     final.output.tail_ag  final.output.tail_pb  \\\n",
              "date                                                              \n",
              "2016-01-15 00:00:00             10.411962              0.895447   \n",
              "2016-01-15 01:00:00             10.462676              0.927452   \n",
              "2016-01-15 02:00:00             10.507046              0.953716   \n",
              "2016-01-15 03:00:00             10.422762              0.883763   \n",
              "2016-01-15 04:00:00             10.360302              0.792826   \n",
              "\n",
              "                     final.output.tail_sol  final.output.tail_au  \\\n",
              "date                                                               \n",
              "2016-01-15 00:00:00              16.904297              2.143149   \n",
              "2016-01-15 01:00:00              16.634514              2.224930   \n",
              "2016-01-15 02:00:00              16.208849              2.257889   \n",
              "2016-01-15 03:00:00              16.532835              2.146849   \n",
              "2016-01-15 04:00:00              16.525686              2.055292   \n",
              "\n",
              "                     primary_cleaner.input.sulfate  ...  \\\n",
              "date                                                ...   \n",
              "2016-01-15 00:00:00                     127.092003  ...   \n",
              "2016-01-15 01:00:00                     125.629232  ...   \n",
              "2016-01-15 02:00:00                     123.819808  ...   \n",
              "2016-01-15 03:00:00                     122.270188  ...   \n",
              "2016-01-15 04:00:00                     117.988169  ...   \n",
              "\n",
              "                     secondary_cleaner.state.floatbank4_a_air  \\\n",
              "date                                                            \n",
              "2016-01-15 00:00:00                                 14.016835   \n",
              "2016-01-15 01:00:00                                 13.992281   \n",
              "2016-01-15 02:00:00                                 14.015015   \n",
              "2016-01-15 03:00:00                                 14.036510   \n",
              "2016-01-15 04:00:00                                 14.027298   \n",
              "\n",
              "                     secondary_cleaner.state.floatbank4_a_level  \\\n",
              "date                                                              \n",
              "2016-01-15 00:00:00                                 -502.488007   \n",
              "2016-01-15 01:00:00                                 -505.503262   \n",
              "2016-01-15 02:00:00                                 -502.520901   \n",
              "2016-01-15 03:00:00                                 -500.857308   \n",
              "2016-01-15 04:00:00                                 -499.838632   \n",
              "\n",
              "                     secondary_cleaner.state.floatbank4_b_air  \\\n",
              "date                                                            \n",
              "2016-01-15 00:00:00                                 12.099931   \n",
              "2016-01-15 01:00:00                                 11.950531   \n",
              "2016-01-15 02:00:00                                 11.912783   \n",
              "2016-01-15 03:00:00                                 11.999550   \n",
              "2016-01-15 04:00:00                                 11.953070   \n",
              "\n",
              "                     secondary_cleaner.state.floatbank4_b_level  \\\n",
              "date                                                              \n",
              "2016-01-15 00:00:00                                 -504.715942   \n",
              "2016-01-15 01:00:00                                 -501.331529   \n",
              "2016-01-15 02:00:00                                 -501.133383   \n",
              "2016-01-15 03:00:00                                 -501.193686   \n",
              "2016-01-15 04:00:00                                 -501.053894   \n",
              "\n",
              "                     secondary_cleaner.state.floatbank5_a_air  \\\n",
              "date                                                            \n",
              "2016-01-15 00:00:00                                  9.925633   \n",
              "2016-01-15 01:00:00                                 10.039245   \n",
              "2016-01-15 02:00:00                                 10.070913   \n",
              "2016-01-15 03:00:00                                  9.970366   \n",
              "2016-01-15 04:00:00                                  9.925709   \n",
              "\n",
              "                     secondary_cleaner.state.floatbank5_a_level  \\\n",
              "date                                                              \n",
              "2016-01-15 00:00:00                                 -498.310211   \n",
              "2016-01-15 01:00:00                                 -500.169983   \n",
              "2016-01-15 02:00:00                                 -500.129135   \n",
              "2016-01-15 03:00:00                                 -499.201640   \n",
              "2016-01-15 04:00:00                                 -501.686727   \n",
              "\n",
              "                     secondary_cleaner.state.floatbank5_b_air  \\\n",
              "date                                                            \n",
              "2016-01-15 00:00:00                                  8.079666   \n",
              "2016-01-15 01:00:00                                  7.984757   \n",
              "2016-01-15 02:00:00                                  8.013877   \n",
              "2016-01-15 03:00:00                                  7.977324   \n",
              "2016-01-15 04:00:00                                  7.894242   \n",
              "\n",
              "                     secondary_cleaner.state.floatbank5_b_level  \\\n",
              "date                                                              \n",
              "2016-01-15 00:00:00                                 -500.470978   \n",
              "2016-01-15 01:00:00                                 -500.582168   \n",
              "2016-01-15 02:00:00                                 -500.517572   \n",
              "2016-01-15 03:00:00                                 -500.255908   \n",
              "2016-01-15 04:00:00                                 -500.356035   \n",
              "\n",
              "                     secondary_cleaner.state.floatbank6_a_air  \\\n",
              "date                                                            \n",
              "2016-01-15 00:00:00                                 14.151341   \n",
              "2016-01-15 01:00:00                                 13.998353   \n",
              "2016-01-15 02:00:00                                 14.028663   \n",
              "2016-01-15 03:00:00                                 14.005551   \n",
              "2016-01-15 04:00:00                                 13.996647   \n",
              "\n",
              "                     secondary_cleaner.state.floatbank6_a_level  \n",
              "date                                                             \n",
              "2016-01-15 00:00:00                                 -605.841980  \n",
              "2016-01-15 01:00:00                                 -599.787184  \n",
              "2016-01-15 02:00:00                                 -601.427363  \n",
              "2016-01-15 03:00:00                                 -599.996129  \n",
              "2016-01-15 04:00:00                                 -601.496691  \n",
              "\n",
              "[5 rows x 86 columns]"
            ]
          },
          "execution_count": 7,
          "metadata": {},
          "output_type": "execute_result"
        }
      ],
      "source": [
        "data_full.head()"
      ]
    },
    {
      "cell_type": "code",
      "execution_count": null,
      "metadata": {
        "scrolled": true,
        "id": "Q1dpMKEdOHo7",
        "outputId": "79c874d5-e2a9-473e-cfde-7d2f878fa071"
      },
      "outputs": [
        {
          "name": "stdout",
          "output_type": "stream",
          "text": [
            "<class 'pandas.core.frame.DataFrame'>\n",
            "Index: 19439 entries, 2016-01-15 00:00:00 to 2018-08-18 10:59:59\n",
            "Data columns (total 86 columns):\n",
            " #   Column                                              Non-Null Count  Dtype  \n",
            "---  ------                                              --------------  -----  \n",
            " 0   final.output.concentrate_ag                         19438 non-null  float64\n",
            " 1   final.output.concentrate_pb                         19438 non-null  float64\n",
            " 2   final.output.concentrate_sol                        19228 non-null  float64\n",
            " 3   final.output.concentrate_au                         19439 non-null  float64\n",
            " 4   final.output.recovery                               19439 non-null  float64\n",
            " 5   final.output.tail_ag                                19438 non-null  float64\n",
            " 6   final.output.tail_pb                                19338 non-null  float64\n",
            " 7   final.output.tail_sol                               19433 non-null  float64\n",
            " 8   final.output.tail_au                                19439 non-null  float64\n",
            " 9   primary_cleaner.input.sulfate                       19415 non-null  float64\n",
            " 10  primary_cleaner.input.depressant                    19402 non-null  float64\n",
            " 11  primary_cleaner.input.feed_size                     19439 non-null  float64\n",
            " 12  primary_cleaner.input.xanthate                      19335 non-null  float64\n",
            " 13  primary_cleaner.output.concentrate_ag               19439 non-null  float64\n",
            " 14  primary_cleaner.output.concentrate_pb               19323 non-null  float64\n",
            " 15  primary_cleaner.output.concentrate_sol              19069 non-null  float64\n",
            " 16  primary_cleaner.output.concentrate_au               19439 non-null  float64\n",
            " 17  primary_cleaner.output.tail_ag                      19435 non-null  float64\n",
            " 18  primary_cleaner.output.tail_pb                      19418 non-null  float64\n",
            " 19  primary_cleaner.output.tail_sol                     19377 non-null  float64\n",
            " 20  primary_cleaner.output.tail_au                      19439 non-null  float64\n",
            " 21  primary_cleaner.state.floatbank8_a_air              19435 non-null  float64\n",
            " 22  primary_cleaner.state.floatbank8_a_level            19438 non-null  float64\n",
            " 23  primary_cleaner.state.floatbank8_b_air              19435 non-null  float64\n",
            " 24  primary_cleaner.state.floatbank8_b_level            19438 non-null  float64\n",
            " 25  primary_cleaner.state.floatbank8_c_air              19437 non-null  float64\n",
            " 26  primary_cleaner.state.floatbank8_c_level            19438 non-null  float64\n",
            " 27  primary_cleaner.state.floatbank8_d_air              19436 non-null  float64\n",
            " 28  primary_cleaner.state.floatbank8_d_level            19438 non-null  float64\n",
            " 29  rougher.calculation.sulfate_to_au_concentrate       19437 non-null  float64\n",
            " 30  rougher.calculation.floatbank10_sulfate_to_au_feed  19437 non-null  float64\n",
            " 31  rougher.calculation.floatbank11_sulfate_to_au_feed  19437 non-null  float64\n",
            " 32  rougher.calculation.au_pb_ratio                     19439 non-null  float64\n",
            " 33  rougher.input.feed_ag                               19439 non-null  float64\n",
            " 34  rougher.input.feed_pb                               19339 non-null  float64\n",
            " 35  rougher.input.feed_rate                             19428 non-null  float64\n",
            " 36  rougher.input.feed_size                             19294 non-null  float64\n",
            " 37  rougher.input.feed_sol                              19340 non-null  float64\n",
            " 38  rougher.input.feed_au                               19439 non-null  float64\n",
            " 39  rougher.input.floatbank10_sulfate                   19405 non-null  float64\n",
            " 40  rougher.input.floatbank10_xanthate                  19431 non-null  float64\n",
            " 41  rougher.input.floatbank11_sulfate                   19395 non-null  float64\n",
            " 42  rougher.input.floatbank11_xanthate                  18986 non-null  float64\n",
            " 43  rougher.output.concentrate_ag                       19439 non-null  float64\n",
            " 44  rougher.output.concentrate_pb                       19439 non-null  float64\n",
            " 45  rougher.output.concentrate_sol                      19416 non-null  float64\n",
            " 46  rougher.output.concentrate_au                       19439 non-null  float64\n",
            " 47  rougher.output.recovery                             19439 non-null  float64\n",
            " 48  rougher.output.tail_ag                              19438 non-null  float64\n",
            " 49  rougher.output.tail_pb                              19439 non-null  float64\n",
            " 50  rougher.output.tail_sol                             19439 non-null  float64\n",
            " 51  rougher.output.tail_au                              19439 non-null  float64\n",
            " 52  rougher.state.floatbank10_a_air                     19438 non-null  float64\n",
            " 53  rougher.state.floatbank10_a_level                   19438 non-null  float64\n",
            " 54  rougher.state.floatbank10_b_air                     19438 non-null  float64\n",
            " 55  rougher.state.floatbank10_b_level                   19438 non-null  float64\n",
            " 56  rougher.state.floatbank10_c_air                     19438 non-null  float64\n",
            " 57  rougher.state.floatbank10_c_level                   19438 non-null  float64\n",
            " 58  rougher.state.floatbank10_d_air                     19439 non-null  float64\n",
            " 59  rougher.state.floatbank10_d_level                   19439 non-null  float64\n",
            " 60  rougher.state.floatbank10_e_air                     19003 non-null  float64\n",
            " 61  rougher.state.floatbank10_e_level                   19439 non-null  float64\n",
            " 62  rougher.state.floatbank10_f_air                     19439 non-null  float64\n",
            " 63  rougher.state.floatbank10_f_level                   19439 non-null  float64\n",
            " 64  secondary_cleaner.output.tail_ag                    19437 non-null  float64\n",
            " 65  secondary_cleaner.output.tail_pb                    19427 non-null  float64\n",
            " 66  secondary_cleaner.output.tail_sol                   17691 non-null  float64\n",
            " 67  secondary_cleaner.output.tail_au                    19439 non-null  float64\n",
            " 68  secondary_cleaner.state.floatbank2_a_air            19219 non-null  float64\n",
            " 69  secondary_cleaner.state.floatbank2_a_level          19438 non-null  float64\n",
            " 70  secondary_cleaner.state.floatbank2_b_air            19416 non-null  float64\n",
            " 71  secondary_cleaner.state.floatbank2_b_level          19438 non-null  float64\n",
            " 72  secondary_cleaner.state.floatbank3_a_air            19426 non-null  float64\n",
            " 73  secondary_cleaner.state.floatbank3_a_level          19438 non-null  float64\n",
            " 74  secondary_cleaner.state.floatbank3_b_air            19438 non-null  float64\n",
            " 75  secondary_cleaner.state.floatbank3_b_level          19438 non-null  float64\n",
            " 76  secondary_cleaner.state.floatbank4_a_air            19433 non-null  float64\n",
            " 77  secondary_cleaner.state.floatbank4_a_level          19438 non-null  float64\n",
            " 78  secondary_cleaner.state.floatbank4_b_air            19438 non-null  float64\n",
            " 79  secondary_cleaner.state.floatbank4_b_level          19438 non-null  float64\n",
            " 80  secondary_cleaner.state.floatbank5_a_air            19438 non-null  float64\n",
            " 81  secondary_cleaner.state.floatbank5_a_level          19438 non-null  float64\n",
            " 82  secondary_cleaner.state.floatbank5_b_air            19438 non-null  float64\n",
            " 83  secondary_cleaner.state.floatbank5_b_level          19438 non-null  float64\n",
            " 84  secondary_cleaner.state.floatbank6_a_air            19437 non-null  float64\n",
            " 85  secondary_cleaner.state.floatbank6_a_level          19438 non-null  float64\n",
            "dtypes: float64(86)\n",
            "memory usage: 12.9+ MB\n"
          ]
        }
      ],
      "source": [
        "data_full.info()"
      ]
    },
    {
      "cell_type": "markdown",
      "metadata": {
        "id": "H5zV9GfQOHo7"
      },
      "source": [
        "### Расчёт эффективности обогащения руды"
      ]
    },
    {
      "cell_type": "markdown",
      "metadata": {
        "id": "--iT_Jt7OHo7"
      },
      "source": [
        "Проверим, верно ли рассчитана эффективность обогащения. Для этого напишем функцию с формулой расчёта и применим её к обучающей выборке"
      ]
    },
    {
      "cell_type": "code",
      "execution_count": null,
      "metadata": {
        "scrolled": true,
        "id": "OOTEiVoxOHo7"
      },
      "outputs": [],
      "source": [
        "def enrichment_efficiency(C, F, T):\n",
        "    recovery = []\n",
        "    for i in range(len(C)):\n",
        "        recovery.append(((C[i] * (F[i] - T[i])) / (F[i] * (C[i] - T[i]))) * 100)\n",
        "    return recovery"
      ]
    },
    {
      "cell_type": "code",
      "execution_count": null,
      "metadata": {
        "id": "YHxjLu-8OHo7",
        "outputId": "89cdaa7f-c21d-41f1-9ce6-2bd78319a0a0"
      },
      "outputs": [
        {
          "name": "stdout",
          "output_type": "stream",
          "text": [
            "9.73512347450521e-15\n"
          ]
        }
      ],
      "source": [
        "C = data_train['rougher.output.concentrate_au']\n",
        "F = data_train['rougher.input.feed_au']\n",
        "T = data_train['rougher.output.tail_au']\n",
        "\n",
        "train_au_recovery = enrichment_efficiency(C, F, T)\n",
        "mae = mean_absolute_error(data_train['rougher.output.recovery'], train_au_recovery)\n",
        "print(mae)"
      ]
    },
    {
      "cell_type": "markdown",
      "metadata": {
        "id": "zDrtGV4ROHo7"
      },
      "source": [
        "Как видим, значение среднего абсолютного отклонения стремится к нулю, а значит эффективность обогащения рассчитана верно"
      ]
    },
    {
      "cell_type": "markdown",
      "metadata": {
        "id": "hGgJUYXNOHo8"
      },
      "source": [
        "### Предобработка данных"
      ]
    },
    {
      "cell_type": "markdown",
      "metadata": {
        "id": "-XfznWmWOHo8"
      },
      "source": [
        "Начнём предобработку с удаления строк, в которых нулевая концентрация металлов равна нулю. Если такие строки имеют место, значит это сбои работы фиксирующих датчиков, так как нулевой концентрации в данном случае быть не может. Также их наличие повредит на точность предсказаний нашей будущей модели"
      ]
    },
    {
      "cell_type": "code",
      "execution_count": null,
      "metadata": {
        "id": "My589Ln0OHo8"
      },
      "outputs": [],
      "source": [
        "phases = ['rougher.output.concentrate_au', 'rougher.output.concentrate_ag',\n",
        "          'rougher.output.concentrate_pb', 'rougher.output.concentrate_sol', \n",
        "         'rougher.input.feed_ag', 'rougher.input.feed_sol', 'rougher.input.feed_pb', 'rougher.input.feed_au',\n",
        "         'final.output.concentrate_ag', 'final.output.concentrate_sol', 'final.output.concentrate_pb',\n",
        "          'final.output.concentrate_au', 'primary_cleaner.output.concentrate_pb', 'primary_cleaner.output.concentrate_ag', \n",
        "         'primary_cleaner.output.concentrate_au']\n",
        "for phase in phases:\n",
        "    data_train = data_train.loc[data_train[phase] != 0]"
      ]
    },
    {
      "cell_type": "markdown",
      "metadata": {
        "id": "8wT63C4ROHo8"
      },
      "source": [
        "Сравнивая обучающую и тестовую выборки, мы видим, что в тестовой выборке отсутствуют некоторые признаки. Это финальные характеристики концентрата, а также выходные характеристики продукта на каждом этапе: флотация, первичная очистка, вторичная очистка. Не считая самих целевых признаков, которые мы добавим в тестовую часть позже, это необходимо для того, чтобы в обученной модели не произошла утечка целевого признака на тестовой выборке, так как выходные данные непосредственно влияют на его определение"
      ]
    },
    {
      "cell_type": "markdown",
      "metadata": {
        "id": "rWZkM1dzOHo8"
      },
      "source": [
        "Удалим пропуски в обучающих данных, так как достоверно их восстановить не получится, а обратное ещё хуже отразится на качестве модели"
      ]
    },
    {
      "cell_type": "code",
      "execution_count": null,
      "metadata": {
        "scrolled": true,
        "id": "j8-lHh10OHo8",
        "outputId": "eb396973-f3d2-4bf5-ef24-6743a642101c"
      },
      "outputs": [
        {
          "name": "stdout",
          "output_type": "stream",
          "text": [
            "<class 'pandas.core.frame.DataFrame'>\n",
            "Index: 10737 entries, 2016-01-15 00:00:00 to 2018-08-18 10:59:59\n",
            "Data columns (total 86 columns):\n",
            " #   Column                                              Non-Null Count  Dtype  \n",
            "---  ------                                              --------------  -----  \n",
            " 0   final.output.concentrate_ag                         10737 non-null  float64\n",
            " 1   final.output.concentrate_pb                         10737 non-null  float64\n",
            " 2   final.output.concentrate_sol                        10737 non-null  float64\n",
            " 3   final.output.concentrate_au                         10737 non-null  float64\n",
            " 4   final.output.recovery                               10737 non-null  float64\n",
            " 5   final.output.tail_ag                                10737 non-null  float64\n",
            " 6   final.output.tail_pb                                10737 non-null  float64\n",
            " 7   final.output.tail_sol                               10737 non-null  float64\n",
            " 8   final.output.tail_au                                10737 non-null  float64\n",
            " 9   primary_cleaner.input.sulfate                       10737 non-null  float64\n",
            " 10  primary_cleaner.input.depressant                    10737 non-null  float64\n",
            " 11  primary_cleaner.input.feed_size                     10737 non-null  float64\n",
            " 12  primary_cleaner.input.xanthate                      10737 non-null  float64\n",
            " 13  primary_cleaner.output.concentrate_ag               10737 non-null  float64\n",
            " 14  primary_cleaner.output.concentrate_pb               10737 non-null  float64\n",
            " 15  primary_cleaner.output.concentrate_sol              10737 non-null  float64\n",
            " 16  primary_cleaner.output.concentrate_au               10737 non-null  float64\n",
            " 17  primary_cleaner.output.tail_ag                      10737 non-null  float64\n",
            " 18  primary_cleaner.output.tail_pb                      10737 non-null  float64\n",
            " 19  primary_cleaner.output.tail_sol                     10737 non-null  float64\n",
            " 20  primary_cleaner.output.tail_au                      10737 non-null  float64\n",
            " 21  primary_cleaner.state.floatbank8_a_air              10737 non-null  float64\n",
            " 22  primary_cleaner.state.floatbank8_a_level            10737 non-null  float64\n",
            " 23  primary_cleaner.state.floatbank8_b_air              10737 non-null  float64\n",
            " 24  primary_cleaner.state.floatbank8_b_level            10737 non-null  float64\n",
            " 25  primary_cleaner.state.floatbank8_c_air              10737 non-null  float64\n",
            " 26  primary_cleaner.state.floatbank8_c_level            10737 non-null  float64\n",
            " 27  primary_cleaner.state.floatbank8_d_air              10737 non-null  float64\n",
            " 28  primary_cleaner.state.floatbank8_d_level            10737 non-null  float64\n",
            " 29  rougher.calculation.sulfate_to_au_concentrate       10737 non-null  float64\n",
            " 30  rougher.calculation.floatbank10_sulfate_to_au_feed  10737 non-null  float64\n",
            " 31  rougher.calculation.floatbank11_sulfate_to_au_feed  10737 non-null  float64\n",
            " 32  rougher.calculation.au_pb_ratio                     10737 non-null  float64\n",
            " 33  rougher.input.feed_ag                               10737 non-null  float64\n",
            " 34  rougher.input.feed_pb                               10737 non-null  float64\n",
            " 35  rougher.input.feed_rate                             10737 non-null  float64\n",
            " 36  rougher.input.feed_size                             10737 non-null  float64\n",
            " 37  rougher.input.feed_sol                              10737 non-null  float64\n",
            " 38  rougher.input.feed_au                               10737 non-null  float64\n",
            " 39  rougher.input.floatbank10_sulfate                   10737 non-null  float64\n",
            " 40  rougher.input.floatbank10_xanthate                  10737 non-null  float64\n",
            " 41  rougher.input.floatbank11_sulfate                   10737 non-null  float64\n",
            " 42  rougher.input.floatbank11_xanthate                  10737 non-null  float64\n",
            " 43  rougher.output.concentrate_ag                       10737 non-null  float64\n",
            " 44  rougher.output.concentrate_pb                       10737 non-null  float64\n",
            " 45  rougher.output.concentrate_sol                      10737 non-null  float64\n",
            " 46  rougher.output.concentrate_au                       10737 non-null  float64\n",
            " 47  rougher.output.recovery                             10737 non-null  float64\n",
            " 48  rougher.output.tail_ag                              10737 non-null  float64\n",
            " 49  rougher.output.tail_pb                              10737 non-null  float64\n",
            " 50  rougher.output.tail_sol                             10737 non-null  float64\n",
            " 51  rougher.output.tail_au                              10737 non-null  float64\n",
            " 52  rougher.state.floatbank10_a_air                     10737 non-null  float64\n",
            " 53  rougher.state.floatbank10_a_level                   10737 non-null  float64\n",
            " 54  rougher.state.floatbank10_b_air                     10737 non-null  float64\n",
            " 55  rougher.state.floatbank10_b_level                   10737 non-null  float64\n",
            " 56  rougher.state.floatbank10_c_air                     10737 non-null  float64\n",
            " 57  rougher.state.floatbank10_c_level                   10737 non-null  float64\n",
            " 58  rougher.state.floatbank10_d_air                     10737 non-null  float64\n",
            " 59  rougher.state.floatbank10_d_level                   10737 non-null  float64\n",
            " 60  rougher.state.floatbank10_e_air                     10737 non-null  float64\n",
            " 61  rougher.state.floatbank10_e_level                   10737 non-null  float64\n",
            " 62  rougher.state.floatbank10_f_air                     10737 non-null  float64\n",
            " 63  rougher.state.floatbank10_f_level                   10737 non-null  float64\n",
            " 64  secondary_cleaner.output.tail_ag                    10737 non-null  float64\n",
            " 65  secondary_cleaner.output.tail_pb                    10737 non-null  float64\n",
            " 66  secondary_cleaner.output.tail_sol                   10737 non-null  float64\n",
            " 67  secondary_cleaner.output.tail_au                    10737 non-null  float64\n",
            " 68  secondary_cleaner.state.floatbank2_a_air            10737 non-null  float64\n",
            " 69  secondary_cleaner.state.floatbank2_a_level          10737 non-null  float64\n",
            " 70  secondary_cleaner.state.floatbank2_b_air            10737 non-null  float64\n",
            " 71  secondary_cleaner.state.floatbank2_b_level          10737 non-null  float64\n",
            " 72  secondary_cleaner.state.floatbank3_a_air            10737 non-null  float64\n",
            " 73  secondary_cleaner.state.floatbank3_a_level          10737 non-null  float64\n",
            " 74  secondary_cleaner.state.floatbank3_b_air            10737 non-null  float64\n",
            " 75  secondary_cleaner.state.floatbank3_b_level          10737 non-null  float64\n",
            " 76  secondary_cleaner.state.floatbank4_a_air            10737 non-null  float64\n",
            " 77  secondary_cleaner.state.floatbank4_a_level          10737 non-null  float64\n",
            " 78  secondary_cleaner.state.floatbank4_b_air            10737 non-null  float64\n",
            " 79  secondary_cleaner.state.floatbank4_b_level          10737 non-null  float64\n",
            " 80  secondary_cleaner.state.floatbank5_a_air            10737 non-null  float64\n",
            " 81  secondary_cleaner.state.floatbank5_a_level          10737 non-null  float64\n",
            " 82  secondary_cleaner.state.floatbank5_b_air            10737 non-null  float64\n",
            " 83  secondary_cleaner.state.floatbank5_b_level          10737 non-null  float64\n",
            " 84  secondary_cleaner.state.floatbank6_a_air            10737 non-null  float64\n",
            " 85  secondary_cleaner.state.floatbank6_a_level          10737 non-null  float64\n",
            "dtypes: float64(86)\n",
            "memory usage: 7.1+ MB\n"
          ]
        }
      ],
      "source": [
        "data_train = data_train.dropna()\n",
        "data_train.info()"
      ]
    },
    {
      "cell_type": "markdown",
      "metadata": {
        "id": "KdBvkEVmOHo9"
      },
      "source": [
        "Проведя расчёты и предобработку данных, мы обнаружили, что некоторые значения эффективности обогащения могли быть рассчитаны некорректно. В данных были обнаружены и удалены некорректные значения, полученные в результате сбоя в работе телеметрии, отслеживающей концентрацию металлов в руде. Также мы заполнили пропуски в данных, исходя из логики построения технологического процесса"
      ]
    },
    {
      "cell_type": "markdown",
      "metadata": {
        "id": "4oIgF4iiOHo9"
      },
      "source": [
        "## Анализ данных"
      ]
    },
    {
      "cell_type": "markdown",
      "metadata": {
        "id": "3BxW8zJxOHo9"
      },
      "source": [
        "### Анализ концентрации металлов на разных этапах очистки"
      ]
    },
    {
      "cell_type": "markdown",
      "metadata": {
        "id": "MwyeDZUaOHo9"
      },
      "source": [
        "Напишем функцию, которая построит график сравнения концентрации металлов на разных этапах очистки"
      ]
    },
    {
      "cell_type": "code",
      "execution_count": null,
      "metadata": {
        "id": "shKDfl-COHo9"
      },
      "outputs": [],
      "source": [
        "def concentration_change(rougher, primary, final):\n",
        "    plt.figure(figsize=(15, 5))\n",
        "    plt.hist(data_train[[rougher, primary, final]], bins=80, density=True)\n",
        "    plt.xlabel('Концентрация в %')\n",
        "    plt.ylabel('Плотность')\n",
        "    plt.legend(labels=['После обогащения', 'После первичной очистки', 'После вторичной очистки'])\n",
        "    plt.show()"
      ]
    },
    {
      "cell_type": "markdown",
      "metadata": {
        "id": "ESJDVS7dOHo9"
      },
      "source": [
        "Изучим концентрацию золота"
      ]
    },
    {
      "cell_type": "code",
      "execution_count": null,
      "metadata": {
        "scrolled": true,
        "id": "rt-U1J5rOHo9",
        "outputId": "da418c1f-c29b-4cdc-d937-f2437f78cbd7"
      },
      "outputs": [
        {
          "data": {
            "image/png": "[encoded data removed]",
            "text/plain": [
              "<Figure size 1080x360 with 1 Axes>"
            ]
          },
          "metadata": {
            "needs_background": "light"
          },
          "output_type": "display_data"
        }
      ],
      "source": [
        "concentration_change('rougher.output.concentrate_au', 'primary_cleaner.output.concentrate_au', 'final.output.concentrate_au')"
      ]
    },
    {
      "cell_type": "markdown",
      "metadata": {
        "id": "Hr2i9SS8OHo9"
      },
      "source": [
        "Видим, что после обогащения концентрация золота в руде относительно низкая, в районе 20%. После первичной очистки концентрация повышается в среднем на 15%, хоть и становится более \"размазанной\". Вторичная очистка повышает концентрацию золота ещё примерно на 10%, и основная масса руды получается с концентрацией золота в районе 45%"
      ]
    },
    {
      "cell_type": "markdown",
      "metadata": {
        "id": "vicjxPz5OHo9"
      },
      "source": [
        "Изучим концентрацию серебра"
      ]
    },
    {
      "cell_type": "code",
      "execution_count": null,
      "metadata": {
        "scrolled": false,
        "id": "UrCkpdOKOHo-",
        "outputId": "b833b193-5595-4b95-e617-613679e54704"
      },
      "outputs": [
        {
          "data": {
            "image/png": "[encoded data removed]",
            "text/plain": [
              "<Figure size 1080x360 with 1 Axes>"
            ]
          },
          "metadata": {
            "needs_background": "light"
          },
          "output_type": "display_data"
        }
      ],
      "source": [
        "concentration_change('rougher.output.concentrate_ag', 'primary_cleaner.output.concentrate_ag', 'final.output.concentrate_ag')"
      ]
    },
    {
      "cell_type": "markdown",
      "metadata": {
        "id": "o1i3aRAVOHo-"
      },
      "source": [
        "На графике видно, что на каждом этапе очистки концентрация серебра снижается. Причём с каждым этапом значения концентрации становятся более \"кучными\" "
      ]
    },
    {
      "cell_type": "markdown",
      "metadata": {
        "id": "z6VzEO9IOHo-"
      },
      "source": [
        "Изучим концентрацию свинца"
      ]
    },
    {
      "cell_type": "code",
      "execution_count": null,
      "metadata": {
        "scrolled": true,
        "id": "_aP_BuaHOHo-",
        "outputId": "747e5336-82f9-4855-825d-19610c7682c3"
      },
      "outputs": [
        {
          "data": {
            "image/png": "[encoded data removed]",
            "text/plain": [
              "<Figure size 1080x360 with 1 Axes>"
            ]
          },
          "metadata": {
            "needs_background": "light"
          },
          "output_type": "display_data"
        }
      ],
      "source": [
        "concentration_change('rougher.output.concentrate_pb', 'primary_cleaner.output.concentrate_pb', 'final.output.concentrate_pb')"
      ]
    },
    {
      "cell_type": "markdown",
      "metadata": {
        "id": "ALb3XUPAOHo-"
      },
      "source": [
        "Судя по графику, очистка руды не затрагивает свинец, так как его концентрация увеличивается после поэтапной очистки. Это значит, что объём свинца не увеличивается, но и не уменьшается, а концентрация растёт за счёт снижения объёма других металлов в составе руды"
      ]
    },
    {
      "cell_type": "markdown",
      "metadata": {
        "id": "59w436ILOHo-"
      },
      "source": [
        "### Сравнение распределения размеров гранул сырья"
      ]
    },
    {
      "cell_type": "markdown",
      "metadata": {
        "id": "1fHypZetOHo-"
      },
      "source": [
        "Сравним распределения размеров гранул сырья на обучающей и тестовой выборке в двух этапах: перед флотацией и перед первичной очисткой. Предварительно отсечем слишком крупные значения размеров для наглядности результата"
      ]
    },
    {
      "cell_type": "code",
      "execution_count": null,
      "metadata": {
        "scrolled": false,
        "id": "5937JFWMOHo_",
        "outputId": "b34ec0a3-ca38-410a-c8e0-88c7ba5b8cd4"
      },
      "outputs": [
        {
          "data": {
            "image/png": "[encoded data removed]",
            "text/plain": [
              "<Figure size 1080x360 with 1 Axes>"
            ]
          },
          "metadata": {
            "needs_background": "light"
          },
          "output_type": "display_data"
        },
        {
          "data": {
            "image/png": "[encoded data removed]",
            "text/plain": [
              "<Figure size 432x288 with 1 Axes>"
            ]
          },
          "metadata": {
            "needs_background": "light"
          },
          "output_type": "display_data"
        },
        {
          "data": {
            "image/png": "[encoded data removed]",
            "text/plain": [
              "<Figure size 432x288 with 1 Axes>"
            ]
          },
          "metadata": {
            "needs_background": "light"
          },
          "output_type": "display_data"
        }
      ],
      "source": [
        "train_array = np.array(data_train.loc[data_train['rougher.input.feed_size'] < 150, 'rougher.input.feed_size'])\n",
        "test_array = np.array(data_test.loc[data_test['rougher.input.feed_size'] < 150, 'rougher.input.feed_size'])\n",
        "plt.figure(figsize=(15, 5))\n",
        "plt.hist(train_array, bins=80, density=True, alpha=0.5)\n",
        "plt.hist(test_array, bins=80, density=True, alpha=0.5)\n",
        "plt.legend(['На обучающей выборке', 'На тестовой выборке'])\n",
        "plt.xlabel('Размер гранул')\n",
        "plt.ylabel('Плотность')\n",
        "plt.title('Размер гранул на этапе флотации')\n",
        "plt.show()\n",
        "plt.boxplot(train_array)\n",
        "plt.show()\n",
        "plt.boxplot(test_array)\n",
        "plt.show()"
      ]
    },
    {
      "cell_type": "markdown",
      "metadata": {
        "id": "v1P_-FZGOHo_"
      },
      "source": [
        "На графиках видно, что исходное распределение размеров гранул до флотации различается, но не кардинально. Медианы примерно равны, так же, как и межквартильный размах"
      ]
    },
    {
      "cell_type": "code",
      "execution_count": null,
      "metadata": {
        "id": "ZW7Gg9cqOHo_",
        "outputId": "96fdf546-4e5f-4504-9607-d1837dd8febb"
      },
      "outputs": [
        {
          "data": {
            "image/png": "[encoded data removed]",
            "text/plain": [
              "<Figure size 1080x360 with 1 Axes>"
            ]
          },
          "metadata": {
            "needs_background": "light"
          },
          "output_type": "display_data"
        },
        {
          "data": {
            "image/png": "[encoded data removed]",
            "text/plain": [
              "<Figure size 432x288 with 1 Axes>"
            ]
          },
          "metadata": {
            "needs_background": "light"
          },
          "output_type": "display_data"
        },
        {
          "data": {
            "image/png": "[encoded data removed]",
            "text/plain": [
              "<Figure size 432x288 with 1 Axes>"
            ]
          },
          "metadata": {
            "needs_background": "light"
          },
          "output_type": "display_data"
        }
      ],
      "source": [
        "train_array = np.array(data_train.loc[data_train['primary_cleaner.input.feed_size'] < 150, 'primary_cleaner.input.feed_size'])\n",
        "test_array = np.array(data_test.loc[data_test['primary_cleaner.input.feed_size'] < 150, 'primary_cleaner.input.feed_size'])\n",
        "plt.figure(figsize=(15, 5))\n",
        "plt.hist(train_array, bins=80, density=True, alpha=0.5)\n",
        "plt.hist(test_array, bins=80, density=True, alpha=0.5)\n",
        "plt.legend(['На обучающей выборке', 'На тестовой выборке'])\n",
        "plt.xlabel('Размер гранул')\n",
        "plt.ylabel('Плотность')\n",
        "plt.title('Размер гранул на этапе первичной очистки')\n",
        "plt.show()\n",
        "plt.boxplot(train_array)\n",
        "plt.show()\n",
        "plt.boxplot(test_array)\n",
        "plt.show()"
      ]
    },
    {
      "cell_type": "markdown",
      "metadata": {
        "id": "KbLusC7ROHo_"
      },
      "source": [
        "После флотации видим, что распределение становится очень похожим на двух выборках, не считая незначительного количества выбросов, а значит оценка модели должна быть верна"
      ]
    },
    {
      "cell_type": "markdown",
      "metadata": {
        "id": "DV4biEwBOHo_"
      },
      "source": [
        "### Исследование суммарной концентрации всех веществ на разных стадиях"
      ]
    },
    {
      "cell_type": "markdown",
      "metadata": {
        "id": "BZMciZO0OHo_"
      },
      "source": [
        "Исследуем суммарную концентрацию веществ на разных этапах очистки. Для этого напишем функцию"
      ]
    },
    {
      "cell_type": "code",
      "execution_count": null,
      "metadata": {
        "id": "B_qgVvAjOHo_"
      },
      "outputs": [],
      "source": [
        "def concentration_sum(ag, pb, sol, au):\n",
        "    plt.figure(figsize=(15, 5))\n",
        "    plt.hist(data_train[[ag, pb, sol, au]].sum(axis=1), bins=80, density=True)\n",
        "    plt.xlabel('Концентрация в %')\n",
        "    plt.ylabel('Плотность')\n",
        "    plt.title('Суммарная концентрация веществ')\n",
        "    plt.show()"
      ]
    },
    {
      "cell_type": "markdown",
      "metadata": {
        "id": "krIZaRv-OHpA"
      },
      "source": [
        "Исходное сырьё"
      ]
    },
    {
      "cell_type": "code",
      "execution_count": null,
      "metadata": {
        "id": "Vp1aGIAvOHpA",
        "outputId": "3dbf4d9b-0096-4799-8ea1-19f5cbed4154"
      },
      "outputs": [
        {
          "data": {
            "image/png": "[encoded data removed]",
            "text/plain": [
              "<Figure size 1080x360 with 1 Axes>"
            ]
          },
          "metadata": {
            "needs_background": "light"
          },
          "output_type": "display_data"
        }
      ],
      "source": [
        "concentration_sum('rougher.input.feed_ag', 'rougher.input.feed_pb', 'rougher.input.feed_sol', 'rougher.input.feed_au')"
      ]
    },
    {
      "cell_type": "markdown",
      "metadata": {
        "id": "BVgxR7XUOHpA"
      },
      "source": [
        "Видно, что в сырье большой \"разброс\" в концентрации веществ. В основном от 40 до 70%"
      ]
    },
    {
      "cell_type": "markdown",
      "metadata": {
        "id": "9-Fw3y7wOHpA"
      },
      "source": [
        "В черновом концентрате"
      ]
    },
    {
      "cell_type": "code",
      "execution_count": null,
      "metadata": {
        "scrolled": true,
        "id": "W2AsdAf1OHpA",
        "outputId": "c1af1c00-9c3c-49dd-b321-494ab350e37a"
      },
      "outputs": [
        {
          "data": {
            "image/png": "[encoded data removed]",
            "text/plain": [
              "<Figure size 1080x360 with 1 Axes>"
            ]
          },
          "metadata": {
            "needs_background": "light"
          },
          "output_type": "display_data"
        }
      ],
      "source": [
        "concentration_sum('rougher.output.concentrate_ag', 'rougher.output.concentrate_pb',\n",
        "                  'rougher.output.concentrate_sol', 'rougher.output.concentrate_au')"
      ]
    },
    {
      "cell_type": "markdown",
      "metadata": {
        "id": "O2Oo_1BpOHpA"
      },
      "source": [
        "После обогащения распределение сместилось вправо. В основном концентрация веществ составляет от 50 до 80%, но \"разброс\" такой же, как и в исходном сырье"
      ]
    },
    {
      "cell_type": "markdown",
      "metadata": {
        "id": "jGZ3K-1AOHpA"
      },
      "source": [
        "Финальный концентрат"
      ]
    },
    {
      "cell_type": "code",
      "execution_count": null,
      "metadata": {
        "id": "7L4ut5q_OHpA",
        "outputId": "aee4823b-8aa6-45b6-a5e4-a178b5b8f290"
      },
      "outputs": [
        {
          "data": {
            "image/png": "[encoded data removed]",
            "text/plain": [
              "<Figure size 1080x360 with 1 Axes>"
            ]
          },
          "metadata": {
            "needs_background": "light"
          },
          "output_type": "display_data"
        }
      ],
      "source": [
        "concentration_sum('final.output.concentrate_ag', 'final.output.concentrate_pb',\n",
        "                  'final.output.concentrate_sol', 'final.output.concentrate_au')"
      ]
    },
    {
      "cell_type": "markdown",
      "metadata": {
        "id": "7QspjKefOHpA"
      },
      "source": [
        "Два этапа очистки привели к тому, что распределние сузилось. В среднем суммарная концентрация веществ на финальной стадии составляет в районе 70%"
      ]
    },
    {
      "cell_type": "markdown",
      "metadata": {
        "id": "tFy3MY_vOHpB"
      },
      "source": [
        "## Модель"
      ]
    },
    {
      "cell_type": "markdown",
      "metadata": {
        "id": "VK4hqZUrOHpB"
      },
      "source": [
        "### Функция расчёта отклонения"
      ]
    },
    {
      "cell_type": "markdown",
      "metadata": {
        "id": "mNxvXbTcOHpB"
      },
      "source": [
        "Напишем функции для расчёта симметричного среднего абсолютного процентного отклонения и его итогового значения для двух целевых признаков"
      ]
    },
    {
      "cell_type": "code",
      "execution_count": null,
      "metadata": {
        "id": "UFwrhyeoOHpB"
      },
      "outputs": [],
      "source": [
        "def smape(target, predict):\n",
        "    numerator = np.abs(target - predict)\n",
        "    denominator = (np.abs(target) + np.abs(predict)) / 2\n",
        "    return 1 / len(target) * np.sum(numerator / denominator) * 100\n",
        "\n",
        "def total_smape(rougher_target, rougher_predict, final_target, final_predict):\n",
        "    result = 0.25 * abs(smape(rougher_target, rougher_predict)) + 0.75 * abs(smape(final_target, final_predict))\n",
        "    return result"
      ]
    },
    {
      "cell_type": "markdown",
      "metadata": {
        "id": "4O_ZlkCjOHpB"
      },
      "source": [
        "Поместим функцию расчёта симметричного среднего абсолютного процентного отклонения в переменную для дальнейшего использования в качестве параметра кросс-валидации"
      ]
    },
    {
      "cell_type": "code",
      "execution_count": null,
      "metadata": {
        "id": "YmuPN0K9OHpC"
      },
      "outputs": [],
      "source": [
        "smape_score = make_scorer(smape, greater_is_better=False)"
      ]
    },
    {
      "cell_type": "markdown",
      "metadata": {
        "id": "ksopiTkhOHpC"
      },
      "source": [
        "### Подготовка данных для обучения модели"
      ]
    },
    {
      "cell_type": "markdown",
      "metadata": {
        "id": "8UydlfpTOHpC"
      },
      "source": [
        "Для того, чтобы утечка признака не произошла в самой обучающей выборке, нам нужно не учитывать столбцы, которые дают готовый результат технологического процесса. Это столбцы с типами параметров \"output\" и \"calculation\""
      ]
    },
    {
      "cell_type": "code",
      "execution_count": null,
      "metadata": {
        "id": "3distd0UOHpC"
      },
      "outputs": [],
      "source": [
        "data_train = data_train[['primary_cleaner.input.sulfate', 'primary_cleaner.input.depressant',\n",
        "       'primary_cleaner.input.feed_size', 'primary_cleaner.input.xanthate',\n",
        "       'primary_cleaner.state.floatbank8_a_air',\n",
        "       'primary_cleaner.state.floatbank8_a_level',\n",
        "       'primary_cleaner.state.floatbank8_b_air',\n",
        "       'primary_cleaner.state.floatbank8_b_level',\n",
        "       'primary_cleaner.state.floatbank8_c_air',\n",
        "       'primary_cleaner.state.floatbank8_c_level',\n",
        "       'primary_cleaner.state.floatbank8_d_air',\n",
        "       'primary_cleaner.state.floatbank8_d_level', 'rougher.input.feed_ag',\n",
        "       'rougher.input.feed_pb', 'rougher.input.feed_rate',\n",
        "       'rougher.input.feed_size', 'rougher.input.feed_sol',\n",
        "       'rougher.input.feed_au', 'rougher.input.floatbank10_sulfate',\n",
        "       'rougher.input.floatbank10_xanthate',\n",
        "       'rougher.input.floatbank11_sulfate',\n",
        "       'rougher.input.floatbank11_xanthate', 'rougher.state.floatbank10_a_air',\n",
        "       'rougher.state.floatbank10_a_level', 'rougher.state.floatbank10_b_air',\n",
        "       'rougher.state.floatbank10_b_level', 'rougher.state.floatbank10_c_air',\n",
        "       'rougher.state.floatbank10_c_level', 'rougher.state.floatbank10_d_air',\n",
        "       'rougher.state.floatbank10_d_level', 'rougher.state.floatbank10_e_air',\n",
        "       'rougher.state.floatbank10_e_level', 'rougher.state.floatbank10_f_air',\n",
        "       'rougher.state.floatbank10_f_level',\n",
        "       'secondary_cleaner.state.floatbank2_a_air',\n",
        "       'secondary_cleaner.state.floatbank2_a_level',\n",
        "       'secondary_cleaner.state.floatbank2_b_air',\n",
        "       'secondary_cleaner.state.floatbank2_b_level',\n",
        "       'secondary_cleaner.state.floatbank3_a_air',\n",
        "       'secondary_cleaner.state.floatbank3_a_level',\n",
        "       'secondary_cleaner.state.floatbank3_b_air',\n",
        "       'secondary_cleaner.state.floatbank3_b_level',\n",
        "       'secondary_cleaner.state.floatbank4_a_air',\n",
        "       'secondary_cleaner.state.floatbank4_a_level',\n",
        "       'secondary_cleaner.state.floatbank4_b_air',\n",
        "       'secondary_cleaner.state.floatbank4_b_level',\n",
        "       'secondary_cleaner.state.floatbank5_a_air',\n",
        "       'secondary_cleaner.state.floatbank5_a_level',\n",
        "       'secondary_cleaner.state.floatbank5_b_air',\n",
        "       'secondary_cleaner.state.floatbank5_b_level',\n",
        "       'secondary_cleaner.state.floatbank6_a_air',\n",
        "       'secondary_cleaner.state.floatbank6_a_level', 'final.output.recovery',\n",
        "       'rougher.output.recovery']]"
      ]
    },
    {
      "cell_type": "markdown",
      "metadata": {
        "id": "6_5o4n-NOHpC"
      },
      "source": [
        "Разделим обучающую выборку на 2 части. Так как нам необходимо предсказать 2 целевых признака в рамках одного последовательного технологического процесса, оставим для целевого признака \"rougher.output.recovery\" только ту часть данных, которая необходима для его расчёта, чтобы избежать утечки. Для второго целевого признака \"final.output.recovery\" используем все данные из подготовленной обучающей выборки, кроме первого целевого признака"
      ]
    },
    {
      "cell_type": "code",
      "execution_count": null,
      "metadata": {
        "id": "cVlShy2JOHpC"
      },
      "outputs": [],
      "source": [
        "rougher_train_data = data_train[['rougher.input.feed_ag',\n",
        "       'rougher.input.feed_pb', 'rougher.input.feed_rate',\n",
        "       'rougher.input.feed_size', 'rougher.input.feed_sol',\n",
        "       'rougher.input.feed_au', 'rougher.input.floatbank10_sulfate',\n",
        "       'rougher.input.floatbank10_xanthate',\n",
        "       'rougher.input.floatbank11_sulfate',\n",
        "       'rougher.input.floatbank11_xanthate', 'rougher.state.floatbank10_a_air',\n",
        "       'rougher.state.floatbank10_a_level', 'rougher.state.floatbank10_b_air',\n",
        "       'rougher.state.floatbank10_b_level', 'rougher.state.floatbank10_c_air',\n",
        "       'rougher.state.floatbank10_c_level', 'rougher.state.floatbank10_d_air',\n",
        "       'rougher.state.floatbank10_d_level', 'rougher.state.floatbank10_e_air',\n",
        "       'rougher.state.floatbank10_e_level', 'rougher.state.floatbank10_f_air',\n",
        "       'rougher.state.floatbank10_f_level', 'rougher.output.recovery']]\n",
        "\n",
        "features_rougher_train = rougher_train_data.drop(['rougher.output.recovery'], axis=1)\n",
        "target_rougher_train = rougher_train_data['rougher.output.recovery']"
      ]
    },
    {
      "cell_type": "code",
      "execution_count": null,
      "metadata": {
        "id": "1YOG_DxiOHpD"
      },
      "outputs": [],
      "source": [
        "final_train_data = data_train.drop(['rougher.output.recovery'], axis=1)\n",
        "\n",
        "features_final_train = final_train_data.drop(['final.output.recovery'], axis=1)\n",
        "target_final_train = final_train_data['final.output.recovery']"
      ]
    },
    {
      "cell_type": "markdown",
      "metadata": {
        "id": "wGB_3pAlOHpD"
      },
      "source": [
        "Сделаем тоже самое с тестовой выборкой, предварительно добавив в неё оба целевых признака из общей выборки и удалив пропуски"
      ]
    },
    {
      "cell_type": "code",
      "execution_count": null,
      "metadata": {
        "scrolled": true,
        "id": "S9ceG-S_OHpD"
      },
      "outputs": [],
      "source": [
        "data_test = data_test.merge(data_full[['final.output.recovery', 'rougher.output.recovery']], on='date')\n",
        "data_test = data_test.dropna()"
      ]
    },
    {
      "cell_type": "code",
      "execution_count": null,
      "metadata": {
        "id": "XZzd4uobOHpD"
      },
      "outputs": [],
      "source": [
        "rougher_test_data = data_test[['rougher.input.feed_ag',\n",
        "       'rougher.input.feed_pb', 'rougher.input.feed_rate',\n",
        "       'rougher.input.feed_size', 'rougher.input.feed_sol',\n",
        "       'rougher.input.feed_au', 'rougher.input.floatbank10_sulfate',\n",
        "       'rougher.input.floatbank10_xanthate',\n",
        "       'rougher.input.floatbank11_sulfate',\n",
        "       'rougher.input.floatbank11_xanthate', 'rougher.state.floatbank10_a_air',\n",
        "       'rougher.state.floatbank10_a_level', 'rougher.state.floatbank10_b_air',\n",
        "       'rougher.state.floatbank10_b_level', 'rougher.state.floatbank10_c_air',\n",
        "       'rougher.state.floatbank10_c_level', 'rougher.state.floatbank10_d_air',\n",
        "       'rougher.state.floatbank10_d_level', 'rougher.state.floatbank10_e_air',\n",
        "       'rougher.state.floatbank10_e_level', 'rougher.state.floatbank10_f_air',\n",
        "       'rougher.state.floatbank10_f_level', 'rougher.output.recovery']]\n",
        "\n",
        "features_rougher_test = rougher_test_data.drop(['rougher.output.recovery'], axis=1)\n",
        "target_rougher_test = rougher_test_data['rougher.output.recovery']"
      ]
    },
    {
      "cell_type": "code",
      "execution_count": null,
      "metadata": {
        "id": "1v_SyL2bOHpD"
      },
      "outputs": [],
      "source": [
        "final_test_data = data_test.drop(['rougher.output.recovery'], axis=1)\n",
        "\n",
        "features_final_test = final_test_data.drop(['final.output.recovery'], axis=1)\n",
        "target_final_test = final_test_data['final.output.recovery']"
      ]
    },
    {
      "cell_type": "markdown",
      "metadata": {
        "id": "AzFNTYsBOHpD"
      },
      "source": [
        "### Обучаем модели"
      ]
    },
    {
      "cell_type": "markdown",
      "metadata": {
        "id": "9h0AnmeiOHpD"
      },
      "source": [
        "#### Решающее дерево"
      ]
    },
    {
      "cell_type": "markdown",
      "metadata": {
        "id": "V3ba-tSaOHpD"
      },
      "source": [
        "Построим модель решающего дерева с кросс-валидацией"
      ]
    },
    {
      "cell_type": "code",
      "execution_count": null,
      "metadata": {
        "id": "CfrqONsbOHpD"
      },
      "outputs": [],
      "source": [
        "params_dt = {'max_depth': range(1, 16)}\n",
        "cv_dt = RandomizedSearchCV(DecisionTreeRegressor(random_state=12345), params_dt, scoring=smape_score)"
      ]
    },
    {
      "cell_type": "markdown",
      "metadata": {
        "id": "Om1p8WOJOHpE"
      },
      "source": [
        "Применяем к первой части обучающих данных "
      ]
    },
    {
      "cell_type": "code",
      "execution_count": null,
      "metadata": {
        "id": "-7m1qh1fOHpE",
        "outputId": "03c8c2fb-b63b-4bff-ec9a-55f0de94ea18"
      },
      "outputs": [
        {
          "name": "stdout",
          "output_type": "stream",
          "text": [
            "Лучшие параметры решающего дерева, {'max_depth': 2}\n",
            "Лучшая оценка sMAPE решающего дерева, 6.321272419657495\n"
          ]
        }
      ],
      "source": [
        "rougher_model = cv_dt.fit(features_rougher_train, target_rougher_train)\n",
        "print('Лучшие параметры решающего дерева, {}'.format(rougher_model.best_params_))\n",
        "print('Лучшая оценка sMAPE решающего дерева, {}'.format(abs(rougher_model.best_score_)))"
      ]
    },
    {
      "cell_type": "markdown",
      "metadata": {
        "id": "BVbaPX-KOHpE"
      },
      "source": [
        "Ко второй части"
      ]
    },
    {
      "cell_type": "code",
      "execution_count": null,
      "metadata": {
        "scrolled": true,
        "id": "NhnZ21dROHpE",
        "outputId": "86b2cf31-c285-4b3b-dd51-382f77483d00"
      },
      "outputs": [
        {
          "name": "stdout",
          "output_type": "stream",
          "text": [
            "Лучшие параметры решающего дерева, {'max_depth': 1}\n",
            "Лучшая оценка sMAPE решающего дерева, 8.211123544466634\n"
          ]
        }
      ],
      "source": [
        "final_model = cv_dt.fit(features_final_train, target_final_train)\n",
        "print('Лучшие параметры решающего дерева, {}'.format(final_model.best_params_))\n",
        "print('Лучшая оценка sMAPE решающего дерева, {}'.format(abs(final_model.best_score_)))"
      ]
    },
    {
      "cell_type": "markdown",
      "metadata": {
        "id": "kxn4mYmSOHpE"
      },
      "source": [
        "#### Случайный лес"
      ]
    },
    {
      "cell_type": "markdown",
      "metadata": {
        "id": "lg6VRNnfOHpE"
      },
      "source": [
        "Построим модель случайного леса с кросс-валидацией"
      ]
    },
    {
      "cell_type": "code",
      "execution_count": null,
      "metadata": {
        "id": "XtEI7SzxOHpE"
      },
      "outputs": [],
      "source": [
        "params_rf = {'max_depth': range(1, 16),\n",
        "            'n_estimators': range(10, 101, 10)}\n",
        "cv_rf = RandomizedSearchCV(RandomForestRegressor(random_state=12345), params_rf, scoring=smape_score)"
      ]
    },
    {
      "cell_type": "markdown",
      "metadata": {
        "id": "h0iEzsPHOHpE"
      },
      "source": [
        "Применяем к первой части обучающих данных"
      ]
    },
    {
      "cell_type": "code",
      "execution_count": null,
      "metadata": {
        "id": "r9gbCLofOHpE",
        "outputId": "66f9b318-6667-4020-8a94-b50f7dd86348"
      },
      "outputs": [
        {
          "name": "stdout",
          "output_type": "stream",
          "text": [
            "Лучшие параметры случайного леса, {'n_estimators': 70, 'max_depth': 5}\n",
            "Лучшая оценка sMAPE случайного леса, 5.918575412442467\n"
          ]
        }
      ],
      "source": [
        "rougher_model = cv_rf.fit(features_rougher_train, target_rougher_train)\n",
        "print('Лучшие параметры случайного леса, {}'.format(rougher_model.best_params_))\n",
        "print('Лучшая оценка sMAPE случайного леса, {}'.format(abs(rougher_model.best_score_)))"
      ]
    },
    {
      "cell_type": "markdown",
      "metadata": {
        "id": "1nmkNWFVOHpF"
      },
      "source": [
        "Ко второй части"
      ]
    },
    {
      "cell_type": "code",
      "execution_count": null,
      "metadata": {
        "scrolled": true,
        "id": "MeO1Xz9YOHpF",
        "outputId": "53238931-a91e-4097-efb5-f0ffeb02b5cc"
      },
      "outputs": [
        {
          "name": "stdout",
          "output_type": "stream",
          "text": [
            "Лучшие параметры случайного леса, {'n_estimators': 80, 'max_depth': 1}\n",
            "Лучшая оценка sMAPE случайного леса, 8.155008719434779\n"
          ]
        }
      ],
      "source": [
        "final_model = cv_rf.fit(features_final_train, target_final_train)\n",
        "print('Лучшие параметры случайного леса, {}'.format(final_model.best_params_))\n",
        "print('Лучшая оценка sMAPE случайного леса, {}'.format(abs(final_model.best_score_)))"
      ]
    },
    {
      "cell_type": "markdown",
      "metadata": {
        "id": "mBVDlqb1OHpF"
      },
      "source": [
        "#### Линейная регрессия"
      ]
    },
    {
      "cell_type": "markdown",
      "metadata": {
        "id": "RczoCnKmOHpF"
      },
      "source": [
        "Построим модель линейной регрессии с кросс-валидацией"
      ]
    },
    {
      "cell_type": "code",
      "execution_count": null,
      "metadata": {
        "id": "v9LbKpttOHpF"
      },
      "outputs": [],
      "source": [
        "cv_lr = GridSearchCV(LinearRegression(), param_grid={}, scoring=smape_score)"
      ]
    },
    {
      "cell_type": "markdown",
      "metadata": {
        "id": "ydpw7y-eOHpF"
      },
      "source": [
        "Применим к первой части обучающих данных"
      ]
    },
    {
      "cell_type": "code",
      "execution_count": null,
      "metadata": {
        "scrolled": true,
        "id": "ws71e80mOHpF",
        "outputId": "cbccb412-ef6c-4e7f-c391-51b699b735ae"
      },
      "outputs": [
        {
          "name": "stdout",
          "output_type": "stream",
          "text": [
            "Оценка sMAPE линейной регрессии, 6.339313090680679\n"
          ]
        }
      ],
      "source": [
        "rougher_model = cv_lr.fit(features_rougher_train, target_rougher_train)\n",
        "print('Оценка sMAPE линейной регрессии, {}'.format(abs(rougher_model.best_score_)))"
      ]
    },
    {
      "cell_type": "markdown",
      "metadata": {
        "id": "ue4cAbcNOHpF"
      },
      "source": [
        "Ко второй части"
      ]
    },
    {
      "cell_type": "code",
      "execution_count": null,
      "metadata": {
        "scrolled": true,
        "id": "0m8og-rrOHpF",
        "outputId": "2e50527c-fecc-45ac-cee2-10c1c0c04d41"
      },
      "outputs": [
        {
          "name": "stdout",
          "output_type": "stream",
          "text": [
            "Оценка sMAPE линейной регрессии, 9.018601124709182\n"
          ]
        }
      ],
      "source": [
        "final_model = cv_lr.fit(features_final_train, target_final_train)\n",
        "print('Оценка sMAPE линейной регрессии, {}'.format(abs(final_model.best_score_)))"
      ]
    },
    {
      "cell_type": "markdown",
      "metadata": {
        "id": "qm7B_GQfOHpF"
      },
      "source": [
        "#### CatBoostRegressor"
      ]
    },
    {
      "cell_type": "code",
      "execution_count": null,
      "metadata": {
        "id": "A-iT7KL2OHpG"
      },
      "outputs": [],
      "source": [
        "params_catboost = {'iterations': range(10, 101, 10),\n",
        "                  'depth': range(1, 5)}\n",
        "\n",
        "cv_catboost = RandomizedSearchCV(CatBoostRegressor(random_state=12345, verbose=False), params_catboost, scoring=smape_score)"
      ]
    },
    {
      "cell_type": "markdown",
      "metadata": {
        "id": "mXKzEE7fOHpG"
      },
      "source": [
        "Применяем к первой части обучающих данных"
      ]
    },
    {
      "cell_type": "code",
      "execution_count": null,
      "metadata": {
        "id": "z_QNQCv8OHpG",
        "outputId": "3219d79e-e59a-439f-f332-53daaefe86bc"
      },
      "outputs": [
        {
          "name": "stdout",
          "output_type": "stream",
          "text": [
            "Лучшие параметры catboost, {'iterations': 20, 'depth': 1}\n",
            "Лучшая оценка sMAPE catboost, 6.021461761671516\n"
          ]
        }
      ],
      "source": [
        "rougher_model = cv_catboost.fit(features_rougher_train, target_rougher_train)\n",
        "print('Лучшие параметры catboost, {}'.format(rougher_model.best_params_))\n",
        "print('Лучшая оценка sMAPE catboost, {}'.format(abs(rougher_model.best_score_)))"
      ]
    },
    {
      "cell_type": "markdown",
      "metadata": {
        "id": "orDG_lfcOHpG"
      },
      "source": [
        "Ко второй части"
      ]
    },
    {
      "cell_type": "code",
      "execution_count": null,
      "metadata": {
        "id": "KweqHV2kOHpG",
        "outputId": "6761a2d4-c36d-4bb5-97ce-b444b7027a67"
      },
      "outputs": [
        {
          "name": "stdout",
          "output_type": "stream",
          "text": [
            "Лучшие параметры catboost, {'iterations': 50, 'depth': 1}\n",
            "Лучшая оценка sMAPE catboost, 8.578312581341056\n"
          ]
        }
      ],
      "source": [
        "final_model = cv_catboost.fit(features_final_train, target_final_train)\n",
        "print('Лучшие параметры catboost, {}'.format(final_model.best_params_))\n",
        "print('Лучшая оценка sMAPE catboost, {}'.format(abs(final_model.best_score_)))"
      ]
    },
    {
      "cell_type": "markdown",
      "metadata": {
        "id": "RZxzCVAoOHpH"
      },
      "source": [
        "#### Lasso"
      ]
    },
    {
      "cell_type": "code",
      "execution_count": null,
      "metadata": {
        "id": "kBQZI5qfOHpH"
      },
      "outputs": [],
      "source": [
        "params_lasso = {'alpha': np.arange(0.1, 1.1, 0.1)}\n",
        "\n",
        "cv_lasso = RandomizedSearchCV(Lasso(random_state=12345), params_lasso, scoring=smape_score)"
      ]
    },
    {
      "cell_type": "markdown",
      "metadata": {
        "id": "IyDZAS2yOHpH"
      },
      "source": [
        "Применим к первой части обучающих данных"
      ]
    },
    {
      "cell_type": "code",
      "execution_count": null,
      "metadata": {
        "id": "hHGhzDLDOHpH",
        "outputId": "268c65e3-dca8-40a0-cf02-c9ffbf63902f"
      },
      "outputs": [
        {
          "name": "stdout",
          "output_type": "stream",
          "text": [
            "Лучшие параметры Lasso, {'alpha': 0.1}\n",
            "Лучшая оценка sMAPE Lasso, 6.5266405328736905\n"
          ]
        }
      ],
      "source": [
        "rougher_model = cv_lasso.fit(features_rougher_train, target_rougher_train)\n",
        "print('Лучшие параметры Lasso, {}'.format(rougher_model.best_params_))\n",
        "print('Лучшая оценка sMAPE Lasso, {}'.format(abs(rougher_model.best_score_)))"
      ]
    },
    {
      "cell_type": "markdown",
      "metadata": {
        "id": "KwHzcNcsOHpH"
      },
      "source": [
        "Ко второй части"
      ]
    },
    {
      "cell_type": "code",
      "execution_count": null,
      "metadata": {
        "id": "BW5NhVM2OHpH",
        "outputId": "ed91b8b7-78f0-4c7c-9130-6d8e4d863293"
      },
      "outputs": [
        {
          "name": "stdout",
          "output_type": "stream",
          "text": [
            "Лучшие параметры Lasso, {'alpha': 0.2}\n",
            "Лучшая оценка sMAPE Lasso, 8.834803647900836\n"
          ]
        }
      ],
      "source": [
        "final_model = cv_lasso.fit(features_final_train, target_final_train)\n",
        "print('Лучшие параметры Lasso, {}'.format(final_model.best_params_))\n",
        "print('Лучшая оценка sMAPE Lasso, {}'.format(abs(final_model.best_score_)))"
      ]
    },
    {
      "cell_type": "markdown",
      "metadata": {
        "id": "xTq6Wb_2OHpH"
      },
      "source": [
        "#### Проверка на dummy модели"
      ]
    },
    {
      "cell_type": "code",
      "execution_count": null,
      "metadata": {
        "id": "6ZYEmeXeOHpH",
        "outputId": "d4453e26-65f9-45f5-ed2e-0a15d84a339d"
      },
      "outputs": [
        {
          "name": "stdout",
          "output_type": "stream",
          "text": [
            "Оценка sMAPE dummy модели к 1 части данных, 7.597367299040096\n",
            "Оценка sMAPE dummy модели ко 2 части данных, 9.461677448099543\n"
          ]
        }
      ],
      "source": [
        "cv_dummy = GridSearchCV(DummyRegressor(), param_grid={}, scoring=smape_score)\n",
        "\n",
        "rougher_dummy_model = cv_dummy.fit(features_rougher_train, target_rougher_train)\n",
        "print('Оценка sMAPE dummy модели к 1 части данных, {}'.format(abs(rougher_dummy_model.best_score_)))\n",
        "\n",
        "final_dummy_model = cv_dummy.fit(features_final_train, target_final_train)\n",
        "print('Оценка sMAPE dummy модели ко 2 части данных, {}'.format(abs(final_dummy_model.best_score_)))"
      ]
    },
    {
      "cell_type": "markdown",
      "metadata": {
        "id": "VZc8yu4yOHpI"
      },
      "source": [
        "Таким образом, лучшей моделью с самым низким отклонением является случайный лес. Проверим её на тестовой выборке"
      ]
    },
    {
      "cell_type": "markdown",
      "metadata": {
        "id": "AVKAidASOHpI"
      },
      "source": [
        "### Проверка модели на тестовой выборке"
      ]
    },
    {
      "cell_type": "markdown",
      "metadata": {
        "id": "6UmoRFYfOHpI"
      },
      "source": [
        "Применим лучшую модель (линейная регрессия) к первой части тестовых данных"
      ]
    },
    {
      "cell_type": "code",
      "execution_count": null,
      "metadata": {
        "id": "thqhKTVROHpI",
        "outputId": "58a3dc68-7aaf-4eda-c6ee-b6d8f1a6077d"
      },
      "outputs": [
        {
          "name": "stdout",
          "output_type": "stream",
          "text": [
            "Оценка sMAPE случайного леса на тестовой выборке: 7.94983665497742\n"
          ]
        }
      ],
      "source": [
        "model = RandomForestRegressor(random_state=12345, n_estimators=70, max_depth=5)\n",
        "rougher_best_model = model.fit(features_rougher_train, target_rougher_train)\n",
        "print('Оценка sMAPE случайного леса на тестовой выборке:', \n",
        "      abs(smape(target_rougher_test, rougher_best_model.predict(features_rougher_test))))"
      ]
    },
    {
      "cell_type": "markdown",
      "metadata": {
        "id": "4LUylqu2OHpI"
      },
      "source": [
        "Ко второй части"
      ]
    },
    {
      "cell_type": "code",
      "execution_count": null,
      "metadata": {
        "id": "jBrUPzAsOHpI",
        "outputId": "e4cd7986-b060-4220-ebfc-ecc724acd9d1"
      },
      "outputs": [
        {
          "name": "stdout",
          "output_type": "stream",
          "text": [
            "Оценка sMAPE случайного леса на тестовой выборке: 9.078648543380561\n"
          ]
        }
      ],
      "source": [
        "model = RandomForestRegressor(random_state=12345, n_estimators=80, max_depth=1)\n",
        "final_best_model = model.fit(features_final_train, target_final_train)\n",
        "print('Оценка sMAPE случайного леса на тестовой выборке:', \n",
        "      abs(smape(target_final_test, final_best_model.predict(features_final_test))))"
      ]
    },
    {
      "cell_type": "markdown",
      "metadata": {
        "id": "HtsZNiqCOHpI"
      },
      "source": [
        "Определим итоговый sMAPE по двум целевым показателям для лучшей модели на тестовых выборках"
      ]
    },
    {
      "cell_type": "code",
      "execution_count": null,
      "metadata": {
        "id": "A0K49nNcOHpI",
        "outputId": "8eb93a23-7896-4139-adb0-b01e0c433d21"
      },
      "outputs": [
        {
          "data": {
            "text/plain": [
              "8.796445571279776"
            ]
          },
          "execution_count": 52,
          "metadata": {},
          "output_type": "execute_result"
        }
      ],
      "source": [
        "total_smape(target_rougher_test, rougher_best_model.predict(features_rougher_test), \n",
        "            target_final_test, final_best_model.predict(features_final_test))"
      ]
    },
    {
      "cell_type": "markdown",
      "metadata": {
        "id": "hecH3RUZOHpJ"
      },
      "source": [
        "Таким образом, итоговое симметричное среднее абсолютное процентное отклонение по двум целевым признакам составляет около 8.8%"
      ]
    },
    {
      "cell_type": "markdown",
      "metadata": {
        "id": "weQ2Q-nkOHpJ"
      },
      "source": [
        "**Вывод**\n",
        "\n",
        "В ходе исследования мы подготовили данные, проверили правильность расчёта эффективности обогащения руды, проанализировали концентрацию веществ на разных этапах очистки и построили несколько моделей машинного обучения для того, чтобы выявить, какая из них покажет самое низкое значение метрики относительного отклонения эффективности обогащения руды, сложенной из двух целевых признаков. Также мы сравнили модели с константной моделью, чтобы иметь верное представление об эффективности наших моделей. Определив, что лучшей моделью является случайный лес, мы проверили её на тестовой выборке, получили значения 7.95% и 9.08% для первого и второго целевого признака соответственно. Затем получили итоговую метрику со значение 8.8%, рассчитав по формуле обе тестовые выборки"
      ]
    }
  ],
  "metadata": {
    "ExecuteTimeLog": [
      {
        "duration": 350,
        "start_time": "2023-04-10T14:18:10.721Z"
      },
      {
        "duration": 129,
        "start_time": "2023-04-10T14:19:44.996Z"
      },
      {
        "duration": 1646,
        "start_time": "2023-04-10T14:20:08.430Z"
      },
      {
        "duration": 25,
        "start_time": "2023-04-10T14:20:35.127Z"
      },
      {
        "duration": 7,
        "start_time": "2023-04-10T14:22:25.325Z"
      },
      {
        "duration": 717,
        "start_time": "2023-04-10T14:22:40.942Z"
      },
      {
        "duration": 23,
        "start_time": "2023-04-10T14:22:44.824Z"
      },
      {
        "duration": 20,
        "start_time": "2023-04-10T14:23:22.435Z"
      },
      {
        "duration": 19,
        "start_time": "2023-04-10T14:24:02.345Z"
      },
      {
        "duration": 19,
        "start_time": "2023-04-10T14:24:47.007Z"
      },
      {
        "duration": 24,
        "start_time": "2023-04-10T14:25:43.440Z"
      },
      {
        "duration": 18,
        "start_time": "2023-04-10T14:25:57.835Z"
      },
      {
        "duration": 1051,
        "start_time": "2023-04-10T14:38:51.335Z"
      },
      {
        "duration": 26,
        "start_time": "2023-04-10T14:38:53.990Z"
      },
      {
        "duration": 16,
        "start_time": "2023-04-10T14:38:55.558Z"
      },
      {
        "duration": 21,
        "start_time": "2023-04-10T14:38:59.054Z"
      },
      {
        "duration": 10,
        "start_time": "2023-04-10T14:39:00.855Z"
      },
      {
        "duration": 33,
        "start_time": "2023-04-10T14:39:13.377Z"
      },
      {
        "duration": 17,
        "start_time": "2023-04-10T14:39:15.604Z"
      },
      {
        "duration": 50,
        "start_time": "2023-04-10T15:04:29.925Z"
      },
      {
        "duration": 4,
        "start_time": "2023-04-10T15:04:37.719Z"
      },
      {
        "duration": 4,
        "start_time": "2023-04-10T15:10:31.144Z"
      },
      {
        "duration": 5,
        "start_time": "2023-04-10T15:31:02.907Z"
      },
      {
        "duration": 144,
        "start_time": "2023-04-10T15:31:06.038Z"
      },
      {
        "duration": 675,
        "start_time": "2023-04-10T15:31:15.310Z"
      },
      {
        "duration": 1118,
        "start_time": "2023-04-10T15:31:27.177Z"
      },
      {
        "duration": 692,
        "start_time": "2023-04-10T15:31:28.303Z"
      },
      {
        "duration": 27,
        "start_time": "2023-04-10T15:31:28.998Z"
      },
      {
        "duration": 16,
        "start_time": "2023-04-10T15:31:29.026Z"
      },
      {
        "duration": 17,
        "start_time": "2023-04-10T15:31:29.044Z"
      },
      {
        "duration": 36,
        "start_time": "2023-04-10T15:31:29.062Z"
      },
      {
        "duration": 21,
        "start_time": "2023-04-10T15:31:29.105Z"
      },
      {
        "duration": 16,
        "start_time": "2023-04-10T15:31:29.127Z"
      },
      {
        "duration": 3,
        "start_time": "2023-04-10T15:31:29.145Z"
      },
      {
        "duration": 159,
        "start_time": "2023-04-10T15:31:29.149Z"
      },
      {
        "duration": 5,
        "start_time": "2023-04-10T15:34:54.711Z"
      },
      {
        "duration": 16,
        "start_time": "2023-04-10T15:35:52.711Z"
      },
      {
        "duration": 130,
        "start_time": "2023-04-10T15:56:42.467Z"
      },
      {
        "duration": 125,
        "start_time": "2023-04-10T15:58:31.594Z"
      },
      {
        "duration": 8,
        "start_time": "2023-04-10T15:59:02.224Z"
      },
      {
        "duration": 127,
        "start_time": "2023-04-10T16:00:09.301Z"
      },
      {
        "duration": 44,
        "start_time": "2023-04-11T12:30:44.616Z"
      },
      {
        "duration": 954,
        "start_time": "2023-04-11T12:31:17.299Z"
      },
      {
        "duration": 1829,
        "start_time": "2023-04-11T12:31:18.255Z"
      },
      {
        "duration": 24,
        "start_time": "2023-04-11T12:31:20.086Z"
      },
      {
        "duration": 14,
        "start_time": "2023-04-11T12:31:20.111Z"
      },
      {
        "duration": 19,
        "start_time": "2023-04-11T12:31:20.127Z"
      },
      {
        "duration": 11,
        "start_time": "2023-04-11T12:31:20.148Z"
      },
      {
        "duration": 16,
        "start_time": "2023-04-11T12:31:20.160Z"
      },
      {
        "duration": 18,
        "start_time": "2023-04-11T12:31:20.177Z"
      },
      {
        "duration": 3,
        "start_time": "2023-04-11T12:31:20.197Z"
      },
      {
        "duration": 145,
        "start_time": "2023-04-11T12:31:20.201Z"
      },
      {
        "duration": 6,
        "start_time": "2023-04-11T12:31:20.348Z"
      },
      {
        "duration": 7,
        "start_time": "2023-04-11T12:35:35.503Z"
      },
      {
        "duration": 13,
        "start_time": "2023-04-11T12:50:51.882Z"
      },
      {
        "duration": 12,
        "start_time": "2023-04-11T12:51:00.222Z"
      },
      {
        "duration": 7,
        "start_time": "2023-04-11T12:51:18.754Z"
      },
      {
        "duration": 32,
        "start_time": "2023-04-11T12:52:22.963Z"
      },
      {
        "duration": 14,
        "start_time": "2023-04-11T12:52:33.685Z"
      },
      {
        "duration": 10,
        "start_time": "2023-04-11T12:52:47.162Z"
      },
      {
        "duration": 12,
        "start_time": "2023-04-11T12:52:50.249Z"
      },
      {
        "duration": 49,
        "start_time": "2023-04-11T13:22:05.311Z"
      },
      {
        "duration": 379,
        "start_time": "2023-04-11T14:10:58.274Z"
      },
      {
        "duration": 2,
        "start_time": "2023-04-11T14:38:24.666Z"
      },
      {
        "duration": 95,
        "start_time": "2023-04-11T14:40:06.148Z"
      },
      {
        "duration": 188,
        "start_time": "2023-04-11T14:40:13.746Z"
      },
      {
        "duration": 3,
        "start_time": "2023-04-11T14:43:20.301Z"
      },
      {
        "duration": 447,
        "start_time": "2023-04-11T14:43:22.803Z"
      },
      {
        "duration": 3,
        "start_time": "2023-04-11T14:43:48.319Z"
      },
      {
        "duration": 431,
        "start_time": "2023-04-11T14:43:49.237Z"
      },
      {
        "duration": 1376,
        "start_time": "2023-04-11T14:51:50.402Z"
      },
      {
        "duration": 1629,
        "start_time": "2023-04-11T14:51:51.780Z"
      },
      {
        "duration": 24,
        "start_time": "2023-04-11T14:51:53.411Z"
      },
      {
        "duration": 15,
        "start_time": "2023-04-11T14:51:53.436Z"
      },
      {
        "duration": 21,
        "start_time": "2023-04-11T14:51:53.453Z"
      },
      {
        "duration": 11,
        "start_time": "2023-04-11T14:51:53.475Z"
      },
      {
        "duration": 19,
        "start_time": "2023-04-11T14:51:53.488Z"
      },
      {
        "duration": 42,
        "start_time": "2023-04-11T14:51:53.509Z"
      },
      {
        "duration": 4,
        "start_time": "2023-04-11T14:51:53.552Z"
      },
      {
        "duration": 153,
        "start_time": "2023-04-11T14:51:53.557Z"
      },
      {
        "duration": 113,
        "start_time": "2023-04-11T14:51:53.712Z"
      },
      {
        "duration": 0,
        "start_time": "2023-04-11T14:51:53.826Z"
      },
      {
        "duration": 0,
        "start_time": "2023-04-11T14:51:53.827Z"
      },
      {
        "duration": 18,
        "start_time": "2023-04-11T14:52:25.068Z"
      },
      {
        "duration": 21,
        "start_time": "2023-04-11T14:52:39.778Z"
      },
      {
        "duration": 3,
        "start_time": "2023-04-11T14:52:49.160Z"
      },
      {
        "duration": 391,
        "start_time": "2023-04-11T14:52:50.861Z"
      },
      {
        "duration": 1224,
        "start_time": "2023-04-11T15:04:57.569Z"
      },
      {
        "duration": 644,
        "start_time": "2023-04-11T15:04:58.795Z"
      },
      {
        "duration": 22,
        "start_time": "2023-04-11T15:04:59.441Z"
      },
      {
        "duration": 14,
        "start_time": "2023-04-11T15:04:59.465Z"
      },
      {
        "duration": 16,
        "start_time": "2023-04-11T15:04:59.481Z"
      },
      {
        "duration": 14,
        "start_time": "2023-04-11T15:04:59.499Z"
      },
      {
        "duration": 32,
        "start_time": "2023-04-11T15:04:59.514Z"
      },
      {
        "duration": 15,
        "start_time": "2023-04-11T15:04:59.547Z"
      },
      {
        "duration": 3,
        "start_time": "2023-04-11T15:04:59.563Z"
      },
      {
        "duration": 143,
        "start_time": "2023-04-11T15:04:59.568Z"
      },
      {
        "duration": 26,
        "start_time": "2023-04-11T15:04:59.712Z"
      },
      {
        "duration": 3,
        "start_time": "2023-04-11T15:04:59.739Z"
      },
      {
        "duration": 418,
        "start_time": "2023-04-11T15:04:59.743Z"
      },
      {
        "duration": 601,
        "start_time": "2023-04-11T15:08:22.568Z"
      },
      {
        "duration": 3,
        "start_time": "2023-04-11T15:12:18.006Z"
      },
      {
        "duration": 461,
        "start_time": "2023-04-11T15:12:18.915Z"
      },
      {
        "duration": 4,
        "start_time": "2023-04-11T15:14:58.099Z"
      },
      {
        "duration": 463,
        "start_time": "2023-04-11T15:14:59.528Z"
      },
      {
        "duration": 3,
        "start_time": "2023-04-11T15:16:30.783Z"
      },
      {
        "duration": 576,
        "start_time": "2023-04-11T15:16:31.544Z"
      },
      {
        "duration": 3,
        "start_time": "2023-04-11T15:17:36.052Z"
      },
      {
        "duration": 404,
        "start_time": "2023-04-11T15:17:36.743Z"
      },
      {
        "duration": 4,
        "start_time": "2023-04-11T15:19:19.039Z"
      },
      {
        "duration": 395,
        "start_time": "2023-04-11T15:19:19.918Z"
      },
      {
        "duration": 5,
        "start_time": "2023-04-11T15:20:51.623Z"
      },
      {
        "duration": 673,
        "start_time": "2023-04-11T15:20:52.135Z"
      },
      {
        "duration": 3,
        "start_time": "2023-04-11T15:21:18.521Z"
      },
      {
        "duration": 504,
        "start_time": "2023-04-11T15:21:19.041Z"
      },
      {
        "duration": 657,
        "start_time": "2023-04-11T15:22:02.365Z"
      },
      {
        "duration": 632,
        "start_time": "2023-04-11T15:22:54.717Z"
      },
      {
        "duration": 29,
        "start_time": "2023-04-11T15:33:59.110Z"
      },
      {
        "duration": 4,
        "start_time": "2023-04-11T15:34:03.209Z"
      },
      {
        "duration": 586,
        "start_time": "2023-04-11T15:34:04.022Z"
      },
      {
        "duration": 521,
        "start_time": "2023-04-11T15:34:20.623Z"
      },
      {
        "duration": 618,
        "start_time": "2023-04-11T15:34:28.414Z"
      },
      {
        "duration": 3,
        "start_time": "2023-04-11T15:38:08.679Z"
      },
      {
        "duration": 642,
        "start_time": "2023-04-11T15:38:09.170Z"
      },
      {
        "duration": 17,
        "start_time": "2023-04-11T15:38:10.617Z"
      },
      {
        "duration": 17,
        "start_time": "2023-04-11T15:38:12.471Z"
      },
      {
        "duration": 8,
        "start_time": "2023-04-11T15:38:15.127Z"
      },
      {
        "duration": 6,
        "start_time": "2023-04-11T15:40:32.966Z"
      },
      {
        "duration": 1552,
        "start_time": "2023-04-12T10:38:40.558Z"
      },
      {
        "duration": 1867,
        "start_time": "2023-04-12T10:38:42.112Z"
      },
      {
        "duration": 27,
        "start_time": "2023-04-12T10:38:43.980Z"
      },
      {
        "duration": 16,
        "start_time": "2023-04-12T10:38:44.009Z"
      },
      {
        "duration": 22,
        "start_time": "2023-04-12T10:38:44.028Z"
      },
      {
        "duration": 17,
        "start_time": "2023-04-12T10:38:44.052Z"
      },
      {
        "duration": 21,
        "start_time": "2023-04-12T10:38:44.094Z"
      },
      {
        "duration": 19,
        "start_time": "2023-04-12T10:38:44.117Z"
      },
      {
        "duration": 3,
        "start_time": "2023-04-12T10:38:44.137Z"
      },
      {
        "duration": 162,
        "start_time": "2023-04-12T10:38:44.142Z"
      },
      {
        "duration": 22,
        "start_time": "2023-04-12T10:38:44.306Z"
      },
      {
        "duration": 3,
        "start_time": "2023-04-12T10:38:44.330Z"
      },
      {
        "duration": 621,
        "start_time": "2023-04-12T10:38:44.335Z"
      },
      {
        "duration": 679,
        "start_time": "2023-04-12T10:38:44.959Z"
      },
      {
        "duration": 594,
        "start_time": "2023-04-12T10:38:45.640Z"
      },
      {
        "duration": 394,
        "start_time": "2023-04-12T10:51:09.629Z"
      },
      {
        "duration": 297,
        "start_time": "2023-04-12T10:51:37.549Z"
      },
      {
        "duration": 424,
        "start_time": "2023-04-12T10:52:37.939Z"
      },
      {
        "duration": 43,
        "start_time": "2023-04-12T10:55:57.837Z"
      },
      {
        "duration": 4,
        "start_time": "2023-04-12T11:06:28.407Z"
      },
      {
        "duration": 569,
        "start_time": "2023-04-12T11:06:30.010Z"
      },
      {
        "duration": 4,
        "start_time": "2023-04-12T11:06:42.125Z"
      },
      {
        "duration": 547,
        "start_time": "2023-04-12T11:06:43.524Z"
      },
      {
        "duration": 3,
        "start_time": "2023-04-12T11:07:00.483Z"
      },
      {
        "duration": 701,
        "start_time": "2023-04-12T11:07:01.908Z"
      },
      {
        "duration": 4,
        "start_time": "2023-04-12T11:07:10.411Z"
      },
      {
        "duration": 550,
        "start_time": "2023-04-12T11:07:11.216Z"
      },
      {
        "duration": 4,
        "start_time": "2023-04-12T11:07:22.414Z"
      },
      {
        "duration": 550,
        "start_time": "2023-04-12T11:07:23.172Z"
      },
      {
        "duration": 681,
        "start_time": "2023-04-12T11:07:35.334Z"
      },
      {
        "duration": 540,
        "start_time": "2023-04-12T11:07:38.327Z"
      },
      {
        "duration": 648,
        "start_time": "2023-04-12T11:07:43.215Z"
      },
      {
        "duration": 46,
        "start_time": "2023-04-12T11:14:11.443Z"
      },
      {
        "duration": 47,
        "start_time": "2023-04-12T11:14:59.020Z"
      },
      {
        "duration": 9,
        "start_time": "2023-04-12T11:16:11.582Z"
      },
      {
        "duration": 2,
        "start_time": "2023-04-12T11:22:19.805Z"
      },
      {
        "duration": 6,
        "start_time": "2023-04-12T11:22:39.546Z"
      },
      {
        "duration": 247,
        "start_time": "2023-04-12T11:23:39.797Z"
      },
      {
        "duration": 356,
        "start_time": "2023-04-12T11:25:02.151Z"
      },
      {
        "duration": 368,
        "start_time": "2023-04-12T11:31:47.310Z"
      },
      {
        "duration": 483,
        "start_time": "2023-04-12T11:31:57.047Z"
      },
      {
        "duration": 367,
        "start_time": "2023-04-12T11:32:55.069Z"
      },
      {
        "duration": 344,
        "start_time": "2023-04-12T11:35:42.419Z"
      },
      {
        "duration": 490,
        "start_time": "2023-04-12T11:37:52.269Z"
      },
      {
        "duration": 546,
        "start_time": "2023-04-12T11:41:13.444Z"
      },
      {
        "duration": 45,
        "start_time": "2023-04-13T16:20:47.066Z"
      },
      {
        "duration": 1482,
        "start_time": "2023-04-13T16:20:57.989Z"
      },
      {
        "duration": 2997,
        "start_time": "2023-04-13T16:20:59.473Z"
      },
      {
        "duration": 24,
        "start_time": "2023-04-13T16:21:02.474Z"
      },
      {
        "duration": 14,
        "start_time": "2023-04-13T16:21:02.499Z"
      },
      {
        "duration": 34,
        "start_time": "2023-04-13T16:21:02.514Z"
      },
      {
        "duration": 37,
        "start_time": "2023-04-13T16:21:02.549Z"
      },
      {
        "duration": 32,
        "start_time": "2023-04-13T16:21:02.588Z"
      },
      {
        "duration": 21,
        "start_time": "2023-04-13T16:21:02.622Z"
      },
      {
        "duration": 4,
        "start_time": "2023-04-13T16:21:02.647Z"
      },
      {
        "duration": 149,
        "start_time": "2023-04-13T16:21:02.653Z"
      },
      {
        "duration": 31,
        "start_time": "2023-04-13T16:21:02.804Z"
      },
      {
        "duration": 20,
        "start_time": "2023-04-13T16:21:02.837Z"
      },
      {
        "duration": 570,
        "start_time": "2023-04-13T16:21:02.859Z"
      },
      {
        "duration": 617,
        "start_time": "2023-04-13T16:21:03.435Z"
      },
      {
        "duration": 530,
        "start_time": "2023-04-13T16:21:04.055Z"
      },
      {
        "duration": 436,
        "start_time": "2023-04-13T16:21:04.586Z"
      },
      {
        "duration": 584,
        "start_time": "2023-04-13T16:21:05.024Z"
      },
      {
        "duration": 8,
        "start_time": "2023-04-13T16:21:05.610Z"
      },
      {
        "duration": 9,
        "start_time": "2023-04-13T16:24:09.940Z"
      },
      {
        "duration": 3,
        "start_time": "2023-04-13T16:28:17.788Z"
      },
      {
        "duration": 226,
        "start_time": "2023-04-13T16:29:09.557Z"
      },
      {
        "duration": 102,
        "start_time": "2023-04-13T16:30:48.535Z"
      },
      {
        "duration": 217,
        "start_time": "2023-04-13T16:31:39.364Z"
      },
      {
        "duration": 228,
        "start_time": "2023-04-13T16:32:27.813Z"
      },
      {
        "duration": 393,
        "start_time": "2023-04-13T16:45:36.991Z"
      },
      {
        "duration": 582,
        "start_time": "2023-04-13T16:46:01.817Z"
      },
      {
        "duration": 551,
        "start_time": "2023-04-13T16:47:20.957Z"
      },
      {
        "duration": 619,
        "start_time": "2023-04-13T16:49:45.700Z"
      },
      {
        "duration": 555,
        "start_time": "2023-04-13T16:53:51.308Z"
      },
      {
        "duration": 734,
        "start_time": "2023-04-13T16:54:14.879Z"
      },
      {
        "duration": 521,
        "start_time": "2023-04-13T16:54:20.385Z"
      },
      {
        "duration": 653,
        "start_time": "2023-04-13T16:54:29.545Z"
      },
      {
        "duration": 606,
        "start_time": "2023-04-13T16:54:43.288Z"
      },
      {
        "duration": 535,
        "start_time": "2023-04-13T16:54:57.664Z"
      },
      {
        "duration": 652,
        "start_time": "2023-04-13T16:55:08.816Z"
      },
      {
        "duration": 3,
        "start_time": "2023-04-13T17:16:24.475Z"
      },
      {
        "duration": 6,
        "start_time": "2023-04-13T17:29:56.403Z"
      },
      {
        "duration": 7,
        "start_time": "2023-04-13T17:30:09.469Z"
      },
      {
        "duration": 8,
        "start_time": "2023-04-13T17:33:30.557Z"
      },
      {
        "duration": 9,
        "start_time": "2023-04-13T17:55:55.144Z"
      },
      {
        "duration": 6,
        "start_time": "2023-04-13T17:56:04.764Z"
      },
      {
        "duration": 190,
        "start_time": "2023-04-13T17:59:14.696Z"
      },
      {
        "duration": 1337,
        "start_time": "2023-04-14T10:35:45.220Z"
      },
      {
        "duration": 1903,
        "start_time": "2023-04-14T10:35:46.559Z"
      },
      {
        "duration": 23,
        "start_time": "2023-04-14T10:35:48.463Z"
      },
      {
        "duration": 14,
        "start_time": "2023-04-14T10:35:48.487Z"
      },
      {
        "duration": 21,
        "start_time": "2023-04-14T10:35:48.503Z"
      },
      {
        "duration": 21,
        "start_time": "2023-04-14T10:35:48.525Z"
      },
      {
        "duration": 18,
        "start_time": "2023-04-14T10:35:48.547Z"
      },
      {
        "duration": 17,
        "start_time": "2023-04-14T10:35:48.566Z"
      },
      {
        "duration": 3,
        "start_time": "2023-04-14T10:35:48.585Z"
      },
      {
        "duration": 150,
        "start_time": "2023-04-14T10:35:48.589Z"
      },
      {
        "duration": 21,
        "start_time": "2023-04-14T10:35:48.741Z"
      },
      {
        "duration": 4,
        "start_time": "2023-04-14T10:35:48.764Z"
      },
      {
        "duration": 549,
        "start_time": "2023-04-14T10:35:48.769Z"
      },
      {
        "duration": 542,
        "start_time": "2023-04-14T10:35:49.320Z"
      },
      {
        "duration": 497,
        "start_time": "2023-04-14T10:35:49.864Z"
      },
      {
        "duration": 506,
        "start_time": "2023-04-14T10:35:50.362Z"
      },
      {
        "duration": 596,
        "start_time": "2023-04-14T10:35:50.870Z"
      },
      {
        "duration": 3,
        "start_time": "2023-04-14T10:35:51.467Z"
      },
      {
        "duration": 216,
        "start_time": "2023-04-14T10:35:51.471Z"
      },
      {
        "duration": 211,
        "start_time": "2023-04-14T10:35:51.689Z"
      },
      {
        "duration": 240,
        "start_time": "2023-04-14T10:35:51.902Z"
      },
      {
        "duration": 3,
        "start_time": "2023-04-14T10:35:52.144Z"
      },
      {
        "duration": 20,
        "start_time": "2023-04-14T10:35:52.148Z"
      },
      {
        "duration": 249,
        "start_time": "2023-04-14T10:36:47.342Z"
      },
      {
        "duration": 4,
        "start_time": "2023-04-14T11:32:16.352Z"
      },
      {
        "duration": 9,
        "start_time": "2023-04-14T11:34:45.412Z"
      },
      {
        "duration": 1146,
        "start_time": "2023-04-14T11:35:32.991Z"
      },
      {
        "duration": 582,
        "start_time": "2023-04-14T11:35:34.139Z"
      },
      {
        "duration": 25,
        "start_time": "2023-04-14T11:35:34.722Z"
      },
      {
        "duration": 14,
        "start_time": "2023-04-14T11:35:34.748Z"
      },
      {
        "duration": 18,
        "start_time": "2023-04-14T11:35:34.764Z"
      },
      {
        "duration": 10,
        "start_time": "2023-04-14T11:35:34.783Z"
      },
      {
        "duration": 45,
        "start_time": "2023-04-14T11:35:34.794Z"
      },
      {
        "duration": 29,
        "start_time": "2023-04-14T11:35:34.841Z"
      },
      {
        "duration": 4,
        "start_time": "2023-04-14T11:35:34.872Z"
      },
      {
        "duration": 212,
        "start_time": "2023-04-14T11:35:34.877Z"
      },
      {
        "duration": 8,
        "start_time": "2023-04-14T11:35:35.091Z"
      },
      {
        "duration": 22,
        "start_time": "2023-04-14T11:35:35.100Z"
      },
      {
        "duration": 13,
        "start_time": "2023-04-14T11:35:35.123Z"
      },
      {
        "duration": 495,
        "start_time": "2023-04-14T11:35:35.138Z"
      },
      {
        "duration": 526,
        "start_time": "2023-04-14T11:35:35.636Z"
      },
      {
        "duration": 487,
        "start_time": "2023-04-14T11:35:36.163Z"
      },
      {
        "duration": 533,
        "start_time": "2023-04-14T11:35:36.652Z"
      },
      {
        "duration": 583,
        "start_time": "2023-04-14T11:35:37.186Z"
      },
      {
        "duration": 3,
        "start_time": "2023-04-14T11:35:37.770Z"
      },
      {
        "duration": 234,
        "start_time": "2023-04-14T11:35:37.775Z"
      },
      {
        "duration": 215,
        "start_time": "2023-04-14T11:35:38.011Z"
      },
      {
        "duration": 218,
        "start_time": "2023-04-14T11:35:38.228Z"
      },
      {
        "duration": 3,
        "start_time": "2023-04-14T11:35:38.447Z"
      },
      {
        "duration": 12,
        "start_time": "2023-04-14T11:35:38.452Z"
      },
      {
        "duration": 12,
        "start_time": "2023-04-14T11:36:43.449Z"
      },
      {
        "duration": 1237,
        "start_time": "2023-04-14T12:02:21.803Z"
      },
      {
        "duration": 587,
        "start_time": "2023-04-14T12:02:23.042Z"
      },
      {
        "duration": 25,
        "start_time": "2023-04-14T12:02:23.630Z"
      },
      {
        "duration": 14,
        "start_time": "2023-04-14T12:02:23.656Z"
      },
      {
        "duration": 18,
        "start_time": "2023-04-14T12:02:23.672Z"
      },
      {
        "duration": 33,
        "start_time": "2023-04-14T12:02:23.691Z"
      },
      {
        "duration": 29,
        "start_time": "2023-04-14T12:02:23.726Z"
      },
      {
        "duration": 29,
        "start_time": "2023-04-14T12:02:23.756Z"
      },
      {
        "duration": 4,
        "start_time": "2023-04-14T12:02:23.787Z"
      },
      {
        "duration": 190,
        "start_time": "2023-04-14T12:02:23.792Z"
      },
      {
        "duration": 8,
        "start_time": "2023-04-14T12:02:23.983Z"
      },
      {
        "duration": 29,
        "start_time": "2023-04-14T12:02:23.992Z"
      },
      {
        "duration": 105,
        "start_time": "2023-04-14T12:02:24.022Z"
      },
      {
        "duration": 0,
        "start_time": "2023-04-14T12:02:24.129Z"
      },
      {
        "duration": 0,
        "start_time": "2023-04-14T12:02:24.136Z"
      },
      {
        "duration": 0,
        "start_time": "2023-04-14T12:02:24.137Z"
      },
      {
        "duration": 0,
        "start_time": "2023-04-14T12:02:24.138Z"
      },
      {
        "duration": 0,
        "start_time": "2023-04-14T12:02:24.138Z"
      },
      {
        "duration": 0,
        "start_time": "2023-04-14T12:02:24.139Z"
      },
      {
        "duration": 0,
        "start_time": "2023-04-14T12:02:24.140Z"
      },
      {
        "duration": 0,
        "start_time": "2023-04-14T12:02:24.141Z"
      },
      {
        "duration": 0,
        "start_time": "2023-04-14T12:02:24.142Z"
      },
      {
        "duration": 0,
        "start_time": "2023-04-14T12:02:24.143Z"
      },
      {
        "duration": 0,
        "start_time": "2023-04-14T12:02:24.144Z"
      },
      {
        "duration": 0,
        "start_time": "2023-04-14T12:02:24.146Z"
      },
      {
        "duration": 1163,
        "start_time": "2023-04-14T12:04:49.072Z"
      },
      {
        "duration": 581,
        "start_time": "2023-04-14T12:04:50.237Z"
      },
      {
        "duration": 26,
        "start_time": "2023-04-14T12:04:50.820Z"
      },
      {
        "duration": 13,
        "start_time": "2023-04-14T12:04:50.847Z"
      },
      {
        "duration": 32,
        "start_time": "2023-04-14T12:04:50.863Z"
      },
      {
        "duration": 33,
        "start_time": "2023-04-14T12:04:50.896Z"
      },
      {
        "duration": 37,
        "start_time": "2023-04-14T12:04:50.931Z"
      },
      {
        "duration": 42,
        "start_time": "2023-04-14T12:04:50.970Z"
      },
      {
        "duration": 6,
        "start_time": "2023-04-14T12:04:51.013Z"
      },
      {
        "duration": 204,
        "start_time": "2023-04-14T12:04:51.021Z"
      },
      {
        "duration": 125,
        "start_time": "2023-04-14T12:04:51.226Z"
      },
      {
        "duration": 0,
        "start_time": "2023-04-14T12:04:51.353Z"
      },
      {
        "duration": 0,
        "start_time": "2023-04-14T12:04:51.354Z"
      },
      {
        "duration": 0,
        "start_time": "2023-04-14T12:04:51.355Z"
      },
      {
        "duration": 0,
        "start_time": "2023-04-14T12:04:51.356Z"
      },
      {
        "duration": 0,
        "start_time": "2023-04-14T12:04:51.358Z"
      },
      {
        "duration": 0,
        "start_time": "2023-04-14T12:04:51.359Z"
      },
      {
        "duration": 0,
        "start_time": "2023-04-14T12:04:51.360Z"
      },
      {
        "duration": 0,
        "start_time": "2023-04-14T12:04:51.361Z"
      },
      {
        "duration": 0,
        "start_time": "2023-04-14T12:04:51.363Z"
      },
      {
        "duration": 0,
        "start_time": "2023-04-14T12:04:51.364Z"
      },
      {
        "duration": 1,
        "start_time": "2023-04-14T12:04:51.365Z"
      },
      {
        "duration": 0,
        "start_time": "2023-04-14T12:04:51.367Z"
      },
      {
        "duration": 0,
        "start_time": "2023-04-14T12:04:51.368Z"
      },
      {
        "duration": 0,
        "start_time": "2023-04-14T12:04:51.369Z"
      },
      {
        "duration": 218,
        "start_time": "2023-04-14T12:05:42.443Z"
      },
      {
        "duration": 1194,
        "start_time": "2023-04-14T12:06:00.752Z"
      },
      {
        "duration": 619,
        "start_time": "2023-04-14T12:06:01.948Z"
      },
      {
        "duration": 30,
        "start_time": "2023-04-14T12:06:02.568Z"
      },
      {
        "duration": 19,
        "start_time": "2023-04-14T12:06:02.601Z"
      },
      {
        "duration": 34,
        "start_time": "2023-04-14T12:06:02.622Z"
      },
      {
        "duration": 22,
        "start_time": "2023-04-14T12:06:02.658Z"
      },
      {
        "duration": 20,
        "start_time": "2023-04-14T12:06:02.681Z"
      },
      {
        "duration": 21,
        "start_time": "2023-04-14T12:06:02.702Z"
      },
      {
        "duration": 4,
        "start_time": "2023-04-14T12:06:02.735Z"
      },
      {
        "duration": 283,
        "start_time": "2023-04-14T12:06:02.742Z"
      },
      {
        "duration": 0,
        "start_time": "2023-04-14T12:06:03.026Z"
      },
      {
        "duration": 0,
        "start_time": "2023-04-14T12:06:03.027Z"
      },
      {
        "duration": 0,
        "start_time": "2023-04-14T12:06:03.028Z"
      },
      {
        "duration": 0,
        "start_time": "2023-04-14T12:06:03.029Z"
      },
      {
        "duration": 0,
        "start_time": "2023-04-14T12:06:03.030Z"
      },
      {
        "duration": 0,
        "start_time": "2023-04-14T12:06:03.036Z"
      },
      {
        "duration": 0,
        "start_time": "2023-04-14T12:06:03.037Z"
      },
      {
        "duration": 0,
        "start_time": "2023-04-14T12:06:03.037Z"
      },
      {
        "duration": 0,
        "start_time": "2023-04-14T12:06:03.038Z"
      },
      {
        "duration": 0,
        "start_time": "2023-04-14T12:06:03.039Z"
      },
      {
        "duration": 0,
        "start_time": "2023-04-14T12:06:03.040Z"
      },
      {
        "duration": 0,
        "start_time": "2023-04-14T12:06:03.041Z"
      },
      {
        "duration": 0,
        "start_time": "2023-04-14T12:06:03.042Z"
      },
      {
        "duration": 0,
        "start_time": "2023-04-14T12:06:03.043Z"
      },
      {
        "duration": 0,
        "start_time": "2023-04-14T12:06:03.044Z"
      },
      {
        "duration": 151,
        "start_time": "2023-04-14T12:06:59.038Z"
      },
      {
        "duration": 21,
        "start_time": "2023-04-14T12:07:02.636Z"
      },
      {
        "duration": 25,
        "start_time": "2023-04-14T12:07:25.884Z"
      },
      {
        "duration": 14,
        "start_time": "2023-04-14T12:11:06.111Z"
      },
      {
        "duration": 6,
        "start_time": "2023-04-14T12:13:01.025Z"
      },
      {
        "duration": 17,
        "start_time": "2023-04-14T12:15:08.504Z"
      },
      {
        "duration": 6,
        "start_time": "2023-04-14T12:24:59.160Z"
      },
      {
        "duration": 92,
        "start_time": "2023-04-14T12:25:45.506Z"
      },
      {
        "duration": 19,
        "start_time": "2023-04-14T12:27:32.729Z"
      },
      {
        "duration": 23,
        "start_time": "2023-04-14T12:31:24.979Z"
      },
      {
        "duration": 1216,
        "start_time": "2023-04-14T12:33:06.728Z"
      },
      {
        "duration": 571,
        "start_time": "2023-04-14T12:33:07.946Z"
      },
      {
        "duration": 24,
        "start_time": "2023-04-14T12:33:08.519Z"
      },
      {
        "duration": 35,
        "start_time": "2023-04-14T12:33:08.544Z"
      },
      {
        "duration": 74,
        "start_time": "2023-04-14T12:33:08.581Z"
      },
      {
        "duration": 30,
        "start_time": "2023-04-14T12:33:08.656Z"
      },
      {
        "duration": 19,
        "start_time": "2023-04-14T12:33:08.688Z"
      },
      {
        "duration": 28,
        "start_time": "2023-04-14T12:33:08.708Z"
      },
      {
        "duration": 4,
        "start_time": "2023-04-14T12:33:08.737Z"
      },
      {
        "duration": 162,
        "start_time": "2023-04-14T12:33:08.744Z"
      },
      {
        "duration": 29,
        "start_time": "2023-04-14T12:33:08.908Z"
      },
      {
        "duration": 109,
        "start_time": "2023-04-14T12:33:08.939Z"
      },
      {
        "duration": 0,
        "start_time": "2023-04-14T12:33:09.050Z"
      },
      {
        "duration": 0,
        "start_time": "2023-04-14T12:33:09.052Z"
      },
      {
        "duration": 0,
        "start_time": "2023-04-14T12:33:09.053Z"
      },
      {
        "duration": 0,
        "start_time": "2023-04-14T12:33:09.055Z"
      },
      {
        "duration": 0,
        "start_time": "2023-04-14T12:33:09.057Z"
      },
      {
        "duration": 0,
        "start_time": "2023-04-14T12:33:09.059Z"
      },
      {
        "duration": 0,
        "start_time": "2023-04-14T12:33:09.060Z"
      },
      {
        "duration": 0,
        "start_time": "2023-04-14T12:33:09.062Z"
      },
      {
        "duration": 0,
        "start_time": "2023-04-14T12:33:09.063Z"
      },
      {
        "duration": 0,
        "start_time": "2023-04-14T12:33:09.064Z"
      },
      {
        "duration": 0,
        "start_time": "2023-04-14T12:33:09.066Z"
      },
      {
        "duration": 0,
        "start_time": "2023-04-14T12:33:09.067Z"
      },
      {
        "duration": 0,
        "start_time": "2023-04-14T12:33:09.068Z"
      },
      {
        "duration": 0,
        "start_time": "2023-04-14T12:33:09.070Z"
      },
      {
        "duration": 21,
        "start_time": "2023-04-14T12:37:12.745Z"
      },
      {
        "duration": 17,
        "start_time": "2023-04-14T12:37:27.582Z"
      },
      {
        "duration": 1214,
        "start_time": "2023-04-14T12:38:26.773Z"
      },
      {
        "duration": 633,
        "start_time": "2023-04-14T12:38:27.989Z"
      },
      {
        "duration": 26,
        "start_time": "2023-04-14T12:38:28.624Z"
      },
      {
        "duration": 14,
        "start_time": "2023-04-14T12:38:28.651Z"
      },
      {
        "duration": 19,
        "start_time": "2023-04-14T12:38:28.667Z"
      },
      {
        "duration": 34,
        "start_time": "2023-04-14T12:38:28.687Z"
      },
      {
        "duration": 26,
        "start_time": "2023-04-14T12:38:28.722Z"
      },
      {
        "duration": 21,
        "start_time": "2023-04-14T12:38:28.749Z"
      },
      {
        "duration": 3,
        "start_time": "2023-04-14T12:38:28.771Z"
      },
      {
        "duration": 173,
        "start_time": "2023-04-14T12:38:28.776Z"
      },
      {
        "duration": 22,
        "start_time": "2023-04-14T12:38:28.951Z"
      },
      {
        "duration": 8,
        "start_time": "2023-04-14T12:38:28.974Z"
      },
      {
        "duration": 30,
        "start_time": "2023-04-14T12:38:28.983Z"
      },
      {
        "duration": 4,
        "start_time": "2023-04-14T12:38:29.016Z"
      },
      {
        "duration": 571,
        "start_time": "2023-04-14T12:38:29.021Z"
      },
      {
        "duration": 617,
        "start_time": "2023-04-14T12:38:29.593Z"
      },
      {
        "duration": 559,
        "start_time": "2023-04-14T12:38:30.212Z"
      },
      {
        "duration": 616,
        "start_time": "2023-04-14T12:38:30.772Z"
      },
      {
        "duration": 658,
        "start_time": "2023-04-14T12:38:31.390Z"
      },
      {
        "duration": 4,
        "start_time": "2023-04-14T12:38:32.049Z"
      },
      {
        "duration": 262,
        "start_time": "2023-04-14T12:38:32.055Z"
      },
      {
        "duration": 229,
        "start_time": "2023-04-14T12:38:32.319Z"
      },
      {
        "duration": 261,
        "start_time": "2023-04-14T12:38:32.550Z"
      },
      {
        "duration": 3,
        "start_time": "2023-04-14T12:38:32.813Z"
      },
      {
        "duration": 21,
        "start_time": "2023-04-14T12:38:32.817Z"
      },
      {
        "duration": 1182,
        "start_time": "2023-04-14T12:53:24.962Z"
      },
      {
        "duration": 605,
        "start_time": "2023-04-14T12:53:26.146Z"
      },
      {
        "duration": 23,
        "start_time": "2023-04-14T12:53:26.752Z"
      },
      {
        "duration": 20,
        "start_time": "2023-04-14T12:53:26.777Z"
      },
      {
        "duration": 19,
        "start_time": "2023-04-14T12:53:26.798Z"
      },
      {
        "duration": 23,
        "start_time": "2023-04-14T12:53:26.818Z"
      },
      {
        "duration": 17,
        "start_time": "2023-04-14T12:53:26.843Z"
      },
      {
        "duration": 18,
        "start_time": "2023-04-14T12:53:26.862Z"
      },
      {
        "duration": 3,
        "start_time": "2023-04-14T12:53:26.881Z"
      },
      {
        "duration": 149,
        "start_time": "2023-04-14T12:53:26.887Z"
      },
      {
        "duration": 19,
        "start_time": "2023-04-14T12:53:27.038Z"
      },
      {
        "duration": 37,
        "start_time": "2023-04-14T12:53:27.059Z"
      },
      {
        "duration": 3,
        "start_time": "2023-04-14T12:53:27.098Z"
      },
      {
        "duration": 481,
        "start_time": "2023-04-14T12:53:27.102Z"
      },
      {
        "duration": 535,
        "start_time": "2023-04-14T12:53:27.585Z"
      },
      {
        "duration": 467,
        "start_time": "2023-04-14T12:53:28.122Z"
      },
      {
        "duration": 528,
        "start_time": "2023-04-14T12:53:28.591Z"
      },
      {
        "duration": 575,
        "start_time": "2023-04-14T12:53:29.121Z"
      },
      {
        "duration": 3,
        "start_time": "2023-04-14T12:53:29.698Z"
      },
      {
        "duration": 240,
        "start_time": "2023-04-14T12:53:29.702Z"
      },
      {
        "duration": 202,
        "start_time": "2023-04-14T12:53:29.944Z"
      },
      {
        "duration": 221,
        "start_time": "2023-04-14T12:53:30.147Z"
      },
      {
        "duration": 3,
        "start_time": "2023-04-14T12:53:30.369Z"
      },
      {
        "duration": 52,
        "start_time": "2023-04-14T12:53:30.374Z"
      },
      {
        "duration": 75,
        "start_time": "2023-04-14T12:53:30.428Z"
      },
      {
        "duration": 1252,
        "start_time": "2023-04-14T15:17:46.851Z"
      },
      {
        "duration": 621,
        "start_time": "2023-04-14T15:17:48.105Z"
      },
      {
        "duration": 29,
        "start_time": "2023-04-14T15:17:48.728Z"
      },
      {
        "duration": 30,
        "start_time": "2023-04-14T15:17:48.759Z"
      },
      {
        "duration": 22,
        "start_time": "2023-04-14T15:17:48.791Z"
      },
      {
        "duration": 34,
        "start_time": "2023-04-14T15:17:48.815Z"
      },
      {
        "duration": 20,
        "start_time": "2023-04-14T15:17:48.853Z"
      },
      {
        "duration": 33,
        "start_time": "2023-04-14T15:17:48.875Z"
      },
      {
        "duration": 12,
        "start_time": "2023-04-14T15:17:48.910Z"
      },
      {
        "duration": 169,
        "start_time": "2023-04-14T15:17:48.924Z"
      },
      {
        "duration": 21,
        "start_time": "2023-04-14T15:17:49.095Z"
      },
      {
        "duration": 29,
        "start_time": "2023-04-14T15:17:49.119Z"
      },
      {
        "duration": 4,
        "start_time": "2023-04-14T15:17:49.155Z"
      },
      {
        "duration": 567,
        "start_time": "2023-04-14T15:17:49.163Z"
      },
      {
        "duration": 587,
        "start_time": "2023-04-14T15:17:49.732Z"
      },
      {
        "duration": 524,
        "start_time": "2023-04-14T15:17:50.320Z"
      },
      {
        "duration": 802,
        "start_time": "2023-04-14T15:17:50.851Z"
      },
      {
        "duration": 640,
        "start_time": "2023-04-14T15:17:51.655Z"
      },
      {
        "duration": 4,
        "start_time": "2023-04-14T15:17:52.297Z"
      },
      {
        "duration": 274,
        "start_time": "2023-04-14T15:17:52.303Z"
      },
      {
        "duration": 316,
        "start_time": "2023-04-14T15:17:52.579Z"
      },
      {
        "duration": 414,
        "start_time": "2023-04-14T15:17:52.898Z"
      },
      {
        "duration": 4,
        "start_time": "2023-04-14T15:17:53.314Z"
      },
      {
        "duration": 29,
        "start_time": "2023-04-14T15:17:53.320Z"
      },
      {
        "duration": 7,
        "start_time": "2023-04-14T15:17:53.354Z"
      },
      {
        "duration": 9,
        "start_time": "2023-04-14T15:17:53.363Z"
      },
      {
        "duration": 22,
        "start_time": "2023-04-14T15:17:53.373Z"
      },
      {
        "duration": 12,
        "start_time": "2023-04-14T15:17:53.397Z"
      },
      {
        "duration": 44,
        "start_time": "2023-04-14T15:17:53.410Z"
      },
      {
        "duration": 10,
        "start_time": "2023-04-14T15:17:53.456Z"
      },
      {
        "duration": 8,
        "start_time": "2023-04-14T15:17:53.468Z"
      },
      {
        "duration": 12543,
        "start_time": "2023-04-14T15:17:53.478Z"
      },
      {
        "duration": 22646,
        "start_time": "2023-04-14T15:21:01.016Z"
      },
      {
        "duration": 8880,
        "start_time": "2023-04-14T15:21:44.911Z"
      },
      {
        "duration": 12706,
        "start_time": "2023-04-14T15:23:04.658Z"
      },
      {
        "duration": 10846,
        "start_time": "2023-04-14T15:23:19.539Z"
      },
      {
        "duration": 1302,
        "start_time": "2023-04-14T15:24:58.951Z"
      },
      {
        "duration": 668,
        "start_time": "2023-04-14T15:25:00.256Z"
      },
      {
        "duration": 55,
        "start_time": "2023-04-14T15:25:00.926Z"
      },
      {
        "duration": 31,
        "start_time": "2023-04-14T15:25:00.983Z"
      },
      {
        "duration": 56,
        "start_time": "2023-04-14T15:25:01.016Z"
      },
      {
        "duration": 14,
        "start_time": "2023-04-14T15:25:01.074Z"
      },
      {
        "duration": 60,
        "start_time": "2023-04-14T15:25:01.090Z"
      },
      {
        "duration": 81,
        "start_time": "2023-04-14T15:25:01.152Z"
      },
      {
        "duration": 34,
        "start_time": "2023-04-14T15:25:01.235Z"
      },
      {
        "duration": 189,
        "start_time": "2023-04-14T15:25:01.274Z"
      },
      {
        "duration": 27,
        "start_time": "2023-04-14T15:25:01.465Z"
      },
      {
        "duration": 57,
        "start_time": "2023-04-14T15:25:01.495Z"
      },
      {
        "duration": 11,
        "start_time": "2023-04-14T15:25:01.553Z"
      },
      {
        "duration": 605,
        "start_time": "2023-04-14T15:25:01.567Z"
      },
      {
        "duration": 689,
        "start_time": "2023-04-14T15:25:02.174Z"
      },
      {
        "duration": 525,
        "start_time": "2023-04-14T15:25:02.865Z"
      },
      {
        "duration": 665,
        "start_time": "2023-04-14T15:25:03.392Z"
      },
      {
        "duration": 527,
        "start_time": "2023-04-14T15:25:04.059Z"
      },
      {
        "duration": 4,
        "start_time": "2023-04-14T15:25:04.588Z"
      },
      {
        "duration": 241,
        "start_time": "2023-04-14T15:25:04.593Z"
      },
      {
        "duration": 269,
        "start_time": "2023-04-14T15:25:04.837Z"
      },
      {
        "duration": 369,
        "start_time": "2023-04-14T15:25:05.107Z"
      },
      {
        "duration": 5,
        "start_time": "2023-04-14T15:25:05.478Z"
      },
      {
        "duration": 10,
        "start_time": "2023-04-14T15:25:05.484Z"
      },
      {
        "duration": 14,
        "start_time": "2023-04-14T15:25:05.496Z"
      },
      {
        "duration": 14,
        "start_time": "2023-04-14T15:25:05.511Z"
      },
      {
        "duration": 15,
        "start_time": "2023-04-14T15:25:05.527Z"
      },
      {
        "duration": 8,
        "start_time": "2023-04-14T15:25:05.545Z"
      },
      {
        "duration": 16,
        "start_time": "2023-04-14T15:25:05.554Z"
      },
      {
        "duration": 8,
        "start_time": "2023-04-14T15:25:05.572Z"
      },
      {
        "duration": 4,
        "start_time": "2023-04-14T15:25:05.582Z"
      },
      {
        "duration": 12931,
        "start_time": "2023-04-14T15:25:05.587Z"
      },
      {
        "duration": 27861,
        "start_time": "2023-04-14T15:25:18.520Z"
      },
      {
        "duration": 4,
        "start_time": "2023-04-14T15:37:16.647Z"
      },
      {
        "duration": 11862,
        "start_time": "2023-04-14T15:37:20.867Z"
      },
      {
        "duration": 1414,
        "start_time": "2023-04-14T15:38:12.715Z"
      },
      {
        "duration": 664,
        "start_time": "2023-04-14T15:38:14.132Z"
      },
      {
        "duration": 24,
        "start_time": "2023-04-14T15:38:14.797Z"
      },
      {
        "duration": 29,
        "start_time": "2023-04-14T15:38:14.823Z"
      },
      {
        "duration": 19,
        "start_time": "2023-04-14T15:38:14.854Z"
      },
      {
        "duration": 17,
        "start_time": "2023-04-14T15:38:14.874Z"
      },
      {
        "duration": 17,
        "start_time": "2023-04-14T15:38:14.893Z"
      },
      {
        "duration": 38,
        "start_time": "2023-04-14T15:38:14.912Z"
      },
      {
        "duration": 3,
        "start_time": "2023-04-14T15:38:14.952Z"
      },
      {
        "duration": 143,
        "start_time": "2023-04-14T15:38:14.957Z"
      },
      {
        "duration": 19,
        "start_time": "2023-04-14T15:38:15.101Z"
      },
      {
        "duration": 33,
        "start_time": "2023-04-14T15:38:15.122Z"
      },
      {
        "duration": 4,
        "start_time": "2023-04-14T15:38:15.156Z"
      },
      {
        "duration": 562,
        "start_time": "2023-04-14T15:38:15.162Z"
      },
      {
        "duration": 570,
        "start_time": "2023-04-14T15:38:15.725Z"
      },
      {
        "duration": 505,
        "start_time": "2023-04-14T15:38:16.296Z"
      },
      {
        "duration": 655,
        "start_time": "2023-04-14T15:38:16.803Z"
      },
      {
        "duration": 534,
        "start_time": "2023-04-14T15:38:17.459Z"
      },
      {
        "duration": 3,
        "start_time": "2023-04-14T15:38:17.995Z"
      },
      {
        "duration": 246,
        "start_time": "2023-04-14T15:38:17.999Z"
      },
      {
        "duration": 208,
        "start_time": "2023-04-14T15:38:18.247Z"
      },
      {
        "duration": 306,
        "start_time": "2023-04-14T15:38:18.457Z"
      },
      {
        "duration": 3,
        "start_time": "2023-04-14T15:38:18.765Z"
      },
      {
        "duration": 9,
        "start_time": "2023-04-14T15:38:18.770Z"
      },
      {
        "duration": 14,
        "start_time": "2023-04-14T15:38:18.781Z"
      },
      {
        "duration": 18,
        "start_time": "2023-04-14T15:38:18.796Z"
      },
      {
        "duration": 32,
        "start_time": "2023-04-14T15:38:18.816Z"
      },
      {
        "duration": 11,
        "start_time": "2023-04-14T15:38:18.850Z"
      },
      {
        "duration": 16,
        "start_time": "2023-04-14T15:38:18.862Z"
      },
      {
        "duration": 21,
        "start_time": "2023-04-14T15:38:18.880Z"
      },
      {
        "duration": 14,
        "start_time": "2023-04-14T15:38:18.902Z"
      },
      {
        "duration": 12967,
        "start_time": "2023-04-14T15:38:18.917Z"
      },
      {
        "duration": 27407,
        "start_time": "2023-04-14T15:38:31.886Z"
      },
      {
        "duration": 28503,
        "start_time": "2023-04-14T15:40:19.547Z"
      },
      {
        "duration": 3,
        "start_time": "2023-04-14T15:57:49.730Z"
      },
      {
        "duration": 866744,
        "start_time": "2023-04-14T15:57:51.123Z"
      },
      {
        "duration": 9,
        "start_time": "2023-04-14T16:12:52.185Z"
      },
      {
        "duration": 3,
        "start_time": "2023-04-14T16:13:04.237Z"
      },
      {
        "duration": 9,
        "start_time": "2023-04-14T16:13:22.180Z"
      },
      {
        "duration": 2,
        "start_time": "2023-04-14T16:13:38.632Z"
      },
      {
        "duration": 217272,
        "start_time": "2023-04-14T16:13:42.253Z"
      },
      {
        "duration": 686295,
        "start_time": "2023-04-14T16:17:52.557Z"
      },
      {
        "duration": 4,
        "start_time": "2023-04-14T16:30:02.449Z"
      },
      {
        "duration": 8550,
        "start_time": "2023-04-14T16:30:07.483Z"
      },
      {
        "duration": 18431,
        "start_time": "2023-04-14T16:30:20.256Z"
      },
      {
        "duration": 14,
        "start_time": "2023-04-14T16:36:36.042Z"
      },
      {
        "duration": 4,
        "start_time": "2023-04-14T16:36:44.852Z"
      },
      {
        "duration": 12138,
        "start_time": "2023-04-14T16:36:48.174Z"
      },
      {
        "duration": 28591,
        "start_time": "2023-04-14T16:37:08.160Z"
      },
      {
        "duration": 5,
        "start_time": "2023-04-14T16:38:10.823Z"
      },
      {
        "duration": 629218,
        "start_time": "2023-04-14T16:38:14.032Z"
      },
      {
        "duration": 0,
        "start_time": "2023-04-14T16:48:43.252Z"
      },
      {
        "duration": 4,
        "start_time": "2023-04-14T16:48:48.461Z"
      },
      {
        "duration": 8932,
        "start_time": "2023-04-14T16:48:52.016Z"
      },
      {
        "duration": 18450,
        "start_time": "2023-04-14T16:49:13.563Z"
      },
      {
        "duration": 4,
        "start_time": "2023-04-14T16:49:48.687Z"
      },
      {
        "duration": 227093,
        "start_time": "2023-04-14T16:49:53.675Z"
      },
      {
        "duration": 12,
        "start_time": "2023-04-14T16:59:26.239Z"
      },
      {
        "duration": 14,
        "start_time": "2023-04-14T16:59:59.493Z"
      },
      {
        "duration": 11,
        "start_time": "2023-04-14T17:01:23.045Z"
      },
      {
        "duration": 3,
        "start_time": "2023-04-14T17:03:42.593Z"
      },
      {
        "duration": 69,
        "start_time": "2023-04-14T17:03:51.598Z"
      },
      {
        "duration": 13,
        "start_time": "2023-04-14T17:04:16.154Z"
      },
      {
        "duration": 3,
        "start_time": "2023-04-14T17:05:20.733Z"
      },
      {
        "duration": 8,
        "start_time": "2023-04-14T17:05:21.471Z"
      },
      {
        "duration": 4,
        "start_time": "2023-04-14T17:05:33.318Z"
      },
      {
        "duration": 3,
        "start_time": "2023-04-14T17:05:39.841Z"
      },
      {
        "duration": 8,
        "start_time": "2023-04-14T17:05:40.478Z"
      },
      {
        "duration": 3,
        "start_time": "2023-04-14T17:08:32.360Z"
      },
      {
        "duration": 12,
        "start_time": "2023-04-14T17:08:38.941Z"
      },
      {
        "duration": 4,
        "start_time": "2023-04-14T17:09:10.023Z"
      },
      {
        "duration": 9,
        "start_time": "2023-04-14T17:09:11.784Z"
      },
      {
        "duration": 3,
        "start_time": "2023-04-14T17:16:39.985Z"
      },
      {
        "duration": 13,
        "start_time": "2023-04-14T17:16:41.671Z"
      },
      {
        "duration": 1110,
        "start_time": "2023-04-14T17:22:15.755Z"
      },
      {
        "duration": 2417,
        "start_time": "2023-04-14T17:23:29.928Z"
      },
      {
        "duration": 4,
        "start_time": "2023-04-14T17:25:28.038Z"
      },
      {
        "duration": 985,
        "start_time": "2023-04-14T17:25:30.476Z"
      },
      {
        "duration": 2064,
        "start_time": "2023-04-14T17:25:44.094Z"
      },
      {
        "duration": 3,
        "start_time": "2023-04-14T17:26:22.399Z"
      },
      {
        "duration": 1136,
        "start_time": "2023-04-14T17:26:24.127Z"
      },
      {
        "duration": 2706,
        "start_time": "2023-04-14T17:26:26.359Z"
      },
      {
        "duration": 3,
        "start_time": "2023-04-14T17:27:55.222Z"
      },
      {
        "duration": 147,
        "start_time": "2023-04-14T17:33:17.917Z"
      },
      {
        "duration": 2091,
        "start_time": "2023-04-15T13:09:59.506Z"
      },
      {
        "duration": 3990,
        "start_time": "2023-04-15T13:10:01.600Z"
      },
      {
        "duration": 32,
        "start_time": "2023-04-15T13:10:05.592Z"
      },
      {
        "duration": 52,
        "start_time": "2023-04-15T13:10:05.626Z"
      },
      {
        "duration": 28,
        "start_time": "2023-04-15T13:10:05.680Z"
      },
      {
        "duration": 43,
        "start_time": "2023-04-15T13:10:05.710Z"
      },
      {
        "duration": 54,
        "start_time": "2023-04-15T13:10:05.755Z"
      },
      {
        "duration": 61,
        "start_time": "2023-04-15T13:10:05.811Z"
      },
      {
        "duration": 20,
        "start_time": "2023-04-15T13:10:05.875Z"
      },
      {
        "duration": 232,
        "start_time": "2023-04-15T13:10:05.899Z"
      },
      {
        "duration": 59,
        "start_time": "2023-04-15T13:10:06.133Z"
      },
      {
        "duration": 48,
        "start_time": "2023-04-15T13:10:06.195Z"
      },
      {
        "duration": 9,
        "start_time": "2023-04-15T13:10:06.247Z"
      },
      {
        "duration": 713,
        "start_time": "2023-04-15T13:10:06.259Z"
      },
      {
        "duration": 790,
        "start_time": "2023-04-15T13:10:06.974Z"
      },
      {
        "duration": 652,
        "start_time": "2023-04-15T13:10:07.767Z"
      },
      {
        "duration": 966,
        "start_time": "2023-04-15T13:10:08.422Z"
      },
      {
        "duration": 730,
        "start_time": "2023-04-15T13:10:09.390Z"
      },
      {
        "duration": 5,
        "start_time": "2023-04-15T13:10:10.122Z"
      },
      {
        "duration": 335,
        "start_time": "2023-04-15T13:10:10.129Z"
      },
      {
        "duration": 303,
        "start_time": "2023-04-15T13:10:10.466Z"
      },
      {
        "duration": 450,
        "start_time": "2023-04-15T13:10:10.772Z"
      },
      {
        "duration": 4,
        "start_time": "2023-04-15T13:10:11.224Z"
      },
      {
        "duration": 31,
        "start_time": "2023-04-15T13:10:11.231Z"
      },
      {
        "duration": 166,
        "start_time": "2023-04-15T13:10:11.265Z"
      },
      {
        "duration": 23,
        "start_time": "2023-04-15T13:10:11.433Z"
      },
      {
        "duration": 38,
        "start_time": "2023-04-15T13:10:11.458Z"
      },
      {
        "duration": 15,
        "start_time": "2023-04-15T13:10:11.501Z"
      },
      {
        "duration": 13,
        "start_time": "2023-04-15T13:10:11.519Z"
      },
      {
        "duration": 30,
        "start_time": "2023-04-15T13:10:11.535Z"
      },
      {
        "duration": 9,
        "start_time": "2023-04-15T13:10:11.567Z"
      },
      {
        "duration": 7119,
        "start_time": "2023-04-15T13:10:11.578Z"
      },
      {
        "duration": 20314,
        "start_time": "2023-04-15T13:10:18.699Z"
      },
      {
        "duration": 4,
        "start_time": "2023-04-15T13:10:39.015Z"
      },
      {
        "duration": 204555,
        "start_time": "2023-04-15T13:10:39.021Z"
      },
      {
        "duration": 608716,
        "start_time": "2023-04-15T13:14:03.579Z"
      },
      {
        "duration": 3,
        "start_time": "2023-04-15T13:24:12.298Z"
      },
      {
        "duration": 1158,
        "start_time": "2023-04-15T13:24:12.303Z"
      },
      {
        "duration": 2407,
        "start_time": "2023-04-15T13:24:13.464Z"
      },
      {
        "duration": 265,
        "start_time": "2023-04-15T13:24:15.945Z"
      },
      {
        "duration": 5,
        "start_time": "2023-04-15T13:31:12.498Z"
      },
      {
        "duration": 132,
        "start_time": "2023-04-15T13:38:40.537Z"
      },
      {
        "duration": 120,
        "start_time": "2023-04-15T13:39:02.017Z"
      },
      {
        "duration": 1688,
        "start_time": "2023-04-15T13:58:53.507Z"
      },
      {
        "duration": 977,
        "start_time": "2023-04-15T13:58:55.198Z"
      },
      {
        "duration": 39,
        "start_time": "2023-04-15T13:58:56.177Z"
      },
      {
        "duration": 42,
        "start_time": "2023-04-15T13:58:56.219Z"
      },
      {
        "duration": 27,
        "start_time": "2023-04-15T13:58:56.264Z"
      },
      {
        "duration": 25,
        "start_time": "2023-04-15T13:58:56.292Z"
      },
      {
        "duration": 43,
        "start_time": "2023-04-15T13:58:56.319Z"
      },
      {
        "duration": 33,
        "start_time": "2023-04-15T13:58:56.364Z"
      },
      {
        "duration": 4,
        "start_time": "2023-04-15T13:58:56.399Z"
      },
      {
        "duration": 188,
        "start_time": "2023-04-15T13:58:56.406Z"
      },
      {
        "duration": 29,
        "start_time": "2023-04-15T13:58:56.596Z"
      },
      {
        "duration": 48,
        "start_time": "2023-04-15T13:58:56.627Z"
      },
      {
        "duration": 5,
        "start_time": "2023-04-15T13:58:56.677Z"
      },
      {
        "duration": 708,
        "start_time": "2023-04-15T13:58:56.684Z"
      },
      {
        "duration": 791,
        "start_time": "2023-04-15T13:58:57.394Z"
      },
      {
        "duration": 716,
        "start_time": "2023-04-15T13:58:58.187Z"
      },
      {
        "duration": 900,
        "start_time": "2023-04-15T13:58:58.906Z"
      },
      {
        "duration": 697,
        "start_time": "2023-04-15T13:58:59.808Z"
      },
      {
        "duration": 4,
        "start_time": "2023-04-15T13:59:00.508Z"
      },
      {
        "duration": 344,
        "start_time": "2023-04-15T13:59:00.513Z"
      },
      {
        "duration": 295,
        "start_time": "2023-04-15T13:59:00.859Z"
      },
      {
        "duration": 448,
        "start_time": "2023-04-15T13:59:01.158Z"
      },
      {
        "duration": 5,
        "start_time": "2023-04-15T13:59:01.608Z"
      },
      {
        "duration": 81,
        "start_time": "2023-04-15T13:59:01.614Z"
      },
      {
        "duration": 59,
        "start_time": "2023-04-15T13:59:01.698Z"
      },
      {
        "duration": 101,
        "start_time": "2023-04-15T13:59:01.759Z"
      },
      {
        "duration": 127,
        "start_time": "2023-04-15T13:59:01.863Z"
      },
      {
        "duration": 61,
        "start_time": "2023-04-15T13:59:01.994Z"
      },
      {
        "duration": 94,
        "start_time": "2023-04-15T13:59:02.057Z"
      },
      {
        "duration": 76,
        "start_time": "2023-04-15T13:59:02.154Z"
      },
      {
        "duration": 124,
        "start_time": "2023-04-15T13:59:02.232Z"
      },
      {
        "duration": 8604,
        "start_time": "2023-04-15T13:59:02.358Z"
      },
      {
        "duration": 18235,
        "start_time": "2023-04-15T13:59:10.964Z"
      },
      {
        "duration": 4,
        "start_time": "2023-04-15T13:59:29.201Z"
      },
      {
        "duration": 185928,
        "start_time": "2023-04-15T13:59:29.207Z"
      },
      {
        "duration": 357186,
        "start_time": "2023-04-15T14:02:35.138Z"
      },
      {
        "duration": 0,
        "start_time": "2023-04-15T14:08:32.327Z"
      },
      {
        "duration": 0,
        "start_time": "2023-04-15T14:08:32.328Z"
      },
      {
        "duration": 0,
        "start_time": "2023-04-15T14:08:32.329Z"
      },
      {
        "duration": 0,
        "start_time": "2023-04-15T14:08:32.330Z"
      },
      {
        "duration": 0,
        "start_time": "2023-04-15T14:08:32.331Z"
      },
      {
        "duration": 0,
        "start_time": "2023-04-15T14:08:32.332Z"
      },
      {
        "duration": 9,
        "start_time": "2023-04-15T14:08:53.823Z"
      },
      {
        "duration": 614298,
        "start_time": "2023-04-15T14:08:58.609Z"
      },
      {
        "duration": 4,
        "start_time": "2023-04-15T14:20:53.536Z"
      },
      {
        "duration": 1508,
        "start_time": "2023-04-15T14:20:55.792Z"
      },
      {
        "duration": 4675,
        "start_time": "2023-04-15T14:20:59.189Z"
      },
      {
        "duration": 170,
        "start_time": "2023-04-15T14:21:07.590Z"
      },
      {
        "duration": 29,
        "start_time": "2023-04-15T14:36:42.170Z"
      },
      {
        "duration": 67,
        "start_time": "2023-04-15T14:39:21.231Z"
      },
      {
        "duration": 61,
        "start_time": "2023-04-15T14:40:17.324Z"
      },
      {
        "duration": 7,
        "start_time": "2023-04-15T14:40:55.290Z"
      },
      {
        "duration": 43,
        "start_time": "2023-04-15T14:41:02.879Z"
      },
      {
        "duration": 1792,
        "start_time": "2023-04-15T14:41:54.082Z"
      },
      {
        "duration": 1725,
        "start_time": "2023-04-15T14:41:55.883Z"
      },
      {
        "duration": 39,
        "start_time": "2023-04-15T14:41:57.610Z"
      },
      {
        "duration": 44,
        "start_time": "2023-04-15T14:41:57.661Z"
      },
      {
        "duration": 27,
        "start_time": "2023-04-15T14:41:57.708Z"
      },
      {
        "duration": 70,
        "start_time": "2023-04-15T14:41:57.736Z"
      },
      {
        "duration": 24,
        "start_time": "2023-04-15T14:41:57.808Z"
      },
      {
        "duration": 47,
        "start_time": "2023-04-15T14:41:57.833Z"
      },
      {
        "duration": 6,
        "start_time": "2023-04-15T14:41:57.882Z"
      },
      {
        "duration": 204,
        "start_time": "2023-04-15T14:41:57.890Z"
      },
      {
        "duration": 27,
        "start_time": "2023-04-15T14:41:58.097Z"
      },
      {
        "duration": 64,
        "start_time": "2023-04-15T14:41:58.126Z"
      },
      {
        "duration": 5,
        "start_time": "2023-04-15T14:41:58.193Z"
      },
      {
        "duration": 783,
        "start_time": "2023-04-15T14:41:58.202Z"
      },
      {
        "duration": 936,
        "start_time": "2023-04-15T14:41:58.987Z"
      },
      {
        "duration": 712,
        "start_time": "2023-04-15T14:41:59.925Z"
      },
      {
        "duration": 1041,
        "start_time": "2023-04-15T14:42:00.654Z"
      },
      {
        "duration": 747,
        "start_time": "2023-04-15T14:42:01.697Z"
      },
      {
        "duration": 6,
        "start_time": "2023-04-15T14:42:02.447Z"
      },
      {
        "duration": 363,
        "start_time": "2023-04-15T14:42:02.455Z"
      },
      {
        "duration": 328,
        "start_time": "2023-04-15T14:42:02.820Z"
      },
      {
        "duration": 477,
        "start_time": "2023-04-15T14:42:03.159Z"
      },
      {
        "duration": 5,
        "start_time": "2023-04-15T14:42:03.641Z"
      },
      {
        "duration": 2,
        "start_time": "2023-04-15T14:42:03.649Z"
      },
      {
        "duration": 61,
        "start_time": "2023-04-15T14:42:03.654Z"
      },
      {
        "duration": 57,
        "start_time": "2023-04-15T14:42:03.717Z"
      },
      {
        "duration": 34,
        "start_time": "2023-04-15T14:42:03.778Z"
      },
      {
        "duration": 79,
        "start_time": "2023-04-15T14:42:03.814Z"
      },
      {
        "duration": 142,
        "start_time": "2023-04-15T14:42:03.895Z"
      },
      {
        "duration": 0,
        "start_time": "2023-04-15T14:42:04.039Z"
      },
      {
        "duration": 0,
        "start_time": "2023-04-15T14:42:04.046Z"
      },
      {
        "duration": 0,
        "start_time": "2023-04-15T14:42:04.047Z"
      },
      {
        "duration": 0,
        "start_time": "2023-04-15T14:42:04.048Z"
      },
      {
        "duration": 0,
        "start_time": "2023-04-15T14:42:04.049Z"
      },
      {
        "duration": 0,
        "start_time": "2023-04-15T14:42:04.053Z"
      },
      {
        "duration": 0,
        "start_time": "2023-04-15T14:42:04.054Z"
      },
      {
        "duration": 0,
        "start_time": "2023-04-15T14:42:04.056Z"
      },
      {
        "duration": 0,
        "start_time": "2023-04-15T14:42:04.057Z"
      },
      {
        "duration": 0,
        "start_time": "2023-04-15T14:42:04.058Z"
      },
      {
        "duration": 0,
        "start_time": "2023-04-15T14:42:04.059Z"
      },
      {
        "duration": 0,
        "start_time": "2023-04-15T14:42:04.059Z"
      },
      {
        "duration": 0,
        "start_time": "2023-04-15T14:42:04.060Z"
      },
      {
        "duration": 16,
        "start_time": "2023-04-15T14:42:58.985Z"
      },
      {
        "duration": 12,
        "start_time": "2023-04-15T14:43:00.503Z"
      },
      {
        "duration": 8,
        "start_time": "2023-04-15T14:43:02.510Z"
      },
      {
        "duration": 7,
        "start_time": "2023-04-15T14:43:04.517Z"
      },
      {
        "duration": 8382,
        "start_time": "2023-04-15T14:43:05.408Z"
      },
      {
        "duration": 19128,
        "start_time": "2023-04-15T14:43:15.775Z"
      },
      {
        "duration": 5,
        "start_time": "2023-04-15T14:43:57.311Z"
      },
      {
        "duration": 370743,
        "start_time": "2023-04-15T14:44:01.076Z"
      },
      {
        "duration": 835780,
        "start_time": "2023-04-15T14:50:11.821Z"
      },
      {
        "duration": 3,
        "start_time": "2023-04-15T15:04:07.603Z"
      },
      {
        "duration": 1465,
        "start_time": "2023-04-15T15:04:07.608Z"
      },
      {
        "duration": 4386,
        "start_time": "2023-04-15T15:04:09.075Z"
      },
      {
        "duration": 242,
        "start_time": "2023-04-15T15:04:13.466Z"
      },
      {
        "duration": 56,
        "start_time": "2023-04-15T15:04:20.912Z"
      },
      {
        "duration": 20,
        "start_time": "2023-04-15T15:07:51.486Z"
      },
      {
        "duration": 148,
        "start_time": "2023-04-15T15:12:40.487Z"
      },
      {
        "duration": 61,
        "start_time": "2023-04-15T15:13:02.798Z"
      },
      {
        "duration": 19,
        "start_time": "2023-04-15T15:19:10.091Z"
      },
      {
        "duration": 31,
        "start_time": "2023-04-15T15:21:34.169Z"
      },
      {
        "duration": 27,
        "start_time": "2023-04-15T15:21:45.234Z"
      },
      {
        "duration": 3573,
        "start_time": "2023-04-15T15:23:21.232Z"
      },
      {
        "duration": 4166,
        "start_time": "2023-04-15T15:23:24.807Z"
      },
      {
        "duration": 46,
        "start_time": "2023-04-15T15:23:28.975Z"
      },
      {
        "duration": 26,
        "start_time": "2023-04-15T15:23:29.024Z"
      },
      {
        "duration": 31,
        "start_time": "2023-04-15T15:23:29.052Z"
      },
      {
        "duration": 15,
        "start_time": "2023-04-15T15:23:29.085Z"
      },
      {
        "duration": 60,
        "start_time": "2023-04-15T15:23:29.102Z"
      },
      {
        "duration": 30,
        "start_time": "2023-04-15T15:23:29.165Z"
      },
      {
        "duration": 5,
        "start_time": "2023-04-15T15:23:29.198Z"
      },
      {
        "duration": 210,
        "start_time": "2023-04-15T15:23:29.207Z"
      },
      {
        "duration": 47,
        "start_time": "2023-04-15T15:23:29.419Z"
      },
      {
        "duration": 35,
        "start_time": "2023-04-15T15:23:29.468Z"
      },
      {
        "duration": 4,
        "start_time": "2023-04-15T15:23:29.506Z"
      },
      {
        "duration": 861,
        "start_time": "2023-04-15T15:23:29.511Z"
      },
      {
        "duration": 820,
        "start_time": "2023-04-15T15:23:30.374Z"
      },
      {
        "duration": 694,
        "start_time": "2023-04-15T15:23:31.197Z"
      },
      {
        "duration": 904,
        "start_time": "2023-04-15T15:23:31.893Z"
      },
      {
        "duration": 722,
        "start_time": "2023-04-15T15:23:32.799Z"
      },
      {
        "duration": 4,
        "start_time": "2023-04-15T15:23:33.523Z"
      },
      {
        "duration": 355,
        "start_time": "2023-04-15T15:23:33.529Z"
      },
      {
        "duration": 301,
        "start_time": "2023-04-15T15:23:33.886Z"
      },
      {
        "duration": 457,
        "start_time": "2023-04-15T15:23:34.190Z"
      },
      {
        "duration": 12,
        "start_time": "2023-04-15T15:23:34.649Z"
      },
      {
        "duration": 22,
        "start_time": "2023-04-15T15:23:34.669Z"
      },
      {
        "duration": 26,
        "start_time": "2023-04-15T15:23:34.693Z"
      },
      {
        "duration": 22,
        "start_time": "2023-04-15T15:23:34.721Z"
      },
      {
        "duration": 54,
        "start_time": "2023-04-15T15:23:34.745Z"
      },
      {
        "duration": 32,
        "start_time": "2023-04-15T15:23:34.803Z"
      },
      {
        "duration": 10,
        "start_time": "2023-04-15T15:23:34.838Z"
      },
      {
        "duration": 46,
        "start_time": "2023-04-15T15:23:34.850Z"
      },
      {
        "duration": 26,
        "start_time": "2023-04-15T15:23:34.898Z"
      },
      {
        "duration": 8184,
        "start_time": "2023-04-15T15:23:34.926Z"
      },
      {
        "duration": 18269,
        "start_time": "2023-04-15T15:23:43.112Z"
      },
      {
        "duration": 3,
        "start_time": "2023-04-15T15:24:01.384Z"
      },
      {
        "duration": 202701,
        "start_time": "2023-04-15T15:24:01.389Z"
      },
      {
        "duration": 729903,
        "start_time": "2023-04-15T15:27:24.092Z"
      },
      {
        "duration": 3,
        "start_time": "2023-04-15T15:39:33.997Z"
      },
      {
        "duration": 1259,
        "start_time": "2023-04-15T15:39:34.002Z"
      },
      {
        "duration": 4708,
        "start_time": "2023-04-15T15:39:35.267Z"
      },
      {
        "duration": 329,
        "start_time": "2023-04-15T15:39:39.977Z"
      },
      {
        "duration": 242,
        "start_time": "2023-04-15T15:39:40.309Z"
      },
      {
        "duration": 2206,
        "start_time": "2023-04-15T15:39:40.553Z"
      },
      {
        "duration": 7,
        "start_time": "2023-04-15T15:45:26.789Z"
      },
      {
        "duration": 6,
        "start_time": "2023-04-15T15:48:45.811Z"
      },
      {
        "duration": 196,
        "start_time": "2023-04-15T15:48:58.562Z"
      },
      {
        "duration": 289,
        "start_time": "2023-04-15T15:49:01.457Z"
      },
      {
        "duration": 166,
        "start_time": "2023-04-15T15:52:30.235Z"
      },
      {
        "duration": 1819,
        "start_time": "2023-04-15T15:54:00.341Z"
      },
      {
        "duration": 3005,
        "start_time": "2023-04-15T15:54:02.162Z"
      },
      {
        "duration": 28,
        "start_time": "2023-04-15T15:54:05.169Z"
      },
      {
        "duration": 35,
        "start_time": "2023-04-15T15:54:05.199Z"
      },
      {
        "duration": 28,
        "start_time": "2023-04-15T15:54:05.237Z"
      },
      {
        "duration": 26,
        "start_time": "2023-04-15T15:54:05.267Z"
      },
      {
        "duration": 30,
        "start_time": "2023-04-15T15:54:05.294Z"
      },
      {
        "duration": 28,
        "start_time": "2023-04-15T15:54:05.326Z"
      },
      {
        "duration": 4,
        "start_time": "2023-04-15T15:54:05.356Z"
      },
      {
        "duration": 182,
        "start_time": "2023-04-15T15:54:05.362Z"
      },
      {
        "duration": 26,
        "start_time": "2023-04-15T15:54:05.547Z"
      },
      {
        "duration": 46,
        "start_time": "2023-04-15T15:54:05.575Z"
      },
      {
        "duration": 13,
        "start_time": "2023-04-15T15:54:05.623Z"
      },
      {
        "duration": 755,
        "start_time": "2023-04-15T15:54:05.640Z"
      },
      {
        "duration": 756,
        "start_time": "2023-04-15T15:54:06.397Z"
      },
      {
        "duration": 619,
        "start_time": "2023-04-15T15:54:07.155Z"
      },
      {
        "duration": 835,
        "start_time": "2023-04-15T15:54:07.776Z"
      },
      {
        "duration": 695,
        "start_time": "2023-04-15T15:54:08.613Z"
      },
      {
        "duration": 5,
        "start_time": "2023-04-15T15:54:09.310Z"
      },
      {
        "duration": 308,
        "start_time": "2023-04-15T15:54:09.317Z"
      },
      {
        "duration": 286,
        "start_time": "2023-04-15T15:54:09.627Z"
      },
      {
        "duration": 436,
        "start_time": "2023-04-15T15:54:09.916Z"
      },
      {
        "duration": 5,
        "start_time": "2023-04-15T15:54:10.354Z"
      },
      {
        "duration": 14,
        "start_time": "2023-04-15T15:54:10.361Z"
      },
      {
        "duration": 22,
        "start_time": "2023-04-15T15:54:10.377Z"
      },
      {
        "duration": 30,
        "start_time": "2023-04-15T15:54:10.401Z"
      },
      {
        "duration": 27,
        "start_time": "2023-04-15T15:54:10.433Z"
      },
      {
        "duration": 34,
        "start_time": "2023-04-15T15:54:10.462Z"
      },
      {
        "duration": 11,
        "start_time": "2023-04-15T15:54:10.498Z"
      },
      {
        "duration": 25,
        "start_time": "2023-04-15T15:54:10.510Z"
      },
      {
        "duration": 7,
        "start_time": "2023-04-15T15:54:10.537Z"
      },
      {
        "duration": 7799,
        "start_time": "2023-04-15T15:54:10.547Z"
      },
      {
        "duration": 18085,
        "start_time": "2023-04-15T15:54:18.348Z"
      },
      {
        "duration": 7,
        "start_time": "2023-04-15T15:54:36.436Z"
      },
      {
        "duration": 92542,
        "start_time": "2023-04-15T15:54:36.445Z"
      },
      {
        "duration": 0,
        "start_time": "2023-04-15T15:56:08.989Z"
      },
      {
        "duration": 0,
        "start_time": "2023-04-15T15:56:08.991Z"
      },
      {
        "duration": 0,
        "start_time": "2023-04-15T15:56:08.993Z"
      },
      {
        "duration": 0,
        "start_time": "2023-04-15T15:56:08.994Z"
      },
      {
        "duration": 0,
        "start_time": "2023-04-15T15:56:08.996Z"
      },
      {
        "duration": 0,
        "start_time": "2023-04-15T15:56:08.998Z"
      },
      {
        "duration": 0,
        "start_time": "2023-04-15T15:56:08.999Z"
      },
      {
        "duration": 0,
        "start_time": "2023-04-15T15:56:09.001Z"
      },
      {
        "duration": 9,
        "start_time": "2023-04-15T15:56:26.152Z"
      },
      {
        "duration": 1585,
        "start_time": "2023-04-15T15:57:37.313Z"
      },
      {
        "duration": 856,
        "start_time": "2023-04-15T15:57:38.901Z"
      },
      {
        "duration": 31,
        "start_time": "2023-04-15T15:57:39.759Z"
      },
      {
        "duration": 19,
        "start_time": "2023-04-15T15:57:39.793Z"
      },
      {
        "duration": 56,
        "start_time": "2023-04-15T15:57:39.814Z"
      },
      {
        "duration": 23,
        "start_time": "2023-04-15T15:57:39.872Z"
      },
      {
        "duration": 24,
        "start_time": "2023-04-15T15:57:39.897Z"
      },
      {
        "duration": 24,
        "start_time": "2023-04-15T15:57:39.941Z"
      },
      {
        "duration": 7,
        "start_time": "2023-04-15T15:57:39.967Z"
      },
      {
        "duration": 191,
        "start_time": "2023-04-15T15:57:39.978Z"
      },
      {
        "duration": 26,
        "start_time": "2023-04-15T15:57:40.172Z"
      },
      {
        "duration": 47,
        "start_time": "2023-04-15T15:57:40.200Z"
      },
      {
        "duration": 6,
        "start_time": "2023-04-15T15:57:40.249Z"
      },
      {
        "duration": 658,
        "start_time": "2023-04-15T15:57:40.257Z"
      },
      {
        "duration": 756,
        "start_time": "2023-04-15T15:57:40.918Z"
      },
      {
        "duration": 633,
        "start_time": "2023-04-15T15:57:41.676Z"
      },
      {
        "duration": 852,
        "start_time": "2023-04-15T15:57:42.311Z"
      },
      {
        "duration": 691,
        "start_time": "2023-04-15T15:57:43.165Z"
      },
      {
        "duration": 5,
        "start_time": "2023-04-15T15:57:43.859Z"
      },
      {
        "duration": 311,
        "start_time": "2023-04-15T15:57:43.867Z"
      },
      {
        "duration": 291,
        "start_time": "2023-04-15T15:57:44.180Z"
      },
      {
        "duration": 447,
        "start_time": "2023-04-15T15:57:44.472Z"
      },
      {
        "duration": 4,
        "start_time": "2023-04-15T15:57:44.921Z"
      },
      {
        "duration": 19,
        "start_time": "2023-04-15T15:57:44.927Z"
      },
      {
        "duration": 12,
        "start_time": "2023-04-15T15:57:44.955Z"
      },
      {
        "duration": 15,
        "start_time": "2023-04-15T15:57:44.969Z"
      },
      {
        "duration": 15,
        "start_time": "2023-04-15T15:57:44.986Z"
      },
      {
        "duration": 62,
        "start_time": "2023-04-15T15:57:45.006Z"
      },
      {
        "duration": 7,
        "start_time": "2023-04-15T15:57:45.070Z"
      },
      {
        "duration": 18,
        "start_time": "2023-04-15T15:57:45.079Z"
      },
      {
        "duration": 11,
        "start_time": "2023-04-15T15:57:45.099Z"
      },
      {
        "duration": 8150,
        "start_time": "2023-04-15T15:57:45.112Z"
      },
      {
        "duration": 17109,
        "start_time": "2023-04-15T15:57:53.264Z"
      },
      {
        "duration": 4,
        "start_time": "2023-04-15T15:58:10.376Z"
      },
      {
        "duration": 139602,
        "start_time": "2023-04-15T15:58:10.382Z"
      },
      {
        "duration": 431119,
        "start_time": "2023-04-15T16:00:29.986Z"
      },
      {
        "duration": 0,
        "start_time": "2023-04-15T16:07:41.107Z"
      },
      {
        "duration": 0,
        "start_time": "2023-04-15T16:07:41.108Z"
      },
      {
        "duration": 0,
        "start_time": "2023-04-15T16:07:41.109Z"
      },
      {
        "duration": 0,
        "start_time": "2023-04-15T16:07:41.111Z"
      },
      {
        "duration": 0,
        "start_time": "2023-04-15T16:07:41.112Z"
      },
      {
        "duration": 0,
        "start_time": "2023-04-15T16:07:41.113Z"
      },
      {
        "duration": 0,
        "start_time": "2023-04-15T16:07:41.114Z"
      },
      {
        "duration": 11,
        "start_time": "2023-04-15T16:07:46.258Z"
      },
      {
        "duration": 645690,
        "start_time": "2023-04-15T16:07:57.082Z"
      },
      {
        "duration": 4,
        "start_time": "2023-04-15T16:19:05.324Z"
      },
      {
        "duration": 1207,
        "start_time": "2023-04-15T16:19:07.838Z"
      },
      {
        "duration": 3381,
        "start_time": "2023-04-15T16:19:10.993Z"
      },
      {
        "duration": 169,
        "start_time": "2023-04-15T16:19:19.502Z"
      },
      {
        "duration": 277,
        "start_time": "2023-04-15T16:19:22.697Z"
      },
      {
        "duration": 472,
        "start_time": "2023-04-15T16:19:24.996Z"
      },
      {
        "duration": 28,
        "start_time": "2023-04-15T16:19:27.432Z"
      },
      {
        "duration": 169,
        "start_time": "2023-04-15T16:27:40.507Z"
      },
      {
        "duration": 773,
        "start_time": "2023-04-15T16:27:44.780Z"
      },
      {
        "duration": 213,
        "start_time": "2023-04-15T16:28:47.387Z"
      },
      {
        "duration": 52,
        "start_time": "2023-04-16T11:36:01.122Z"
      },
      {
        "duration": 1575,
        "start_time": "2023-04-16T11:59:50.107Z"
      },
      {
        "duration": 1908,
        "start_time": "2023-04-16T11:59:51.685Z"
      },
      {
        "duration": 26,
        "start_time": "2023-04-16T11:59:53.595Z"
      },
      {
        "duration": 56,
        "start_time": "2023-04-16T11:59:53.622Z"
      },
      {
        "duration": 31,
        "start_time": "2023-04-16T11:59:53.681Z"
      },
      {
        "duration": 34,
        "start_time": "2023-04-16T11:59:53.714Z"
      },
      {
        "duration": 39,
        "start_time": "2023-04-16T11:59:53.750Z"
      },
      {
        "duration": 22,
        "start_time": "2023-04-16T11:59:53.791Z"
      },
      {
        "duration": 4,
        "start_time": "2023-04-16T11:59:53.815Z"
      },
      {
        "duration": 168,
        "start_time": "2023-04-16T11:59:53.821Z"
      },
      {
        "duration": 58,
        "start_time": "2023-04-16T11:59:53.993Z"
      },
      {
        "duration": 21,
        "start_time": "2023-04-16T11:59:54.053Z"
      },
      {
        "duration": 9,
        "start_time": "2023-04-16T11:59:54.094Z"
      },
      {
        "duration": 592,
        "start_time": "2023-04-16T11:59:54.106Z"
      },
      {
        "duration": 750,
        "start_time": "2023-04-16T11:59:54.700Z"
      },
      {
        "duration": 624,
        "start_time": "2023-04-16T11:59:55.452Z"
      },
      {
        "duration": 767,
        "start_time": "2023-04-16T11:59:56.077Z"
      },
      {
        "duration": 637,
        "start_time": "2023-04-16T11:59:56.846Z"
      },
      {
        "duration": 5,
        "start_time": "2023-04-16T11:59:57.494Z"
      },
      {
        "duration": 291,
        "start_time": "2023-04-16T11:59:57.501Z"
      },
      {
        "duration": 273,
        "start_time": "2023-04-16T11:59:57.794Z"
      },
      {
        "duration": 411,
        "start_time": "2023-04-16T11:59:58.070Z"
      },
      {
        "duration": 3,
        "start_time": "2023-04-16T11:59:58.483Z"
      },
      {
        "duration": 123,
        "start_time": "2023-04-16T11:59:58.492Z"
      },
      {
        "duration": 0,
        "start_time": "2023-04-16T11:59:58.617Z"
      },
      {
        "duration": 0,
        "start_time": "2023-04-16T11:59:58.618Z"
      },
      {
        "duration": 0,
        "start_time": "2023-04-16T11:59:58.619Z"
      },
      {
        "duration": 0,
        "start_time": "2023-04-16T11:59:58.620Z"
      },
      {
        "duration": 0,
        "start_time": "2023-04-16T11:59:58.621Z"
      },
      {
        "duration": 1,
        "start_time": "2023-04-16T11:59:58.622Z"
      },
      {
        "duration": 0,
        "start_time": "2023-04-16T11:59:58.624Z"
      },
      {
        "duration": 0,
        "start_time": "2023-04-16T11:59:58.625Z"
      },
      {
        "duration": 0,
        "start_time": "2023-04-16T11:59:58.626Z"
      },
      {
        "duration": 0,
        "start_time": "2023-04-16T11:59:58.628Z"
      },
      {
        "duration": 0,
        "start_time": "2023-04-16T11:59:58.630Z"
      },
      {
        "duration": 0,
        "start_time": "2023-04-16T11:59:58.631Z"
      },
      {
        "duration": 0,
        "start_time": "2023-04-16T11:59:58.633Z"
      },
      {
        "duration": 0,
        "start_time": "2023-04-16T11:59:58.635Z"
      },
      {
        "duration": 0,
        "start_time": "2023-04-16T11:59:58.637Z"
      },
      {
        "duration": 0,
        "start_time": "2023-04-16T11:59:58.639Z"
      },
      {
        "duration": 0,
        "start_time": "2023-04-16T11:59:58.640Z"
      },
      {
        "duration": 0,
        "start_time": "2023-04-16T11:59:58.642Z"
      },
      {
        "duration": 0,
        "start_time": "2023-04-16T11:59:58.643Z"
      },
      {
        "duration": 5,
        "start_time": "2023-04-16T12:01:01.651Z"
      },
      {
        "duration": 3,
        "start_time": "2023-04-16T12:01:04.947Z"
      },
      {
        "duration": 7,
        "start_time": "2023-04-16T12:01:07.406Z"
      },
      {
        "duration": 9,
        "start_time": "2023-04-16T12:01:08.461Z"
      },
      {
        "duration": 11,
        "start_time": "2023-04-16T12:01:08.884Z"
      },
      {
        "duration": 22,
        "start_time": "2023-04-16T12:01:09.585Z"
      },
      {
        "duration": 7,
        "start_time": "2023-04-16T12:01:10.048Z"
      },
      {
        "duration": 10,
        "start_time": "2023-04-16T12:01:10.408Z"
      },
      {
        "duration": 3,
        "start_time": "2023-04-16T12:01:13.298Z"
      },
      {
        "duration": 7659,
        "start_time": "2023-04-16T12:01:14.720Z"
      },
      {
        "duration": 5,
        "start_time": "2023-04-16T12:02:06.597Z"
      },
      {
        "duration": 6503,
        "start_time": "2023-04-16T12:02:40.858Z"
      },
      {
        "duration": 16882,
        "start_time": "2023-04-16T12:02:51.903Z"
      },
      {
        "duration": 5,
        "start_time": "2023-04-16T12:03:24.270Z"
      },
      {
        "duration": 221049,
        "start_time": "2023-04-16T12:03:43.746Z"
      },
      {
        "duration": 573872,
        "start_time": "2023-04-16T12:07:24.798Z"
      },
      {
        "duration": 4,
        "start_time": "2023-04-16T12:16:58.672Z"
      },
      {
        "duration": 812,
        "start_time": "2023-04-16T12:16:58.683Z"
      },
      {
        "duration": 1693,
        "start_time": "2023-04-16T12:16:59.513Z"
      },
      {
        "duration": 132,
        "start_time": "2023-04-16T12:17:01.215Z"
      },
      {
        "duration": 111,
        "start_time": "2023-04-16T12:35:02.330Z"
      },
      {
        "duration": 3,
        "start_time": "2023-04-16T12:52:25.122Z"
      },
      {
        "duration": 48,
        "start_time": "2023-04-16T12:52:26.790Z"
      },
      {
        "duration": 63,
        "start_time": "2023-04-16T12:53:37.878Z"
      },
      {
        "duration": 44,
        "start_time": "2023-04-16T12:55:10.613Z"
      },
      {
        "duration": 47,
        "start_time": "2023-04-16T12:55:25.322Z"
      },
      {
        "duration": 17,
        "start_time": "2023-04-16T12:56:12.138Z"
      },
      {
        "duration": 45,
        "start_time": "2023-04-16T13:01:20.818Z"
      },
      {
        "duration": 3,
        "start_time": "2023-04-16T13:01:48.286Z"
      },
      {
        "duration": 40155,
        "start_time": "2023-04-16T13:01:54.215Z"
      },
      {
        "duration": 7,
        "start_time": "2023-04-16T13:03:30.681Z"
      },
      {
        "duration": 16209,
        "start_time": "2023-04-16T13:03:31.841Z"
      },
      {
        "duration": 5,
        "start_time": "2023-04-16T13:04:20.983Z"
      },
      {
        "duration": 17,
        "start_time": "2023-04-16T13:04:22.947Z"
      },
      {
        "duration": 4,
        "start_time": "2023-04-16T13:05:15.520Z"
      },
      {
        "duration": 408028,
        "start_time": "2023-04-16T13:05:16.612Z"
      },
      {
        "duration": 1451,
        "start_time": "2023-04-16T13:49:58.840Z"
      },
      {
        "duration": 769,
        "start_time": "2023-04-16T13:50:00.293Z"
      },
      {
        "duration": 31,
        "start_time": "2023-04-16T13:50:01.064Z"
      },
      {
        "duration": 18,
        "start_time": "2023-04-16T13:50:01.097Z"
      },
      {
        "duration": 33,
        "start_time": "2023-04-16T13:50:01.117Z"
      },
      {
        "duration": 37,
        "start_time": "2023-04-16T13:50:01.153Z"
      },
      {
        "duration": 38,
        "start_time": "2023-04-16T13:50:01.192Z"
      },
      {
        "duration": 45,
        "start_time": "2023-04-16T13:50:01.232Z"
      },
      {
        "duration": 4,
        "start_time": "2023-04-16T13:50:01.279Z"
      },
      {
        "duration": 178,
        "start_time": "2023-04-16T13:50:01.285Z"
      },
      {
        "duration": 87,
        "start_time": "2023-04-16T13:50:01.465Z"
      },
      {
        "duration": 22,
        "start_time": "2023-04-16T13:50:01.554Z"
      },
      {
        "duration": 16,
        "start_time": "2023-04-16T13:50:01.577Z"
      },
      {
        "duration": 616,
        "start_time": "2023-04-16T13:50:01.598Z"
      },
      {
        "duration": 940,
        "start_time": "2023-04-16T13:50:02.216Z"
      },
      {
        "duration": 570,
        "start_time": "2023-04-16T13:50:03.159Z"
      },
      {
        "duration": 749,
        "start_time": "2023-04-16T13:50:03.731Z"
      },
      {
        "duration": 671,
        "start_time": "2023-04-16T13:50:04.482Z"
      },
      {
        "duration": 5,
        "start_time": "2023-04-16T13:50:05.155Z"
      },
      {
        "duration": 322,
        "start_time": "2023-04-16T13:50:05.162Z"
      },
      {
        "duration": 290,
        "start_time": "2023-04-16T13:50:05.485Z"
      },
      {
        "duration": 381,
        "start_time": "2023-04-16T13:50:05.777Z"
      },
      {
        "duration": 4,
        "start_time": "2023-04-16T13:50:06.161Z"
      },
      {
        "duration": 12,
        "start_time": "2023-04-16T13:50:06.168Z"
      },
      {
        "duration": 30,
        "start_time": "2023-04-16T13:50:06.182Z"
      },
      {
        "duration": 16,
        "start_time": "2023-04-16T13:50:06.215Z"
      },
      {
        "duration": 31,
        "start_time": "2023-04-16T13:50:06.234Z"
      },
      {
        "duration": 47,
        "start_time": "2023-04-16T13:50:06.267Z"
      },
      {
        "duration": 8,
        "start_time": "2023-04-16T13:50:06.317Z"
      },
      {
        "duration": 56,
        "start_time": "2023-04-16T13:50:06.327Z"
      },
      {
        "duration": 11,
        "start_time": "2023-04-16T13:50:06.385Z"
      },
      {
        "duration": 6279,
        "start_time": "2023-04-16T13:50:06.398Z"
      },
      {
        "duration": 15649,
        "start_time": "2023-04-16T13:50:12.679Z"
      },
      {
        "duration": 3,
        "start_time": "2023-04-16T13:50:28.330Z"
      },
      {
        "duration": 195799,
        "start_time": "2023-04-16T13:50:28.335Z"
      },
      {
        "duration": 726492,
        "start_time": "2023-04-16T13:53:44.137Z"
      },
      {
        "duration": 4,
        "start_time": "2023-04-16T14:05:50.631Z"
      },
      {
        "duration": 1073,
        "start_time": "2023-04-16T14:05:50.637Z"
      },
      {
        "duration": 2098,
        "start_time": "2023-04-16T14:05:51.715Z"
      },
      {
        "duration": 5,
        "start_time": "2023-04-16T14:05:53.815Z"
      },
      {
        "duration": 31990,
        "start_time": "2023-04-16T14:05:53.897Z"
      },
      {
        "duration": 40042,
        "start_time": "2023-04-16T14:06:25.889Z"
      },
      {
        "duration": 4,
        "start_time": "2023-04-16T14:07:05.933Z"
      },
      {
        "duration": 58374,
        "start_time": "2023-04-16T14:07:05.939Z"
      },
      {
        "duration": 141394,
        "start_time": "2023-04-16T14:08:04.314Z"
      },
      {
        "duration": 207,
        "start_time": "2023-04-16T14:10:25.710Z"
      },
      {
        "duration": 17,
        "start_time": "2023-04-16T14:10:25.919Z"
      },
      {
        "duration": 521,
        "start_time": "2023-04-16T14:10:25.996Z"
      },
      {
        "duration": 106,
        "start_time": "2023-04-16T14:10:26.593Z"
      },
      {
        "duration": 6967,
        "start_time": "2023-04-16T14:14:45.615Z"
      },
      {
        "duration": 3563,
        "start_time": "2023-04-16T14:14:59.808Z"
      },
      {
        "duration": 52,
        "start_time": "2023-04-16T14:15:25.815Z"
      }
    ],
    "kernelspec": {
      "display_name": "Python 3 (ipykernel)",
      "language": "python",
      "name": "python3"
    },
    "language_info": {
      "codemirror_mode": {
        "name": "ipython",
        "version": 3
      },
      "file_extension": ".py",
      "mimetype": "text/x-python",
      "name": "python",
      "nbconvert_exporter": "python",
      "pygments_lexer": "ipython3",
      "version": "3.9.5"
    },
    "toc": {
      "base_numbering": 1,
      "nav_menu": {},
      "number_sections": true,
      "sideBar": true,
      "skip_h1_title": true,
      "title_cell": "Содержание",
      "title_sidebar": "Contents",
      "toc_cell": true,
      "toc_position": {
        "height": "calc(100% - 180px)",
        "left": "10px",
        "top": "150px",
        "width": "351px"
      },
      "toc_section_display": true,
      "toc_window_display": true
    },
    "colab": {
      "provenance": []
    }
  },
  "nbformat": 4,
  "nbformat_minor": 0
}