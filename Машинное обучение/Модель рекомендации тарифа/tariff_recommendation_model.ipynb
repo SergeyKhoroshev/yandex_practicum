{
  "cells": [
    {
      "cell_type": "markdown",
      "metadata": {
        "id": "B34at-Zf2sDw"
      },
      "source": [
        "# Рекомендация тарифов"
      ]
    },
    {
      "cell_type": "markdown",
      "metadata": {
        "id": "-YUEByHu2sDx"
      },
      "source": [
        "Цель: построить модель для классификации пользователей, которая определит наиболее подходящий тариф\n",
        "\n",
        "План:\n",
        "\n",
        "1. Общая информация\n",
        "\n",
        "2. Разделение данных на выборки\n",
        "\n",
        "3. Исследование моделей\n",
        "\n",
        "4. Проверка модели на тестовой выборке\n",
        "\n",
        "5. Проверка модели на адекватность\n",
        "\n",
        "Решать задачу мы будем с помощью машинного обучения с учителем моделями классификации"
      ]
    },
    {
      "cell_type": "markdown",
      "metadata": {
        "id": "okndrhTh2sDx"
      },
      "source": [
        "## 1. Общая информация"
      ]
    },
    {
      "cell_type": "code",
      "execution_count": null,
      "metadata": {
        "id": "4fOBtzPG2sDx"
      },
      "outputs": [],
      "source": [
        "import pandas as pd\n",
        "from sklearn.model_selection import train_test_split\n",
        "from sklearn.tree import DecisionTreeClassifier\n",
        "from sklearn.ensemble import RandomForestClassifier\n",
        "from sklearn.linear_model import LogisticRegression\n",
        "from sklearn.dummy import DummyClassifier"
      ]
    },
    {
      "cell_type": "code",
      "execution_count": null,
      "metadata": {
        "id": "PrerLItr2sDy"
      },
      "outputs": [],
      "source": [
        "data = pd.read_csv('/datasets/users_behavior.csv')"
      ]
    },
    {
      "cell_type": "code",
      "execution_count": null,
      "metadata": {
        "id": "UwgpHJeV2sDy",
        "outputId": "3270619e-fb59-4da7-941b-a4a9f491f338"
      },
      "outputs": [
        {
          "data": {
            "text/html": [
              "<div>\n",
              "<style scoped>\n",
              "    .dataframe tbody tr th:only-of-type {\n",
              "        vertical-align: middle;\n",
              "    }\n",
              "\n",
              "    .dataframe tbody tr th {\n",
              "        vertical-align: top;\n",
              "    }\n",
              "\n",
              "    .dataframe thead th {\n",
              "        text-align: right;\n",
              "    }\n",
              "</style>\n",
              "<table border=\"1\" class=\"dataframe\">\n",
              "  <thead>\n",
              "    <tr style=\"text-align: right;\">\n",
              "      <th></th>\n",
              "      <th>calls</th>\n",
              "      <th>minutes</th>\n",
              "      <th>messages</th>\n",
              "      <th>mb_used</th>\n",
              "      <th>is_ultra</th>\n",
              "    </tr>\n",
              "  </thead>\n",
              "  <tbody>\n",
              "    <tr>\n",
              "      <th>0</th>\n",
              "      <td>40.0</td>\n",
              "      <td>311.90</td>\n",
              "      <td>83.0</td>\n",
              "      <td>19915.42</td>\n",
              "      <td>0</td>\n",
              "    </tr>\n",
              "    <tr>\n",
              "      <th>1</th>\n",
              "      <td>85.0</td>\n",
              "      <td>516.75</td>\n",
              "      <td>56.0</td>\n",
              "      <td>22696.96</td>\n",
              "      <td>0</td>\n",
              "    </tr>\n",
              "    <tr>\n",
              "      <th>2</th>\n",
              "      <td>77.0</td>\n",
              "      <td>467.66</td>\n",
              "      <td>86.0</td>\n",
              "      <td>21060.45</td>\n",
              "      <td>0</td>\n",
              "    </tr>\n",
              "    <tr>\n",
              "      <th>3</th>\n",
              "      <td>106.0</td>\n",
              "      <td>745.53</td>\n",
              "      <td>81.0</td>\n",
              "      <td>8437.39</td>\n",
              "      <td>1</td>\n",
              "    </tr>\n",
              "    <tr>\n",
              "      <th>4</th>\n",
              "      <td>66.0</td>\n",
              "      <td>418.74</td>\n",
              "      <td>1.0</td>\n",
              "      <td>14502.75</td>\n",
              "      <td>0</td>\n",
              "    </tr>\n",
              "  </tbody>\n",
              "</table>\n",
              "</div>"
            ],
            "text/plain": [
              "   calls  minutes  messages   mb_used  is_ultra\n",
              "0   40.0   311.90      83.0  19915.42         0\n",
              "1   85.0   516.75      56.0  22696.96         0\n",
              "2   77.0   467.66      86.0  21060.45         0\n",
              "3  106.0   745.53      81.0   8437.39         1\n",
              "4   66.0   418.74       1.0  14502.75         0"
            ]
          },
          "execution_count": 3,
          "metadata": {},
          "output_type": "execute_result"
        }
      ],
      "source": [
        "data.head()"
      ]
    },
    {
      "cell_type": "code",
      "execution_count": null,
      "metadata": {
        "id": "YVTpyN2y2sDy",
        "outputId": "4cb4dee3-b720-4fdb-e96e-a6f51813946f"
      },
      "outputs": [
        {
          "name": "stdout",
          "output_type": "stream",
          "text": [
            "<class 'pandas.core.frame.DataFrame'>\n",
            "RangeIndex: 3214 entries, 0 to 3213\n",
            "Data columns (total 5 columns):\n",
            " #   Column    Non-Null Count  Dtype  \n",
            "---  ------    --------------  -----  \n",
            " 0   calls     3214 non-null   float64\n",
            " 1   minutes   3214 non-null   float64\n",
            " 2   messages  3214 non-null   float64\n",
            " 3   mb_used   3214 non-null   float64\n",
            " 4   is_ultra  3214 non-null   int64  \n",
            "dtypes: float64(4), int64(1)\n",
            "memory usage: 125.7 KB\n"
          ]
        }
      ],
      "source": [
        "data.info()"
      ]
    },
    {
      "cell_type": "markdown",
      "metadata": {
        "id": "plbwaWBz2sDz"
      },
      "source": [
        "Как видно из общей информации по данным, пропусков нет, типы данных верны. Логично, ведь они уже прошли предобработку, а значит можно приступить к делению на выборки. "
      ]
    },
    {
      "cell_type": "markdown",
      "metadata": {
        "id": "febP8H4J2sD0"
      },
      "source": [
        "## 2. Разделение данных на выборки"
      ]
    },
    {
      "cell_type": "markdown",
      "metadata": {
        "id": "Irudeayp2sD0"
      },
      "source": [
        "Разделим наш датасет на признаки и целевой признак. Далее из них сделаем 3 выборки: для обучения модели, валидационную и тестовую. Отделим сначала 25% для валидационной выборки, а затем от оставшихся 75% обучающей отделим ещё 25% для теста"
      ]
    },
    {
      "cell_type": "code",
      "execution_count": null,
      "metadata": {
        "id": "m--xWuQ12sD0"
      },
      "outputs": [],
      "source": [
        "features = data.drop(['is_ultra'], axis=1)\n",
        "target = data['is_ultra']\n",
        "\n",
        "features_train, features_valid, target_train, target_valid = train_test_split(\n",
        "    features, target, test_size=0.25, random_state=1, stratify=target)\n",
        "features_train, features_test, target_train, target_test = train_test_split(\n",
        "    features_train, target_train, test_size=0.25, random_state=1, stratify=target_train)"
      ]
    },
    {
      "cell_type": "markdown",
      "metadata": {
        "id": "O6QiYl6O2sD0"
      },
      "source": [
        "Оценим соотношение размеров выборок"
      ]
    },
    {
      "cell_type": "code",
      "execution_count": null,
      "metadata": {
        "id": "c3fGkO5K2sD0",
        "outputId": "2427c7ba-07c6-476c-fbaa-b6a9fac03808"
      },
      "outputs": [
        {
          "data": {
            "text/plain": [
              "1807"
            ]
          },
          "execution_count": 7,
          "metadata": {},
          "output_type": "execute_result"
        }
      ],
      "source": [
        "features_train.shape[0]"
      ]
    },
    {
      "cell_type": "code",
      "execution_count": null,
      "metadata": {
        "id": "SQx3w9_g2sD0",
        "outputId": "16ed401f-8d0a-4c07-88ad-e49661eb4c19"
      },
      "outputs": [
        {
          "data": {
            "text/plain": [
              "804"
            ]
          },
          "execution_count": 8,
          "metadata": {},
          "output_type": "execute_result"
        }
      ],
      "source": [
        "features_valid.shape[0]"
      ]
    },
    {
      "cell_type": "code",
      "execution_count": null,
      "metadata": {
        "id": "nVC94Xz32sD0",
        "outputId": "3c7077d3-9365-4fe1-a5ca-56ed253a9b19"
      },
      "outputs": [
        {
          "data": {
            "text/plain": [
              "603"
            ]
          },
          "execution_count": 9,
          "metadata": {},
          "output_type": "execute_result"
        }
      ],
      "source": [
        "features_test.shape[0]"
      ]
    },
    {
      "cell_type": "markdown",
      "source": [
        "Доли размеров train/test/valid примерно 3:1:1, что является правильным соотношением выборок"
      ],
      "metadata": {
        "id": "DyvBpKcT3iIf"
      }
    },
    {
      "cell_type": "markdown",
      "metadata": {
        "id": "rmoUqRLt2sD1"
      },
      "source": [
        "## 3. Исследование моделей"
      ]
    },
    {
      "cell_type": "markdown",
      "metadata": {
        "id": "xK4caFeR2sD1"
      },
      "source": [
        "Сперва попробуем модель решающего дерева"
      ]
    },
    {
      "cell_type": "code",
      "execution_count": null,
      "metadata": {
        "id": "cwoSFB_B2sD1",
        "outputId": "dcb2a075-1172-4f40-c611-8366755bc306"
      },
      "outputs": [
        {
          "name": "stdout",
          "output_type": "stream",
          "text": [
            "Accuracy наилучшей модели на валидационной выборке: 0.8072139303482587 Максимальная глубина: 10\n"
          ]
        }
      ],
      "source": [
        "best_model = None\n",
        "best_accuracy = 0\n",
        "best_depth = 0\n",
        "for depth in range(1, 11):\n",
        "        model = DecisionTreeClassifier(random_state=1, max_depth=depth)\n",
        "        model.fit(features_train, target_train)\n",
        "        accuracy = model.score(features_valid, target_valid)\n",
        "        if accuracy > best_accuracy:\n",
        "            best_model = model\n",
        "            best_accuracy = accuracy\n",
        "            best_depth = depth\n",
        "print('Accuracy наилучшей модели на валидационной выборке:', best_accuracy, 'Максимальная глубина:', depth)            "
      ]
    },
    {
      "cell_type": "markdown",
      "metadata": {
        "id": "aB3Aclix2sD2"
      },
      "source": [
        "Как видим, точность модели решающего дерева достаточна для наших целей, однако попробуем использовать много деревьев, построим модель случайного леса "
      ]
    },
    {
      "cell_type": "code",
      "execution_count": null,
      "metadata": {
        "id": "hx4QctVi2sD2",
        "outputId": "7c05718f-dda9-4a8f-e7c1-4555a8e9e05c"
      },
      "outputs": [
        {
          "name": "stdout",
          "output_type": "stream",
          "text": [
            "Accuracy наилучшей модели на валидационной выборке: 0.8171641791044776 Количество деревьев: 50 Максимальная глубина: 10\n"
          ]
        }
      ],
      "source": [
        "best_model = None\n",
        "best_accuracy = 0\n",
        "best_est = 0\n",
        "best_depth = 0\n",
        "for est in range(10, 51, 10):\n",
        "    for depth in range(1, 11):\n",
        "        model = RandomForestClassifier(random_state=1, n_estimators=est, max_depth=depth)\n",
        "        model.fit(features_train, target_train)\n",
        "        accuracy = model.score(features_valid, target_valid)\n",
        "        if accuracy > best_accuracy:\n",
        "            best_model = model\n",
        "            best_accuracy = accuracy\n",
        "            best_est = est\n",
        "            best_depth = depth\n",
        "print('Accuracy наилучшей модели на валидационной выборке:', best_accuracy, \n",
        "      'Количество деревьев:', best_est, 'Максимальная глубина:', depth)"
      ]
    },
    {
      "cell_type": "markdown",
      "metadata": {
        "id": "OiFDp5_K2sD2"
      },
      "source": [
        "Случайный лес показывает результаты получше. Для убедительности посмотрим, как поведёт себя модель логистической регрессии, прежде чем делать выводы"
      ]
    },
    {
      "cell_type": "code",
      "execution_count": null,
      "metadata": {
        "id": "ojviLtcA2sD2",
        "outputId": "e472edc1-6858-4c73-c6d3-3afcd8381b90"
      },
      "outputs": [
        {
          "name": "stdout",
          "output_type": "stream",
          "text": [
            "Accuracy модели логистической регрессии на валидационной выборке: 0.75\n"
          ]
        }
      ],
      "source": [
        "model = LogisticRegression(random_state=1, solver='liblinear', penalty='l1')\n",
        "model.fit(features_train, target_train)\n",
        "accuracy = model.score(features_valid, target_valid)\n",
        "\n",
        "print('Accuracy модели логистической регрессии на валидационной выборке:', accuracy)"
      ]
    },
    {
      "cell_type": "markdown",
      "metadata": {
        "id": "zDPZb0-Y2sD3"
      },
      "source": [
        "Итак, точность 0.75 впритык устраивает нас, однако есть большая вероятность того, что результаты будух хуже на тестовой выборке, поэтому рисковать с этой моделью не стоит. Будем использовать модель случайного леса, как самую точную"
      ]
    },
    {
      "cell_type": "markdown",
      "metadata": {
        "id": "VYcV4WTW2sD3"
      },
      "source": [
        "## 4. Проверка модели на тестовой выборке"
      ]
    },
    {
      "cell_type": "markdown",
      "metadata": {
        "id": "U5-Bty412sD3"
      },
      "source": [
        "Проверяем лучшую модель случайного леса (она сохранена в переменной best_model) на тестовой выборке "
      ]
    },
    {
      "cell_type": "code",
      "execution_count": null,
      "metadata": {
        "id": "IPgeltxU2sD3",
        "outputId": "8e2577c4-3a87-46e7-d68f-bdba3a8ad4a0"
      },
      "outputs": [
        {
          "name": "stdout",
          "output_type": "stream",
          "text": [
            "0.8092868988391376\n"
          ]
        }
      ],
      "source": [
        "test_accuracy = best_model.score(features_test, target_test)\n",
        "print(test_accuracy)"
      ]
    },
    {
      "cell_type": "markdown",
      "metadata": {
        "id": "fPOhvfrZ2sD3"
      },
      "source": [
        "Модель показывает хорошие результаты и на тесте, а значит можем перейти к проверке на адекватность"
      ]
    },
    {
      "cell_type": "markdown",
      "metadata": {
        "id": "Xt1pFQec2sD3"
      },
      "source": [
        "## 5. Проверка модели на адекватность"
      ]
    },
    {
      "cell_type": "markdown",
      "metadata": {
        "id": "ENimM1yl2sD3"
      },
      "source": [
        "Проверка на адекватность состоит в том, чтобы использовать неадекватную модель, которая делает предсказания, игнорируя входящие признаки. Если такая модель будет точнее, чем наша, значит наша модель не имеет смысла"
      ]
    },
    {
      "cell_type": "code",
      "execution_count": null,
      "metadata": {
        "id": "vH9lzX6x2sD4",
        "outputId": "d9f42507-67bc-4310-de36-4742dbf4c092"
      },
      "outputs": [
        {
          "name": "stdout",
          "output_type": "stream",
          "text": [
            "Accuracy неадеватной модели на валидационной выборке: 0.6940298507462687\n"
          ]
        }
      ],
      "source": [
        "dummy_model = DummyClassifier(random_state=1, strategy='most_frequent')\n",
        "dummy_model.fit(features_train, target_train)\n",
        "dummy_accuracy = dummy_model.score(features_valid, target_valid)\n",
        "\n",
        "print('Accuracy неадеватной модели на валидационной выборке:', dummy_accuracy)"
      ]
    },
    {
      "cell_type": "markdown",
      "metadata": {
        "id": "8uSfyh6N2sD4"
      },
      "source": [
        "Проверка показала, что выбранная нами модель случайного леса вполне адекватна и может использоваться для подбора наиболее подходящего пользователю тарифа"
      ]
    }
  ],
  "metadata": {
    "ExecuteTimeLog": [
      {
        "duration": 342,
        "start_time": "2023-03-06T17:05:20.381Z"
      },
      {
        "duration": 66,
        "start_time": "2023-03-06T17:05:22.750Z"
      },
      {
        "duration": 16,
        "start_time": "2023-03-06T17:05:23.501Z"
      },
      {
        "duration": 603,
        "start_time": "2023-03-06T17:07:45.768Z"
      },
      {
        "duration": 2,
        "start_time": "2023-03-06T17:13:40.803Z"
      },
      {
        "duration": 36,
        "start_time": "2023-03-06T17:23:38.751Z"
      },
      {
        "duration": 10,
        "start_time": "2023-03-06T18:14:56.268Z"
      },
      {
        "duration": 30,
        "start_time": "2023-03-06T18:14:59.318Z"
      },
      {
        "duration": 11,
        "start_time": "2023-03-06T18:15:00.492Z"
      },
      {
        "duration": 96,
        "start_time": "2023-03-06T18:15:06.248Z"
      },
      {
        "duration": 11,
        "start_time": "2023-03-06T18:19:27.697Z"
      },
      {
        "duration": 28,
        "start_time": "2023-03-06T18:19:41.542Z"
      },
      {
        "duration": 10,
        "start_time": "2023-03-06T18:21:06.512Z"
      },
      {
        "duration": 22,
        "start_time": "2023-03-06T18:21:09.457Z"
      },
      {
        "duration": 9,
        "start_time": "2023-03-06T18:21:22.647Z"
      },
      {
        "duration": 33,
        "start_time": "2023-03-06T18:21:25.223Z"
      },
      {
        "duration": 4318,
        "start_time": "2023-03-06T18:24:14.283Z"
      },
      {
        "duration": 3363,
        "start_time": "2023-03-06T18:29:33.885Z"
      },
      {
        "duration": 3379,
        "start_time": "2023-03-06T18:31:27.246Z"
      },
      {
        "duration": 3,
        "start_time": "2023-03-06T18:38:39.261Z"
      },
      {
        "duration": 24,
        "start_time": "2023-03-06T18:42:29.248Z"
      },
      {
        "duration": 24,
        "start_time": "2023-03-06T18:46:39.897Z"
      },
      {
        "duration": 12,
        "start_time": "2023-03-06T18:48:51.349Z"
      },
      {
        "duration": 24,
        "start_time": "2023-03-06T18:49:02.239Z"
      },
      {
        "duration": 10,
        "start_time": "2023-03-06T18:49:28.448Z"
      },
      {
        "duration": 12,
        "start_time": "2023-03-06T18:50:02.647Z"
      },
      {
        "duration": 13,
        "start_time": "2023-03-06T18:50:11.718Z"
      },
      {
        "duration": 11,
        "start_time": "2023-03-06T18:51:41.507Z"
      },
      {
        "duration": 13,
        "start_time": "2023-03-06T18:52:10.803Z"
      },
      {
        "duration": 12,
        "start_time": "2023-03-06T18:52:18.826Z"
      },
      {
        "duration": 13,
        "start_time": "2023-03-06T18:52:24.941Z"
      },
      {
        "duration": 6,
        "start_time": "2023-03-06T18:56:20.048Z"
      },
      {
        "duration": 23,
        "start_time": "2023-03-06T18:58:21.003Z"
      },
      {
        "duration": 29,
        "start_time": "2023-03-06T18:58:30.629Z"
      },
      {
        "duration": 3434,
        "start_time": "2023-03-06T19:00:04.719Z"
      },
      {
        "duration": 14,
        "start_time": "2023-03-06T19:03:10.503Z"
      },
      {
        "duration": 1285,
        "start_time": "2023-03-09T17:17:44.850Z"
      },
      {
        "duration": 81,
        "start_time": "2023-03-09T17:17:46.996Z"
      },
      {
        "duration": 17,
        "start_time": "2023-03-09T17:17:47.817Z"
      },
      {
        "duration": 11,
        "start_time": "2023-03-09T17:17:49.129Z"
      },
      {
        "duration": 10,
        "start_time": "2023-03-09T17:17:53.282Z"
      },
      {
        "duration": 68,
        "start_time": "2023-03-09T17:18:01.971Z"
      },
      {
        "duration": 3915,
        "start_time": "2023-03-09T17:21:03.126Z"
      },
      {
        "duration": 27,
        "start_time": "2023-03-09T17:22:06.450Z"
      },
      {
        "duration": 15,
        "start_time": "2023-03-09T17:30:01.526Z"
      },
      {
        "duration": 4,
        "start_time": "2023-03-09T17:35:57.400Z"
      },
      {
        "duration": 5,
        "start_time": "2023-03-09T17:46:49.199Z"
      },
      {
        "duration": 3,
        "start_time": "2023-03-09T17:55:12.141Z"
      },
      {
        "duration": 30,
        "start_time": "2023-03-09T17:55:12.145Z"
      },
      {
        "duration": 9,
        "start_time": "2023-03-09T17:55:12.177Z"
      },
      {
        "duration": 13,
        "start_time": "2023-03-09T17:55:12.188Z"
      },
      {
        "duration": 13,
        "start_time": "2023-03-09T17:55:12.203Z"
      },
      {
        "duration": 78,
        "start_time": "2023-03-09T17:55:12.217Z"
      },
      {
        "duration": 3713,
        "start_time": "2023-03-09T17:55:12.297Z"
      },
      {
        "duration": 14,
        "start_time": "2023-03-09T17:55:16.011Z"
      },
      {
        "duration": 30,
        "start_time": "2023-03-09T17:55:16.026Z"
      },
      {
        "duration": 6,
        "start_time": "2023-03-09T17:55:16.057Z"
      },
      {
        "duration": 2310,
        "start_time": "2023-03-10T08:47:33.752Z"
      },
      {
        "duration": 36,
        "start_time": "2023-03-10T08:47:36.065Z"
      },
      {
        "duration": 21,
        "start_time": "2023-03-10T08:47:36.103Z"
      },
      {
        "duration": 14,
        "start_time": "2023-03-10T08:47:36.126Z"
      },
      {
        "duration": 20,
        "start_time": "2023-03-10T08:47:36.143Z"
      },
      {
        "duration": 93,
        "start_time": "2023-03-10T08:47:36.165Z"
      },
      {
        "duration": 4711,
        "start_time": "2023-03-10T08:47:36.260Z"
      },
      {
        "duration": 21,
        "start_time": "2023-03-10T08:47:40.977Z"
      },
      {
        "duration": 42,
        "start_time": "2023-03-10T08:47:41.002Z"
      },
      {
        "duration": 7,
        "start_time": "2023-03-10T08:47:41.046Z"
      },
      {
        "duration": 1009,
        "start_time": "2023-03-10T08:50:10.011Z"
      },
      {
        "duration": 1155,
        "start_time": "2023-03-11T11:16:15.795Z"
      },
      {
        "duration": 101,
        "start_time": "2023-03-11T11:16:39.324Z"
      },
      {
        "duration": 1177,
        "start_time": "2023-03-11T11:16:56.366Z"
      },
      {
        "duration": 122,
        "start_time": "2023-03-11T11:16:57.545Z"
      },
      {
        "duration": 19,
        "start_time": "2023-03-11T11:16:57.669Z"
      },
      {
        "duration": 12,
        "start_time": "2023-03-11T11:16:57.690Z"
      },
      {
        "duration": 9,
        "start_time": "2023-03-11T11:16:57.705Z"
      },
      {
        "duration": 95,
        "start_time": "2023-03-11T11:16:57.716Z"
      },
      {
        "duration": 3720,
        "start_time": "2023-03-11T11:16:57.813Z"
      },
      {
        "duration": 16,
        "start_time": "2023-03-11T11:17:01.535Z"
      },
      {
        "duration": 67,
        "start_time": "2023-03-11T11:17:01.553Z"
      },
      {
        "duration": 35,
        "start_time": "2023-03-11T11:17:01.622Z"
      },
      {
        "duration": 12,
        "start_time": "2023-03-11T11:34:51.265Z"
      },
      {
        "duration": 4,
        "start_time": "2023-03-11T12:05:28.458Z"
      },
      {
        "duration": 5,
        "start_time": "2023-03-11T12:05:57.663Z"
      },
      {
        "duration": 4,
        "start_time": "2023-03-11T12:06:17.159Z"
      },
      {
        "duration": 1522,
        "start_time": "2023-03-11T12:15:01.406Z"
      },
      {
        "duration": 35,
        "start_time": "2023-03-11T12:15:02.930Z"
      },
      {
        "duration": 22,
        "start_time": "2023-03-11T12:15:02.968Z"
      },
      {
        "duration": 22,
        "start_time": "2023-03-11T12:15:02.991Z"
      },
      {
        "duration": 27,
        "start_time": "2023-03-11T12:15:03.016Z"
      },
      {
        "duration": 12,
        "start_time": "2023-03-11T12:15:03.045Z"
      },
      {
        "duration": 15,
        "start_time": "2023-03-11T12:15:03.058Z"
      },
      {
        "duration": 14,
        "start_time": "2023-03-11T12:15:03.075Z"
      },
      {
        "duration": 18,
        "start_time": "2023-03-11T12:15:03.091Z"
      },
      {
        "duration": 76,
        "start_time": "2023-03-11T12:15:03.111Z"
      },
      {
        "duration": 4285,
        "start_time": "2023-03-11T12:15:03.189Z"
      },
      {
        "duration": 17,
        "start_time": "2023-03-11T12:15:07.477Z"
      },
      {
        "duration": 25,
        "start_time": "2023-03-11T12:15:07.496Z"
      },
      {
        "duration": 43,
        "start_time": "2023-03-11T12:15:07.523Z"
      }
    ],
    "kernelspec": {
      "display_name": "Python 3 (ipykernel)",
      "language": "python",
      "name": "python3"
    },
    "language_info": {
      "codemirror_mode": {
        "name": "ipython",
        "version": 3
      },
      "file_extension": ".py",
      "mimetype": "text/x-python",
      "name": "python",
      "nbconvert_exporter": "python",
      "pygments_lexer": "ipython3",
      "version": "3.9.5"
    },
    "toc": {
      "base_numbering": 1,
      "nav_menu": {},
      "number_sections": true,
      "sideBar": true,
      "skip_h1_title": true,
      "title_cell": "Table of Contents",
      "title_sidebar": "Contents",
      "toc_cell": false,
      "toc_position": {},
      "toc_section_display": true,
      "toc_window_display": true
    },
    "colab": {
      "provenance": []
    }
  },
  "nbformat": 4,
  "nbformat_minor": 0
}