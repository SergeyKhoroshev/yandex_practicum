{
  "cells": [
    {
      "cell_type": "markdown",
      "metadata": {
        "id": "OBbEuNNGvdPq"
      },
      "source": [
        "#  Прогнозирование заказов такси"
      ]
    },
    {
      "cell_type": "markdown",
      "metadata": {
        "id": "x-RUV60MvdPq"
      },
      "source": [
        "Цель: чтобы привлекать больше водителей в период пиковой нагрузки, нужно спрогнозировать количество заказов такси на следующий час. Необходимо построить модель для такого предсказания"
      ]
    },
    {
      "cell_type": "markdown",
      "source": [
        "# Содержание\n",
        "\n",
        "1. Подготовка\n",
        "2. Анализ\n",
        "3. Обучение моделей\n",
        "- 3.1 Подготовка признаков\n",
        "- 3.2 Обучение\n",
        "4. Тестирование\n",
        "\n",
        "Решаем задачу регрессии (временные ряды)"
      ],
      "metadata": {
        "id": "38WgWEbYvs5U"
      }
    },
    {
      "cell_type": "markdown",
      "metadata": {
        "id": "McB7vujkvdPq"
      },
      "source": [
        "## Подготовка"
      ]
    },
    {
      "cell_type": "markdown",
      "metadata": {
        "id": "6_jTVlykvdPq"
      },
      "source": [
        "Импортируем библиотеки и просматриваем данные, указав в качестве индекса столбец с датой"
      ]
    },
    {
      "cell_type": "code",
      "execution_count": null,
      "metadata": {
        "id": "uGK-8j1avdPr"
      },
      "outputs": [],
      "source": [
        "import pandas as pd\n",
        "import numpy as np\n",
        "import matplotlib.pyplot as plt\n",
        "from statsmodels.tsa.seasonal import seasonal_decompose\n",
        "from sklearn.model_selection import train_test_split, RandomizedSearchCV, TimeSeriesSplit\n",
        "from sklearn.linear_model import LinearRegression\n",
        "from catboost import CatBoostRegressor\n",
        "from sklearn.ensemble import RandomForestRegressor\n",
        "from sklearn.metrics import mean_squared_error"
      ]
    },
    {
      "cell_type": "code",
      "execution_count": null,
      "metadata": {
        "id": "IZdnBFdCvdPs"
      },
      "outputs": [],
      "source": [
        "data = pd.read_csv('/datasets/taxi.csv', index_col=[0], parse_dates=[0])"
      ]
    },
    {
      "cell_type": "code",
      "execution_count": null,
      "metadata": {
        "id": "2SyoYBeFvdPs",
        "outputId": "c875818f-38aa-43f3-90f4-7fe049bfde88"
      },
      "outputs": [
        {
          "data": {
            "text/html": [
              "<div>\n",
              "<style scoped>\n",
              "    .dataframe tbody tr th:only-of-type {\n",
              "        vertical-align: middle;\n",
              "    }\n",
              "\n",
              "    .dataframe tbody tr th {\n",
              "        vertical-align: top;\n",
              "    }\n",
              "\n",
              "    .dataframe thead th {\n",
              "        text-align: right;\n",
              "    }\n",
              "</style>\n",
              "<table border=\"1\" class=\"dataframe\">\n",
              "  <thead>\n",
              "    <tr style=\"text-align: right;\">\n",
              "      <th></th>\n",
              "      <th>num_orders</th>\n",
              "    </tr>\n",
              "    <tr>\n",
              "      <th>datetime</th>\n",
              "      <th></th>\n",
              "    </tr>\n",
              "  </thead>\n",
              "  <tbody>\n",
              "    <tr>\n",
              "      <th>2018-03-01 00:00:00</th>\n",
              "      <td>9</td>\n",
              "    </tr>\n",
              "    <tr>\n",
              "      <th>2018-03-01 00:10:00</th>\n",
              "      <td>14</td>\n",
              "    </tr>\n",
              "    <tr>\n",
              "      <th>2018-03-01 00:20:00</th>\n",
              "      <td>28</td>\n",
              "    </tr>\n",
              "    <tr>\n",
              "      <th>2018-03-01 00:30:00</th>\n",
              "      <td>20</td>\n",
              "    </tr>\n",
              "    <tr>\n",
              "      <th>2018-03-01 00:40:00</th>\n",
              "      <td>32</td>\n",
              "    </tr>\n",
              "    <tr>\n",
              "      <th>2018-03-01 00:50:00</th>\n",
              "      <td>21</td>\n",
              "    </tr>\n",
              "    <tr>\n",
              "      <th>2018-03-01 01:00:00</th>\n",
              "      <td>7</td>\n",
              "    </tr>\n",
              "    <tr>\n",
              "      <th>2018-03-01 01:10:00</th>\n",
              "      <td>5</td>\n",
              "    </tr>\n",
              "    <tr>\n",
              "      <th>2018-03-01 01:20:00</th>\n",
              "      <td>17</td>\n",
              "    </tr>\n",
              "    <tr>\n",
              "      <th>2018-03-01 01:30:00</th>\n",
              "      <td>12</td>\n",
              "    </tr>\n",
              "  </tbody>\n",
              "</table>\n",
              "</div>"
            ],
            "text/plain": [
              "                     num_orders\n",
              "datetime                       \n",
              "2018-03-01 00:00:00           9\n",
              "2018-03-01 00:10:00          14\n",
              "2018-03-01 00:20:00          28\n",
              "2018-03-01 00:30:00          20\n",
              "2018-03-01 00:40:00          32\n",
              "2018-03-01 00:50:00          21\n",
              "2018-03-01 01:00:00           7\n",
              "2018-03-01 01:10:00           5\n",
              "2018-03-01 01:20:00          17\n",
              "2018-03-01 01:30:00          12"
            ]
          },
          "execution_count": 3,
          "metadata": {},
          "output_type": "execute_result"
        }
      ],
      "source": [
        "data.head(10)"
      ]
    },
    {
      "cell_type": "code",
      "execution_count": null,
      "metadata": {
        "scrolled": false,
        "id": "-n6Ams7dvdPt",
        "outputId": "ef041b33-dfc6-4e0a-8f71-d5b333bc6bd3"
      },
      "outputs": [
        {
          "name": "stdout",
          "output_type": "stream",
          "text": [
            "<class 'pandas.core.frame.DataFrame'>\n",
            "DatetimeIndex: 26496 entries, 2018-03-01 00:00:00 to 2018-08-31 23:50:00\n",
            "Data columns (total 1 columns):\n",
            " #   Column      Non-Null Count  Dtype\n",
            "---  ------      --------------  -----\n",
            " 0   num_orders  26496 non-null  int64\n",
            "dtypes: int64(1)\n",
            "memory usage: 414.0 KB\n"
          ]
        }
      ],
      "source": [
        "data.info()"
      ]
    },
    {
      "cell_type": "code",
      "execution_count": null,
      "metadata": {
        "scrolled": true,
        "id": "jGIviBdHvdPt",
        "outputId": "3cc6d06f-517f-48de-dbc3-bd7f30c0fea9"
      },
      "outputs": [
        {
          "data": {
            "image/png": "[encoded data removed]",
            "text/plain": [
              "<Figure size 1080x720 with 1 Axes>"
            ]
          },
          "metadata": {
            "needs_background": "light"
          },
          "output_type": "display_data"
        }
      ],
      "source": [
        "data.plot(figsize=(15, 10));"
      ]
    },
    {
      "cell_type": "markdown",
      "metadata": {
        "id": "uXATvXm3vdPt"
      },
      "source": [
        "Сделаем ресемплинг данных, укажем промежуток в 1 час и найдём сумму этого промежутка"
      ]
    },
    {
      "cell_type": "code",
      "execution_count": null,
      "metadata": {
        "id": "_qnXWuiNvdPu",
        "outputId": "9ce2331f-d3b5-41a7-dc60-aec40a440d0e"
      },
      "outputs": [
        {
          "data": {
            "text/html": [
              "<div>\n",
              "<style scoped>\n",
              "    .dataframe tbody tr th:only-of-type {\n",
              "        vertical-align: middle;\n",
              "    }\n",
              "\n",
              "    .dataframe tbody tr th {\n",
              "        vertical-align: top;\n",
              "    }\n",
              "\n",
              "    .dataframe thead th {\n",
              "        text-align: right;\n",
              "    }\n",
              "</style>\n",
              "<table border=\"1\" class=\"dataframe\">\n",
              "  <thead>\n",
              "    <tr style=\"text-align: right;\">\n",
              "      <th></th>\n",
              "      <th>num_orders</th>\n",
              "    </tr>\n",
              "    <tr>\n",
              "      <th>datetime</th>\n",
              "      <th></th>\n",
              "    </tr>\n",
              "  </thead>\n",
              "  <tbody>\n",
              "    <tr>\n",
              "      <th>2018-03-01 00:00:00</th>\n",
              "      <td>124</td>\n",
              "    </tr>\n",
              "    <tr>\n",
              "      <th>2018-03-01 01:00:00</th>\n",
              "      <td>85</td>\n",
              "    </tr>\n",
              "    <tr>\n",
              "      <th>2018-03-01 02:00:00</th>\n",
              "      <td>71</td>\n",
              "    </tr>\n",
              "    <tr>\n",
              "      <th>2018-03-01 03:00:00</th>\n",
              "      <td>66</td>\n",
              "    </tr>\n",
              "    <tr>\n",
              "      <th>2018-03-01 04:00:00</th>\n",
              "      <td>43</td>\n",
              "    </tr>\n",
              "    <tr>\n",
              "      <th>2018-03-01 05:00:00</th>\n",
              "      <td>6</td>\n",
              "    </tr>\n",
              "    <tr>\n",
              "      <th>2018-03-01 06:00:00</th>\n",
              "      <td>12</td>\n",
              "    </tr>\n",
              "    <tr>\n",
              "      <th>2018-03-01 07:00:00</th>\n",
              "      <td>15</td>\n",
              "    </tr>\n",
              "    <tr>\n",
              "      <th>2018-03-01 08:00:00</th>\n",
              "      <td>34</td>\n",
              "    </tr>\n",
              "    <tr>\n",
              "      <th>2018-03-01 09:00:00</th>\n",
              "      <td>69</td>\n",
              "    </tr>\n",
              "  </tbody>\n",
              "</table>\n",
              "</div>"
            ],
            "text/plain": [
              "                     num_orders\n",
              "datetime                       \n",
              "2018-03-01 00:00:00         124\n",
              "2018-03-01 01:00:00          85\n",
              "2018-03-01 02:00:00          71\n",
              "2018-03-01 03:00:00          66\n",
              "2018-03-01 04:00:00          43\n",
              "2018-03-01 05:00:00           6\n",
              "2018-03-01 06:00:00          12\n",
              "2018-03-01 07:00:00          15\n",
              "2018-03-01 08:00:00          34\n",
              "2018-03-01 09:00:00          69"
            ]
          },
          "execution_count": 6,
          "metadata": {},
          "output_type": "execute_result"
        }
      ],
      "source": [
        "data = data.resample('1H').sum()\n",
        "data.head(10)"
      ]
    },
    {
      "cell_type": "markdown",
      "metadata": {
        "id": "9XdDKSBpvdPu"
      },
      "source": [
        "Вывод: мы выяснили, что у нас есть 26496 строк данных с количеством заказов на такси за пол года с интервалом в 10 минут. Мы сделали ресемплинг данных и изменили интервал на 1 час и указали сумму значений для каждого промежутка"
      ]
    },
    {
      "cell_type": "markdown",
      "metadata": {
        "id": "CxKBlEXXvdPu"
      },
      "source": [
        "## Анализ"
      ]
    },
    {
      "cell_type": "markdown",
      "metadata": {
        "id": "iqux1qxHvdPu"
      },
      "source": [
        "Посмотрим, как примерно распределяются заказы в рамках трёх дней"
      ]
    },
    {
      "cell_type": "code",
      "execution_count": null,
      "metadata": {
        "id": "cYNRLVh2vdPu",
        "outputId": "ad855171-b482-4e78-8d28-bfd5420ba13f"
      },
      "outputs": [
        {
          "data": {
            "image/png": "[encoded data removed]",
            "text/plain": [
              "<Figure size 720x720 with 1 Axes>"
            ]
          },
          "metadata": {
            "needs_background": "light"
          },
          "output_type": "display_data"
        }
      ],
      "source": [
        "data['2018-03-01': '2018-03-03'].plot(figsize=(10, 10));"
      ]
    },
    {
      "cell_type": "markdown",
      "metadata": {
        "id": "mIfUXEIFvdPv"
      },
      "source": [
        "Видим, что есть пики, означающие наибольшее количество заказов в этом временном промежутке, и есть спады ежедневно около 6 утра"
      ]
    },
    {
      "cell_type": "markdown",
      "metadata": {
        "id": "DQr2VhC4vdPv"
      },
      "source": [
        "Расмотрим тренды и сезонность данных"
      ]
    },
    {
      "cell_type": "code",
      "execution_count": null,
      "metadata": {
        "scrolled": true,
        "id": "GwMB3QI_vdPv",
        "outputId": "56f8ebba-4bf4-44f1-a251-95e7dc0a5b8f"
      },
      "outputs": [
        {
          "data": {
            "image/png": "[encoded data removed]",
            "text/plain": [
              "<Figure size 720x720 with 1 Axes>"
            ]
          },
          "metadata": {
            "needs_background": "light"
          },
          "output_type": "display_data"
        }
      ],
      "source": [
        "decomposed = seasonal_decompose(data)\n",
        "decomposed.trend.plot(ax=plt.gca(), figsize=(10, 10));"
      ]
    },
    {
      "cell_type": "markdown",
      "metadata": {
        "id": "fTL2k13_vdPv"
      },
      "source": [
        "График трендов говорит нам о том, что временной ряд - нестационарный, у него есть тренд на возрастание количества заказов"
      ]
    },
    {
      "cell_type": "code",
      "execution_count": null,
      "metadata": {
        "scrolled": true,
        "id": "c20eN_PEvdPv",
        "outputId": "a213faa7-d073-48ac-bf2b-492c802b9deb"
      },
      "outputs": [
        {
          "data": {
            "image/png": "[encoded data removed]",
            "text/plain": [
              "<Figure size 720x720 with 1 Axes>"
            ]
          },
          "metadata": {
            "needs_background": "light"
          },
          "output_type": "display_data"
        }
      ],
      "source": [
        "decomposed.seasonal['2018-03-01': '2018-03-07'].plot(ax=plt.gca(), figsize=(10, 10));"
      ]
    },
    {
      "cell_type": "markdown",
      "metadata": {
        "id": "httFeKRNvdPv"
      },
      "source": [
        "График сезонности говорит нам, что во временном ряде есть цикличность: максимальный рост заказов в вечернее время и максимальный спад рано утром"
      ]
    },
    {
      "cell_type": "markdown",
      "metadata": {
        "id": "5CWbU9LIvdPv"
      },
      "source": [
        "Вывод: в данных есть свои закономерности, которые помогут нам лучше спрогнозировать заказы. Во-первых, есть тренд на возрастание, во-вторых, есть ежедневная цикличность"
      ]
    },
    {
      "cell_type": "markdown",
      "metadata": {
        "id": "Ld_JOO5nvdPw"
      },
      "source": [
        "## Обучение"
      ]
    },
    {
      "cell_type": "markdown",
      "metadata": {
        "id": "vKgASe-IvdPw"
      },
      "source": [
        "### Подготовка признаков"
      ]
    },
    {
      "cell_type": "markdown",
      "metadata": {
        "id": "M92x9st0vdPw"
      },
      "source": [
        "Для начала нам необходимо добавить признаков для обучения модели. Напишем функцию, которая создаст их из имеющихся данных"
      ]
    },
    {
      "cell_type": "code",
      "execution_count": null,
      "metadata": {
        "id": "5nZ_SCGwvdPw"
      },
      "outputs": [],
      "source": [
        "def make_features(data, max_lag, rolling_mean_size):\n",
        "    data['hour'] = data.index.hour\n",
        "    data['dayofweek'] = data.index.dayofweek\n",
        "    \n",
        "    for lag in range(1, max_lag + 1):\n",
        "        data['lag_{}'.format(lag)] = data['num_orders'].shift(lag)\n",
        "\n",
        "    data['rolling_mean'] = data['num_orders'].shift().rolling(rolling_mean_size).mean()"
      ]
    },
    {
      "cell_type": "markdown",
      "metadata": {
        "id": "ufMdWgPLvdPx"
      },
      "source": [
        "Применим функцию к данным"
      ]
    },
    {
      "cell_type": "code",
      "execution_count": null,
      "metadata": {
        "id": "ytqQVbTuvdPx"
      },
      "outputs": [],
      "source": [
        "make_features(data, 24, 24)"
      ]
    },
    {
      "cell_type": "code",
      "execution_count": null,
      "metadata": {
        "id": "3fTxkMo_vdPx",
        "outputId": "7cfaf928-cdd4-43bb-8b62-fb0d944813e6"
      },
      "outputs": [
        {
          "data": {
            "text/html": [
              "<div>\n",
              "<style scoped>\n",
              "    .dataframe tbody tr th:only-of-type {\n",
              "        vertical-align: middle;\n",
              "    }\n",
              "\n",
              "    .dataframe tbody tr th {\n",
              "        vertical-align: top;\n",
              "    }\n",
              "\n",
              "    .dataframe thead th {\n",
              "        text-align: right;\n",
              "    }\n",
              "</style>\n",
              "<table border=\"1\" class=\"dataframe\">\n",
              "  <thead>\n",
              "    <tr style=\"text-align: right;\">\n",
              "      <th></th>\n",
              "      <th>num_orders</th>\n",
              "      <th>hour</th>\n",
              "      <th>dayofweek</th>\n",
              "      <th>lag_1</th>\n",
              "      <th>lag_2</th>\n",
              "      <th>lag_3</th>\n",
              "      <th>lag_4</th>\n",
              "      <th>lag_5</th>\n",
              "      <th>lag_6</th>\n",
              "      <th>lag_7</th>\n",
              "      <th>...</th>\n",
              "      <th>lag_16</th>\n",
              "      <th>lag_17</th>\n",
              "      <th>lag_18</th>\n",
              "      <th>lag_19</th>\n",
              "      <th>lag_20</th>\n",
              "      <th>lag_21</th>\n",
              "      <th>lag_22</th>\n",
              "      <th>lag_23</th>\n",
              "      <th>lag_24</th>\n",
              "      <th>rolling_mean</th>\n",
              "    </tr>\n",
              "    <tr>\n",
              "      <th>datetime</th>\n",
              "      <th></th>\n",
              "      <th></th>\n",
              "      <th></th>\n",
              "      <th></th>\n",
              "      <th></th>\n",
              "      <th></th>\n",
              "      <th></th>\n",
              "      <th></th>\n",
              "      <th></th>\n",
              "      <th></th>\n",
              "      <th></th>\n",
              "      <th></th>\n",
              "      <th></th>\n",
              "      <th></th>\n",
              "      <th></th>\n",
              "      <th></th>\n",
              "      <th></th>\n",
              "      <th></th>\n",
              "      <th></th>\n",
              "      <th></th>\n",
              "      <th></th>\n",
              "    </tr>\n",
              "  </thead>\n",
              "  <tbody>\n",
              "    <tr>\n",
              "      <th>2018-03-01 00:00:00</th>\n",
              "      <td>124</td>\n",
              "      <td>0</td>\n",
              "      <td>3</td>\n",
              "      <td>NaN</td>\n",
              "      <td>NaN</td>\n",
              "      <td>NaN</td>\n",
              "      <td>NaN</td>\n",
              "      <td>NaN</td>\n",
              "      <td>NaN</td>\n",
              "      <td>NaN</td>\n",
              "      <td>...</td>\n",
              "      <td>NaN</td>\n",
              "      <td>NaN</td>\n",
              "      <td>NaN</td>\n",
              "      <td>NaN</td>\n",
              "      <td>NaN</td>\n",
              "      <td>NaN</td>\n",
              "      <td>NaN</td>\n",
              "      <td>NaN</td>\n",
              "      <td>NaN</td>\n",
              "      <td>NaN</td>\n",
              "    </tr>\n",
              "    <tr>\n",
              "      <th>2018-03-01 01:00:00</th>\n",
              "      <td>85</td>\n",
              "      <td>1</td>\n",
              "      <td>3</td>\n",
              "      <td>124.0</td>\n",
              "      <td>NaN</td>\n",
              "      <td>NaN</td>\n",
              "      <td>NaN</td>\n",
              "      <td>NaN</td>\n",
              "      <td>NaN</td>\n",
              "      <td>NaN</td>\n",
              "      <td>...</td>\n",
              "      <td>NaN</td>\n",
              "      <td>NaN</td>\n",
              "      <td>NaN</td>\n",
              "      <td>NaN</td>\n",
              "      <td>NaN</td>\n",
              "      <td>NaN</td>\n",
              "      <td>NaN</td>\n",
              "      <td>NaN</td>\n",
              "      <td>NaN</td>\n",
              "      <td>NaN</td>\n",
              "    </tr>\n",
              "    <tr>\n",
              "      <th>2018-03-01 02:00:00</th>\n",
              "      <td>71</td>\n",
              "      <td>2</td>\n",
              "      <td>3</td>\n",
              "      <td>85.0</td>\n",
              "      <td>124.0</td>\n",
              "      <td>NaN</td>\n",
              "      <td>NaN</td>\n",
              "      <td>NaN</td>\n",
              "      <td>NaN</td>\n",
              "      <td>NaN</td>\n",
              "      <td>...</td>\n",
              "      <td>NaN</td>\n",
              "      <td>NaN</td>\n",
              "      <td>NaN</td>\n",
              "      <td>NaN</td>\n",
              "      <td>NaN</td>\n",
              "      <td>NaN</td>\n",
              "      <td>NaN</td>\n",
              "      <td>NaN</td>\n",
              "      <td>NaN</td>\n",
              "      <td>NaN</td>\n",
              "    </tr>\n",
              "    <tr>\n",
              "      <th>2018-03-01 03:00:00</th>\n",
              "      <td>66</td>\n",
              "      <td>3</td>\n",
              "      <td>3</td>\n",
              "      <td>71.0</td>\n",
              "      <td>85.0</td>\n",
              "      <td>124.0</td>\n",
              "      <td>NaN</td>\n",
              "      <td>NaN</td>\n",
              "      <td>NaN</td>\n",
              "      <td>NaN</td>\n",
              "      <td>...</td>\n",
              "      <td>NaN</td>\n",
              "      <td>NaN</td>\n",
              "      <td>NaN</td>\n",
              "      <td>NaN</td>\n",
              "      <td>NaN</td>\n",
              "      <td>NaN</td>\n",
              "      <td>NaN</td>\n",
              "      <td>NaN</td>\n",
              "      <td>NaN</td>\n",
              "      <td>NaN</td>\n",
              "    </tr>\n",
              "    <tr>\n",
              "      <th>2018-03-01 04:00:00</th>\n",
              "      <td>43</td>\n",
              "      <td>4</td>\n",
              "      <td>3</td>\n",
              "      <td>66.0</td>\n",
              "      <td>71.0</td>\n",
              "      <td>85.0</td>\n",
              "      <td>124.0</td>\n",
              "      <td>NaN</td>\n",
              "      <td>NaN</td>\n",
              "      <td>NaN</td>\n",
              "      <td>...</td>\n",
              "      <td>NaN</td>\n",
              "      <td>NaN</td>\n",
              "      <td>NaN</td>\n",
              "      <td>NaN</td>\n",
              "      <td>NaN</td>\n",
              "      <td>NaN</td>\n",
              "      <td>NaN</td>\n",
              "      <td>NaN</td>\n",
              "      <td>NaN</td>\n",
              "      <td>NaN</td>\n",
              "    </tr>\n",
              "  </tbody>\n",
              "</table>\n",
              "<p>5 rows × 28 columns</p>\n",
              "</div>"
            ],
            "text/plain": [
              "                     num_orders  hour  dayofweek  lag_1  lag_2  lag_3  lag_4  \\\n",
              "datetime                                                                       \n",
              "2018-03-01 00:00:00         124     0          3    NaN    NaN    NaN    NaN   \n",
              "2018-03-01 01:00:00          85     1          3  124.0    NaN    NaN    NaN   \n",
              "2018-03-01 02:00:00          71     2          3   85.0  124.0    NaN    NaN   \n",
              "2018-03-01 03:00:00          66     3          3   71.0   85.0  124.0    NaN   \n",
              "2018-03-01 04:00:00          43     4          3   66.0   71.0   85.0  124.0   \n",
              "\n",
              "                     lag_5  lag_6  lag_7  ...  lag_16  lag_17  lag_18  lag_19  \\\n",
              "datetime                                  ...                                   \n",
              "2018-03-01 00:00:00    NaN    NaN    NaN  ...     NaN     NaN     NaN     NaN   \n",
              "2018-03-01 01:00:00    NaN    NaN    NaN  ...     NaN     NaN     NaN     NaN   \n",
              "2018-03-01 02:00:00    NaN    NaN    NaN  ...     NaN     NaN     NaN     NaN   \n",
              "2018-03-01 03:00:00    NaN    NaN    NaN  ...     NaN     NaN     NaN     NaN   \n",
              "2018-03-01 04:00:00    NaN    NaN    NaN  ...     NaN     NaN     NaN     NaN   \n",
              "\n",
              "                     lag_20  lag_21  lag_22  lag_23  lag_24  rolling_mean  \n",
              "datetime                                                                   \n",
              "2018-03-01 00:00:00     NaN     NaN     NaN     NaN     NaN           NaN  \n",
              "2018-03-01 01:00:00     NaN     NaN     NaN     NaN     NaN           NaN  \n",
              "2018-03-01 02:00:00     NaN     NaN     NaN     NaN     NaN           NaN  \n",
              "2018-03-01 03:00:00     NaN     NaN     NaN     NaN     NaN           NaN  \n",
              "2018-03-01 04:00:00     NaN     NaN     NaN     NaN     NaN           NaN  \n",
              "\n",
              "[5 rows x 28 columns]"
            ]
          },
          "execution_count": 12,
          "metadata": {},
          "output_type": "execute_result"
        }
      ],
      "source": [
        "data.head()"
      ]
    },
    {
      "cell_type": "markdown",
      "metadata": {
        "id": "GANiE7HQvdPy"
      },
      "source": [
        "Разделим выборку на обучающую и тестовую в соотношении 9:1, при этом не перемешивая её, чтобы сохранить временной ряд. Далее удалим пропуски в обучающей выборке"
      ]
    },
    {
      "cell_type": "code",
      "execution_count": null,
      "metadata": {
        "id": "Yws-OnnevdPy"
      },
      "outputs": [],
      "source": [
        "train, test = train_test_split(data, shuffle=False, test_size=0.1)\n",
        "train = train.dropna()"
      ]
    },
    {
      "cell_type": "markdown",
      "metadata": {
        "id": "tfvsRdFsvdPy"
      },
      "source": [
        "Разделим выборки на признаки и целевой признак"
      ]
    },
    {
      "cell_type": "code",
      "execution_count": null,
      "metadata": {
        "id": "DR_qkD-EvdPy"
      },
      "outputs": [],
      "source": [
        "features_train = train.drop(['num_orders'], axis=1)\n",
        "target_train = train['num_orders']\n",
        "\n",
        "features_test = test.drop(['num_orders'], axis=1)\n",
        "target_test = test['num_orders']"
      ]
    },
    {
      "cell_type": "code",
      "execution_count": null,
      "metadata": {
        "id": "SwP-wR4GvdPy",
        "outputId": "c5bbd8dc-080a-45bc-acb5-c2b46d73240e"
      },
      "outputs": [
        {
          "data": {
            "text/html": [
              "<div>\n",
              "<style scoped>\n",
              "    .dataframe tbody tr th:only-of-type {\n",
              "        vertical-align: middle;\n",
              "    }\n",
              "\n",
              "    .dataframe tbody tr th {\n",
              "        vertical-align: top;\n",
              "    }\n",
              "\n",
              "    .dataframe thead th {\n",
              "        text-align: right;\n",
              "    }\n",
              "</style>\n",
              "<table border=\"1\" class=\"dataframe\">\n",
              "  <thead>\n",
              "    <tr style=\"text-align: right;\">\n",
              "      <th></th>\n",
              "      <th>hour</th>\n",
              "      <th>dayofweek</th>\n",
              "      <th>lag_1</th>\n",
              "      <th>lag_2</th>\n",
              "      <th>lag_3</th>\n",
              "      <th>lag_4</th>\n",
              "      <th>lag_5</th>\n",
              "      <th>lag_6</th>\n",
              "      <th>lag_7</th>\n",
              "      <th>lag_8</th>\n",
              "      <th>...</th>\n",
              "      <th>lag_16</th>\n",
              "      <th>lag_17</th>\n",
              "      <th>lag_18</th>\n",
              "      <th>lag_19</th>\n",
              "      <th>lag_20</th>\n",
              "      <th>lag_21</th>\n",
              "      <th>lag_22</th>\n",
              "      <th>lag_23</th>\n",
              "      <th>lag_24</th>\n",
              "      <th>rolling_mean</th>\n",
              "    </tr>\n",
              "    <tr>\n",
              "      <th>datetime</th>\n",
              "      <th></th>\n",
              "      <th></th>\n",
              "      <th></th>\n",
              "      <th></th>\n",
              "      <th></th>\n",
              "      <th></th>\n",
              "      <th></th>\n",
              "      <th></th>\n",
              "      <th></th>\n",
              "      <th></th>\n",
              "      <th></th>\n",
              "      <th></th>\n",
              "      <th></th>\n",
              "      <th></th>\n",
              "      <th></th>\n",
              "      <th></th>\n",
              "      <th></th>\n",
              "      <th></th>\n",
              "      <th></th>\n",
              "      <th></th>\n",
              "      <th></th>\n",
              "    </tr>\n",
              "  </thead>\n",
              "  <tbody>\n",
              "    <tr>\n",
              "      <th>2018-03-02 00:00:00</th>\n",
              "      <td>0</td>\n",
              "      <td>4</td>\n",
              "      <td>58.0</td>\n",
              "      <td>113.0</td>\n",
              "      <td>66.0</td>\n",
              "      <td>61.0</td>\n",
              "      <td>45.0</td>\n",
              "      <td>73.0</td>\n",
              "      <td>44.0</td>\n",
              "      <td>43.0</td>\n",
              "      <td>...</td>\n",
              "      <td>34.0</td>\n",
              "      <td>15.0</td>\n",
              "      <td>12.0</td>\n",
              "      <td>6.0</td>\n",
              "      <td>43.0</td>\n",
              "      <td>66.0</td>\n",
              "      <td>71.0</td>\n",
              "      <td>85.0</td>\n",
              "      <td>124.0</td>\n",
              "      <td>56.833333</td>\n",
              "    </tr>\n",
              "    <tr>\n",
              "      <th>2018-03-02 01:00:00</th>\n",
              "      <td>1</td>\n",
              "      <td>4</td>\n",
              "      <td>90.0</td>\n",
              "      <td>58.0</td>\n",
              "      <td>113.0</td>\n",
              "      <td>66.0</td>\n",
              "      <td>61.0</td>\n",
              "      <td>45.0</td>\n",
              "      <td>73.0</td>\n",
              "      <td>44.0</td>\n",
              "      <td>...</td>\n",
              "      <td>69.0</td>\n",
              "      <td>34.0</td>\n",
              "      <td>15.0</td>\n",
              "      <td>12.0</td>\n",
              "      <td>6.0</td>\n",
              "      <td>43.0</td>\n",
              "      <td>66.0</td>\n",
              "      <td>71.0</td>\n",
              "      <td>85.0</td>\n",
              "      <td>55.416667</td>\n",
              "    </tr>\n",
              "    <tr>\n",
              "      <th>2018-03-02 02:00:00</th>\n",
              "      <td>2</td>\n",
              "      <td>4</td>\n",
              "      <td>120.0</td>\n",
              "      <td>90.0</td>\n",
              "      <td>58.0</td>\n",
              "      <td>113.0</td>\n",
              "      <td>66.0</td>\n",
              "      <td>61.0</td>\n",
              "      <td>45.0</td>\n",
              "      <td>73.0</td>\n",
              "      <td>...</td>\n",
              "      <td>64.0</td>\n",
              "      <td>69.0</td>\n",
              "      <td>34.0</td>\n",
              "      <td>15.0</td>\n",
              "      <td>12.0</td>\n",
              "      <td>6.0</td>\n",
              "      <td>43.0</td>\n",
              "      <td>66.0</td>\n",
              "      <td>71.0</td>\n",
              "      <td>56.875000</td>\n",
              "    </tr>\n",
              "    <tr>\n",
              "      <th>2018-03-02 03:00:00</th>\n",
              "      <td>3</td>\n",
              "      <td>4</td>\n",
              "      <td>75.0</td>\n",
              "      <td>120.0</td>\n",
              "      <td>90.0</td>\n",
              "      <td>58.0</td>\n",
              "      <td>113.0</td>\n",
              "      <td>66.0</td>\n",
              "      <td>61.0</td>\n",
              "      <td>45.0</td>\n",
              "      <td>...</td>\n",
              "      <td>96.0</td>\n",
              "      <td>64.0</td>\n",
              "      <td>69.0</td>\n",
              "      <td>34.0</td>\n",
              "      <td>15.0</td>\n",
              "      <td>12.0</td>\n",
              "      <td>6.0</td>\n",
              "      <td>43.0</td>\n",
              "      <td>66.0</td>\n",
              "      <td>57.041667</td>\n",
              "    </tr>\n",
              "    <tr>\n",
              "      <th>2018-03-02 04:00:00</th>\n",
              "      <td>4</td>\n",
              "      <td>4</td>\n",
              "      <td>64.0</td>\n",
              "      <td>75.0</td>\n",
              "      <td>120.0</td>\n",
              "      <td>90.0</td>\n",
              "      <td>58.0</td>\n",
              "      <td>113.0</td>\n",
              "      <td>66.0</td>\n",
              "      <td>61.0</td>\n",
              "      <td>...</td>\n",
              "      <td>30.0</td>\n",
              "      <td>96.0</td>\n",
              "      <td>64.0</td>\n",
              "      <td>69.0</td>\n",
              "      <td>34.0</td>\n",
              "      <td>15.0</td>\n",
              "      <td>12.0</td>\n",
              "      <td>6.0</td>\n",
              "      <td>43.0</td>\n",
              "      <td>56.958333</td>\n",
              "    </tr>\n",
              "    <tr>\n",
              "      <th>...</th>\n",
              "      <td>...</td>\n",
              "      <td>...</td>\n",
              "      <td>...</td>\n",
              "      <td>...</td>\n",
              "      <td>...</td>\n",
              "      <td>...</td>\n",
              "      <td>...</td>\n",
              "      <td>...</td>\n",
              "      <td>...</td>\n",
              "      <td>...</td>\n",
              "      <td>...</td>\n",
              "      <td>...</td>\n",
              "      <td>...</td>\n",
              "      <td>...</td>\n",
              "      <td>...</td>\n",
              "      <td>...</td>\n",
              "      <td>...</td>\n",
              "      <td>...</td>\n",
              "      <td>...</td>\n",
              "      <td>...</td>\n",
              "      <td>...</td>\n",
              "    </tr>\n",
              "    <tr>\n",
              "      <th>2018-08-13 09:00:00</th>\n",
              "      <td>9</td>\n",
              "      <td>0</td>\n",
              "      <td>91.0</td>\n",
              "      <td>39.0</td>\n",
              "      <td>66.0</td>\n",
              "      <td>83.0</td>\n",
              "      <td>143.0</td>\n",
              "      <td>168.0</td>\n",
              "      <td>437.0</td>\n",
              "      <td>273.0</td>\n",
              "      <td>...</td>\n",
              "      <td>115.0</td>\n",
              "      <td>153.0</td>\n",
              "      <td>149.0</td>\n",
              "      <td>104.0</td>\n",
              "      <td>120.0</td>\n",
              "      <td>123.0</td>\n",
              "      <td>81.0</td>\n",
              "      <td>108.0</td>\n",
              "      <td>108.0</td>\n",
              "      <td>134.041667</td>\n",
              "    </tr>\n",
              "    <tr>\n",
              "      <th>2018-08-13 10:00:00</th>\n",
              "      <td>10</td>\n",
              "      <td>0</td>\n",
              "      <td>137.0</td>\n",
              "      <td>91.0</td>\n",
              "      <td>39.0</td>\n",
              "      <td>66.0</td>\n",
              "      <td>83.0</td>\n",
              "      <td>143.0</td>\n",
              "      <td>168.0</td>\n",
              "      <td>437.0</td>\n",
              "      <td>...</td>\n",
              "      <td>78.0</td>\n",
              "      <td>115.0</td>\n",
              "      <td>153.0</td>\n",
              "      <td>149.0</td>\n",
              "      <td>104.0</td>\n",
              "      <td>120.0</td>\n",
              "      <td>123.0</td>\n",
              "      <td>81.0</td>\n",
              "      <td>108.0</td>\n",
              "      <td>135.250000</td>\n",
              "    </tr>\n",
              "    <tr>\n",
              "      <th>2018-08-13 11:00:00</th>\n",
              "      <td>11</td>\n",
              "      <td>0</td>\n",
              "      <td>156.0</td>\n",
              "      <td>137.0</td>\n",
              "      <td>91.0</td>\n",
              "      <td>39.0</td>\n",
              "      <td>66.0</td>\n",
              "      <td>83.0</td>\n",
              "      <td>143.0</td>\n",
              "      <td>168.0</td>\n",
              "      <td>...</td>\n",
              "      <td>82.0</td>\n",
              "      <td>78.0</td>\n",
              "      <td>115.0</td>\n",
              "      <td>153.0</td>\n",
              "      <td>149.0</td>\n",
              "      <td>104.0</td>\n",
              "      <td>120.0</td>\n",
              "      <td>123.0</td>\n",
              "      <td>81.0</td>\n",
              "      <td>137.250000</td>\n",
              "    </tr>\n",
              "    <tr>\n",
              "      <th>2018-08-13 12:00:00</th>\n",
              "      <td>12</td>\n",
              "      <td>0</td>\n",
              "      <td>144.0</td>\n",
              "      <td>156.0</td>\n",
              "      <td>137.0</td>\n",
              "      <td>91.0</td>\n",
              "      <td>39.0</td>\n",
              "      <td>66.0</td>\n",
              "      <td>83.0</td>\n",
              "      <td>143.0</td>\n",
              "      <td>...</td>\n",
              "      <td>98.0</td>\n",
              "      <td>82.0</td>\n",
              "      <td>78.0</td>\n",
              "      <td>115.0</td>\n",
              "      <td>153.0</td>\n",
              "      <td>149.0</td>\n",
              "      <td>104.0</td>\n",
              "      <td>120.0</td>\n",
              "      <td>123.0</td>\n",
              "      <td>139.875000</td>\n",
              "    </tr>\n",
              "    <tr>\n",
              "      <th>2018-08-13 13:00:00</th>\n",
              "      <td>13</td>\n",
              "      <td>0</td>\n",
              "      <td>92.0</td>\n",
              "      <td>144.0</td>\n",
              "      <td>156.0</td>\n",
              "      <td>137.0</td>\n",
              "      <td>91.0</td>\n",
              "      <td>39.0</td>\n",
              "      <td>66.0</td>\n",
              "      <td>83.0</td>\n",
              "      <td>...</td>\n",
              "      <td>135.0</td>\n",
              "      <td>98.0</td>\n",
              "      <td>82.0</td>\n",
              "      <td>78.0</td>\n",
              "      <td>115.0</td>\n",
              "      <td>153.0</td>\n",
              "      <td>149.0</td>\n",
              "      <td>104.0</td>\n",
              "      <td>120.0</td>\n",
              "      <td>138.583333</td>\n",
              "    </tr>\n",
              "  </tbody>\n",
              "</table>\n",
              "<p>3950 rows × 27 columns</p>\n",
              "</div>"
            ],
            "text/plain": [
              "                     hour  dayofweek  lag_1  lag_2  lag_3  lag_4  lag_5  \\\n",
              "datetime                                                                  \n",
              "2018-03-02 00:00:00     0          4   58.0  113.0   66.0   61.0   45.0   \n",
              "2018-03-02 01:00:00     1          4   90.0   58.0  113.0   66.0   61.0   \n",
              "2018-03-02 02:00:00     2          4  120.0   90.0   58.0  113.0   66.0   \n",
              "2018-03-02 03:00:00     3          4   75.0  120.0   90.0   58.0  113.0   \n",
              "2018-03-02 04:00:00     4          4   64.0   75.0  120.0   90.0   58.0   \n",
              "...                   ...        ...    ...    ...    ...    ...    ...   \n",
              "2018-08-13 09:00:00     9          0   91.0   39.0   66.0   83.0  143.0   \n",
              "2018-08-13 10:00:00    10          0  137.0   91.0   39.0   66.0   83.0   \n",
              "2018-08-13 11:00:00    11          0  156.0  137.0   91.0   39.0   66.0   \n",
              "2018-08-13 12:00:00    12          0  144.0  156.0  137.0   91.0   39.0   \n",
              "2018-08-13 13:00:00    13          0   92.0  144.0  156.0  137.0   91.0   \n",
              "\n",
              "                     lag_6  lag_7  lag_8  ...  lag_16  lag_17  lag_18  lag_19  \\\n",
              "datetime                                  ...                                   \n",
              "2018-03-02 00:00:00   73.0   44.0   43.0  ...    34.0    15.0    12.0     6.0   \n",
              "2018-03-02 01:00:00   45.0   73.0   44.0  ...    69.0    34.0    15.0    12.0   \n",
              "2018-03-02 02:00:00   61.0   45.0   73.0  ...    64.0    69.0    34.0    15.0   \n",
              "2018-03-02 03:00:00   66.0   61.0   45.0  ...    96.0    64.0    69.0    34.0   \n",
              "2018-03-02 04:00:00  113.0   66.0   61.0  ...    30.0    96.0    64.0    69.0   \n",
              "...                    ...    ...    ...  ...     ...     ...     ...     ...   \n",
              "2018-08-13 09:00:00  168.0  437.0  273.0  ...   115.0   153.0   149.0   104.0   \n",
              "2018-08-13 10:00:00  143.0  168.0  437.0  ...    78.0   115.0   153.0   149.0   \n",
              "2018-08-13 11:00:00   83.0  143.0  168.0  ...    82.0    78.0   115.0   153.0   \n",
              "2018-08-13 12:00:00   66.0   83.0  143.0  ...    98.0    82.0    78.0   115.0   \n",
              "2018-08-13 13:00:00   39.0   66.0   83.0  ...   135.0    98.0    82.0    78.0   \n",
              "\n",
              "                     lag_20  lag_21  lag_22  lag_23  lag_24  rolling_mean  \n",
              "datetime                                                                   \n",
              "2018-03-02 00:00:00    43.0    66.0    71.0    85.0   124.0     56.833333  \n",
              "2018-03-02 01:00:00     6.0    43.0    66.0    71.0    85.0     55.416667  \n",
              "2018-03-02 02:00:00    12.0     6.0    43.0    66.0    71.0     56.875000  \n",
              "2018-03-02 03:00:00    15.0    12.0     6.0    43.0    66.0     57.041667  \n",
              "2018-03-02 04:00:00    34.0    15.0    12.0     6.0    43.0     56.958333  \n",
              "...                     ...     ...     ...     ...     ...           ...  \n",
              "2018-08-13 09:00:00   120.0   123.0    81.0   108.0   108.0    134.041667  \n",
              "2018-08-13 10:00:00   104.0   120.0   123.0    81.0   108.0    135.250000  \n",
              "2018-08-13 11:00:00   149.0   104.0   120.0   123.0    81.0    137.250000  \n",
              "2018-08-13 12:00:00   153.0   149.0   104.0   120.0   123.0    139.875000  \n",
              "2018-08-13 13:00:00   115.0   153.0   149.0   104.0   120.0    138.583333  \n",
              "\n",
              "[3950 rows x 27 columns]"
            ]
          },
          "execution_count": 15,
          "metadata": {},
          "output_type": "execute_result"
        }
      ],
      "source": [
        "features_train.head()"
      ]
    },
    {
      "cell_type": "markdown",
      "metadata": {
        "id": "jJ868mY0vdPy"
      },
      "source": [
        "### Обучение моделей"
      ]
    },
    {
      "cell_type": "markdown",
      "metadata": {
        "id": "DLW8lzpbvdPz"
      },
      "source": [
        "Линейная регрессия"
      ]
    },
    {
      "cell_type": "code",
      "execution_count": null,
      "metadata": {
        "scrolled": true,
        "id": "Kp7Q2BP-vdPz",
        "outputId": "392b00d2-2eae-49cd-da20-b878f8f81f13"
      },
      "outputs": [
        {
          "name": "stderr",
          "output_type": "stream",
          "text": [
            "/opt/conda/lib/python3.9/site-packages/sklearn/model_selection/_search.py:285: UserWarning: The total space of parameters 1 is smaller than n_iter=10. Running 1 iterations. For exhaustive searches, use GridSearchCV.\n",
            "  warnings.warn(\n"
          ]
        },
        {
          "name": "stdout",
          "output_type": "stream",
          "text": [
            "RMSE линейной регрессии: 27.00822254600308\n"
          ]
        }
      ],
      "source": [
        "params = {}\n",
        "cv_lr = RandomizedSearchCV(LinearRegression(), params, cv=TimeSeriesSplit(6), scoring='neg_root_mean_squared_error')\n",
        "\n",
        "lr_model = cv_lr.fit(features_train, target_train)\n",
        "print('RMSE линейной регрессии:', abs(lr_model.best_score_))"
      ]
    },
    {
      "cell_type": "markdown",
      "metadata": {
        "id": "YE63LX0tvdPz"
      },
      "source": [
        "Случайный лес"
      ]
    },
    {
      "cell_type": "code",
      "execution_count": null,
      "metadata": {
        "scrolled": true,
        "id": "Tv-6UfIwvdPz",
        "outputId": "708dd65f-22dd-4cab-be09-886240602bc8"
      },
      "outputs": [
        {
          "name": "stdout",
          "output_type": "stream",
          "text": [
            "Лучшие параметры случайного леса: {'n_estimators': 20, 'min_samples_leaf': 2, 'max_depth': 9}\n",
            "RMSE случайного леса: 25.667336123632936\n"
          ]
        }
      ],
      "source": [
        "params = {'max_depth': range(1, 10),\n",
        "          'n_estimators': range(10, 51, 10),\n",
        "          'min_samples_leaf': range(1, 5)}\n",
        "cv_rf = RandomizedSearchCV(RandomForestRegressor(), params, cv=TimeSeriesSplit(6), scoring='neg_root_mean_squared_error')\n",
        "\n",
        "rf_model = cv_rf.fit(features_train, target_train)\n",
        "print('Лучшие параметры случайного леса:', rf_model.best_params_)\n",
        "print('RMSE случайного леса:', abs(rf_model.best_score_))"
      ]
    },
    {
      "cell_type": "markdown",
      "metadata": {
        "id": "06bv1TWOvdP0"
      },
      "source": [
        "CatBoost"
      ]
    },
    {
      "cell_type": "code",
      "execution_count": null,
      "metadata": {
        "scrolled": false,
        "id": "aJwIzJu2vdP0",
        "outputId": "615740d4-3d9d-46a6-abe0-426f1de4e568"
      },
      "outputs": [
        {
          "name": "stdout",
          "output_type": "stream",
          "text": [
            "Лучшие параметры CatBoost: {'n_estimators': 20, 'max_depth': 4, 'learning_rate': 0.1}\n",
            "RMSE CatBoost: 28.436230979279884\n"
          ]
        }
      ],
      "source": [
        "params = {'max_depth': range(1, 5),\n",
        "          'n_estimators': range(10, 31, 10),\n",
        "          'learning_rate': np.arange(0.1, 0.5)}\n",
        "cv_cat = RandomizedSearchCV(CatBoostRegressor(verbose=False), params,\n",
        "                            cv=TimeSeriesSplit(6), scoring='neg_root_mean_squared_error')\n",
        "\n",
        "cat_model = cv_cat.fit(features_train, target_train)\n",
        "print('Лучшие параметры CatBoost:', cat_model.best_params_)\n",
        "print('RMSE CatBoost:', abs(cat_model.best_score_))"
      ]
    },
    {
      "cell_type": "markdown",
      "metadata": {
        "id": "SZmFZCHSvdP0"
      },
      "source": [
        "Вывод: в данном разделе мы добавили новые признаки в таблицу для того, чтобы модели лучше обучались, затем разделили их на выборки, не смешивая между собой, чтобы сохранить временной ряд. Подобрав гиперпараметры к моделям (линейная, деревья и бустинг), мы попутно оценили RMSE, и получили лучшую модель, которой оказался случайный лес. Проверим её на тестовой выборке"
      ]
    },
    {
      "cell_type": "markdown",
      "metadata": {
        "id": "5pv-X-P0vdP1"
      },
      "source": [
        "## Тестирование"
      ]
    },
    {
      "cell_type": "markdown",
      "metadata": {
        "id": "bvyPoYGOvdP1"
      },
      "source": [
        "Для тестирования мы возьмём модель случайного леса с лучшими подобранными параметрами: n_estimators=50, min_samples_leaf=1, max_depth=8 "
      ]
    },
    {
      "cell_type": "code",
      "execution_count": null,
      "metadata": {
        "id": "FRojZ88MvdP1",
        "outputId": "65a79644-8346-41c4-b6c3-26dd26731366"
      },
      "outputs": [
        {
          "name": "stdout",
          "output_type": "stream",
          "text": [
            "RMSE на тестовой выборке: 44.11184782576674\n"
          ]
        }
      ],
      "source": [
        "rf_model = RandomForestRegressor(n_estimators=30, min_samples_leaf=4, max_depth=9)\n",
        "rf_model.fit(features_train, target_train)\n",
        "predict_rf = rf_model.predict(features_test)\n",
        "print('RMSE на тестовой выборке:', mean_squared_error(target_test, predict_rf, squared=False))"
      ]
    },
    {
      "cell_type": "markdown",
      "metadata": {
        "id": "v8u2fV0gvdP2"
      },
      "source": [
        "Вывод: с помощью модели случайного леса мы добились минимальной ошибки в ~44 заказа. Для этого мы провели подготовку данных, исследовали их, подготовили признаки. Затем обучили несколько моделей разного типа, подобрали лучшие гиперпараметры, нашли лучшую и проверили её на тестовой выборке"
      ]
    }
  ],
  "metadata": {
    "ExecuteTimeLog": [
      {
        "duration": 365,
        "start_time": "2023-05-26T11:18:28.132Z"
      },
      {
        "duration": 162,
        "start_time": "2023-05-26T11:19:05.004Z"
      },
      {
        "duration": 16,
        "start_time": "2023-05-26T11:19:16.206Z"
      },
      {
        "duration": 72,
        "start_time": "2023-05-26T11:19:39.319Z"
      },
      {
        "duration": 47,
        "start_time": "2023-05-26T11:19:58.723Z"
      },
      {
        "duration": 6,
        "start_time": "2023-05-26T11:20:00.789Z"
      },
      {
        "duration": 521,
        "start_time": "2023-05-26T11:20:29.216Z"
      },
      {
        "duration": 328,
        "start_time": "2023-05-26T11:20:54.473Z"
      },
      {
        "duration": 6,
        "start_time": "2023-05-26T11:21:43.668Z"
      },
      {
        "duration": 28,
        "start_time": "2023-05-26T11:23:59.385Z"
      },
      {
        "duration": 10,
        "start_time": "2023-05-26T11:24:41.399Z"
      },
      {
        "duration": 2,
        "start_time": "2023-05-26T11:26:15.645Z"
      },
      {
        "duration": 16,
        "start_time": "2023-05-26T11:26:16.216Z"
      },
      {
        "duration": 44,
        "start_time": "2023-05-26T11:26:47.323Z"
      },
      {
        "duration": 7,
        "start_time": "2023-05-26T11:26:50.035Z"
      },
      {
        "duration": 10,
        "start_time": "2023-05-26T11:26:52.713Z"
      },
      {
        "duration": 79,
        "start_time": "2023-05-26T11:31:02.856Z"
      },
      {
        "duration": 9,
        "start_time": "2023-05-26T11:31:44.147Z"
      },
      {
        "duration": 6,
        "start_time": "2023-05-26T11:32:33.024Z"
      },
      {
        "duration": 364,
        "start_time": "2023-05-26T11:32:48.412Z"
      },
      {
        "duration": 46,
        "start_time": "2023-05-26T11:32:48.778Z"
      },
      {
        "duration": 10,
        "start_time": "2023-05-26T11:32:48.826Z"
      },
      {
        "duration": 45,
        "start_time": "2023-05-26T11:32:48.837Z"
      },
      {
        "duration": 95,
        "start_time": "2023-05-26T11:32:48.884Z"
      },
      {
        "duration": 87,
        "start_time": "2023-05-26T11:32:48.981Z"
      },
      {
        "duration": 0,
        "start_time": "2023-05-26T11:32:49.069Z"
      },
      {
        "duration": 0,
        "start_time": "2023-05-26T11:32:49.070Z"
      },
      {
        "duration": 11,
        "start_time": "2023-05-26T11:33:27.280Z"
      },
      {
        "duration": 362,
        "start_time": "2023-05-26T11:33:33.717Z"
      },
      {
        "duration": 45,
        "start_time": "2023-05-26T11:33:34.081Z"
      },
      {
        "duration": 12,
        "start_time": "2023-05-26T11:33:34.128Z"
      },
      {
        "duration": 11,
        "start_time": "2023-05-26T11:33:34.141Z"
      },
      {
        "duration": 94,
        "start_time": "2023-05-26T11:33:34.154Z"
      },
      {
        "duration": 8,
        "start_time": "2023-05-26T11:33:34.249Z"
      },
      {
        "duration": 709,
        "start_time": "2023-05-26T11:33:34.259Z"
      },
      {
        "duration": 32,
        "start_time": "2023-05-26T11:33:34.970Z"
      },
      {
        "duration": 9,
        "start_time": "2023-05-26T11:34:24.915Z"
      },
      {
        "duration": 467,
        "start_time": "2023-05-26T11:37:44.758Z"
      },
      {
        "duration": 787,
        "start_time": "2023-05-26T11:57:57.534Z"
      },
      {
        "duration": 48,
        "start_time": "2023-05-26T11:57:58.324Z"
      },
      {
        "duration": 18,
        "start_time": "2023-05-26T11:57:58.374Z"
      },
      {
        "duration": 28,
        "start_time": "2023-05-26T11:57:58.394Z"
      },
      {
        "duration": 5,
        "start_time": "2023-05-26T11:57:58.424Z"
      },
      {
        "duration": 17,
        "start_time": "2023-05-26T11:57:58.431Z"
      },
      {
        "duration": 949,
        "start_time": "2023-05-26T11:57:58.450Z"
      },
      {
        "duration": 13,
        "start_time": "2023-05-26T11:57:59.401Z"
      },
      {
        "duration": 346,
        "start_time": "2023-05-26T12:00:00.666Z"
      },
      {
        "duration": 157,
        "start_time": "2023-05-26T12:10:52.762Z"
      },
      {
        "duration": 183,
        "start_time": "2023-05-26T12:11:05.733Z"
      },
      {
        "duration": 230,
        "start_time": "2023-05-26T12:11:18.146Z"
      },
      {
        "duration": 171,
        "start_time": "2023-05-26T12:11:40.900Z"
      },
      {
        "duration": 195,
        "start_time": "2023-05-26T12:12:14.420Z"
      },
      {
        "duration": 170,
        "start_time": "2023-05-26T12:12:43.451Z"
      },
      {
        "duration": 377,
        "start_time": "2023-05-26T12:16:10.669Z"
      },
      {
        "duration": 330,
        "start_time": "2023-05-26T12:21:10.105Z"
      },
      {
        "duration": 345,
        "start_time": "2023-05-26T12:21:16.210Z"
      },
      {
        "duration": 301,
        "start_time": "2023-05-26T12:22:18.125Z"
      },
      {
        "duration": 533,
        "start_time": "2023-05-26T12:22:39.971Z"
      },
      {
        "duration": 302,
        "start_time": "2023-05-26T12:24:09.320Z"
      },
      {
        "duration": 285,
        "start_time": "2023-05-26T12:24:25.021Z"
      },
      {
        "duration": 119,
        "start_time": "2023-05-26T12:35:18.709Z"
      },
      {
        "duration": 6,
        "start_time": "2023-05-26T12:36:21.448Z"
      },
      {
        "duration": 399,
        "start_time": "2023-05-26T12:57:16.123Z"
      },
      {
        "duration": 13,
        "start_time": "2023-05-26T12:57:19.828Z"
      },
      {
        "duration": 351,
        "start_time": "2023-05-26T12:58:25.819Z"
      },
      {
        "duration": 43,
        "start_time": "2023-05-26T12:58:29.010Z"
      },
      {
        "duration": 447,
        "start_time": "2023-05-26T13:02:24.327Z"
      },
      {
        "duration": 9,
        "start_time": "2023-05-26T13:03:39.163Z"
      },
      {
        "duration": 977,
        "start_time": "2023-05-26T13:03:48.104Z"
      },
      {
        "duration": 67,
        "start_time": "2023-05-26T13:03:49.083Z"
      },
      {
        "duration": 13,
        "start_time": "2023-05-26T13:03:49.152Z"
      },
      {
        "duration": 10,
        "start_time": "2023-05-26T13:03:49.166Z"
      },
      {
        "duration": 1076,
        "start_time": "2023-05-26T13:03:49.178Z"
      },
      {
        "duration": 5,
        "start_time": "2023-05-26T13:03:50.255Z"
      },
      {
        "duration": 20,
        "start_time": "2023-05-26T13:03:50.262Z"
      },
      {
        "duration": 237,
        "start_time": "2023-05-26T13:03:50.283Z"
      },
      {
        "duration": 362,
        "start_time": "2023-05-26T13:03:50.521Z"
      },
      {
        "duration": 136,
        "start_time": "2023-05-26T13:03:50.885Z"
      },
      {
        "duration": 8,
        "start_time": "2023-05-26T13:04:21.360Z"
      },
      {
        "duration": 337,
        "start_time": "2023-05-26T13:10:11.133Z"
      },
      {
        "duration": 12,
        "start_time": "2023-05-26T13:10:48.721Z"
      },
      {
        "duration": 881,
        "start_time": "2023-05-26T13:11:01.875Z"
      },
      {
        "duration": 64,
        "start_time": "2023-05-26T13:11:02.757Z"
      },
      {
        "duration": 12,
        "start_time": "2023-05-26T13:11:02.824Z"
      },
      {
        "duration": 21,
        "start_time": "2023-05-26T13:11:02.838Z"
      },
      {
        "duration": 964,
        "start_time": "2023-05-26T13:11:02.861Z"
      },
      {
        "duration": 7,
        "start_time": "2023-05-26T13:11:03.827Z"
      },
      {
        "duration": 15,
        "start_time": "2023-05-26T13:11:03.835Z"
      },
      {
        "duration": 200,
        "start_time": "2023-05-26T13:11:03.852Z"
      },
      {
        "duration": 114,
        "start_time": "2023-05-26T13:11:04.054Z"
      },
      {
        "duration": 3,
        "start_time": "2023-05-26T13:11:27.130Z"
      },
      {
        "duration": 18,
        "start_time": "2023-05-26T13:11:32.811Z"
      },
      {
        "duration": 5,
        "start_time": "2023-05-26T13:12:11.282Z"
      },
      {
        "duration": 252,
        "start_time": "2023-05-26T13:12:16.409Z"
      },
      {
        "duration": 266,
        "start_time": "2023-05-26T13:12:19.614Z"
      },
      {
        "duration": 260,
        "start_time": "2023-05-26T13:12:44.362Z"
      },
      {
        "duration": 295,
        "start_time": "2023-05-26T13:13:26.522Z"
      },
      {
        "duration": 243,
        "start_time": "2023-05-26T13:15:25.910Z"
      },
      {
        "duration": 206,
        "start_time": "2023-05-26T13:15:42.626Z"
      },
      {
        "duration": 197,
        "start_time": "2023-05-26T13:15:47.010Z"
      },
      {
        "duration": 5,
        "start_time": "2023-05-26T13:47:07.107Z"
      },
      {
        "duration": 376,
        "start_time": "2023-05-26T13:51:38.970Z"
      },
      {
        "duration": 23,
        "start_time": "2023-05-26T13:55:26.048Z"
      },
      {
        "duration": 9,
        "start_time": "2023-05-26T13:57:26.263Z"
      },
      {
        "duration": 7,
        "start_time": "2023-05-26T13:57:52.746Z"
      },
      {
        "duration": 3,
        "start_time": "2023-05-26T14:00:52.968Z"
      },
      {
        "duration": 42,
        "start_time": "2023-05-26T14:01:16.778Z"
      },
      {
        "duration": 28,
        "start_time": "2023-05-26T14:01:27.567Z"
      },
      {
        "duration": 27,
        "start_time": "2023-05-26T14:01:47.802Z"
      },
      {
        "duration": 11,
        "start_time": "2023-05-26T14:02:37.266Z"
      },
      {
        "duration": 208,
        "start_time": "2023-05-26T14:04:41.486Z"
      },
      {
        "duration": 5,
        "start_time": "2023-05-26T14:12:48.103Z"
      },
      {
        "duration": 4,
        "start_time": "2023-05-26T14:13:51.269Z"
      },
      {
        "duration": 38,
        "start_time": "2023-05-26T14:16:36.062Z"
      },
      {
        "duration": 20,
        "start_time": "2023-05-26T14:16:44.439Z"
      },
      {
        "duration": 866,
        "start_time": "2023-05-26T14:17:34.762Z"
      },
      {
        "duration": 209,
        "start_time": "2023-05-26T14:17:57.122Z"
      },
      {
        "duration": 672,
        "start_time": "2023-05-26T14:20:24.454Z"
      },
      {
        "duration": 619,
        "start_time": "2023-05-26T14:21:06.193Z"
      },
      {
        "duration": 1557,
        "start_time": "2023-05-26T14:21:16.522Z"
      },
      {
        "duration": 84,
        "start_time": "2023-05-26T14:21:18.081Z"
      },
      {
        "duration": 76,
        "start_time": "2023-05-26T14:21:18.167Z"
      },
      {
        "duration": 13,
        "start_time": "2023-05-26T14:21:18.245Z"
      },
      {
        "duration": 726,
        "start_time": "2023-05-26T14:21:18.260Z"
      },
      {
        "duration": 119,
        "start_time": "2023-05-26T14:21:18.995Z"
      },
      {
        "duration": 227,
        "start_time": "2023-05-26T14:21:19.115Z"
      },
      {
        "duration": 239,
        "start_time": "2023-05-26T14:21:19.344Z"
      },
      {
        "duration": 188,
        "start_time": "2023-05-26T14:21:19.584Z"
      },
      {
        "duration": 3,
        "start_time": "2023-05-26T14:21:19.774Z"
      },
      {
        "duration": 67,
        "start_time": "2023-05-26T14:21:19.778Z"
      },
      {
        "duration": 21,
        "start_time": "2023-05-26T14:21:19.846Z"
      },
      {
        "duration": 9,
        "start_time": "2023-05-26T14:21:19.868Z"
      },
      {
        "duration": 56,
        "start_time": "2023-05-26T14:21:19.879Z"
      },
      {
        "duration": 20,
        "start_time": "2023-05-26T14:21:19.937Z"
      },
      {
        "duration": 736,
        "start_time": "2023-05-26T14:21:19.958Z"
      },
      {
        "duration": 1650,
        "start_time": "2023-05-26T14:21:53.229Z"
      },
      {
        "duration": 71,
        "start_time": "2023-05-26T14:21:54.881Z"
      },
      {
        "duration": 10,
        "start_time": "2023-05-26T14:21:54.953Z"
      },
      {
        "duration": 10,
        "start_time": "2023-05-26T14:21:54.964Z"
      },
      {
        "duration": 942,
        "start_time": "2023-05-26T14:21:54.976Z"
      },
      {
        "duration": 119,
        "start_time": "2023-05-26T14:21:55.923Z"
      },
      {
        "duration": 258,
        "start_time": "2023-05-26T14:21:56.044Z"
      },
      {
        "duration": 320,
        "start_time": "2023-05-26T14:21:56.304Z"
      },
      {
        "duration": 256,
        "start_time": "2023-05-26T14:21:56.626Z"
      },
      {
        "duration": 22,
        "start_time": "2023-05-26T14:21:56.884Z"
      },
      {
        "duration": 62,
        "start_time": "2023-05-26T14:21:56.908Z"
      },
      {
        "duration": 67,
        "start_time": "2023-05-26T14:21:56.971Z"
      },
      {
        "duration": 8,
        "start_time": "2023-05-26T14:21:57.043Z"
      },
      {
        "duration": 5,
        "start_time": "2023-05-26T14:21:57.054Z"
      },
      {
        "duration": 11,
        "start_time": "2023-05-26T14:21:57.061Z"
      },
      {
        "duration": 664,
        "start_time": "2023-05-26T14:21:57.073Z"
      },
      {
        "duration": 1933,
        "start_time": "2023-05-26T14:22:38.414Z"
      },
      {
        "duration": 82,
        "start_time": "2023-05-26T14:22:40.349Z"
      },
      {
        "duration": 22,
        "start_time": "2023-05-26T14:22:40.433Z"
      },
      {
        "duration": 23,
        "start_time": "2023-05-26T14:22:40.457Z"
      },
      {
        "duration": 848,
        "start_time": "2023-05-26T14:22:40.482Z"
      },
      {
        "duration": 127,
        "start_time": "2023-05-26T14:22:41.331Z"
      },
      {
        "duration": 303,
        "start_time": "2023-05-26T14:22:41.463Z"
      },
      {
        "duration": 333,
        "start_time": "2023-05-26T14:22:41.769Z"
      },
      {
        "duration": 262,
        "start_time": "2023-05-26T14:22:42.104Z"
      },
      {
        "duration": 5,
        "start_time": "2023-05-26T14:22:42.368Z"
      },
      {
        "duration": 73,
        "start_time": "2023-05-26T14:22:42.377Z"
      },
      {
        "duration": 86,
        "start_time": "2023-05-26T14:22:42.453Z"
      },
      {
        "duration": 15,
        "start_time": "2023-05-26T14:22:42.541Z"
      },
      {
        "duration": 4,
        "start_time": "2023-05-26T14:22:42.558Z"
      },
      {
        "duration": 1181,
        "start_time": "2023-05-26T14:22:42.563Z"
      },
      {
        "duration": 16559,
        "start_time": "2023-05-26T14:29:15.311Z"
      },
      {
        "duration": 11,
        "start_time": "2023-05-26T14:33:34.987Z"
      },
      {
        "duration": 7575,
        "start_time": "2023-05-26T14:35:16.400Z"
      },
      {
        "duration": 45087,
        "start_time": "2023-05-26T14:35:39.857Z"
      },
      {
        "duration": 158,
        "start_time": "2023-05-26T14:40:23.900Z"
      },
      {
        "duration": 751,
        "start_time": "2023-05-26T14:41:00.528Z"
      },
      {
        "duration": 806,
        "start_time": "2023-05-26T14:41:29.950Z"
      },
      {
        "duration": 8,
        "start_time": "2023-05-26T14:56:52.816Z"
      },
      {
        "duration": 3194,
        "start_time": "2023-05-26T19:13:47.199Z"
      },
      {
        "duration": 146,
        "start_time": "2023-05-26T19:13:50.396Z"
      },
      {
        "duration": 24,
        "start_time": "2023-05-26T19:13:50.544Z"
      },
      {
        "duration": 26,
        "start_time": "2023-05-26T19:13:50.577Z"
      },
      {
        "duration": 1070,
        "start_time": "2023-05-26T19:13:50.606Z"
      },
      {
        "duration": 23,
        "start_time": "2023-05-26T19:13:51.678Z"
      },
      {
        "duration": 236,
        "start_time": "2023-05-26T19:13:51.703Z"
      },
      {
        "duration": 321,
        "start_time": "2023-05-26T19:13:51.941Z"
      },
      {
        "duration": 281,
        "start_time": "2023-05-26T19:13:52.266Z"
      },
      {
        "duration": 4,
        "start_time": "2023-05-26T19:13:52.552Z"
      },
      {
        "duration": 76,
        "start_time": "2023-05-26T19:13:52.558Z"
      },
      {
        "duration": 37,
        "start_time": "2023-05-26T19:13:52.637Z"
      },
      {
        "duration": 35,
        "start_time": "2023-05-26T19:13:52.683Z"
      },
      {
        "duration": 51,
        "start_time": "2023-05-26T19:13:52.721Z"
      },
      {
        "duration": 1213,
        "start_time": "2023-05-26T19:13:52.775Z"
      },
      {
        "duration": 42,
        "start_time": "2023-05-26T19:14:32.897Z"
      },
      {
        "duration": 2460,
        "start_time": "2023-05-26T19:23:24.309Z"
      },
      {
        "duration": 51,
        "start_time": "2023-05-26T19:23:26.772Z"
      },
      {
        "duration": 11,
        "start_time": "2023-05-26T19:23:26.825Z"
      },
      {
        "duration": 42,
        "start_time": "2023-05-26T19:23:26.837Z"
      },
      {
        "duration": 959,
        "start_time": "2023-05-26T19:23:26.881Z"
      },
      {
        "duration": 17,
        "start_time": "2023-05-26T19:23:27.841Z"
      },
      {
        "duration": 242,
        "start_time": "2023-05-26T19:23:27.859Z"
      },
      {
        "duration": 325,
        "start_time": "2023-05-26T19:23:28.103Z"
      },
      {
        "duration": 213,
        "start_time": "2023-05-26T19:23:28.429Z"
      },
      {
        "duration": 10,
        "start_time": "2023-05-26T19:23:28.643Z"
      },
      {
        "duration": 29,
        "start_time": "2023-05-26T19:23:28.655Z"
      },
      {
        "duration": 24,
        "start_time": "2023-05-26T19:23:28.686Z"
      },
      {
        "duration": 7,
        "start_time": "2023-05-26T19:23:28.712Z"
      },
      {
        "duration": 4,
        "start_time": "2023-05-26T19:23:28.721Z"
      },
      {
        "duration": 51,
        "start_time": "2023-05-26T19:23:28.727Z"
      },
      {
        "duration": 19346,
        "start_time": "2023-05-26T19:23:34.663Z"
      },
      {
        "duration": 752,
        "start_time": "2023-05-26T19:23:58.396Z"
      },
      {
        "duration": 1509,
        "start_time": "2023-05-27T05:39:02.104Z"
      },
      {
        "duration": 153,
        "start_time": "2023-05-27T05:39:03.615Z"
      },
      {
        "duration": 10,
        "start_time": "2023-05-27T05:39:03.769Z"
      },
      {
        "duration": 10,
        "start_time": "2023-05-27T05:39:03.780Z"
      },
      {
        "duration": 775,
        "start_time": "2023-05-27T05:39:03.792Z"
      },
      {
        "duration": 11,
        "start_time": "2023-05-27T05:39:04.569Z"
      },
      {
        "duration": 201,
        "start_time": "2023-05-27T05:39:04.581Z"
      },
      {
        "duration": 264,
        "start_time": "2023-05-27T05:39:04.783Z"
      },
      {
        "duration": 163,
        "start_time": "2023-05-27T05:39:05.048Z"
      },
      {
        "duration": 4,
        "start_time": "2023-05-27T05:39:05.213Z"
      },
      {
        "duration": 34,
        "start_time": "2023-05-27T05:39:05.219Z"
      },
      {
        "duration": 21,
        "start_time": "2023-05-27T05:39:05.254Z"
      },
      {
        "duration": 7,
        "start_time": "2023-05-27T05:39:05.277Z"
      },
      {
        "duration": 23,
        "start_time": "2023-05-27T05:39:05.287Z"
      },
      {
        "duration": 55,
        "start_time": "2023-05-27T05:39:05.312Z"
      },
      {
        "duration": 866,
        "start_time": "2023-05-27T05:39:05.369Z"
      },
      {
        "duration": 21070,
        "start_time": "2023-05-27T05:39:06.239Z"
      },
      {
        "duration": 27835,
        "start_time": "2023-05-27T05:39:27.311Z"
      },
      {
        "duration": 950,
        "start_time": "2023-05-27T05:39:55.148Z"
      },
      {
        "duration": 1338,
        "start_time": "2023-05-27T05:44:46.959Z"
      },
      {
        "duration": 51,
        "start_time": "2023-05-27T05:44:48.298Z"
      },
      {
        "duration": 10,
        "start_time": "2023-05-27T05:44:48.350Z"
      },
      {
        "duration": 18,
        "start_time": "2023-05-27T05:44:48.362Z"
      },
      {
        "duration": 858,
        "start_time": "2023-05-27T05:44:48.382Z"
      },
      {
        "duration": 15,
        "start_time": "2023-05-27T05:44:49.242Z"
      },
      {
        "duration": 201,
        "start_time": "2023-05-27T05:44:49.259Z"
      },
      {
        "duration": 290,
        "start_time": "2023-05-27T05:44:49.461Z"
      },
      {
        "duration": 215,
        "start_time": "2023-05-27T05:44:49.752Z"
      },
      {
        "duration": 4,
        "start_time": "2023-05-27T05:44:49.969Z"
      },
      {
        "duration": 40,
        "start_time": "2023-05-27T05:44:49.975Z"
      },
      {
        "duration": 30,
        "start_time": "2023-05-27T05:44:50.016Z"
      },
      {
        "duration": 8,
        "start_time": "2023-05-27T05:44:50.047Z"
      },
      {
        "duration": 24,
        "start_time": "2023-05-27T05:44:50.057Z"
      },
      {
        "duration": 41,
        "start_time": "2023-05-27T05:44:50.082Z"
      },
      {
        "duration": 1120,
        "start_time": "2023-05-27T05:44:50.125Z"
      },
      {
        "duration": 17645,
        "start_time": "2023-05-27T05:44:51.246Z"
      },
      {
        "duration": 28495,
        "start_time": "2023-05-27T05:45:08.893Z"
      },
      {
        "duration": 900,
        "start_time": "2023-05-27T05:45:37.390Z"
      }
    ],
    "kernelspec": {
      "display_name": "Python 3 (ipykernel)",
      "language": "python",
      "name": "python3"
    },
    "language_info": {
      "codemirror_mode": {
        "name": "ipython",
        "version": 3
      },
      "file_extension": ".py",
      "mimetype": "text/x-python",
      "name": "python",
      "nbconvert_exporter": "python",
      "pygments_lexer": "ipython3",
      "version": "3.9.5"
    },
    "toc": {
      "base_numbering": 1,
      "nav_menu": {},
      "number_sections": true,
      "sideBar": true,
      "skip_h1_title": true,
      "title_cell": "Содержание",
      "title_sidebar": "Contents",
      "toc_cell": true,
      "toc_position": {},
      "toc_section_display": true,
      "toc_window_display": true
    },
    "colab": {
      "provenance": []
    }
  },
  "nbformat": 4,
  "nbformat_minor": 0
}