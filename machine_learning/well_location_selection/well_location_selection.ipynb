{
  "cells": [
    {
      "cell_type": "markdown",
      "metadata": {
        "id": "oEkiy2Ibm_RR"
      },
      "source": [
        "# Выбор локации для скважины"
      ]
    },
    {
      "cell_type": "markdown",
      "metadata": {
        "id": "icKEEDrOm_RR"
      },
      "source": [
        "# Цель\n",
        "\n",
        "Выбрать среди регионов со множеством скважин потенциально самый прибыльный, исходя из данных об объёмах скважин\n",
        "\n",
        "\n",
        "# Содержание\n",
        "\n",
        "1. Загрузка и подготовка данных\n",
        "2. Обучение и проверка модели\n",
        "3. Подготовка к расчёту прибыли\n",
        "4. Расчёт прибыли и рисков\n",
        " - 4.1. Расчёт максимально возможной прибыли в регионах\n",
        " - 4.2. Расчёт прибыли с учётом рисков\n",
        " \n",
        "Решаем задачу регрессии с помощью машинного обучения с учителем"
      ]
    },
    {
      "cell_type": "markdown",
      "metadata": {
        "id": "98ZGF7vCm_RR"
      },
      "source": [
        "## Загрузка и подготовка данных"
      ]
    },
    {
      "cell_type": "markdown",
      "metadata": {
        "id": "t5qaohnjm_RR"
      },
      "source": [
        "Импортируем необходимые библиотеки"
      ]
    },
    {
      "cell_type": "code",
      "execution_count": null,
      "metadata": {
        "id": "tWBYHBzKm_RS"
      },
      "outputs": [],
      "source": [
        "import pandas as pd\n",
        "import numpy as np\n",
        "import scipy as st\n",
        "from sklearn.model_selection import train_test_split\n",
        "from sklearn.linear_model import LinearRegression\n",
        "from sklearn.metrics import mean_squared_error\n",
        "\n",
        "state = np.random.RandomState(12345)"
      ]
    },
    {
      "cell_type": "markdown",
      "metadata": {
        "id": "rReCkxd-m_RS"
      },
      "source": [
        "Прочитаем данные по трём регионам и изучим их"
      ]
    },
    {
      "cell_type": "code",
      "execution_count": null,
      "metadata": {
        "id": "nunXVC4Zm_RS",
        "outputId": "d48227b2-20de-4871-ae8a-f160c92fdb37"
      },
      "outputs": [
        {
          "data": {
            "text/html": [
              "<div>\n",
              "<style scoped>\n",
              "    .dataframe tbody tr th:only-of-type {\n",
              "        vertical-align: middle;\n",
              "    }\n",
              "\n",
              "    .dataframe tbody tr th {\n",
              "        vertical-align: top;\n",
              "    }\n",
              "\n",
              "    .dataframe thead th {\n",
              "        text-align: right;\n",
              "    }\n",
              "</style>\n",
              "<table border=\"1\" class=\"dataframe\">\n",
              "  <thead>\n",
              "    <tr style=\"text-align: right;\">\n",
              "      <th></th>\n",
              "      <th>id</th>\n",
              "      <th>f0</th>\n",
              "      <th>f1</th>\n",
              "      <th>f2</th>\n",
              "      <th>product</th>\n",
              "    </tr>\n",
              "  </thead>\n",
              "  <tbody>\n",
              "    <tr>\n",
              "      <th>0</th>\n",
              "      <td>txEyH</td>\n",
              "      <td>0.705745</td>\n",
              "      <td>-0.497823</td>\n",
              "      <td>1.221170</td>\n",
              "      <td>105.280062</td>\n",
              "    </tr>\n",
              "    <tr>\n",
              "      <th>1</th>\n",
              "      <td>2acmU</td>\n",
              "      <td>1.334711</td>\n",
              "      <td>-0.340164</td>\n",
              "      <td>4.365080</td>\n",
              "      <td>73.037750</td>\n",
              "    </tr>\n",
              "    <tr>\n",
              "      <th>2</th>\n",
              "      <td>409Wp</td>\n",
              "      <td>1.022732</td>\n",
              "      <td>0.151990</td>\n",
              "      <td>1.419926</td>\n",
              "      <td>85.265647</td>\n",
              "    </tr>\n",
              "    <tr>\n",
              "      <th>3</th>\n",
              "      <td>iJLyR</td>\n",
              "      <td>-0.032172</td>\n",
              "      <td>0.139033</td>\n",
              "      <td>2.978566</td>\n",
              "      <td>168.620776</td>\n",
              "    </tr>\n",
              "    <tr>\n",
              "      <th>4</th>\n",
              "      <td>Xdl7t</td>\n",
              "      <td>1.988431</td>\n",
              "      <td>0.155413</td>\n",
              "      <td>4.751769</td>\n",
              "      <td>154.036647</td>\n",
              "    </tr>\n",
              "  </tbody>\n",
              "</table>\n",
              "</div>"
            ],
            "text/plain": [
              "      id        f0        f1        f2     product\n",
              "0  txEyH  0.705745 -0.497823  1.221170  105.280062\n",
              "1  2acmU  1.334711 -0.340164  4.365080   73.037750\n",
              "2  409Wp  1.022732  0.151990  1.419926   85.265647\n",
              "3  iJLyR -0.032172  0.139033  2.978566  168.620776\n",
              "4  Xdl7t  1.988431  0.155413  4.751769  154.036647"
            ]
          },
          "execution_count": 2,
          "metadata": {},
          "output_type": "execute_result"
        }
      ],
      "source": [
        "data_0 = pd.read_csv('/datasets/geo_data_0.csv')\n",
        "data_0.head()"
      ]
    },
    {
      "cell_type": "code",
      "execution_count": null,
      "metadata": {
        "scrolled": false,
        "id": "aobYmy9mm_RT",
        "outputId": "bf629763-0d7f-4e48-e798-226d1e479267"
      },
      "outputs": [
        {
          "name": "stdout",
          "output_type": "stream",
          "text": [
            "<class 'pandas.core.frame.DataFrame'>\n",
            "RangeIndex: 100000 entries, 0 to 99999\n",
            "Data columns (total 5 columns):\n",
            " #   Column   Non-Null Count   Dtype  \n",
            "---  ------   --------------   -----  \n",
            " 0   id       100000 non-null  object \n",
            " 1   f0       100000 non-null  float64\n",
            " 2   f1       100000 non-null  float64\n",
            " 3   f2       100000 non-null  float64\n",
            " 4   product  100000 non-null  float64\n",
            "dtypes: float64(4), object(1)\n",
            "memory usage: 3.8+ MB\n"
          ]
        }
      ],
      "source": [
        "data_0.info()"
      ]
    },
    {
      "cell_type": "code",
      "execution_count": null,
      "metadata": {
        "id": "T7OSyUdkm_RT",
        "outputId": "b2d7d888-95b6-400f-beda-6e4d65e968a7"
      },
      "outputs": [
        {
          "data": {
            "text/plain": [
              "0"
            ]
          },
          "execution_count": 4,
          "metadata": {},
          "output_type": "execute_result"
        }
      ],
      "source": [
        "data_0.duplicated().sum()"
      ]
    },
    {
      "cell_type": "markdown",
      "metadata": {
        "id": "I-lrK6kJm_RT"
      },
      "source": [
        "Как видно из данных, в таблице есть столбец с id скважины, который необходимо удалить, так как он мешает использованию модели регрессии и в целом никак не повлияет на результат расчётов"
      ]
    },
    {
      "cell_type": "markdown",
      "metadata": {
        "id": "tEmlDDS3m_RT"
      },
      "source": [
        "<div class=\"alert alert-block alert-success\">\n",
        "<b>Успех:</b> Согласен\n",
        "</div>\n"
      ]
    },
    {
      "cell_type": "code",
      "execution_count": null,
      "metadata": {
        "id": "gZr4tkPEm_RU"
      },
      "outputs": [],
      "source": [
        "data_0 = data_0.drop(columns=['id'], axis=1)"
      ]
    },
    {
      "cell_type": "markdown",
      "metadata": {
        "id": "voQDrqsnm_RU"
      },
      "source": [
        "Посмотрим на графики распределения численных признаков. Видно, что в данных нет никаких выбросов, а значит масштабировать их не имеет смысла"
      ]
    },
    {
      "cell_type": "code",
      "execution_count": null,
      "metadata": {
        "scrolled": true,
        "id": "dCGiIm4-m_RU",
        "outputId": "27e24013-5fad-470e-8ff8-9bdcf34d9267"
      },
      "outputs": [
        {
          "data": {
            "image/png": "[encoded data removed]",
            "text/plain": [
              "<Figure size 720x720 with 4 Axes>"
            ]
          },
          "metadata": {
            "needs_background": "light"
          },
          "output_type": "display_data"
        }
      ],
      "source": [
        "data_0.hist(figsize=(10, 10));"
      ]
    },
    {
      "cell_type": "code",
      "execution_count": null,
      "metadata": {
        "id": "kMpf5mlBm_RU",
        "outputId": "db6be1dc-64cb-4ffe-98a5-f140ae0aa975"
      },
      "outputs": [
        {
          "data": {
            "text/html": [
              "<div>\n",
              "<style scoped>\n",
              "    .dataframe tbody tr th:only-of-type {\n",
              "        vertical-align: middle;\n",
              "    }\n",
              "\n",
              "    .dataframe tbody tr th {\n",
              "        vertical-align: top;\n",
              "    }\n",
              "\n",
              "    .dataframe thead th {\n",
              "        text-align: right;\n",
              "    }\n",
              "</style>\n",
              "<table border=\"1\" class=\"dataframe\">\n",
              "  <thead>\n",
              "    <tr style=\"text-align: right;\">\n",
              "      <th></th>\n",
              "      <th>f0</th>\n",
              "      <th>f1</th>\n",
              "      <th>f2</th>\n",
              "      <th>product</th>\n",
              "    </tr>\n",
              "  </thead>\n",
              "  <tbody>\n",
              "    <tr>\n",
              "      <th>f0</th>\n",
              "      <td>1.000000</td>\n",
              "      <td>-0.440723</td>\n",
              "      <td>-0.003153</td>\n",
              "      <td>0.143536</td>\n",
              "    </tr>\n",
              "    <tr>\n",
              "      <th>f1</th>\n",
              "      <td>-0.440723</td>\n",
              "      <td>1.000000</td>\n",
              "      <td>0.001724</td>\n",
              "      <td>-0.192356</td>\n",
              "    </tr>\n",
              "    <tr>\n",
              "      <th>f2</th>\n",
              "      <td>-0.003153</td>\n",
              "      <td>0.001724</td>\n",
              "      <td>1.000000</td>\n",
              "      <td>0.483663</td>\n",
              "    </tr>\n",
              "    <tr>\n",
              "      <th>product</th>\n",
              "      <td>0.143536</td>\n",
              "      <td>-0.192356</td>\n",
              "      <td>0.483663</td>\n",
              "      <td>1.000000</td>\n",
              "    </tr>\n",
              "  </tbody>\n",
              "</table>\n",
              "</div>"
            ],
            "text/plain": [
              "               f0        f1        f2   product\n",
              "f0       1.000000 -0.440723 -0.003153  0.143536\n",
              "f1      -0.440723  1.000000  0.001724 -0.192356\n",
              "f2      -0.003153  0.001724  1.000000  0.483663\n",
              "product  0.143536 -0.192356  0.483663  1.000000"
            ]
          },
          "execution_count": 7,
          "metadata": {},
          "output_type": "execute_result"
        }
      ],
      "source": [
        "data_0.corr()"
      ]
    },
    {
      "cell_type": "code",
      "execution_count": null,
      "metadata": {
        "id": "_gmzZZaDm_RU",
        "outputId": "d24f1ada-e700-44d1-de74-cf71cf16ea46"
      },
      "outputs": [
        {
          "data": {
            "text/html": [
              "<div>\n",
              "<style scoped>\n",
              "    .dataframe tbody tr th:only-of-type {\n",
              "        vertical-align: middle;\n",
              "    }\n",
              "\n",
              "    .dataframe tbody tr th {\n",
              "        vertical-align: top;\n",
              "    }\n",
              "\n",
              "    .dataframe thead th {\n",
              "        text-align: right;\n",
              "    }\n",
              "</style>\n",
              "<table border=\"1\" class=\"dataframe\">\n",
              "  <thead>\n",
              "    <tr style=\"text-align: right;\">\n",
              "      <th></th>\n",
              "      <th>id</th>\n",
              "      <th>f0</th>\n",
              "      <th>f1</th>\n",
              "      <th>f2</th>\n",
              "      <th>product</th>\n",
              "    </tr>\n",
              "  </thead>\n",
              "  <tbody>\n",
              "    <tr>\n",
              "      <th>0</th>\n",
              "      <td>kBEdx</td>\n",
              "      <td>-15.001348</td>\n",
              "      <td>-8.276000</td>\n",
              "      <td>-0.005876</td>\n",
              "      <td>3.179103</td>\n",
              "    </tr>\n",
              "    <tr>\n",
              "      <th>1</th>\n",
              "      <td>62mP7</td>\n",
              "      <td>14.272088</td>\n",
              "      <td>-3.475083</td>\n",
              "      <td>0.999183</td>\n",
              "      <td>26.953261</td>\n",
              "    </tr>\n",
              "    <tr>\n",
              "      <th>2</th>\n",
              "      <td>vyE1P</td>\n",
              "      <td>6.263187</td>\n",
              "      <td>-5.948386</td>\n",
              "      <td>5.001160</td>\n",
              "      <td>134.766305</td>\n",
              "    </tr>\n",
              "    <tr>\n",
              "      <th>3</th>\n",
              "      <td>KcrkZ</td>\n",
              "      <td>-13.081196</td>\n",
              "      <td>-11.506057</td>\n",
              "      <td>4.999415</td>\n",
              "      <td>137.945408</td>\n",
              "    </tr>\n",
              "    <tr>\n",
              "      <th>4</th>\n",
              "      <td>AHL4O</td>\n",
              "      <td>12.702195</td>\n",
              "      <td>-8.147433</td>\n",
              "      <td>5.004363</td>\n",
              "      <td>134.766305</td>\n",
              "    </tr>\n",
              "  </tbody>\n",
              "</table>\n",
              "</div>"
            ],
            "text/plain": [
              "      id         f0         f1        f2     product\n",
              "0  kBEdx -15.001348  -8.276000 -0.005876    3.179103\n",
              "1  62mP7  14.272088  -3.475083  0.999183   26.953261\n",
              "2  vyE1P   6.263187  -5.948386  5.001160  134.766305\n",
              "3  KcrkZ -13.081196 -11.506057  4.999415  137.945408\n",
              "4  AHL4O  12.702195  -8.147433  5.004363  134.766305"
            ]
          },
          "execution_count": 8,
          "metadata": {},
          "output_type": "execute_result"
        }
      ],
      "source": [
        "data_1 = pd.read_csv('/datasets/geo_data_1.csv')\n",
        "data_1.head()"
      ]
    },
    {
      "cell_type": "code",
      "execution_count": null,
      "metadata": {
        "scrolled": true,
        "id": "4sjxnUzWm_RU",
        "outputId": "c54057df-5299-4fe1-ea7f-78d2cb2c82d2"
      },
      "outputs": [
        {
          "name": "stdout",
          "output_type": "stream",
          "text": [
            "<class 'pandas.core.frame.DataFrame'>\n",
            "RangeIndex: 100000 entries, 0 to 99999\n",
            "Data columns (total 5 columns):\n",
            " #   Column   Non-Null Count   Dtype  \n",
            "---  ------   --------------   -----  \n",
            " 0   id       100000 non-null  object \n",
            " 1   f0       100000 non-null  float64\n",
            " 2   f1       100000 non-null  float64\n",
            " 3   f2       100000 non-null  float64\n",
            " 4   product  100000 non-null  float64\n",
            "dtypes: float64(4), object(1)\n",
            "memory usage: 3.8+ MB\n"
          ]
        }
      ],
      "source": [
        "data_1.info()"
      ]
    },
    {
      "cell_type": "code",
      "execution_count": null,
      "metadata": {
        "id": "jvq6JjBUm_RU",
        "outputId": "e74d9821-34d2-4342-cc3b-d5fa8c0c606a"
      },
      "outputs": [
        {
          "data": {
            "text/plain": [
              "0"
            ]
          },
          "execution_count": 10,
          "metadata": {},
          "output_type": "execute_result"
        }
      ],
      "source": [
        "data_1.duplicated().sum()"
      ]
    },
    {
      "cell_type": "code",
      "execution_count": null,
      "metadata": {
        "id": "g92VO74Bm_RV"
      },
      "outputs": [],
      "source": [
        "data_1 = data_1.drop(columns=['id'], axis=1)"
      ]
    },
    {
      "cell_type": "code",
      "execution_count": null,
      "metadata": {
        "scrolled": true,
        "id": "JxajSzWOm_RV",
        "outputId": "890e284e-959f-4155-8b81-99620d899e9f"
      },
      "outputs": [
        {
          "data": {
            "image/png": "[encoded data removed]",
            "text/plain": [
              "<Figure size 720x720 with 4 Axes>"
            ]
          },
          "metadata": {
            "needs_background": "light"
          },
          "output_type": "display_data"
        }
      ],
      "source": [
        "data_1.hist(figsize=(10, 10));"
      ]
    },
    {
      "cell_type": "markdown",
      "metadata": {
        "id": "cg4FpYYCm_RV"
      },
      "source": [
        "Видно, что в данном датасете 2 признака распределены ненормально. Так как данные синтетические, разбираться в причинах такого распределения тоже не станем"
      ]
    },
    {
      "cell_type": "code",
      "execution_count": null,
      "metadata": {
        "scrolled": true,
        "id": "eh2Bw4ism_RV",
        "outputId": "67b00009-2cc7-4bbf-8096-da7ff4151a53"
      },
      "outputs": [
        {
          "data": {
            "text/html": [
              "<div>\n",
              "<style scoped>\n",
              "    .dataframe tbody tr th:only-of-type {\n",
              "        vertical-align: middle;\n",
              "    }\n",
              "\n",
              "    .dataframe tbody tr th {\n",
              "        vertical-align: top;\n",
              "    }\n",
              "\n",
              "    .dataframe thead th {\n",
              "        text-align: right;\n",
              "    }\n",
              "</style>\n",
              "<table border=\"1\" class=\"dataframe\">\n",
              "  <thead>\n",
              "    <tr style=\"text-align: right;\">\n",
              "      <th></th>\n",
              "      <th>f0</th>\n",
              "      <th>f1</th>\n",
              "      <th>f2</th>\n",
              "      <th>product</th>\n",
              "    </tr>\n",
              "  </thead>\n",
              "  <tbody>\n",
              "    <tr>\n",
              "      <th>f0</th>\n",
              "      <td>1.000000</td>\n",
              "      <td>0.182287</td>\n",
              "      <td>-0.001777</td>\n",
              "      <td>-0.030491</td>\n",
              "    </tr>\n",
              "    <tr>\n",
              "      <th>f1</th>\n",
              "      <td>0.182287</td>\n",
              "      <td>1.000000</td>\n",
              "      <td>-0.002595</td>\n",
              "      <td>-0.010155</td>\n",
              "    </tr>\n",
              "    <tr>\n",
              "      <th>f2</th>\n",
              "      <td>-0.001777</td>\n",
              "      <td>-0.002595</td>\n",
              "      <td>1.000000</td>\n",
              "      <td>0.999397</td>\n",
              "    </tr>\n",
              "    <tr>\n",
              "      <th>product</th>\n",
              "      <td>-0.030491</td>\n",
              "      <td>-0.010155</td>\n",
              "      <td>0.999397</td>\n",
              "      <td>1.000000</td>\n",
              "    </tr>\n",
              "  </tbody>\n",
              "</table>\n",
              "</div>"
            ],
            "text/plain": [
              "               f0        f1        f2   product\n",
              "f0       1.000000  0.182287 -0.001777 -0.030491\n",
              "f1       0.182287  1.000000 -0.002595 -0.010155\n",
              "f2      -0.001777 -0.002595  1.000000  0.999397\n",
              "product -0.030491 -0.010155  0.999397  1.000000"
            ]
          },
          "execution_count": 13,
          "metadata": {},
          "output_type": "execute_result"
        }
      ],
      "source": [
        "data_1.corr()"
      ]
    },
    {
      "cell_type": "markdown",
      "metadata": {
        "id": "GfNCqKDQm_RV"
      },
      "source": [
        "Видим, что очень сильная корреляция между признаками f2 и product. Это говорит о том, что предсказания по этой модели будут, скорее всего, ненадёжными. Возможно, один из признаков был искусственно получен из другого"
      ]
    },
    {
      "cell_type": "code",
      "execution_count": null,
      "metadata": {
        "id": "ee8iYD6Xm_RV",
        "outputId": "1d5da6cb-1c61-4ea7-8d6c-118829eb4f07"
      },
      "outputs": [
        {
          "data": {
            "text/html": [
              "<div>\n",
              "<style scoped>\n",
              "    .dataframe tbody tr th:only-of-type {\n",
              "        vertical-align: middle;\n",
              "    }\n",
              "\n",
              "    .dataframe tbody tr th {\n",
              "        vertical-align: top;\n",
              "    }\n",
              "\n",
              "    .dataframe thead th {\n",
              "        text-align: right;\n",
              "    }\n",
              "</style>\n",
              "<table border=\"1\" class=\"dataframe\">\n",
              "  <thead>\n",
              "    <tr style=\"text-align: right;\">\n",
              "      <th></th>\n",
              "      <th>id</th>\n",
              "      <th>f0</th>\n",
              "      <th>f1</th>\n",
              "      <th>f2</th>\n",
              "      <th>product</th>\n",
              "    </tr>\n",
              "  </thead>\n",
              "  <tbody>\n",
              "    <tr>\n",
              "      <th>0</th>\n",
              "      <td>fwXo0</td>\n",
              "      <td>-1.146987</td>\n",
              "      <td>0.963328</td>\n",
              "      <td>-0.828965</td>\n",
              "      <td>27.758673</td>\n",
              "    </tr>\n",
              "    <tr>\n",
              "      <th>1</th>\n",
              "      <td>WJtFt</td>\n",
              "      <td>0.262778</td>\n",
              "      <td>0.269839</td>\n",
              "      <td>-2.530187</td>\n",
              "      <td>56.069697</td>\n",
              "    </tr>\n",
              "    <tr>\n",
              "      <th>2</th>\n",
              "      <td>ovLUW</td>\n",
              "      <td>0.194587</td>\n",
              "      <td>0.289035</td>\n",
              "      <td>-5.586433</td>\n",
              "      <td>62.871910</td>\n",
              "    </tr>\n",
              "    <tr>\n",
              "      <th>3</th>\n",
              "      <td>q6cA6</td>\n",
              "      <td>2.236060</td>\n",
              "      <td>-0.553760</td>\n",
              "      <td>0.930038</td>\n",
              "      <td>114.572842</td>\n",
              "    </tr>\n",
              "    <tr>\n",
              "      <th>4</th>\n",
              "      <td>WPMUX</td>\n",
              "      <td>-0.515993</td>\n",
              "      <td>1.716266</td>\n",
              "      <td>5.899011</td>\n",
              "      <td>149.600746</td>\n",
              "    </tr>\n",
              "  </tbody>\n",
              "</table>\n",
              "</div>"
            ],
            "text/plain": [
              "      id        f0        f1        f2     product\n",
              "0  fwXo0 -1.146987  0.963328 -0.828965   27.758673\n",
              "1  WJtFt  0.262778  0.269839 -2.530187   56.069697\n",
              "2  ovLUW  0.194587  0.289035 -5.586433   62.871910\n",
              "3  q6cA6  2.236060 -0.553760  0.930038  114.572842\n",
              "4  WPMUX -0.515993  1.716266  5.899011  149.600746"
            ]
          },
          "execution_count": 14,
          "metadata": {},
          "output_type": "execute_result"
        }
      ],
      "source": [
        "data_2 = pd.read_csv('/datasets/geo_data_2.csv')\n",
        "data_2.head()"
      ]
    },
    {
      "cell_type": "code",
      "execution_count": null,
      "metadata": {
        "scrolled": true,
        "id": "fD3oHChHm_RW",
        "outputId": "3401d8bc-fd0c-40f7-87d7-fdf1e9608d45"
      },
      "outputs": [
        {
          "name": "stdout",
          "output_type": "stream",
          "text": [
            "<class 'pandas.core.frame.DataFrame'>\n",
            "RangeIndex: 100000 entries, 0 to 99999\n",
            "Data columns (total 5 columns):\n",
            " #   Column   Non-Null Count   Dtype  \n",
            "---  ------   --------------   -----  \n",
            " 0   id       100000 non-null  object \n",
            " 1   f0       100000 non-null  float64\n",
            " 2   f1       100000 non-null  float64\n",
            " 3   f2       100000 non-null  float64\n",
            " 4   product  100000 non-null  float64\n",
            "dtypes: float64(4), object(1)\n",
            "memory usage: 3.8+ MB\n"
          ]
        }
      ],
      "source": [
        "data_2.info()"
      ]
    },
    {
      "cell_type": "code",
      "execution_count": null,
      "metadata": {
        "id": "Syh_KpHgm_RW",
        "outputId": "8a4f1a84-15c6-4813-bd08-4c36bbaa380f"
      },
      "outputs": [
        {
          "data": {
            "text/plain": [
              "0"
            ]
          },
          "execution_count": 16,
          "metadata": {},
          "output_type": "execute_result"
        }
      ],
      "source": [
        "data_2.duplicated().sum()"
      ]
    },
    {
      "cell_type": "code",
      "execution_count": null,
      "metadata": {
        "id": "LGSt0xuPm_RW"
      },
      "outputs": [],
      "source": [
        "data_2 = data_2.drop(columns=['id'], axis=1)"
      ]
    },
    {
      "cell_type": "code",
      "execution_count": null,
      "metadata": {
        "scrolled": true,
        "id": "pOV5no7Fm_RW",
        "outputId": "fbf07fe9-5b1d-482e-e7a2-c5e364ae63d8"
      },
      "outputs": [
        {
          "data": {
            "image/png": "[encoded data removed]",
            "text/plain": [
              "<Figure size 720x720 with 4 Axes>"
            ]
          },
          "metadata": {
            "needs_background": "light"
          },
          "output_type": "display_data"
        }
      ],
      "source": [
        "data_2.hist(figsize=(10, 10));"
      ]
    },
    {
      "cell_type": "code",
      "execution_count": null,
      "metadata": {
        "id": "DuzyOU_Tm_RW",
        "outputId": "e633ee77-80cf-4769-8639-da84a9dc7ff0"
      },
      "outputs": [
        {
          "data": {
            "text/html": [
              "<div>\n",
              "<style scoped>\n",
              "    .dataframe tbody tr th:only-of-type {\n",
              "        vertical-align: middle;\n",
              "    }\n",
              "\n",
              "    .dataframe tbody tr th {\n",
              "        vertical-align: top;\n",
              "    }\n",
              "\n",
              "    .dataframe thead th {\n",
              "        text-align: right;\n",
              "    }\n",
              "</style>\n",
              "<table border=\"1\" class=\"dataframe\">\n",
              "  <thead>\n",
              "    <tr style=\"text-align: right;\">\n",
              "      <th></th>\n",
              "      <th>f0</th>\n",
              "      <th>f1</th>\n",
              "      <th>f2</th>\n",
              "      <th>product</th>\n",
              "    </tr>\n",
              "  </thead>\n",
              "  <tbody>\n",
              "    <tr>\n",
              "      <th>f0</th>\n",
              "      <td>1.000000</td>\n",
              "      <td>0.000528</td>\n",
              "      <td>-0.000448</td>\n",
              "      <td>-0.001987</td>\n",
              "    </tr>\n",
              "    <tr>\n",
              "      <th>f1</th>\n",
              "      <td>0.000528</td>\n",
              "      <td>1.000000</td>\n",
              "      <td>0.000779</td>\n",
              "      <td>-0.001012</td>\n",
              "    </tr>\n",
              "    <tr>\n",
              "      <th>f2</th>\n",
              "      <td>-0.000448</td>\n",
              "      <td>0.000779</td>\n",
              "      <td>1.000000</td>\n",
              "      <td>0.445871</td>\n",
              "    </tr>\n",
              "    <tr>\n",
              "      <th>product</th>\n",
              "      <td>-0.001987</td>\n",
              "      <td>-0.001012</td>\n",
              "      <td>0.445871</td>\n",
              "      <td>1.000000</td>\n",
              "    </tr>\n",
              "  </tbody>\n",
              "</table>\n",
              "</div>"
            ],
            "text/plain": [
              "               f0        f1        f2   product\n",
              "f0       1.000000  0.000528 -0.000448 -0.001987\n",
              "f1       0.000528  1.000000  0.000779 -0.001012\n",
              "f2      -0.000448  0.000779  1.000000  0.445871\n",
              "product -0.001987 -0.001012  0.445871  1.000000"
            ]
          },
          "execution_count": 19,
          "metadata": {},
          "output_type": "execute_result"
        }
      ],
      "source": [
        "data_2.corr()"
      ]
    },
    {
      "cell_type": "markdown",
      "metadata": {
        "id": "DRgKVeMEm_RW"
      },
      "source": [
        "После изучения и обработки данных, можем приступить к обучению моделей"
      ]
    },
    {
      "cell_type": "markdown",
      "metadata": {
        "id": "cAgiZQjam_RX"
      },
      "source": [
        "## Обучение и проверка модели"
      ]
    },
    {
      "cell_type": "markdown",
      "metadata": {
        "id": "Z_yy8R90m_RY"
      },
      "source": [
        "Выделим признаки и целевой признак в каждом из датасетов, разобьём на выборки, затем обучим модели и посчитаем средний запас предсказанного сырья (в тыс баррелей) и среднюю ошибку"
      ]
    },
    {
      "cell_type": "code",
      "execution_count": null,
      "metadata": {
        "id": "fPfHjiQ-m_RY",
        "outputId": "c1218a23-e48c-4843-c656-32300d72b53b"
      },
      "outputs": [
        {
          "name": "stdout",
          "output_type": "stream",
          "text": [
            "Средний запас предсказанного сырья в первом регионе: 92.59256778438035\n",
            "Средняя ошибка в первом регионе: 37.5794217150813\n"
          ]
        }
      ],
      "source": [
        "features_0 = data_0.drop(columns=['product'], axis=1)\n",
        "target_0 = data_0['product']\n",
        "\n",
        "features_train_0, features_valid_0, target_train_0, target_valid_0 = train_test_split(\n",
        "    features_0, target_0, test_size=0.25, random_state=state)\n",
        "\n",
        "model_0 = LinearRegression()\n",
        "model_0.fit(features_train_0, target_train_0)\n",
        "predictions_0 = model_0.predict(features_valid_0)\n",
        "print('Средний запас предсказанного сырья в первом регионе:', predictions_0.mean())\n",
        "rmse_0 = mean_squared_error(target_valid_0, predictions_0, squared=False)\n",
        "print('Средняя ошибка в первом регионе:', rmse_0)"
      ]
    },
    {
      "cell_type": "code",
      "execution_count": null,
      "metadata": {
        "id": "PXpm3Nvzm_RY",
        "outputId": "d4a63fd7-5297-4d84-8c02-884243de9b10"
      },
      "outputs": [
        {
          "name": "stdout",
          "output_type": "stream",
          "text": [
            "Средний запас предсказанного сырья во втором регионе: 68.76995145799754\n",
            "Средняя ошибка во втором регионе: 0.889736773768065\n"
          ]
        }
      ],
      "source": [
        "features_1 = data_1.drop(columns=['product'], axis=1)\n",
        "target_1 = data_1['product']\n",
        "\n",
        "features_train_1, features_valid_1, target_train_1, target_valid_1 = train_test_split(\n",
        "    features_1, target_1, test_size=0.25, random_state=state)\n",
        "\n",
        "model_1 = LinearRegression()\n",
        "model_1.fit(features_train_1, target_train_1)\n",
        "predictions_1 = model_1.predict(features_valid_1)\n",
        "print('Средний запас предсказанного сырья во втором регионе:', predictions_1.mean())\n",
        "rmse_1 = mean_squared_error(target_valid_1, predictions_1, squared=False)\n",
        "print('Средняя ошибка во втором регионе:', rmse_1)"
      ]
    },
    {
      "cell_type": "code",
      "execution_count": null,
      "metadata": {
        "id": "VFxg6nlNm_RY",
        "outputId": "55764a02-296a-4afe-90bb-6f0104bd5329"
      },
      "outputs": [
        {
          "name": "stdout",
          "output_type": "stream",
          "text": [
            "Средний запас предсказанного сырья в третьем регионе: 95.087528122523\n",
            "Средняя ошибка в третьем регионе: 39.958042459521614\n"
          ]
        }
      ],
      "source": [
        "features_2 = data_2.drop(columns=['product'], axis=1)\n",
        "target_2 = data_2['product']\n",
        "\n",
        "features_train_2, features_valid_2, target_train_2, target_valid_2 = train_test_split(\n",
        "    features_2, target_2, test_size=0.25, random_state=state)\n",
        "\n",
        "model_2 = LinearRegression()\n",
        "model_2.fit(features_train_2, target_train_2)\n",
        "predictions_2 = model_2.predict(features_valid_2)\n",
        "print('Средний запас предсказанного сырья в третьем регионе:', predictions_2.mean())\n",
        "rmse_2 = mean_squared_error(target_valid_2, predictions_2, squared=False)\n",
        "print('Средняя ошибка в третьем регионе:', rmse_2)"
      ]
    },
    {
      "cell_type": "markdown",
      "metadata": {
        "id": "b34-PhSSm_RY"
      },
      "source": [
        "Исходя из расчётов, самый большой запас сырья в третьем регионе, а самый маленький - во втором"
      ]
    },
    {
      "cell_type": "markdown",
      "metadata": {
        "id": "zSbLx--wm_RZ"
      },
      "source": [
        "## Подготовка к расчёту прибыли"
      ]
    },
    {
      "cell_type": "markdown",
      "metadata": {
        "id": "I4x4-HQZm_RZ"
      },
      "source": [
        "Переведём данные в Series, так как это необходимо для дальнейших вычислений"
      ]
    },
    {
      "cell_type": "code",
      "execution_count": null,
      "metadata": {
        "id": "Bo2Menzom_RZ"
      },
      "outputs": [],
      "source": [
        "target_valid_0 = pd.Series(target_valid_0)\n",
        "target_valid_1 = pd.Series(target_valid_1)\n",
        "target_valid_2 = pd.Series(target_valid_2)\n",
        "\n",
        "predictions_0 = pd.Series(predictions_0, index=target_valid_0.index)\n",
        "predictions_1 = pd.Series(predictions_1, index=target_valid_1.index)\n",
        "predictions_2 = pd.Series(predictions_2, index=target_valid_2.index)"
      ]
    },
    {
      "cell_type": "markdown",
      "metadata": {
        "id": "uUX7u0zkm_RZ"
      },
      "source": [
        "Рассчитаем необходимый минимум баррелей для достижения точки безубыточности. Для этого введём переменные бюджета и дохода с 1 барреля нефти со значенями, которые заданы в условии"
      ]
    },
    {
      "cell_type": "code",
      "execution_count": null,
      "metadata": {
        "id": "Q9ewI_0Gm_RZ",
        "outputId": "ba1cd0e9-40fa-4cb1-8d27-d888b2ca1449"
      },
      "outputs": [
        {
          "name": "stdout",
          "output_type": "stream",
          "text": [
            "Минимальный объём сырья (в тыс. баррелей) для достижения безубыточности: 111.11111111111111\n"
          ]
        }
      ],
      "source": [
        "# суммы указаны в млн рублей\n",
        "BUDGET = 10_000\n",
        "INCOME_PER_UNIT = 0.45\n",
        "COUNT = 200\n",
        "\n",
        "MIN_BARRELS = BUDGET / INCOME_PER_UNIT / COUNT\n",
        "print('Минимальный объём сырья (в тыс. баррелей) для достижения безубыточности:', MIN_BARRELS)"
      ]
    },
    {
      "cell_type": "code",
      "execution_count": null,
      "metadata": {
        "id": "MiUUbXdqm_Ra",
        "outputId": "7451bfc1-d34d-4feb-a70c-e090ca5c700d"
      },
      "outputs": [
        {
          "name": "stdout",
          "output_type": "stream",
          "text": [
            "Средний запас сырья в первом регионе без учёта необходимого минимума: -18.518543326730764\n",
            "Средний запас сырья во втором регионе без учёта необходимого минимума: -42.34115965311358\n",
            "Средний запас сырья в третьем регионе без учёта необходимого минимума: -16.023582988588117\n"
          ]
        }
      ],
      "source": [
        "print('Средний запас сырья в первом регионе без учёта необходимого минимума:', predictions_0.mean() - MIN_BARRELS)\n",
        "print('Средний запас сырья во втором регионе без учёта необходимого минимума:', predictions_1.mean() - MIN_BARRELS)\n",
        "print('Средний запас сырья в третьем регионе без учёта необходимого минимума:', predictions_2.mean() - MIN_BARRELS)"
      ]
    },
    {
      "cell_type": "markdown",
      "metadata": {
        "id": "CL1QKFIEm_Ra"
      },
      "source": [
        "Для достижения безубыточности необходимо добыть 111.112 тысяч баррелей нефти. По расчётам видно, что среднего запаса сырья не хватает ни в одном из регионов. Посмотрим, как обстоят дела в целом по регионам"
      ]
    },
    {
      "cell_type": "code",
      "execution_count": null,
      "metadata": {
        "scrolled": true,
        "id": "Sk286f1vm_Ra",
        "outputId": "26b4922f-023c-48b8-eb7b-1b907ff0b039"
      },
      "outputs": [
        {
          "name": "stdout",
          "output_type": "stream",
          "text": [
            "count    100000.000000\n",
            "mean         92.500000\n",
            "std          44.288691\n",
            "min           0.000000\n",
            "25%          56.497507\n",
            "50%          91.849972\n",
            "75%         128.564089\n",
            "max         185.364347\n",
            "Name: product, dtype: float64\n",
            "\n",
            "count    100000.000000\n",
            "mean         68.825000\n",
            "std          45.944423\n",
            "min           0.000000\n",
            "25%          26.953261\n",
            "50%          57.085625\n",
            "75%         107.813044\n",
            "max         137.945408\n",
            "Name: product, dtype: float64\n",
            "\n",
            "count    100000.000000\n",
            "mean         95.000000\n",
            "std          44.749921\n",
            "min           0.000000\n",
            "25%          59.450441\n",
            "50%          94.925613\n",
            "75%         130.595027\n",
            "max         190.029838\n",
            "Name: product, dtype: float64\n",
            "\n"
          ]
        }
      ],
      "source": [
        "data_list = [data_0, data_1, data_2]\n",
        "for data in data_list:\n",
        "    print(data['product'].describe())\n",
        "    print()"
      ]
    },
    {
      "cell_type": "markdown",
      "metadata": {
        "id": "-LIXxne4m_Ra"
      },
      "source": [
        "Мы видим, что в 1 и 3 регионах третий квартиль больше, чем наша точка безубыточности. А значит в этих регионах больше 25% скважин подходят для достижения безубыточности. Во втором регионе третий квартиль не дотягивает до минимально необходимого запаса сырья, но максимум в этом регионе превосходит необходимое значение, поэтому этот регион стоит рассмотреть в качестве потенциально прибыльного"
      ]
    },
    {
      "cell_type": "markdown",
      "metadata": {
        "id": "XBfPjZjLm_Rb"
      },
      "source": [
        "## Расчёт прибыли и рисков "
      ]
    },
    {
      "cell_type": "markdown",
      "metadata": {
        "id": "vaT7eaoum_Rb"
      },
      "source": [
        "### Расчёт максимально возможной прибыли в регионах"
      ]
    },
    {
      "cell_type": "markdown",
      "metadata": {
        "id": "MITCc5BWm_Rb"
      },
      "source": [
        "Создадим функцию для расчёта прибыли, которая принимает предсказанные объёмы скважин, доход с 1 барреля, количество скважин для разработки, и бюджет на затраты"
      ]
    },
    {
      "cell_type": "code",
      "execution_count": null,
      "metadata": {
        "id": "25NktB_rm_Rb"
      },
      "outputs": [],
      "source": [
        "def profit_calculation(target, predictions):\n",
        "    predict_sorted = predictions.sort_values(ascending=False)\n",
        "    max_values_real = target[predict_sorted.index][:COUNT]\n",
        "    total_profit = (max_values_real.sum() * INCOME_PER_UNIT) - BUDGET    \n",
        "    return total_profit"
      ]
    },
    {
      "cell_type": "markdown",
      "metadata": {
        "id": "frAiPcdUm_Rc"
      },
      "source": [
        "Посчитаем максимально возможную прибыль по нашим предсказаниям в трёх регионах"
      ]
    },
    {
      "cell_type": "code",
      "execution_count": null,
      "metadata": {
        "id": "uivbO25ym_Rd",
        "outputId": "7b5a435f-9a73-4278-e532-ffb9d4a5996e"
      },
      "outputs": [
        {
          "name": "stdout",
          "output_type": "stream",
          "text": [
            "Максимально возможная прибыль для первого региона (в млн рублей): 3320.8260431398503\n"
          ]
        }
      ],
      "source": [
        "profit_0 = profit_calculation(target_valid_0, predictions_0)\n",
        "print('Максимально возможная прибыль для первого региона (в млн рублей):', profit_0)"
      ]
    },
    {
      "cell_type": "code",
      "execution_count": null,
      "metadata": {
        "id": "7nvulANdm_Rd",
        "outputId": "932b8649-a435-481a-d002-8a900c7534f4"
      },
      "outputs": [
        {
          "name": "stdout",
          "output_type": "stream",
          "text": [
            "Максимально возможная прибыль для второго региона (в млн рублей): 2415.086696681512\n"
          ]
        }
      ],
      "source": [
        "profit_1 = profit_calculation(target_valid_1, predictions_1)\n",
        "print('Максимально возможная прибыль для второго региона (в млн рублей):', profit_1)"
      ]
    },
    {
      "cell_type": "code",
      "execution_count": null,
      "metadata": {
        "scrolled": true,
        "id": "pPterj2am_Rd",
        "outputId": "a1851e95-9877-4a97-f510-3e5543ef8d34"
      },
      "outputs": [
        {
          "name": "stdout",
          "output_type": "stream",
          "text": [
            "Максимально возможная прибыль для третьего региона (в млн рублей): 2539.9159458429476\n"
          ]
        }
      ],
      "source": [
        "profit_2 = profit_calculation(target_valid_2, predictions_2)\n",
        "print('Максимально возможная прибыль для третьего региона (в млн рублей):', profit_2)"
      ]
    },
    {
      "cell_type": "markdown",
      "metadata": {
        "id": "U_PPVXHWm_Rd"
      },
      "source": [
        "Как видим, максимально возможная прибыль, исходя из наших предсказаний, больше всего в первом регионе"
      ]
    },
    {
      "cell_type": "markdown",
      "metadata": {
        "id": "MhAi3Fbzm_Rd"
      },
      "source": [
        "### Расчёт прибыли с учётом рисков"
      ]
    },
    {
      "cell_type": "markdown",
      "metadata": {
        "id": "7Af_30oQm_Rd"
      },
      "source": [
        "Рассчитаем распределение прибыли и среднюю прибыль для 500 скважин"
      ]
    },
    {
      "cell_type": "code",
      "execution_count": null,
      "metadata": {
        "scrolled": true,
        "id": "VGPwwci3m_Rd"
      },
      "outputs": [],
      "source": [
        "def bootstrap(target_valid, predictions):\n",
        "    values = []\n",
        "    for i in range(1000):\n",
        "        target_subsample = target_valid.sample(n=500, replace=True, random_state=state)\n",
        "        predict_subsample = predictions[target_subsample.index]\n",
        "        values.append(profit_calculation(target_subsample, predict_subsample))\n",
        "\n",
        "    values = pd.Series(values)\n",
        "\n",
        "    lower = values.quantile(q=0.025)\n",
        "    upper = values.quantile(q=0.975)\n",
        "    \n",
        "    loss_values = []\n",
        "    for i in range(len(values)):\n",
        "        if values[i] < 0:\n",
        "            loss_values.append(i)\n",
        "    return (print('Распределение прибыли для региона (в млн рублей): от', lower, 'до', upper),\n",
        "            print('Средняя прибыль для региона (в млн рублей):', values.mean()),\n",
        "            print('Риск убытков в регионе (в млн рублей)', (len(loss_values) / len(values)) * 100, '%'))"
      ]
    },
    {
      "cell_type": "code",
      "execution_count": null,
      "metadata": {
        "id": "BrT_T1K0m_Rd",
        "outputId": "2e838151-7eee-468d-9677-74b24e6a6fde"
      },
      "outputs": [
        {
          "name": "stdout",
          "output_type": "stream",
          "text": [
            "Распределение прибыли для региона (в млн рублей): от -76.18781389036307 до 957.8465319517837\n",
            "Средняя прибыль для региона (в млн рублей): 423.8972379169057\n",
            "Риск убытков в регионе (в млн рублей) 4.8 %\n"
          ]
        },
        {
          "data": {
            "text/plain": [
              "(None, None, None)"
            ]
          },
          "execution_count": 32,
          "metadata": {},
          "output_type": "execute_result"
        }
      ],
      "source": [
        "bootstrap(target_valid_0, predictions_0)"
      ]
    },
    {
      "cell_type": "code",
      "execution_count": null,
      "metadata": {
        "id": "khxf9cp8m_Re",
        "outputId": "160fdf9f-431e-47aa-89e7-974de33a3eb2"
      },
      "outputs": [
        {
          "name": "stdout",
          "output_type": "stream",
          "text": [
            "Распределение прибыли для региона (в млн рублей): от 108.06689523396285 до 928.5744392324966\n",
            "Средняя прибыль для региона (в млн рублей): 513.2566989172611\n",
            "Риск убытков в регионе (в млн рублей) 0.6 %\n"
          ]
        },
        {
          "data": {
            "text/plain": [
              "(None, None, None)"
            ]
          },
          "execution_count": 33,
          "metadata": {},
          "output_type": "execute_result"
        }
      ],
      "source": [
        "bootstrap(target_valid_1, predictions_1)"
      ]
    },
    {
      "cell_type": "code",
      "execution_count": null,
      "metadata": {
        "id": "lxtFRjcjm_Re",
        "outputId": "9f102454-9e49-464b-fb21-31c035601fa7"
      },
      "outputs": [
        {
          "name": "stdout",
          "output_type": "stream",
          "text": [
            "Распределение прибыли для региона (в млн рублей): от -142.8006300878674 до 893.3805657503997\n",
            "Средняя прибыль для региона (в млн рублей): 381.1203595759018\n",
            "Риск убытков в регионе (в млн рублей) 7.3999999999999995 %\n"
          ]
        },
        {
          "data": {
            "text/plain": [
              "(None, None, None)"
            ]
          },
          "execution_count": 34,
          "metadata": {},
          "output_type": "execute_result"
        }
      ],
      "source": [
        "bootstrap(target_valid_2, predictions_2)"
      ]
    },
    {
      "cell_type": "markdown",
      "metadata": {
        "id": "UK_Domopm_Re"
      },
      "source": [
        "Исходя из вычислений, мы видим, что наилучшее распределение прибыли у 2 региона. Также во 2 регионе самая больша средняя прибыль. В двух других регионах вероятность убытков выше, чем требуется по условию, а значит их нам нужно откинуть. Таким образом, лучшим регионом для разработки скважин является второй"
      ]
    }
  ],
  "metadata": {
    "ExecuteTimeLog": [
      {
        "duration": 476,
        "start_time": "2023-03-30T13:10:11.340Z"
      },
      {
        "duration": 514,
        "start_time": "2023-03-30T13:11:16.951Z"
      },
      {
        "duration": 19,
        "start_time": "2023-03-30T13:12:25.635Z"
      },
      {
        "duration": 213,
        "start_time": "2023-03-30T13:13:39.768Z"
      },
      {
        "duration": 21,
        "start_time": "2023-03-30T13:13:55.228Z"
      },
      {
        "duration": 263,
        "start_time": "2023-03-30T13:14:55.112Z"
      },
      {
        "duration": 21,
        "start_time": "2023-03-30T13:15:04.351Z"
      },
      {
        "duration": 5,
        "start_time": "2023-03-30T13:29:04.534Z"
      },
      {
        "duration": 6,
        "start_time": "2023-03-30T13:29:35.393Z"
      },
      {
        "duration": 7,
        "start_time": "2023-03-30T13:30:11.766Z"
      },
      {
        "duration": 714,
        "start_time": "2023-03-30T13:31:40.053Z"
      },
      {
        "duration": 26,
        "start_time": "2023-03-30T13:37:41.300Z"
      },
      {
        "duration": 15,
        "start_time": "2023-03-30T13:39:05.626Z"
      },
      {
        "duration": 994,
        "start_time": "2023-03-30T13:40:41.470Z"
      },
      {
        "duration": 569,
        "start_time": "2023-03-30T13:42:22.211Z"
      },
      {
        "duration": 588,
        "start_time": "2023-03-30T13:43:54.395Z"
      },
      {
        "duration": 637,
        "start_time": "2023-03-30T13:44:10.792Z"
      },
      {
        "duration": 544,
        "start_time": "2023-03-30T13:44:23.526Z"
      },
      {
        "duration": 548,
        "start_time": "2023-03-30T13:44:31.018Z"
      },
      {
        "duration": 2,
        "start_time": "2023-03-30T13:45:13.344Z"
      },
      {
        "duration": 48,
        "start_time": "2023-03-30T13:57:23.611Z"
      },
      {
        "duration": 24,
        "start_time": "2023-03-30T13:57:36.179Z"
      },
      {
        "duration": 3,
        "start_time": "2023-03-30T14:05:33.903Z"
      },
      {
        "duration": 133,
        "start_time": "2023-03-30T14:13:00.646Z"
      },
      {
        "duration": 35,
        "start_time": "2023-03-30T14:15:34.145Z"
      },
      {
        "duration": 157,
        "start_time": "2023-03-30T14:15:44.907Z"
      },
      {
        "duration": 198,
        "start_time": "2023-03-30T14:16:05.463Z"
      },
      {
        "duration": 57,
        "start_time": "2023-03-30T14:24:30.716Z"
      },
      {
        "duration": 72,
        "start_time": "2023-03-30T14:29:00.096Z"
      },
      {
        "duration": 52,
        "start_time": "2023-03-30T15:02:36.138Z"
      },
      {
        "duration": 4,
        "start_time": "2023-03-30T15:02:42.325Z"
      },
      {
        "duration": 4,
        "start_time": "2023-03-30T15:04:32.307Z"
      },
      {
        "duration": 3,
        "start_time": "2023-03-30T15:33:21.935Z"
      },
      {
        "duration": 271,
        "start_time": "2023-03-30T15:34:45.709Z"
      },
      {
        "duration": 273,
        "start_time": "2023-03-30T15:35:16.792Z"
      },
      {
        "duration": 283,
        "start_time": "2023-03-30T15:35:40.795Z"
      },
      {
        "duration": 263,
        "start_time": "2023-03-30T15:36:18.420Z"
      },
      {
        "duration": 254,
        "start_time": "2023-03-30T15:36:19.670Z"
      },
      {
        "duration": 302,
        "start_time": "2023-03-30T15:36:20.608Z"
      },
      {
        "duration": 4,
        "start_time": "2023-03-30T15:58:55.216Z"
      },
      {
        "duration": 11,
        "start_time": "2023-03-30T16:11:30.078Z"
      },
      {
        "duration": 11,
        "start_time": "2023-03-30T16:13:01.461Z"
      },
      {
        "duration": 517,
        "start_time": "2023-03-30T16:14:34.193Z"
      },
      {
        "duration": 557,
        "start_time": "2023-03-30T16:19:58.300Z"
      },
      {
        "duration": 547,
        "start_time": "2023-03-30T16:21:31.839Z"
      },
      {
        "duration": 509,
        "start_time": "2023-03-30T16:22:00.422Z"
      },
      {
        "duration": 560,
        "start_time": "2023-03-30T16:39:53.503Z"
      },
      {
        "duration": 521,
        "start_time": "2023-03-30T16:39:55.588Z"
      },
      {
        "duration": 511,
        "start_time": "2023-03-30T16:39:57.092Z"
      },
      {
        "duration": 542,
        "start_time": "2023-03-30T16:43:38.499Z"
      },
      {
        "duration": 545,
        "start_time": "2023-03-30T16:44:45.617Z"
      },
      {
        "duration": 530,
        "start_time": "2023-03-30T16:44:51.680Z"
      },
      {
        "duration": 508,
        "start_time": "2023-03-30T16:46:21.851Z"
      },
      {
        "duration": 563,
        "start_time": "2023-03-30T16:47:25.901Z"
      },
      {
        "duration": 572,
        "start_time": "2023-03-30T16:51:26.084Z"
      },
      {
        "duration": 9,
        "start_time": "2023-03-30T17:15:14.118Z"
      },
      {
        "duration": 3,
        "start_time": "2023-03-30T17:15:18.257Z"
      },
      {
        "duration": 300,
        "start_time": "2023-03-30T17:15:19.198Z"
      },
      {
        "duration": 289,
        "start_time": "2023-03-30T17:15:20.500Z"
      },
      {
        "duration": 285,
        "start_time": "2023-03-30T17:15:21.237Z"
      },
      {
        "duration": 550,
        "start_time": "2023-03-30T17:17:02.136Z"
      },
      {
        "duration": 606,
        "start_time": "2023-03-30T17:17:13.601Z"
      },
      {
        "duration": 579,
        "start_time": "2023-03-30T17:17:22.076Z"
      },
      {
        "duration": 6220,
        "start_time": "2023-03-30T17:29:54.185Z"
      },
      {
        "duration": 6140,
        "start_time": "2023-03-30T17:31:29.522Z"
      },
      {
        "duration": 5979,
        "start_time": "2023-03-30T17:34:46.320Z"
      },
      {
        "duration": 6302,
        "start_time": "2023-03-30T17:35:02.321Z"
      },
      {
        "duration": 6360,
        "start_time": "2023-03-30T17:35:36.175Z"
      },
      {
        "duration": 313,
        "start_time": "2023-03-30T17:50:35.379Z"
      },
      {
        "duration": 350,
        "start_time": "2023-03-30T17:51:09.084Z"
      },
      {
        "duration": 345,
        "start_time": "2023-03-30T17:51:13.275Z"
      },
      {
        "duration": 285,
        "start_time": "2023-03-30T17:51:17.073Z"
      },
      {
        "duration": 6407,
        "start_time": "2023-03-30T18:00:32.896Z"
      },
      {
        "duration": 6075,
        "start_time": "2023-03-30T18:00:45.326Z"
      },
      {
        "duration": 6241,
        "start_time": "2023-03-30T18:00:57.396Z"
      },
      {
        "duration": 1070,
        "start_time": "2023-03-30T18:03:16.239Z"
      },
      {
        "duration": 137,
        "start_time": "2023-03-30T18:03:17.311Z"
      },
      {
        "duration": 17,
        "start_time": "2023-03-30T18:03:17.449Z"
      },
      {
        "duration": 5,
        "start_time": "2023-03-30T18:03:17.468Z"
      },
      {
        "duration": 724,
        "start_time": "2023-03-30T18:03:17.475Z"
      },
      {
        "duration": 129,
        "start_time": "2023-03-30T18:03:18.201Z"
      },
      {
        "duration": 30,
        "start_time": "2023-03-30T18:03:18.332Z"
      },
      {
        "duration": 6,
        "start_time": "2023-03-30T18:03:18.364Z"
      },
      {
        "duration": 521,
        "start_time": "2023-03-30T18:03:18.371Z"
      },
      {
        "duration": 130,
        "start_time": "2023-03-30T18:03:18.894Z"
      },
      {
        "duration": 15,
        "start_time": "2023-03-30T18:03:19.026Z"
      },
      {
        "duration": 6,
        "start_time": "2023-03-30T18:03:19.043Z"
      },
      {
        "duration": 560,
        "start_time": "2023-03-30T18:03:19.062Z"
      },
      {
        "duration": 41,
        "start_time": "2023-03-30T18:03:19.623Z"
      },
      {
        "duration": 205,
        "start_time": "2023-03-30T18:03:19.665Z"
      },
      {
        "duration": 197,
        "start_time": "2023-03-30T18:03:19.872Z"
      },
      {
        "duration": 4,
        "start_time": "2023-03-30T18:03:20.071Z"
      },
      {
        "duration": 92,
        "start_time": "2023-03-30T18:03:20.077Z"
      },
      {
        "duration": 269,
        "start_time": "2023-03-30T18:03:20.260Z"
      },
      {
        "duration": 256,
        "start_time": "2023-03-30T18:03:20.531Z"
      },
      {
        "duration": 270,
        "start_time": "2023-03-30T18:03:20.789Z"
      },
      {
        "duration": 6737,
        "start_time": "2023-03-30T18:03:21.061Z"
      },
      {
        "duration": 6413,
        "start_time": "2023-03-30T18:03:27.800Z"
      },
      {
        "duration": 6093,
        "start_time": "2023-03-30T18:03:34.215Z"
      },
      {
        "duration": 37,
        "start_time": "2023-03-30T18:26:06.434Z"
      },
      {
        "duration": 58,
        "start_time": "2023-03-30T18:26:43.995Z"
      },
      {
        "duration": 24,
        "start_time": "2023-03-30T18:26:48.117Z"
      },
      {
        "duration": 34,
        "start_time": "2023-03-30T18:27:02.528Z"
      },
      {
        "duration": 105,
        "start_time": "2023-03-30T19:11:47.650Z"
      },
      {
        "duration": 6,
        "start_time": "2023-03-30T19:11:56.315Z"
      },
      {
        "duration": 3,
        "start_time": "2023-03-30T19:19:42.998Z"
      },
      {
        "duration": 296,
        "start_time": "2023-03-30T19:19:44.610Z"
      },
      {
        "duration": 356,
        "start_time": "2023-03-30T19:19:46.354Z"
      },
      {
        "duration": 306,
        "start_time": "2023-03-30T19:19:48.366Z"
      },
      {
        "duration": 6046,
        "start_time": "2023-03-30T19:19:53.596Z"
      },
      {
        "duration": 47,
        "start_time": "2023-03-30T19:20:11.417Z"
      },
      {
        "duration": 6471,
        "start_time": "2023-03-30T19:20:25.487Z"
      },
      {
        "duration": 6256,
        "start_time": "2023-03-30T19:20:39.173Z"
      },
      {
        "duration": 2796,
        "start_time": "2023-03-30T20:04:45.897Z"
      },
      {
        "duration": 143,
        "start_time": "2023-03-30T20:04:48.695Z"
      },
      {
        "duration": 35,
        "start_time": "2023-03-30T20:04:48.839Z"
      },
      {
        "duration": 46,
        "start_time": "2023-03-30T20:04:48.876Z"
      },
      {
        "duration": 4,
        "start_time": "2023-03-30T20:04:48.924Z"
      },
      {
        "duration": 808,
        "start_time": "2023-03-30T20:04:48.929Z"
      },
      {
        "duration": 157,
        "start_time": "2023-03-30T20:04:49.739Z"
      },
      {
        "duration": 16,
        "start_time": "2023-03-30T20:04:49.897Z"
      },
      {
        "duration": 60,
        "start_time": "2023-03-30T20:04:49.914Z"
      },
      {
        "duration": 4,
        "start_time": "2023-03-30T20:04:49.976Z"
      },
      {
        "duration": 490,
        "start_time": "2023-03-30T20:04:49.982Z"
      },
      {
        "duration": 127,
        "start_time": "2023-03-30T20:04:50.476Z"
      },
      {
        "duration": 12,
        "start_time": "2023-03-30T20:04:50.605Z"
      },
      {
        "duration": 64,
        "start_time": "2023-03-30T20:04:50.619Z"
      },
      {
        "duration": 5,
        "start_time": "2023-03-30T20:04:50.685Z"
      },
      {
        "duration": 498,
        "start_time": "2023-03-30T20:04:50.691Z"
      },
      {
        "duration": 21,
        "start_time": "2023-03-30T20:04:51.191Z"
      },
      {
        "duration": 136,
        "start_time": "2023-03-30T20:04:51.251Z"
      },
      {
        "duration": 273,
        "start_time": "2023-03-30T20:04:51.390Z"
      },
      {
        "duration": 6,
        "start_time": "2023-03-30T20:04:51.665Z"
      },
      {
        "duration": 106,
        "start_time": "2023-03-30T20:04:51.673Z"
      },
      {
        "duration": 8,
        "start_time": "2023-03-30T20:04:51.781Z"
      },
      {
        "duration": 339,
        "start_time": "2023-03-30T20:04:51.790Z"
      },
      {
        "duration": 304,
        "start_time": "2023-03-30T20:04:52.130Z"
      },
      {
        "duration": 308,
        "start_time": "2023-03-30T20:04:52.436Z"
      },
      {
        "duration": 6684,
        "start_time": "2023-03-30T20:04:52.746Z"
      },
      {
        "duration": 6679,
        "start_time": "2023-03-30T20:04:59.432Z"
      },
      {
        "duration": 6566,
        "start_time": "2023-03-30T20:05:06.113Z"
      },
      {
        "duration": 4,
        "start_time": "2023-03-30T20:07:06.307Z"
      },
      {
        "duration": 5,
        "start_time": "2023-03-30T20:07:12.573Z"
      },
      {
        "duration": 5,
        "start_time": "2023-03-30T20:07:13.640Z"
      },
      {
        "duration": 3,
        "start_time": "2023-03-30T20:07:24.890Z"
      },
      {
        "duration": 3,
        "start_time": "2023-03-30T20:08:09.506Z"
      },
      {
        "duration": 5,
        "start_time": "2023-03-30T20:09:31.798Z"
      },
      {
        "duration": 5,
        "start_time": "2023-03-30T20:09:33.780Z"
      },
      {
        "duration": 4,
        "start_time": "2023-03-30T20:09:38.437Z"
      },
      {
        "duration": 7,
        "start_time": "2023-03-30T20:09:41.073Z"
      },
      {
        "duration": 5,
        "start_time": "2023-03-30T20:09:49.653Z"
      },
      {
        "duration": 10,
        "start_time": "2023-03-30T20:11:22.349Z"
      },
      {
        "duration": 1095,
        "start_time": "2023-03-31T13:55:35.169Z"
      },
      {
        "duration": 864,
        "start_time": "2023-03-31T13:55:36.266Z"
      },
      {
        "duration": 18,
        "start_time": "2023-03-31T13:55:37.132Z"
      },
      {
        "duration": 59,
        "start_time": "2023-03-31T13:55:37.153Z"
      },
      {
        "duration": 5,
        "start_time": "2023-03-31T13:55:37.214Z"
      },
      {
        "duration": 971,
        "start_time": "2023-03-31T13:55:37.241Z"
      },
      {
        "duration": 228,
        "start_time": "2023-03-31T13:55:38.214Z"
      },
      {
        "duration": 20,
        "start_time": "2023-03-31T13:55:38.444Z"
      },
      {
        "duration": 44,
        "start_time": "2023-03-31T13:55:38.468Z"
      },
      {
        "duration": 26,
        "start_time": "2023-03-31T13:55:38.515Z"
      },
      {
        "duration": 541,
        "start_time": "2023-03-31T13:55:38.543Z"
      },
      {
        "duration": 337,
        "start_time": "2023-03-31T13:55:39.086Z"
      },
      {
        "duration": 21,
        "start_time": "2023-03-31T13:55:39.426Z"
      },
      {
        "duration": 69,
        "start_time": "2023-03-31T13:55:39.449Z"
      },
      {
        "duration": 21,
        "start_time": "2023-03-31T13:55:39.519Z"
      },
      {
        "duration": 601,
        "start_time": "2023-03-31T13:55:39.542Z"
      },
      {
        "duration": 105,
        "start_time": "2023-03-31T13:55:40.145Z"
      },
      {
        "duration": 189,
        "start_time": "2023-03-31T13:55:40.252Z"
      },
      {
        "duration": 109,
        "start_time": "2023-03-31T13:55:40.444Z"
      },
      {
        "duration": 88,
        "start_time": "2023-03-31T13:55:40.555Z"
      },
      {
        "duration": 0,
        "start_time": "2023-03-31T13:55:40.646Z"
      },
      {
        "duration": 0,
        "start_time": "2023-03-31T13:55:40.648Z"
      },
      {
        "duration": 0,
        "start_time": "2023-03-31T13:55:40.649Z"
      },
      {
        "duration": 0,
        "start_time": "2023-03-31T13:55:40.651Z"
      },
      {
        "duration": 0,
        "start_time": "2023-03-31T13:55:40.652Z"
      },
      {
        "duration": 0,
        "start_time": "2023-03-31T13:55:40.653Z"
      },
      {
        "duration": 4,
        "start_time": "2023-03-31T13:57:35.039Z"
      },
      {
        "duration": 3,
        "start_time": "2023-03-31T13:59:14.038Z"
      },
      {
        "duration": 6,
        "start_time": "2023-03-31T13:59:16.741Z"
      },
      {
        "duration": 5,
        "start_time": "2023-03-31T14:00:26.981Z"
      },
      {
        "duration": 320,
        "start_time": "2023-03-31T14:00:28.954Z"
      },
      {
        "duration": 306,
        "start_time": "2023-03-31T14:00:30.086Z"
      },
      {
        "duration": 284,
        "start_time": "2023-03-31T14:00:30.975Z"
      },
      {
        "duration": 23103,
        "start_time": "2023-03-31T14:00:38.754Z"
      },
      {
        "duration": 55,
        "start_time": "2023-03-31T14:03:48.749Z"
      },
      {
        "duration": 21100,
        "start_time": "2023-03-31T14:04:01.727Z"
      },
      {
        "duration": 57,
        "start_time": "2023-03-31T14:07:35.354Z"
      },
      {
        "duration": 51,
        "start_time": "2023-03-31T14:08:07.365Z"
      },
      {
        "duration": 21111,
        "start_time": "2023-03-31T14:08:25.496Z"
      },
      {
        "duration": 20962,
        "start_time": "2023-03-31T14:09:08.256Z"
      },
      {
        "duration": 3,
        "start_time": "2023-03-31T14:13:46.818Z"
      },
      {
        "duration": 4,
        "start_time": "2023-03-31T14:13:51.551Z"
      },
      {
        "duration": 1136,
        "start_time": "2023-03-31T14:14:01.446Z"
      },
      {
        "duration": 170,
        "start_time": "2023-03-31T14:14:02.585Z"
      },
      {
        "duration": 17,
        "start_time": "2023-03-31T14:14:02.757Z"
      },
      {
        "duration": 71,
        "start_time": "2023-03-31T14:14:02.777Z"
      },
      {
        "duration": 5,
        "start_time": "2023-03-31T14:14:02.850Z"
      },
      {
        "duration": 786,
        "start_time": "2023-03-31T14:14:02.857Z"
      },
      {
        "duration": 150,
        "start_time": "2023-03-31T14:14:03.645Z"
      },
      {
        "duration": 15,
        "start_time": "2023-03-31T14:14:03.797Z"
      },
      {
        "duration": 63,
        "start_time": "2023-03-31T14:14:03.814Z"
      },
      {
        "duration": 4,
        "start_time": "2023-03-31T14:14:03.880Z"
      },
      {
        "duration": 502,
        "start_time": "2023-03-31T14:14:03.886Z"
      },
      {
        "duration": 139,
        "start_time": "2023-03-31T14:14:04.390Z"
      },
      {
        "duration": 21,
        "start_time": "2023-03-31T14:14:04.531Z"
      },
      {
        "duration": 51,
        "start_time": "2023-03-31T14:14:04.553Z"
      },
      {
        "duration": 6,
        "start_time": "2023-03-31T14:14:04.606Z"
      },
      {
        "duration": 643,
        "start_time": "2023-03-31T14:14:04.614Z"
      },
      {
        "duration": 91,
        "start_time": "2023-03-31T14:14:05.258Z"
      },
      {
        "duration": 30,
        "start_time": "2023-03-31T14:14:05.442Z"
      },
      {
        "duration": 121,
        "start_time": "2023-03-31T14:14:05.540Z"
      },
      {
        "duration": 77,
        "start_time": "2023-03-31T14:14:05.664Z"
      },
      {
        "duration": 99,
        "start_time": "2023-03-31T14:14:05.744Z"
      },
      {
        "duration": 23,
        "start_time": "2023-03-31T14:14:05.845Z"
      },
      {
        "duration": 325,
        "start_time": "2023-03-31T14:14:05.871Z"
      },
      {
        "duration": 299,
        "start_time": "2023-03-31T14:14:06.198Z"
      },
      {
        "duration": 304,
        "start_time": "2023-03-31T14:14:06.499Z"
      },
      {
        "duration": 21655,
        "start_time": "2023-03-31T14:14:06.804Z"
      },
      {
        "duration": 811,
        "start_time": "2023-03-31T14:35:08.870Z"
      },
      {
        "duration": 21783,
        "start_time": "2023-03-31T14:35:15.257Z"
      },
      {
        "duration": 22211,
        "start_time": "2023-03-31T14:38:27.515Z"
      },
      {
        "duration": 21552,
        "start_time": "2023-03-31T14:39:18.531Z"
      },
      {
        "duration": 108,
        "start_time": "2023-03-31T14:41:47.423Z"
      },
      {
        "duration": 5,
        "start_time": "2023-03-31T14:41:56.774Z"
      },
      {
        "duration": 11,
        "start_time": "2023-03-31T14:43:24.236Z"
      },
      {
        "duration": 4,
        "start_time": "2023-03-31T14:43:38.239Z"
      },
      {
        "duration": 8,
        "start_time": "2023-03-31T14:45:37.414Z"
      },
      {
        "duration": 9,
        "start_time": "2023-03-31T14:47:07.797Z"
      },
      {
        "duration": 11,
        "start_time": "2023-03-31T14:48:19.728Z"
      },
      {
        "duration": 20906,
        "start_time": "2023-03-31T14:49:20.007Z"
      },
      {
        "duration": 1133,
        "start_time": "2023-03-31T14:50:37.712Z"
      },
      {
        "duration": 187,
        "start_time": "2023-03-31T14:50:38.849Z"
      },
      {
        "duration": 16,
        "start_time": "2023-03-31T14:50:39.041Z"
      },
      {
        "duration": 48,
        "start_time": "2023-03-31T14:50:39.058Z"
      },
      {
        "duration": 4,
        "start_time": "2023-03-31T14:50:39.109Z"
      },
      {
        "duration": 764,
        "start_time": "2023-03-31T14:50:39.115Z"
      },
      {
        "duration": 142,
        "start_time": "2023-03-31T14:50:39.881Z"
      },
      {
        "duration": 18,
        "start_time": "2023-03-31T14:50:40.024Z"
      },
      {
        "duration": 47,
        "start_time": "2023-03-31T14:50:40.044Z"
      },
      {
        "duration": 4,
        "start_time": "2023-03-31T14:50:40.093Z"
      },
      {
        "duration": 508,
        "start_time": "2023-03-31T14:50:40.099Z"
      },
      {
        "duration": 133,
        "start_time": "2023-03-31T14:50:40.608Z"
      },
      {
        "duration": 13,
        "start_time": "2023-03-31T14:50:40.743Z"
      },
      {
        "duration": 45,
        "start_time": "2023-03-31T14:50:40.759Z"
      },
      {
        "duration": 6,
        "start_time": "2023-03-31T14:50:40.805Z"
      },
      {
        "duration": 566,
        "start_time": "2023-03-31T14:50:40.812Z"
      },
      {
        "duration": 27,
        "start_time": "2023-03-31T14:50:41.379Z"
      },
      {
        "duration": 120,
        "start_time": "2023-03-31T14:50:41.442Z"
      },
      {
        "duration": 201,
        "start_time": "2023-03-31T14:50:41.564Z"
      },
      {
        "duration": 98,
        "start_time": "2023-03-31T14:50:41.843Z"
      },
      {
        "duration": 7,
        "start_time": "2023-03-31T14:50:41.943Z"
      },
      {
        "duration": 5,
        "start_time": "2023-03-31T14:50:41.951Z"
      },
      {
        "duration": 315,
        "start_time": "2023-03-31T14:50:41.957Z"
      },
      {
        "duration": 296,
        "start_time": "2023-03-31T14:50:42.274Z"
      },
      {
        "duration": 292,
        "start_time": "2023-03-31T14:50:42.572Z"
      },
      {
        "duration": 21055,
        "start_time": "2023-03-31T14:50:42.866Z"
      },
      {
        "duration": 4,
        "start_time": "2023-03-31T15:44:29.966Z"
      },
      {
        "duration": 1097,
        "start_time": "2023-03-31T15:44:39.952Z"
      },
      {
        "duration": 159,
        "start_time": "2023-03-31T15:44:41.051Z"
      },
      {
        "duration": 16,
        "start_time": "2023-03-31T15:44:41.211Z"
      },
      {
        "duration": 68,
        "start_time": "2023-03-31T15:44:41.229Z"
      },
      {
        "duration": 6,
        "start_time": "2023-03-31T15:44:41.299Z"
      },
      {
        "duration": 777,
        "start_time": "2023-03-31T15:44:41.306Z"
      },
      {
        "duration": 156,
        "start_time": "2023-03-31T15:44:42.085Z"
      },
      {
        "duration": 16,
        "start_time": "2023-03-31T15:44:42.243Z"
      },
      {
        "duration": 49,
        "start_time": "2023-03-31T15:44:42.261Z"
      },
      {
        "duration": 30,
        "start_time": "2023-03-31T15:44:42.313Z"
      },
      {
        "duration": 525,
        "start_time": "2023-03-31T15:44:42.345Z"
      },
      {
        "duration": 141,
        "start_time": "2023-03-31T15:44:42.872Z"
      },
      {
        "duration": 28,
        "start_time": "2023-03-31T15:44:43.014Z"
      },
      {
        "duration": 51,
        "start_time": "2023-03-31T15:44:43.043Z"
      },
      {
        "duration": 7,
        "start_time": "2023-03-31T15:44:43.095Z"
      },
      {
        "duration": 606,
        "start_time": "2023-03-31T15:44:43.103Z"
      },
      {
        "duration": 38,
        "start_time": "2023-03-31T15:44:43.710Z"
      },
      {
        "duration": 209,
        "start_time": "2023-03-31T15:44:43.750Z"
      },
      {
        "duration": 196,
        "start_time": "2023-03-31T15:44:43.961Z"
      },
      {
        "duration": 82,
        "start_time": "2023-03-31T15:44:44.159Z"
      },
      {
        "duration": 98,
        "start_time": "2023-03-31T15:44:44.244Z"
      },
      {
        "duration": 4,
        "start_time": "2023-03-31T15:44:44.344Z"
      },
      {
        "duration": 32,
        "start_time": "2023-03-31T15:44:44.349Z"
      },
      {
        "duration": 16,
        "start_time": "2023-03-31T15:44:44.382Z"
      },
      {
        "duration": 31,
        "start_time": "2023-03-31T15:44:44.400Z"
      },
      {
        "duration": 647,
        "start_time": "2023-03-31T15:44:44.433Z"
      },
      {
        "duration": 51,
        "start_time": "2023-03-31T15:46:07.781Z"
      },
      {
        "duration": 56,
        "start_time": "2023-03-31T15:47:29.610Z"
      },
      {
        "duration": 53,
        "start_time": "2023-03-31T15:48:09.391Z"
      },
      {
        "duration": 49,
        "start_time": "2023-03-31T15:50:25.302Z"
      },
      {
        "duration": 58,
        "start_time": "2023-03-31T15:51:34.741Z"
      },
      {
        "duration": 640,
        "start_time": "2023-03-31T15:51:53.161Z"
      },
      {
        "duration": 625,
        "start_time": "2023-03-31T15:59:33.054Z"
      },
      {
        "duration": 16,
        "start_time": "2023-03-31T16:02:08.567Z"
      },
      {
        "duration": 18,
        "start_time": "2023-03-31T16:02:46.287Z"
      },
      {
        "duration": 15,
        "start_time": "2023-03-31T16:02:52.912Z"
      },
      {
        "duration": 15,
        "start_time": "2023-03-31T16:04:36.582Z"
      },
      {
        "duration": 3,
        "start_time": "2023-03-31T16:30:29.706Z"
      },
      {
        "duration": 6,
        "start_time": "2023-03-31T16:32:29.017Z"
      },
      {
        "duration": 1108,
        "start_time": "2023-03-31T16:53:12.701Z"
      },
      {
        "duration": 155,
        "start_time": "2023-03-31T16:53:13.811Z"
      },
      {
        "duration": 17,
        "start_time": "2023-03-31T16:53:13.968Z"
      },
      {
        "duration": 68,
        "start_time": "2023-03-31T16:53:13.987Z"
      },
      {
        "duration": 5,
        "start_time": "2023-03-31T16:53:14.057Z"
      },
      {
        "duration": 734,
        "start_time": "2023-03-31T16:53:14.064Z"
      },
      {
        "duration": 17,
        "start_time": "2023-03-31T16:53:14.799Z"
      },
      {
        "duration": 143,
        "start_time": "2023-03-31T16:53:14.817Z"
      },
      {
        "duration": 14,
        "start_time": "2023-03-31T16:53:14.962Z"
      },
      {
        "duration": 64,
        "start_time": "2023-03-31T16:53:14.978Z"
      },
      {
        "duration": 6,
        "start_time": "2023-03-31T16:53:15.043Z"
      },
      {
        "duration": 515,
        "start_time": "2023-03-31T16:53:15.050Z"
      },
      {
        "duration": 18,
        "start_time": "2023-03-31T16:53:15.566Z"
      },
      {
        "duration": 150,
        "start_time": "2023-03-31T16:53:15.585Z"
      },
      {
        "duration": 16,
        "start_time": "2023-03-31T16:53:15.737Z"
      },
      {
        "duration": 48,
        "start_time": "2023-03-31T16:53:15.754Z"
      },
      {
        "duration": 6,
        "start_time": "2023-03-31T16:53:15.804Z"
      },
      {
        "duration": 587,
        "start_time": "2023-03-31T16:53:15.811Z"
      },
      {
        "duration": 17,
        "start_time": "2023-03-31T16:53:16.400Z"
      },
      {
        "duration": 45,
        "start_time": "2023-03-31T16:53:16.418Z"
      },
      {
        "duration": 192,
        "start_time": "2023-03-31T16:53:16.464Z"
      },
      {
        "duration": 199,
        "start_time": "2023-03-31T16:53:16.658Z"
      },
      {
        "duration": 82,
        "start_time": "2023-03-31T16:53:16.860Z"
      },
      {
        "duration": 96,
        "start_time": "2023-03-31T16:53:16.945Z"
      },
      {
        "duration": 4,
        "start_time": "2023-03-31T16:53:17.043Z"
      },
      {
        "duration": 24,
        "start_time": "2023-03-31T16:53:17.049Z"
      },
      {
        "duration": 30,
        "start_time": "2023-03-31T16:53:17.075Z"
      },
      {
        "duration": 16,
        "start_time": "2023-03-31T16:53:17.108Z"
      },
      {
        "duration": 626,
        "start_time": "2023-03-31T16:53:17.126Z"
      },
      {
        "duration": 17,
        "start_time": "2023-04-01T08:36:22.577Z"
      },
      {
        "duration": 9,
        "start_time": "2023-04-01T08:36:26.649Z"
      },
      {
        "duration": 3,
        "start_time": "2023-04-01T08:36:30.147Z"
      },
      {
        "duration": 10,
        "start_time": "2023-04-01T14:23:26.914Z"
      },
      {
        "duration": 47,
        "start_time": "2023-04-01T14:23:58.548Z"
      },
      {
        "duration": 1311,
        "start_time": "2023-04-01T14:24:08.910Z"
      },
      {
        "duration": 449,
        "start_time": "2023-04-01T14:24:10.224Z"
      },
      {
        "duration": 17,
        "start_time": "2023-04-01T14:24:10.675Z"
      },
      {
        "duration": 60,
        "start_time": "2023-04-01T14:24:10.695Z"
      },
      {
        "duration": 5,
        "start_time": "2023-04-01T14:24:10.757Z"
      },
      {
        "duration": 996,
        "start_time": "2023-04-01T14:24:10.764Z"
      },
      {
        "duration": 21,
        "start_time": "2023-04-01T14:24:11.763Z"
      },
      {
        "duration": 610,
        "start_time": "2023-04-01T14:24:11.787Z"
      },
      {
        "duration": 21,
        "start_time": "2023-04-01T14:24:12.400Z"
      },
      {
        "duration": 88,
        "start_time": "2023-04-01T14:24:12.425Z"
      },
      {
        "duration": 6,
        "start_time": "2023-04-01T14:24:12.515Z"
      },
      {
        "duration": 595,
        "start_time": "2023-04-01T14:24:12.523Z"
      },
      {
        "duration": 29,
        "start_time": "2023-04-01T14:24:13.120Z"
      },
      {
        "duration": 584,
        "start_time": "2023-04-01T14:24:13.151Z"
      },
      {
        "duration": 16,
        "start_time": "2023-04-01T14:24:13.736Z"
      },
      {
        "duration": 79,
        "start_time": "2023-04-01T14:24:13.754Z"
      },
      {
        "duration": 7,
        "start_time": "2023-04-01T14:24:13.836Z"
      },
      {
        "duration": 670,
        "start_time": "2023-04-01T14:24:13.846Z"
      },
      {
        "duration": 29,
        "start_time": "2023-04-01T14:24:14.519Z"
      },
      {
        "duration": 97,
        "start_time": "2023-04-01T14:24:14.550Z"
      },
      {
        "duration": 219,
        "start_time": "2023-04-01T14:24:14.650Z"
      },
      {
        "duration": 224,
        "start_time": "2023-04-01T14:24:14.871Z"
      },
      {
        "duration": 107,
        "start_time": "2023-04-01T14:24:15.145Z"
      },
      {
        "duration": 15,
        "start_time": "2023-04-01T14:24:15.254Z"
      },
      {
        "duration": 9,
        "start_time": "2023-04-01T14:24:15.270Z"
      },
      {
        "duration": 20,
        "start_time": "2023-04-01T14:24:15.281Z"
      },
      {
        "duration": 23,
        "start_time": "2023-04-01T14:24:15.303Z"
      },
      {
        "duration": 21,
        "start_time": "2023-04-01T14:24:15.330Z"
      },
      {
        "duration": 610,
        "start_time": "2023-04-01T14:24:15.353Z"
      },
      {
        "duration": 1409,
        "start_time": "2023-04-01T14:44:25.873Z"
      },
      {
        "duration": 196,
        "start_time": "2023-04-01T14:44:27.287Z"
      },
      {
        "duration": 28,
        "start_time": "2023-04-01T14:44:27.485Z"
      },
      {
        "duration": 78,
        "start_time": "2023-04-01T14:44:27.518Z"
      },
      {
        "duration": 7,
        "start_time": "2023-04-01T14:44:27.599Z"
      },
      {
        "duration": 961,
        "start_time": "2023-04-01T14:44:27.608Z"
      },
      {
        "duration": 23,
        "start_time": "2023-04-01T14:44:28.572Z"
      },
      {
        "duration": 160,
        "start_time": "2023-04-01T14:44:28.597Z"
      },
      {
        "duration": 18,
        "start_time": "2023-04-01T14:44:28.759Z"
      },
      {
        "duration": 82,
        "start_time": "2023-04-01T14:44:28.782Z"
      },
      {
        "duration": 8,
        "start_time": "2023-04-01T14:44:28.866Z"
      },
      {
        "duration": 638,
        "start_time": "2023-04-01T14:44:28.876Z"
      },
      {
        "duration": 38,
        "start_time": "2023-04-01T14:44:29.516Z"
      },
      {
        "duration": 144,
        "start_time": "2023-04-01T14:44:29.562Z"
      },
      {
        "duration": 17,
        "start_time": "2023-04-01T14:44:29.708Z"
      },
      {
        "duration": 65,
        "start_time": "2023-04-01T14:44:29.740Z"
      },
      {
        "duration": 7,
        "start_time": "2023-04-01T14:44:29.808Z"
      },
      {
        "duration": 748,
        "start_time": "2023-04-01T14:44:29.818Z"
      },
      {
        "duration": 20,
        "start_time": "2023-04-01T14:44:30.569Z"
      },
      {
        "duration": 65,
        "start_time": "2023-04-01T14:44:30.592Z"
      },
      {
        "duration": 282,
        "start_time": "2023-04-01T14:44:30.661Z"
      },
      {
        "duration": 198,
        "start_time": "2023-04-01T14:44:30.945Z"
      },
      {
        "duration": 7,
        "start_time": "2023-04-01T14:44:31.145Z"
      },
      {
        "duration": 89,
        "start_time": "2023-04-01T14:44:31.154Z"
      },
      {
        "duration": 38,
        "start_time": "2023-04-01T14:44:31.246Z"
      },
      {
        "duration": 169,
        "start_time": "2023-04-01T14:44:31.287Z"
      },
      {
        "duration": 0,
        "start_time": "2023-04-01T14:44:31.459Z"
      },
      {
        "duration": 0,
        "start_time": "2023-04-01T14:44:31.461Z"
      },
      {
        "duration": 0,
        "start_time": "2023-04-01T14:44:31.463Z"
      },
      {
        "duration": 33,
        "start_time": "2023-04-01T14:45:53.026Z"
      },
      {
        "duration": 6,
        "start_time": "2023-04-01T14:46:37.824Z"
      },
      {
        "duration": 47,
        "start_time": "2023-04-01T14:46:41.581Z"
      },
      {
        "duration": 5,
        "start_time": "2023-04-01T14:48:15.287Z"
      },
      {
        "duration": 4,
        "start_time": "2023-04-01T14:48:25.401Z"
      },
      {
        "duration": 35,
        "start_time": "2023-04-01T14:48:29.502Z"
      },
      {
        "duration": 6,
        "start_time": "2023-04-01T14:49:39.937Z"
      },
      {
        "duration": 48,
        "start_time": "2023-04-01T14:49:41.940Z"
      },
      {
        "duration": 5,
        "start_time": "2023-04-01T14:51:43.609Z"
      },
      {
        "duration": 25,
        "start_time": "2023-04-01T14:51:47.254Z"
      },
      {
        "duration": 4,
        "start_time": "2023-04-01T14:52:57.881Z"
      },
      {
        "duration": 11,
        "start_time": "2023-04-01T14:53:00.883Z"
      },
      {
        "duration": 11,
        "start_time": "2023-04-01T14:53:12.134Z"
      },
      {
        "duration": 12,
        "start_time": "2023-04-01T14:53:13.007Z"
      },
      {
        "duration": 23,
        "start_time": "2023-04-01T14:54:26.058Z"
      },
      {
        "duration": 7590,
        "start_time": "2023-04-01T15:00:34.001Z"
      },
      {
        "duration": 7319,
        "start_time": "2023-04-01T15:02:41.358Z"
      },
      {
        "duration": 20,
        "start_time": "2023-04-01T15:17:15.158Z"
      },
      {
        "duration": 18,
        "start_time": "2023-04-01T15:17:59.878Z"
      },
      {
        "duration": 24,
        "start_time": "2023-04-01T15:19:49.360Z"
      },
      {
        "duration": 34,
        "start_time": "2023-04-01T15:20:16.161Z"
      },
      {
        "duration": 1438,
        "start_time": "2023-04-01T15:24:02.743Z"
      },
      {
        "duration": 189,
        "start_time": "2023-04-01T15:24:04.183Z"
      },
      {
        "duration": 17,
        "start_time": "2023-04-01T15:24:04.374Z"
      },
      {
        "duration": 149,
        "start_time": "2023-04-01T15:24:04.393Z"
      },
      {
        "duration": 73,
        "start_time": "2023-04-01T15:24:04.553Z"
      },
      {
        "duration": 1268,
        "start_time": "2023-04-01T15:24:04.628Z"
      },
      {
        "duration": 17,
        "start_time": "2023-04-01T15:24:05.898Z"
      },
      {
        "duration": 205,
        "start_time": "2023-04-01T15:24:05.917Z"
      },
      {
        "duration": 30,
        "start_time": "2023-04-01T15:24:06.125Z"
      },
      {
        "duration": 86,
        "start_time": "2023-04-01T15:24:06.162Z"
      },
      {
        "duration": 13,
        "start_time": "2023-04-01T15:24:06.255Z"
      },
      {
        "duration": 704,
        "start_time": "2023-04-01T15:24:06.272Z"
      },
      {
        "duration": 20,
        "start_time": "2023-04-01T15:24:06.979Z"
      },
      {
        "duration": 181,
        "start_time": "2023-04-01T15:24:07.001Z"
      },
      {
        "duration": 18,
        "start_time": "2023-04-01T15:24:07.183Z"
      },
      {
        "duration": 82,
        "start_time": "2023-04-01T15:24:07.203Z"
      },
      {
        "duration": 7,
        "start_time": "2023-04-01T15:24:07.287Z"
      },
      {
        "duration": 724,
        "start_time": "2023-04-01T15:24:07.297Z"
      },
      {
        "duration": 39,
        "start_time": "2023-04-01T15:24:08.023Z"
      },
      {
        "duration": 31,
        "start_time": "2023-04-01T15:24:08.066Z"
      },
      {
        "duration": 188,
        "start_time": "2023-04-01T15:24:08.099Z"
      },
      {
        "duration": 120,
        "start_time": "2023-04-01T15:24:08.345Z"
      },
      {
        "duration": 182,
        "start_time": "2023-04-01T15:24:08.468Z"
      },
      {
        "duration": 30,
        "start_time": "2023-04-01T15:24:08.651Z"
      },
      {
        "duration": 9,
        "start_time": "2023-04-01T15:24:08.684Z"
      },
      {
        "duration": 22,
        "start_time": "2023-04-01T15:24:08.695Z"
      },
      {
        "duration": 12,
        "start_time": "2023-04-01T15:24:08.719Z"
      },
      {
        "duration": 48,
        "start_time": "2023-04-01T15:24:08.734Z"
      },
      {
        "duration": 137,
        "start_time": "2023-04-01T15:24:08.784Z"
      },
      {
        "duration": 27,
        "start_time": "2023-04-01T15:25:25.872Z"
      },
      {
        "duration": 18,
        "start_time": "2023-04-01T15:29:00.468Z"
      },
      {
        "duration": 23,
        "start_time": "2023-04-01T15:29:42.866Z"
      },
      {
        "duration": 1237,
        "start_time": "2023-04-01T15:36:11.976Z"
      },
      {
        "duration": 215,
        "start_time": "2023-04-01T15:36:13.216Z"
      },
      {
        "duration": 35,
        "start_time": "2023-04-01T15:36:13.433Z"
      },
      {
        "duration": 78,
        "start_time": "2023-04-01T15:36:13.473Z"
      },
      {
        "duration": 5,
        "start_time": "2023-04-01T15:36:13.553Z"
      },
      {
        "duration": 952,
        "start_time": "2023-04-01T15:36:13.561Z"
      },
      {
        "duration": 18,
        "start_time": "2023-04-01T15:36:14.515Z"
      },
      {
        "duration": 219,
        "start_time": "2023-04-01T15:36:14.541Z"
      },
      {
        "duration": 24,
        "start_time": "2023-04-01T15:36:14.770Z"
      },
      {
        "duration": 92,
        "start_time": "2023-04-01T15:36:14.798Z"
      },
      {
        "duration": 6,
        "start_time": "2023-04-01T15:36:14.892Z"
      },
      {
        "duration": 680,
        "start_time": "2023-04-01T15:36:14.900Z"
      },
      {
        "duration": 24,
        "start_time": "2023-04-01T15:36:15.581Z"
      },
      {
        "duration": 177,
        "start_time": "2023-04-01T15:36:15.608Z"
      },
      {
        "duration": 23,
        "start_time": "2023-04-01T15:36:15.787Z"
      },
      {
        "duration": 92,
        "start_time": "2023-04-01T15:36:15.813Z"
      },
      {
        "duration": 10,
        "start_time": "2023-04-01T15:36:15.907Z"
      },
      {
        "duration": 912,
        "start_time": "2023-04-01T15:36:15.919Z"
      },
      {
        "duration": 51,
        "start_time": "2023-04-01T15:36:16.834Z"
      },
      {
        "duration": 47,
        "start_time": "2023-04-01T15:36:16.895Z"
      },
      {
        "duration": 153,
        "start_time": "2023-04-01T15:36:16.944Z"
      },
      {
        "duration": 153,
        "start_time": "2023-04-01T15:36:17.144Z"
      },
      {
        "duration": 149,
        "start_time": "2023-04-01T15:36:17.300Z"
      },
      {
        "duration": 31,
        "start_time": "2023-04-01T15:36:17.458Z"
      },
      {
        "duration": 44,
        "start_time": "2023-04-01T15:36:17.491Z"
      },
      {
        "duration": 54,
        "start_time": "2023-04-01T15:36:17.537Z"
      },
      {
        "duration": 20,
        "start_time": "2023-04-01T15:36:17.593Z"
      },
      {
        "duration": 14,
        "start_time": "2023-04-01T15:36:17.616Z"
      },
      {
        "duration": 170,
        "start_time": "2023-04-01T15:36:17.632Z"
      },
      {
        "duration": 36,
        "start_time": "2023-04-01T15:39:14.461Z"
      },
      {
        "duration": 4,
        "start_time": "2023-04-01T16:04:35.722Z"
      },
      {
        "duration": 6,
        "start_time": "2023-04-01T16:04:42.525Z"
      },
      {
        "duration": 5,
        "start_time": "2023-04-01T16:04:46.387Z"
      },
      {
        "duration": 10,
        "start_time": "2023-04-01T16:04:50.718Z"
      },
      {
        "duration": 9,
        "start_time": "2023-04-01T16:04:52.686Z"
      },
      {
        "duration": 9,
        "start_time": "2023-04-01T16:04:54.077Z"
      },
      {
        "duration": 10,
        "start_time": "2023-04-01T16:04:54.992Z"
      },
      {
        "duration": 11,
        "start_time": "2023-04-01T16:07:19.224Z"
      },
      {
        "duration": 8,
        "start_time": "2023-04-01T16:07:21.818Z"
      },
      {
        "duration": 10,
        "start_time": "2023-04-01T16:07:22.763Z"
      },
      {
        "duration": 25,
        "start_time": "2023-04-01T16:08:14.337Z"
      },
      {
        "duration": 22,
        "start_time": "2023-04-01T16:08:40.648Z"
      },
      {
        "duration": 23,
        "start_time": "2023-04-01T16:10:35.260Z"
      },
      {
        "duration": 32,
        "start_time": "2023-04-01T16:14:02.629Z"
      },
      {
        "duration": 5,
        "start_time": "2023-04-01T16:28:06.725Z"
      },
      {
        "duration": 1194,
        "start_time": "2023-04-01T16:29:34.362Z"
      },
      {
        "duration": 179,
        "start_time": "2023-04-01T16:29:35.558Z"
      },
      {
        "duration": 21,
        "start_time": "2023-04-01T16:29:35.741Z"
      },
      {
        "duration": 80,
        "start_time": "2023-04-01T16:29:35.764Z"
      },
      {
        "duration": 6,
        "start_time": "2023-04-01T16:29:35.848Z"
      },
      {
        "duration": 1054,
        "start_time": "2023-04-01T16:29:35.857Z"
      },
      {
        "duration": 31,
        "start_time": "2023-04-01T16:29:36.913Z"
      },
      {
        "duration": 153,
        "start_time": "2023-04-01T16:29:36.946Z"
      },
      {
        "duration": 16,
        "start_time": "2023-04-01T16:29:37.100Z"
      },
      {
        "duration": 67,
        "start_time": "2023-04-01T16:29:37.118Z"
      },
      {
        "duration": 5,
        "start_time": "2023-04-01T16:29:37.187Z"
      },
      {
        "duration": 562,
        "start_time": "2023-04-01T16:29:37.194Z"
      },
      {
        "duration": 18,
        "start_time": "2023-04-01T16:29:37.757Z"
      },
      {
        "duration": 5,
        "start_time": "2023-04-01T16:29:37.779Z"
      },
      {
        "duration": 149,
        "start_time": "2023-04-01T16:29:37.786Z"
      },
      {
        "duration": 19,
        "start_time": "2023-04-01T16:29:37.938Z"
      },
      {
        "duration": 57,
        "start_time": "2023-04-01T16:29:37.959Z"
      },
      {
        "duration": 7,
        "start_time": "2023-04-01T16:29:38.041Z"
      },
      {
        "duration": 650,
        "start_time": "2023-04-01T16:29:38.051Z"
      },
      {
        "duration": 15,
        "start_time": "2023-04-01T16:29:38.703Z"
      },
      {
        "duration": 40,
        "start_time": "2023-04-01T16:29:38.720Z"
      },
      {
        "duration": 278,
        "start_time": "2023-04-01T16:29:38.763Z"
      },
      {
        "duration": 127,
        "start_time": "2023-04-01T16:29:39.043Z"
      },
      {
        "duration": 5,
        "start_time": "2023-04-01T16:29:39.241Z"
      },
      {
        "duration": 99,
        "start_time": "2023-04-01T16:29:39.248Z"
      },
      {
        "duration": 10,
        "start_time": "2023-04-01T16:29:39.350Z"
      },
      {
        "duration": 21,
        "start_time": "2023-04-01T16:29:39.362Z"
      },
      {
        "duration": 14,
        "start_time": "2023-04-01T16:29:39.385Z"
      },
      {
        "duration": 8,
        "start_time": "2023-04-01T16:29:39.401Z"
      },
      {
        "duration": 142,
        "start_time": "2023-04-01T16:29:39.411Z"
      },
      {
        "duration": 55,
        "start_time": "2023-04-02T13:16:53.961Z"
      },
      {
        "duration": 1254,
        "start_time": "2023-04-02T13:17:03.012Z"
      },
      {
        "duration": 433,
        "start_time": "2023-04-02T13:17:04.268Z"
      },
      {
        "duration": 18,
        "start_time": "2023-04-02T13:17:04.703Z"
      },
      {
        "duration": 67,
        "start_time": "2023-04-02T13:17:04.723Z"
      },
      {
        "duration": 5,
        "start_time": "2023-04-02T13:17:04.792Z"
      },
      {
        "duration": 1043,
        "start_time": "2023-04-02T13:17:04.798Z"
      },
      {
        "duration": 19,
        "start_time": "2023-04-02T13:17:05.843Z"
      },
      {
        "duration": 674,
        "start_time": "2023-04-02T13:17:05.864Z"
      },
      {
        "duration": 22,
        "start_time": "2023-04-02T13:17:06.540Z"
      },
      {
        "duration": 57,
        "start_time": "2023-04-02T13:17:06.565Z"
      },
      {
        "duration": 21,
        "start_time": "2023-04-02T13:17:06.624Z"
      },
      {
        "duration": 631,
        "start_time": "2023-04-02T13:17:06.647Z"
      },
      {
        "duration": 16,
        "start_time": "2023-04-02T13:17:07.280Z"
      },
      {
        "duration": 8,
        "start_time": "2023-04-02T13:17:07.298Z"
      },
      {
        "duration": 633,
        "start_time": "2023-04-02T13:17:07.308Z"
      },
      {
        "duration": 18,
        "start_time": "2023-04-02T13:17:07.943Z"
      },
      {
        "duration": 79,
        "start_time": "2023-04-02T13:17:07.963Z"
      },
      {
        "duration": 6,
        "start_time": "2023-04-02T13:17:08.044Z"
      },
      {
        "duration": 522,
        "start_time": "2023-04-02T13:17:08.053Z"
      },
      {
        "duration": 15,
        "start_time": "2023-04-02T13:17:08.577Z"
      },
      {
        "duration": 147,
        "start_time": "2023-04-02T13:17:08.594Z"
      },
      {
        "duration": 115,
        "start_time": "2023-04-02T13:17:08.744Z"
      },
      {
        "duration": 192,
        "start_time": "2023-04-02T13:17:08.862Z"
      },
      {
        "duration": 88,
        "start_time": "2023-04-02T13:17:09.056Z"
      },
      {
        "duration": 108,
        "start_time": "2023-04-02T13:17:09.146Z"
      },
      {
        "duration": 39,
        "start_time": "2023-04-02T13:17:09.256Z"
      },
      {
        "duration": 4,
        "start_time": "2023-04-02T13:17:09.296Z"
      },
      {
        "duration": 19,
        "start_time": "2023-04-02T13:17:09.302Z"
      },
      {
        "duration": 11,
        "start_time": "2023-04-02T13:17:09.323Z"
      },
      {
        "duration": 18,
        "start_time": "2023-04-02T13:17:09.336Z"
      },
      {
        "duration": 127,
        "start_time": "2023-04-02T13:17:09.356Z"
      },
      {
        "duration": 34,
        "start_time": "2023-04-02T13:18:46.600Z"
      },
      {
        "duration": 4,
        "start_time": "2023-04-02T13:24:52.235Z"
      },
      {
        "duration": 26,
        "start_time": "2023-04-02T13:24:55.775Z"
      },
      {
        "duration": 4,
        "start_time": "2023-04-02T13:25:44.158Z"
      },
      {
        "duration": 8,
        "start_time": "2023-04-02T13:25:46.633Z"
      },
      {
        "duration": 9,
        "start_time": "2023-04-02T13:25:48.554Z"
      },
      {
        "duration": 8,
        "start_time": "2023-04-02T13:25:49.230Z"
      },
      {
        "duration": 91,
        "start_time": "2023-04-02T13:31:19.548Z"
      },
      {
        "duration": 22,
        "start_time": "2023-04-02T13:31:29.393Z"
      },
      {
        "duration": 27,
        "start_time": "2023-04-02T13:32:06.033Z"
      },
      {
        "duration": 25,
        "start_time": "2023-04-02T13:33:26.558Z"
      },
      {
        "duration": 27,
        "start_time": "2023-04-02T13:35:40.590Z"
      },
      {
        "duration": 1197,
        "start_time": "2023-04-02T13:36:26.775Z"
      },
      {
        "duration": 185,
        "start_time": "2023-04-02T13:36:27.974Z"
      },
      {
        "duration": 15,
        "start_time": "2023-04-02T13:36:28.161Z"
      },
      {
        "duration": 70,
        "start_time": "2023-04-02T13:36:28.179Z"
      },
      {
        "duration": 6,
        "start_time": "2023-04-02T13:36:28.254Z"
      },
      {
        "duration": 853,
        "start_time": "2023-04-02T13:36:28.262Z"
      },
      {
        "duration": 34,
        "start_time": "2023-04-02T13:36:29.117Z"
      },
      {
        "duration": 165,
        "start_time": "2023-04-02T13:36:29.153Z"
      },
      {
        "duration": 31,
        "start_time": "2023-04-02T13:36:29.320Z"
      },
      {
        "duration": 63,
        "start_time": "2023-04-02T13:36:29.361Z"
      },
      {
        "duration": 5,
        "start_time": "2023-04-02T13:36:29.426Z"
      },
      {
        "duration": 590,
        "start_time": "2023-04-02T13:36:29.433Z"
      },
      {
        "duration": 34,
        "start_time": "2023-04-02T13:36:30.024Z"
      },
      {
        "duration": 56,
        "start_time": "2023-04-02T13:36:30.061Z"
      },
      {
        "duration": 225,
        "start_time": "2023-04-02T13:36:30.119Z"
      },
      {
        "duration": 23,
        "start_time": "2023-04-02T13:36:30.345Z"
      },
      {
        "duration": 132,
        "start_time": "2023-04-02T13:36:30.370Z"
      },
      {
        "duration": 8,
        "start_time": "2023-04-02T13:36:30.504Z"
      },
      {
        "duration": 682,
        "start_time": "2023-04-02T13:36:30.515Z"
      },
      {
        "duration": 18,
        "start_time": "2023-04-02T13:36:31.198Z"
      },
      {
        "duration": 104,
        "start_time": "2023-04-02T13:36:31.218Z"
      },
      {
        "duration": 266,
        "start_time": "2023-04-02T13:36:31.324Z"
      },
      {
        "duration": 165,
        "start_time": "2023-04-02T13:36:31.592Z"
      },
      {
        "duration": 198,
        "start_time": "2023-04-02T13:36:31.759Z"
      },
      {
        "duration": 307,
        "start_time": "2023-04-02T13:36:31.959Z"
      },
      {
        "duration": 157,
        "start_time": "2023-04-02T13:36:32.268Z"
      },
      {
        "duration": 67,
        "start_time": "2023-04-02T13:36:32.427Z"
      },
      {
        "duration": 95,
        "start_time": "2023-04-02T13:36:32.497Z"
      },
      {
        "duration": 31,
        "start_time": "2023-04-02T13:36:32.594Z"
      },
      {
        "duration": 42,
        "start_time": "2023-04-02T13:36:32.627Z"
      },
      {
        "duration": 132,
        "start_time": "2023-04-02T13:36:32.671Z"
      },
      {
        "duration": 32,
        "start_time": "2023-04-02T13:40:41.234Z"
      },
      {
        "duration": 27,
        "start_time": "2023-04-02T13:41:40.441Z"
      },
      {
        "duration": 18,
        "start_time": "2023-04-02T13:44:59.252Z"
      },
      {
        "duration": 23,
        "start_time": "2023-04-02T13:45:49.390Z"
      },
      {
        "duration": 12,
        "start_time": "2023-04-02T13:46:32.322Z"
      },
      {
        "duration": 12,
        "start_time": "2023-04-02T13:46:52.151Z"
      },
      {
        "duration": 7,
        "start_time": "2023-04-02T13:47:05.237Z"
      },
      {
        "duration": 4,
        "start_time": "2023-04-02T13:49:35.100Z"
      },
      {
        "duration": 10,
        "start_time": "2023-04-02T13:49:37.097Z"
      },
      {
        "duration": 13,
        "start_time": "2023-04-02T13:49:38.541Z"
      },
      {
        "duration": 9,
        "start_time": "2023-04-02T13:49:39.064Z"
      },
      {
        "duration": 22,
        "start_time": "2023-04-02T13:49:42.994Z"
      },
      {
        "duration": 4,
        "start_time": "2023-04-02T13:51:52.533Z"
      },
      {
        "duration": 11,
        "start_time": "2023-04-02T13:51:55.777Z"
      },
      {
        "duration": 9,
        "start_time": "2023-04-02T13:56:20.750Z"
      },
      {
        "duration": 10,
        "start_time": "2023-04-02T13:56:22.657Z"
      },
      {
        "duration": 9,
        "start_time": "2023-04-02T13:56:24.028Z"
      },
      {
        "duration": 10,
        "start_time": "2023-04-02T13:56:24.529Z"
      },
      {
        "duration": 30,
        "start_time": "2023-04-02T13:56:26.929Z"
      },
      {
        "duration": 6,
        "start_time": "2023-04-02T14:00:14.556Z"
      },
      {
        "duration": 27,
        "start_time": "2023-04-02T14:00:17.866Z"
      },
      {
        "duration": 26,
        "start_time": "2023-04-02T14:02:07.852Z"
      },
      {
        "duration": 5,
        "start_time": "2023-04-02T14:02:32.130Z"
      },
      {
        "duration": 4,
        "start_time": "2023-04-02T14:03:56.698Z"
      },
      {
        "duration": 29,
        "start_time": "2023-04-02T14:03:58.422Z"
      },
      {
        "duration": 5,
        "start_time": "2023-04-02T14:07:30.355Z"
      },
      {
        "duration": 8,
        "start_time": "2023-04-02T14:07:33.604Z"
      },
      {
        "duration": 10,
        "start_time": "2023-04-02T14:07:35.777Z"
      },
      {
        "duration": 10,
        "start_time": "2023-04-02T14:07:36.360Z"
      },
      {
        "duration": 20,
        "start_time": "2023-04-02T14:07:53.824Z"
      },
      {
        "duration": 25,
        "start_time": "2023-04-02T14:26:07.481Z"
      },
      {
        "duration": 4,
        "start_time": "2023-04-02T14:26:32.479Z"
      },
      {
        "duration": 12,
        "start_time": "2023-04-02T14:26:36.075Z"
      },
      {
        "duration": 10,
        "start_time": "2023-04-02T14:26:40.247Z"
      },
      {
        "duration": 9,
        "start_time": "2023-04-02T14:26:41.482Z"
      },
      {
        "duration": 20,
        "start_time": "2023-04-02T14:26:44.756Z"
      },
      {
        "duration": 24,
        "start_time": "2023-04-02T14:27:41.335Z"
      },
      {
        "duration": 3,
        "start_time": "2023-04-02T14:34:07.269Z"
      },
      {
        "duration": 30,
        "start_time": "2023-04-02T14:34:11.730Z"
      },
      {
        "duration": 28,
        "start_time": "2023-04-02T14:34:26.757Z"
      },
      {
        "duration": 25,
        "start_time": "2023-04-02T14:35:02.322Z"
      },
      {
        "duration": 1130,
        "start_time": "2023-04-02T14:40:36.155Z"
      },
      {
        "duration": 156,
        "start_time": "2023-04-02T14:40:37.287Z"
      },
      {
        "duration": 18,
        "start_time": "2023-04-02T14:40:37.444Z"
      },
      {
        "duration": 59,
        "start_time": "2023-04-02T14:40:37.464Z"
      },
      {
        "duration": 6,
        "start_time": "2023-04-02T14:40:37.540Z"
      },
      {
        "duration": 925,
        "start_time": "2023-04-02T14:40:37.548Z"
      },
      {
        "duration": 16,
        "start_time": "2023-04-02T14:40:38.475Z"
      },
      {
        "duration": 146,
        "start_time": "2023-04-02T14:40:38.493Z"
      },
      {
        "duration": 15,
        "start_time": "2023-04-02T14:40:38.641Z"
      },
      {
        "duration": 48,
        "start_time": "2023-04-02T14:40:38.659Z"
      },
      {
        "duration": 32,
        "start_time": "2023-04-02T14:40:38.709Z"
      },
      {
        "duration": 529,
        "start_time": "2023-04-02T14:40:38.743Z"
      },
      {
        "duration": 18,
        "start_time": "2023-04-02T14:40:39.274Z"
      },
      {
        "duration": 5,
        "start_time": "2023-04-02T14:40:39.294Z"
      },
      {
        "duration": 164,
        "start_time": "2023-04-02T14:40:39.301Z"
      },
      {
        "duration": 14,
        "start_time": "2023-04-02T14:40:39.466Z"
      },
      {
        "duration": 83,
        "start_time": "2023-04-02T14:40:39.482Z"
      },
      {
        "duration": 7,
        "start_time": "2023-04-02T14:40:39.567Z"
      },
      {
        "duration": 610,
        "start_time": "2023-04-02T14:40:39.576Z"
      },
      {
        "duration": 17,
        "start_time": "2023-04-02T14:40:40.188Z"
      },
      {
        "duration": 167,
        "start_time": "2023-04-02T14:40:40.207Z"
      },
      {
        "duration": 0,
        "start_time": "2023-04-02T14:40:40.375Z"
      },
      {
        "duration": 0,
        "start_time": "2023-04-02T14:40:40.377Z"
      },
      {
        "duration": 0,
        "start_time": "2023-04-02T14:40:40.378Z"
      },
      {
        "duration": 0,
        "start_time": "2023-04-02T14:40:40.379Z"
      },
      {
        "duration": 0,
        "start_time": "2023-04-02T14:40:40.380Z"
      },
      {
        "duration": 0,
        "start_time": "2023-04-02T14:40:40.381Z"
      },
      {
        "duration": 0,
        "start_time": "2023-04-02T14:40:40.382Z"
      },
      {
        "duration": 0,
        "start_time": "2023-04-02T14:40:40.383Z"
      },
      {
        "duration": 0,
        "start_time": "2023-04-02T14:40:40.384Z"
      },
      {
        "duration": 0,
        "start_time": "2023-04-02T14:40:40.385Z"
      },
      {
        "duration": 4,
        "start_time": "2023-04-02T14:41:41.753Z"
      },
      {
        "duration": 1263,
        "start_time": "2023-04-02T14:41:50.010Z"
      },
      {
        "duration": 169,
        "start_time": "2023-04-02T14:41:51.276Z"
      },
      {
        "duration": 19,
        "start_time": "2023-04-02T14:41:51.447Z"
      },
      {
        "duration": 85,
        "start_time": "2023-04-02T14:41:51.468Z"
      },
      {
        "duration": 5,
        "start_time": "2023-04-02T14:41:51.556Z"
      },
      {
        "duration": 843,
        "start_time": "2023-04-02T14:41:51.563Z"
      },
      {
        "duration": 18,
        "start_time": "2023-04-02T14:41:52.409Z"
      },
      {
        "duration": 152,
        "start_time": "2023-04-02T14:41:52.440Z"
      },
      {
        "duration": 15,
        "start_time": "2023-04-02T14:41:52.594Z"
      },
      {
        "duration": 68,
        "start_time": "2023-04-02T14:41:52.611Z"
      },
      {
        "duration": 4,
        "start_time": "2023-04-02T14:41:52.681Z"
      },
      {
        "duration": 557,
        "start_time": "2023-04-02T14:41:52.687Z"
      },
      {
        "duration": 22,
        "start_time": "2023-04-02T14:41:53.247Z"
      },
      {
        "duration": 5,
        "start_time": "2023-04-02T14:41:53.272Z"
      },
      {
        "duration": 158,
        "start_time": "2023-04-02T14:41:53.279Z"
      },
      {
        "duration": 16,
        "start_time": "2023-04-02T14:41:53.441Z"
      },
      {
        "duration": 83,
        "start_time": "2023-04-02T14:41:53.459Z"
      },
      {
        "duration": 8,
        "start_time": "2023-04-02T14:41:53.544Z"
      },
      {
        "duration": 634,
        "start_time": "2023-04-02T14:41:53.554Z"
      },
      {
        "duration": 17,
        "start_time": "2023-04-02T14:41:54.190Z"
      },
      {
        "duration": 50,
        "start_time": "2023-04-02T14:41:54.209Z"
      },
      {
        "duration": 199,
        "start_time": "2023-04-02T14:41:54.261Z"
      },
      {
        "duration": 191,
        "start_time": "2023-04-02T14:41:54.462Z"
      },
      {
        "duration": 89,
        "start_time": "2023-04-02T14:41:54.657Z"
      },
      {
        "duration": 99,
        "start_time": "2023-04-02T14:41:54.750Z"
      },
      {
        "duration": 27,
        "start_time": "2023-04-02T14:41:54.851Z"
      },
      {
        "duration": 4,
        "start_time": "2023-04-02T14:41:54.881Z"
      },
      {
        "duration": 145,
        "start_time": "2023-04-02T14:41:54.886Z"
      },
      {
        "duration": 0,
        "start_time": "2023-04-02T14:41:55.033Z"
      },
      {
        "duration": 0,
        "start_time": "2023-04-02T14:41:55.042Z"
      },
      {
        "duration": 0,
        "start_time": "2023-04-02T14:41:55.043Z"
      },
      {
        "duration": 4,
        "start_time": "2023-04-02T14:52:56.930Z"
      },
      {
        "duration": 16,
        "start_time": "2023-04-02T14:52:58.838Z"
      },
      {
        "duration": 4,
        "start_time": "2023-04-02T14:53:42.040Z"
      },
      {
        "duration": 33,
        "start_time": "2023-04-02T14:53:44.618Z"
      },
      {
        "duration": 4,
        "start_time": "2023-04-02T14:55:42.245Z"
      },
      {
        "duration": 39,
        "start_time": "2023-04-02T14:55:44.324Z"
      },
      {
        "duration": 4,
        "start_time": "2023-04-02T14:56:22.355Z"
      },
      {
        "duration": 33,
        "start_time": "2023-04-02T14:56:24.904Z"
      },
      {
        "duration": 3,
        "start_time": "2023-04-02T14:57:49.254Z"
      },
      {
        "duration": 4,
        "start_time": "2023-04-02T14:58:16.733Z"
      },
      {
        "duration": 51,
        "start_time": "2023-04-02T14:58:18.995Z"
      },
      {
        "duration": 3,
        "start_time": "2023-04-02T15:01:32.003Z"
      },
      {
        "duration": 37,
        "start_time": "2023-04-02T15:01:34.856Z"
      },
      {
        "duration": 4,
        "start_time": "2023-04-02T15:02:04.318Z"
      },
      {
        "duration": 3,
        "start_time": "2023-04-02T15:13:07.246Z"
      },
      {
        "duration": 16,
        "start_time": "2023-04-02T15:13:10.620Z"
      },
      {
        "duration": 10,
        "start_time": "2023-04-02T15:13:32.612Z"
      },
      {
        "duration": 5,
        "start_time": "2023-04-02T15:14:23.855Z"
      },
      {
        "duration": 19,
        "start_time": "2023-04-02T15:14:26.717Z"
      },
      {
        "duration": 3,
        "start_time": "2023-04-02T15:14:50.540Z"
      },
      {
        "duration": 14,
        "start_time": "2023-04-02T15:14:52.375Z"
      },
      {
        "duration": 4,
        "start_time": "2023-04-02T15:16:01.746Z"
      },
      {
        "duration": 19,
        "start_time": "2023-04-02T15:16:03.643Z"
      },
      {
        "duration": 6,
        "start_time": "2023-04-02T15:17:28.108Z"
      },
      {
        "duration": 4,
        "start_time": "2023-04-02T15:18:39.290Z"
      },
      {
        "duration": 12,
        "start_time": "2023-04-02T15:18:42.783Z"
      },
      {
        "duration": 10,
        "start_time": "2023-04-02T15:18:45.372Z"
      },
      {
        "duration": 14,
        "start_time": "2023-04-02T15:18:45.905Z"
      },
      {
        "duration": 19,
        "start_time": "2023-04-02T15:19:24.015Z"
      },
      {
        "duration": 23,
        "start_time": "2023-04-02T15:20:07.697Z"
      },
      {
        "duration": 6,
        "start_time": "2023-04-02T15:21:12.952Z"
      },
      {
        "duration": 32,
        "start_time": "2023-04-02T15:21:18.147Z"
      },
      {
        "duration": 20,
        "start_time": "2023-04-02T15:22:35.566Z"
      },
      {
        "duration": 21,
        "start_time": "2023-04-02T15:23:23.818Z"
      },
      {
        "duration": 27,
        "start_time": "2023-04-02T15:23:43.757Z"
      },
      {
        "duration": 5,
        "start_time": "2023-04-02T15:24:21.069Z"
      },
      {
        "duration": 22,
        "start_time": "2023-04-02T15:24:25.767Z"
      },
      {
        "duration": 54,
        "start_time": "2023-04-02T17:19:54.473Z"
      },
      {
        "duration": 1376,
        "start_time": "2023-04-02T17:20:04.444Z"
      },
      {
        "duration": 401,
        "start_time": "2023-04-02T17:20:05.823Z"
      },
      {
        "duration": 24,
        "start_time": "2023-04-02T17:20:06.226Z"
      },
      {
        "duration": 78,
        "start_time": "2023-04-02T17:20:06.253Z"
      },
      {
        "duration": 6,
        "start_time": "2023-04-02T17:20:06.333Z"
      },
      {
        "duration": 963,
        "start_time": "2023-04-02T17:20:06.342Z"
      },
      {
        "duration": 18,
        "start_time": "2023-04-02T17:20:07.307Z"
      },
      {
        "duration": 632,
        "start_time": "2023-04-02T17:20:07.327Z"
      },
      {
        "duration": 17,
        "start_time": "2023-04-02T17:20:07.961Z"
      },
      {
        "duration": 60,
        "start_time": "2023-04-02T17:20:07.986Z"
      },
      {
        "duration": 7,
        "start_time": "2023-04-02T17:20:08.048Z"
      },
      {
        "duration": 726,
        "start_time": "2023-04-02T17:20:08.057Z"
      },
      {
        "duration": 16,
        "start_time": "2023-04-02T17:20:08.785Z"
      },
      {
        "duration": 4,
        "start_time": "2023-04-02T17:20:08.803Z"
      },
      {
        "duration": 620,
        "start_time": "2023-04-02T17:20:08.809Z"
      },
      {
        "duration": 23,
        "start_time": "2023-04-02T17:20:09.431Z"
      },
      {
        "duration": 80,
        "start_time": "2023-04-02T17:20:09.456Z"
      },
      {
        "duration": 7,
        "start_time": "2023-04-02T17:20:09.538Z"
      },
      {
        "duration": 758,
        "start_time": "2023-04-02T17:20:09.548Z"
      },
      {
        "duration": 17,
        "start_time": "2023-04-02T17:20:10.308Z"
      },
      {
        "duration": 172,
        "start_time": "2023-04-02T17:20:10.328Z"
      },
      {
        "duration": 181,
        "start_time": "2023-04-02T17:20:10.503Z"
      },
      {
        "duration": 198,
        "start_time": "2023-04-02T17:20:10.686Z"
      },
      {
        "duration": 6,
        "start_time": "2023-04-02T17:20:10.887Z"
      },
      {
        "duration": 107,
        "start_time": "2023-04-02T17:20:10.896Z"
      },
      {
        "duration": 47,
        "start_time": "2023-04-02T17:20:11.005Z"
      },
      {
        "duration": 5,
        "start_time": "2023-04-02T17:20:11.054Z"
      },
      {
        "duration": 18,
        "start_time": "2023-04-02T17:20:11.064Z"
      },
      {
        "duration": 13,
        "start_time": "2023-04-02T17:20:11.085Z"
      },
      {
        "duration": 16,
        "start_time": "2023-04-02T17:20:11.101Z"
      },
      {
        "duration": 220,
        "start_time": "2023-04-02T17:20:11.119Z"
      },
      {
        "duration": 22,
        "start_time": "2023-04-02T17:22:11.109Z"
      },
      {
        "duration": 42,
        "start_time": "2023-04-02T17:43:59.443Z"
      },
      {
        "duration": 12,
        "start_time": "2023-04-02T17:46:04.869Z"
      },
      {
        "duration": 11,
        "start_time": "2023-04-02T17:46:06.907Z"
      },
      {
        "duration": 23,
        "start_time": "2023-04-02T17:46:15.405Z"
      },
      {
        "duration": 1244,
        "start_time": "2023-04-02T17:46:40.730Z"
      },
      {
        "duration": 173,
        "start_time": "2023-04-02T17:46:41.977Z"
      },
      {
        "duration": 36,
        "start_time": "2023-04-02T17:46:42.152Z"
      },
      {
        "duration": 75,
        "start_time": "2023-04-02T17:46:42.192Z"
      },
      {
        "duration": 5,
        "start_time": "2023-04-02T17:46:42.271Z"
      },
      {
        "duration": 857,
        "start_time": "2023-04-02T17:46:42.278Z"
      },
      {
        "duration": 16,
        "start_time": "2023-04-02T17:46:43.137Z"
      },
      {
        "duration": 180,
        "start_time": "2023-04-02T17:46:43.155Z"
      },
      {
        "duration": 15,
        "start_time": "2023-04-02T17:46:43.337Z"
      },
      {
        "duration": 106,
        "start_time": "2023-04-02T17:46:43.353Z"
      },
      {
        "duration": 5,
        "start_time": "2023-04-02T17:46:43.461Z"
      },
      {
        "duration": 579,
        "start_time": "2023-04-02T17:46:43.469Z"
      },
      {
        "duration": 19,
        "start_time": "2023-04-02T17:46:44.051Z"
      },
      {
        "duration": 43,
        "start_time": "2023-04-02T17:46:44.073Z"
      },
      {
        "duration": 178,
        "start_time": "2023-04-02T17:46:44.118Z"
      },
      {
        "duration": 18,
        "start_time": "2023-04-02T17:46:44.299Z"
      },
      {
        "duration": 94,
        "start_time": "2023-04-02T17:46:44.319Z"
      },
      {
        "duration": 6,
        "start_time": "2023-04-02T17:46:44.415Z"
      },
      {
        "duration": 637,
        "start_time": "2023-04-02T17:46:44.423Z"
      },
      {
        "duration": 38,
        "start_time": "2023-04-02T17:46:45.063Z"
      },
      {
        "duration": 83,
        "start_time": "2023-04-02T17:46:45.103Z"
      },
      {
        "duration": 182,
        "start_time": "2023-04-02T17:46:45.188Z"
      },
      {
        "duration": 198,
        "start_time": "2023-04-02T17:46:45.393Z"
      },
      {
        "duration": 94,
        "start_time": "2023-04-02T17:46:45.594Z"
      },
      {
        "duration": 96,
        "start_time": "2023-04-02T17:46:45.690Z"
      },
      {
        "duration": 43,
        "start_time": "2023-04-02T17:46:45.795Z"
      },
      {
        "duration": 4,
        "start_time": "2023-04-02T17:46:45.840Z"
      },
      {
        "duration": 14,
        "start_time": "2023-04-02T17:46:45.846Z"
      },
      {
        "duration": 8,
        "start_time": "2023-04-02T17:46:45.862Z"
      },
      {
        "duration": 35,
        "start_time": "2023-04-02T17:46:45.873Z"
      },
      {
        "duration": 144,
        "start_time": "2023-04-02T17:46:45.910Z"
      },
      {
        "duration": 42,
        "start_time": "2023-04-02T17:49:22.828Z"
      },
      {
        "duration": 1490,
        "start_time": "2023-04-02T17:53:39.576Z"
      },
      {
        "duration": 218,
        "start_time": "2023-04-02T17:53:41.068Z"
      },
      {
        "duration": 24,
        "start_time": "2023-04-02T17:53:41.288Z"
      },
      {
        "duration": 91,
        "start_time": "2023-04-02T17:53:41.315Z"
      },
      {
        "duration": 6,
        "start_time": "2023-04-02T17:53:41.409Z"
      },
      {
        "duration": 924,
        "start_time": "2023-04-02T17:53:41.417Z"
      },
      {
        "duration": 18,
        "start_time": "2023-04-02T17:53:42.343Z"
      },
      {
        "duration": 157,
        "start_time": "2023-04-02T17:53:42.363Z"
      },
      {
        "duration": 17,
        "start_time": "2023-04-02T17:53:42.522Z"
      },
      {
        "duration": 54,
        "start_time": "2023-04-02T17:53:42.542Z"
      },
      {
        "duration": 4,
        "start_time": "2023-04-02T17:53:42.598Z"
      },
      {
        "duration": 768,
        "start_time": "2023-04-02T17:53:42.605Z"
      },
      {
        "duration": 25,
        "start_time": "2023-04-02T17:53:43.376Z"
      },
      {
        "duration": 7,
        "start_time": "2023-04-02T17:53:43.403Z"
      },
      {
        "duration": 209,
        "start_time": "2023-04-02T17:53:43.412Z"
      },
      {
        "duration": 22,
        "start_time": "2023-04-02T17:53:43.624Z"
      },
      {
        "duration": 84,
        "start_time": "2023-04-02T17:53:43.648Z"
      },
      {
        "duration": 8,
        "start_time": "2023-04-02T17:53:43.735Z"
      },
      {
        "duration": 806,
        "start_time": "2023-04-02T17:53:43.746Z"
      },
      {
        "duration": 30,
        "start_time": "2023-04-02T17:53:44.555Z"
      },
      {
        "duration": 204,
        "start_time": "2023-04-02T17:53:44.586Z"
      },
      {
        "duration": 101,
        "start_time": "2023-04-02T17:53:44.792Z"
      },
      {
        "duration": 171,
        "start_time": "2023-04-02T17:53:44.897Z"
      },
      {
        "duration": 29,
        "start_time": "2023-04-02T17:53:45.074Z"
      },
      {
        "duration": 122,
        "start_time": "2023-04-02T17:53:45.105Z"
      },
      {
        "duration": 58,
        "start_time": "2023-04-02T17:53:45.228Z"
      },
      {
        "duration": 3,
        "start_time": "2023-04-02T17:53:45.288Z"
      },
      {
        "duration": 9,
        "start_time": "2023-04-02T17:53:45.295Z"
      },
      {
        "duration": 27,
        "start_time": "2023-04-02T17:53:45.309Z"
      },
      {
        "duration": 41,
        "start_time": "2023-04-02T17:53:45.338Z"
      },
      {
        "duration": 217,
        "start_time": "2023-04-02T17:53:45.382Z"
      },
      {
        "duration": 4,
        "start_time": "2023-04-02T17:57:36.069Z"
      },
      {
        "duration": 31,
        "start_time": "2023-04-02T17:57:38.584Z"
      },
      {
        "duration": 32,
        "start_time": "2023-04-02T17:57:45.108Z"
      },
      {
        "duration": 21,
        "start_time": "2023-04-02T18:00:01.861Z"
      },
      {
        "duration": 19,
        "start_time": "2023-04-02T18:03:57.031Z"
      },
      {
        "duration": 1273,
        "start_time": "2023-04-02T18:04:41.278Z"
      },
      {
        "duration": 184,
        "start_time": "2023-04-02T18:04:42.554Z"
      },
      {
        "duration": 18,
        "start_time": "2023-04-02T18:04:42.740Z"
      },
      {
        "duration": 71,
        "start_time": "2023-04-02T18:04:42.761Z"
      },
      {
        "duration": 5,
        "start_time": "2023-04-02T18:04:42.834Z"
      },
      {
        "duration": 905,
        "start_time": "2023-04-02T18:04:42.841Z"
      },
      {
        "duration": 21,
        "start_time": "2023-04-02T18:04:43.751Z"
      },
      {
        "duration": 182,
        "start_time": "2023-04-02T18:04:43.786Z"
      },
      {
        "duration": 24,
        "start_time": "2023-04-02T18:04:43.970Z"
      },
      {
        "duration": 69,
        "start_time": "2023-04-02T18:04:43.997Z"
      },
      {
        "duration": 6,
        "start_time": "2023-04-02T18:04:44.068Z"
      },
      {
        "duration": 594,
        "start_time": "2023-04-02T18:04:44.076Z"
      },
      {
        "duration": 26,
        "start_time": "2023-04-02T18:04:44.672Z"
      },
      {
        "duration": 42,
        "start_time": "2023-04-02T18:04:44.700Z"
      },
      {
        "duration": 188,
        "start_time": "2023-04-02T18:04:44.744Z"
      },
      {
        "duration": 21,
        "start_time": "2023-04-02T18:04:44.934Z"
      },
      {
        "duration": 85,
        "start_time": "2023-04-02T18:04:44.958Z"
      },
      {
        "duration": 26,
        "start_time": "2023-04-02T18:04:45.046Z"
      },
      {
        "duration": 724,
        "start_time": "2023-04-02T18:04:45.075Z"
      },
      {
        "duration": 18,
        "start_time": "2023-04-02T18:04:45.801Z"
      },
      {
        "duration": 27,
        "start_time": "2023-04-02T18:04:45.821Z"
      },
      {
        "duration": 114,
        "start_time": "2023-04-02T18:04:45.883Z"
      },
      {
        "duration": 204,
        "start_time": "2023-04-02T18:04:46.001Z"
      },
      {
        "duration": 76,
        "start_time": "2023-04-02T18:04:46.210Z"
      },
      {
        "duration": 126,
        "start_time": "2023-04-02T18:04:46.288Z"
      },
      {
        "duration": 76,
        "start_time": "2023-04-02T18:04:46.415Z"
      },
      {
        "duration": 5,
        "start_time": "2023-04-02T18:04:46.497Z"
      },
      {
        "duration": 152,
        "start_time": "2023-04-02T18:04:46.506Z"
      },
      {
        "duration": 0,
        "start_time": "2023-04-02T18:04:46.661Z"
      },
      {
        "duration": 0,
        "start_time": "2023-04-02T18:04:46.662Z"
      },
      {
        "duration": 0,
        "start_time": "2023-04-02T18:04:46.663Z"
      },
      {
        "duration": 19,
        "start_time": "2023-04-02T18:04:56.047Z"
      },
      {
        "duration": 35,
        "start_time": "2023-04-02T18:05:45.016Z"
      },
      {
        "duration": 24,
        "start_time": "2023-04-02T18:06:09.411Z"
      },
      {
        "duration": 37,
        "start_time": "2023-04-02T18:06:21.467Z"
      },
      {
        "duration": 28,
        "start_time": "2023-04-02T18:06:35.645Z"
      },
      {
        "duration": 20,
        "start_time": "2023-04-02T18:06:50.217Z"
      },
      {
        "duration": 36,
        "start_time": "2023-04-02T18:07:29.675Z"
      },
      {
        "duration": 1494,
        "start_time": "2023-04-02T18:09:01.728Z"
      },
      {
        "duration": 223,
        "start_time": "2023-04-02T18:09:03.224Z"
      },
      {
        "duration": 40,
        "start_time": "2023-04-02T18:09:03.450Z"
      },
      {
        "duration": 86,
        "start_time": "2023-04-02T18:09:03.494Z"
      },
      {
        "duration": 14,
        "start_time": "2023-04-02T18:09:03.589Z"
      },
      {
        "duration": 1083,
        "start_time": "2023-04-02T18:09:03.607Z"
      },
      {
        "duration": 26,
        "start_time": "2023-04-02T18:09:04.695Z"
      },
      {
        "duration": 219,
        "start_time": "2023-04-02T18:09:04.724Z"
      },
      {
        "duration": 23,
        "start_time": "2023-04-02T18:09:04.945Z"
      },
      {
        "duration": 117,
        "start_time": "2023-04-02T18:09:04.972Z"
      },
      {
        "duration": 8,
        "start_time": "2023-04-02T18:09:05.092Z"
      },
      {
        "duration": 772,
        "start_time": "2023-04-02T18:09:05.104Z"
      },
      {
        "duration": 24,
        "start_time": "2023-04-02T18:09:05.884Z"
      },
      {
        "duration": 12,
        "start_time": "2023-04-02T18:09:05.916Z"
      },
      {
        "duration": 204,
        "start_time": "2023-04-02T18:09:05.930Z"
      },
      {
        "duration": 23,
        "start_time": "2023-04-02T18:09:06.137Z"
      },
      {
        "duration": 87,
        "start_time": "2023-04-02T18:09:06.163Z"
      },
      {
        "duration": 9,
        "start_time": "2023-04-02T18:09:06.253Z"
      },
      {
        "duration": 773,
        "start_time": "2023-04-02T18:09:06.265Z"
      },
      {
        "duration": 21,
        "start_time": "2023-04-02T18:09:07.040Z"
      },
      {
        "duration": 69,
        "start_time": "2023-04-02T18:09:07.063Z"
      },
      {
        "duration": 210,
        "start_time": "2023-04-02T18:09:07.137Z"
      },
      {
        "duration": 175,
        "start_time": "2023-04-02T18:09:07.349Z"
      },
      {
        "duration": 160,
        "start_time": "2023-04-02T18:09:07.527Z"
      },
      {
        "duration": 38,
        "start_time": "2023-04-02T18:09:07.691Z"
      },
      {
        "duration": 50,
        "start_time": "2023-04-02T18:09:07.731Z"
      },
      {
        "duration": 5,
        "start_time": "2023-04-02T18:09:07.789Z"
      },
      {
        "duration": 222,
        "start_time": "2023-04-02T18:09:07.802Z"
      },
      {
        "duration": 0,
        "start_time": "2023-04-02T18:09:08.027Z"
      },
      {
        "duration": 0,
        "start_time": "2023-04-02T18:09:08.028Z"
      },
      {
        "duration": 0,
        "start_time": "2023-04-02T18:09:08.030Z"
      },
      {
        "duration": 33,
        "start_time": "2023-04-02T18:09:14.047Z"
      },
      {
        "duration": 34,
        "start_time": "2023-04-02T18:09:50.534Z"
      },
      {
        "duration": 21,
        "start_time": "2023-04-02T18:10:21.536Z"
      },
      {
        "duration": 40,
        "start_time": "2023-04-02T18:10:34.678Z"
      },
      {
        "duration": 1436,
        "start_time": "2023-04-02T18:11:03.241Z"
      },
      {
        "duration": 256,
        "start_time": "2023-04-02T18:11:04.680Z"
      },
      {
        "duration": 25,
        "start_time": "2023-04-02T18:11:04.939Z"
      },
      {
        "duration": 116,
        "start_time": "2023-04-02T18:11:04.967Z"
      },
      {
        "duration": 8,
        "start_time": "2023-04-02T18:11:05.089Z"
      },
      {
        "duration": 1161,
        "start_time": "2023-04-02T18:11:05.099Z"
      },
      {
        "duration": 39,
        "start_time": "2023-04-02T18:11:06.262Z"
      },
      {
        "duration": 232,
        "start_time": "2023-04-02T18:11:06.303Z"
      },
      {
        "duration": 20,
        "start_time": "2023-04-02T18:11:06.537Z"
      },
      {
        "duration": 152,
        "start_time": "2023-04-02T18:11:06.560Z"
      },
      {
        "duration": 6,
        "start_time": "2023-04-02T18:11:06.714Z"
      },
      {
        "duration": 719,
        "start_time": "2023-04-02T18:11:06.722Z"
      },
      {
        "duration": 24,
        "start_time": "2023-04-02T18:11:07.443Z"
      },
      {
        "duration": 19,
        "start_time": "2023-04-02T18:11:07.469Z"
      },
      {
        "duration": 220,
        "start_time": "2023-04-02T18:11:07.490Z"
      },
      {
        "duration": 23,
        "start_time": "2023-04-02T18:11:07.712Z"
      },
      {
        "duration": 87,
        "start_time": "2023-04-02T18:11:07.737Z"
      },
      {
        "duration": 8,
        "start_time": "2023-04-02T18:11:07.826Z"
      },
      {
        "duration": 891,
        "start_time": "2023-04-02T18:11:07.837Z"
      },
      {
        "duration": 24,
        "start_time": "2023-04-02T18:11:08.730Z"
      },
      {
        "duration": 178,
        "start_time": "2023-04-02T18:11:08.756Z"
      },
      {
        "duration": 157,
        "start_time": "2023-04-02T18:11:08.939Z"
      },
      {
        "duration": 133,
        "start_time": "2023-04-02T18:11:09.100Z"
      },
      {
        "duration": 196,
        "start_time": "2023-04-02T18:11:09.235Z"
      },
      {
        "duration": 17,
        "start_time": "2023-04-02T18:11:09.433Z"
      },
      {
        "duration": 50,
        "start_time": "2023-04-02T18:11:09.452Z"
      },
      {
        "duration": 3,
        "start_time": "2023-04-02T18:11:09.504Z"
      },
      {
        "duration": 201,
        "start_time": "2023-04-02T18:11:09.511Z"
      },
      {
        "duration": 0,
        "start_time": "2023-04-02T18:11:09.715Z"
      },
      {
        "duration": 0,
        "start_time": "2023-04-02T18:11:09.717Z"
      },
      {
        "duration": 0,
        "start_time": "2023-04-02T18:11:09.718Z"
      },
      {
        "duration": 35,
        "start_time": "2023-04-02T18:11:17.870Z"
      },
      {
        "duration": 4,
        "start_time": "2023-04-02T18:15:40.527Z"
      },
      {
        "duration": 29,
        "start_time": "2023-04-02T18:15:43.177Z"
      },
      {
        "duration": 17,
        "start_time": "2023-04-02T18:15:54.360Z"
      },
      {
        "duration": 6,
        "start_time": "2023-04-02T18:18:11.992Z"
      },
      {
        "duration": 25,
        "start_time": "2023-04-02T18:18:16.738Z"
      },
      {
        "duration": 34,
        "start_time": "2023-04-02T18:18:22.606Z"
      },
      {
        "duration": 1204,
        "start_time": "2023-04-02T18:18:52.129Z"
      },
      {
        "duration": 172,
        "start_time": "2023-04-02T18:18:53.335Z"
      },
      {
        "duration": 24,
        "start_time": "2023-04-02T18:18:53.508Z"
      },
      {
        "duration": 89,
        "start_time": "2023-04-02T18:18:53.534Z"
      },
      {
        "duration": 5,
        "start_time": "2023-04-02T18:18:53.625Z"
      },
      {
        "duration": 781,
        "start_time": "2023-04-02T18:18:53.633Z"
      },
      {
        "duration": 15,
        "start_time": "2023-04-02T18:18:54.416Z"
      },
      {
        "duration": 165,
        "start_time": "2023-04-02T18:18:54.433Z"
      },
      {
        "duration": 20,
        "start_time": "2023-04-02T18:18:54.600Z"
      },
      {
        "duration": 75,
        "start_time": "2023-04-02T18:18:54.624Z"
      },
      {
        "duration": 5,
        "start_time": "2023-04-02T18:18:54.700Z"
      },
      {
        "duration": 733,
        "start_time": "2023-04-02T18:18:54.707Z"
      },
      {
        "duration": 16,
        "start_time": "2023-04-02T18:18:55.441Z"
      },
      {
        "duration": 5,
        "start_time": "2023-04-02T18:18:55.459Z"
      },
      {
        "duration": 170,
        "start_time": "2023-04-02T18:18:55.466Z"
      },
      {
        "duration": 22,
        "start_time": "2023-04-02T18:18:55.637Z"
      },
      {
        "duration": 73,
        "start_time": "2023-04-02T18:18:55.661Z"
      },
      {
        "duration": 6,
        "start_time": "2023-04-02T18:18:55.736Z"
      },
      {
        "duration": 603,
        "start_time": "2023-04-02T18:18:55.744Z"
      },
      {
        "duration": 14,
        "start_time": "2023-04-02T18:18:56.348Z"
      },
      {
        "duration": 124,
        "start_time": "2023-04-02T18:18:56.363Z"
      },
      {
        "duration": 134,
        "start_time": "2023-04-02T18:18:56.489Z"
      },
      {
        "duration": 165,
        "start_time": "2023-04-02T18:18:56.625Z"
      },
      {
        "duration": 87,
        "start_time": "2023-04-02T18:18:56.799Z"
      },
      {
        "duration": 33,
        "start_time": "2023-04-02T18:18:56.888Z"
      },
      {
        "duration": 45,
        "start_time": "2023-04-02T18:18:56.923Z"
      },
      {
        "duration": 7,
        "start_time": "2023-04-02T18:18:56.985Z"
      },
      {
        "duration": 150,
        "start_time": "2023-04-02T18:18:56.999Z"
      },
      {
        "duration": 0,
        "start_time": "2023-04-02T18:18:57.151Z"
      },
      {
        "duration": 0,
        "start_time": "2023-04-02T18:18:57.153Z"
      },
      {
        "duration": 1,
        "start_time": "2023-04-02T18:18:57.155Z"
      },
      {
        "duration": 25,
        "start_time": "2023-04-02T18:19:07.210Z"
      },
      {
        "duration": 1124,
        "start_time": "2023-04-03T09:20:53.083Z"
      },
      {
        "duration": 532,
        "start_time": "2023-04-03T09:20:54.209Z"
      },
      {
        "duration": 15,
        "start_time": "2023-04-03T09:20:54.743Z"
      },
      {
        "duration": 49,
        "start_time": "2023-04-03T09:20:54.760Z"
      },
      {
        "duration": 4,
        "start_time": "2023-04-03T09:20:54.810Z"
      },
      {
        "duration": 911,
        "start_time": "2023-04-03T09:20:54.816Z"
      },
      {
        "duration": 16,
        "start_time": "2023-04-03T09:20:55.729Z"
      },
      {
        "duration": 218,
        "start_time": "2023-04-03T09:20:55.761Z"
      },
      {
        "duration": 19,
        "start_time": "2023-04-03T09:20:55.981Z"
      },
      {
        "duration": 48,
        "start_time": "2023-04-03T09:20:56.004Z"
      },
      {
        "duration": 13,
        "start_time": "2023-04-03T09:20:56.053Z"
      },
      {
        "duration": 580,
        "start_time": "2023-04-03T09:20:56.068Z"
      },
      {
        "duration": 25,
        "start_time": "2023-04-03T09:20:56.651Z"
      },
      {
        "duration": 5,
        "start_time": "2023-04-03T09:20:56.678Z"
      },
      {
        "duration": 203,
        "start_time": "2023-04-03T09:20:56.685Z"
      },
      {
        "duration": 16,
        "start_time": "2023-04-03T09:20:56.890Z"
      },
      {
        "duration": 61,
        "start_time": "2023-04-03T09:20:56.908Z"
      },
      {
        "duration": 5,
        "start_time": "2023-04-03T09:20:56.970Z"
      },
      {
        "duration": 480,
        "start_time": "2023-04-03T09:20:56.977Z"
      },
      {
        "duration": 15,
        "start_time": "2023-04-03T09:20:57.461Z"
      },
      {
        "duration": 92,
        "start_time": "2023-04-03T09:20:57.478Z"
      },
      {
        "duration": 111,
        "start_time": "2023-04-03T09:20:57.663Z"
      },
      {
        "duration": 196,
        "start_time": "2023-04-03T09:20:57.775Z"
      },
      {
        "duration": 7,
        "start_time": "2023-04-03T09:20:58.061Z"
      },
      {
        "duration": 94,
        "start_time": "2023-04-03T09:20:58.070Z"
      },
      {
        "duration": 7,
        "start_time": "2023-04-03T09:20:58.166Z"
      },
      {
        "duration": 30,
        "start_time": "2023-04-03T09:20:58.175Z"
      },
      {
        "duration": 3,
        "start_time": "2023-04-03T09:20:58.209Z"
      },
      {
        "duration": 10,
        "start_time": "2023-04-03T09:20:58.214Z"
      },
      {
        "duration": 7,
        "start_time": "2023-04-03T09:20:58.225Z"
      },
      {
        "duration": 35,
        "start_time": "2023-04-03T09:20:58.234Z"
      },
      {
        "duration": 131,
        "start_time": "2023-04-03T09:20:58.271Z"
      },
      {
        "duration": 1271,
        "start_time": "2023-04-03T09:21:51.861Z"
      },
      {
        "duration": 1041,
        "start_time": "2023-04-03T09:22:55.384Z"
      },
      {
        "duration": 145,
        "start_time": "2023-04-03T09:22:56.427Z"
      },
      {
        "duration": 16,
        "start_time": "2023-04-03T09:22:56.573Z"
      },
      {
        "duration": 51,
        "start_time": "2023-04-03T09:22:56.591Z"
      },
      {
        "duration": 20,
        "start_time": "2023-04-03T09:22:56.644Z"
      },
      {
        "duration": 724,
        "start_time": "2023-04-03T09:22:56.665Z"
      },
      {
        "duration": 16,
        "start_time": "2023-04-03T09:22:57.391Z"
      },
      {
        "duration": 132,
        "start_time": "2023-04-03T09:22:57.409Z"
      },
      {
        "duration": 21,
        "start_time": "2023-04-03T09:22:57.543Z"
      },
      {
        "duration": 47,
        "start_time": "2023-04-03T09:22:57.567Z"
      },
      {
        "duration": 5,
        "start_time": "2023-04-03T09:22:57.616Z"
      },
      {
        "duration": 510,
        "start_time": "2023-04-03T09:22:57.623Z"
      },
      {
        "duration": 17,
        "start_time": "2023-04-03T09:22:58.135Z"
      },
      {
        "duration": 4,
        "start_time": "2023-04-03T09:22:58.162Z"
      },
      {
        "duration": 135,
        "start_time": "2023-04-03T09:22:58.168Z"
      },
      {
        "duration": 18,
        "start_time": "2023-04-03T09:22:58.305Z"
      },
      {
        "duration": 69,
        "start_time": "2023-04-03T09:22:58.325Z"
      },
      {
        "duration": 6,
        "start_time": "2023-04-03T09:22:58.396Z"
      },
      {
        "duration": 593,
        "start_time": "2023-04-03T09:22:58.404Z"
      },
      {
        "duration": 17,
        "start_time": "2023-04-03T09:22:58.999Z"
      },
      {
        "duration": 50,
        "start_time": "2023-04-03T09:22:59.017Z"
      },
      {
        "duration": 192,
        "start_time": "2023-04-03T09:22:59.071Z"
      },
      {
        "duration": 122,
        "start_time": "2023-04-03T09:22:59.267Z"
      },
      {
        "duration": 97,
        "start_time": "2023-04-03T09:22:59.464Z"
      },
      {
        "duration": 17,
        "start_time": "2023-04-03T09:22:59.563Z"
      },
      {
        "duration": 13,
        "start_time": "2023-04-03T09:22:59.582Z"
      },
      {
        "duration": 27,
        "start_time": "2023-04-03T09:22:59.597Z"
      },
      {
        "duration": 4,
        "start_time": "2023-04-03T09:22:59.627Z"
      },
      {
        "duration": 23,
        "start_time": "2023-04-03T09:22:59.633Z"
      },
      {
        "duration": 11,
        "start_time": "2023-04-03T09:22:59.662Z"
      },
      {
        "duration": 10,
        "start_time": "2023-04-03T09:22:59.675Z"
      },
      {
        "duration": 1374,
        "start_time": "2023-04-03T09:22:59.687Z"
      },
      {
        "duration": 5,
        "start_time": "2023-04-03T09:33:06.076Z"
      },
      {
        "duration": 1324,
        "start_time": "2023-04-03T09:33:31.750Z"
      },
      {
        "duration": 56,
        "start_time": "2023-04-03T09:34:36.935Z"
      },
      {
        "duration": 306,
        "start_time": "2023-04-03T09:35:19.040Z"
      },
      {
        "duration": 5,
        "start_time": "2023-04-03T09:35:25.124Z"
      },
      {
        "duration": 1184,
        "start_time": "2023-04-03T09:35:27.800Z"
      },
      {
        "duration": 5,
        "start_time": "2023-04-03T09:36:22.516Z"
      },
      {
        "duration": 1131,
        "start_time": "2023-04-03T09:36:24.432Z"
      },
      {
        "duration": 1297,
        "start_time": "2023-04-03T09:37:50.028Z"
      },
      {
        "duration": 1290,
        "start_time": "2023-04-03T09:38:31.254Z"
      },
      {
        "duration": 6,
        "start_time": "2023-04-03T09:49:34.783Z"
      },
      {
        "duration": 1160,
        "start_time": "2023-04-03T09:49:36.575Z"
      },
      {
        "duration": 1150,
        "start_time": "2023-04-03T09:49:57.785Z"
      },
      {
        "duration": 1214,
        "start_time": "2023-04-03T09:50:00.935Z"
      },
      {
        "duration": 5,
        "start_time": "2023-04-03T09:50:12.099Z"
      },
      {
        "duration": 1346,
        "start_time": "2023-04-03T09:50:13.706Z"
      },
      {
        "duration": 1387,
        "start_time": "2023-04-03T09:50:16.797Z"
      },
      {
        "duration": 1202,
        "start_time": "2023-04-03T09:50:19.296Z"
      },
      {
        "duration": 6,
        "start_time": "2023-04-03T09:50:58.237Z"
      },
      {
        "duration": 1160,
        "start_time": "2023-04-03T09:50:59.240Z"
      },
      {
        "duration": 1219,
        "start_time": "2023-04-03T09:51:06.303Z"
      },
      {
        "duration": 1240,
        "start_time": "2023-04-03T09:51:08.831Z"
      },
      {
        "duration": 1081,
        "start_time": "2023-04-03T09:51:18.071Z"
      },
      {
        "duration": 146,
        "start_time": "2023-04-03T09:51:19.154Z"
      },
      {
        "duration": 16,
        "start_time": "2023-04-03T09:51:19.302Z"
      },
      {
        "duration": 59,
        "start_time": "2023-04-03T09:51:19.320Z"
      },
      {
        "duration": 4,
        "start_time": "2023-04-03T09:51:19.382Z"
      },
      {
        "duration": 716,
        "start_time": "2023-04-03T09:51:19.388Z"
      },
      {
        "duration": 18,
        "start_time": "2023-04-03T09:51:20.105Z"
      },
      {
        "duration": 128,
        "start_time": "2023-04-03T09:51:20.124Z"
      },
      {
        "duration": 20,
        "start_time": "2023-04-03T09:51:20.254Z"
      },
      {
        "duration": 53,
        "start_time": "2023-04-03T09:51:20.276Z"
      },
      {
        "duration": 7,
        "start_time": "2023-04-03T09:51:20.331Z"
      },
      {
        "duration": 517,
        "start_time": "2023-04-03T09:51:20.362Z"
      },
      {
        "duration": 17,
        "start_time": "2023-04-03T09:51:20.881Z"
      },
      {
        "duration": 8,
        "start_time": "2023-04-03T09:51:20.900Z"
      },
      {
        "duration": 145,
        "start_time": "2023-04-03T09:51:20.910Z"
      },
      {
        "duration": 19,
        "start_time": "2023-04-03T09:51:21.058Z"
      },
      {
        "duration": 86,
        "start_time": "2023-04-03T09:51:21.079Z"
      },
      {
        "duration": 7,
        "start_time": "2023-04-03T09:51:21.168Z"
      },
      {
        "duration": 591,
        "start_time": "2023-04-03T09:51:21.177Z"
      },
      {
        "duration": 17,
        "start_time": "2023-04-03T09:51:21.770Z"
      },
      {
        "duration": 74,
        "start_time": "2023-04-03T09:51:21.789Z"
      },
      {
        "duration": 118,
        "start_time": "2023-04-03T09:51:21.865Z"
      },
      {
        "duration": 190,
        "start_time": "2023-04-03T09:51:21.985Z"
      },
      {
        "duration": 5,
        "start_time": "2023-04-03T09:51:22.176Z"
      },
      {
        "duration": 6,
        "start_time": "2023-04-03T09:51:22.263Z"
      },
      {
        "duration": 7,
        "start_time": "2023-04-03T09:51:22.363Z"
      },
      {
        "duration": 32,
        "start_time": "2023-04-03T09:51:22.372Z"
      },
      {
        "duration": 4,
        "start_time": "2023-04-03T09:51:22.408Z"
      },
      {
        "duration": 13,
        "start_time": "2023-04-03T09:51:22.415Z"
      },
      {
        "duration": 11,
        "start_time": "2023-04-03T09:51:22.461Z"
      },
      {
        "duration": 9,
        "start_time": "2023-04-03T09:51:22.474Z"
      },
      {
        "duration": 6,
        "start_time": "2023-04-03T09:51:22.485Z"
      },
      {
        "duration": 1234,
        "start_time": "2023-04-03T09:51:22.492Z"
      },
      {
        "duration": 1242,
        "start_time": "2023-04-03T09:51:23.728Z"
      },
      {
        "duration": 1195,
        "start_time": "2023-04-03T09:51:24.972Z"
      },
      {
        "duration": 1074,
        "start_time": "2023-04-03T10:01:18.775Z"
      },
      {
        "duration": 153,
        "start_time": "2023-04-03T10:01:19.852Z"
      },
      {
        "duration": 17,
        "start_time": "2023-04-03T10:01:20.006Z"
      },
      {
        "duration": 72,
        "start_time": "2023-04-03T10:01:20.025Z"
      },
      {
        "duration": 5,
        "start_time": "2023-04-03T10:01:20.099Z"
      },
      {
        "duration": 788,
        "start_time": "2023-04-03T10:01:20.105Z"
      },
      {
        "duration": 17,
        "start_time": "2023-04-03T10:01:20.895Z"
      },
      {
        "duration": 143,
        "start_time": "2023-04-03T10:01:20.914Z"
      },
      {
        "duration": 15,
        "start_time": "2023-04-03T10:01:21.062Z"
      },
      {
        "duration": 71,
        "start_time": "2023-04-03T10:01:21.079Z"
      },
      {
        "duration": 5,
        "start_time": "2023-04-03T10:01:21.161Z"
      },
      {
        "duration": 506,
        "start_time": "2023-04-03T10:01:21.168Z"
      },
      {
        "duration": 16,
        "start_time": "2023-04-03T10:01:21.676Z"
      },
      {
        "duration": 4,
        "start_time": "2023-04-03T10:01:21.695Z"
      },
      {
        "duration": 134,
        "start_time": "2023-04-03T10:01:21.701Z"
      },
      {
        "duration": 27,
        "start_time": "2023-04-03T10:01:21.837Z"
      },
      {
        "duration": 52,
        "start_time": "2023-04-03T10:01:21.866Z"
      },
      {
        "duration": 6,
        "start_time": "2023-04-03T10:01:21.920Z"
      },
      {
        "duration": 593,
        "start_time": "2023-04-03T10:01:21.928Z"
      },
      {
        "duration": 15,
        "start_time": "2023-04-03T10:01:22.523Z"
      },
      {
        "duration": 41,
        "start_time": "2023-04-03T10:01:22.540Z"
      },
      {
        "duration": 185,
        "start_time": "2023-04-03T10:01:22.583Z"
      },
      {
        "duration": 206,
        "start_time": "2023-04-03T10:01:22.770Z"
      },
      {
        "duration": 186,
        "start_time": "2023-04-03T10:01:22.977Z"
      },
      {
        "duration": 0,
        "start_time": "2023-04-03T10:01:23.165Z"
      },
      {
        "duration": 0,
        "start_time": "2023-04-03T10:01:23.166Z"
      },
      {
        "duration": 0,
        "start_time": "2023-04-03T10:01:23.167Z"
      },
      {
        "duration": 0,
        "start_time": "2023-04-03T10:01:23.168Z"
      },
      {
        "duration": 0,
        "start_time": "2023-04-03T10:01:23.169Z"
      },
      {
        "duration": 0,
        "start_time": "2023-04-03T10:01:23.171Z"
      },
      {
        "duration": 0,
        "start_time": "2023-04-03T10:01:23.172Z"
      },
      {
        "duration": 0,
        "start_time": "2023-04-03T10:01:23.174Z"
      },
      {
        "duration": 0,
        "start_time": "2023-04-03T10:01:23.175Z"
      },
      {
        "duration": 0,
        "start_time": "2023-04-03T10:01:23.176Z"
      },
      {
        "duration": 1,
        "start_time": "2023-04-03T10:01:23.177Z"
      },
      {
        "duration": 4,
        "start_time": "2023-04-03T10:01:33.413Z"
      },
      {
        "duration": 4,
        "start_time": "2023-04-03T10:01:35.623Z"
      },
      {
        "duration": 6,
        "start_time": "2023-04-03T10:01:38.085Z"
      },
      {
        "duration": 28,
        "start_time": "2023-04-03T10:01:40.572Z"
      },
      {
        "duration": 4,
        "start_time": "2023-04-03T10:01:48.495Z"
      },
      {
        "duration": 8,
        "start_time": "2023-04-03T10:01:52.286Z"
      },
      {
        "duration": 9,
        "start_time": "2023-04-03T10:01:53.033Z"
      },
      {
        "duration": 7,
        "start_time": "2023-04-03T10:01:53.523Z"
      },
      {
        "duration": 6,
        "start_time": "2023-04-03T10:01:56.753Z"
      },
      {
        "duration": 1181,
        "start_time": "2023-04-03T10:01:57.994Z"
      },
      {
        "duration": 1245,
        "start_time": "2023-04-03T10:02:00.689Z"
      },
      {
        "duration": 1296,
        "start_time": "2023-04-03T10:02:03.832Z"
      },
      {
        "duration": 3281,
        "start_time": "2023-04-03T18:43:24.557Z"
      },
      {
        "duration": 420,
        "start_time": "2023-04-03T18:43:27.840Z"
      },
      {
        "duration": 15,
        "start_time": "2023-04-03T18:43:28.262Z"
      },
      {
        "duration": 66,
        "start_time": "2023-04-03T18:43:28.279Z"
      },
      {
        "duration": 5,
        "start_time": "2023-04-03T18:43:28.349Z"
      },
      {
        "duration": 964,
        "start_time": "2023-04-03T18:43:28.355Z"
      },
      {
        "duration": 25,
        "start_time": "2023-04-03T18:43:29.321Z"
      },
      {
        "duration": 631,
        "start_time": "2023-04-03T18:43:29.348Z"
      },
      {
        "duration": 17,
        "start_time": "2023-04-03T18:43:29.981Z"
      },
      {
        "duration": 72,
        "start_time": "2023-04-03T18:43:30.000Z"
      },
      {
        "duration": 6,
        "start_time": "2023-04-03T18:43:30.073Z"
      },
      {
        "duration": 685,
        "start_time": "2023-04-03T18:43:30.080Z"
      },
      {
        "duration": 16,
        "start_time": "2023-04-03T18:43:30.768Z"
      },
      {
        "duration": 18,
        "start_time": "2023-04-03T18:43:30.788Z"
      },
      {
        "duration": 646,
        "start_time": "2023-04-03T18:43:30.808Z"
      },
      {
        "duration": 15,
        "start_time": "2023-04-03T18:43:31.456Z"
      },
      {
        "duration": 108,
        "start_time": "2023-04-03T18:43:31.473Z"
      },
      {
        "duration": 62,
        "start_time": "2023-04-03T18:43:31.583Z"
      },
      {
        "duration": 485,
        "start_time": "2023-04-03T18:43:31.647Z"
      },
      {
        "duration": 22,
        "start_time": "2023-04-03T18:43:32.134Z"
      },
      {
        "duration": 185,
        "start_time": "2023-04-03T18:43:32.157Z"
      },
      {
        "duration": 120,
        "start_time": "2023-04-03T18:43:32.346Z"
      },
      {
        "duration": 185,
        "start_time": "2023-04-03T18:43:32.468Z"
      },
      {
        "duration": 84,
        "start_time": "2023-04-03T18:43:32.657Z"
      },
      {
        "duration": 97,
        "start_time": "2023-04-03T18:43:32.745Z"
      },
      {
        "duration": 7,
        "start_time": "2023-04-03T18:43:32.845Z"
      },
      {
        "duration": 131,
        "start_time": "2023-04-03T18:43:32.854Z"
      },
      {
        "duration": 53,
        "start_time": "2023-04-03T18:43:32.987Z"
      },
      {
        "duration": 68,
        "start_time": "2023-04-03T18:43:33.042Z"
      },
      {
        "duration": 44,
        "start_time": "2023-04-03T18:43:33.112Z"
      },
      {
        "duration": 22,
        "start_time": "2023-04-03T18:43:33.158Z"
      },
      {
        "duration": 6,
        "start_time": "2023-04-03T18:43:33.182Z"
      },
      {
        "duration": 1181,
        "start_time": "2023-04-03T18:43:33.190Z"
      },
      {
        "duration": 1154,
        "start_time": "2023-04-03T18:43:34.373Z"
      },
      {
        "duration": 1343,
        "start_time": "2023-04-03T18:43:35.528Z"
      },
      {
        "duration": 4,
        "start_time": "2023-04-03T18:45:52.543Z"
      },
      {
        "duration": 8,
        "start_time": "2023-04-03T18:45:53.551Z"
      },
      {
        "duration": 8,
        "start_time": "2023-04-03T18:45:53.624Z"
      },
      {
        "duration": 9,
        "start_time": "2023-04-03T18:45:53.707Z"
      },
      {
        "duration": 5,
        "start_time": "2023-04-03T18:45:54.053Z"
      },
      {
        "duration": 1250,
        "start_time": "2023-04-03T18:45:54.124Z"
      },
      {
        "duration": 1336,
        "start_time": "2023-04-03T18:45:55.375Z"
      },
      {
        "duration": 1306,
        "start_time": "2023-04-03T18:45:56.713Z"
      },
      {
        "duration": 3447,
        "start_time": "2023-04-03T18:46:29.191Z"
      },
      {
        "duration": 176,
        "start_time": "2023-04-03T18:46:32.641Z"
      },
      {
        "duration": 28,
        "start_time": "2023-04-03T18:46:32.819Z"
      },
      {
        "duration": 61,
        "start_time": "2023-04-03T18:46:32.849Z"
      },
      {
        "duration": 5,
        "start_time": "2023-04-03T18:46:32.912Z"
      },
      {
        "duration": 826,
        "start_time": "2023-04-03T18:46:32.918Z"
      },
      {
        "duration": 19,
        "start_time": "2023-04-03T18:46:33.745Z"
      },
      {
        "duration": 150,
        "start_time": "2023-04-03T18:46:33.766Z"
      },
      {
        "duration": 24,
        "start_time": "2023-04-03T18:46:33.918Z"
      },
      {
        "duration": 78,
        "start_time": "2023-04-03T18:46:33.944Z"
      },
      {
        "duration": 5,
        "start_time": "2023-04-03T18:46:34.024Z"
      },
      {
        "duration": 524,
        "start_time": "2023-04-03T18:46:34.031Z"
      },
      {
        "duration": 18,
        "start_time": "2023-04-03T18:46:34.557Z"
      },
      {
        "duration": 5,
        "start_time": "2023-04-03T18:46:34.578Z"
      },
      {
        "duration": 146,
        "start_time": "2023-04-03T18:46:34.584Z"
      },
      {
        "duration": 18,
        "start_time": "2023-04-03T18:46:34.732Z"
      },
      {
        "duration": 61,
        "start_time": "2023-04-03T18:46:34.752Z"
      },
      {
        "duration": 6,
        "start_time": "2023-04-03T18:46:34.815Z"
      },
      {
        "duration": 717,
        "start_time": "2023-04-03T18:46:34.824Z"
      },
      {
        "duration": 18,
        "start_time": "2023-04-03T18:46:35.543Z"
      },
      {
        "duration": 82,
        "start_time": "2023-04-03T18:46:35.563Z"
      },
      {
        "duration": 108,
        "start_time": "2023-04-03T18:46:35.740Z"
      },
      {
        "duration": 139,
        "start_time": "2023-04-03T18:46:35.850Z"
      },
      {
        "duration": 153,
        "start_time": "2023-04-03T18:46:35.992Z"
      },
      {
        "duration": 43,
        "start_time": "2023-04-03T18:46:36.146Z"
      },
      {
        "duration": 22,
        "start_time": "2023-04-03T18:46:36.191Z"
      },
      {
        "duration": 45,
        "start_time": "2023-04-03T18:46:36.215Z"
      },
      {
        "duration": 4,
        "start_time": "2023-04-03T18:46:36.262Z"
      },
      {
        "duration": 33,
        "start_time": "2023-04-03T18:46:36.267Z"
      },
      {
        "duration": 25,
        "start_time": "2023-04-03T18:46:36.302Z"
      },
      {
        "duration": 41,
        "start_time": "2023-04-03T18:46:36.329Z"
      },
      {
        "duration": 36,
        "start_time": "2023-04-03T18:46:36.372Z"
      },
      {
        "duration": 1338,
        "start_time": "2023-04-03T18:46:36.410Z"
      },
      {
        "duration": 1284,
        "start_time": "2023-04-03T18:46:37.750Z"
      },
      {
        "duration": 1182,
        "start_time": "2023-04-03T18:46:39.036Z"
      },
      {
        "duration": 1239,
        "start_time": "2023-04-04T11:46:00.458Z"
      },
      {
        "duration": 572,
        "start_time": "2023-04-04T11:46:01.699Z"
      },
      {
        "duration": 16,
        "start_time": "2023-04-04T11:46:02.273Z"
      },
      {
        "duration": 74,
        "start_time": "2023-04-04T11:46:02.292Z"
      },
      {
        "duration": 4,
        "start_time": "2023-04-04T11:46:02.368Z"
      },
      {
        "duration": 1194,
        "start_time": "2023-04-04T11:46:02.374Z"
      },
      {
        "duration": 16,
        "start_time": "2023-04-04T11:46:03.570Z"
      },
      {
        "duration": 709,
        "start_time": "2023-04-04T11:46:03.588Z"
      },
      {
        "duration": 27,
        "start_time": "2023-04-04T11:46:04.299Z"
      },
      {
        "duration": 84,
        "start_time": "2023-04-04T11:46:04.332Z"
      },
      {
        "duration": 24,
        "start_time": "2023-04-04T11:46:04.417Z"
      },
      {
        "duration": 786,
        "start_time": "2023-04-04T11:46:04.444Z"
      },
      {
        "duration": 21,
        "start_time": "2023-04-04T11:46:05.239Z"
      },
      {
        "duration": 766,
        "start_time": "2023-04-04T11:46:05.268Z"
      },
      {
        "duration": 25,
        "start_time": "2023-04-04T11:46:06.036Z"
      },
      {
        "duration": 87,
        "start_time": "2023-04-04T11:46:06.063Z"
      },
      {
        "duration": 8,
        "start_time": "2023-04-04T11:46:06.154Z"
      },
      {
        "duration": 634,
        "start_time": "2023-04-04T11:46:06.164Z"
      },
      {
        "duration": 54,
        "start_time": "2023-04-04T11:46:06.800Z"
      },
      {
        "duration": 97,
        "start_time": "2023-04-04T11:46:06.860Z"
      },
      {
        "duration": 190,
        "start_time": "2023-04-04T11:46:06.964Z"
      },
      {
        "duration": 201,
        "start_time": "2023-04-04T11:46:07.155Z"
      },
      {
        "duration": 67,
        "start_time": "2023-04-04T11:46:07.360Z"
      },
      {
        "duration": 113,
        "start_time": "2023-04-04T11:46:07.442Z"
      },
      {
        "duration": 30,
        "start_time": "2023-04-04T11:46:07.556Z"
      },
      {
        "duration": 67,
        "start_time": "2023-04-04T11:46:07.588Z"
      },
      {
        "duration": 20,
        "start_time": "2023-04-04T11:46:07.659Z"
      },
      {
        "duration": 22,
        "start_time": "2023-04-04T11:46:07.683Z"
      },
      {
        "duration": 20,
        "start_time": "2023-04-04T11:46:07.708Z"
      },
      {
        "duration": 42,
        "start_time": "2023-04-04T11:46:07.739Z"
      },
      {
        "duration": 28,
        "start_time": "2023-04-04T11:46:07.783Z"
      },
      {
        "duration": 1817,
        "start_time": "2023-04-04T11:46:07.813Z"
      },
      {
        "duration": 1679,
        "start_time": "2023-04-04T11:46:09.632Z"
      },
      {
        "duration": 1812,
        "start_time": "2023-04-04T11:46:11.313Z"
      }
    ],
    "kernelspec": {
      "display_name": "Python 3 (ipykernel)",
      "language": "python",
      "name": "python3"
    },
    "language_info": {
      "codemirror_mode": {
        "name": "ipython",
        "version": 3
      },
      "file_extension": ".py",
      "mimetype": "text/x-python",
      "name": "python",
      "nbconvert_exporter": "python",
      "pygments_lexer": "ipython3",
      "version": "3.9.5"
    },
    "toc": {
      "base_numbering": 1,
      "nav_menu": {},
      "number_sections": true,
      "sideBar": true,
      "skip_h1_title": true,
      "title_cell": "Table of Contents",
      "title_sidebar": "Contents",
      "toc_cell": false,
      "toc_position": {},
      "toc_section_display": true,
      "toc_window_display": false
    },
    "colab": {
      "provenance": []
    }
  },
  "nbformat": 4,
  "nbformat_minor": 0
}