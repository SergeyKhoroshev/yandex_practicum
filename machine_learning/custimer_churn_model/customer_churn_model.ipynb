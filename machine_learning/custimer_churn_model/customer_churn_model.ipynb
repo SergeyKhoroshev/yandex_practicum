{
  "cells": [
    {
      "cell_type": "markdown",
      "metadata": {
        "id": "ZX8r-Ei7kteN"
      },
      "source": [
        "# Отток клиентов"
      ]
    },
    {
      "cell_type": "markdown",
      "metadata": {
        "id": "rALEX1uRkteO"
      },
      "source": [
        "Предоставлены исторические данные о поведении клиентов и расторжении договоров с банком. \n",
        "\n",
        "Цель: спрогнозировать, уйдёт клиент из банка в ближайшее время или нет.  Для этого необходимо построить модель с предельно большим значением *F1*-меры. Нужно довести метрику до 0.59 на тестовой выборке.\n",
        "\n",
        "В данном проекте мы решаем задачу классификации с помощью машинного обучения с учителем\n",
        "\n",
        "\n",
        "\n",
        "Источник данных: [https://www.kaggle.com/barelydedicated/bank-customer-churn-modeling](https://www.kaggle.com/barelydedicated/bank-customer-churn-modeling)"
      ]
    },
    {
      "cell_type": "markdown",
      "metadata": {
        "toc": true,
        "id": "lo1fgd9VkteO"
      },
      "source": [
        "## Содержание\n",
        "\n",
        "1  Подготовка данных\n",
        "\n",
        "  - 1.1 Изучение и предобработка данных\n",
        "\n",
        "  - 1.2 Кодирование, разделение на выборки данных\n",
        "\n",
        "  - 1.3 Масштабирование признаков\n",
        "\n",
        "2  Исследование задачи\n",
        "\n",
        "3  Борьба с дисбалансом\n",
        "\n",
        "  - 3.1  С помощью взвешивания классов\n",
        "\n",
        "  - 3.2  С помощью увеличения выборки\n",
        "\n",
        "  - 3.3  С помощью уменьшения выборки\n",
        "\n",
        "4  Тестирование модели"
      ]
    },
    {
      "cell_type": "markdown",
      "metadata": {
        "id": "zDGFH5bikteP"
      },
      "source": [
        "## Подготовка данных"
      ]
    },
    {
      "cell_type": "markdown",
      "metadata": {
        "id": "tY-T4jsFkteP"
      },
      "source": [
        "### Изучение и предобработка данных"
      ]
    },
    {
      "cell_type": "markdown",
      "metadata": {
        "id": "yermxETMkteP"
      },
      "source": [
        "Импортируем необходимые библиотеки и читаем данные из файла"
      ]
    },
    {
      "cell_type": "code",
      "execution_count": null,
      "metadata": {
        "id": "CnLJtMZRkteP",
        "outputId": "d71914eb-c0b1-4c2f-9e5e-31c2d2aec251"
      },
      "outputs": [
        {
          "name": "stdout",
          "output_type": "stream",
          "text": [
            "Requirement already satisfied: scikit-learn==1.1.3 in /opt/conda/lib/python3.9/site-packages (1.1.3)\n",
            "Requirement already satisfied: joblib>=1.0.0 in /opt/conda/lib/python3.9/site-packages (from scikit-learn==1.1.3) (1.1.0)\n",
            "Requirement already satisfied: threadpoolctl>=2.0.0 in /opt/conda/lib/python3.9/site-packages (from scikit-learn==1.1.3) (3.1.0)\n",
            "Requirement already satisfied: scipy>=1.3.2 in /opt/conda/lib/python3.9/site-packages (from scikit-learn==1.1.3) (1.9.1)\n",
            "Requirement already satisfied: numpy>=1.17.3 in /opt/conda/lib/python3.9/site-packages (from scikit-learn==1.1.3) (1.21.1)\n"
          ]
        }
      ],
      "source": [
        "!pip install scikit-learn==1.1.3"
      ]
    },
    {
      "cell_type": "code",
      "execution_count": null,
      "metadata": {
        "id": "30znNKLykteQ"
      },
      "outputs": [],
      "source": [
        "import pandas as pd\n",
        "from sklearn.preprocessing import StandardScaler, OneHotEncoder\n",
        "from sklearn.model_selection import train_test_split\n",
        "from sklearn.ensemble import RandomForestClassifier\n",
        "from sklearn.tree import DecisionTreeClassifier\n",
        "from sklearn.linear_model import LogisticRegression\n",
        "from sklearn.metrics import f1_score, roc_auc_score, recall_score\n",
        "from sklearn.utils import shuffle\n",
        "from sklearn.dummy import DummyClassifier"
      ]
    },
    {
      "cell_type": "code",
      "execution_count": null,
      "metadata": {
        "id": "niTWGfO1kteR"
      },
      "outputs": [],
      "source": [
        "data = pd.read_csv('/datasets/Churn.csv')"
      ]
    },
    {
      "cell_type": "markdown",
      "metadata": {
        "id": "Sx4e2X60kteR"
      },
      "source": [
        "Изучаем датасет"
      ]
    },
    {
      "cell_type": "code",
      "execution_count": null,
      "metadata": {
        "id": "M8_yk2HkkteR",
        "outputId": "8d26e386-adb8-40d6-cef9-8351ea10ed27"
      },
      "outputs": [
        {
          "data": {
            "text/html": [
              "<div>\n",
              "<style scoped>\n",
              "    .dataframe tbody tr th:only-of-type {\n",
              "        vertical-align: middle;\n",
              "    }\n",
              "\n",
              "    .dataframe tbody tr th {\n",
              "        vertical-align: top;\n",
              "    }\n",
              "\n",
              "    .dataframe thead th {\n",
              "        text-align: right;\n",
              "    }\n",
              "</style>\n",
              "<table border=\"1\" class=\"dataframe\">\n",
              "  <thead>\n",
              "    <tr style=\"text-align: right;\">\n",
              "      <th></th>\n",
              "      <th>RowNumber</th>\n",
              "      <th>CustomerId</th>\n",
              "      <th>Surname</th>\n",
              "      <th>CreditScore</th>\n",
              "      <th>Geography</th>\n",
              "      <th>Gender</th>\n",
              "      <th>Age</th>\n",
              "      <th>Tenure</th>\n",
              "      <th>Balance</th>\n",
              "      <th>NumOfProducts</th>\n",
              "      <th>HasCrCard</th>\n",
              "      <th>IsActiveMember</th>\n",
              "      <th>EstimatedSalary</th>\n",
              "      <th>Exited</th>\n",
              "    </tr>\n",
              "  </thead>\n",
              "  <tbody>\n",
              "    <tr>\n",
              "      <th>0</th>\n",
              "      <td>1</td>\n",
              "      <td>15634602</td>\n",
              "      <td>Hargrave</td>\n",
              "      <td>619</td>\n",
              "      <td>France</td>\n",
              "      <td>Female</td>\n",
              "      <td>42</td>\n",
              "      <td>2.0</td>\n",
              "      <td>0.00</td>\n",
              "      <td>1</td>\n",
              "      <td>1</td>\n",
              "      <td>1</td>\n",
              "      <td>101348.88</td>\n",
              "      <td>1</td>\n",
              "    </tr>\n",
              "    <tr>\n",
              "      <th>1</th>\n",
              "      <td>2</td>\n",
              "      <td>15647311</td>\n",
              "      <td>Hill</td>\n",
              "      <td>608</td>\n",
              "      <td>Spain</td>\n",
              "      <td>Female</td>\n",
              "      <td>41</td>\n",
              "      <td>1.0</td>\n",
              "      <td>83807.86</td>\n",
              "      <td>1</td>\n",
              "      <td>0</td>\n",
              "      <td>1</td>\n",
              "      <td>112542.58</td>\n",
              "      <td>0</td>\n",
              "    </tr>\n",
              "    <tr>\n",
              "      <th>2</th>\n",
              "      <td>3</td>\n",
              "      <td>15619304</td>\n",
              "      <td>Onio</td>\n",
              "      <td>502</td>\n",
              "      <td>France</td>\n",
              "      <td>Female</td>\n",
              "      <td>42</td>\n",
              "      <td>8.0</td>\n",
              "      <td>159660.80</td>\n",
              "      <td>3</td>\n",
              "      <td>1</td>\n",
              "      <td>0</td>\n",
              "      <td>113931.57</td>\n",
              "      <td>1</td>\n",
              "    </tr>\n",
              "    <tr>\n",
              "      <th>3</th>\n",
              "      <td>4</td>\n",
              "      <td>15701354</td>\n",
              "      <td>Boni</td>\n",
              "      <td>699</td>\n",
              "      <td>France</td>\n",
              "      <td>Female</td>\n",
              "      <td>39</td>\n",
              "      <td>1.0</td>\n",
              "      <td>0.00</td>\n",
              "      <td>2</td>\n",
              "      <td>0</td>\n",
              "      <td>0</td>\n",
              "      <td>93826.63</td>\n",
              "      <td>0</td>\n",
              "    </tr>\n",
              "    <tr>\n",
              "      <th>4</th>\n",
              "      <td>5</td>\n",
              "      <td>15737888</td>\n",
              "      <td>Mitchell</td>\n",
              "      <td>850</td>\n",
              "      <td>Spain</td>\n",
              "      <td>Female</td>\n",
              "      <td>43</td>\n",
              "      <td>2.0</td>\n",
              "      <td>125510.82</td>\n",
              "      <td>1</td>\n",
              "      <td>1</td>\n",
              "      <td>1</td>\n",
              "      <td>79084.10</td>\n",
              "      <td>0</td>\n",
              "    </tr>\n",
              "  </tbody>\n",
              "</table>\n",
              "</div>"
            ],
            "text/plain": [
              "   RowNumber  CustomerId   Surname  CreditScore Geography  Gender  Age  \\\n",
              "0          1    15634602  Hargrave          619    France  Female   42   \n",
              "1          2    15647311      Hill          608     Spain  Female   41   \n",
              "2          3    15619304      Onio          502    France  Female   42   \n",
              "3          4    15701354      Boni          699    France  Female   39   \n",
              "4          5    15737888  Mitchell          850     Spain  Female   43   \n",
              "\n",
              "   Tenure    Balance  NumOfProducts  HasCrCard  IsActiveMember  \\\n",
              "0     2.0       0.00              1          1               1   \n",
              "1     1.0   83807.86              1          0               1   \n",
              "2     8.0  159660.80              3          1               0   \n",
              "3     1.0       0.00              2          0               0   \n",
              "4     2.0  125510.82              1          1               1   \n",
              "\n",
              "   EstimatedSalary  Exited  \n",
              "0        101348.88       1  \n",
              "1        112542.58       0  \n",
              "2        113931.57       1  \n",
              "3         93826.63       0  \n",
              "4         79084.10       0  "
            ]
          },
          "execution_count": 4,
          "metadata": {},
          "output_type": "execute_result"
        }
      ],
      "source": [
        "data.head()"
      ]
    },
    {
      "cell_type": "markdown",
      "metadata": {
        "id": "P-M0LG8ZkteR"
      },
      "source": [
        "Видим, что необходимо поправить названия колонок, перевести в змеиный регистр"
      ]
    },
    {
      "cell_type": "code",
      "execution_count": null,
      "metadata": {
        "id": "A_K0a7-VkteS"
      },
      "outputs": [],
      "source": [
        "data = data.rename( \n",
        " columns={ \n",
        "     'RowNumber': 'row_number', \n",
        "     'CustomerId': 'customer_id', \n",
        "     'Surname': 'surname',\n",
        "     'CreditScore': 'credit_score',\n",
        "     'Geography': 'geography',\n",
        "     'Gender': 'gender',\n",
        "     'Age': 'age',\n",
        "     'Tenure': 'tenure',\n",
        "     'Balance': 'balance',\n",
        "     'NumOfProducts': 'num_of_products',\n",
        "     'HasCrCard': 'has_cr_card',\n",
        "     'IsActiveMember': 'is_active_member',\n",
        "     'EstimatedSalary': 'estimated_salary',\n",
        "     'Exited': 'exited'\n",
        " } \n",
        ")\n"
      ]
    },
    {
      "cell_type": "markdown",
      "metadata": {
        "id": "v725ed-_kteS"
      },
      "source": [
        "Изучим общую информацию"
      ]
    },
    {
      "cell_type": "code",
      "execution_count": null,
      "metadata": {
        "scrolled": true,
        "id": "Pi9HYIQZkteS",
        "outputId": "003b9d52-17d6-4516-fda4-c15871eabfa8"
      },
      "outputs": [
        {
          "name": "stdout",
          "output_type": "stream",
          "text": [
            "<class 'pandas.core.frame.DataFrame'>\n",
            "RangeIndex: 10000 entries, 0 to 9999\n",
            "Data columns (total 14 columns):\n",
            " #   Column            Non-Null Count  Dtype  \n",
            "---  ------            --------------  -----  \n",
            " 0   row_number        10000 non-null  int64  \n",
            " 1   customer_id       10000 non-null  int64  \n",
            " 2   surname           10000 non-null  object \n",
            " 3   credit_score      10000 non-null  int64  \n",
            " 4   geography         10000 non-null  object \n",
            " 5   gender            10000 non-null  object \n",
            " 6   age               10000 non-null  int64  \n",
            " 7   tenure            9091 non-null   float64\n",
            " 8   balance           10000 non-null  float64\n",
            " 9   num_of_products   10000 non-null  int64  \n",
            " 10  has_cr_card       10000 non-null  int64  \n",
            " 11  is_active_member  10000 non-null  int64  \n",
            " 12  estimated_salary  10000 non-null  float64\n",
            " 13  exited            10000 non-null  int64  \n",
            "dtypes: float64(3), int64(8), object(3)\n",
            "memory usage: 1.1+ MB\n"
          ]
        }
      ],
      "source": [
        "data.info()"
      ]
    },
    {
      "cell_type": "markdown",
      "metadata": {
        "id": "tecLEV6QkteS"
      },
      "source": [
        "Видим, что в одном из столбцов есть пропуски. В этой колонке содержится информация, сколько лет человек является клиентом банка. Рассмотрим её внимательнее"
      ]
    },
    {
      "cell_type": "code",
      "execution_count": null,
      "metadata": {
        "id": "6PQ3iCOLkteS",
        "outputId": "63719c87-a1eb-4d5a-a9f1-7e6743bfb68f"
      },
      "outputs": [
        {
          "data": {
            "text/plain": [
              "count    9091.000000\n",
              "mean        4.997690\n",
              "std         2.894723\n",
              "min         0.000000\n",
              "25%         2.000000\n",
              "50%         5.000000\n",
              "75%         7.000000\n",
              "max        10.000000\n",
              "Name: tenure, dtype: float64"
            ]
          },
          "execution_count": 7,
          "metadata": {},
          "output_type": "execute_result"
        }
      ],
      "source": [
        "data['tenure'].describe()"
      ]
    },
    {
      "cell_type": "markdown",
      "metadata": {
        "id": "fknnLZXSkteT"
      },
      "source": [
        "В колонке практически совпадают среднее и медиана. Чтобы не терять данные для обучения модели, заполним пропуски медианой, как целым числом и проверим ещё раз описание столбца"
      ]
    },
    {
      "cell_type": "code",
      "execution_count": null,
      "metadata": {
        "id": "GyRI-EROkteT",
        "outputId": "b0ef0489-e74d-4ca9-bc61-5d6676f6cd7d"
      },
      "outputs": [
        {
          "data": {
            "text/plain": [
              "count    10000.00000\n",
              "mean         4.99790\n",
              "std          2.76001\n",
              "min          0.00000\n",
              "25%          3.00000\n",
              "50%          5.00000\n",
              "75%          7.00000\n",
              "max         10.00000\n",
              "Name: tenure, dtype: float64"
            ]
          },
          "execution_count": 8,
          "metadata": {},
          "output_type": "execute_result"
        }
      ],
      "source": [
        "data['tenure'] = data['tenure'].fillna(data['tenure'].median())\n",
        "data['tenure'].describe()"
      ]
    },
    {
      "cell_type": "markdown",
      "metadata": {
        "id": "UIWM8wJEkteT"
      },
      "source": [
        "Удалим столбцы с малоинформативными признаками, которые будут только мешать модели прогнозировать верно"
      ]
    },
    {
      "cell_type": "code",
      "execution_count": null,
      "metadata": {
        "scrolled": true,
        "id": "OUSg8xc4kteT",
        "outputId": "e90e91c2-753d-4aa5-edb2-32a4e657f3bb"
      },
      "outputs": [
        {
          "name": "stdout",
          "output_type": "stream",
          "text": [
            "<class 'pandas.core.frame.DataFrame'>\n",
            "RangeIndex: 10000 entries, 0 to 9999\n",
            "Data columns (total 11 columns):\n",
            " #   Column            Non-Null Count  Dtype  \n",
            "---  ------            --------------  -----  \n",
            " 0   credit_score      10000 non-null  int64  \n",
            " 1   geography         10000 non-null  object \n",
            " 2   gender            10000 non-null  object \n",
            " 3   age               10000 non-null  int64  \n",
            " 4   tenure            10000 non-null  float64\n",
            " 5   balance           10000 non-null  float64\n",
            " 6   num_of_products   10000 non-null  int64  \n",
            " 7   has_cr_card       10000 non-null  int64  \n",
            " 8   is_active_member  10000 non-null  int64  \n",
            " 9   estimated_salary  10000 non-null  float64\n",
            " 10  exited            10000 non-null  int64  \n",
            "dtypes: float64(3), int64(6), object(2)\n",
            "memory usage: 859.5+ KB\n"
          ]
        }
      ],
      "source": [
        "data = data.drop(columns=['row_number', 'customer_id', 'surname'])\n",
        "data.info()"
      ]
    },
    {
      "cell_type": "markdown",
      "metadata": {
        "id": "ixtKHSDekteT"
      },
      "source": [
        "### Кодирование, разделение на выборки данных "
      ]
    },
    {
      "cell_type": "markdown",
      "metadata": {
        "id": "0BJZLqfYkteT"
      },
      "source": [
        "Разделим наш датасет на признаки и целевой признак. Далее из них сделаем 3 выборки: для обучения модели, валидационную и тестовую. Отделим сначала 25% для валидационной выборки, а затем от оставшихся 75% обучающей отделим ещё 33% для теста, чтобы валидационная и тестовая выборки были примерно одинаковыми"
      ]
    },
    {
      "cell_type": "code",
      "execution_count": null,
      "metadata": {
        "id": "1gVJU8dHkteU"
      },
      "outputs": [],
      "source": [
        "features = data.drop(columns=['exited'], axis=1)\n",
        "target = data['exited']\n",
        "\n",
        "features_train, features_valid, target_train, target_valid = train_test_split(\n",
        "    features, target, test_size=0.25, random_state=12345, stratify=target)\n",
        "features_train, features_test, target_train, target_test = train_test_split(\n",
        "    features_train, target_train, test_size=0.33, random_state=12345, stratify=target_train)"
      ]
    },
    {
      "cell_type": "markdown",
      "metadata": {
        "id": "H4yNsbudkteU"
      },
      "source": [
        "Оценим соотношение выборок"
      ]
    },
    {
      "cell_type": "code",
      "execution_count": null,
      "metadata": {
        "id": "j8k-wLAykteU",
        "outputId": "f944abb0-aa71-469b-cdca-7784423d2e51"
      },
      "outputs": [
        {
          "data": {
            "text/plain": [
              "5025"
            ]
          },
          "execution_count": 11,
          "metadata": {},
          "output_type": "execute_result"
        }
      ],
      "source": [
        "features_train.shape[0]"
      ]
    },
    {
      "cell_type": "code",
      "execution_count": null,
      "metadata": {
        "id": "yPR7obSEkteU",
        "outputId": "bbdd35b4-b2fc-48c3-f4cc-2599acf5a46d"
      },
      "outputs": [
        {
          "data": {
            "text/plain": [
              "2500"
            ]
          },
          "execution_count": 12,
          "metadata": {},
          "output_type": "execute_result"
        }
      ],
      "source": [
        "features_valid.shape[0]"
      ]
    },
    {
      "cell_type": "code",
      "execution_count": null,
      "metadata": {
        "id": "4I0OIJuLkteU",
        "outputId": "11ee96a0-b632-47ce-b8d4-7da36d28a0da"
      },
      "outputs": [
        {
          "data": {
            "text/plain": [
              "2475"
            ]
          },
          "execution_count": 13,
          "metadata": {},
          "output_type": "execute_result"
        }
      ],
      "source": [
        "features_test.shape[0]"
      ]
    },
    {
      "cell_type": "markdown",
      "metadata": {
        "id": "wL-DPnhtkteU"
      },
      "source": [
        "Выделим категориальные признаки и закодируем в численные с помощью техники прямого кодирования, избегая дамми-ловушки"
      ]
    },
    {
      "cell_type": "code",
      "execution_count": null,
      "metadata": {
        "scrolled": true,
        "id": "e1_vZCXdkteU"
      },
      "outputs": [],
      "source": [
        "ohe_features = features_train.select_dtypes(include='object').columns.to_list()"
      ]
    },
    {
      "cell_type": "code",
      "execution_count": null,
      "metadata": {
        "id": "O7qQdQoCkteV"
      },
      "outputs": [],
      "source": [
        "encoder_ohe = OneHotEncoder(drop='first', handle_unknown='ignore', sparse=False)"
      ]
    },
    {
      "cell_type": "code",
      "execution_count": null,
      "metadata": {
        "id": "tUcPUXUAkteV"
      },
      "outputs": [],
      "source": [
        "encoder_ohe.fit(features_train[ohe_features])\n",
        "\n",
        "features_train[\n",
        "    encoder_ohe.get_feature_names_out()\n",
        "] = encoder_ohe.transform(features_train[ohe_features])\n",
        "\n",
        "features_train = features_train.drop(ohe_features, axis=1)\n",
        "\n",
        "features_valid[\n",
        "    encoder_ohe.get_feature_names_out()\n",
        "] = encoder_ohe.transform(features_valid[ohe_features])\n",
        "\n",
        "features_valid = features_valid.drop(ohe_features, axis=1)\n",
        "\n",
        "features_test[\n",
        "    encoder_ohe.get_feature_names_out()\n",
        "] = encoder_ohe.transform(features_test[ohe_features])\n",
        "\n",
        "features_test = features_test.drop(ohe_features, axis=1)"
      ]
    },
    {
      "cell_type": "markdown",
      "metadata": {
        "id": "MSjJ1NNBkteW"
      },
      "source": [
        "### Масштабирование признаков"
      ]
    },
    {
      "cell_type": "markdown",
      "metadata": {
        "id": "RQK29GnZkteW"
      },
      "source": [
        "Также видим, что в нашем датасете есть численные признаки, которые необходимо масштабировать, чтобы модель не давала предпочтения тем или иным"
      ]
    },
    {
      "cell_type": "code",
      "execution_count": null,
      "metadata": {
        "id": "Flk9EOrGkteW"
      },
      "outputs": [],
      "source": [
        "numeric = ['credit_score', 'age', 'tenure', 'balance', 'num_of_products', 'estimated_salary']\n",
        "\n",
        "pd.options.mode.chained_assignment = None\n",
        "\n",
        "scaler = StandardScaler()\n",
        "scaler.fit(features_train[numeric])\n",
        "features_train[numeric] = scaler.transform(features_train[numeric])\n",
        "features_valid[numeric] = scaler.transform(features_valid[numeric])\n",
        "features_test[numeric] = scaler.transform(features_test[numeric])"
      ]
    },
    {
      "cell_type": "markdown",
      "metadata": {
        "id": "g2-l_D7ykteW"
      },
      "source": [
        "После подготовки данных мы можем приступить к обучению моделей, изучив перед этим соотношение классов в целевом признаке"
      ]
    },
    {
      "cell_type": "markdown",
      "metadata": {
        "id": "cLTdsM2ZkteW"
      },
      "source": [
        "## Исследование задачи"
      ]
    },
    {
      "cell_type": "markdown",
      "metadata": {
        "id": "SPAxVOPpkteW"
      },
      "source": [
        "Исследуем, присутствует ли в нашем датасете дисбаланс классов"
      ]
    },
    {
      "cell_type": "code",
      "execution_count": null,
      "metadata": {
        "id": "GeICJnOPkteW",
        "outputId": "699938e9-5a51-40c0-db69-2c6a6f55c96b"
      },
      "outputs": [
        {
          "data": {
            "text/plain": [
              "0    7963\n",
              "1    2037\n",
              "Name: exited, dtype: int64"
            ]
          },
          "execution_count": 18,
          "metadata": {},
          "output_type": "execute_result"
        }
      ],
      "source": [
        "data['exited'].value_counts()"
      ]
    },
    {
      "cell_type": "markdown",
      "metadata": {
        "id": "587uPUDEkteX"
      },
      "source": [
        "Соотношение классов 4:1. Это можно исправить несколькими методами, но пока попробуем построить модели без учёта дисбаланса. Начнём с решающего дерева"
      ]
    },
    {
      "cell_type": "code",
      "execution_count": null,
      "metadata": {
        "scrolled": true,
        "id": "u13XVOFEkteX",
        "outputId": "16b33851-4c4f-4954-ebad-4e90717e13e1"
      },
      "outputs": [
        {
          "name": "stdout",
          "output_type": "stream",
          "text": [
            "Лучший показатель F1-меры: 0.565483476132191 Лучшая глубина дерева: 6\n"
          ]
        }
      ],
      "source": [
        "best_model = None\n",
        "best_depth = 0\n",
        "best_f1 = 0\n",
        "\n",
        "for depth in range(1, 16):\n",
        "    model = DecisionTreeClassifier(random_state=12345, max_depth=depth)\n",
        "    model.fit(features_train, target_train)\n",
        "    predictions = model.predict(features_valid)\n",
        "    f1 = f1_score(target_valid, predictions)\n",
        "    if f1 > best_f1:\n",
        "        best_f1 = f1\n",
        "        best_depth = depth\n",
        "        best_model = model\n",
        "print('Лучший показатель F1-меры:', best_f1, 'Лучшая глубина дерева:', best_depth)      "
      ]
    },
    {
      "cell_type": "code",
      "execution_count": null,
      "metadata": {
        "id": "zWisWdrKkteX",
        "outputId": "798286ec-37b8-4333-c18c-8a9da754e7aa"
      },
      "outputs": [
        {
          "name": "stdout",
          "output_type": "stream",
          "text": [
            "AUC-ROC: 0.8208949111867845\n"
          ]
        }
      ],
      "source": [
        "model = DecisionTreeClassifier(random_state=12345, max_depth=6)\n",
        "model.fit(features_train, target_train)\n",
        "probabilities_valid = model.predict_proba(features_valid)\n",
        "probabilities_one_valid = probabilities_valid[:, 1]\n",
        "auc_roc = roc_auc_score(target_valid, probabilities_one_valid)\n",
        "print('AUC-ROC:', auc_roc)   "
      ]
    },
    {
      "cell_type": "code",
      "execution_count": null,
      "metadata": {
        "id": "PW9I2IY9kteX",
        "outputId": "badb209e-2129-41e2-899a-f64e1aff5c9e"
      },
      "outputs": [
        {
          "name": "stdout",
          "output_type": "stream",
          "text": [
            "Лучший показатель F1-меры: 0.5855421686746988 Лучшая глубина дерева: 14 Количество деревьев: 50\n"
          ]
        }
      ],
      "source": [
        "best_model = None\n",
        "best_depth = 0\n",
        "best_f1 = 0\n",
        "best_est = 0\n",
        "\n",
        "for est in range(10, 101, 10):\n",
        "    for depth in range(1, 16):\n",
        "        model = RandomForestClassifier(random_state=12345, max_depth=depth, n_estimators=est)\n",
        "        model.fit(features_train, target_train)\n",
        "        predictions = model.predict(features_valid)\n",
        "        f1 = f1_score(target_valid, predictions)\n",
        "        if f1 > best_f1:\n",
        "            best_f1 = f1\n",
        "            best_depth = depth\n",
        "            best_model = model\n",
        "            best_est = est\n",
        "print('Лучший показатель F1-меры:', best_f1, 'Лучшая глубина дерева:', best_depth, 'Количество деревьев:', best_est)"
      ]
    },
    {
      "cell_type": "code",
      "execution_count": null,
      "metadata": {
        "id": "mFacmakTkteY",
        "outputId": "75a9be8e-62df-4e60-b7e9-6fdc55030de2"
      },
      "outputs": [
        {
          "name": "stdout",
          "output_type": "stream",
          "text": [
            "AUC-ROC: 0.8515653446402722\n"
          ]
        }
      ],
      "source": [
        "model = RandomForestClassifier(random_state=12345, max_depth=14, n_estimators=50)\n",
        "model.fit(features_train, target_train)\n",
        "probabilities_valid = model.predict_proba(features_valid)\n",
        "probabilities_one_valid = probabilities_valid[:, 1]\n",
        "auc_roc = roc_auc_score(target_valid, probabilities_one_valid)\n",
        "print('AUC-ROC:', auc_roc) "
      ]
    },
    {
      "cell_type": "code",
      "execution_count": null,
      "metadata": {
        "id": "ZdAW9WkIkteY",
        "outputId": "8f3d8b89-9f29-49b4-b4c7-24bd0d99b563"
      },
      "outputs": [
        {
          "name": "stdout",
          "output_type": "stream",
          "text": [
            "F1-мера: 0.3265895953757226\n",
            "AUC-ROC метрика: 0.7738329358340429\n"
          ]
        }
      ],
      "source": [
        "model = LogisticRegression(random_state=12345, solver='liblinear')\n",
        "model.fit(features_train, target_train)\n",
        "predictions = model.predict(features_valid)\n",
        "f1 = f1_score(target_valid, predictions)\n",
        "print('F1-мера:', f1)\n",
        "\n",
        "probabilities_valid = model.predict_proba(features_valid)\n",
        "probabilities_one_valid = probabilities_valid[:, 1]\n",
        "auc_roc = roc_auc_score(target_valid, probabilities_one_valid)\n",
        "print('AUC-ROC метрика:', auc_roc)"
      ]
    },
    {
      "cell_type": "markdown",
      "metadata": {
        "id": "N5XC7JLbkteY"
      },
      "source": [
        "Лучшие показатели продемонстрировала модель случайного леса, в которой F1-мера перешагнула необходимый порог. Однако, мы можем улучшить результаты, сбалансировав классы целевого признака"
      ]
    },
    {
      "cell_type": "markdown",
      "metadata": {
        "id": "HX0a71vjkteY"
      },
      "source": [
        "## Борьба с дисбалансом"
      ]
    },
    {
      "cell_type": "markdown",
      "metadata": {
        "id": "TWh_dsg-kteY"
      },
      "source": [
        "### С помощью взвешивания классов"
      ]
    },
    {
      "cell_type": "markdown",
      "metadata": {
        "id": "RsKEKT5QkteY"
      },
      "source": [
        "Попробуем устранить дисбаланс с помощью взвешивания классов и посмотрим, как это отразится на результатах моделей"
      ]
    },
    {
      "cell_type": "code",
      "execution_count": null,
      "metadata": {
        "id": "AkLThPIrkteY",
        "outputId": "8de80653-a4de-4698-fcf1-329a6d13a957"
      },
      "outputs": [
        {
          "name": "stdout",
          "output_type": "stream",
          "text": [
            "Лучший показатель F1-меры: 0.5836403831982314 Лучшая глубина дерева: 6\n"
          ]
        }
      ],
      "source": [
        "best_model = None\n",
        "best_depth = 0\n",
        "best_f1 = 0\n",
        "\n",
        "for depth in range(1, 16):\n",
        "    model = DecisionTreeClassifier(class_weight='balanced', random_state=12345, max_depth=depth)\n",
        "    model.fit(features_train, target_train)\n",
        "    predictions = model.predict(features_valid)\n",
        "    f1 = f1_score(target_valid, predictions)\n",
        "    if f1 > best_f1:\n",
        "        best_f1 = f1\n",
        "        best_depth = depth\n",
        "        best_model = model\n",
        "print('Лучший показатель F1-меры:', best_f1, 'Лучшая глубина дерева:', best_depth)"
      ]
    },
    {
      "cell_type": "code",
      "execution_count": null,
      "metadata": {
        "id": "Cgza_3EnkteZ",
        "outputId": "4f965799-a228-40aa-d4be-e2799477d35b"
      },
      "outputs": [
        {
          "name": "stdout",
          "output_type": "stream",
          "text": [
            "AUC-ROC: 0.8448953493076409\n"
          ]
        }
      ],
      "source": [
        "model = DecisionTreeClassifier(class_weight='balanced', random_state=12345, max_depth=6)\n",
        "model.fit(features_train, target_train)\n",
        "probabilities_valid = model.predict_proba(features_valid)\n",
        "probabilities_one_valid = probabilities_valid[:, 1]\n",
        "auc_roc = roc_auc_score(target_valid, probabilities_one_valid)\n",
        "print('AUC-ROC:', auc_roc) "
      ]
    },
    {
      "cell_type": "code",
      "execution_count": null,
      "metadata": {
        "id": "3tMJ__8nkteZ",
        "outputId": "1a3de9f6-dcea-4950-d74a-0fee1653ef6f"
      },
      "outputs": [
        {
          "name": "stdout",
          "output_type": "stream",
          "text": [
            "Лучший показатель F1-меры: 0.6367795059469351 Лучшая глубина дерева: 8 Количество деревьев: 90\n"
          ]
        }
      ],
      "source": [
        "best_model = None\n",
        "best_depth = 0\n",
        "best_f1 = 0\n",
        "best_est = 0\n",
        "\n",
        "for est in range(10, 101, 10):\n",
        "    for depth in range(1, 16):\n",
        "        model = RandomForestClassifier(class_weight='balanced', random_state=12345, max_depth=depth, n_estimators=est)\n",
        "        model.fit(features_train, target_train)\n",
        "        predictions = model.predict(features_valid)\n",
        "        f1 = f1_score(target_valid, predictions)\n",
        "        if f1 > best_f1:\n",
        "            best_f1 = f1\n",
        "            best_depth = depth\n",
        "            best_model = model\n",
        "            best_est = est\n",
        "print('Лучший показатель F1-меры:', best_f1, 'Лучшая глубина дерева:', best_depth, 'Количество деревьев:', best_est) "
      ]
    },
    {
      "cell_type": "code",
      "execution_count": null,
      "metadata": {
        "id": "xMMvhIHEkteZ",
        "outputId": "50d004df-323f-4317-bd53-1e709af31ca9"
      },
      "outputs": [
        {
          "name": "stdout",
          "output_type": "stream",
          "text": [
            "AUC-ROC: 0.8665675303107598\n"
          ]
        }
      ],
      "source": [
        "model = RandomForestClassifier(class_weight='balanced', random_state=12345, max_depth=8, n_estimators=90)\n",
        "model.fit(features_train, target_train)\n",
        "probabilities_valid = model.predict_proba(features_valid)\n",
        "probabilities_one_valid = probabilities_valid[:, 1]\n",
        "auc_roc = roc_auc_score(target_valid, probabilities_one_valid)\n",
        "print('AUC-ROC:', auc_roc) "
      ]
    },
    {
      "cell_type": "code",
      "execution_count": null,
      "metadata": {
        "scrolled": true,
        "id": "h4z0hF2ykteZ",
        "outputId": "2482949c-090f-4f28-9a91-a4d0eb50dbe8"
      },
      "outputs": [
        {
          "name": "stdout",
          "output_type": "stream",
          "text": [
            "F1-мера: 0.5020576131687242\n",
            "AUC-ROC метрика: 0.7793114200542914\n"
          ]
        }
      ],
      "source": [
        "model = LogisticRegression(class_weight='balanced', random_state=12345, solver='liblinear')\n",
        "model.fit(features_train, target_train)\n",
        "predictions = model.predict(features_valid)\n",
        "f1 = f1_score(target_valid, predictions)\n",
        "print('F1-мера:', f1)\n",
        "\n",
        "probabilities_valid = model.predict_proba(features_valid)\n",
        "probabilities_one_valid = probabilities_valid[:, 1]\n",
        "auc_roc = roc_auc_score(target_valid, probabilities_one_valid)\n",
        "print('AUC-ROC метрика:', auc_roc)"
      ]
    },
    {
      "cell_type": "markdown",
      "metadata": {
        "id": "0faTS6I7kteZ"
      },
      "source": [
        "Хорошие результаты у модели случайного леса, точность модели увеличилась, показатель AUC-ROC также увеличился в сравнении с несбалансированной моделью"
      ]
    },
    {
      "cell_type": "markdown",
      "metadata": {
        "id": "ps1lRf8UkteZ"
      },
      "source": [
        "### С помощью увеличения выборки"
      ]
    },
    {
      "cell_type": "markdown",
      "metadata": {
        "id": "jhwIMymNktea"
      },
      "source": [
        "Устраним дисбаланс с помощью увеличения выборки. Для этого напишем функцию, которая вернёт увеличенную сбалансированную выборку "
      ]
    },
    {
      "cell_type": "code",
      "execution_count": null,
      "metadata": {
        "id": "lL1Ny-JWktea"
      },
      "outputs": [],
      "source": [
        "def upsample(features_train, target_train, repeat):\n",
        "    features_zeros = features_train[target_train == 0]\n",
        "    features_ones = features_train[target_train == 1]\n",
        "    target_zeros = target_train[target_train == 0]\n",
        "    target_ones = target_train[target_train == 1]\n",
        "\n",
        "    features_upsampled = pd.concat([features_zeros] + [features_ones] * repeat)\n",
        "    target_upsampled = pd.concat([target_zeros] + [target_ones] * repeat)\n",
        "\n",
        "    features_upsampled, target_upsampled = shuffle(\n",
        "    features_upsampled, target_upsampled, random_state=12345)\n",
        "\n",
        "    return features_upsampled, target_upsampled  "
      ]
    },
    {
      "cell_type": "markdown",
      "metadata": {
        "id": "6BCLhNpsktea"
      },
      "source": [
        "Увеличим класс \"1\" в 4 раза и поэкспериментируем с разными моделями"
      ]
    },
    {
      "cell_type": "code",
      "execution_count": null,
      "metadata": {
        "id": "Qa9Pa_W7ktea"
      },
      "outputs": [],
      "source": [
        "features_upsampled, target_upsampled = upsample(features_train, target_train, 4)"
      ]
    },
    {
      "cell_type": "code",
      "execution_count": null,
      "metadata": {
        "id": "Ky9e1p0xktea",
        "outputId": "1d49a3ce-ba63-4b83-b261-caca8b92b768"
      },
      "outputs": [
        {
          "name": "stdout",
          "output_type": "stream",
          "text": [
            "Лучший показатель F1-меры: 0.5830258302583026 Лучшая глубина дерева: 6\n"
          ]
        }
      ],
      "source": [
        "best_model = None\n",
        "best_depth = 0\n",
        "best_f1 = 0\n",
        "\n",
        "for depth in range(1, 16):\n",
        "    model = DecisionTreeClassifier(random_state=12345, max_depth=depth)\n",
        "    model.fit(features_upsampled, target_upsampled)\n",
        "    predictions = model.predict(features_valid)\n",
        "    f1 = f1_score(target_valid, predictions)\n",
        "    if f1 > best_f1:\n",
        "        best_f1 = f1\n",
        "        best_depth = depth\n",
        "        best_model = model\n",
        "print('Лучший показатель F1-меры:', best_f1, 'Лучшая глубина дерева:', best_depth)"
      ]
    },
    {
      "cell_type": "code",
      "execution_count": null,
      "metadata": {
        "id": "c4VLk380ktea",
        "outputId": "804995f1-fc2a-4ebf-97b7-c9fc613a579c"
      },
      "outputs": [
        {
          "name": "stdout",
          "output_type": "stream",
          "text": [
            "AUC-ROC: 0.8434536948685588\n"
          ]
        }
      ],
      "source": [
        "model = DecisionTreeClassifier(random_state=12345, max_depth=6)\n",
        "model.fit(features_upsampled, target_upsampled)\n",
        "probabilities_valid = model.predict_proba(features_valid)\n",
        "probabilities_one_valid = probabilities_valid[:, 1]\n",
        "auc_roc = roc_auc_score(target_valid, probabilities_one_valid)\n",
        "print('AUC-ROC:', auc_roc) "
      ]
    },
    {
      "cell_type": "code",
      "execution_count": null,
      "metadata": {
        "id": "t3sM03pJktea",
        "outputId": "c771192b-702d-4eef-ddb3-df237c78d339"
      },
      "outputs": [
        {
          "name": "stdout",
          "output_type": "stream",
          "text": [
            "Лучший показатель F1-меры: 0.6402116402116401 Лучшая глубина дерева: 9 Количество деревьев: 30\n"
          ]
        }
      ],
      "source": [
        "best_model = None\n",
        "best_depth = 0\n",
        "best_f1 = 0\n",
        "best_est = 0\n",
        "\n",
        "for est in range(10, 101, 10):\n",
        "    for depth in range(1, 16):\n",
        "        model = RandomForestClassifier(random_state=12345, max_depth=depth, n_estimators=est)\n",
        "        model.fit(features_upsampled, target_upsampled)\n",
        "        predictions = model.predict(features_valid)\n",
        "        f1 = f1_score(target_valid, predictions)\n",
        "        if f1 > best_f1:\n",
        "            best_f1 = f1\n",
        "            best_depth = depth\n",
        "            best_model = model\n",
        "            best_est = est\n",
        "print('Лучший показатель F1-меры:', best_f1, 'Лучшая глубина дерева:', best_depth, 'Количество деревьев:', best_est) "
      ]
    },
    {
      "cell_type": "code",
      "execution_count": null,
      "metadata": {
        "id": "BdnceILBkteb",
        "outputId": "25a01f4a-467b-4e85-ea63-781234d1ed51"
      },
      "outputs": [
        {
          "name": "stdout",
          "output_type": "stream",
          "text": [
            "AUC-ROC: 0.867592772584686\n"
          ]
        }
      ],
      "source": [
        "model = RandomForestClassifier(random_state=12345, max_depth=9, n_estimators=30)\n",
        "model.fit(features_upsampled, target_upsampled)\n",
        "probabilities_valid = model.predict_proba(features_valid)\n",
        "probabilities_one_valid = probabilities_valid[:, 1]\n",
        "auc_roc = roc_auc_score(target_valid, probabilities_one_valid)\n",
        "print('AUC-ROC:', auc_roc) "
      ]
    },
    {
      "cell_type": "code",
      "execution_count": null,
      "metadata": {
        "id": "MfeWA0zrkteb",
        "outputId": "6c79ac2d-e0cd-4707-bf24-30a61ac8c036"
      },
      "outputs": [
        {
          "name": "stdout",
          "output_type": "stream",
          "text": [
            "F1-мера: 0.49966239027684\n",
            "AUC-ROC метрика: 0.7793725990927741\n"
          ]
        }
      ],
      "source": [
        "model = LogisticRegression(random_state=12345, solver='liblinear')\n",
        "model.fit(features_upsampled, target_upsampled)\n",
        "predictions = model.predict(features_valid)\n",
        "f1 = f1_score(target_valid, predictions)\n",
        "print('F1-мера:', f1)\n",
        "\n",
        "probabilities_valid = model.predict_proba(features_valid)\n",
        "probabilities_one_valid = probabilities_valid[:, 1]\n",
        "auc_roc = roc_auc_score(target_valid, probabilities_one_valid)\n",
        "print('AUC-ROC метрика:', auc_roc)"
      ]
    },
    {
      "cell_type": "markdown",
      "metadata": {
        "id": "ZW-A8R-Xkteb"
      },
      "source": [
        "Модель случайного леса при апсемплинг показывает пока что лучшие результаты. И F1-мера, и метрика AUC-ROC выше, чем при взвешивании классов"
      ]
    },
    {
      "cell_type": "markdown",
      "metadata": {
        "id": "C9VMqY3ckteb"
      },
      "source": [
        "### С помощью уменьшения выборки"
      ]
    },
    {
      "cell_type": "markdown",
      "metadata": {
        "id": "CEejRMMVkteb"
      },
      "source": [
        "Устраним дисбаланс с помощью уменьшения выборки. Для этого напишем функцию, которая вернёт уменьшенную сбалансированную выборку"
      ]
    },
    {
      "cell_type": "code",
      "execution_count": null,
      "metadata": {
        "id": "0aAUvNjekteb"
      },
      "outputs": [],
      "source": [
        "def downsample(features_train, target_train, fraction):\n",
        "    features_zeros = features_train[target_train == 0]\n",
        "    features_ones = features_train[target_train == 1]\n",
        "    target_zeros = target_train[target_train == 0]\n",
        "    target_ones = target_train[target_train == 1]\n",
        "    \n",
        "    features_downsampled = pd.concat(\n",
        "        [features_zeros.sample(frac=fraction, random_state=12345)] + [features_ones])\n",
        "    target_downsampled = pd.concat(\n",
        "        [target_zeros.sample(frac=fraction, random_state=12345)] + [target_ones])\n",
        "\n",
        "    features_downsampled, target_downsampled = shuffle(\n",
        "        features_downsampled, target_downsampled, random_state=12345)\n",
        "\n",
        "    return features_downsampled, target_downsampled"
      ]
    },
    {
      "cell_type": "markdown",
      "metadata": {
        "id": "u7wg6-0okteb"
      },
      "source": [
        " Уменьшим класс \"0\" в 4 раза (т.е. оставим долю 0.25 от исходной обучающей выборки) и поэкспериментируем с моделями"
      ]
    },
    {
      "cell_type": "code",
      "execution_count": null,
      "metadata": {
        "id": "rkmkh3tmkteb"
      },
      "outputs": [],
      "source": [
        "features_downsampled, target_downsampled = downsample(features_train, target_train, 0.25)"
      ]
    },
    {
      "cell_type": "code",
      "execution_count": null,
      "metadata": {
        "id": "JvuUUQaQkteb",
        "outputId": "0e301137-87d9-456f-eb87-18bd45db75ca"
      },
      "outputs": [
        {
          "name": "stdout",
          "output_type": "stream",
          "text": [
            "Лучший показатель F1-меры: 0.5504840940525587 Лучшая глубина дерева: 8\n"
          ]
        }
      ],
      "source": [
        "best_model = None\n",
        "best_depth = 0\n",
        "best_f1 = 0\n",
        "\n",
        "for depth in range(1, 16):\n",
        "    model = DecisionTreeClassifier(random_state=12345, max_depth=depth)\n",
        "    model.fit(features_downsampled, target_downsampled)\n",
        "    predictions = model.predict(features_valid)\n",
        "    f1 = f1_score(target_valid, predictions)\n",
        "    if f1 > best_f1:\n",
        "        best_f1 = f1\n",
        "        best_depth = depth\n",
        "        best_model = model\n",
        "print('Лучший показатель F1-меры:', best_f1, 'Лучшая глубина дерева:', best_depth)"
      ]
    },
    {
      "cell_type": "code",
      "execution_count": null,
      "metadata": {
        "id": "-W5cqaavktec",
        "outputId": "6d44aa1f-18fa-43c0-9bad-be0e4367ccba"
      },
      "outputs": [
        {
          "name": "stdout",
          "output_type": "stream",
          "text": [
            "AUC-ROC: 0.7967183366406194\n"
          ]
        }
      ],
      "source": [
        "model = DecisionTreeClassifier(random_state=12345, max_depth=8)\n",
        "model.fit(features_downsampled, target_downsampled)\n",
        "probabilities_valid = model.predict_proba(features_valid)\n",
        "probabilities_one_valid = probabilities_valid[:, 1]\n",
        "auc_roc = roc_auc_score(target_valid, probabilities_one_valid)\n",
        "print('AUC-ROC:', auc_roc) "
      ]
    },
    {
      "cell_type": "code",
      "execution_count": null,
      "metadata": {
        "id": "jTcFDwylktec",
        "outputId": "84d10a44-4b6a-49ca-df63-902a2e92087d"
      },
      "outputs": [
        {
          "name": "stdout",
          "output_type": "stream",
          "text": [
            "Лучший показатель F1-меры: 0.6172839506172839 Лучшая глубина дерева: 9 Количество деревьев: 100\n"
          ]
        }
      ],
      "source": [
        "best_model = None\n",
        "best_depth = 0\n",
        "best_f1 = 0\n",
        "best_est = 0\n",
        "\n",
        "for est in range(10, 101, 10):\n",
        "    for depth in range(1, 16):\n",
        "        model = RandomForestClassifier(random_state=12345, max_depth=depth, n_estimators=est)\n",
        "        model.fit(features_downsampled, target_downsampled)\n",
        "        predictions = model.predict(features_valid)\n",
        "        f1 = f1_score(target_valid, predictions)\n",
        "        if f1 > best_f1:\n",
        "            best_f1 = f1\n",
        "            best_depth = depth\n",
        "            best_model = model\n",
        "            best_est = est\n",
        "print('Лучший показатель F1-меры:', best_f1, 'Лучшая глубина дерева:', best_depth, 'Количество деревьев:', best_est) "
      ]
    },
    {
      "cell_type": "code",
      "execution_count": null,
      "metadata": {
        "id": "RvbBDKOhktec",
        "outputId": "2bedec16-8234-4b48-d944-7f44ce6a8b42"
      },
      "outputs": [
        {
          "name": "stdout",
          "output_type": "stream",
          "text": [
            "AUC-ROC: 0.8644617872765361\n"
          ]
        }
      ],
      "source": [
        "model = RandomForestClassifier(random_state=12345, max_depth=9, n_estimators=100)\n",
        "model.fit(features_downsampled, target_downsampled)\n",
        "probabilities_valid = model.predict_proba(features_valid)\n",
        "probabilities_one_valid = probabilities_valid[:, 1]\n",
        "auc_roc = roc_auc_score(target_valid, probabilities_one_valid)\n",
        "print('AUC-ROC:', auc_roc) "
      ]
    },
    {
      "cell_type": "code",
      "execution_count": null,
      "metadata": {
        "id": "s5YA8mraktec",
        "outputId": "7e0986fa-3067-4be9-91c4-b318ebc84623"
      },
      "outputs": [
        {
          "name": "stdout",
          "output_type": "stream",
          "text": [
            "F1-мера: 0.504054054054054\n",
            "AUC-ROC метрика: 0.7799074223001541\n"
          ]
        }
      ],
      "source": [
        "model = LogisticRegression(random_state=12345, solver='liblinear')\n",
        "model.fit(features_downsampled, target_downsampled)\n",
        "predictions = model.predict(features_valid)\n",
        "f1 = f1_score(target_valid, predictions)\n",
        "print('F1-мера:', f1)\n",
        "\n",
        "probabilities_valid = model.predict_proba(features_valid)\n",
        "probabilities_one_valid = probabilities_valid[:, 1]\n",
        "auc_roc = roc_auc_score(target_valid, probabilities_one_valid)\n",
        "print('AUC-ROC метрика:', auc_roc)"
      ]
    },
    {
      "cell_type": "markdown",
      "metadata": {
        "id": "7hSrau0wktec"
      },
      "source": [
        "Уменьшение выборки не дало ни одной модели ощутимого улучшения значений метрик. Для тестирования используем лучшую: модель случайного леса с **апсемплингом**:\n",
        "\n",
        "model = RandomForestClassifier(random_state=12345, max_depth=9, n_estimators=30)\n",
        "\n",
        "model.fit(features_upsampled, target_upsampled)"
      ]
    },
    {
      "cell_type": "markdown",
      "metadata": {
        "id": "KIp7yoaSkted"
      },
      "source": [
        "## Тестирование модели"
      ]
    },
    {
      "cell_type": "markdown",
      "metadata": {
        "id": "wK9hrsAzkted"
      },
      "source": [
        "Используем для теста характеристики лучшей модели случайного леса по показателю F1-меры, полученные в пункте 3.2 "
      ]
    },
    {
      "cell_type": "code",
      "execution_count": null,
      "metadata": {
        "id": "7AK7D3MNkted",
        "outputId": "52682114-f7ab-4ff6-d0db-d1078d713b23"
      },
      "outputs": [
        {
          "name": "stdout",
          "output_type": "stream",
          "text": [
            "F1-мера на тестовой выборке: 0.5963636363636363\n",
            "AUC-ROC метрика на тестовой выборке: 0.8512700023354515\n"
          ]
        }
      ],
      "source": [
        "model = RandomForestClassifier(random_state=12345, max_depth=9, n_estimators=30)\n",
        "model.fit(features_upsampled, target_upsampled)\n",
        "predictions = model.predict(features_test)\n",
        "f1 = f1_score(target_test, predictions)\n",
        "print('F1-мера на тестовой выборке:', f1)\n",
        "\n",
        "probabilities_test = model.predict_proba(features_test)\n",
        "probabilities_one_test = probabilities_test[:, 1]\n",
        "auc_roc = roc_auc_score(target_test, probabilities_one_test)\n",
        "print('AUC-ROC метрика на тестовой выборке:', auc_roc)"
      ]
    },
    {
      "cell_type": "markdown",
      "metadata": {
        "id": "jybhULnEkted"
      },
      "source": [
        "А теперь попробуем добавить к нашей лучшей модели гиперпараметр взвешенных классов"
      ]
    },
    {
      "cell_type": "code",
      "execution_count": null,
      "metadata": {
        "id": "aaisT6dvkteg",
        "outputId": "d0048b00-f953-4ef0-d098-e7f297b69bf1"
      },
      "outputs": [
        {
          "name": "stdout",
          "output_type": "stream",
          "text": [
            "F1-мера на тестовой выборке: 0.609090909090909\n",
            "AUC-ROC метрика на тестовой выборке: 0.8526591932223591\n"
          ]
        }
      ],
      "source": [
        "model = RandomForestClassifier(class_weight='balanced', random_state=12345, max_depth=9, n_estimators=30)\n",
        "model.fit(features_upsampled, target_upsampled)\n",
        "predictions = model.predict(features_test)\n",
        "f1 = f1_score(target_test, predictions)\n",
        "print('F1-мера на тестовой выборке:', f1)\n",
        "\n",
        "probabilities_test = model.predict_proba(features_test)\n",
        "probabilities_one_test = probabilities_test[:, 1]\n",
        "auc_roc = roc_auc_score(target_test, probabilities_one_test)\n",
        "print('AUC-ROC метрика на тестовой выборке:', auc_roc)"
      ]
    },
    {
      "cell_type": "markdown",
      "metadata": {
        "id": "703wQHjrkteh"
      },
      "source": [
        "Результат стал ещё лучше! Оставляем эту модель как эталонную в рамках данного проекта"
      ]
    },
    {
      "cell_type": "markdown",
      "metadata": {
        "id": "cdntxKovkteh"
      },
      "source": [
        "Проверим эталонную модель на адекватность. За константную модель возьмём такую, при которой все прогнозы положительные, т.е. банк решил всем клиентам раздать бонусы, чтобы удержать их. Оценим F1-меру"
      ]
    },
    {
      "cell_type": "code",
      "execution_count": null,
      "metadata": {
        "id": "JS5R2K4qkteh",
        "outputId": "7b9ad7f1-644d-4079-e341-0984b8fce6c7"
      },
      "outputs": [
        {
          "name": "stdout",
          "output_type": "stream",
          "text": [
            "F1-мера на константной модели: 0.338368580060423\n"
          ]
        }
      ],
      "source": [
        "dummy_model = DummyClassifier(strategy='constant', constant=1)\n",
        "dummy_model.fit(features_upsampled, target_upsampled)\n",
        "f1 = f1_score(target_test, dummy_model.predict(features_test))\n",
        "print('F1-мера на константной модели:', f1)"
      ]
    },
    {
      "cell_type": "markdown",
      "metadata": {
        "id": "AWkarAS-kteh"
      },
      "source": [
        "Низкое значение F1-меры на константной модели означает, что наша лучшая модель работает гораздо точнее, хоть и не идеально "
      ]
    },
    {
      "cell_type": "markdown",
      "metadata": {
        "id": "7s9NGP7Tkteh"
      },
      "source": [
        "Просчитаем полноту модели"
      ]
    },
    {
      "cell_type": "code",
      "execution_count": null,
      "metadata": {
        "scrolled": true,
        "id": "I0uP-3llkteh",
        "outputId": "8e409e77-7a01-4407-f186-6be8b5dd0443"
      },
      "outputs": [
        {
          "name": "stdout",
          "output_type": "stream",
          "text": [
            "Recall метрика на тестовой выборке: 0.6646825396825397\n"
          ]
        }
      ],
      "source": [
        "recall = recall_score(target_test, predictions)\n",
        "print('Recall метрика на тестовой выборке:', recall)"
      ]
    },
    {
      "cell_type": "markdown",
      "metadata": {
        "id": "K1J-a8O0kteh"
      },
      "source": [
        "Модель верно определяет 66% клиентов на отток"
      ]
    },
    {
      "cell_type": "markdown",
      "metadata": {
        "id": "mRBaFMddkteh"
      },
      "source": [
        "**Вывод:** Результат, полученный на тестовой выборке, позволяет нам сказать, что мы добились поставленной задачи и построили модель, которая будет достаточно точно прогнозировать уход клиента из банка в ближайшее время"
      ]
    }
  ],
  "metadata": {
    "ExecuteTimeLog": [
      {
        "duration": 1266,
        "start_time": "2023-03-19T12:25:10.281Z"
      },
      {
        "duration": 3,
        "start_time": "2023-03-19T12:26:26.086Z"
      },
      {
        "duration": 168,
        "start_time": "2023-03-19T12:27:55.607Z"
      },
      {
        "duration": 19,
        "start_time": "2023-03-19T12:27:56.624Z"
      },
      {
        "duration": 14,
        "start_time": "2023-03-19T12:27:57.602Z"
      },
      {
        "duration": 5,
        "start_time": "2023-03-19T12:36:10.210Z"
      },
      {
        "duration": 42,
        "start_time": "2023-03-19T12:36:11.091Z"
      },
      {
        "duration": 14,
        "start_time": "2023-03-19T12:36:12.018Z"
      },
      {
        "duration": 5,
        "start_time": "2023-03-19T12:36:16.331Z"
      },
      {
        "duration": 13,
        "start_time": "2023-03-19T12:36:17.663Z"
      },
      {
        "duration": 5,
        "start_time": "2023-03-19T12:36:46.640Z"
      },
      {
        "duration": 12,
        "start_time": "2023-03-19T12:36:47.585Z"
      },
      {
        "duration": 7,
        "start_time": "2023-03-19T12:40:30.780Z"
      },
      {
        "duration": 11,
        "start_time": "2023-03-19T12:42:20.503Z"
      },
      {
        "duration": 5,
        "start_time": "2023-03-19T12:43:38.765Z"
      },
      {
        "duration": 9,
        "start_time": "2023-03-19T12:43:55.039Z"
      },
      {
        "duration": 7,
        "start_time": "2023-03-19T12:44:56.807Z"
      },
      {
        "duration": 10,
        "start_time": "2023-03-19T12:45:56.387Z"
      },
      {
        "duration": 17,
        "start_time": "2023-03-19T12:46:27.942Z"
      },
      {
        "duration": 3,
        "start_time": "2023-03-19T12:47:05.281Z"
      },
      {
        "duration": 39,
        "start_time": "2023-03-19T12:47:06.176Z"
      },
      {
        "duration": 13,
        "start_time": "2023-03-19T12:47:07.089Z"
      },
      {
        "duration": 5,
        "start_time": "2023-03-19T12:47:07.893Z"
      },
      {
        "duration": 12,
        "start_time": "2023-03-19T12:47:09.842Z"
      },
      {
        "duration": 9,
        "start_time": "2023-03-19T12:47:11.037Z"
      },
      {
        "duration": 4,
        "start_time": "2023-03-19T12:47:13.587Z"
      },
      {
        "duration": 9,
        "start_time": "2023-03-19T12:47:25.493Z"
      },
      {
        "duration": 10,
        "start_time": "2023-03-19T12:53:37.741Z"
      },
      {
        "duration": 6,
        "start_time": "2023-03-19T13:05:50.423Z"
      },
      {
        "duration": 4,
        "start_time": "2023-03-19T13:20:00.916Z"
      },
      {
        "duration": 6,
        "start_time": "2023-03-19T13:21:42.063Z"
      },
      {
        "duration": 13,
        "start_time": "2023-03-19T13:22:23.740Z"
      },
      {
        "duration": 16,
        "start_time": "2023-03-19T13:22:52.283Z"
      },
      {
        "duration": 1125,
        "start_time": "2023-03-19T13:23:21.795Z"
      },
      {
        "duration": 40,
        "start_time": "2023-03-19T13:23:22.922Z"
      },
      {
        "duration": 20,
        "start_time": "2023-03-19T13:23:22.966Z"
      },
      {
        "duration": 4,
        "start_time": "2023-03-19T13:23:22.989Z"
      },
      {
        "duration": 17,
        "start_time": "2023-03-19T13:23:22.995Z"
      },
      {
        "duration": 11,
        "start_time": "2023-03-19T13:23:23.013Z"
      },
      {
        "duration": 9,
        "start_time": "2023-03-19T13:23:23.025Z"
      },
      {
        "duration": 13,
        "start_time": "2023-03-19T13:23:23.035Z"
      },
      {
        "duration": 28,
        "start_time": "2023-03-19T13:28:55.321Z"
      },
      {
        "duration": 4,
        "start_time": "2023-03-19T13:40:40.098Z"
      },
      {
        "duration": 26,
        "start_time": "2023-03-19T13:50:38.513Z"
      },
      {
        "duration": 5,
        "start_time": "2023-03-19T13:51:36.874Z"
      },
      {
        "duration": 5,
        "start_time": "2023-03-19T13:51:52.547Z"
      },
      {
        "duration": 6,
        "start_time": "2023-03-19T13:52:48.680Z"
      },
      {
        "duration": 23,
        "start_time": "2023-03-19T14:18:34.134Z"
      },
      {
        "duration": 50,
        "start_time": "2023-03-20T13:53:11.253Z"
      },
      {
        "duration": 1120,
        "start_time": "2023-03-20T13:53:18.951Z"
      },
      {
        "duration": 163,
        "start_time": "2023-03-20T13:53:20.073Z"
      },
      {
        "duration": 22,
        "start_time": "2023-03-20T13:53:20.237Z"
      },
      {
        "duration": 5,
        "start_time": "2023-03-20T13:53:20.260Z"
      },
      {
        "duration": 14,
        "start_time": "2023-03-20T13:53:20.268Z"
      },
      {
        "duration": 9,
        "start_time": "2023-03-20T13:53:20.284Z"
      },
      {
        "duration": 18,
        "start_time": "2023-03-20T13:53:20.295Z"
      },
      {
        "duration": 15,
        "start_time": "2023-03-20T13:53:20.315Z"
      },
      {
        "duration": 39,
        "start_time": "2023-03-20T13:53:20.331Z"
      },
      {
        "duration": 51,
        "start_time": "2023-03-20T13:53:20.372Z"
      },
      {
        "duration": 4,
        "start_time": "2023-03-20T13:53:20.426Z"
      },
      {
        "duration": 9,
        "start_time": "2023-03-20T13:53:20.432Z"
      },
      {
        "duration": 5,
        "start_time": "2023-03-20T13:53:20.443Z"
      },
      {
        "duration": 23,
        "start_time": "2023-03-20T13:53:20.451Z"
      },
      {
        "duration": 31,
        "start_time": "2023-03-20T13:53:20.475Z"
      },
      {
        "duration": 114,
        "start_time": "2023-03-20T14:14:44.026Z"
      },
      {
        "duration": 1139,
        "start_time": "2023-03-20T14:15:23.743Z"
      },
      {
        "duration": 41,
        "start_time": "2023-03-20T14:15:24.884Z"
      },
      {
        "duration": 20,
        "start_time": "2023-03-20T14:15:24.927Z"
      },
      {
        "duration": 14,
        "start_time": "2023-03-20T14:15:24.949Z"
      },
      {
        "duration": 22,
        "start_time": "2023-03-20T14:15:24.966Z"
      },
      {
        "duration": 17,
        "start_time": "2023-03-20T14:15:24.990Z"
      },
      {
        "duration": 14,
        "start_time": "2023-03-20T14:15:25.009Z"
      },
      {
        "duration": 20,
        "start_time": "2023-03-20T14:15:25.026Z"
      },
      {
        "duration": 68,
        "start_time": "2023-03-20T14:15:25.048Z"
      },
      {
        "duration": 17,
        "start_time": "2023-03-20T14:15:25.118Z"
      },
      {
        "duration": 5,
        "start_time": "2023-03-20T14:15:25.138Z"
      },
      {
        "duration": 11,
        "start_time": "2023-03-20T14:15:25.145Z"
      },
      {
        "duration": 15,
        "start_time": "2023-03-20T14:15:25.159Z"
      },
      {
        "duration": 44,
        "start_time": "2023-03-20T14:15:25.178Z"
      },
      {
        "duration": 7,
        "start_time": "2023-03-20T14:15:25.224Z"
      },
      {
        "duration": 142,
        "start_time": "2023-03-20T14:15:25.233Z"
      },
      {
        "duration": 26,
        "start_time": "2023-03-20T14:17:45.925Z"
      },
      {
        "duration": 1263,
        "start_time": "2023-03-20T14:19:05.903Z"
      },
      {
        "duration": 52,
        "start_time": "2023-03-20T14:19:07.168Z"
      },
      {
        "duration": 21,
        "start_time": "2023-03-20T14:19:07.221Z"
      },
      {
        "duration": 4,
        "start_time": "2023-03-20T14:19:07.244Z"
      },
      {
        "duration": 27,
        "start_time": "2023-03-20T14:19:07.251Z"
      },
      {
        "duration": 9,
        "start_time": "2023-03-20T14:19:07.279Z"
      },
      {
        "duration": 19,
        "start_time": "2023-03-20T14:19:07.290Z"
      },
      {
        "duration": 17,
        "start_time": "2023-03-20T14:19:07.310Z"
      },
      {
        "duration": 13,
        "start_time": "2023-03-20T14:19:07.328Z"
      },
      {
        "duration": 16,
        "start_time": "2023-03-20T14:19:07.343Z"
      },
      {
        "duration": 4,
        "start_time": "2023-03-20T14:19:07.361Z"
      },
      {
        "duration": 38,
        "start_time": "2023-03-20T14:19:07.367Z"
      },
      {
        "duration": 10,
        "start_time": "2023-03-20T14:19:07.408Z"
      },
      {
        "duration": 23,
        "start_time": "2023-03-20T14:19:07.421Z"
      },
      {
        "duration": 4,
        "start_time": "2023-03-20T14:19:07.446Z"
      },
      {
        "duration": 361,
        "start_time": "2023-03-20T14:19:07.452Z"
      },
      {
        "duration": 411,
        "start_time": "2023-03-20T14:24:38.455Z"
      },
      {
        "duration": 625,
        "start_time": "2023-03-20T14:25:24.270Z"
      },
      {
        "duration": 22791,
        "start_time": "2023-03-20T14:31:46.742Z"
      },
      {
        "duration": 66,
        "start_time": "2023-03-20T14:38:15.939Z"
      },
      {
        "duration": 4,
        "start_time": "2023-03-20T15:00:44.082Z"
      },
      {
        "duration": 18,
        "start_time": "2023-03-20T15:04:56.658Z"
      },
      {
        "duration": 4,
        "start_time": "2023-03-20T15:05:33.167Z"
      },
      {
        "duration": 1057,
        "start_time": "2023-03-20T15:06:05.553Z"
      },
      {
        "duration": 42,
        "start_time": "2023-03-20T15:06:06.612Z"
      },
      {
        "duration": 20,
        "start_time": "2023-03-20T15:06:06.656Z"
      },
      {
        "duration": 4,
        "start_time": "2023-03-20T15:06:06.678Z"
      },
      {
        "duration": 13,
        "start_time": "2023-03-20T15:06:06.684Z"
      },
      {
        "duration": 9,
        "start_time": "2023-03-20T15:06:06.699Z"
      },
      {
        "duration": 9,
        "start_time": "2023-03-20T15:06:06.709Z"
      },
      {
        "duration": 14,
        "start_time": "2023-03-20T15:06:06.719Z"
      },
      {
        "duration": 10,
        "start_time": "2023-03-20T15:06:06.734Z"
      },
      {
        "duration": 17,
        "start_time": "2023-03-20T15:06:06.747Z"
      },
      {
        "duration": 3,
        "start_time": "2023-03-20T15:06:06.766Z"
      },
      {
        "duration": 5,
        "start_time": "2023-03-20T15:06:06.803Z"
      },
      {
        "duration": 7,
        "start_time": "2023-03-20T15:06:06.809Z"
      },
      {
        "duration": 33,
        "start_time": "2023-03-20T15:06:06.818Z"
      },
      {
        "duration": 6,
        "start_time": "2023-03-20T15:06:06.853Z"
      },
      {
        "duration": 646,
        "start_time": "2023-03-20T15:06:06.860Z"
      },
      {
        "duration": 16,
        "start_time": "2023-03-20T15:06:07.507Z"
      },
      {
        "duration": 22427,
        "start_time": "2023-03-20T15:06:07.525Z"
      },
      {
        "duration": 57,
        "start_time": "2023-03-20T15:06:29.954Z"
      },
      {
        "duration": 5,
        "start_time": "2023-03-20T15:06:30.102Z"
      },
      {
        "duration": 101,
        "start_time": "2023-03-20T15:06:30.109Z"
      },
      {
        "duration": 682,
        "start_time": "2023-03-20T15:06:30.213Z"
      },
      {
        "duration": 861,
        "start_time": "2023-03-20T15:08:21.122Z"
      },
      {
        "duration": 780,
        "start_time": "2023-03-20T15:09:15.773Z"
      },
      {
        "duration": 1086,
        "start_time": "2023-03-20T15:14:44.624Z"
      },
      {
        "duration": 40,
        "start_time": "2023-03-20T15:14:45.713Z"
      },
      {
        "duration": 22,
        "start_time": "2023-03-20T15:14:45.755Z"
      },
      {
        "duration": 5,
        "start_time": "2023-03-20T15:14:45.780Z"
      },
      {
        "duration": 27,
        "start_time": "2023-03-20T15:14:45.786Z"
      },
      {
        "duration": 19,
        "start_time": "2023-03-20T15:14:45.815Z"
      },
      {
        "duration": 10,
        "start_time": "2023-03-20T15:14:45.836Z"
      },
      {
        "duration": 15,
        "start_time": "2023-03-20T15:14:45.848Z"
      },
      {
        "duration": 10,
        "start_time": "2023-03-20T15:14:45.865Z"
      },
      {
        "duration": 36,
        "start_time": "2023-03-20T15:14:45.878Z"
      },
      {
        "duration": 5,
        "start_time": "2023-03-20T15:14:45.916Z"
      },
      {
        "duration": 10,
        "start_time": "2023-03-20T15:14:45.922Z"
      },
      {
        "duration": 13,
        "start_time": "2023-03-20T15:14:45.934Z"
      },
      {
        "duration": 24,
        "start_time": "2023-03-20T15:14:45.948Z"
      },
      {
        "duration": 10,
        "start_time": "2023-03-20T15:14:45.974Z"
      },
      {
        "duration": 617,
        "start_time": "2023-03-20T15:14:45.986Z"
      },
      {
        "duration": 16,
        "start_time": "2023-03-20T15:14:46.605Z"
      },
      {
        "duration": 22619,
        "start_time": "2023-03-20T15:14:46.622Z"
      },
      {
        "duration": 64,
        "start_time": "2023-03-20T15:15:09.243Z"
      },
      {
        "duration": 854,
        "start_time": "2023-03-20T15:15:09.309Z"
      },
      {
        "duration": 22981,
        "start_time": "2023-03-20T15:15:10.164Z"
      },
      {
        "duration": 157,
        "start_time": "2023-03-20T15:15:33.146Z"
      },
      {
        "duration": 5,
        "start_time": "2023-03-20T15:15:33.305Z"
      },
      {
        "duration": 15,
        "start_time": "2023-03-20T15:15:33.402Z"
      },
      {
        "duration": 781,
        "start_time": "2023-03-20T15:15:33.420Z"
      },
      {
        "duration": 32323,
        "start_time": "2023-03-20T15:23:58.659Z"
      },
      {
        "duration": 114,
        "start_time": "2023-03-20T15:25:29.101Z"
      },
      {
        "duration": 4,
        "start_time": "2023-03-20T15:31:52.821Z"
      },
      {
        "duration": 10,
        "start_time": "2023-03-20T15:35:17.714Z"
      },
      {
        "duration": 347,
        "start_time": "2023-03-20T15:36:16.968Z"
      },
      {
        "duration": 13986,
        "start_time": "2023-03-20T15:37:13.803Z"
      },
      {
        "duration": 218,
        "start_time": "2023-03-20T15:39:01.490Z"
      },
      {
        "duration": 108,
        "start_time": "2023-03-20T15:47:17.636Z"
      },
      {
        "duration": 112,
        "start_time": "2023-03-20T15:47:29.488Z"
      },
      {
        "duration": 1326,
        "start_time": "2023-03-20T15:48:02.300Z"
      },
      {
        "duration": 41,
        "start_time": "2023-03-20T15:48:03.629Z"
      },
      {
        "duration": 21,
        "start_time": "2023-03-20T15:48:03.672Z"
      },
      {
        "duration": 7,
        "start_time": "2023-03-20T15:48:03.695Z"
      },
      {
        "duration": 16,
        "start_time": "2023-03-20T15:48:03.704Z"
      },
      {
        "duration": 8,
        "start_time": "2023-03-20T15:48:03.722Z"
      },
      {
        "duration": 10,
        "start_time": "2023-03-20T15:48:03.732Z"
      },
      {
        "duration": 15,
        "start_time": "2023-03-20T15:48:03.743Z"
      },
      {
        "duration": 48,
        "start_time": "2023-03-20T15:48:03.760Z"
      },
      {
        "duration": 20,
        "start_time": "2023-03-20T15:48:03.810Z"
      },
      {
        "duration": 4,
        "start_time": "2023-03-20T15:48:03.832Z"
      },
      {
        "duration": 10,
        "start_time": "2023-03-20T15:48:03.839Z"
      },
      {
        "duration": 6,
        "start_time": "2023-03-20T15:48:03.851Z"
      },
      {
        "duration": 53,
        "start_time": "2023-03-20T15:48:03.861Z"
      },
      {
        "duration": 7,
        "start_time": "2023-03-20T15:48:03.915Z"
      },
      {
        "duration": 660,
        "start_time": "2023-03-20T15:48:03.923Z"
      },
      {
        "duration": 23568,
        "start_time": "2023-03-20T15:48:04.585Z"
      },
      {
        "duration": 155,
        "start_time": "2023-03-20T15:48:28.155Z"
      },
      {
        "duration": 758,
        "start_time": "2023-03-20T15:48:28.312Z"
      },
      {
        "duration": 23641,
        "start_time": "2023-03-20T15:48:29.072Z"
      },
      {
        "duration": 89,
        "start_time": "2023-03-20T15:48:52.716Z"
      },
      {
        "duration": 6,
        "start_time": "2023-03-20T15:48:52.807Z"
      },
      {
        "duration": 95,
        "start_time": "2023-03-20T15:48:52.816Z"
      },
      {
        "duration": 796,
        "start_time": "2023-03-20T15:48:52.913Z"
      },
      {
        "duration": 31110,
        "start_time": "2023-03-20T15:48:53.711Z"
      },
      {
        "duration": 89,
        "start_time": "2023-03-20T15:49:24.822Z"
      },
      {
        "duration": 93,
        "start_time": "2023-03-20T15:49:24.912Z"
      },
      {
        "duration": 97,
        "start_time": "2023-03-20T15:49:25.012Z"
      },
      {
        "duration": 359,
        "start_time": "2023-03-20T15:49:25.111Z"
      },
      {
        "duration": 14343,
        "start_time": "2023-03-20T15:49:25.473Z"
      },
      {
        "duration": 89,
        "start_time": "2023-03-20T15:49:39.819Z"
      },
      {
        "duration": 249,
        "start_time": "2023-03-20T15:49:39.911Z"
      },
      {
        "duration": 1125,
        "start_time": "2023-03-20T15:58:30.942Z"
      },
      {
        "duration": 59,
        "start_time": "2023-03-20T15:58:32.069Z"
      },
      {
        "duration": 21,
        "start_time": "2023-03-20T15:58:32.130Z"
      },
      {
        "duration": 4,
        "start_time": "2023-03-20T15:58:32.153Z"
      },
      {
        "duration": 14,
        "start_time": "2023-03-20T15:58:32.160Z"
      },
      {
        "duration": 9,
        "start_time": "2023-03-20T15:58:32.175Z"
      },
      {
        "duration": 10,
        "start_time": "2023-03-20T15:58:32.202Z"
      },
      {
        "duration": 15,
        "start_time": "2023-03-20T15:58:32.214Z"
      },
      {
        "duration": 10,
        "start_time": "2023-03-20T15:58:32.231Z"
      },
      {
        "duration": 15,
        "start_time": "2023-03-20T15:58:32.243Z"
      },
      {
        "duration": 4,
        "start_time": "2023-03-20T15:58:32.260Z"
      },
      {
        "duration": 38,
        "start_time": "2023-03-20T15:58:32.265Z"
      },
      {
        "duration": 5,
        "start_time": "2023-03-20T15:58:32.305Z"
      },
      {
        "duration": 23,
        "start_time": "2023-03-20T15:58:32.314Z"
      },
      {
        "duration": 10,
        "start_time": "2023-03-20T15:58:32.339Z"
      },
      {
        "duration": 713,
        "start_time": "2023-03-20T15:58:32.350Z"
      },
      {
        "duration": 82793,
        "start_time": "2023-03-20T15:58:33.064Z"
      },
      {
        "duration": 154,
        "start_time": "2023-03-20T15:59:55.859Z"
      },
      {
        "duration": 844,
        "start_time": "2023-03-20T15:59:56.016Z"
      },
      {
        "duration": 83508,
        "start_time": "2023-03-20T15:59:56.862Z"
      },
      {
        "duration": 38,
        "start_time": "2023-03-20T16:01:20.372Z"
      },
      {
        "duration": 92,
        "start_time": "2023-03-20T16:01:20.412Z"
      },
      {
        "duration": 102,
        "start_time": "2023-03-20T16:01:20.507Z"
      },
      {
        "duration": 825,
        "start_time": "2023-03-20T16:01:20.611Z"
      },
      {
        "duration": 112281,
        "start_time": "2023-03-20T16:01:21.438Z"
      },
      {
        "duration": 182,
        "start_time": "2023-03-20T16:03:13.721Z"
      },
      {
        "duration": 11,
        "start_time": "2023-03-20T16:03:13.906Z"
      },
      {
        "duration": 17,
        "start_time": "2023-03-20T16:03:14.004Z"
      },
      {
        "duration": 365,
        "start_time": "2023-03-20T16:03:14.024Z"
      },
      {
        "duration": 50126,
        "start_time": "2023-03-20T16:03:14.391Z"
      },
      {
        "duration": 86,
        "start_time": "2023-03-20T16:04:04.519Z"
      },
      {
        "duration": 3,
        "start_time": "2023-03-20T16:04:04.609Z"
      },
      {
        "duration": 1199,
        "start_time": "2023-03-20T16:08:53.963Z"
      },
      {
        "duration": 52,
        "start_time": "2023-03-20T16:08:55.165Z"
      },
      {
        "duration": 26,
        "start_time": "2023-03-20T16:08:55.219Z"
      },
      {
        "duration": 5,
        "start_time": "2023-03-20T16:08:55.247Z"
      },
      {
        "duration": 16,
        "start_time": "2023-03-20T16:08:55.254Z"
      },
      {
        "duration": 33,
        "start_time": "2023-03-20T16:08:55.273Z"
      },
      {
        "duration": 13,
        "start_time": "2023-03-20T16:08:55.309Z"
      },
      {
        "duration": 19,
        "start_time": "2023-03-20T16:08:55.325Z"
      },
      {
        "duration": 12,
        "start_time": "2023-03-20T16:08:55.347Z"
      },
      {
        "duration": 52,
        "start_time": "2023-03-20T16:08:55.362Z"
      },
      {
        "duration": 5,
        "start_time": "2023-03-20T16:08:55.417Z"
      },
      {
        "duration": 18,
        "start_time": "2023-03-20T16:08:55.423Z"
      },
      {
        "duration": 6,
        "start_time": "2023-03-20T16:08:55.443Z"
      },
      {
        "duration": 56,
        "start_time": "2023-03-20T16:08:55.453Z"
      },
      {
        "duration": 8,
        "start_time": "2023-03-20T16:08:55.511Z"
      },
      {
        "duration": 689,
        "start_time": "2023-03-20T16:08:55.521Z"
      },
      {
        "duration": 84280,
        "start_time": "2023-03-20T16:08:56.212Z"
      },
      {
        "duration": 118,
        "start_time": "2023-03-20T16:10:20.494Z"
      },
      {
        "duration": 877,
        "start_time": "2023-03-20T16:10:20.614Z"
      },
      {
        "duration": 83451,
        "start_time": "2023-03-20T16:10:21.493Z"
      },
      {
        "duration": 70,
        "start_time": "2023-03-20T16:11:44.946Z"
      },
      {
        "duration": 5,
        "start_time": "2023-03-20T16:11:45.103Z"
      },
      {
        "duration": 26,
        "start_time": "2023-03-20T16:11:45.110Z"
      },
      {
        "duration": 820,
        "start_time": "2023-03-20T16:11:45.138Z"
      },
      {
        "duration": 112316,
        "start_time": "2023-03-20T16:11:45.959Z"
      },
      {
        "duration": 43,
        "start_time": "2023-03-20T16:13:38.277Z"
      },
      {
        "duration": 97,
        "start_time": "2023-03-20T16:13:38.405Z"
      },
      {
        "duration": 28,
        "start_time": "2023-03-20T16:13:38.504Z"
      },
      {
        "duration": 383,
        "start_time": "2023-03-20T16:13:38.535Z"
      },
      {
        "duration": 52190,
        "start_time": "2023-03-20T16:13:38.921Z"
      },
      {
        "duration": 21,
        "start_time": "2023-03-20T16:14:31.113Z"
      },
      {
        "duration": 100,
        "start_time": "2023-03-20T16:14:31.204Z"
      },
      {
        "duration": 1207,
        "start_time": "2023-03-20T16:26:43.138Z"
      },
      {
        "duration": 51,
        "start_time": "2023-03-20T16:26:44.348Z"
      },
      {
        "duration": 31,
        "start_time": "2023-03-20T16:26:44.401Z"
      },
      {
        "duration": 5,
        "start_time": "2023-03-20T16:26:44.435Z"
      },
      {
        "duration": 21,
        "start_time": "2023-03-20T16:26:44.442Z"
      },
      {
        "duration": 8,
        "start_time": "2023-03-20T16:26:44.465Z"
      },
      {
        "duration": 34,
        "start_time": "2023-03-20T16:26:44.475Z"
      },
      {
        "duration": 15,
        "start_time": "2023-03-20T16:26:44.513Z"
      },
      {
        "duration": 11,
        "start_time": "2023-03-20T16:26:44.530Z"
      },
      {
        "duration": 14,
        "start_time": "2023-03-20T16:26:44.543Z"
      },
      {
        "duration": 4,
        "start_time": "2023-03-20T16:26:44.559Z"
      },
      {
        "duration": 46,
        "start_time": "2023-03-20T16:26:44.565Z"
      },
      {
        "duration": 5,
        "start_time": "2023-03-20T16:26:44.613Z"
      },
      {
        "duration": 26,
        "start_time": "2023-03-20T16:26:44.620Z"
      },
      {
        "duration": 6,
        "start_time": "2023-03-20T16:26:44.648Z"
      },
      {
        "duration": 686,
        "start_time": "2023-03-20T16:26:44.656Z"
      },
      {
        "duration": 84158,
        "start_time": "2023-03-20T16:26:45.344Z"
      },
      {
        "duration": 26,
        "start_time": "2023-03-20T16:28:09.504Z"
      },
      {
        "duration": 769,
        "start_time": "2023-03-20T16:28:09.604Z"
      },
      {
        "duration": 82973,
        "start_time": "2023-03-20T16:28:10.375Z"
      },
      {
        "duration": 161,
        "start_time": "2023-03-20T16:29:33.349Z"
      },
      {
        "duration": 5,
        "start_time": "2023-03-20T16:29:33.513Z"
      },
      {
        "duration": 102,
        "start_time": "2023-03-20T16:29:33.605Z"
      },
      {
        "duration": 805,
        "start_time": "2023-03-20T16:29:33.709Z"
      },
      {
        "duration": 112299,
        "start_time": "2023-03-20T16:29:34.517Z"
      },
      {
        "duration": 88,
        "start_time": "2023-03-20T16:31:26.819Z"
      },
      {
        "duration": 4,
        "start_time": "2023-03-20T16:31:26.909Z"
      },
      {
        "duration": 202,
        "start_time": "2023-03-20T16:31:26.915Z"
      },
      {
        "duration": 359,
        "start_time": "2023-03-20T16:31:27.119Z"
      },
      {
        "duration": 51319,
        "start_time": "2023-03-20T16:31:27.480Z"
      },
      {
        "duration": 21,
        "start_time": "2023-03-20T16:32:18.801Z"
      },
      {
        "duration": 82,
        "start_time": "2023-03-20T16:32:18.824Z"
      },
      {
        "duration": 1294,
        "start_time": "2023-03-20T16:33:08.020Z"
      },
      {
        "duration": 42,
        "start_time": "2023-03-20T16:33:09.316Z"
      },
      {
        "duration": 20,
        "start_time": "2023-03-20T16:33:09.359Z"
      },
      {
        "duration": 8,
        "start_time": "2023-03-20T16:33:09.381Z"
      },
      {
        "duration": 15,
        "start_time": "2023-03-20T16:33:09.390Z"
      },
      {
        "duration": 8,
        "start_time": "2023-03-20T16:33:09.407Z"
      },
      {
        "duration": 10,
        "start_time": "2023-03-20T16:33:09.417Z"
      },
      {
        "duration": 14,
        "start_time": "2023-03-20T16:33:09.428Z"
      },
      {
        "duration": 10,
        "start_time": "2023-03-20T16:33:09.443Z"
      },
      {
        "duration": 14,
        "start_time": "2023-03-20T16:33:09.456Z"
      },
      {
        "duration": 5,
        "start_time": "2023-03-20T16:33:09.502Z"
      },
      {
        "duration": 4,
        "start_time": "2023-03-20T16:33:09.509Z"
      },
      {
        "duration": 4,
        "start_time": "2023-03-20T16:33:09.515Z"
      },
      {
        "duration": 25,
        "start_time": "2023-03-20T16:33:09.521Z"
      },
      {
        "duration": 6,
        "start_time": "2023-03-20T16:33:09.548Z"
      },
      {
        "duration": 702,
        "start_time": "2023-03-20T16:33:09.555Z"
      },
      {
        "duration": 85548,
        "start_time": "2023-03-20T16:33:10.259Z"
      },
      {
        "duration": 108,
        "start_time": "2023-03-20T16:34:35.809Z"
      },
      {
        "duration": 785,
        "start_time": "2023-03-20T16:34:36.004Z"
      },
      {
        "duration": 84656,
        "start_time": "2023-03-20T16:34:36.791Z"
      },
      {
        "duration": 60,
        "start_time": "2023-03-20T16:36:01.448Z"
      },
      {
        "duration": 97,
        "start_time": "2023-03-20T16:36:01.509Z"
      },
      {
        "duration": 134,
        "start_time": "2023-03-20T16:36:01.609Z"
      },
      {
        "duration": 921,
        "start_time": "2023-03-20T16:36:01.746Z"
      },
      {
        "duration": 111306,
        "start_time": "2023-03-20T16:36:02.669Z"
      },
      {
        "duration": 126,
        "start_time": "2023-03-20T16:37:53.977Z"
      },
      {
        "duration": 6,
        "start_time": "2023-03-20T16:37:54.105Z"
      },
      {
        "duration": 13,
        "start_time": "2023-03-20T16:37:54.203Z"
      },
      {
        "duration": 351,
        "start_time": "2023-03-20T16:37:54.218Z"
      },
      {
        "duration": 49905,
        "start_time": "2023-03-20T16:37:54.571Z"
      },
      {
        "duration": 33,
        "start_time": "2023-03-20T16:38:44.478Z"
      },
      {
        "duration": 3,
        "start_time": "2023-03-20T16:38:44.602Z"
      },
      {
        "duration": 1217,
        "start_time": "2023-03-20T16:40:52.789Z"
      },
      {
        "duration": 46,
        "start_time": "2023-03-20T16:40:54.008Z"
      },
      {
        "duration": 22,
        "start_time": "2023-03-20T16:40:54.059Z"
      },
      {
        "duration": 4,
        "start_time": "2023-03-20T16:40:54.083Z"
      },
      {
        "duration": 40,
        "start_time": "2023-03-20T16:40:54.088Z"
      },
      {
        "duration": 8,
        "start_time": "2023-03-20T16:40:54.130Z"
      },
      {
        "duration": 22,
        "start_time": "2023-03-20T16:40:54.140Z"
      },
      {
        "duration": 23,
        "start_time": "2023-03-20T16:40:54.164Z"
      },
      {
        "duration": 11,
        "start_time": "2023-03-20T16:40:54.189Z"
      },
      {
        "duration": 15,
        "start_time": "2023-03-20T16:40:54.201Z"
      },
      {
        "duration": 4,
        "start_time": "2023-03-20T16:40:54.217Z"
      },
      {
        "duration": 4,
        "start_time": "2023-03-20T16:40:54.223Z"
      },
      {
        "duration": 4,
        "start_time": "2023-03-20T16:40:54.230Z"
      },
      {
        "duration": 21,
        "start_time": "2023-03-20T16:40:54.236Z"
      },
      {
        "duration": 6,
        "start_time": "2023-03-20T16:40:54.259Z"
      },
      {
        "duration": 667,
        "start_time": "2023-03-20T16:40:54.267Z"
      },
      {
        "duration": 85015,
        "start_time": "2023-03-20T16:40:54.936Z"
      },
      {
        "duration": 69,
        "start_time": "2023-03-20T16:42:19.953Z"
      },
      {
        "duration": 847,
        "start_time": "2023-03-20T16:42:20.024Z"
      },
      {
        "duration": 89709,
        "start_time": "2023-03-20T16:42:20.872Z"
      },
      {
        "duration": 129,
        "start_time": "2023-03-20T16:43:50.582Z"
      },
      {
        "duration": 9,
        "start_time": "2023-03-20T16:43:50.713Z"
      },
      {
        "duration": 17,
        "start_time": "2023-03-20T16:43:50.805Z"
      },
      {
        "duration": 1013,
        "start_time": "2023-03-20T16:43:50.825Z"
      },
      {
        "duration": 117137,
        "start_time": "2023-03-20T16:43:51.840Z"
      },
      {
        "duration": 227,
        "start_time": "2023-03-20T16:45:48.979Z"
      },
      {
        "duration": 8,
        "start_time": "2023-03-20T16:45:49.209Z"
      },
      {
        "duration": 10,
        "start_time": "2023-03-20T16:45:49.304Z"
      },
      {
        "duration": 383,
        "start_time": "2023-03-20T16:45:49.315Z"
      },
      {
        "duration": 52634,
        "start_time": "2023-03-20T16:45:49.703Z"
      },
      {
        "duration": 75,
        "start_time": "2023-03-20T16:46:42.339Z"
      },
      {
        "duration": 88,
        "start_time": "2023-03-20T16:46:42.416Z"
      },
      {
        "duration": 1266,
        "start_time": "2023-03-20T16:48:35.317Z"
      },
      {
        "duration": 45,
        "start_time": "2023-03-20T16:48:36.586Z"
      },
      {
        "duration": 30,
        "start_time": "2023-03-20T16:48:36.633Z"
      },
      {
        "duration": 7,
        "start_time": "2023-03-20T16:48:36.665Z"
      },
      {
        "duration": 33,
        "start_time": "2023-03-20T16:48:36.675Z"
      },
      {
        "duration": 13,
        "start_time": "2023-03-20T16:48:36.711Z"
      },
      {
        "duration": 11,
        "start_time": "2023-03-20T16:48:36.726Z"
      },
      {
        "duration": 20,
        "start_time": "2023-03-20T16:48:36.739Z"
      },
      {
        "duration": 12,
        "start_time": "2023-03-20T16:48:36.761Z"
      },
      {
        "duration": 23,
        "start_time": "2023-03-20T16:48:36.803Z"
      },
      {
        "duration": 6,
        "start_time": "2023-03-20T16:48:36.828Z"
      },
      {
        "duration": 23,
        "start_time": "2023-03-20T16:48:36.836Z"
      },
      {
        "duration": 10,
        "start_time": "2023-03-20T16:48:36.861Z"
      },
      {
        "duration": 52,
        "start_time": "2023-03-20T16:48:36.875Z"
      },
      {
        "duration": 26,
        "start_time": "2023-03-20T16:48:36.929Z"
      },
      {
        "duration": 855,
        "start_time": "2023-03-20T16:48:36.958Z"
      },
      {
        "duration": 88990,
        "start_time": "2023-03-20T16:48:37.815Z"
      },
      {
        "duration": 202,
        "start_time": "2023-03-20T16:50:06.807Z"
      },
      {
        "duration": 762,
        "start_time": "2023-03-20T16:50:07.012Z"
      },
      {
        "duration": 85159,
        "start_time": "2023-03-20T16:50:07.776Z"
      },
      {
        "duration": 266,
        "start_time": "2023-03-20T16:51:32.936Z"
      },
      {
        "duration": 10,
        "start_time": "2023-03-20T16:51:33.206Z"
      },
      {
        "duration": 100,
        "start_time": "2023-03-20T16:51:33.218Z"
      },
      {
        "duration": 819,
        "start_time": "2023-03-20T16:51:33.322Z"
      },
      {
        "duration": 116310,
        "start_time": "2023-03-20T16:51:34.143Z"
      },
      {
        "duration": 149,
        "start_time": "2023-03-20T16:53:30.455Z"
      },
      {
        "duration": 5,
        "start_time": "2023-03-20T16:53:30.607Z"
      },
      {
        "duration": 115,
        "start_time": "2023-03-20T16:53:30.614Z"
      },
      {
        "duration": 359,
        "start_time": "2023-03-20T16:53:30.731Z"
      },
      {
        "duration": 51024,
        "start_time": "2023-03-20T16:53:31.092Z"
      },
      {
        "duration": 193,
        "start_time": "2023-03-20T16:54:22.118Z"
      },
      {
        "duration": 2,
        "start_time": "2023-03-20T16:54:22.314Z"
      },
      {
        "duration": 313,
        "start_time": "2023-03-20T16:56:37.133Z"
      },
      {
        "duration": 36,
        "start_time": "2023-03-20T16:57:29.887Z"
      },
      {
        "duration": 281,
        "start_time": "2023-03-20T16:57:42.267Z"
      },
      {
        "duration": 1484,
        "start_time": "2023-03-20T16:58:00.878Z"
      },
      {
        "duration": 67,
        "start_time": "2023-03-20T16:58:02.364Z"
      },
      {
        "duration": 37,
        "start_time": "2023-03-20T16:58:02.438Z"
      },
      {
        "duration": 9,
        "start_time": "2023-03-20T16:58:02.481Z"
      },
      {
        "duration": 34,
        "start_time": "2023-03-20T16:58:02.493Z"
      },
      {
        "duration": 29,
        "start_time": "2023-03-20T16:58:02.530Z"
      },
      {
        "duration": 57,
        "start_time": "2023-03-20T16:58:02.562Z"
      },
      {
        "duration": 43,
        "start_time": "2023-03-20T16:58:02.621Z"
      },
      {
        "duration": 39,
        "start_time": "2023-03-20T16:58:02.667Z"
      },
      {
        "duration": 50,
        "start_time": "2023-03-20T16:58:02.712Z"
      },
      {
        "duration": 21,
        "start_time": "2023-03-20T16:58:02.766Z"
      },
      {
        "duration": 27,
        "start_time": "2023-03-20T16:58:02.790Z"
      },
      {
        "duration": 19,
        "start_time": "2023-03-20T16:58:02.819Z"
      },
      {
        "duration": 64,
        "start_time": "2023-03-20T16:58:02.843Z"
      },
      {
        "duration": 7,
        "start_time": "2023-03-20T16:58:02.910Z"
      },
      {
        "duration": 872,
        "start_time": "2023-03-20T16:58:02.920Z"
      },
      {
        "duration": 91932,
        "start_time": "2023-03-20T16:58:03.794Z"
      },
      {
        "duration": 275,
        "start_time": "2023-03-20T16:59:35.728Z"
      },
      {
        "duration": 739,
        "start_time": "2023-03-20T16:59:36.007Z"
      },
      {
        "duration": 91943,
        "start_time": "2023-03-20T16:59:36.748Z"
      },
      {
        "duration": 123,
        "start_time": "2023-03-20T17:01:08.693Z"
      },
      {
        "duration": 87,
        "start_time": "2023-03-20T17:01:08.818Z"
      },
      {
        "duration": 25,
        "start_time": "2023-03-20T17:01:08.908Z"
      },
      {
        "duration": 866,
        "start_time": "2023-03-20T17:01:08.937Z"
      },
      {
        "duration": 123805,
        "start_time": "2023-03-20T17:01:09.806Z"
      },
      {
        "duration": 100,
        "start_time": "2023-03-20T17:03:13.613Z"
      },
      {
        "duration": 9,
        "start_time": "2023-03-20T17:03:13.716Z"
      },
      {
        "duration": 16,
        "start_time": "2023-03-20T17:03:13.806Z"
      },
      {
        "duration": 479,
        "start_time": "2023-03-20T17:03:13.824Z"
      },
      {
        "duration": 51965,
        "start_time": "2023-03-20T17:03:14.305Z"
      },
      {
        "duration": 135,
        "start_time": "2023-03-20T17:04:06.272Z"
      },
      {
        "duration": 332,
        "start_time": "2023-03-20T17:04:06.410Z"
      },
      {
        "duration": 260,
        "start_time": "2023-03-20T18:02:07.685Z"
      },
      {
        "duration": 217,
        "start_time": "2023-03-20T18:02:51.691Z"
      },
      {
        "duration": 239,
        "start_time": "2023-03-20T18:03:03.056Z"
      },
      {
        "duration": 278,
        "start_time": "2023-03-20T18:12:16.463Z"
      },
      {
        "duration": 373,
        "start_time": "2023-03-20T18:17:40.611Z"
      },
      {
        "duration": 293,
        "start_time": "2023-03-20T18:18:25.632Z"
      },
      {
        "duration": 285,
        "start_time": "2023-03-20T18:18:35.083Z"
      },
      {
        "duration": 1211,
        "start_time": "2023-03-20T18:19:09.721Z"
      },
      {
        "duration": 43,
        "start_time": "2023-03-20T18:19:10.934Z"
      },
      {
        "duration": 22,
        "start_time": "2023-03-20T18:19:10.978Z"
      },
      {
        "duration": 13,
        "start_time": "2023-03-20T18:19:11.002Z"
      },
      {
        "duration": 21,
        "start_time": "2023-03-20T18:19:11.019Z"
      },
      {
        "duration": 13,
        "start_time": "2023-03-20T18:19:11.042Z"
      },
      {
        "duration": 16,
        "start_time": "2023-03-20T18:19:11.058Z"
      },
      {
        "duration": 51,
        "start_time": "2023-03-20T18:19:11.077Z"
      },
      {
        "duration": 15,
        "start_time": "2023-03-20T18:19:11.134Z"
      },
      {
        "duration": 18,
        "start_time": "2023-03-20T18:19:11.151Z"
      },
      {
        "duration": 4,
        "start_time": "2023-03-20T18:19:11.173Z"
      },
      {
        "duration": 7,
        "start_time": "2023-03-20T18:19:11.179Z"
      },
      {
        "duration": 7,
        "start_time": "2023-03-20T18:19:11.205Z"
      },
      {
        "duration": 46,
        "start_time": "2023-03-20T18:19:11.219Z"
      },
      {
        "duration": 6,
        "start_time": "2023-03-20T18:19:11.268Z"
      },
      {
        "duration": 702,
        "start_time": "2023-03-20T18:19:11.276Z"
      },
      {
        "duration": 89800,
        "start_time": "2023-03-20T18:19:11.981Z"
      },
      {
        "duration": 51,
        "start_time": "2023-03-20T18:20:41.783Z"
      },
      {
        "duration": 895,
        "start_time": "2023-03-20T18:20:41.909Z"
      },
      {
        "duration": 90657,
        "start_time": "2023-03-20T18:20:42.809Z"
      },
      {
        "duration": 163,
        "start_time": "2023-03-20T18:22:13.468Z"
      },
      {
        "duration": 78,
        "start_time": "2023-03-20T18:22:13.634Z"
      },
      {
        "duration": 22,
        "start_time": "2023-03-20T18:22:13.714Z"
      },
      {
        "duration": 838,
        "start_time": "2023-03-20T18:22:13.805Z"
      },
      {
        "duration": 120742,
        "start_time": "2023-03-20T18:22:14.645Z"
      },
      {
        "duration": 127,
        "start_time": "2023-03-20T18:24:15.390Z"
      },
      {
        "duration": 84,
        "start_time": "2023-03-20T18:24:15.521Z"
      },
      {
        "duration": 94,
        "start_time": "2023-03-20T18:24:15.612Z"
      },
      {
        "duration": 427,
        "start_time": "2023-03-20T18:24:15.709Z"
      },
      {
        "duration": 54174,
        "start_time": "2023-03-20T18:24:16.139Z"
      },
      {
        "duration": 105,
        "start_time": "2023-03-20T18:25:10.315Z"
      },
      {
        "duration": 424,
        "start_time": "2023-03-20T18:25:10.427Z"
      },
      {
        "duration": 1085,
        "start_time": "2023-03-21T10:01:25.789Z"
      },
      {
        "duration": 66,
        "start_time": "2023-03-21T10:01:26.876Z"
      },
      {
        "duration": 21,
        "start_time": "2023-03-21T10:01:26.944Z"
      },
      {
        "duration": 7,
        "start_time": "2023-03-21T10:01:26.967Z"
      },
      {
        "duration": 27,
        "start_time": "2023-03-21T10:01:26.977Z"
      },
      {
        "duration": 30,
        "start_time": "2023-03-21T10:01:27.012Z"
      },
      {
        "duration": 11,
        "start_time": "2023-03-21T10:01:27.044Z"
      },
      {
        "duration": 14,
        "start_time": "2023-03-21T10:01:27.057Z"
      },
      {
        "duration": 10,
        "start_time": "2023-03-21T10:01:27.073Z"
      },
      {
        "duration": 51,
        "start_time": "2023-03-21T10:01:27.085Z"
      },
      {
        "duration": 5,
        "start_time": "2023-03-21T10:01:27.138Z"
      },
      {
        "duration": 6,
        "start_time": "2023-03-21T10:01:27.144Z"
      },
      {
        "duration": 9,
        "start_time": "2023-03-21T10:01:27.152Z"
      },
      {
        "duration": 29,
        "start_time": "2023-03-21T10:01:27.164Z"
      },
      {
        "duration": 23,
        "start_time": "2023-03-21T10:01:27.195Z"
      },
      {
        "duration": 733,
        "start_time": "2023-03-21T10:01:27.222Z"
      },
      {
        "duration": 105000,
        "start_time": "2023-03-21T10:01:27.957Z"
      },
      {
        "duration": 140,
        "start_time": "2023-03-21T10:03:12.958Z"
      },
      {
        "duration": 940,
        "start_time": "2023-03-21T10:03:13.105Z"
      },
      {
        "duration": 103741,
        "start_time": "2023-03-21T10:03:14.047Z"
      },
      {
        "duration": 114,
        "start_time": "2023-03-21T10:04:57.790Z"
      },
      {
        "duration": 93,
        "start_time": "2023-03-21T10:04:57.907Z"
      },
      {
        "duration": 61,
        "start_time": "2023-03-21T10:04:58.005Z"
      },
      {
        "duration": 939,
        "start_time": "2023-03-21T10:04:58.068Z"
      },
      {
        "duration": 129440,
        "start_time": "2023-03-21T10:04:59.013Z"
      },
      {
        "duration": 153,
        "start_time": "2023-03-21T10:07:08.455Z"
      },
      {
        "duration": 12,
        "start_time": "2023-03-21T10:07:08.609Z"
      },
      {
        "duration": 129,
        "start_time": "2023-03-21T10:07:08.622Z"
      },
      {
        "duration": 434,
        "start_time": "2023-03-21T10:07:08.754Z"
      },
      {
        "duration": 60336,
        "start_time": "2023-03-21T10:07:09.190Z"
      },
      {
        "duration": 167,
        "start_time": "2023-03-21T10:08:09.528Z"
      },
      {
        "duration": 370,
        "start_time": "2023-03-21T10:08:09.698Z"
      },
      {
        "duration": 1138,
        "start_time": "2023-03-21T13:15:06.387Z"
      },
      {
        "duration": 4,
        "start_time": "2023-03-21T13:43:58.819Z"
      },
      {
        "duration": 1151,
        "start_time": "2023-03-21T14:19:39.480Z"
      },
      {
        "duration": 175,
        "start_time": "2023-03-21T14:19:40.633Z"
      },
      {
        "duration": 22,
        "start_time": "2023-03-21T14:19:40.810Z"
      },
      {
        "duration": 4,
        "start_time": "2023-03-21T14:19:40.834Z"
      },
      {
        "duration": 14,
        "start_time": "2023-03-21T14:19:40.840Z"
      },
      {
        "duration": 8,
        "start_time": "2023-03-21T14:19:40.856Z"
      },
      {
        "duration": 15,
        "start_time": "2023-03-21T14:19:40.866Z"
      },
      {
        "duration": 15,
        "start_time": "2023-03-21T14:19:40.904Z"
      },
      {
        "duration": 15,
        "start_time": "2023-03-21T14:19:40.920Z"
      },
      {
        "duration": 3,
        "start_time": "2023-03-21T14:19:40.938Z"
      },
      {
        "duration": 7,
        "start_time": "2023-03-21T14:19:40.943Z"
      },
      {
        "duration": 4,
        "start_time": "2023-03-21T14:19:40.952Z"
      },
      {
        "duration": 6,
        "start_time": "2023-03-21T14:19:40.958Z"
      },
      {
        "duration": 6,
        "start_time": "2023-03-21T14:19:40.965Z"
      },
      {
        "duration": 121,
        "start_time": "2023-03-21T14:19:41.004Z"
      },
      {
        "duration": 0,
        "start_time": "2023-03-21T14:19:41.128Z"
      },
      {
        "duration": 0,
        "start_time": "2023-03-21T14:19:41.129Z"
      },
      {
        "duration": 0,
        "start_time": "2023-03-21T14:19:41.131Z"
      },
      {
        "duration": 0,
        "start_time": "2023-03-21T14:19:41.132Z"
      },
      {
        "duration": 0,
        "start_time": "2023-03-21T14:19:41.133Z"
      },
      {
        "duration": 0,
        "start_time": "2023-03-21T14:19:41.134Z"
      },
      {
        "duration": 0,
        "start_time": "2023-03-21T14:19:41.135Z"
      },
      {
        "duration": 0,
        "start_time": "2023-03-21T14:19:41.136Z"
      },
      {
        "duration": 0,
        "start_time": "2023-03-21T14:19:41.138Z"
      },
      {
        "duration": 0,
        "start_time": "2023-03-21T14:19:41.140Z"
      },
      {
        "duration": 0,
        "start_time": "2023-03-21T14:19:41.141Z"
      },
      {
        "duration": 0,
        "start_time": "2023-03-21T14:19:41.142Z"
      },
      {
        "duration": 0,
        "start_time": "2023-03-21T14:19:41.144Z"
      },
      {
        "duration": 0,
        "start_time": "2023-03-21T14:19:41.145Z"
      },
      {
        "duration": 0,
        "start_time": "2023-03-21T14:19:41.146Z"
      },
      {
        "duration": 0,
        "start_time": "2023-03-21T14:19:41.147Z"
      },
      {
        "duration": 0,
        "start_time": "2023-03-21T14:19:41.148Z"
      },
      {
        "duration": 0,
        "start_time": "2023-03-21T14:19:41.150Z"
      },
      {
        "duration": 0,
        "start_time": "2023-03-21T14:19:41.151Z"
      },
      {
        "duration": 0,
        "start_time": "2023-03-21T14:19:41.152Z"
      },
      {
        "duration": 1,
        "start_time": "2023-03-21T14:19:41.153Z"
      },
      {
        "duration": 0,
        "start_time": "2023-03-21T14:19:41.156Z"
      },
      {
        "duration": 0,
        "start_time": "2023-03-21T14:19:41.202Z"
      },
      {
        "duration": 0,
        "start_time": "2023-03-21T14:19:41.203Z"
      },
      {
        "duration": 0,
        "start_time": "2023-03-21T14:19:41.204Z"
      },
      {
        "duration": 0,
        "start_time": "2023-03-21T14:19:41.205Z"
      },
      {
        "duration": 0,
        "start_time": "2023-03-21T14:19:41.207Z"
      },
      {
        "duration": 118682,
        "start_time": "2023-03-21T14:21:58.733Z"
      },
      {
        "duration": 962,
        "start_time": "2023-03-21T14:23:57.417Z"
      },
      {
        "duration": 43,
        "start_time": "2023-03-21T14:23:58.381Z"
      },
      {
        "duration": 21,
        "start_time": "2023-03-21T14:23:58.425Z"
      },
      {
        "duration": 5,
        "start_time": "2023-03-21T14:23:58.448Z"
      },
      {
        "duration": 22,
        "start_time": "2023-03-21T14:23:58.454Z"
      },
      {
        "duration": 9,
        "start_time": "2023-03-21T14:23:58.477Z"
      },
      {
        "duration": 23,
        "start_time": "2023-03-21T14:23:58.487Z"
      },
      {
        "duration": 12,
        "start_time": "2023-03-21T14:23:58.512Z"
      },
      {
        "duration": 14,
        "start_time": "2023-03-21T14:23:58.526Z"
      },
      {
        "duration": 3,
        "start_time": "2023-03-21T14:23:58.542Z"
      },
      {
        "duration": 5,
        "start_time": "2023-03-21T14:23:58.547Z"
      },
      {
        "duration": 5,
        "start_time": "2023-03-21T14:23:58.554Z"
      },
      {
        "duration": 5,
        "start_time": "2023-03-21T14:23:58.561Z"
      },
      {
        "duration": 37,
        "start_time": "2023-03-21T14:23:58.567Z"
      },
      {
        "duration": 29,
        "start_time": "2023-03-21T14:23:58.607Z"
      },
      {
        "duration": 26,
        "start_time": "2023-03-21T14:23:58.638Z"
      },
      {
        "duration": 6,
        "start_time": "2023-03-21T14:23:58.666Z"
      },
      {
        "duration": 313,
        "start_time": "2023-03-21T14:23:58.674Z"
      },
      {
        "duration": 137,
        "start_time": "2023-03-21T14:23:58.989Z"
      },
      {
        "duration": 0,
        "start_time": "2023-03-21T14:23:59.128Z"
      },
      {
        "duration": 0,
        "start_time": "2023-03-21T14:23:59.129Z"
      },
      {
        "duration": 0,
        "start_time": "2023-03-21T14:23:59.131Z"
      },
      {
        "duration": 0,
        "start_time": "2023-03-21T14:23:59.132Z"
      },
      {
        "duration": 0,
        "start_time": "2023-03-21T14:23:59.134Z"
      },
      {
        "duration": 0,
        "start_time": "2023-03-21T14:23:59.135Z"
      },
      {
        "duration": 0,
        "start_time": "2023-03-21T14:23:59.137Z"
      },
      {
        "duration": 0,
        "start_time": "2023-03-21T14:23:59.138Z"
      },
      {
        "duration": 0,
        "start_time": "2023-03-21T14:23:59.140Z"
      },
      {
        "duration": 0,
        "start_time": "2023-03-21T14:23:59.142Z"
      },
      {
        "duration": 0,
        "start_time": "2023-03-21T14:23:59.143Z"
      },
      {
        "duration": 0,
        "start_time": "2023-03-21T14:23:59.144Z"
      },
      {
        "duration": 0,
        "start_time": "2023-03-21T14:23:59.144Z"
      },
      {
        "duration": 0,
        "start_time": "2023-03-21T14:23:59.145Z"
      },
      {
        "duration": 1,
        "start_time": "2023-03-21T14:23:59.146Z"
      },
      {
        "duration": 0,
        "start_time": "2023-03-21T14:23:59.148Z"
      },
      {
        "duration": 0,
        "start_time": "2023-03-21T14:23:59.148Z"
      },
      {
        "duration": 0,
        "start_time": "2023-03-21T14:23:59.149Z"
      },
      {
        "duration": 0,
        "start_time": "2023-03-21T14:23:59.150Z"
      },
      {
        "duration": 1,
        "start_time": "2023-03-21T14:23:59.151Z"
      },
      {
        "duration": 0,
        "start_time": "2023-03-21T14:23:59.153Z"
      },
      {
        "duration": 0,
        "start_time": "2023-03-21T14:23:59.154Z"
      },
      {
        "duration": 0,
        "start_time": "2023-03-21T14:23:59.155Z"
      },
      {
        "duration": 3,
        "start_time": "2023-03-21T14:26:35.878Z"
      },
      {
        "duration": 41,
        "start_time": "2023-03-21T14:26:38.433Z"
      },
      {
        "duration": 14,
        "start_time": "2023-03-21T14:26:40.831Z"
      },
      {
        "duration": 6,
        "start_time": "2023-03-21T14:26:45.077Z"
      },
      {
        "duration": 15,
        "start_time": "2023-03-21T14:26:46.591Z"
      },
      {
        "duration": 8,
        "start_time": "2023-03-21T14:26:47.545Z"
      },
      {
        "duration": 10,
        "start_time": "2023-03-21T14:26:48.491Z"
      },
      {
        "duration": 13,
        "start_time": "2023-03-21T14:26:49.855Z"
      },
      {
        "duration": 16,
        "start_time": "2023-03-21T14:26:51.578Z"
      },
      {
        "duration": 4,
        "start_time": "2023-03-21T14:26:52.637Z"
      },
      {
        "duration": 4,
        "start_time": "2023-03-21T14:26:53.166Z"
      },
      {
        "duration": 4,
        "start_time": "2023-03-21T14:26:54.715Z"
      },
      {
        "duration": 4,
        "start_time": "2023-03-21T14:26:56.192Z"
      },
      {
        "duration": 3,
        "start_time": "2023-03-21T14:26:56.669Z"
      },
      {
        "duration": 27,
        "start_time": "2023-03-21T14:26:57.175Z"
      },
      {
        "duration": 27,
        "start_time": "2023-03-21T14:27:01.619Z"
      },
      {
        "duration": 5,
        "start_time": "2023-03-21T14:27:04.082Z"
      },
      {
        "duration": 286,
        "start_time": "2023-03-21T14:27:05.650Z"
      },
      {
        "duration": 22,
        "start_time": "2023-03-21T14:27:06.534Z"
      },
      {
        "duration": 38217,
        "start_time": "2023-03-21T14:27:13.835Z"
      },
      {
        "duration": 316,
        "start_time": "2023-03-21T14:28:10.334Z"
      },
      {
        "duration": 28,
        "start_time": "2023-03-21T14:28:15.082Z"
      },
      {
        "duration": 298,
        "start_time": "2023-03-21T14:28:23.672Z"
      },
      {
        "duration": 24,
        "start_time": "2023-03-21T14:28:35.220Z"
      },
      {
        "duration": 38505,
        "start_time": "2023-03-21T14:28:41.928Z"
      },
      {
        "duration": 440,
        "start_time": "2023-03-21T14:29:37.569Z"
      },
      {
        "duration": 79,
        "start_time": "2023-03-21T14:29:42.828Z"
      },
      {
        "duration": 4,
        "start_time": "2023-03-21T14:31:09.480Z"
      },
      {
        "duration": 11,
        "start_time": "2023-03-21T14:31:21.093Z"
      },
      {
        "duration": 357,
        "start_time": "2023-03-21T14:31:32.324Z"
      },
      {
        "duration": 27,
        "start_time": "2023-03-21T14:31:41.688Z"
      },
      {
        "duration": 49969,
        "start_time": "2023-03-21T14:31:44.635Z"
      },
      {
        "duration": 214,
        "start_time": "2023-03-21T14:32:44.932Z"
      },
      {
        "duration": 39,
        "start_time": "2023-03-21T14:33:10.475Z"
      },
      {
        "duration": 4,
        "start_time": "2023-03-21T14:34:18.175Z"
      },
      {
        "duration": 9,
        "start_time": "2023-03-21T14:34:21.284Z"
      },
      {
        "duration": 167,
        "start_time": "2023-03-21T14:34:21.879Z"
      },
      {
        "duration": 18,
        "start_time": "2023-03-21T14:34:33.336Z"
      },
      {
        "duration": 23892,
        "start_time": "2023-03-21T14:34:53.539Z"
      },
      {
        "duration": 310,
        "start_time": "2023-03-21T14:35:32.624Z"
      },
      {
        "duration": 30,
        "start_time": "2023-03-21T14:35:36.489Z"
      },
      {
        "duration": 241,
        "start_time": "2023-03-21T14:40:28.290Z"
      },
      {
        "duration": 3,
        "start_time": "2023-03-21T14:42:03.081Z"
      },
      {
        "duration": 4,
        "start_time": "2023-03-21T14:42:30.007Z"
      },
      {
        "duration": 6,
        "start_time": "2023-03-21T14:48:23.685Z"
      },
      {
        "duration": 6,
        "start_time": "2023-03-21T15:00:12.872Z"
      },
      {
        "duration": 233,
        "start_time": "2023-03-21T15:06:25.591Z"
      },
      {
        "duration": 231,
        "start_time": "2023-03-21T15:09:12.625Z"
      },
      {
        "duration": 7,
        "start_time": "2023-03-21T15:11:53.109Z"
      },
      {
        "duration": 6,
        "start_time": "2023-03-21T15:11:56.539Z"
      },
      {
        "duration": 2550,
        "start_time": "2023-03-21T15:15:00.971Z"
      },
      {
        "duration": 959,
        "start_time": "2023-03-21T15:15:03.524Z"
      },
      {
        "duration": 42,
        "start_time": "2023-03-21T15:15:04.485Z"
      },
      {
        "duration": 20,
        "start_time": "2023-03-21T15:15:04.529Z"
      },
      {
        "duration": 4,
        "start_time": "2023-03-21T15:15:04.552Z"
      },
      {
        "duration": 17,
        "start_time": "2023-03-21T15:15:04.558Z"
      },
      {
        "duration": 9,
        "start_time": "2023-03-21T15:15:04.576Z"
      },
      {
        "duration": 24,
        "start_time": "2023-03-21T15:15:04.587Z"
      },
      {
        "duration": 15,
        "start_time": "2023-03-21T15:15:04.612Z"
      },
      {
        "duration": 16,
        "start_time": "2023-03-21T15:15:04.629Z"
      },
      {
        "duration": 5,
        "start_time": "2023-03-21T15:15:04.647Z"
      },
      {
        "duration": 14,
        "start_time": "2023-03-21T15:15:04.653Z"
      },
      {
        "duration": 15,
        "start_time": "2023-03-21T15:15:04.669Z"
      },
      {
        "duration": 4,
        "start_time": "2023-03-21T15:15:04.705Z"
      },
      {
        "duration": 8,
        "start_time": "2023-03-21T15:15:04.711Z"
      },
      {
        "duration": 33,
        "start_time": "2023-03-21T15:15:04.721Z"
      },
      {
        "duration": 26,
        "start_time": "2023-03-21T15:15:04.756Z"
      },
      {
        "duration": 20,
        "start_time": "2023-03-21T15:15:04.784Z"
      },
      {
        "duration": 308,
        "start_time": "2023-03-21T15:15:04.805Z"
      },
      {
        "duration": 27,
        "start_time": "2023-03-21T15:15:05.116Z"
      },
      {
        "duration": 38704,
        "start_time": "2023-03-21T15:15:05.145Z"
      },
      {
        "duration": 330,
        "start_time": "2023-03-21T15:15:43.851Z"
      },
      {
        "duration": 32,
        "start_time": "2023-03-21T15:15:44.183Z"
      },
      {
        "duration": 400,
        "start_time": "2023-03-21T15:15:44.304Z"
      },
      {
        "duration": 26,
        "start_time": "2023-03-21T15:15:44.706Z"
      },
      {
        "duration": 39010,
        "start_time": "2023-03-21T15:15:44.734Z"
      },
      {
        "duration": 463,
        "start_time": "2023-03-21T15:16:23.746Z"
      },
      {
        "duration": 199,
        "start_time": "2023-03-21T15:16:24.211Z"
      },
      {
        "duration": 91,
        "start_time": "2023-03-21T15:16:24.412Z"
      },
      {
        "duration": 15,
        "start_time": "2023-03-21T15:16:24.505Z"
      },
      {
        "duration": 406,
        "start_time": "2023-03-21T15:16:24.522Z"
      },
      {
        "duration": 28,
        "start_time": "2023-03-21T15:16:24.930Z"
      },
      {
        "duration": 50462,
        "start_time": "2023-03-21T15:16:24.960Z"
      },
      {
        "duration": 215,
        "start_time": "2023-03-21T15:17:15.424Z"
      },
      {
        "duration": 167,
        "start_time": "2023-03-21T15:17:15.641Z"
      },
      {
        "duration": 94,
        "start_time": "2023-03-21T15:17:15.810Z"
      },
      {
        "duration": 99,
        "start_time": "2023-03-21T15:17:15.906Z"
      },
      {
        "duration": 184,
        "start_time": "2023-03-21T15:17:16.007Z"
      },
      {
        "duration": 22,
        "start_time": "2023-03-21T15:17:16.193Z"
      },
      {
        "duration": 24235,
        "start_time": "2023-03-21T15:17:16.217Z"
      },
      {
        "duration": 317,
        "start_time": "2023-03-21T15:17:40.456Z"
      },
      {
        "duration": 130,
        "start_time": "2023-03-21T15:17:40.775Z"
      },
      {
        "duration": 325,
        "start_time": "2023-03-21T15:17:40.907Z"
      },
      {
        "duration": 243,
        "start_time": "2023-03-21T15:17:41.234Z"
      },
      {
        "duration": 7,
        "start_time": "2023-03-21T15:17:41.479Z"
      },
      {
        "duration": 18,
        "start_time": "2023-03-21T15:17:41.488Z"
      }
    ],
    "kernelspec": {
      "display_name": "Python 3 (ipykernel)",
      "language": "python",
      "name": "python3"
    },
    "language_info": {
      "codemirror_mode": {
        "name": "ipython",
        "version": 3
      },
      "file_extension": ".py",
      "mimetype": "text/x-python",
      "name": "python",
      "nbconvert_exporter": "python",
      "pygments_lexer": "ipython3",
      "version": "3.9.5"
    },
    "toc": {
      "base_numbering": 1,
      "nav_menu": {},
      "number_sections": true,
      "sideBar": true,
      "skip_h1_title": true,
      "title_cell": "Содержание",
      "title_sidebar": "Contents",
      "toc_cell": true,
      "toc_position": {},
      "toc_section_display": true,
      "toc_window_display": false
    },
    "colab": {
      "provenance": []
    }
  },
  "nbformat": 4,
  "nbformat_minor": 0
}