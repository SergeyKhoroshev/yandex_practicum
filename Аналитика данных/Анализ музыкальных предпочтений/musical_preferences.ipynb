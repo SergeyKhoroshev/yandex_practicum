{
  "metadata": {
    "language_info": {
      "codemirror_mode": {
        "name": "python",
        "version": 3
      },
      "file_extension": ".py",
      "mimetype": "text/x-python",
      "name": "python",
      "nbconvert_exporter": "python",
      "pygments_lexer": "ipython3",
      "version": "3.8"
    },
    "kernelspec": {
      "name": "python",
      "display_name": "Python (Pyodide)",
      "language": "python"
    },
    "colab": {
      "provenance": []
    }
  },
  "nbformat_minor": 0,
  "nbformat": 4,
  "cells": [
    {
      "cell_type": "markdown",
      "source": [
        "# Анализ музыкальных предпочтений\n",
        "\n",
        "Цель: Провести сравнение музыкальных предпочтений у пользователей Яндекс.Музыки, проживающих в Москве и Санкт-Петербурге.\n",
        "\n",
        "Данные предоставлены сервисом Яндекс.Музыка"
      ],
      "metadata": {
        "id": "fi8ZES5lzrml"
      }
    },
    {
      "cell_type": "markdown",
      "source": [
        "# Содержание\n",
        "\n",
        "1. Получение данных\n",
        "2. Предобработка данных\n",
        "3. Проверка гипотез\n",
        "4. Результаты исследования"
      ],
      "metadata": {
        "id": "7pGLRhmIy3ii"
      }
    },
    {
      "cell_type": "markdown",
      "source": [
        "## Получение данных\n",
        "\n",
        " Изучим данные, предоставленные сервисом для проекта."
      ],
      "metadata": {
        "id": "Ym89OtPTyAuC"
      }
    },
    {
      "cell_type": "markdown",
      "source": [
        "Импорт библиотек"
      ],
      "metadata": {
        "id": "rbxy0iPvyAuE"
      }
    },
    {
      "cell_type": "code",
      "source": [
        "import pandas as pd"
      ],
      "metadata": {
        "id": "D_ASVbvqyAuF"
      },
      "execution_count": null,
      "outputs": []
    },
    {
      "cell_type": "markdown",
      "source": [
        "Прочитаем файл music_project.csv и сохраним его в переменной df."
      ],
      "metadata": {
        "id": "L4oJ0AkzyAuF"
      }
    },
    {
      "cell_type": "code",
      "source": [
        "df = pd.read_csv('music_project.csv')"
      ],
      "metadata": {
        "id": "2nd2g8pUyAuG"
      },
      "execution_count": null,
      "outputs": []
    },
    {
      "cell_type": "markdown",
      "source": [
        "Получение первых 10 строк таблицы."
      ],
      "metadata": {
        "id": "hwABZPWTyAuG"
      }
    },
    {
      "cell_type": "code",
      "source": [
        "df.head(10)"
      ],
      "metadata": {
        "id": "o1b5wuIayAuG"
      },
      "execution_count": null,
      "outputs": []
    },
    {
      "cell_type": "markdown",
      "source": [
        "Общая информация о данных таблицы df."
      ],
      "metadata": {
        "id": "L1C6TvhvyAuG"
      }
    },
    {
      "cell_type": "code",
      "source": [
        "df.info()"
      ],
      "metadata": {
        "id": "G_7esBZlyAuG"
      },
      "execution_count": null,
      "outputs": []
    },
    {
      "cell_type": "markdown",
      "source": [
        "Рассмотрим полученную информацию подробнее.\n",
        "\n",
        "Всего в таблице 7 столбцов, тип данных у каждого столбца - object.\n",
        "\n",
        "Количество значений в столбцах различается. Это говорит о том, что в данных есть пропущенные значения.\n",
        "\n",
        "Выводы:\n",
        "\n",
        "Каждая строка таблицы содержит информацию о композициях определённого жанра в определённом исполнении, которые пользователи слушали в одном из городов в определённое время и день недели. Две проблемы, которые нужно решать: пропуски и некачественные названия столбцов. Для проверки рабочих гипотез особенно ценны столбцы time, day и City. Данные из столбца genre позволят узнать самые популярные жанры."
      ],
      "metadata": {
        "id": "21vcDWv3yAuH"
      }
    },
    {
      "cell_type": "markdown",
      "source": [
        "## Предобработка данных\n",
        "Исключим пропуски, переименуем столбцы, а также проверим данные на наличие дубликатов."
      ],
      "metadata": {
        "id": "qCFIejg3yAuH"
      }
    },
    {
      "cell_type": "code",
      "source": [
        "df.columns"
      ],
      "metadata": {
        "id": "tXFrAHhnyAuH"
      },
      "execution_count": null,
      "outputs": []
    },
    {
      "cell_type": "markdown",
      "source": [
        "В названиях столбцов есть пробелы, которые могут затруднять доступ к данным.\n",
        "\n",
        "Переименуем столбцы для удобства дальнейшей работы. Проверим результат."
      ],
      "metadata": {
        "id": "krBSvtx5yAuH"
      }
    },
    {
      "cell_type": "code",
      "source": [
        "df = df.rename(\n",
        "    columns={\n",
        "        '  userID': 'user_id',\n",
        "        'Track': 'track',\n",
        "        '  City  ': 'city',\n",
        "        'Day': 'day'\n",
        "    }\n",
        ")"
      ],
      "metadata": {
        "id": "dTuX20_JyAuH"
      },
      "execution_count": null,
      "outputs": []
    },
    {
      "cell_type": "code",
      "source": [
        "df.columns"
      ],
      "metadata": {
        "id": "evpAIMfgyAuI"
      },
      "execution_count": null,
      "outputs": []
    },
    {
      "cell_type": "markdown",
      "source": [
        "Проверим данные на наличие пропусков вызовом набора методов для суммирования пропущенных значений."
      ],
      "metadata": {
        "id": "nznMtT14yAuI"
      }
    },
    {
      "cell_type": "code",
      "source": [
        "df.isna().sum()"
      ],
      "metadata": {
        "id": "tyY78Jv3yAuI"
      },
      "execution_count": null,
      "outputs": []
    },
    {
      "cell_type": "markdown",
      "source": [
        "Пустые значения свидетельствуют, что для некоторых треков доступна не вся информация. Причины могут быть разные: скажем, не назван конкретный исполнитель народной песни. Хуже, если проблемы с записью данных. Каждый отдельный случай необходимо разобрать и выявить причину.\n",
        "\n",
        "Заменяем пропущенные значения в столбцах с названием трека, исполнителя и жанра на строку 'unknown'. После этой операции нужно убедиться, что таблица больше не содержит пропусков."
      ],
      "metadata": {
        "id": "QUK-IE7QyAuI"
      }
    },
    {
      "cell_type": "code",
      "source": [
        "columns_to_replace = ['track', 'artist', 'genre']\n",
        "for item in columns_to_replace:\n",
        "    df[item] = df[item].fillna('unknown')"
      ],
      "metadata": {
        "id": "ev9XqSwiyAuI"
      },
      "execution_count": null,
      "outputs": []
    },
    {
      "cell_type": "code",
      "source": [
        "df.isna().sum()"
      ],
      "metadata": {
        "id": "8N1sCVoKyAuI"
      },
      "execution_count": null,
      "outputs": []
    },
    {
      "cell_type": "markdown",
      "source": [
        "Необходимо установить наличие дубликатов. Если найдутся, удаляем, и проверяем, все ли удалились."
      ],
      "metadata": {
        "id": "TXJJzugxyAuI"
      }
    },
    {
      "cell_type": "code",
      "source": [
        "df.duplicated().sum()"
      ],
      "metadata": {
        "id": "1GZWrKrfyAuJ"
      },
      "execution_count": null,
      "outputs": []
    },
    {
      "cell_type": "code",
      "source": [
        "df = df.drop_duplicates()"
      ],
      "metadata": {
        "id": "f9lq1grWyAuJ"
      },
      "execution_count": null,
      "outputs": []
    },
    {
      "cell_type": "code",
      "source": [
        "df.duplicated().sum()"
      ],
      "metadata": {
        "id": "C5hbWQbiyAuJ"
      },
      "execution_count": null,
      "outputs": []
    },
    {
      "cell_type": "markdown",
      "source": [
        "Теперь избавляемся от неявных дубликатов в колонке genre. Например, название одного и того же жанра может быть записано немного по-разному. Такие ошибки тоже повлияют на результат исследования.\n",
        "\n",
        "Соблюдая алфавитный порядок, сохраняем список уникальных значений столбца с жанрами в переменной unique_genres."
      ],
      "metadata": {
        "id": "joszM48EyAuJ"
      }
    },
    {
      "cell_type": "code",
      "source": [
        "unique_genres = df['genre'].sort_values()\n",
        "unique_genres = unique_genres.unique()\n",
        "unique_genres"
      ],
      "metadata": {
        "id": "Ye_Rt8YsyAuJ"
      },
      "execution_count": null,
      "outputs": []
    },
    {
      "cell_type": "markdown",
      "source": [
        "Просматриваем список и находим неявные дубликаты названия hiphop:\n",
        "\n",
        "hip,\n",
        "hop,\n",
        "hip-hop.\n",
        "\n",
        "Чтобы очистить от них таблицу, используем метод replace()."
      ],
      "metadata": {
        "id": "CtRuuqwUyAuJ"
      }
    },
    {
      "cell_type": "code",
      "source": [
        "df = df.replace('hip', 'hiphop')\n",
        "df = df.replace('hop', 'hiphop')\n",
        "df = df.replace('hip-hop', 'hiphop')"
      ],
      "metadata": {
        "id": "CzjMDJMbyAuJ"
      },
      "execution_count": null,
      "outputs": []
    },
    {
      "cell_type": "markdown",
      "source": [
        "Проверим, что заменили неправильные названия:"
      ],
      "metadata": {
        "id": "L7zW9RJlyAuJ"
      }
    },
    {
      "cell_type": "code",
      "source": [
        "unique_genres = df['genre'].sort_values()\n",
        "unique_genres = unique_genres.unique()\n",
        "unique_genres"
      ],
      "metadata": {
        "id": "S4n0PmTxyAuJ"
      },
      "execution_count": null,
      "outputs": []
    },
    {
      "cell_type": "markdown",
      "source": [
        "Вывод\n",
        "\n",
        "На этапе предобработки в данных обнаружились не только пропуски и проблемы с названиями столбцов, но и всяческие виды дубликатов. Их удаление позволит провести анализ точнее. Поскольку сведения о жанрах важно сохранить для анализа, не просто удаляем все пропущенные значения, а заполним пропущенные имена исполнителей и названия треков (хоть эти пропуски и могут повлиять на результаты исследования). Имена столбцов теперь корректны и удобны для дальнейшей работы."
      ],
      "metadata": {
        "id": "X2rcrqDNyAuK"
      }
    },
    {
      "cell_type": "markdown",
      "source": [
        "## Проверка гипотез"
      ],
      "metadata": {
        "id": "KcD7Ah3Qyb_S"
      }
    },
    {
      "cell_type": "markdown",
      "source": [
        "Действительно ли музыку в разных городах слушают по-разному?\n",
        "Была выдвинута гипотеза, что в Москве и Санкт-Петербурге пользователи слушают музыку по-разному. Проверяем это предположение по данным о трёх днях недели — понедельнике, среде и пятнице.\n",
        "\n",
        "Для каждого города устанавливаем количество прослушанных в эти дни композиций с известным жанром, и сравниваем результаты.\n",
        "\n",
        "Группируем данные по городу и вызовом метода count() подсчитываем композиции, для которых известен жанр."
      ],
      "metadata": {
        "id": "pTYcA9NVyAuK"
      }
    },
    {
      "cell_type": "code",
      "source": [
        "df.groupby('city')['city'].count()"
      ],
      "metadata": {
        "id": "FI7LsF66yAuK"
      },
      "execution_count": null,
      "outputs": []
    },
    {
      "cell_type": "markdown",
      "source": [
        "В Москве прослушиваний больше, чем в Питере, но это не значит, что Москва более активна. У Яндекс.Музыки в целом больше пользователей в Москве, поэтому величины сопоставимы.\n",
        "\n",
        "Сгруппируем данные по дню недели и подсчитаем прослушанные в понедельник, среду и пятницу композиции, для которых известен жанр."
      ],
      "metadata": {
        "id": "vI4woDTZyAuK"
      }
    },
    {
      "cell_type": "code",
      "source": [
        "df.groupby('day')['day'].count()"
      ],
      "metadata": {
        "id": "Gnq0kKvWyAuK"
      },
      "execution_count": null,
      "outputs": []
    },
    {
      "cell_type": "markdown",
      "source": [
        "В среднем пользователи из двух городов менее активны по средам. Но картина может измениться, если рассмотреть каждый город в отдельности."
      ],
      "metadata": {
        "id": "e-T5ocATyAuK"
      }
    },
    {
      "cell_type": "markdown",
      "source": [
        "Создаём функцию number_tracks(), которая принимает как параметры таблицу, день недели и название города, а возвращает количество прослушанных композиций, для которых известен жанр. Проверяем количество прослушанных композиций для каждого города и понедельника, затем среды и пятницы."
      ],
      "metadata": {
        "id": "5tF9x3tNyAuK"
      }
    },
    {
      "cell_type": "code",
      "source": [
        "def number_tracks(day, city):\n",
        "    track_list = df[df['day'] == day]\n",
        "    track_list = track_list[track_list['city'] == city]\n",
        "    track_list_count = track_list['user_id'].count()\n",
        "    return track_list_count"
      ],
      "metadata": {
        "id": "HampNCfMyAuL"
      },
      "execution_count": null,
      "outputs": []
    },
    {
      "cell_type": "code",
      "source": [
        "number_tracks('Monday', 'Moscow')"
      ],
      "metadata": {
        "id": "rE9uYq5fyAuS"
      },
      "execution_count": null,
      "outputs": []
    },
    {
      "cell_type": "code",
      "source": [
        "number_tracks('Monday', 'Saint-Petersburg')"
      ],
      "metadata": {
        "id": "Dipl60A8yAuT"
      },
      "execution_count": null,
      "outputs": []
    },
    {
      "cell_type": "code",
      "source": [
        "number_tracks('Wednesday', 'Moscow')"
      ],
      "metadata": {
        "id": "PPKBNci1yAuT"
      },
      "execution_count": null,
      "outputs": []
    },
    {
      "cell_type": "code",
      "source": [
        "number_tracks('Wednesday', 'Saint-Petersburg')"
      ],
      "metadata": {
        "id": "GiYhsCoHyAuT"
      },
      "execution_count": null,
      "outputs": []
    },
    {
      "cell_type": "code",
      "source": [
        "number_tracks('Friday', 'Moscow')"
      ],
      "metadata": {
        "id": "4D5L_rZMyAuT"
      },
      "execution_count": null,
      "outputs": []
    },
    {
      "cell_type": "code",
      "source": [
        "number_tracks('Friday', 'Saint-Petersburg')"
      ],
      "metadata": {
        "id": "vXx7tGz-yAuT"
      },
      "execution_count": null,
      "outputs": []
    },
    {
      "cell_type": "markdown",
      "source": [
        "Сведём полученную информацию в одну таблицу, где ['city', 'monday', 'wednesday', 'friday'] - названия столбцов."
      ],
      "metadata": {
        "id": "fqMyCtM8yAuT"
      }
    },
    {
      "cell_type": "code",
      "source": [
        "info = pd.DataFrame(data= [['Moscow', 15740, 11056, 15945], ['Saint-Petersburg', 5614, 7003, 5895]] , columns=['city', 'monday', 'wednesday', 'friday'])\n",
        "info"
      ],
      "metadata": {
        "id": "sJa-2fYFyAuT"
      },
      "execution_count": null,
      "outputs": []
    },
    {
      "cell_type": "markdown",
      "source": [
        "Вывод:\n",
        "\n",
        "Результаты показывают, что относительно среды музыку в Петербурге и Москве слушают «зеркально»: в Москве пики приходятся на понедельник и пятницу, а в среду время прослушивания снижается. Тогда как в Санкт-Петербурге среда — день самого большого интереса к музыке, а в понедельник и пятницу он меньше, причём почти одинаково меньше."
      ],
      "metadata": {
        "id": "ywwDTie3yAuU"
      }
    },
    {
      "cell_type": "markdown",
      "source": [
        "Утро понедельника и вечер пятницы — разная музыка или одна и та же?\n",
        "Ищем ответ на вопрос, какие жанры преобладают в разных городах в понедельник утром и в пятницу вечером. Есть предположение, что в понедельник утром пользователи слушают больше бодрящей музыки (например, жанра поп), а вечером пятницы — больше танцевальных (например, электронику).\n",
        "\n",
        "Получим таблицы данных по Москве moscow_general и по Санкт-Петербургу spb_general."
      ],
      "metadata": {
        "id": "3yvqRA16yAuU"
      }
    },
    {
      "cell_type": "code",
      "source": [
        "moscow_general = df[df['city'] == 'Moscow']"
      ],
      "metadata": {
        "id": "NgVekr8jyAuU"
      },
      "execution_count": null,
      "outputs": []
    },
    {
      "cell_type": "code",
      "source": [
        "spb_general = df[df['city'] == 'Saint-Petersburg']"
      ],
      "metadata": {
        "id": "PecplvS0yAuU"
      },
      "execution_count": null,
      "outputs": []
    },
    {
      "cell_type": "markdown",
      "source": [
        "Создаём функцию genre_weekday(), которая возвращает список жанров по запрошенному дню недели и времени суток с такого-то часа по такой-то."
      ],
      "metadata": {
        "id": "eHvwa5nbyAuU"
      }
    },
    {
      "cell_type": "code",
      "source": [
        "def genre_weekday(df, day, time1, time2):\n",
        "    genre_df = df[df['day'] == day]\n",
        "    genre_df = genre_df[genre_df['time'] < time2]\n",
        "    genre_df = genre_df[genre_df['time'] > time1]\n",
        "    genre_df_grouped = genre_df.groupby('genre')['genre'].count()\n",
        "    genre_df_sorted = genre_df_grouped.sort_values(ascending=False)\n",
        "    return genre_df_sorted[:10]\n",
        "    "
      ],
      "metadata": {
        "id": "wQx715M0yAuU"
      },
      "execution_count": null,
      "outputs": []
    },
    {
      "cell_type": "markdown",
      "source": [
        "Cравниваем полученные результаты по таблице для Москвы и Санкт-Петербурга в понедельник утром (с 7 до 11) и в пятницу вечером (с 17 до 23)."
      ],
      "metadata": {
        "id": "jlqdPaJXyAuV"
      }
    },
    {
      "cell_type": "code",
      "source": [
        "genre_weekday(moscow_general, 'Monday', '07:00', '11:00')"
      ],
      "metadata": {
        "id": "Gww-ML4QyAuV"
      },
      "execution_count": null,
      "outputs": []
    },
    {
      "cell_type": "code",
      "source": [
        "genre_weekday(spb_general, 'Monday', '07:00', '11:00')"
      ],
      "metadata": {
        "id": "L34T1oRjyAuV"
      },
      "execution_count": null,
      "outputs": []
    },
    {
      "cell_type": "code",
      "source": [
        "genre_weekday(moscow_general, 'Friday', '17:00', '23:00')"
      ],
      "metadata": {
        "id": "yblxb2zkyAuV"
      },
      "execution_count": null,
      "outputs": []
    },
    {
      "cell_type": "code",
      "source": [
        "genre_weekday(spb_general, 'Friday', '17:00', '23:00')"
      ],
      "metadata": {
        "id": "ZpeyCvCDyAuW"
      },
      "execution_count": null,
      "outputs": []
    },
    {
      "cell_type": "markdown",
      "source": [
        "Популярные жанры в понедельник утром в Питере и Москве оказались похожи: везде, как и предполагалось, популярен поп. Несмотря на это, концовка топ-10 для двух городов различается: в Питере в топ-10 входит джаз и русский рэп, а в Москве жанр world.\n",
        "\n",
        "В Москве пропущенных значений оказалось так много, что значение 'unknown' заняло десятое место среди самых популярных жанров. Значит, пропущенные значения занимают существенную долю в данных и угрожают достоверности исследования.\n",
        "\n",
        "В конце недели ситуация не меняется. Поп-музыка всё так же на первом месте. Опять разница заметна только в концовке топ-10, где в Питере пятничным вечером тоже присутствует жанр world."
      ],
      "metadata": {
        "id": "IOghoCZdyAuW"
      }
    },
    {
      "cell_type": "markdown",
      "source": [
        "Вывод:\n",
        "\n",
        "Жанр поп безусловный лидер, а топ-5 в целом не различается в обеих столицах. При этом видно, что концовка списка более «живая»: \n",
        "для каждого города выделяются более характерные жанры, которые действительно меняют свои позиции в зависимости от дня недели и времени. \n",
        "Вторая гипотеза подтвердилась, но лишь частично."
      ],
      "metadata": {
        "id": "h9s5qZr1yAuX"
      }
    },
    {
      "cell_type": "markdown",
      "source": [
        "Гипотеза: Питер богат своей рэп-культурой, поэтому это направление там слушают чаще, а Москва — город контрастов, но основная масса пользователей слушает попсу."
      ],
      "metadata": {
        "id": "ZE8ltb3myAuX"
      }
    },
    {
      "cell_type": "markdown",
      "source": [
        "Сгруппируем таблицу moscow_general по жанру, сосчитаем численность композиций каждого жанра методом count(), отсортируем в порядке убывания и сохраним результат в таблице moscow_genres.\n",
        "\n",
        "Просмотрим первые 10 строк этой новой таблицы."
      ],
      "metadata": {
        "id": "hyezEgQQyAuX"
      }
    },
    {
      "cell_type": "code",
      "source": [
        "moscow_genres = moscow_general.groupby('genre')['genre'].count().sort_values(ascending=False)"
      ],
      "metadata": {
        "id": "B_f0hnspyAuX"
      },
      "execution_count": null,
      "outputs": []
    },
    {
      "cell_type": "code",
      "source": [
        "moscow_genres.head(10)"
      ],
      "metadata": {
        "id": "FvPX1Qj_yAuY"
      },
      "execution_count": null,
      "outputs": []
    },
    {
      "cell_type": "markdown",
      "source": [
        "Сгруппируем таблицу spb_general по жанру, сосчитаем численность композиций каждого жанра методом count(), отсортируем в порядке убывания и сохраним результат в таблице spb_genres.\n",
        "\n",
        "Просматриваем первые 10 строк этой таблицы. Теперь можно сравнивать два города."
      ],
      "metadata": {
        "id": "96r9bzZbyAuY"
      }
    },
    {
      "cell_type": "code",
      "source": [
        "spb_genres = spb_general.groupby('genre')['genre'].count().sort_values(ascending=False)"
      ],
      "metadata": {
        "id": "kuaHtoPCyAuY"
      },
      "execution_count": null,
      "outputs": []
    },
    {
      "cell_type": "code",
      "source": [
        "spb_genres.head(10)"
      ],
      "metadata": {
        "id": "05n6tRxzyAuY"
      },
      "execution_count": null,
      "outputs": []
    },
    {
      "cell_type": "markdown",
      "source": [
        "Выводы\n",
        "\n",
        "Гипотеза частично подтвердилась:\n",
        "\n",
        "Поп-музыка — самый популярный жанр в Москве, как и предполагала гипотеза. Более того, в топ-10 жанров встречается близкий жанр — русская популярная музыка.\n",
        "Вопреки ожиданиям, рэп одинаково популярен в Москве и Петербурге."
      ],
      "metadata": {
        "id": "vq22YQI8yAuZ"
      }
    },
    {
      "cell_type": "markdown",
      "source": [
        "## Результаты исследования"
      ],
      "metadata": {
        "id": "Cguw5yxOyAuZ"
      }
    },
    {
      "cell_type": "markdown",
      "source": [
        "Рабочие гипотезы:\n",
        "   1. Музыку в двух городах — Москве и Санкт-Петербурге — слушают в разном режиме.\n",
        "\n",
        "Полностью подтверждена.\n",
        "   \n",
        "   2. Списки десяти самых популярных жанров утром в понедельник и вечером в пятницу имеют характерные отличия.\n",
        "\n",
        "В Москве слушают музыку жанра “world”,\n",
        "В Петербурге — джаз и классику.\n",
        "Таким образом, вторая гипотеза подтвердилась лишь отчасти. Этот результат мог оказаться иным, если бы не пропуски в данных.\n",
        "      \n",
        "   3. Население двух городов предпочитает разные музыкальные жанры.\n",
        "\n",
        "Третья гипотеза не подтвердилась. Если различия в предпочтениях и существуют, на основной массе пользователей они незаметны."
      ],
      "metadata": {
        "id": "nPby5eqbyvuL"
      }
    }
  ]
}