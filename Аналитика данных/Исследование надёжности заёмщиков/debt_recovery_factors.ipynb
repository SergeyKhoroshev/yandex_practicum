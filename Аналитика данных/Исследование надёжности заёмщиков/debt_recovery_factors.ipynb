{
  "metadata": {
    "language_info": {
      "codemirror_mode": {
        "name": "python",
        "version": 3
      },
      "file_extension": ".py",
      "mimetype": "text/x-python",
      "name": "python",
      "nbconvert_exporter": "python",
      "pygments_lexer": "ipython3",
      "version": "3.8"
    },
    "kernelspec": {
      "name": "python",
      "display_name": "Python (Pyodide)",
      "language": "python"
    }
  },
  "nbformat_minor": 4,
  "nbformat": 4,
  "cells": [
    {
      "cell_type": "markdown",
      "source": "# Исследование надежности заемщиков\n\n**Описание:**\n\nИсследование, направленное на вычисление факторов влияния на возврат кредита в срок заёмщиками.\n\nРезультаты исследования предполагается учесть в модели кредитного скоринга.\n\n**Цель:** \n\nВыяснить, существует ли зависимость между принадлежностью клиентов к определённой категории и их способностью возврата кредита в срок.\n\n**Описание данных:**\n\nВходные данные от банка — статистика о платёжеспособности клиентов.\n\n- children — количество детей в семье\n\n- days_employed — общий трудовой стаж в днях\n\n- dob_years — возраст клиента в годах\n\n- education — уровень образования клиента\n\n- education_id — идентификатор уровня образования\n\n- family_status — семейное положение\n\n- family_status_id — идентификатор семейного положения\n\n- gender — пол клиента\n\n- income_type — тип занятости\n\n- debt — имел ли задолженность по возврату кредитов\n\n- total_income — ежемесячный доход\n\n- purpose — цель получения кредита\n\n**План работы:**\n\n1. Изучить общую информацию о данных.\n\n\n2. Предобработка данных:\n\n2.1 Удаление пропусков\n\n2.2 Обработка аномальных значений\n\n2.3 Удаление пропусков(продолжение)\n\n2.4 Изменение типов данных\n\n2.5 Обработка дубликатов\n\n2.6 Категоризация данных\n\n3. Исследование данных и ответы на вопросы:\n\n3.1 Зависимость между количеством детей и возвратом кредита в срок\n\n3.2 Зависимость между семейным положением и возвратом кредита в срок\n\n3.3 Зависимость между уровнем дохода и возвратом кредита в срок\n\n3.4 Как разные цели кредита влияют на его возврат в срок\n\n4. Общий вывод",
      "metadata": {}
    },
    {
      "cell_type": "markdown",
      "source": "### 1. Изучаем общую информацию о данных",
      "metadata": {}
    },
    {
      "cell_type": "markdown",
      "source": "Импортируем библиотеку и читаем файл с данными",
      "metadata": {}
    },
    {
      "cell_type": "code",
      "source": "import pandas as pd",
      "metadata": {
        "trusted": true
      },
      "execution_count": 1,
      "outputs": []
    },
    {
      "cell_type": "code",
      "source": "data = pd.read_csv('/datasets/data.csv')",
      "metadata": {
        "trusted": true
      },
      "execution_count": null,
      "outputs": []
    },
    {
      "cell_type": "markdown",
      "source": "Изучаем первые 20 строк файла и общую информацию",
      "metadata": {}
    },
    {
      "cell_type": "code",
      "source": "data.head(20)",
      "metadata": {},
      "execution_count": null,
      "outputs": []
    },
    {
      "cell_type": "code",
      "source": "data.info()",
      "metadata": {},
      "execution_count": null,
      "outputs": []
    },
    {
      "cell_type": "markdown",
      "source": "### 2.Предобработка данных\n\n**2.1 Удаление пропусков**",
      "metadata": {}
    },
    {
      "cell_type": "markdown",
      "source": "Выводим количество пропущенных значений для каждого столбца",
      "metadata": {}
    },
    {
      "cell_type": "code",
      "source": "data.isna().sum()",
      "metadata": {},
      "execution_count": null,
      "outputs": []
    },
    {
      "cell_type": "markdown",
      "source": "Столбец с пропущенными значениями — total_income — хранит данные о доходах. На сумму дохода сильнее всего влияет тип занятости, поэтому заполнить пропуски в этом столбце нужно медианным значением по каждому типу из столбца income_type",
      "metadata": {}
    },
    {
      "cell_type": "code",
      "source": "for type in data['income_type'].unique():\n    data.loc[(data['income_type'] == type) & (data['total_income'].isna()), 'total_income'] = \\\n    data.loc[(data['income_type'] == type), 'total_income'].median()",
      "metadata": {},
      "execution_count": null,
      "outputs": []
    },
    {
      "cell_type": "markdown",
      "source": "**2.2 Обработка аномальных значений**",
      "metadata": {}
    },
    {
      "cell_type": "markdown",
      "source": "В столбце days_employed были обнаружены аномальные значения (отрицательное кол-во дней трудового стажа). Заменяем их с помощью метода abs()",
      "metadata": {}
    },
    {
      "cell_type": "code",
      "source": "data['days_employed'] = data['days_employed'].abs()",
      "metadata": {},
      "execution_count": null,
      "outputs": []
    },
    {
      "cell_type": "markdown",
      "source": "Для каждого типа занятости выводим медианное значение трудового стажа days_employed в днях",
      "metadata": {}
    },
    {
      "cell_type": "code",
      "source": "data.groupby('income_type')['days_employed'].median()",
      "metadata": {},
      "execution_count": null,
      "outputs": []
    },
    {
      "cell_type": "markdown",
      "source": "Выводим перечень уникальных значений столбца children",
      "metadata": {}
    },
    {
      "cell_type": "code",
      "source": "data['children'].unique()",
      "metadata": {},
      "execution_count": null,
      "outputs": []
    },
    {
      "cell_type": "markdown",
      "source": "В этом столбце есть два аномальных значения. Удаляем строки, в которых встречаются такие аномальные значения",
      "metadata": {}
    },
    {
      "cell_type": "code",
      "source": "data = data[(data['children'] != -1) & (data['children'] != 20)]",
      "metadata": {},
      "execution_count": null,
      "outputs": []
    },
    {
      "cell_type": "markdown",
      "source": "Ещё раз выводим перечень уникальных значений столбца children, чтобы убедиться, что артефакты удалены",
      "metadata": {}
    },
    {
      "cell_type": "code",
      "source": "data['children'].unique()",
      "metadata": {},
      "execution_count": null,
      "outputs": []
    },
    {
      "cell_type": "markdown",
      "source": "**2.3 Удаление пропусков(продолжение)**",
      "metadata": {}
    },
    {
      "cell_type": "markdown",
      "source": "Заполняем пропуски в столбце days_employed медианными значениями по каждому типу занятости income_type",
      "metadata": {}
    },
    {
      "cell_type": "code",
      "source": "for type in data['income_type'].unique():\n    data.loc[(data['income_type'] == type) & (data['days_employed'].isna()), 'days_employed'] = \\\n    data.loc[(data['income_type'] == type), 'days_employed'].median()",
      "metadata": {},
      "execution_count": null,
      "outputs": []
    },
    {
      "cell_type": "markdown",
      "source": "Убеждаемся, что все пропуски заполнены",
      "metadata": {}
    },
    {
      "cell_type": "code",
      "source": "data.isna().sum()",
      "metadata": {},
      "execution_count": null,
      "outputs": []
    },
    {
      "cell_type": "markdown",
      "source": "**2.4 Изменение типов данных**",
      "metadata": {}
    },
    {
      "cell_type": "markdown",
      "source": "Заменяем вещественный тип данных в столбце total_income на целочисленный с помощью метода astype()",
      "metadata": {}
    },
    {
      "cell_type": "code",
      "source": "data['total_income'] = data['total_income'].astype('int')",
      "metadata": {},
      "execution_count": null,
      "outputs": []
    },
    {
      "cell_type": "markdown",
      "source": "**2.5 Обработка дубликатов**",
      "metadata": {}
    },
    {
      "cell_type": "markdown",
      "source": "Обрабатываем неявные дубликаты в столбце education. В этом столбце есть одни и те же значения, но записанные по-разному: с использованием заглавных и строчных букв. Приведим их к нижнему регистру",
      "metadata": {}
    },
    {
      "cell_type": "code",
      "source": "data['education'] = data['education'].str.lower()",
      "metadata": {},
      "execution_count": null,
      "outputs": []
    },
    {
      "cell_type": "markdown",
      "source": "Выводим количество строк-дубликатов в данных и удаляем их",
      "metadata": {}
    },
    {
      "cell_type": "code",
      "source": "data.duplicated().sum()",
      "metadata": {},
      "execution_count": null,
      "outputs": []
    },
    {
      "cell_type": "code",
      "source": "data = data.drop_duplicates()",
      "metadata": {},
      "execution_count": null,
      "outputs": []
    },
    {
      "cell_type": "markdown",
      "source": "**2.6 Категоризация данных**",
      "metadata": {}
    },
    {
      "cell_type": "markdown",
      "source": "Формируем диапазоны и создаём в датафрейме на их основе столбец total_income_category с категориями:\n\n- 0–30000 — 'E';\n- 30001–50000 — 'D';\n- 50001–200000 — 'C';\n- 200001–1000000 — 'B';\n- 1000001 и выше — 'A'.\n\nИспользуем собственную функцию categorize_income() и метод apply()",
      "metadata": {}
    },
    {
      "cell_type": "code",
      "source": "def categorize_income(income):\n    if 0 <= income <= 30000:\n        return 'E'\n    elif 30001 <= income <= 50000:\n        return 'D'\n    elif 50001 <= income <= 200000:\n        return 'C'\n    elif 200001 <= income <= 1000000:\n        return 'B'\n    elif income >= 1000001:\n        return 'A'",
      "metadata": {},
      "execution_count": null,
      "outputs": []
    },
    {
      "cell_type": "code",
      "source": "data['total_income_category'] = data['total_income'].apply(categorize_income)",
      "metadata": {},
      "execution_count": null,
      "outputs": []
    },
    {
      "cell_type": "markdown",
      "source": "Выводим на экран перечень уникальных целей взятия кредита из столбца purpose",
      "metadata": {}
    },
    {
      "cell_type": "code",
      "source": "data['purpose'].unique()",
      "metadata": {},
      "execution_count": null,
      "outputs": []
    },
    {
      "cell_type": "markdown",
      "source": "Создаём функцию, которая на основании данных из столбца purpose сформирует новый столбец purpose_category, в который войдут следующие категории:\n\n- 'операции с автомобилем',\n- 'операции с недвижимостью',\n- 'проведение свадьбы',\n- 'получение образования'.\n\nИспользуем собственную функцию categorize_purpose() и метод apply(). Изучим данные в столбце purpose и определим, какие подстроки помогут нам правильно определить категорию",
      "metadata": {}
    },
    {
      "cell_type": "code",
      "source": "def categorize_purpose(purpose):\n    try:\n        if 'автом' in purpose:\n            return 'операции с автомобилем'\n        elif 'жил' in purpose or 'недвиж' in purpose:\n            return 'операции с недвижимостью'\n        elif 'свадьб' in purpose:\n            return 'проведение свадьбы'\n        elif 'образован' in purpose:\n            return 'получение образования'\n    except:\n        return 'категория не определена'",
      "metadata": {},
      "execution_count": null,
      "outputs": []
    },
    {
      "cell_type": "code",
      "source": "data['purpose_category'] = data['purpose'].apply(categorize_purpose)",
      "metadata": {},
      "execution_count": null,
      "outputs": []
    },
    {
      "cell_type": "markdown",
      "source": "### 3. Исследование данных и ответы на вопросы:\n\n**3.1 Зависимость между количеством детей и возвратом кредита в срок**",
      "metadata": {}
    },
    {
      "cell_type": "markdown",
      "source": "Группируем данные о просрочках клиентов по количеству детей и агрегируем их по: общему количеству клиентов, количеству клиентов с просрочкой, соотношению второго к первому. Сортируем по убыванию это соотношение для наглядности результата.",
      "metadata": {}
    },
    {
      "cell_type": "code",
      "source": "data.groupby('children')['debt'].agg(['count', 'sum', 'mean']) \\\n.rename(columns={'count': 'total_clients', 'sum': 'debtors', 'mean': 'ratio'}).sort_values(by='ratio', ascending=False)",
      "metadata": {},
      "execution_count": null,
      "outputs": []
    },
    {
      "cell_type": "markdown",
      "source": "**Вывод:** \n\nИсходя из данных таблицы, зависимость между количеством детей и возвратом кредита в срок присутствует. \n\nОбщий тренд говорит о том, что с возрастанием количества детей, относительное количество клиентов с просрочками растёт. \n\nКоличество клиентов с 5 детьми слишком мало, чтобы дать какую-то оценку по этой категории. \n\nТакже из общего тренда выбиваются клиенты с 3 детьми, однако в целом это не сильно влияет на общую картину.",
      "metadata": {}
    },
    {
      "cell_type": "markdown",
      "source": "**3.2 Зависимость между семейным положением и возвратом кредита в срок**",
      "metadata": {}
    },
    {
      "cell_type": "markdown",
      "source": "Группируем данные о просрочках клиентов по семейному положению и агрегируем их по: общему количеству клиентов, количеству клиентов с просрочкой, соотношению второго к первому. Сортируем по убыванию это соотношение для наглядности результата.",
      "metadata": {}
    },
    {
      "cell_type": "code",
      "source": "data.groupby('family_status')['debt'].agg(['count', 'sum', 'mean']) \\\n.rename(columns={'count': 'total_clients', 'sum': 'debtors', 'mean': 'ratio'}).sort_values(by='ratio', ascending=False)",
      "metadata": {},
      "execution_count": null,
      "outputs": []
    },
    {
      "cell_type": "markdown",
      "source": "**Вывод:**\n\nЗависимость между семейным положением и возвратом кредита в срок присутствует.\n\nТе клиенты, которые не были женаты/замужем, а также те клиенты, которые официально не регистрировали брак, чаще совершают просрочку по возврату кредита в относительном выражении, чем те клиенты, которые на данный момент женаты/замужем или были ранее в официально зарегистрированном браке.",
      "metadata": {}
    },
    {
      "cell_type": "markdown",
      "source": "**3.3 Зависимость между уровнем дохода и возвратом кредита в срок**",
      "metadata": {}
    },
    {
      "cell_type": "markdown",
      "source": "Группируем данные о просрочках клиентов по категориям доходов и агрегируем их по: общему количеству клиентов, количеству клиентов с просрочкой, соотношению второго к первому. Сортируем по убыванию это соотношение для наглядности результата.",
      "metadata": {}
    },
    {
      "cell_type": "code",
      "source": "data.groupby('total_income_category')['debt'].agg(['count', 'sum', 'mean']) \\\n.rename(columns={'count': 'total_clients', 'sum': 'debtors', 'mean': 'ratio'}).sort_values(by='ratio', ascending=False)",
      "metadata": {},
      "execution_count": null,
      "outputs": []
    },
    {
      "cell_type": "markdown",
      "source": "**Вывод:**\n\nКатегории по доходу:\n\n- 0–30000 — 'E';\n- 30001–50000 — 'D';\n- 50001–200000 — 'C';\n- 200001–1000000 — 'B';\n- 1000001 и выше — 'A'.\n\nИсходя из полученных данных, делаем вывод, что зависимости между уровнем дохода и возвратом кредита в срок нет, так как даже убрав категории E и A с небольшим количеством людей, явного тренда в ту или иную сторону нет.",
      "metadata": {}
    },
    {
      "cell_type": "markdown",
      "source": "**3.4 Как разные цели кредита влияют на его возврат в срок**",
      "metadata": {}
    },
    {
      "cell_type": "markdown",
      "source": "Группируем данные о просрочках клиентов по целям кредита и агрегируем их по: общему количеству клиентов, количеству клиентов с просрочкой, соотношению второго к первому. Сортируем по убыванию это соотношение для наглядности результата.",
      "metadata": {}
    },
    {
      "cell_type": "code",
      "source": "data.groupby('purpose_category')['debt'].agg(['count', 'sum', 'mean']) \\\n.rename(columns={'count': 'total_clients', 'sum': 'debtors', 'mean': 'ratio'}).sort_values(by='ratio', ascending=False)",
      "metadata": {},
      "execution_count": null,
      "outputs": []
    },
    {
      "cell_type": "markdown",
      "source": "**Вывод:**\n\nАнализ данных показал, что такие цели кредита, как операции с автомобилем и получение образования, в относительном выражении чаще сталкиваются с просрочкой клиентов, чем кредиты на проведение свадеб и на операции с недвижимостью.",
      "metadata": {}
    },
    {
      "cell_type": "markdown",
      "source": "### 4. Общий вывод\n\nНа основе проведённого исследования, можно заключить, что на возврат кредита в срок имеют влияние факторы: количество детей, семейное положение.\n\nУровень дохода не является показательным фактором влияния на возврат кредита в срок.\n\nКроме того, исследование по категориям целей кредита выявило закономерность: клиенты, которые берут кредит на автомобиль или получение образования, чаще не возвращают в срок, чем клиенты, которые берут кредит на проведение свадеб и операции с недвижимостью.",
      "metadata": {
        "jp-MarkdownHeadingCollapsed": true,
        "tags": []
      }
    },
    {
      "cell_type": "code",
      "source": "",
      "metadata": {},
      "execution_count": null,
      "outputs": []
    }
  ]
}