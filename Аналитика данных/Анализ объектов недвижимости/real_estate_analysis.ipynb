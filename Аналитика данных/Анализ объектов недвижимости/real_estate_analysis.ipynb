{
  "cells": [
    {
      "cell_type": "markdown",
      "metadata": {
        "id": "LmKhctPhVbti"
      },
      "source": [
        "# Исследование объявлений о продаже квартир"
      ]
    },
    {
      "cell_type": "markdown",
      "metadata": {
        "id": "UYIV5Bf5M17c"
      },
      "source": [
        "**План исследования:**\n",
        "1. Общая информация\n",
        "2. Предобработка данных:\n",
        "- 2.1 Работа с пропущенными значениями\n",
        "- 2.2 Замена типа данных\n",
        "- 2.3 Работа с неявными дубликатами\n",
        "- 2.4 Поиск и устранение аномальных значений\n",
        "3. Вспомогательные вычисления\n",
        "4. Исследовательский анализ данных:\n",
        "- 4.1 Изучение параметров объектов недвижимости\n",
        "- 4.2 Исследуем, как быстро продавались квартиры\n",
        "- 4.3 Факторы влияния на конечную стоимость объектов\n",
        "- 4.4 Анализ средней стоимости 1 кв.м\n",
        "5. Общий вывод\n"
      ]
    },
    {
      "cell_type": "markdown",
      "metadata": {
        "id": "GjKQ-S1RVbtm"
      },
      "source": [
        "### **1. Общая информация** "
      ]
    },
    {
      "cell_type": "markdown",
      "metadata": {
        "id": "8CuXVHbTVbtm"
      },
      "source": [
        "Импортируем pandas"
      ]
    },
    {
      "cell_type": "code",
      "execution_count": null,
      "metadata": {
        "id": "vZmGIM4gVbtn"
      },
      "outputs": [],
      "source": [
        "import pandas as pd"
      ]
    },
    {
      "cell_type": "markdown",
      "metadata": {
        "id": "ptmJAa4kVbto"
      },
      "source": [
        "Читаем файл"
      ]
    },
    {
      "cell_type": "code",
      "execution_count": null,
      "metadata": {
        "id": "jP2k501UVbto"
      },
      "outputs": [],
      "source": [
        "data = pd.read_csv('/datasets/real_estate_data.csv', sep='\\t')"
      ]
    },
    {
      "cell_type": "markdown",
      "metadata": {
        "id": "774qrQGWVbto"
      },
      "source": [
        "Просматриваем пять первых строк датафрейма"
      ]
    },
    {
      "cell_type": "code",
      "execution_count": null,
      "metadata": {
        "id": "ntGMzXO1Lf5V"
      },
      "outputs": [],
      "source": [
        "pd.set_option('display.max_columns', None)"
      ]
    },
    {
      "cell_type": "code",
      "execution_count": null,
      "metadata": {
        "colab": {
          "base_uri": "https://localhost:8080/",
          "height": 386
        },
        "id": "c3FStibjVbto",
        "outputId": "2994e3f4-5522-4df3-daa0-31e4485e948e"
      },
      "outputs": [
        {
          "data": {
            "text/html": [
              "<div>\n",
              "<style scoped>\n",
              "    .dataframe tbody tr th:only-of-type {\n",
              "        vertical-align: middle;\n",
              "    }\n",
              "\n",
              "    .dataframe tbody tr th {\n",
              "        vertical-align: top;\n",
              "    }\n",
              "\n",
              "    .dataframe thead th {\n",
              "        text-align: right;\n",
              "    }\n",
              "</style>\n",
              "<table border=\"1\" class=\"dataframe\">\n",
              "  <thead>\n",
              "    <tr style=\"text-align: right;\">\n",
              "      <th></th>\n",
              "      <th>total_images</th>\n",
              "      <th>last_price</th>\n",
              "      <th>total_area</th>\n",
              "      <th>first_day_exposition</th>\n",
              "      <th>rooms</th>\n",
              "      <th>ceiling_height</th>\n",
              "      <th>floors_total</th>\n",
              "      <th>living_area</th>\n",
              "      <th>floor</th>\n",
              "      <th>is_apartment</th>\n",
              "      <th>studio</th>\n",
              "      <th>open_plan</th>\n",
              "      <th>kitchen_area</th>\n",
              "      <th>balcony</th>\n",
              "      <th>locality_name</th>\n",
              "      <th>airports_nearest</th>\n",
              "      <th>cityCenters_nearest</th>\n",
              "      <th>parks_around3000</th>\n",
              "      <th>parks_nearest</th>\n",
              "      <th>ponds_around3000</th>\n",
              "      <th>ponds_nearest</th>\n",
              "      <th>days_exposition</th>\n",
              "    </tr>\n",
              "  </thead>\n",
              "  <tbody>\n",
              "    <tr>\n",
              "      <th>0</th>\n",
              "      <td>20</td>\n",
              "      <td>13000000.0</td>\n",
              "      <td>108.0</td>\n",
              "      <td>2019-03-07T00:00:00</td>\n",
              "      <td>3</td>\n",
              "      <td>2.70</td>\n",
              "      <td>16.0</td>\n",
              "      <td>51.0</td>\n",
              "      <td>8</td>\n",
              "      <td>NaN</td>\n",
              "      <td>False</td>\n",
              "      <td>False</td>\n",
              "      <td>25.0</td>\n",
              "      <td>NaN</td>\n",
              "      <td>Санкт-Петербург</td>\n",
              "      <td>18863.0</td>\n",
              "      <td>16028.0</td>\n",
              "      <td>1.0</td>\n",
              "      <td>482.0</td>\n",
              "      <td>2.0</td>\n",
              "      <td>755.0</td>\n",
              "      <td>NaN</td>\n",
              "    </tr>\n",
              "    <tr>\n",
              "      <th>1</th>\n",
              "      <td>7</td>\n",
              "      <td>3350000.0</td>\n",
              "      <td>40.4</td>\n",
              "      <td>2018-12-04T00:00:00</td>\n",
              "      <td>1</td>\n",
              "      <td>NaN</td>\n",
              "      <td>11.0</td>\n",
              "      <td>18.6</td>\n",
              "      <td>1</td>\n",
              "      <td>NaN</td>\n",
              "      <td>False</td>\n",
              "      <td>False</td>\n",
              "      <td>11.0</td>\n",
              "      <td>2.0</td>\n",
              "      <td>посёлок Шушары</td>\n",
              "      <td>12817.0</td>\n",
              "      <td>18603.0</td>\n",
              "      <td>0.0</td>\n",
              "      <td>NaN</td>\n",
              "      <td>0.0</td>\n",
              "      <td>NaN</td>\n",
              "      <td>81.0</td>\n",
              "    </tr>\n",
              "    <tr>\n",
              "      <th>2</th>\n",
              "      <td>10</td>\n",
              "      <td>5196000.0</td>\n",
              "      <td>56.0</td>\n",
              "      <td>2015-08-20T00:00:00</td>\n",
              "      <td>2</td>\n",
              "      <td>NaN</td>\n",
              "      <td>5.0</td>\n",
              "      <td>34.3</td>\n",
              "      <td>4</td>\n",
              "      <td>NaN</td>\n",
              "      <td>False</td>\n",
              "      <td>False</td>\n",
              "      <td>8.3</td>\n",
              "      <td>0.0</td>\n",
              "      <td>Санкт-Петербург</td>\n",
              "      <td>21741.0</td>\n",
              "      <td>13933.0</td>\n",
              "      <td>1.0</td>\n",
              "      <td>90.0</td>\n",
              "      <td>2.0</td>\n",
              "      <td>574.0</td>\n",
              "      <td>558.0</td>\n",
              "    </tr>\n",
              "    <tr>\n",
              "      <th>3</th>\n",
              "      <td>0</td>\n",
              "      <td>64900000.0</td>\n",
              "      <td>159.0</td>\n",
              "      <td>2015-07-24T00:00:00</td>\n",
              "      <td>3</td>\n",
              "      <td>NaN</td>\n",
              "      <td>14.0</td>\n",
              "      <td>NaN</td>\n",
              "      <td>9</td>\n",
              "      <td>NaN</td>\n",
              "      <td>False</td>\n",
              "      <td>False</td>\n",
              "      <td>NaN</td>\n",
              "      <td>0.0</td>\n",
              "      <td>Санкт-Петербург</td>\n",
              "      <td>28098.0</td>\n",
              "      <td>6800.0</td>\n",
              "      <td>2.0</td>\n",
              "      <td>84.0</td>\n",
              "      <td>3.0</td>\n",
              "      <td>234.0</td>\n",
              "      <td>424.0</td>\n",
              "    </tr>\n",
              "    <tr>\n",
              "      <th>4</th>\n",
              "      <td>2</td>\n",
              "      <td>10000000.0</td>\n",
              "      <td>100.0</td>\n",
              "      <td>2018-06-19T00:00:00</td>\n",
              "      <td>2</td>\n",
              "      <td>3.03</td>\n",
              "      <td>14.0</td>\n",
              "      <td>32.0</td>\n",
              "      <td>13</td>\n",
              "      <td>NaN</td>\n",
              "      <td>False</td>\n",
              "      <td>False</td>\n",
              "      <td>41.0</td>\n",
              "      <td>NaN</td>\n",
              "      <td>Санкт-Петербург</td>\n",
              "      <td>31856.0</td>\n",
              "      <td>8098.0</td>\n",
              "      <td>2.0</td>\n",
              "      <td>112.0</td>\n",
              "      <td>1.0</td>\n",
              "      <td>48.0</td>\n",
              "      <td>121.0</td>\n",
              "    </tr>\n",
              "  </tbody>\n",
              "</table>\n",
              "</div>"
            ],
            "text/plain": [
              "   total_images  last_price  total_area first_day_exposition  rooms  \\\n",
              "0            20  13000000.0       108.0  2019-03-07T00:00:00      3   \n",
              "1             7   3350000.0        40.4  2018-12-04T00:00:00      1   \n",
              "2            10   5196000.0        56.0  2015-08-20T00:00:00      2   \n",
              "3             0  64900000.0       159.0  2015-07-24T00:00:00      3   \n",
              "4             2  10000000.0       100.0  2018-06-19T00:00:00      2   \n",
              "\n",
              "   ceiling_height  floors_total  living_area  floor is_apartment  studio  \\\n",
              "0            2.70          16.0         51.0      8          NaN   False   \n",
              "1             NaN          11.0         18.6      1          NaN   False   \n",
              "2             NaN           5.0         34.3      4          NaN   False   \n",
              "3             NaN          14.0          NaN      9          NaN   False   \n",
              "4            3.03          14.0         32.0     13          NaN   False   \n",
              "\n",
              "   open_plan  kitchen_area  balcony    locality_name  airports_nearest  \\\n",
              "0      False          25.0      NaN  Санкт-Петербург           18863.0   \n",
              "1      False          11.0      2.0   посёлок Шушары           12817.0   \n",
              "2      False           8.3      0.0  Санкт-Петербург           21741.0   \n",
              "3      False           NaN      0.0  Санкт-Петербург           28098.0   \n",
              "4      False          41.0      NaN  Санкт-Петербург           31856.0   \n",
              "\n",
              "   cityCenters_nearest  parks_around3000  parks_nearest  ponds_around3000  \\\n",
              "0              16028.0               1.0          482.0               2.0   \n",
              "1              18603.0               0.0            NaN               0.0   \n",
              "2              13933.0               1.0           90.0               2.0   \n",
              "3               6800.0               2.0           84.0               3.0   \n",
              "4               8098.0               2.0          112.0               1.0   \n",
              "\n",
              "   ponds_nearest  days_exposition  \n",
              "0          755.0              NaN  \n",
              "1            NaN             81.0  \n",
              "2          574.0            558.0  \n",
              "3          234.0            424.0  \n",
              "4           48.0            121.0  "
            ]
          },
          "execution_count": 4,
          "metadata": {},
          "output_type": "execute_result"
        }
      ],
      "source": [
        "data.head()"
      ]
    },
    {
      "cell_type": "markdown",
      "metadata": {
        "id": "HjJCdxbuVbtp"
      },
      "source": [
        "Изучам общую информацию о датасете"
      ]
    },
    {
      "cell_type": "code",
      "execution_count": null,
      "metadata": {
        "colab": {
          "base_uri": "https://localhost:8080/"
        },
        "id": "0smIuHhpVbtq",
        "outputId": "31c66ab9-6a4e-4a4c-9173-bdda8e680126"
      },
      "outputs": [
        {
          "name": "stdout",
          "output_type": "stream",
          "text": [
            "<class 'pandas.core.frame.DataFrame'>\n",
            "RangeIndex: 23699 entries, 0 to 23698\n",
            "Data columns (total 22 columns):\n",
            " #   Column                Non-Null Count  Dtype  \n",
            "---  ------                --------------  -----  \n",
            " 0   total_images          23699 non-null  int64  \n",
            " 1   last_price            23699 non-null  float64\n",
            " 2   total_area            23699 non-null  float64\n",
            " 3   first_day_exposition  23699 non-null  object \n",
            " 4   rooms                 23699 non-null  int64  \n",
            " 5   ceiling_height        14504 non-null  float64\n",
            " 6   floors_total          23613 non-null  float64\n",
            " 7   living_area           21796 non-null  float64\n",
            " 8   floor                 23699 non-null  int64  \n",
            " 9   is_apartment          2775 non-null   object \n",
            " 10  studio                23699 non-null  bool   \n",
            " 11  open_plan             23699 non-null  bool   \n",
            " 12  kitchen_area          21421 non-null  float64\n",
            " 13  balcony               12180 non-null  float64\n",
            " 14  locality_name         23650 non-null  object \n",
            " 15  airports_nearest      18157 non-null  float64\n",
            " 16  cityCenters_nearest   18180 non-null  float64\n",
            " 17  parks_around3000      18181 non-null  float64\n",
            " 18  parks_nearest         8079 non-null   float64\n",
            " 19  ponds_around3000      18181 non-null  float64\n",
            " 20  ponds_nearest         9110 non-null   float64\n",
            " 21  days_exposition       20518 non-null  float64\n",
            "dtypes: bool(2), float64(14), int64(3), object(3)\n",
            "memory usage: 3.7+ MB\n"
          ]
        }
      ],
      "source": [
        "data.info()"
      ]
    },
    {
      "cell_type": "markdown",
      "metadata": {
        "id": "pfnBR3NJVbtq"
      },
      "source": [
        "Построим и изучим гистограммы ко всем численным столбцам"
      ]
    },
    {
      "cell_type": "code",
      "execution_count": null,
      "metadata": {
        "colab": {
          "base_uri": "https://localhost:8080/",
          "height": 1000
        },
        "id": "2maF_pUtVbtq",
        "outputId": "b0439d7a-daeb-448f-c16c-7173d8ee443e"
      },
      "outputs": [
        {
          "data": {
            "image/png": "[encoded data removed]",
            "text/plain": [
              "<Figure size 1080x1440 with 20 Axes>"
            ]
          },
          "metadata": {
            "needs_background": "light"
          },
          "output_type": "display_data"
        }
      ],
      "source": [
        "data.hist(figsize=(15, 20));"
      ]
    },
    {
      "cell_type": "markdown",
      "metadata": {
        "id": "mcIhpoLvK5tu"
      },
      "source": [
        "По первому взгляду на датасет, заметим, что присутствуют пропуски во многих колонках. Видно, что необходимо изменить тип данных в столбце с датой публикации на более удобный для работы. Также имеет смысл проверить столбец с названиями населённых пунктов на наличие неявных дубликатов. График высоты потолков выглядит довольно странно, а многие графики содержат в себе потенциальные аномально-большие значения.\n",
        "\n",
        "После общего изучения датасета можем приступить к предобработке данных"
      ]
    },
    {
      "cell_type": "markdown",
      "metadata": {
        "id": "EkBb3grVVbtq"
      },
      "source": [
        "### **2. Предобработка данных**"
      ]
    },
    {
      "cell_type": "markdown",
      "metadata": {
        "id": "dzu4MViMVbtr"
      },
      "source": [
        "**2.1. Работа с пропущенными значениями**\n",
        "\n",
        "Считаем количество пропущенных значений в столбцах"
      ]
    },
    {
      "cell_type": "code",
      "execution_count": null,
      "metadata": {
        "colab": {
          "base_uri": "https://localhost:8080/"
        },
        "id": "LpgjTPTHVbtr",
        "outputId": "253fd102-1e8c-4408-d7de-9ea7a62e424d",
        "scrolled": false
      },
      "outputs": [
        {
          "data": {
            "text/plain": [
              "total_images                0\n",
              "last_price                  0\n",
              "total_area                  0\n",
              "first_day_exposition        0\n",
              "rooms                       0\n",
              "ceiling_height           9195\n",
              "floors_total               86\n",
              "living_area              1903\n",
              "floor                       0\n",
              "is_apartment            20924\n",
              "studio                      0\n",
              "open_plan                   0\n",
              "kitchen_area             2278\n",
              "balcony                 11519\n",
              "locality_name              49\n",
              "airports_nearest         5542\n",
              "cityCenters_nearest      5519\n",
              "parks_around3000         5518\n",
              "parks_nearest           15620\n",
              "ponds_around3000         5518\n",
              "ponds_nearest           14589\n",
              "days_exposition          3181\n",
              "dtype: int64"
            ]
          },
          "execution_count": 7,
          "metadata": {},
          "output_type": "execute_result"
        }
      ],
      "source": [
        "data.isna().sum()"
      ]
    },
    {
      "cell_type": "markdown",
      "metadata": {
        "id": "rbsrb8HkVbtr"
      },
      "source": [
        "Заполняем пропуски в колонке балконы нулями, а в колонке апартаменты значением False. Если продавцы пропустили это значение, значит, вероятнее всего, балконы в этих объектах недвижимости отсутствуют, и недвижимость не является апартаментами"
      ]
    },
    {
      "cell_type": "code",
      "execution_count": null,
      "metadata": {
        "id": "1eX1fMS1Vbtr"
      },
      "outputs": [],
      "source": [
        "data['balcony'] = data['balcony'].fillna(0)\n",
        "data['is_apartment'] = data['is_apartment'].fillna(False)"
      ]
    },
    {
      "cell_type": "markdown",
      "metadata": {
        "id": "ReFaeYMGVbtr"
      },
      "source": [
        "По этой же логике заполняем столбцы:\n",
        "- число парков в радиусе 3 км;\n",
        "- число водоёмов в радиусе 3 км.\n",
        "\n",
        "Скорее всего, эти данные были сгенерированы автоматически, т.к. количество пропусков в столбцах идентично, но логика заполнения их нулями такая же, как и в случае с балконами."
      ]
    },
    {
      "cell_type": "code",
      "execution_count": null,
      "metadata": {
        "id": "Ogy2frXSVbts"
      },
      "outputs": [],
      "source": [
        "data['parks_around3000'] = data['parks_around3000'].fillna(0)\n",
        "data['ponds_around3000'] = data['ponds_around3000'].fillna(0)"
      ]
    },
    {
      "cell_type": "markdown",
      "metadata": {
        "id": "TFft1GzrVbts"
      },
      "source": [
        "Заполнение пропусков в столбцах: расстояния до ближайшего парка/водоёма/аэропорта, жилая площадь, площадь кухни, высота потолков какими-либо средними или медианными значениями неуместно, т.к. эти факторы напрямую влияют на рыночную стоимость каждого отдельного объекта недвижимости. В данной ситуации лучше, если система будет работать с меньшим количеством, но реальных данных, чтобы научиться более точно определять рыночную стоимость."
      ]
    },
    {
      "cell_type": "markdown",
      "metadata": {
        "id": "T2z2YKm8Vbts"
      },
      "source": [
        "Столбец с пропусками в количестве дней размещения объявления также оставляем без изменения по той причине, что большое количество пропусков может повлиять на общую картину исследования. В данной ситуации заполнение медианой или средним исказит статистику"
      ]
    },
    {
      "cell_type": "markdown",
      "metadata": {
        "id": "t3sfDGkoVbts"
      },
      "source": [
        "Столбец всего этажей в доме можно заполнить медианным значением, т.к. количество пропусков незначительное и не повлияет на общую картину, если мы возьмём серединное значение"
      ]
    },
    {
      "cell_type": "code",
      "execution_count": null,
      "metadata": {
        "id": "NUWKEB59Vbts"
      },
      "outputs": [],
      "source": [
        "data['floors_total'] = data['floors_total'].fillna(data['floors_total'].median())"
      ]
    },
    {
      "cell_type": "markdown",
      "metadata": {
        "id": "vju98VMGLf5Z"
      },
      "source": [
        "Проверяем, не превышает ли этаж квартиры общую этажность, и если это так, меняем общую этажность на значение этажа квартиры"
      ]
    },
    {
      "cell_type": "code",
      "execution_count": null,
      "metadata": {
        "id": "QeinIaKvLf5Z",
        "outputId": "ef433469-0313-4d2a-b60d-34eed2033f1d"
      },
      "outputs": [
        {
          "data": {
            "text/html": [
              "<div>\n",
              "<style scoped>\n",
              "    .dataframe tbody tr th:only-of-type {\n",
              "        vertical-align: middle;\n",
              "    }\n",
              "\n",
              "    .dataframe tbody tr th {\n",
              "        vertical-align: top;\n",
              "    }\n",
              "\n",
              "    .dataframe thead th {\n",
              "        text-align: right;\n",
              "    }\n",
              "</style>\n",
              "<table border=\"1\" class=\"dataframe\">\n",
              "  <thead>\n",
              "    <tr style=\"text-align: right;\">\n",
              "      <th></th>\n",
              "      <th>total_images</th>\n",
              "      <th>last_price</th>\n",
              "      <th>total_area</th>\n",
              "      <th>first_day_exposition</th>\n",
              "      <th>rooms</th>\n",
              "      <th>ceiling_height</th>\n",
              "      <th>floors_total</th>\n",
              "      <th>living_area</th>\n",
              "      <th>floor</th>\n",
              "      <th>is_apartment</th>\n",
              "      <th>studio</th>\n",
              "      <th>open_plan</th>\n",
              "      <th>kitchen_area</th>\n",
              "      <th>balcony</th>\n",
              "      <th>locality_name</th>\n",
              "      <th>airports_nearest</th>\n",
              "      <th>cityCenters_nearest</th>\n",
              "      <th>parks_around3000</th>\n",
              "      <th>parks_nearest</th>\n",
              "      <th>ponds_around3000</th>\n",
              "      <th>ponds_nearest</th>\n",
              "      <th>days_exposition</th>\n",
              "    </tr>\n",
              "  </thead>\n",
              "  <tbody>\n",
              "    <tr>\n",
              "      <th>457</th>\n",
              "      <td>4</td>\n",
              "      <td>9788348.0</td>\n",
              "      <td>70.80</td>\n",
              "      <td>2015-08-01T00:00:00</td>\n",
              "      <td>2</td>\n",
              "      <td>NaN</td>\n",
              "      <td>9.0</td>\n",
              "      <td>38.40</td>\n",
              "      <td>12</td>\n",
              "      <td>False</td>\n",
              "      <td>False</td>\n",
              "      <td>False</td>\n",
              "      <td>10.63</td>\n",
              "      <td>0.0</td>\n",
              "      <td>Санкт-Петербург</td>\n",
              "      <td>37364.0</td>\n",
              "      <td>8322.0</td>\n",
              "      <td>2.0</td>\n",
              "      <td>309.0</td>\n",
              "      <td>2.0</td>\n",
              "      <td>706.0</td>\n",
              "      <td>727.0</td>\n",
              "    </tr>\n",
              "    <tr>\n",
              "      <th>2392</th>\n",
              "      <td>7</td>\n",
              "      <td>5395770.0</td>\n",
              "      <td>53.00</td>\n",
              "      <td>2017-06-29T00:00:00</td>\n",
              "      <td>2</td>\n",
              "      <td>NaN</td>\n",
              "      <td>9.0</td>\n",
              "      <td>29.00</td>\n",
              "      <td>22</td>\n",
              "      <td>False</td>\n",
              "      <td>False</td>\n",
              "      <td>False</td>\n",
              "      <td>9.00</td>\n",
              "      <td>0.0</td>\n",
              "      <td>Санкт-Петербург</td>\n",
              "      <td>43074.0</td>\n",
              "      <td>10820.0</td>\n",
              "      <td>0.0</td>\n",
              "      <td>NaN</td>\n",
              "      <td>0.0</td>\n",
              "      <td>NaN</td>\n",
              "      <td>48.0</td>\n",
              "    </tr>\n",
              "    <tr>\n",
              "      <th>2846</th>\n",
              "      <td>4</td>\n",
              "      <td>2325000.0</td>\n",
              "      <td>27.80</td>\n",
              "      <td>2016-09-21T00:00:00</td>\n",
              "      <td>1</td>\n",
              "      <td>NaN</td>\n",
              "      <td>9.0</td>\n",
              "      <td>19.40</td>\n",
              "      <td>15</td>\n",
              "      <td>False</td>\n",
              "      <td>False</td>\n",
              "      <td>False</td>\n",
              "      <td>NaN</td>\n",
              "      <td>0.0</td>\n",
              "      <td>Санкт-Петербург</td>\n",
              "      <td>22041.0</td>\n",
              "      <td>17369.0</td>\n",
              "      <td>0.0</td>\n",
              "      <td>NaN</td>\n",
              "      <td>1.0</td>\n",
              "      <td>374.0</td>\n",
              "      <td>307.0</td>\n",
              "    </tr>\n",
              "    <tr>\n",
              "      <th>3031</th>\n",
              "      <td>9</td>\n",
              "      <td>6400000.0</td>\n",
              "      <td>56.70</td>\n",
              "      <td>2018-03-27T00:00:00</td>\n",
              "      <td>2</td>\n",
              "      <td>NaN</td>\n",
              "      <td>9.0</td>\n",
              "      <td>32.00</td>\n",
              "      <td>12</td>\n",
              "      <td>False</td>\n",
              "      <td>False</td>\n",
              "      <td>False</td>\n",
              "      <td>12.00</td>\n",
              "      <td>0.0</td>\n",
              "      <td>Кудрово</td>\n",
              "      <td>NaN</td>\n",
              "      <td>NaN</td>\n",
              "      <td>0.0</td>\n",
              "      <td>NaN</td>\n",
              "      <td>0.0</td>\n",
              "      <td>NaN</td>\n",
              "      <td>231.0</td>\n",
              "    </tr>\n",
              "    <tr>\n",
              "      <th>3438</th>\n",
              "      <td>10</td>\n",
              "      <td>4100000.0</td>\n",
              "      <td>38.00</td>\n",
              "      <td>2018-04-14T00:00:00</td>\n",
              "      <td>1</td>\n",
              "      <td>NaN</td>\n",
              "      <td>9.0</td>\n",
              "      <td>19.00</td>\n",
              "      <td>12</td>\n",
              "      <td>False</td>\n",
              "      <td>False</td>\n",
              "      <td>False</td>\n",
              "      <td>10.30</td>\n",
              "      <td>0.0</td>\n",
              "      <td>Кудрово</td>\n",
              "      <td>NaN</td>\n",
              "      <td>NaN</td>\n",
              "      <td>0.0</td>\n",
              "      <td>NaN</td>\n",
              "      <td>0.0</td>\n",
              "      <td>NaN</td>\n",
              "      <td>95.0</td>\n",
              "    </tr>\n",
              "    <tr>\n",
              "      <th>4617</th>\n",
              "      <td>4</td>\n",
              "      <td>4275062.0</td>\n",
              "      <td>61.20</td>\n",
              "      <td>2017-04-27T00:00:00</td>\n",
              "      <td>2</td>\n",
              "      <td>NaN</td>\n",
              "      <td>9.0</td>\n",
              "      <td>32.00</td>\n",
              "      <td>12</td>\n",
              "      <td>False</td>\n",
              "      <td>False</td>\n",
              "      <td>False</td>\n",
              "      <td>12.20</td>\n",
              "      <td>0.0</td>\n",
              "      <td>Санкт-Петербург</td>\n",
              "      <td>22041.0</td>\n",
              "      <td>17369.0</td>\n",
              "      <td>0.0</td>\n",
              "      <td>NaN</td>\n",
              "      <td>1.0</td>\n",
              "      <td>374.0</td>\n",
              "      <td>72.0</td>\n",
              "    </tr>\n",
              "    <tr>\n",
              "      <th>4848</th>\n",
              "      <td>15</td>\n",
              "      <td>13000000.0</td>\n",
              "      <td>98.00</td>\n",
              "      <td>2017-02-08T00:00:00</td>\n",
              "      <td>3</td>\n",
              "      <td>NaN</td>\n",
              "      <td>9.0</td>\n",
              "      <td>NaN</td>\n",
              "      <td>18</td>\n",
              "      <td>False</td>\n",
              "      <td>False</td>\n",
              "      <td>False</td>\n",
              "      <td>NaN</td>\n",
              "      <td>0.0</td>\n",
              "      <td>Санкт-Петербург</td>\n",
              "      <td>37625.0</td>\n",
              "      <td>14153.0</td>\n",
              "      <td>0.0</td>\n",
              "      <td>NaN</td>\n",
              "      <td>0.0</td>\n",
              "      <td>NaN</td>\n",
              "      <td>29.0</td>\n",
              "    </tr>\n",
              "    <tr>\n",
              "      <th>5146</th>\n",
              "      <td>10</td>\n",
              "      <td>3085024.0</td>\n",
              "      <td>33.33</td>\n",
              "      <td>2018-10-06T00:00:00</td>\n",
              "      <td>1</td>\n",
              "      <td>NaN</td>\n",
              "      <td>9.0</td>\n",
              "      <td>11.00</td>\n",
              "      <td>12</td>\n",
              "      <td>False</td>\n",
              "      <td>False</td>\n",
              "      <td>False</td>\n",
              "      <td>NaN</td>\n",
              "      <td>0.0</td>\n",
              "      <td>Санкт-Петербург</td>\n",
              "      <td>47303.0</td>\n",
              "      <td>25865.0</td>\n",
              "      <td>1.0</td>\n",
              "      <td>400.0</td>\n",
              "      <td>1.0</td>\n",
              "      <td>492.0</td>\n",
              "      <td>140.0</td>\n",
              "    </tr>\n",
              "    <tr>\n",
              "      <th>5187</th>\n",
              "      <td>5</td>\n",
              "      <td>3300000.0</td>\n",
              "      <td>25.40</td>\n",
              "      <td>2018-11-02T00:00:00</td>\n",
              "      <td>0</td>\n",
              "      <td>NaN</td>\n",
              "      <td>9.0</td>\n",
              "      <td>NaN</td>\n",
              "      <td>15</td>\n",
              "      <td>False</td>\n",
              "      <td>True</td>\n",
              "      <td>False</td>\n",
              "      <td>NaN</td>\n",
              "      <td>0.0</td>\n",
              "      <td>посёлок Мурино</td>\n",
              "      <td>NaN</td>\n",
              "      <td>NaN</td>\n",
              "      <td>0.0</td>\n",
              "      <td>NaN</td>\n",
              "      <td>0.0</td>\n",
              "      <td>NaN</td>\n",
              "      <td>3.0</td>\n",
              "    </tr>\n",
              "    <tr>\n",
              "      <th>5784</th>\n",
              "      <td>4</td>\n",
              "      <td>4262941.0</td>\n",
              "      <td>59.90</td>\n",
              "      <td>2017-04-02T00:00:00</td>\n",
              "      <td>2</td>\n",
              "      <td>NaN</td>\n",
              "      <td>9.0</td>\n",
              "      <td>31.70</td>\n",
              "      <td>18</td>\n",
              "      <td>False</td>\n",
              "      <td>False</td>\n",
              "      <td>False</td>\n",
              "      <td>11.90</td>\n",
              "      <td>0.0</td>\n",
              "      <td>Санкт-Петербург</td>\n",
              "      <td>22041.0</td>\n",
              "      <td>17369.0</td>\n",
              "      <td>0.0</td>\n",
              "      <td>NaN</td>\n",
              "      <td>1.0</td>\n",
              "      <td>374.0</td>\n",
              "      <td>127.0</td>\n",
              "    </tr>\n",
              "    <tr>\n",
              "      <th>5958</th>\n",
              "      <td>1</td>\n",
              "      <td>3200000.0</td>\n",
              "      <td>30.30</td>\n",
              "      <td>2018-09-07T00:00:00</td>\n",
              "      <td>0</td>\n",
              "      <td>NaN</td>\n",
              "      <td>9.0</td>\n",
              "      <td>NaN</td>\n",
              "      <td>13</td>\n",
              "      <td>False</td>\n",
              "      <td>True</td>\n",
              "      <td>False</td>\n",
              "      <td>NaN</td>\n",
              "      <td>0.0</td>\n",
              "      <td>Санкт-Петербург</td>\n",
              "      <td>22735.0</td>\n",
              "      <td>11618.0</td>\n",
              "      <td>1.0</td>\n",
              "      <td>835.0</td>\n",
              "      <td>1.0</td>\n",
              "      <td>652.0</td>\n",
              "      <td>68.0</td>\n",
              "    </tr>\n",
              "    <tr>\n",
              "      <th>6030</th>\n",
              "      <td>3</td>\n",
              "      <td>10900000.0</td>\n",
              "      <td>116.23</td>\n",
              "      <td>2017-05-05T00:00:00</td>\n",
              "      <td>4</td>\n",
              "      <td>NaN</td>\n",
              "      <td>9.0</td>\n",
              "      <td>NaN</td>\n",
              "      <td>24</td>\n",
              "      <td>False</td>\n",
              "      <td>False</td>\n",
              "      <td>False</td>\n",
              "      <td>NaN</td>\n",
              "      <td>0.0</td>\n",
              "      <td>Санкт-Петербург</td>\n",
              "      <td>35234.0</td>\n",
              "      <td>14674.0</td>\n",
              "      <td>0.0</td>\n",
              "      <td>NaN</td>\n",
              "      <td>1.0</td>\n",
              "      <td>844.0</td>\n",
              "      <td>83.0</td>\n",
              "    </tr>\n",
              "    <tr>\n",
              "      <th>7922</th>\n",
              "      <td>3</td>\n",
              "      <td>5426412.0</td>\n",
              "      <td>50.11</td>\n",
              "      <td>2016-06-08T00:00:00</td>\n",
              "      <td>2</td>\n",
              "      <td>NaN</td>\n",
              "      <td>9.0</td>\n",
              "      <td>26.94</td>\n",
              "      <td>24</td>\n",
              "      <td>False</td>\n",
              "      <td>False</td>\n",
              "      <td>False</td>\n",
              "      <td>11.13</td>\n",
              "      <td>0.0</td>\n",
              "      <td>Санкт-Петербург</td>\n",
              "      <td>7050.0</td>\n",
              "      <td>13266.0</td>\n",
              "      <td>1.0</td>\n",
              "      <td>868.0</td>\n",
              "      <td>0.0</td>\n",
              "      <td>NaN</td>\n",
              "      <td>14.0</td>\n",
              "    </tr>\n",
              "    <tr>\n",
              "      <th>8478</th>\n",
              "      <td>19</td>\n",
              "      <td>13500000.0</td>\n",
              "      <td>77.80</td>\n",
              "      <td>2019-04-17T00:00:00</td>\n",
              "      <td>2</td>\n",
              "      <td>2.80</td>\n",
              "      <td>9.0</td>\n",
              "      <td>39.41</td>\n",
              "      <td>21</td>\n",
              "      <td>False</td>\n",
              "      <td>False</td>\n",
              "      <td>False</td>\n",
              "      <td>13.27</td>\n",
              "      <td>2.0</td>\n",
              "      <td>Санкт-Петербург</td>\n",
              "      <td>12838.0</td>\n",
              "      <td>11477.0</td>\n",
              "      <td>1.0</td>\n",
              "      <td>593.0</td>\n",
              "      <td>1.0</td>\n",
              "      <td>130.0</td>\n",
              "      <td>NaN</td>\n",
              "    </tr>\n",
              "    <tr>\n",
              "      <th>9023</th>\n",
              "      <td>5</td>\n",
              "      <td>2900000.0</td>\n",
              "      <td>35.10</td>\n",
              "      <td>2018-07-18T00:00:00</td>\n",
              "      <td>1</td>\n",
              "      <td>NaN</td>\n",
              "      <td>9.0</td>\n",
              "      <td>NaN</td>\n",
              "      <td>11</td>\n",
              "      <td>False</td>\n",
              "      <td>False</td>\n",
              "      <td>False</td>\n",
              "      <td>NaN</td>\n",
              "      <td>0.0</td>\n",
              "      <td>городской посёлок Новоселье</td>\n",
              "      <td>NaN</td>\n",
              "      <td>NaN</td>\n",
              "      <td>0.0</td>\n",
              "      <td>NaN</td>\n",
              "      <td>0.0</td>\n",
              "      <td>NaN</td>\n",
              "      <td>26.0</td>\n",
              "    </tr>\n",
              "    <tr>\n",
              "      <th>10013</th>\n",
              "      <td>4</td>\n",
              "      <td>4558637.0</td>\n",
              "      <td>64.40</td>\n",
              "      <td>2016-09-21T00:00:00</td>\n",
              "      <td>2</td>\n",
              "      <td>NaN</td>\n",
              "      <td>9.0</td>\n",
              "      <td>31.70</td>\n",
              "      <td>19</td>\n",
              "      <td>False</td>\n",
              "      <td>False</td>\n",
              "      <td>False</td>\n",
              "      <td>14.40</td>\n",
              "      <td>0.0</td>\n",
              "      <td>Санкт-Петербург</td>\n",
              "      <td>22041.0</td>\n",
              "      <td>17369.0</td>\n",
              "      <td>0.0</td>\n",
              "      <td>NaN</td>\n",
              "      <td>1.0</td>\n",
              "      <td>374.0</td>\n",
              "      <td>320.0</td>\n",
              "    </tr>\n",
              "    <tr>\n",
              "      <th>10027</th>\n",
              "      <td>4</td>\n",
              "      <td>4650259.0</td>\n",
              "      <td>67.50</td>\n",
              "      <td>2017-04-01T00:00:00</td>\n",
              "      <td>2</td>\n",
              "      <td>NaN</td>\n",
              "      <td>9.0</td>\n",
              "      <td>31.30</td>\n",
              "      <td>20</td>\n",
              "      <td>False</td>\n",
              "      <td>False</td>\n",
              "      <td>False</td>\n",
              "      <td>14.40</td>\n",
              "      <td>0.0</td>\n",
              "      <td>Санкт-Петербург</td>\n",
              "      <td>22041.0</td>\n",
              "      <td>17369.0</td>\n",
              "      <td>0.0</td>\n",
              "      <td>NaN</td>\n",
              "      <td>1.0</td>\n",
              "      <td>374.0</td>\n",
              "      <td>116.0</td>\n",
              "    </tr>\n",
              "    <tr>\n",
              "      <th>10058</th>\n",
              "      <td>9</td>\n",
              "      <td>3350000.0</td>\n",
              "      <td>25.00</td>\n",
              "      <td>2018-09-10T00:00:00</td>\n",
              "      <td>1</td>\n",
              "      <td>2.65</td>\n",
              "      <td>9.0</td>\n",
              "      <td>17.00</td>\n",
              "      <td>21</td>\n",
              "      <td>False</td>\n",
              "      <td>False</td>\n",
              "      <td>False</td>\n",
              "      <td>3.50</td>\n",
              "      <td>0.0</td>\n",
              "      <td>посёлок Шушары</td>\n",
              "      <td>NaN</td>\n",
              "      <td>NaN</td>\n",
              "      <td>0.0</td>\n",
              "      <td>NaN</td>\n",
              "      <td>0.0</td>\n",
              "      <td>NaN</td>\n",
              "      <td>23.0</td>\n",
              "    </tr>\n",
              "    <tr>\n",
              "      <th>10531</th>\n",
              "      <td>3</td>\n",
              "      <td>6595420.0</td>\n",
              "      <td>61.80</td>\n",
              "      <td>2016-05-21T00:00:00</td>\n",
              "      <td>2</td>\n",
              "      <td>NaN</td>\n",
              "      <td>9.0</td>\n",
              "      <td>30.01</td>\n",
              "      <td>12</td>\n",
              "      <td>False</td>\n",
              "      <td>False</td>\n",
              "      <td>False</td>\n",
              "      <td>10.08</td>\n",
              "      <td>0.0</td>\n",
              "      <td>Санкт-Петербург</td>\n",
              "      <td>7050.0</td>\n",
              "      <td>13266.0</td>\n",
              "      <td>1.0</td>\n",
              "      <td>868.0</td>\n",
              "      <td>0.0</td>\n",
              "      <td>NaN</td>\n",
              "      <td>112.0</td>\n",
              "    </tr>\n",
              "    <tr>\n",
              "      <th>10983</th>\n",
              "      <td>6</td>\n",
              "      <td>4670000.0</td>\n",
              "      <td>37.80</td>\n",
              "      <td>2019-03-13T00:00:00</td>\n",
              "      <td>1</td>\n",
              "      <td>NaN</td>\n",
              "      <td>9.0</td>\n",
              "      <td>16.90</td>\n",
              "      <td>14</td>\n",
              "      <td>False</td>\n",
              "      <td>False</td>\n",
              "      <td>False</td>\n",
              "      <td>9.50</td>\n",
              "      <td>0.0</td>\n",
              "      <td>Санкт-Петербург</td>\n",
              "      <td>23982.0</td>\n",
              "      <td>11634.0</td>\n",
              "      <td>0.0</td>\n",
              "      <td>NaN</td>\n",
              "      <td>0.0</td>\n",
              "      <td>NaN</td>\n",
              "      <td>NaN</td>\n",
              "    </tr>\n",
              "    <tr>\n",
              "      <th>11129</th>\n",
              "      <td>10</td>\n",
              "      <td>3128418.0</td>\n",
              "      <td>34.53</td>\n",
              "      <td>2018-10-01T00:00:00</td>\n",
              "      <td>1</td>\n",
              "      <td>NaN</td>\n",
              "      <td>9.0</td>\n",
              "      <td>11.00</td>\n",
              "      <td>13</td>\n",
              "      <td>False</td>\n",
              "      <td>False</td>\n",
              "      <td>False</td>\n",
              "      <td>NaN</td>\n",
              "      <td>0.0</td>\n",
              "      <td>Санкт-Петербург</td>\n",
              "      <td>47303.0</td>\n",
              "      <td>25865.0</td>\n",
              "      <td>1.0</td>\n",
              "      <td>400.0</td>\n",
              "      <td>1.0</td>\n",
              "      <td>492.0</td>\n",
              "      <td>145.0</td>\n",
              "    </tr>\n",
              "    <tr>\n",
              "      <th>13438</th>\n",
              "      <td>4</td>\n",
              "      <td>4403541.0</td>\n",
              "      <td>65.30</td>\n",
              "      <td>2016-09-21T00:00:00</td>\n",
              "      <td>2</td>\n",
              "      <td>NaN</td>\n",
              "      <td>9.0</td>\n",
              "      <td>31.60</td>\n",
              "      <td>11</td>\n",
              "      <td>False</td>\n",
              "      <td>False</td>\n",
              "      <td>False</td>\n",
              "      <td>12.20</td>\n",
              "      <td>0.0</td>\n",
              "      <td>Санкт-Петербург</td>\n",
              "      <td>22041.0</td>\n",
              "      <td>17369.0</td>\n",
              "      <td>0.0</td>\n",
              "      <td>NaN</td>\n",
              "      <td>1.0</td>\n",
              "      <td>374.0</td>\n",
              "      <td>320.0</td>\n",
              "    </tr>\n",
              "    <tr>\n",
              "      <th>13622</th>\n",
              "      <td>3</td>\n",
              "      <td>7650000.0</td>\n",
              "      <td>88.84</td>\n",
              "      <td>2016-05-21T00:00:00</td>\n",
              "      <td>3</td>\n",
              "      <td>NaN</td>\n",
              "      <td>9.0</td>\n",
              "      <td>49.87</td>\n",
              "      <td>21</td>\n",
              "      <td>False</td>\n",
              "      <td>False</td>\n",
              "      <td>False</td>\n",
              "      <td>9.76</td>\n",
              "      <td>0.0</td>\n",
              "      <td>Санкт-Петербург</td>\n",
              "      <td>35234.0</td>\n",
              "      <td>14674.0</td>\n",
              "      <td>0.0</td>\n",
              "      <td>NaN</td>\n",
              "      <td>1.0</td>\n",
              "      <td>844.0</td>\n",
              "      <td>42.0</td>\n",
              "    </tr>\n",
              "    <tr>\n",
              "      <th>14094</th>\n",
              "      <td>5</td>\n",
              "      <td>3290000.0</td>\n",
              "      <td>33.00</td>\n",
              "      <td>2018-02-01T00:00:00</td>\n",
              "      <td>1</td>\n",
              "      <td>NaN</td>\n",
              "      <td>9.0</td>\n",
              "      <td>NaN</td>\n",
              "      <td>17</td>\n",
              "      <td>False</td>\n",
              "      <td>False</td>\n",
              "      <td>False</td>\n",
              "      <td>NaN</td>\n",
              "      <td>0.0</td>\n",
              "      <td>деревня Новое Девяткино</td>\n",
              "      <td>NaN</td>\n",
              "      <td>NaN</td>\n",
              "      <td>0.0</td>\n",
              "      <td>NaN</td>\n",
              "      <td>0.0</td>\n",
              "      <td>NaN</td>\n",
              "      <td>440.0</td>\n",
              "    </tr>\n",
              "    <tr>\n",
              "      <th>14264</th>\n",
              "      <td>13</td>\n",
              "      <td>14000000.0</td>\n",
              "      <td>94.00</td>\n",
              "      <td>2019-01-23T00:00:00</td>\n",
              "      <td>6</td>\n",
              "      <td>2.65</td>\n",
              "      <td>9.0</td>\n",
              "      <td>51.00</td>\n",
              "      <td>23</td>\n",
              "      <td>False</td>\n",
              "      <td>False</td>\n",
              "      <td>False</td>\n",
              "      <td>16.30</td>\n",
              "      <td>0.0</td>\n",
              "      <td>Санкт-Петербург</td>\n",
              "      <td>51333.0</td>\n",
              "      <td>13056.0</td>\n",
              "      <td>0.0</td>\n",
              "      <td>NaN</td>\n",
              "      <td>0.0</td>\n",
              "      <td>NaN</td>\n",
              "      <td>NaN</td>\n",
              "    </tr>\n",
              "    <tr>\n",
              "      <th>14526</th>\n",
              "      <td>1</td>\n",
              "      <td>5595000.0</td>\n",
              "      <td>52.47</td>\n",
              "      <td>2016-03-23T00:00:00</td>\n",
              "      <td>2</td>\n",
              "      <td>NaN</td>\n",
              "      <td>9.0</td>\n",
              "      <td>NaN</td>\n",
              "      <td>10</td>\n",
              "      <td>False</td>\n",
              "      <td>False</td>\n",
              "      <td>False</td>\n",
              "      <td>NaN</td>\n",
              "      <td>0.0</td>\n",
              "      <td>Санкт-Петербург</td>\n",
              "      <td>7050.0</td>\n",
              "      <td>13266.0</td>\n",
              "      <td>1.0</td>\n",
              "      <td>868.0</td>\n",
              "      <td>0.0</td>\n",
              "      <td>NaN</td>\n",
              "      <td>90.0</td>\n",
              "    </tr>\n",
              "    <tr>\n",
              "      <th>16591</th>\n",
              "      <td>8</td>\n",
              "      <td>4500000.0</td>\n",
              "      <td>37.60</td>\n",
              "      <td>2018-07-10T00:00:00</td>\n",
              "      <td>1</td>\n",
              "      <td>NaN</td>\n",
              "      <td>9.0</td>\n",
              "      <td>17.50</td>\n",
              "      <td>11</td>\n",
              "      <td>False</td>\n",
              "      <td>False</td>\n",
              "      <td>False</td>\n",
              "      <td>11.00</td>\n",
              "      <td>0.0</td>\n",
              "      <td>Санкт-Петербург</td>\n",
              "      <td>37625.0</td>\n",
              "      <td>14153.0</td>\n",
              "      <td>0.0</td>\n",
              "      <td>NaN</td>\n",
              "      <td>0.0</td>\n",
              "      <td>NaN</td>\n",
              "      <td>8.0</td>\n",
              "    </tr>\n",
              "    <tr>\n",
              "      <th>16850</th>\n",
              "      <td>4</td>\n",
              "      <td>6188957.0</td>\n",
              "      <td>90.20</td>\n",
              "      <td>2016-09-21T00:00:00</td>\n",
              "      <td>3</td>\n",
              "      <td>NaN</td>\n",
              "      <td>9.0</td>\n",
              "      <td>47.70</td>\n",
              "      <td>14</td>\n",
              "      <td>False</td>\n",
              "      <td>False</td>\n",
              "      <td>False</td>\n",
              "      <td>16.70</td>\n",
              "      <td>0.0</td>\n",
              "      <td>Санкт-Петербург</td>\n",
              "      <td>22041.0</td>\n",
              "      <td>17369.0</td>\n",
              "      <td>0.0</td>\n",
              "      <td>NaN</td>\n",
              "      <td>1.0</td>\n",
              "      <td>374.0</td>\n",
              "      <td>320.0</td>\n",
              "    </tr>\n",
              "    <tr>\n",
              "      <th>17498</th>\n",
              "      <td>4</td>\n",
              "      <td>4252249.0</td>\n",
              "      <td>60.20</td>\n",
              "      <td>2017-04-01T00:00:00</td>\n",
              "      <td>2</td>\n",
              "      <td>NaN</td>\n",
              "      <td>9.0</td>\n",
              "      <td>31.80</td>\n",
              "      <td>13</td>\n",
              "      <td>False</td>\n",
              "      <td>False</td>\n",
              "      <td>False</td>\n",
              "      <td>12.10</td>\n",
              "      <td>0.0</td>\n",
              "      <td>Санкт-Петербург</td>\n",
              "      <td>22041.0</td>\n",
              "      <td>17369.0</td>\n",
              "      <td>0.0</td>\n",
              "      <td>NaN</td>\n",
              "      <td>1.0</td>\n",
              "      <td>374.0</td>\n",
              "      <td>128.0</td>\n",
              "    </tr>\n",
              "    <tr>\n",
              "      <th>19452</th>\n",
              "      <td>5</td>\n",
              "      <td>9500000.0</td>\n",
              "      <td>76.80</td>\n",
              "      <td>2019-04-11T00:00:00</td>\n",
              "      <td>3</td>\n",
              "      <td>NaN</td>\n",
              "      <td>9.0</td>\n",
              "      <td>NaN</td>\n",
              "      <td>10</td>\n",
              "      <td>False</td>\n",
              "      <td>False</td>\n",
              "      <td>False</td>\n",
              "      <td>NaN</td>\n",
              "      <td>0.0</td>\n",
              "      <td>Санкт-Петербург</td>\n",
              "      <td>36628.0</td>\n",
              "      <td>14780.0</td>\n",
              "      <td>0.0</td>\n",
              "      <td>NaN</td>\n",
              "      <td>0.0</td>\n",
              "      <td>NaN</td>\n",
              "      <td>NaN</td>\n",
              "    </tr>\n",
              "    <tr>\n",
              "      <th>20146</th>\n",
              "      <td>16</td>\n",
              "      <td>3850000.0</td>\n",
              "      <td>36.00</td>\n",
              "      <td>2018-10-12T00:00:00</td>\n",
              "      <td>1</td>\n",
              "      <td>NaN</td>\n",
              "      <td>9.0</td>\n",
              "      <td>19.00</td>\n",
              "      <td>15</td>\n",
              "      <td>False</td>\n",
              "      <td>False</td>\n",
              "      <td>False</td>\n",
              "      <td>8.50</td>\n",
              "      <td>0.0</td>\n",
              "      <td>посёлок Стрельна</td>\n",
              "      <td>28276.0</td>\n",
              "      <td>23454.0</td>\n",
              "      <td>0.0</td>\n",
              "      <td>NaN</td>\n",
              "      <td>0.0</td>\n",
              "      <td>NaN</td>\n",
              "      <td>183.0</td>\n",
              "    </tr>\n",
              "    <tr>\n",
              "      <th>20738</th>\n",
              "      <td>5</td>\n",
              "      <td>4480000.0</td>\n",
              "      <td>54.22</td>\n",
              "      <td>2018-02-01T00:00:00</td>\n",
              "      <td>2</td>\n",
              "      <td>NaN</td>\n",
              "      <td>9.0</td>\n",
              "      <td>NaN</td>\n",
              "      <td>10</td>\n",
              "      <td>False</td>\n",
              "      <td>False</td>\n",
              "      <td>False</td>\n",
              "      <td>NaN</td>\n",
              "      <td>0.0</td>\n",
              "      <td>посёлок Мурино</td>\n",
              "      <td>NaN</td>\n",
              "      <td>NaN</td>\n",
              "      <td>0.0</td>\n",
              "      <td>NaN</td>\n",
              "      <td>0.0</td>\n",
              "      <td>NaN</td>\n",
              "      <td>42.0</td>\n",
              "    </tr>\n",
              "    <tr>\n",
              "      <th>21273</th>\n",
              "      <td>3</td>\n",
              "      <td>6300000.0</td>\n",
              "      <td>70.02</td>\n",
              "      <td>2015-03-28T00:00:00</td>\n",
              "      <td>2</td>\n",
              "      <td>NaN</td>\n",
              "      <td>9.0</td>\n",
              "      <td>34.87</td>\n",
              "      <td>19</td>\n",
              "      <td>False</td>\n",
              "      <td>False</td>\n",
              "      <td>False</td>\n",
              "      <td>10.13</td>\n",
              "      <td>0.0</td>\n",
              "      <td>Санкт-Петербург</td>\n",
              "      <td>35234.0</td>\n",
              "      <td>14674.0</td>\n",
              "      <td>0.0</td>\n",
              "      <td>NaN</td>\n",
              "      <td>1.0</td>\n",
              "      <td>844.0</td>\n",
              "      <td>516.0</td>\n",
              "    </tr>\n",
              "    <tr>\n",
              "      <th>21651</th>\n",
              "      <td>4</td>\n",
              "      <td>7143060.0</td>\n",
              "      <td>44.70</td>\n",
              "      <td>2019-01-11T00:00:00</td>\n",
              "      <td>1</td>\n",
              "      <td>3.00</td>\n",
              "      <td>9.0</td>\n",
              "      <td>13.79</td>\n",
              "      <td>19</td>\n",
              "      <td>False</td>\n",
              "      <td>False</td>\n",
              "      <td>False</td>\n",
              "      <td>NaN</td>\n",
              "      <td>0.0</td>\n",
              "      <td>Санкт-Петербург</td>\n",
              "      <td>9222.0</td>\n",
              "      <td>11340.0</td>\n",
              "      <td>0.0</td>\n",
              "      <td>NaN</td>\n",
              "      <td>0.0</td>\n",
              "      <td>NaN</td>\n",
              "      <td>NaN</td>\n",
              "    </tr>\n",
              "    <tr>\n",
              "      <th>21753</th>\n",
              "      <td>7</td>\n",
              "      <td>6800000.0</td>\n",
              "      <td>57.00</td>\n",
              "      <td>2017-05-01T00:00:00</td>\n",
              "      <td>2</td>\n",
              "      <td>NaN</td>\n",
              "      <td>9.0</td>\n",
              "      <td>NaN</td>\n",
              "      <td>21</td>\n",
              "      <td>False</td>\n",
              "      <td>False</td>\n",
              "      <td>False</td>\n",
              "      <td>NaN</td>\n",
              "      <td>0.0</td>\n",
              "      <td>Санкт-Петербург</td>\n",
              "      <td>17618.0</td>\n",
              "      <td>14600.0</td>\n",
              "      <td>2.0</td>\n",
              "      <td>104.0</td>\n",
              "      <td>0.0</td>\n",
              "      <td>NaN</td>\n",
              "      <td>36.0</td>\n",
              "    </tr>\n",
              "    <tr>\n",
              "      <th>22656</th>\n",
              "      <td>4</td>\n",
              "      <td>4574160.0</td>\n",
              "      <td>64.50</td>\n",
              "      <td>2017-04-02T00:00:00</td>\n",
              "      <td>2</td>\n",
              "      <td>NaN</td>\n",
              "      <td>9.0</td>\n",
              "      <td>31.70</td>\n",
              "      <td>20</td>\n",
              "      <td>False</td>\n",
              "      <td>False</td>\n",
              "      <td>False</td>\n",
              "      <td>14.40</td>\n",
              "      <td>0.0</td>\n",
              "      <td>Санкт-Петербург</td>\n",
              "      <td>22041.0</td>\n",
              "      <td>17369.0</td>\n",
              "      <td>0.0</td>\n",
              "      <td>NaN</td>\n",
              "      <td>1.0</td>\n",
              "      <td>374.0</td>\n",
              "      <td>127.0</td>\n",
              "    </tr>\n",
              "    <tr>\n",
              "      <th>23590</th>\n",
              "      <td>0</td>\n",
              "      <td>21187872.0</td>\n",
              "      <td>123.30</td>\n",
              "      <td>2017-04-25T00:00:00</td>\n",
              "      <td>3</td>\n",
              "      <td>NaN</td>\n",
              "      <td>9.0</td>\n",
              "      <td>50.40</td>\n",
              "      <td>18</td>\n",
              "      <td>False</td>\n",
              "      <td>False</td>\n",
              "      <td>False</td>\n",
              "      <td>23.60</td>\n",
              "      <td>0.0</td>\n",
              "      <td>Санкт-Петербург</td>\n",
              "      <td>19095.0</td>\n",
              "      <td>4529.0</td>\n",
              "      <td>0.0</td>\n",
              "      <td>NaN</td>\n",
              "      <td>0.0</td>\n",
              "      <td>NaN</td>\n",
              "      <td>104.0</td>\n",
              "    </tr>\n",
              "  </tbody>\n",
              "</table>\n",
              "</div>"
            ],
            "text/plain": [
              "       total_images  last_price  total_area first_day_exposition  rooms  \\\n",
              "457               4   9788348.0       70.80  2015-08-01T00:00:00      2   \n",
              "2392              7   5395770.0       53.00  2017-06-29T00:00:00      2   \n",
              "2846              4   2325000.0       27.80  2016-09-21T00:00:00      1   \n",
              "3031              9   6400000.0       56.70  2018-03-27T00:00:00      2   \n",
              "3438             10   4100000.0       38.00  2018-04-14T00:00:00      1   \n",
              "4617              4   4275062.0       61.20  2017-04-27T00:00:00      2   \n",
              "4848             15  13000000.0       98.00  2017-02-08T00:00:00      3   \n",
              "5146             10   3085024.0       33.33  2018-10-06T00:00:00      1   \n",
              "5187              5   3300000.0       25.40  2018-11-02T00:00:00      0   \n",
              "5784              4   4262941.0       59.90  2017-04-02T00:00:00      2   \n",
              "5958              1   3200000.0       30.30  2018-09-07T00:00:00      0   \n",
              "6030              3  10900000.0      116.23  2017-05-05T00:00:00      4   \n",
              "7922              3   5426412.0       50.11  2016-06-08T00:00:00      2   \n",
              "8478             19  13500000.0       77.80  2019-04-17T00:00:00      2   \n",
              "9023              5   2900000.0       35.10  2018-07-18T00:00:00      1   \n",
              "10013             4   4558637.0       64.40  2016-09-21T00:00:00      2   \n",
              "10027             4   4650259.0       67.50  2017-04-01T00:00:00      2   \n",
              "10058             9   3350000.0       25.00  2018-09-10T00:00:00      1   \n",
              "10531             3   6595420.0       61.80  2016-05-21T00:00:00      2   \n",
              "10983             6   4670000.0       37.80  2019-03-13T00:00:00      1   \n",
              "11129            10   3128418.0       34.53  2018-10-01T00:00:00      1   \n",
              "13438             4   4403541.0       65.30  2016-09-21T00:00:00      2   \n",
              "13622             3   7650000.0       88.84  2016-05-21T00:00:00      3   \n",
              "14094             5   3290000.0       33.00  2018-02-01T00:00:00      1   \n",
              "14264            13  14000000.0       94.00  2019-01-23T00:00:00      6   \n",
              "14526             1   5595000.0       52.47  2016-03-23T00:00:00      2   \n",
              "16591             8   4500000.0       37.60  2018-07-10T00:00:00      1   \n",
              "16850             4   6188957.0       90.20  2016-09-21T00:00:00      3   \n",
              "17498             4   4252249.0       60.20  2017-04-01T00:00:00      2   \n",
              "19452             5   9500000.0       76.80  2019-04-11T00:00:00      3   \n",
              "20146            16   3850000.0       36.00  2018-10-12T00:00:00      1   \n",
              "20738             5   4480000.0       54.22  2018-02-01T00:00:00      2   \n",
              "21273             3   6300000.0       70.02  2015-03-28T00:00:00      2   \n",
              "21651             4   7143060.0       44.70  2019-01-11T00:00:00      1   \n",
              "21753             7   6800000.0       57.00  2017-05-01T00:00:00      2   \n",
              "22656             4   4574160.0       64.50  2017-04-02T00:00:00      2   \n",
              "23590             0  21187872.0      123.30  2017-04-25T00:00:00      3   \n",
              "\n",
              "       ceiling_height  floors_total  living_area  floor  is_apartment  studio  \\\n",
              "457               NaN           9.0        38.40     12         False   False   \n",
              "2392              NaN           9.0        29.00     22         False   False   \n",
              "2846              NaN           9.0        19.40     15         False   False   \n",
              "3031              NaN           9.0        32.00     12         False   False   \n",
              "3438              NaN           9.0        19.00     12         False   False   \n",
              "4617              NaN           9.0        32.00     12         False   False   \n",
              "4848              NaN           9.0          NaN     18         False   False   \n",
              "5146              NaN           9.0        11.00     12         False   False   \n",
              "5187              NaN           9.0          NaN     15         False    True   \n",
              "5784              NaN           9.0        31.70     18         False   False   \n",
              "5958              NaN           9.0          NaN     13         False    True   \n",
              "6030              NaN           9.0          NaN     24         False   False   \n",
              "7922              NaN           9.0        26.94     24         False   False   \n",
              "8478             2.80           9.0        39.41     21         False   False   \n",
              "9023              NaN           9.0          NaN     11         False   False   \n",
              "10013             NaN           9.0        31.70     19         False   False   \n",
              "10027             NaN           9.0        31.30     20         False   False   \n",
              "10058            2.65           9.0        17.00     21         False   False   \n",
              "10531             NaN           9.0        30.01     12         False   False   \n",
              "10983             NaN           9.0        16.90     14         False   False   \n",
              "11129             NaN           9.0        11.00     13         False   False   \n",
              "13438             NaN           9.0        31.60     11         False   False   \n",
              "13622             NaN           9.0        49.87     21         False   False   \n",
              "14094             NaN           9.0          NaN     17         False   False   \n",
              "14264            2.65           9.0        51.00     23         False   False   \n",
              "14526             NaN           9.0          NaN     10         False   False   \n",
              "16591             NaN           9.0        17.50     11         False   False   \n",
              "16850             NaN           9.0        47.70     14         False   False   \n",
              "17498             NaN           9.0        31.80     13         False   False   \n",
              "19452             NaN           9.0          NaN     10         False   False   \n",
              "20146             NaN           9.0        19.00     15         False   False   \n",
              "20738             NaN           9.0          NaN     10         False   False   \n",
              "21273             NaN           9.0        34.87     19         False   False   \n",
              "21651            3.00           9.0        13.79     19         False   False   \n",
              "21753             NaN           9.0          NaN     21         False   False   \n",
              "22656             NaN           9.0        31.70     20         False   False   \n",
              "23590             NaN           9.0        50.40     18         False   False   \n",
              "\n",
              "       open_plan  kitchen_area  balcony                locality_name  \\\n",
              "457        False         10.63      0.0              Санкт-Петербург   \n",
              "2392       False          9.00      0.0              Санкт-Петербург   \n",
              "2846       False           NaN      0.0              Санкт-Петербург   \n",
              "3031       False         12.00      0.0                      Кудрово   \n",
              "3438       False         10.30      0.0                      Кудрово   \n",
              "4617       False         12.20      0.0              Санкт-Петербург   \n",
              "4848       False           NaN      0.0              Санкт-Петербург   \n",
              "5146       False           NaN      0.0              Санкт-Петербург   \n",
              "5187       False           NaN      0.0               посёлок Мурино   \n",
              "5784       False         11.90      0.0              Санкт-Петербург   \n",
              "5958       False           NaN      0.0              Санкт-Петербург   \n",
              "6030       False           NaN      0.0              Санкт-Петербург   \n",
              "7922       False         11.13      0.0              Санкт-Петербург   \n",
              "8478       False         13.27      2.0              Санкт-Петербург   \n",
              "9023       False           NaN      0.0  городской посёлок Новоселье   \n",
              "10013      False         14.40      0.0              Санкт-Петербург   \n",
              "10027      False         14.40      0.0              Санкт-Петербург   \n",
              "10058      False          3.50      0.0               посёлок Шушары   \n",
              "10531      False         10.08      0.0              Санкт-Петербург   \n",
              "10983      False          9.50      0.0              Санкт-Петербург   \n",
              "11129      False           NaN      0.0              Санкт-Петербург   \n",
              "13438      False         12.20      0.0              Санкт-Петербург   \n",
              "13622      False          9.76      0.0              Санкт-Петербург   \n",
              "14094      False           NaN      0.0      деревня Новое Девяткино   \n",
              "14264      False         16.30      0.0              Санкт-Петербург   \n",
              "14526      False           NaN      0.0              Санкт-Петербург   \n",
              "16591      False         11.00      0.0              Санкт-Петербург   \n",
              "16850      False         16.70      0.0              Санкт-Петербург   \n",
              "17498      False         12.10      0.0              Санкт-Петербург   \n",
              "19452      False           NaN      0.0              Санкт-Петербург   \n",
              "20146      False          8.50      0.0             посёлок Стрельна   \n",
              "20738      False           NaN      0.0               посёлок Мурино   \n",
              "21273      False         10.13      0.0              Санкт-Петербург   \n",
              "21651      False           NaN      0.0              Санкт-Петербург   \n",
              "21753      False           NaN      0.0              Санкт-Петербург   \n",
              "22656      False         14.40      0.0              Санкт-Петербург   \n",
              "23590      False         23.60      0.0              Санкт-Петербург   \n",
              "\n",
              "       airports_nearest  cityCenters_nearest  parks_around3000  parks_nearest  \\\n",
              "457             37364.0               8322.0               2.0          309.0   \n",
              "2392            43074.0              10820.0               0.0            NaN   \n",
              "2846            22041.0              17369.0               0.0            NaN   \n",
              "3031                NaN                  NaN               0.0            NaN   \n",
              "3438                NaN                  NaN               0.0            NaN   \n",
              "4617            22041.0              17369.0               0.0            NaN   \n",
              "4848            37625.0              14153.0               0.0            NaN   \n",
              "5146            47303.0              25865.0               1.0          400.0   \n",
              "5187                NaN                  NaN               0.0            NaN   \n",
              "5784            22041.0              17369.0               0.0            NaN   \n",
              "5958            22735.0              11618.0               1.0          835.0   \n",
              "6030            35234.0              14674.0               0.0            NaN   \n",
              "7922             7050.0              13266.0               1.0          868.0   \n",
              "8478            12838.0              11477.0               1.0          593.0   \n",
              "9023                NaN                  NaN               0.0            NaN   \n",
              "10013           22041.0              17369.0               0.0            NaN   \n",
              "10027           22041.0              17369.0               0.0            NaN   \n",
              "10058               NaN                  NaN               0.0            NaN   \n",
              "10531            7050.0              13266.0               1.0          868.0   \n",
              "10983           23982.0              11634.0               0.0            NaN   \n",
              "11129           47303.0              25865.0               1.0          400.0   \n",
              "13438           22041.0              17369.0               0.0            NaN   \n",
              "13622           35234.0              14674.0               0.0            NaN   \n",
              "14094               NaN                  NaN               0.0            NaN   \n",
              "14264           51333.0              13056.0               0.0            NaN   \n",
              "14526            7050.0              13266.0               1.0          868.0   \n",
              "16591           37625.0              14153.0               0.0            NaN   \n",
              "16850           22041.0              17369.0               0.0            NaN   \n",
              "17498           22041.0              17369.0               0.0            NaN   \n",
              "19452           36628.0              14780.0               0.0            NaN   \n",
              "20146           28276.0              23454.0               0.0            NaN   \n",
              "20738               NaN                  NaN               0.0            NaN   \n",
              "21273           35234.0              14674.0               0.0            NaN   \n",
              "21651            9222.0              11340.0               0.0            NaN   \n",
              "21753           17618.0              14600.0               2.0          104.0   \n",
              "22656           22041.0              17369.0               0.0            NaN   \n",
              "23590           19095.0               4529.0               0.0            NaN   \n",
              "\n",
              "       ponds_around3000  ponds_nearest  days_exposition  \n",
              "457                 2.0          706.0            727.0  \n",
              "2392                0.0            NaN             48.0  \n",
              "2846                1.0          374.0            307.0  \n",
              "3031                0.0            NaN            231.0  \n",
              "3438                0.0            NaN             95.0  \n",
              "4617                1.0          374.0             72.0  \n",
              "4848                0.0            NaN             29.0  \n",
              "5146                1.0          492.0            140.0  \n",
              "5187                0.0            NaN              3.0  \n",
              "5784                1.0          374.0            127.0  \n",
              "5958                1.0          652.0             68.0  \n",
              "6030                1.0          844.0             83.0  \n",
              "7922                0.0            NaN             14.0  \n",
              "8478                1.0          130.0              NaN  \n",
              "9023                0.0            NaN             26.0  \n",
              "10013               1.0          374.0            320.0  \n",
              "10027               1.0          374.0            116.0  \n",
              "10058               0.0            NaN             23.0  \n",
              "10531               0.0            NaN            112.0  \n",
              "10983               0.0            NaN              NaN  \n",
              "11129               1.0          492.0            145.0  \n",
              "13438               1.0          374.0            320.0  \n",
              "13622               1.0          844.0             42.0  \n",
              "14094               0.0            NaN            440.0  \n",
              "14264               0.0            NaN              NaN  \n",
              "14526               0.0            NaN             90.0  \n",
              "16591               0.0            NaN              8.0  \n",
              "16850               1.0          374.0            320.0  \n",
              "17498               1.0          374.0            128.0  \n",
              "19452               0.0            NaN              NaN  \n",
              "20146               0.0            NaN            183.0  \n",
              "20738               0.0            NaN             42.0  \n",
              "21273               1.0          844.0            516.0  \n",
              "21651               0.0            NaN              NaN  \n",
              "21753               0.0            NaN             36.0  \n",
              "22656               1.0          374.0            127.0  \n",
              "23590               0.0            NaN            104.0  "
            ]
          },
          "execution_count": 11,
          "metadata": {},
          "output_type": "execute_result"
        }
      ],
      "source": [
        "data.loc[data['floor'] > data['floors_total']]"
      ]
    },
    {
      "cell_type": "code",
      "execution_count": null,
      "metadata": {
        "id": "UmVm0XF0Lf5Z",
        "outputId": "ba5635f0-8b0a-4276-b456-e6194284768c"
      },
      "outputs": [
        {
          "data": {
            "text/html": [
              "<div>\n",
              "<style scoped>\n",
              "    .dataframe tbody tr th:only-of-type {\n",
              "        vertical-align: middle;\n",
              "    }\n",
              "\n",
              "    .dataframe tbody tr th {\n",
              "        vertical-align: top;\n",
              "    }\n",
              "\n",
              "    .dataframe thead th {\n",
              "        text-align: right;\n",
              "    }\n",
              "</style>\n",
              "<table border=\"1\" class=\"dataframe\">\n",
              "  <thead>\n",
              "    <tr style=\"text-align: right;\">\n",
              "      <th></th>\n",
              "      <th>total_images</th>\n",
              "      <th>last_price</th>\n",
              "      <th>total_area</th>\n",
              "      <th>first_day_exposition</th>\n",
              "      <th>rooms</th>\n",
              "      <th>ceiling_height</th>\n",
              "      <th>floors_total</th>\n",
              "      <th>living_area</th>\n",
              "      <th>floor</th>\n",
              "      <th>is_apartment</th>\n",
              "      <th>studio</th>\n",
              "      <th>open_plan</th>\n",
              "      <th>kitchen_area</th>\n",
              "      <th>balcony</th>\n",
              "      <th>locality_name</th>\n",
              "      <th>airports_nearest</th>\n",
              "      <th>cityCenters_nearest</th>\n",
              "      <th>parks_around3000</th>\n",
              "      <th>parks_nearest</th>\n",
              "      <th>ponds_around3000</th>\n",
              "      <th>ponds_nearest</th>\n",
              "      <th>days_exposition</th>\n",
              "    </tr>\n",
              "  </thead>\n",
              "  <tbody>\n",
              "  </tbody>\n",
              "</table>\n",
              "</div>"
            ],
            "text/plain": [
              "Empty DataFrame\n",
              "Columns: [total_images, last_price, total_area, first_day_exposition, rooms, ceiling_height, floors_total, living_area, floor, is_apartment, studio, open_plan, kitchen_area, balcony, locality_name, airports_nearest, cityCenters_nearest, parks_around3000, parks_nearest, ponds_around3000, ponds_nearest, days_exposition]\n",
              "Index: []"
            ]
          },
          "execution_count": 12,
          "metadata": {},
          "output_type": "execute_result"
        }
      ],
      "source": [
        "data.loc[data['floor'] > data['floors_total'], 'floors_total'] = data['floor']\n",
        "data.loc[data['floor'] > data['floors_total']]"
      ]
    },
    {
      "cell_type": "markdown",
      "metadata": {
        "id": "QDBAvUXfVbtt"
      },
      "source": [
        "Удаляем строки с пропущенными названиями населенных пунктов. Без этой информации трудно оценить рыночную стоимость объекта недвижимости, а с учётом того, что таких объектов всего 49, ими можно пренебречь."
      ]
    },
    {
      "cell_type": "code",
      "execution_count": null,
      "metadata": {
        "id": "p6Wnbc4cVbtt"
      },
      "outputs": [],
      "source": [
        "data = data.dropna(subset=['locality_name'])"
      ]
    },
    {
      "cell_type": "markdown",
      "metadata": {
        "id": "ePXnipF9Lf5a"
      },
      "source": [
        "Заполним пропуски в столбце с высотой потолков медианным значением, так как у подавляющего большинства потолков стандартная высота"
      ]
    },
    {
      "cell_type": "code",
      "execution_count": null,
      "metadata": {
        "id": "g0B96tKILf5a"
      },
      "outputs": [],
      "source": [
        "data['ceiling_height'] = data['ceiling_height'].fillna(data['ceiling_height'].median())"
      ]
    },
    {
      "cell_type": "markdown",
      "metadata": {
        "id": "56FUyTMfN7Im"
      },
      "source": [
        "**2.2 Замена типа данных**"
      ]
    },
    {
      "cell_type": "markdown",
      "metadata": {
        "id": "eLUdhW-_YqXf"
      },
      "source": [
        "Изменим тип данных для столбца с датой публикации, так как работать с датами в виде строки неудобно. К тому же в строке есть обнулённая информация о времени публикации, которая нам ни к чему"
      ]
    },
    {
      "cell_type": "code",
      "execution_count": null,
      "metadata": {
        "id": "fyoU4FfLWKtj"
      },
      "outputs": [],
      "source": [
        "data['first_day_exposition'] = pd.to_datetime(data['first_day_exposition'], format='%Y-%m-%d')"
      ]
    },
    {
      "cell_type": "markdown",
      "metadata": {
        "id": "C-bU1ZbVq_xr"
      },
      "source": [
        "Проверяем, изменился ли тип данных"
      ]
    },
    {
      "cell_type": "code",
      "execution_count": null,
      "metadata": {
        "colab": {
          "base_uri": "https://localhost:8080/"
        },
        "id": "ztaB3LqUgbHD",
        "outputId": "1434a080-dedd-4842-e032-bdf90a643569",
        "scrolled": true
      },
      "outputs": [
        {
          "name": "stdout",
          "output_type": "stream",
          "text": [
            "<class 'pandas.core.frame.DataFrame'>\n",
            "Int64Index: 23650 entries, 0 to 23698\n",
            "Data columns (total 22 columns):\n",
            " #   Column                Non-Null Count  Dtype         \n",
            "---  ------                --------------  -----         \n",
            " 0   total_images          23650 non-null  int64         \n",
            " 1   last_price            23650 non-null  float64       \n",
            " 2   total_area            23650 non-null  float64       \n",
            " 3   first_day_exposition  23650 non-null  datetime64[ns]\n",
            " 4   rooms                 23650 non-null  int64         \n",
            " 5   ceiling_height        23650 non-null  float64       \n",
            " 6   floors_total          23650 non-null  float64       \n",
            " 7   living_area           21752 non-null  float64       \n",
            " 8   floor                 23650 non-null  int64         \n",
            " 9   is_apartment          23650 non-null  bool          \n",
            " 10  studio                23650 non-null  bool          \n",
            " 11  open_plan             23650 non-null  bool          \n",
            " 12  kitchen_area          21381 non-null  float64       \n",
            " 13  balcony               23650 non-null  float64       \n",
            " 14  locality_name         23650 non-null  object        \n",
            " 15  airports_nearest      18116 non-null  float64       \n",
            " 16  cityCenters_nearest   18139 non-null  float64       \n",
            " 17  parks_around3000      23650 non-null  float64       \n",
            " 18  parks_nearest         8064 non-null   float64       \n",
            " 19  ponds_around3000      23650 non-null  float64       \n",
            " 20  ponds_nearest         9085 non-null   float64       \n",
            " 21  days_exposition       20470 non-null  float64       \n",
            "dtypes: bool(3), datetime64[ns](1), float64(14), int64(3), object(1)\n",
            "memory usage: 3.7+ MB\n"
          ]
        }
      ],
      "source": [
        "data.info()"
      ]
    },
    {
      "cell_type": "markdown",
      "metadata": {
        "id": "PNyotSKmLf5b"
      },
      "source": [
        "Изменим тип данных для колонки с количеством балконов на целочисленный и сразу проверим"
      ]
    },
    {
      "cell_type": "code",
      "execution_count": null,
      "metadata": {
        "id": "ETT3OosmLf5b",
        "outputId": "c53a998b-c7c9-46ea-9d30-3db78b5f0e42"
      },
      "outputs": [
        {
          "name": "stdout",
          "output_type": "stream",
          "text": [
            "<class 'pandas.core.frame.DataFrame'>\n",
            "Int64Index: 23650 entries, 0 to 23698\n",
            "Data columns (total 22 columns):\n",
            " #   Column                Non-Null Count  Dtype         \n",
            "---  ------                --------------  -----         \n",
            " 0   total_images          23650 non-null  int64         \n",
            " 1   last_price            23650 non-null  float64       \n",
            " 2   total_area            23650 non-null  float64       \n",
            " 3   first_day_exposition  23650 non-null  datetime64[ns]\n",
            " 4   rooms                 23650 non-null  int64         \n",
            " 5   ceiling_height        23650 non-null  float64       \n",
            " 6   floors_total          23650 non-null  float64       \n",
            " 7   living_area           21752 non-null  float64       \n",
            " 8   floor                 23650 non-null  int64         \n",
            " 9   is_apartment          23650 non-null  bool          \n",
            " 10  studio                23650 non-null  bool          \n",
            " 11  open_plan             23650 non-null  bool          \n",
            " 12  kitchen_area          21381 non-null  float64       \n",
            " 13  balcony               23650 non-null  int64         \n",
            " 14  locality_name         23650 non-null  object        \n",
            " 15  airports_nearest      18116 non-null  float64       \n",
            " 16  cityCenters_nearest   18139 non-null  float64       \n",
            " 17  parks_around3000      23650 non-null  float64       \n",
            " 18  parks_nearest         8064 non-null   float64       \n",
            " 19  ponds_around3000      23650 non-null  float64       \n",
            " 20  ponds_nearest         9085 non-null   float64       \n",
            " 21  days_exposition       20470 non-null  float64       \n",
            "dtypes: bool(3), datetime64[ns](1), float64(13), int64(4), object(1)\n",
            "memory usage: 3.7+ MB\n"
          ]
        }
      ],
      "source": [
        "data['balcony'] = data['balcony'].astype('int')\n",
        "data.info()"
      ]
    },
    {
      "cell_type": "markdown",
      "metadata": {
        "id": "FkFq9cg6OURA"
      },
      "source": [
        "**2.3 Работа с неявными дубликатами**"
      ]
    },
    {
      "cell_type": "markdown",
      "metadata": {
        "id": "WN_XYalsrwwB"
      },
      "source": [
        "Проверим уникальные названия населённых пунктов на наличие неявных дубликатов"
      ]
    },
    {
      "cell_type": "code",
      "execution_count": null,
      "metadata": {
        "colab": {
          "base_uri": "https://localhost:8080/"
        },
        "id": "z9RynSjqrpsx",
        "outputId": "f8027ace-a7e5-4a2b-cf9b-ef4b71835fde"
      },
      "outputs": [
        {
          "data": {
            "text/plain": [
              "array(['Санкт-Петербург', 'посёлок Шушары', 'городской посёлок Янино-1',\n",
              "       'посёлок Парголово', 'посёлок Мурино', 'Ломоносов', 'Сертолово',\n",
              "       'Петергоф', 'Пушкин', 'деревня Кудрово', 'Коммунар', 'Колпино',\n",
              "       'поселок городского типа Красный Бор', 'Гатчина', 'поселок Мурино',\n",
              "       'деревня Фёдоровское', 'Выборг', 'Кронштадт', 'Кировск',\n",
              "       'деревня Новое Девяткино', 'посёлок Металлострой',\n",
              "       'посёлок городского типа Лебяжье',\n",
              "       'посёлок городского типа Сиверский', 'поселок Молодцово',\n",
              "       'поселок городского типа Кузьмоловский',\n",
              "       'садовое товарищество Новая Ропша', 'Павловск',\n",
              "       'деревня Пикколово', 'Всеволожск', 'Волхов', 'Кингисепп',\n",
              "       'Приозерск', 'Сестрорецк', 'деревня Куттузи', 'посёлок Аннино',\n",
              "       'поселок городского типа Ефимовский', 'посёлок Плодовое',\n",
              "       'деревня Заклинье', 'поселок Торковичи', 'поселок Первомайское',\n",
              "       'Красное Село', 'посёлок Понтонный', 'Сясьстрой', 'деревня Старая',\n",
              "       'деревня Лесколово', 'посёлок Новый Свет', 'Сланцы',\n",
              "       'село Путилово', 'Ивангород', 'Мурино', 'Шлиссельбург',\n",
              "       'Никольское', 'Зеленогорск', 'Сосновый Бор', 'поселок Новый Свет',\n",
              "       'деревня Оржицы', 'деревня Кальтино', 'Кудрово',\n",
              "       'поселок Романовка', 'посёлок Бугры', 'поселок Бугры',\n",
              "       'поселок городского типа Рощино', 'Кириши', 'Луга', 'Волосово',\n",
              "       'Отрадное', 'село Павлово', 'поселок Оредеж', 'село Копорье',\n",
              "       'посёлок городского типа Красный Бор', 'посёлок Молодёжное',\n",
              "       'Тихвин', 'посёлок Победа', 'деревня Нурма',\n",
              "       'поселок городского типа Синявино', 'Тосно',\n",
              "       'посёлок городского типа Кузьмоловский', 'посёлок Стрельна',\n",
              "       'Бокситогорск', 'посёлок Александровская', 'деревня Лопухинка',\n",
              "       'Пикалёво', 'поселок Терволово',\n",
              "       'поселок городского типа Советский', 'Подпорожье',\n",
              "       'посёлок Петровское', 'посёлок городского типа Токсово',\n",
              "       'поселок Сельцо', 'посёлок городского типа Вырица',\n",
              "       'деревня Кипень', 'деревня Келози', 'деревня Вартемяги',\n",
              "       'посёлок Тельмана', 'поселок Севастьяново',\n",
              "       'городской поселок Большая Ижора', 'городской посёлок Павлово',\n",
              "       'деревня Агалатово', 'посёлок Новогорелово',\n",
              "       'городской посёлок Лесогорский', 'деревня Лаголово',\n",
              "       'поселок Цвелодубово', 'поселок городского типа Рахья',\n",
              "       'поселок городского типа Вырица', 'деревня Белогорка',\n",
              "       'поселок Заводской', 'городской посёлок Новоселье',\n",
              "       'деревня Большие Колпаны', 'деревня Горбунки', 'деревня Батово',\n",
              "       'деревня Заневка', 'деревня Иссад', 'Приморск',\n",
              "       'городской посёлок Фёдоровское', 'деревня Мистолово',\n",
              "       'Новая Ладога', 'поселок Зимитицы', 'поселок Барышево',\n",
              "       'деревня Разметелево', 'поселок городского типа имени Свердлова',\n",
              "       'деревня Пеники', 'поселок Рябово', 'деревня Пудомяги',\n",
              "       'поселок станции Корнево', 'деревня Низино', 'деревня Бегуницы',\n",
              "       'посёлок Поляны', 'городской посёлок Мга', 'поселок Елизаветино',\n",
              "       'посёлок городского типа Кузнечное', 'деревня Колтуши',\n",
              "       'поселок Запорожское', 'посёлок городского типа Рощино',\n",
              "       'деревня Гостилицы', 'деревня Малое Карлино',\n",
              "       'посёлок Мичуринское', 'посёлок городского типа имени Морозова',\n",
              "       'посёлок Песочный', 'посёлок Сосново', 'деревня Аро',\n",
              "       'поселок Ильичёво', 'посёлок городского типа Тайцы',\n",
              "       'деревня Малое Верево', 'деревня Извара', 'поселок станции Вещево',\n",
              "       'село Паша', 'деревня Калитино',\n",
              "       'посёлок городского типа Ульяновка', 'деревня Чудской Бор',\n",
              "       'поселок городского типа Дубровка', 'деревня Мины',\n",
              "       'поселок Войсковицы', 'посёлок городского типа имени Свердлова',\n",
              "       'деревня Коркино', 'посёлок Ропша',\n",
              "       'поселок городского типа Приладожский', 'посёлок Щеглово',\n",
              "       'посёлок Гаврилово', 'Лодейное Поле', 'деревня Рабитицы',\n",
              "       'поселок городского типа Никольский', 'деревня Кузьмолово',\n",
              "       'деревня Малые Колпаны', 'поселок Тельмана',\n",
              "       'посёлок Петро-Славянка', 'городской посёлок Назия',\n",
              "       'посёлок Репино', 'посёлок Ильичёво', 'поселок Углово',\n",
              "       'поселок Старая Малукса', 'садовое товарищество Рахья',\n",
              "       'поселок Аннино', 'поселок Победа', 'деревня Меньково',\n",
              "       'деревня Старые Бегуницы', 'посёлок Сапёрный', 'поселок Семрино',\n",
              "       'поселок Гаврилово', 'поселок Глажево', 'поселок Кобринское',\n",
              "       'деревня Гарболово', 'деревня Юкки',\n",
              "       'поселок станции Приветнинское', 'деревня Мануйлово',\n",
              "       'деревня Пчева', 'поселок Поляны', 'поселок Цвылёво',\n",
              "       'поселок Мельниково', 'посёлок Пудость', 'посёлок Усть-Луга',\n",
              "       'Светогорск', 'Любань', 'поселок Селезнёво',\n",
              "       'поселок городского типа Рябово', 'Каменногорск', 'деревня Кривко',\n",
              "       'поселок Глебычево', 'деревня Парицы', 'поселок Жилпосёлок',\n",
              "       'посёлок городского типа Мга', 'городской поселок Янино-1',\n",
              "       'посёлок Войскорово', 'село Никольское', 'посёлок Терволово',\n",
              "       'поселок Стеклянный', 'посёлок городского типа Важины',\n",
              "       'посёлок Мыза-Ивановка', 'село Русско-Высоцкое',\n",
              "       'поселок городского типа Лебяжье',\n",
              "       'поселок городского типа Форносово', 'село Старая Ладога',\n",
              "       'поселок Житково', 'городской посёлок Виллози', 'деревня Лампово',\n",
              "       'деревня Шпаньково', 'деревня Лаврики', 'посёлок Сумино',\n",
              "       'посёлок Возрождение', 'деревня Старосиверская',\n",
              "       'посёлок Кикерино', 'поселок Возрождение',\n",
              "       'деревня Старое Хинколово', 'посёлок Пригородный',\n",
              "       'посёлок Торфяное', 'городской посёлок Будогощь',\n",
              "       'поселок Суходолье', 'поселок Красная Долина', 'деревня Хапо-Ое',\n",
              "       'поселок городского типа Дружная Горка', 'поселок Лисий Нос',\n",
              "       'деревня Яльгелево', 'посёлок Стеклянный', 'село Рождествено',\n",
              "       'деревня Старополье', 'посёлок Левашово', 'деревня Сяськелево',\n",
              "       'деревня Камышовка',\n",
              "       'садоводческое некоммерческое товарищество Лесная Поляна',\n",
              "       'деревня Хязельки', 'поселок Жилгородок',\n",
              "       'посёлок городского типа Павлово', 'деревня Ялгино',\n",
              "       'поселок Новый Учхоз', 'городской посёлок Рощино',\n",
              "       'поселок Гончарово', 'поселок Почап', 'посёлок Сапёрное',\n",
              "       'посёлок Платформа 69-й километр', 'поселок Каложицы',\n",
              "       'деревня Фалилеево', 'деревня Пельгора',\n",
              "       'поселок городского типа Лесогорский', 'деревня Торошковичи',\n",
              "       'посёлок Белоостров', 'посёлок Алексеевка', 'поселок Серебрянский',\n",
              "       'поселок Лукаши', 'поселок Петровское', 'деревня Щеглово',\n",
              "       'поселок Мичуринское', 'деревня Тарасово', 'поселок Кингисеппский',\n",
              "       'посёлок при железнодорожной станции Вещево', 'поселок Ушаки',\n",
              "       'деревня Котлы', 'деревня Сижно', 'деревня Торосово',\n",
              "       'посёлок Форт Красная Горка', 'поселок городского типа Токсово',\n",
              "       'деревня Новолисино', 'посёлок станции Громово', 'деревня Глинка',\n",
              "       'посёлок Мельниково', 'поселок городского типа Назия',\n",
              "       'деревня Старая Пустошь', 'поселок Коммунары', 'поселок Починок',\n",
              "       'посёлок городского типа Вознесенье', 'деревня Разбегаево',\n",
              "       'посёлок городского типа Рябово', 'поселок Гладкое',\n",
              "       'посёлок при железнодорожной станции Приветнинское',\n",
              "       'поселок Тёсово-4', 'посёлок Жилгородок', 'деревня Бор',\n",
              "       'посёлок Коробицыно', 'деревня Большая Вруда', 'деревня Курковицы',\n",
              "       'посёлок Лисий Нос', 'городской посёлок Советский',\n",
              "       'посёлок Кобралово', 'деревня Суоранда', 'поселок Кобралово',\n",
              "       'поселок городского типа Кондратьево',\n",
              "       'коттеджный поселок Счастье', 'поселок Любань', 'деревня Реброво',\n",
              "       'деревня Зимитицы', 'деревня Тойворово', 'поселок Семиозерье',\n",
              "       'поселок Лесное', 'поселок Совхозный', 'поселок Усть-Луга',\n",
              "       'посёлок Ленинское', 'посёлок Суйда',\n",
              "       'посёлок городского типа Форносово', 'деревня Нижние Осельки',\n",
              "       'посёлок станции Свирь', 'поселок Перово', 'Высоцк',\n",
              "       'поселок Гарболово', 'село Шум', 'поселок Котельский',\n",
              "       'поселок станции Лужайка', 'деревня Большая Пустомержа',\n",
              "       'поселок Красносельское', 'деревня Вахнова Кара', 'деревня Пижма',\n",
              "       'коттеджный поселок Кивеннапа Север', 'поселок Коробицыно',\n",
              "       'поселок Ромашки', 'посёлок Перово', 'деревня Каськово',\n",
              "       'деревня Куровицы', 'посёлок Плоское', 'поселок Сумино',\n",
              "       'поселок городского типа Большая Ижора', 'поселок Кирпичное',\n",
              "       'деревня Ям-Тесово', 'деревня Раздолье', 'деревня Терпилицы',\n",
              "       'посёлок Шугозеро', 'деревня Ваганово', 'поселок Пушное',\n",
              "       'садовое товарищество Садко', 'посёлок Усть-Ижора',\n",
              "       'деревня Выскатка', 'городской посёлок Свирьстрой',\n",
              "       'поселок Громово', 'деревня Кисельня', 'посёлок Старая Малукса',\n",
              "       'деревня Трубников Бор', 'поселок Калитино',\n",
              "       'посёлок Высокоключевой', 'садовое товарищество Приладожский',\n",
              "       'посёлок Пансионат Зелёный Бор', 'деревня Ненимяки',\n",
              "       'поселок Пансионат Зелёный Бор', 'деревня Снегирёвка',\n",
              "       'деревня Рапполово', 'деревня Пустынка', 'поселок Рабитицы',\n",
              "       'деревня Большой Сабск', 'деревня Русско', 'деревня Лупполово',\n",
              "       'деревня Большое Рейзино', 'деревня Малая Романовка',\n",
              "       'поселок Дружноселье', 'поселок Пчевжа', 'поселок Володарское',\n",
              "       'деревня Нижняя', 'коттеджный посёлок Лесное', 'деревня Тихковицы',\n",
              "       'деревня Борисова Грива', 'посёлок Дзержинского'], dtype=object)"
            ]
          },
          "execution_count": 18,
          "metadata": {},
          "output_type": "execute_result"
        }
      ],
      "source": [
        "data['locality_name'].unique()"
      ]
    },
    {
      "cell_type": "code",
      "execution_count": null,
      "metadata": {
        "colab": {
          "base_uri": "https://localhost:8080/"
        },
        "id": "JJ2u2jOnsaEE",
        "outputId": "55e520a3-41bb-4457-d4c6-bd2a322ee492"
      },
      "outputs": [
        {
          "data": {
            "text/plain": [
              "Санкт-Петербург                                            15721\n",
              "посёлок Мурино                                               522\n",
              "посёлок Шушары                                               440\n",
              "Всеволожск                                                   398\n",
              "Пушкин                                                       369\n",
              "                                                           ...  \n",
              "садоводческое некоммерческое товарищество Лесная Поляна        1\n",
              "деревня Сижно                                                  1\n",
              "деревня Пикколово                                              1\n",
              "поселок Коммунары                                              1\n",
              "деревня Пчева                                                  1\n",
              "Name: locality_name, Length: 364, dtype: int64"
            ]
          },
          "execution_count": 19,
          "metadata": {},
          "output_type": "execute_result"
        }
      ],
      "source": [
        "data['locality_name'].value_counts()"
      ]
    },
    {
      "cell_type": "markdown",
      "metadata": {
        "id": "uwj6Rz5-rMBy"
      },
      "source": [
        "Устраняем неявные дубликаты названий населённых пунктов с помощью замены подстрок"
      ]
    },
    {
      "cell_type": "code",
      "execution_count": null,
      "metadata": {
        "id": "Wa_-o8wFkgok"
      },
      "outputs": [],
      "source": [
        "items = ['поселок', 'посёлок городского типа', 'городской посёлок', 'коттеджный посёлок', 'посёлок при железнодорожной станции', 'посёлок станции']\n",
        "for item in items:\n",
        "  data['locality_name'] = data['locality_name'].str.replace(item, 'посёлок', regex=False)"
      ]
    },
    {
      "cell_type": "markdown",
      "metadata": {
        "id": "0wiyBUHbsonC"
      },
      "source": [
        "Проверяем, насколько стало меньше дубликатов"
      ]
    },
    {
      "cell_type": "code",
      "execution_count": null,
      "metadata": {
        "colab": {
          "base_uri": "https://localhost:8080/"
        },
        "id": "TR2iedNhlVvH",
        "outputId": "1114e17c-d021-4568-ddc6-9b3fe593cf31"
      },
      "outputs": [
        {
          "data": {
            "text/plain": [
              "Санкт-Петербург                    15721\n",
              "посёлок Мурино                       556\n",
              "посёлок Шушары                       440\n",
              "Всеволожск                           398\n",
              "Пушкин                               369\n",
              "                                   ...  \n",
              "посёлок Цвылёво                        1\n",
              "посёлок Платформа 69-й километр        1\n",
              "посёлок Свирьстрой                     1\n",
              "посёлок Жилпосёлок                     1\n",
              "садовое товарищество Рахья             1\n",
              "Name: locality_name, Length: 318, dtype: int64"
            ]
          },
          "execution_count": 21,
          "metadata": {},
          "output_type": "execute_result"
        }
      ],
      "source": [
        "data['locality_name'].value_counts()"
      ]
    },
    {
      "cell_type": "code",
      "execution_count": null,
      "metadata": {
        "colab": {
          "base_uri": "https://localhost:8080/"
        },
        "id": "XccMmm4UogzQ",
        "outputId": "6eb1c0cb-663a-4c1a-f9aa-c7e0285e3d23",
        "scrolled": false
      },
      "outputs": [
        {
          "data": {
            "text/plain": [
              "array(['Санкт-Петербург', 'посёлок Шушары', 'посёлок Янино-1',\n",
              "       'посёлок Парголово', 'посёлок Мурино', 'Ломоносов', 'Сертолово',\n",
              "       'Петергоф', 'Пушкин', 'деревня Кудрово', 'Коммунар', 'Колпино',\n",
              "       'посёлок Красный Бор', 'Гатчина', 'деревня Фёдоровское', 'Выборг',\n",
              "       'Кронштадт', 'Кировск', 'деревня Новое Девяткино',\n",
              "       'посёлок Металлострой', 'посёлок Лебяжье', 'посёлок Сиверский',\n",
              "       'посёлок Молодцово', 'посёлок Кузьмоловский',\n",
              "       'садовое товарищество Новая Ропша', 'Павловск',\n",
              "       'деревня Пикколово', 'Всеволожск', 'Волхов', 'Кингисепп',\n",
              "       'Приозерск', 'Сестрорецк', 'деревня Куттузи', 'посёлок Аннино',\n",
              "       'посёлок Ефимовский', 'посёлок Плодовое', 'деревня Заклинье',\n",
              "       'посёлок Торковичи', 'посёлок Первомайское', 'Красное Село',\n",
              "       'посёлок Понтонный', 'Сясьстрой', 'деревня Старая',\n",
              "       'деревня Лесколово', 'посёлок Новый Свет', 'Сланцы',\n",
              "       'село Путилово', 'Ивангород', 'Мурино', 'Шлиссельбург',\n",
              "       'Никольское', 'Зеленогорск', 'Сосновый Бор', 'деревня Оржицы',\n",
              "       'деревня Кальтино', 'Кудрово', 'посёлок Романовка',\n",
              "       'посёлок Бугры', 'посёлок Рощино', 'Кириши', 'Луга', 'Волосово',\n",
              "       'Отрадное', 'село Павлово', 'посёлок Оредеж', 'село Копорье',\n",
              "       'посёлок Молодёжное', 'Тихвин', 'посёлок Победа', 'деревня Нурма',\n",
              "       'посёлок Синявино', 'Тосно', 'посёлок Стрельна', 'Бокситогорск',\n",
              "       'посёлок Александровская', 'деревня Лопухинка', 'Пикалёво',\n",
              "       'посёлок Терволово', 'посёлок Советский', 'Подпорожье',\n",
              "       'посёлок Петровское', 'посёлок Токсово', 'посёлок Сельцо',\n",
              "       'посёлок Вырица', 'деревня Кипень', 'деревня Келози',\n",
              "       'деревня Вартемяги', 'посёлок Тельмана', 'посёлок Севастьяново',\n",
              "       'посёлок Большая Ижора', 'посёлок Павлово', 'деревня Агалатово',\n",
              "       'посёлок Новогорелово', 'посёлок Лесогорский', 'деревня Лаголово',\n",
              "       'посёлок Цвелодубово', 'посёлок Рахья', 'деревня Белогорка',\n",
              "       'посёлок Заводской', 'посёлок Новоселье',\n",
              "       'деревня Большие Колпаны', 'деревня Горбунки', 'деревня Батово',\n",
              "       'деревня Заневка', 'деревня Иссад', 'Приморск',\n",
              "       'посёлок Фёдоровское', 'деревня Мистолово', 'Новая Ладога',\n",
              "       'посёлок Зимитицы', 'посёлок Барышево', 'деревня Разметелево',\n",
              "       'посёлок имени Свердлова', 'деревня Пеники', 'посёлок Рябово',\n",
              "       'деревня Пудомяги', 'посёлок Корнево', 'деревня Низино',\n",
              "       'деревня Бегуницы', 'посёлок Поляны', 'посёлок Мга',\n",
              "       'посёлок Елизаветино', 'посёлок Кузнечное', 'деревня Колтуши',\n",
              "       'посёлок Запорожское', 'деревня Гостилицы',\n",
              "       'деревня Малое Карлино', 'посёлок Мичуринское',\n",
              "       'посёлок имени Морозова', 'посёлок Песочный', 'посёлок Сосново',\n",
              "       'деревня Аро', 'посёлок Ильичёво', 'посёлок Тайцы',\n",
              "       'деревня Малое Верево', 'деревня Извара', 'посёлок Вещево',\n",
              "       'село Паша', 'деревня Калитино', 'посёлок Ульяновка',\n",
              "       'деревня Чудской Бор', 'посёлок Дубровка', 'деревня Мины',\n",
              "       'посёлок Войсковицы', 'деревня Коркино', 'посёлок Ропша',\n",
              "       'посёлок Приладожский', 'посёлок Щеглово', 'посёлок Гаврилово',\n",
              "       'Лодейное Поле', 'деревня Рабитицы', 'посёлок Никольский',\n",
              "       'деревня Кузьмолово', 'деревня Малые Колпаны',\n",
              "       'посёлок Петро-Славянка', 'посёлок Назия', 'посёлок Репино',\n",
              "       'посёлок Углово', 'посёлок Старая Малукса',\n",
              "       'садовое товарищество Рахья', 'деревня Меньково',\n",
              "       'деревня Старые Бегуницы', 'посёлок Сапёрный', 'посёлок Семрино',\n",
              "       'посёлок Глажево', 'посёлок Кобринское', 'деревня Гарболово',\n",
              "       'деревня Юкки', 'посёлок Приветнинское', 'деревня Мануйлово',\n",
              "       'деревня Пчева', 'посёлок Цвылёво', 'посёлок Мельниково',\n",
              "       'посёлок Пудость', 'посёлок Усть-Луга', 'Светогорск', 'Любань',\n",
              "       'посёлок Селезнёво', 'Каменногорск', 'деревня Кривко',\n",
              "       'посёлок Глебычево', 'деревня Парицы', 'посёлок Жилпосёлок',\n",
              "       'посёлок Войскорово', 'село Никольское', 'посёлок Стеклянный',\n",
              "       'посёлок Важины', 'посёлок Мыза-Ивановка', 'село Русско-Высоцкое',\n",
              "       'посёлок Форносово', 'село Старая Ладога', 'посёлок Житково',\n",
              "       'посёлок Виллози', 'деревня Лампово', 'деревня Шпаньково',\n",
              "       'деревня Лаврики', 'посёлок Сумино', 'посёлок Возрождение',\n",
              "       'деревня Старосиверская', 'посёлок Кикерино',\n",
              "       'деревня Старое Хинколово', 'посёлок Пригородный',\n",
              "       'посёлок Торфяное', 'посёлок Будогощь', 'посёлок Суходолье',\n",
              "       'посёлок Красная Долина', 'деревня Хапо-Ое',\n",
              "       'посёлок Дружная Горка', 'посёлок Лисий Нос', 'деревня Яльгелево',\n",
              "       'село Рождествено', 'деревня Старополье', 'посёлок Левашово',\n",
              "       'деревня Сяськелево', 'деревня Камышовка',\n",
              "       'садоводческое некоммерческое товарищество Лесная Поляна',\n",
              "       'деревня Хязельки', 'посёлок Жилгородок', 'деревня Ялгино',\n",
              "       'посёлок Новый Учхоз', 'посёлок Гончарово', 'посёлок Почап',\n",
              "       'посёлок Сапёрное', 'посёлок Платформа 69-й километр',\n",
              "       'посёлок Каложицы', 'деревня Фалилеево', 'деревня Пельгора',\n",
              "       'деревня Торошковичи', 'посёлок Белоостров', 'посёлок Алексеевка',\n",
              "       'посёлок Серебрянский', 'посёлок Лукаши', 'деревня Щеглово',\n",
              "       'деревня Тарасово', 'посёлок Кингисеппский', 'посёлок Ушаки',\n",
              "       'деревня Котлы', 'деревня Сижно', 'деревня Торосово',\n",
              "       'посёлок Форт Красная Горка', 'деревня Новолисино',\n",
              "       'посёлок Громово', 'деревня Глинка', 'деревня Старая Пустошь',\n",
              "       'посёлок Коммунары', 'посёлок Починок', 'посёлок Вознесенье',\n",
              "       'деревня Разбегаево', 'посёлок Гладкое', 'посёлок Тёсово-4',\n",
              "       'деревня Бор', 'посёлок Коробицыно', 'деревня Большая Вруда',\n",
              "       'деревня Курковицы', 'посёлок Кобралово', 'деревня Суоранда',\n",
              "       'посёлок Кондратьево', 'посёлок Счастье', 'посёлок Любань',\n",
              "       'деревня Реброво', 'деревня Зимитицы', 'деревня Тойворово',\n",
              "       'посёлок Семиозерье', 'посёлок Лесное', 'посёлок Совхозный',\n",
              "       'посёлок Ленинское', 'посёлок Суйда', 'деревня Нижние Осельки',\n",
              "       'посёлок Свирь', 'посёлок Перово', 'Высоцк', 'посёлок Гарболово',\n",
              "       'село Шум', 'посёлок Котельский', 'посёлок Лужайка',\n",
              "       'деревня Большая Пустомержа', 'посёлок Красносельское',\n",
              "       'деревня Вахнова Кара', 'деревня Пижма', 'посёлок Кивеннапа Север',\n",
              "       'посёлок Ромашки', 'деревня Каськово', 'деревня Куровицы',\n",
              "       'посёлок Плоское', 'посёлок Кирпичное', 'деревня Ям-Тесово',\n",
              "       'деревня Раздолье', 'деревня Терпилицы', 'посёлок Шугозеро',\n",
              "       'деревня Ваганово', 'посёлок Пушное', 'садовое товарищество Садко',\n",
              "       'посёлок Усть-Ижора', 'деревня Выскатка', 'посёлок Свирьстрой',\n",
              "       'деревня Кисельня', 'деревня Трубников Бор', 'посёлок Калитино',\n",
              "       'посёлок Высокоключевой', 'садовое товарищество Приладожский',\n",
              "       'посёлок Пансионат Зелёный Бор', 'деревня Ненимяки',\n",
              "       'деревня Снегирёвка', 'деревня Рапполово', 'деревня Пустынка',\n",
              "       'посёлок Рабитицы', 'деревня Большой Сабск', 'деревня Русско',\n",
              "       'деревня Лупполово', 'деревня Большое Рейзино',\n",
              "       'деревня Малая Романовка', 'посёлок Дружноселье', 'посёлок Пчевжа',\n",
              "       'посёлок Володарское', 'деревня Нижняя', 'деревня Тихковицы',\n",
              "       'деревня Борисова Грива', 'посёлок Дзержинского'], dtype=object)"
            ]
          },
          "execution_count": 22,
          "metadata": {},
          "output_type": "execute_result"
        }
      ],
      "source": [
        "data['locality_name'].unique()"
      ]
    },
    {
      "cell_type": "markdown",
      "metadata": {
        "id": "-neci22FOs15"
      },
      "source": [
        "**2.4 Поиск и устранение аномальных значений**"
      ]
    },
    {
      "cell_type": "markdown",
      "metadata": {
        "id": "92Ff-UaWCfF0"
      },
      "source": [
        "Ищем аномальные значения в столбце высота потолков, так как гистограмма сырых данных выглядит странно"
      ]
    },
    {
      "cell_type": "code",
      "execution_count": null,
      "metadata": {
        "colab": {
          "base_uri": "https://localhost:8080/"
        },
        "id": "3Hso_ZYKCYs3",
        "outputId": "1b9f588d-3a0a-4b2e-acaa-9fda97b67ac9"
      },
      "outputs": [
        {
          "data": {
            "text/plain": [
              "count    23650.000000\n",
              "mean         2.724311\n",
              "std          0.989255\n",
              "min          1.000000\n",
              "25%          2.600000\n",
              "50%          2.650000\n",
              "75%          2.700000\n",
              "max        100.000000\n",
              "Name: ceiling_height, dtype: float64"
            ]
          },
          "execution_count": 23,
          "metadata": {},
          "output_type": "execute_result"
        }
      ],
      "source": [
        "data['ceiling_height'].describe()"
      ]
    },
    {
      "cell_type": "code",
      "execution_count": null,
      "metadata": {
        "colab": {
          "base_uri": "https://localhost:8080/",
          "height": 282
        },
        "id": "kBxErHF4VymW",
        "outputId": "bf1ed752-4a3e-407a-8710-5fbac013436c"
      },
      "outputs": [
        {
          "data": {
            "text/plain": [
              "<AxesSubplot:>"
            ]
          },
          "execution_count": 24,
          "metadata": {},
          "output_type": "execute_result"
        },
        {
          "data": {
            "image/png": "[encoded data removed]",
            "text/plain": [
              "<Figure size 432x288 with 1 Axes>"
            ]
          },
          "metadata": {
            "needs_background": "light"
          },
          "output_type": "display_data"
        }
      ],
      "source": [
        "data['ceiling_height'].hist(range=(0, 5))"
      ]
    },
    {
      "cell_type": "code",
      "execution_count": null,
      "metadata": {
        "colab": {
          "base_uri": "https://localhost:8080/",
          "height": 282
        },
        "id": "tKM6v_5m44zc",
        "outputId": "61bd6324-28bf-4a1b-92a8-08dd59c366bd"
      },
      "outputs": [
        {
          "data": {
            "text/plain": [
              "<AxesSubplot:>"
            ]
          },
          "execution_count": 25,
          "metadata": {},
          "output_type": "execute_result"
        },
        {
          "data": {
            "image/png": "[encoded data removed]",
            "text/plain": [
              "<Figure size 432x288 with 1 Axes>"
            ]
          },
          "metadata": {
            "needs_background": "light"
          },
          "output_type": "display_data"
        }
      ],
      "source": [
        "data['ceiling_height'].hist(range=(10, 30))"
      ]
    },
    {
      "cell_type": "markdown",
      "metadata": {
        "id": "5bKsk3weDbnQ"
      },
      "source": [
        "На гистограмме видно, что распределние высоты потолков находится от 2 до 4,5 метров (округлим до 5). Однако, есть несколько десятков объектов с аномальным значением высоты потолков от 20 до 30 метров, и даже 100 метров, судя по описанию столбца. Скорее всего, это ошибка ввода данных пользователями, и необходимо скорректировать их, разделив значения на 10."
      ]
    },
    {
      "cell_type": "code",
      "execution_count": null,
      "metadata": {
        "id": "JvyljpYBWq1J"
      },
      "outputs": [],
      "source": [
        "data['ceiling_height'] = data['ceiling_height'].where(data['ceiling_height'] < 20, data['ceiling_height'] / 10)"
      ]
    },
    {
      "cell_type": "code",
      "execution_count": null,
      "metadata": {
        "colab": {
          "base_uri": "https://localhost:8080/",
          "height": 285
        },
        "id": "2muFjxf4XinY",
        "outputId": "b8de9d28-6a16-4ff8-f715-a66f24ef96cf"
      },
      "outputs": [
        {
          "data": {
            "text/plain": [
              "<AxesSubplot:>"
            ]
          },
          "execution_count": 27,
          "metadata": {},
          "output_type": "execute_result"
        },
        {
          "data": {
            "image/png": "[encoded data removed]",
            "text/plain": [
              "<Figure size 432x288 with 1 Axes>"
            ]
          },
          "metadata": {
            "needs_background": "light"
          },
          "output_type": "display_data"
        }
      ],
      "source": [
        "data['ceiling_height'].hist(bins=100)"
      ]
    },
    {
      "cell_type": "markdown",
      "metadata": {
        "id": "rR2y0erLSGAF"
      },
      "source": [
        "Для удобства переведём значения в столбце цена на момент снятия объявления с публикации из руб. в тыс.руб."
      ]
    },
    {
      "cell_type": "code",
      "execution_count": null,
      "metadata": {
        "id": "i7Mrcjq_J0p2"
      },
      "outputs": [],
      "source": [
        "data['last_price'] = data['last_price'] / 1000"
      ]
    },
    {
      "cell_type": "code",
      "execution_count": null,
      "metadata": {
        "colab": {
          "base_uri": "https://localhost:8080/"
        },
        "id": "88qPTa8-PJzx",
        "outputId": "45f7395f-e2f7-445d-89bf-1c761f129f39"
      },
      "outputs": [
        {
          "data": {
            "text/plain": [
              "count     23650.000000\n",
              "mean       6541.126898\n",
              "std       10896.399175\n",
              "min          12.190000\n",
              "25%        3400.000000\n",
              "50%        4650.000000\n",
              "75%        6799.000000\n",
              "max      763000.000000\n",
              "Name: last_price, dtype: float64"
            ]
          },
          "execution_count": 29,
          "metadata": {},
          "output_type": "execute_result"
        }
      ],
      "source": [
        "data['last_price'].describe()"
      ]
    },
    {
      "cell_type": "code",
      "execution_count": null,
      "metadata": {
        "colab": {
          "base_uri": "https://localhost:8080/",
          "height": 282
        },
        "id": "ZcTh6RzTTBR9",
        "outputId": "9bdbb73e-d7b7-4a43-ddb5-a08ed1376027"
      },
      "outputs": [
        {
          "data": {
            "text/plain": [
              "<AxesSubplot:>"
            ]
          },
          "execution_count": 30,
          "metadata": {},
          "output_type": "execute_result"
        },
        {
          "data": {
            "image/png": "[encoded data removed]",
            "text/plain": [
              "<Figure size 432x288 with 1 Axes>"
            ]
          },
          "metadata": {
            "needs_background": "light"
          },
          "output_type": "display_data"
        }
      ],
      "source": [
        "data['last_price'].hist(bins=100, range=(0, 1000))"
      ]
    },
    {
      "cell_type": "markdown",
      "metadata": {
        "id": "GPoQhm-KSqmm"
      },
      "source": [
        "Изучив описание столбца, обнаруживаем, что в нём присутствует одно аномально низкое значение в 12 тыс.руб. Его необходимо удалить"
      ]
    },
    {
      "cell_type": "code",
      "execution_count": null,
      "metadata": {
        "id": "OtAvlIAqTDQM"
      },
      "outputs": [],
      "source": [
        "data = data.query('last_price > 200')"
      ]
    },
    {
      "cell_type": "code",
      "execution_count": null,
      "metadata": {
        "colab": {
          "base_uri": "https://localhost:8080/"
        },
        "id": "gY9oGbF9Tz9r",
        "outputId": "c4331593-5aaa-473e-d3f0-599b02fedbd7"
      },
      "outputs": [
        {
          "data": {
            "text/plain": [
              "count     23649.000000\n",
              "mean       6541.402975\n",
              "std       10896.546844\n",
              "min         430.000000\n",
              "25%        3400.000000\n",
              "50%        4650.000000\n",
              "75%        6799.000000\n",
              "max      763000.000000\n",
              "Name: last_price, dtype: float64"
            ]
          },
          "execution_count": 32,
          "metadata": {},
          "output_type": "execute_result"
        }
      ],
      "source": [
        "data['last_price'].describe()"
      ]
    },
    {
      "cell_type": "markdown",
      "metadata": {
        "id": "EqnukXxELf5f"
      },
      "source": [
        "Оценим, насколько много аномально дорогой недвижимости и сократим датасет, чтобы не искажать тренды графиков"
      ]
    },
    {
      "cell_type": "code",
      "execution_count": null,
      "metadata": {
        "scrolled": false,
        "id": "D0u4S_dBLf5f",
        "outputId": "2a695ed5-a155-4edc-f5e8-8c75cc51e0dc"
      },
      "outputs": [
        {
          "data": {
            "text/plain": [
              "<AxesSubplot:>"
            ]
          },
          "execution_count": 33,
          "metadata": {},
          "output_type": "execute_result"
        },
        {
          "data": {
            "image/png": "[encoded data removed]",
            "text/plain": [
              "<Figure size 432x288 with 1 Axes>"
            ]
          },
          "metadata": {
            "needs_background": "light"
          },
          "output_type": "display_data"
        }
      ],
      "source": [
        "data['last_price'].hist(range=(30000, 200000))"
      ]
    },
    {
      "cell_type": "code",
      "execution_count": null,
      "metadata": {
        "id": "-3hxdY8iLf5g"
      },
      "outputs": [],
      "source": [
        "data = data.query('last_price < 50000')"
      ]
    },
    {
      "cell_type": "markdown",
      "metadata": {
        "id": "KE9QpZWWLf5g"
      },
      "source": [
        "То же самое сделаем с общей площадью и количеством комнат"
      ]
    },
    {
      "cell_type": "code",
      "execution_count": null,
      "metadata": {
        "id": "5Rt4R9gHLf5g",
        "outputId": "7d761673-258c-423c-cb06-3638e34d5b84"
      },
      "outputs": [
        {
          "data": {
            "text/plain": [
              "<AxesSubplot:>"
            ]
          },
          "execution_count": 35,
          "metadata": {},
          "output_type": "execute_result"
        },
        {
          "data": {
            "image/png": "[encoded data removed]",
            "text/plain": [
              "<Figure size 432x288 with 1 Axes>"
            ]
          },
          "metadata": {
            "needs_background": "light"
          },
          "output_type": "display_data"
        }
      ],
      "source": [
        "data['total_area'].hist(range=(100, 1000))"
      ]
    },
    {
      "cell_type": "code",
      "execution_count": null,
      "metadata": {
        "id": "szqq4uwJLf5g"
      },
      "outputs": [],
      "source": [
        "data = data.query('total_area < 200')"
      ]
    },
    {
      "cell_type": "code",
      "execution_count": null,
      "metadata": {
        "scrolled": true,
        "id": "BNKXhEpaLf5g",
        "outputId": "ef004cac-85e0-4b11-ba29-da5d1460eecb"
      },
      "outputs": [
        {
          "data": {
            "text/plain": [
              "<AxesSubplot:>"
            ]
          },
          "execution_count": 37,
          "metadata": {},
          "output_type": "execute_result"
        },
        {
          "data": {
            "image/png": "[encoded data removed]",
            "text/plain": [
              "<Figure size 432x288 with 1 Axes>"
            ]
          },
          "metadata": {
            "needs_background": "light"
          },
          "output_type": "display_data"
        }
      ],
      "source": [
        "data['rooms'].hist(range=(2, 9))"
      ]
    },
    {
      "cell_type": "code",
      "execution_count": null,
      "metadata": {
        "id": "nuO8w43WLf5g"
      },
      "outputs": [],
      "source": [
        "data = data.query('rooms < 5')"
      ]
    },
    {
      "cell_type": "markdown",
      "metadata": {
        "id": "cu4ArL0NLf5g"
      },
      "source": [
        "Проверим, насколько изменились графики"
      ]
    },
    {
      "cell_type": "code",
      "execution_count": null,
      "metadata": {
        "id": "Qd2IKhcBLf5g",
        "outputId": "6fc1a801-ce7f-4544-be56-bb7947675a4c"
      },
      "outputs": [
        {
          "data": {
            "image/png": "[encoded data removed]",
            "text/plain": [
              "<Figure size 1080x1440 with 20 Axes>"
            ]
          },
          "metadata": {
            "needs_background": "light"
          },
          "output_type": "display_data"
        }
      ],
      "source": [
        "data.hist(figsize=(15, 20));"
      ]
    },
    {
      "cell_type": "markdown",
      "metadata": {
        "id": "SLnLXaJaiHNx"
      },
      "source": [
        "Как видим, после предобработки данные стали чище, а значит мы можем провести вспомогательные вычисления для дальнейшего исследования"
      ]
    },
    {
      "cell_type": "markdown",
      "metadata": {
        "id": "Gm91BXWfVbtt"
      },
      "source": [
        "### **3. Вспомогательные вычисления**"
      ]
    },
    {
      "cell_type": "markdown",
      "metadata": {
        "id": "G_m3tHHoj4nn"
      },
      "source": [
        "Добавим столбец со стоимостью 1 кв.м (в тыс.руб.) "
      ]
    },
    {
      "cell_type": "code",
      "execution_count": null,
      "metadata": {
        "id": "5_7Bl01kVbtt"
      },
      "outputs": [],
      "source": [
        "data['price_one_square_meter'] = data['last_price'] / data['total_area']"
      ]
    },
    {
      "cell_type": "code",
      "execution_count": null,
      "metadata": {
        "colab": {
          "base_uri": "https://localhost:8080/",
          "height": 386
        },
        "id": "nA0YQos8jxXR",
        "outputId": "4c4741fd-f38a-411a-d652-c89f00d14fde"
      },
      "outputs": [
        {
          "data": {
            "text/html": [
              "<div>\n",
              "<style scoped>\n",
              "    .dataframe tbody tr th:only-of-type {\n",
              "        vertical-align: middle;\n",
              "    }\n",
              "\n",
              "    .dataframe tbody tr th {\n",
              "        vertical-align: top;\n",
              "    }\n",
              "\n",
              "    .dataframe thead th {\n",
              "        text-align: right;\n",
              "    }\n",
              "</style>\n",
              "<table border=\"1\" class=\"dataframe\">\n",
              "  <thead>\n",
              "    <tr style=\"text-align: right;\">\n",
              "      <th></th>\n",
              "      <th>total_images</th>\n",
              "      <th>last_price</th>\n",
              "      <th>total_area</th>\n",
              "      <th>first_day_exposition</th>\n",
              "      <th>rooms</th>\n",
              "      <th>ceiling_height</th>\n",
              "      <th>floors_total</th>\n",
              "      <th>living_area</th>\n",
              "      <th>floor</th>\n",
              "      <th>is_apartment</th>\n",
              "      <th>studio</th>\n",
              "      <th>open_plan</th>\n",
              "      <th>kitchen_area</th>\n",
              "      <th>balcony</th>\n",
              "      <th>locality_name</th>\n",
              "      <th>airports_nearest</th>\n",
              "      <th>cityCenters_nearest</th>\n",
              "      <th>parks_around3000</th>\n",
              "      <th>parks_nearest</th>\n",
              "      <th>ponds_around3000</th>\n",
              "      <th>ponds_nearest</th>\n",
              "      <th>days_exposition</th>\n",
              "      <th>price_one_square_meter</th>\n",
              "    </tr>\n",
              "  </thead>\n",
              "  <tbody>\n",
              "    <tr>\n",
              "      <th>0</th>\n",
              "      <td>20</td>\n",
              "      <td>13000.0</td>\n",
              "      <td>108.0</td>\n",
              "      <td>2019-03-07</td>\n",
              "      <td>3</td>\n",
              "      <td>2.70</td>\n",
              "      <td>16.0</td>\n",
              "      <td>51.0</td>\n",
              "      <td>8</td>\n",
              "      <td>False</td>\n",
              "      <td>False</td>\n",
              "      <td>False</td>\n",
              "      <td>25.0</td>\n",
              "      <td>0</td>\n",
              "      <td>Санкт-Петербург</td>\n",
              "      <td>18863.0</td>\n",
              "      <td>16028.0</td>\n",
              "      <td>1.0</td>\n",
              "      <td>482.0</td>\n",
              "      <td>2.0</td>\n",
              "      <td>755.0</td>\n",
              "      <td>NaN</td>\n",
              "      <td>120.370370</td>\n",
              "    </tr>\n",
              "    <tr>\n",
              "      <th>1</th>\n",
              "      <td>7</td>\n",
              "      <td>3350.0</td>\n",
              "      <td>40.4</td>\n",
              "      <td>2018-12-04</td>\n",
              "      <td>1</td>\n",
              "      <td>2.65</td>\n",
              "      <td>11.0</td>\n",
              "      <td>18.6</td>\n",
              "      <td>1</td>\n",
              "      <td>False</td>\n",
              "      <td>False</td>\n",
              "      <td>False</td>\n",
              "      <td>11.0</td>\n",
              "      <td>2</td>\n",
              "      <td>посёлок Шушары</td>\n",
              "      <td>12817.0</td>\n",
              "      <td>18603.0</td>\n",
              "      <td>0.0</td>\n",
              "      <td>NaN</td>\n",
              "      <td>0.0</td>\n",
              "      <td>NaN</td>\n",
              "      <td>81.0</td>\n",
              "      <td>82.920792</td>\n",
              "    </tr>\n",
              "    <tr>\n",
              "      <th>2</th>\n",
              "      <td>10</td>\n",
              "      <td>5196.0</td>\n",
              "      <td>56.0</td>\n",
              "      <td>2015-08-20</td>\n",
              "      <td>2</td>\n",
              "      <td>2.65</td>\n",
              "      <td>5.0</td>\n",
              "      <td>34.3</td>\n",
              "      <td>4</td>\n",
              "      <td>False</td>\n",
              "      <td>False</td>\n",
              "      <td>False</td>\n",
              "      <td>8.3</td>\n",
              "      <td>0</td>\n",
              "      <td>Санкт-Петербург</td>\n",
              "      <td>21741.0</td>\n",
              "      <td>13933.0</td>\n",
              "      <td>1.0</td>\n",
              "      <td>90.0</td>\n",
              "      <td>2.0</td>\n",
              "      <td>574.0</td>\n",
              "      <td>558.0</td>\n",
              "      <td>92.785714</td>\n",
              "    </tr>\n",
              "    <tr>\n",
              "      <th>4</th>\n",
              "      <td>2</td>\n",
              "      <td>10000.0</td>\n",
              "      <td>100.0</td>\n",
              "      <td>2018-06-19</td>\n",
              "      <td>2</td>\n",
              "      <td>3.03</td>\n",
              "      <td>14.0</td>\n",
              "      <td>32.0</td>\n",
              "      <td>13</td>\n",
              "      <td>False</td>\n",
              "      <td>False</td>\n",
              "      <td>False</td>\n",
              "      <td>41.0</td>\n",
              "      <td>0</td>\n",
              "      <td>Санкт-Петербург</td>\n",
              "      <td>31856.0</td>\n",
              "      <td>8098.0</td>\n",
              "      <td>2.0</td>\n",
              "      <td>112.0</td>\n",
              "      <td>1.0</td>\n",
              "      <td>48.0</td>\n",
              "      <td>121.0</td>\n",
              "      <td>100.000000</td>\n",
              "    </tr>\n",
              "    <tr>\n",
              "      <th>5</th>\n",
              "      <td>10</td>\n",
              "      <td>2890.0</td>\n",
              "      <td>30.4</td>\n",
              "      <td>2018-09-10</td>\n",
              "      <td>1</td>\n",
              "      <td>2.65</td>\n",
              "      <td>12.0</td>\n",
              "      <td>14.4</td>\n",
              "      <td>5</td>\n",
              "      <td>False</td>\n",
              "      <td>False</td>\n",
              "      <td>False</td>\n",
              "      <td>9.1</td>\n",
              "      <td>0</td>\n",
              "      <td>посёлок Янино-1</td>\n",
              "      <td>NaN</td>\n",
              "      <td>NaN</td>\n",
              "      <td>0.0</td>\n",
              "      <td>NaN</td>\n",
              "      <td>0.0</td>\n",
              "      <td>NaN</td>\n",
              "      <td>55.0</td>\n",
              "      <td>95.065789</td>\n",
              "    </tr>\n",
              "  </tbody>\n",
              "</table>\n",
              "</div>"
            ],
            "text/plain": [
              "   total_images  last_price  total_area first_day_exposition  rooms  \\\n",
              "0            20     13000.0       108.0           2019-03-07      3   \n",
              "1             7      3350.0        40.4           2018-12-04      1   \n",
              "2            10      5196.0        56.0           2015-08-20      2   \n",
              "4             2     10000.0       100.0           2018-06-19      2   \n",
              "5            10      2890.0        30.4           2018-09-10      1   \n",
              "\n",
              "   ceiling_height  floors_total  living_area  floor  is_apartment  studio  \\\n",
              "0            2.70          16.0         51.0      8         False   False   \n",
              "1            2.65          11.0         18.6      1         False   False   \n",
              "2            2.65           5.0         34.3      4         False   False   \n",
              "4            3.03          14.0         32.0     13         False   False   \n",
              "5            2.65          12.0         14.4      5         False   False   \n",
              "\n",
              "   open_plan  kitchen_area  balcony    locality_name  airports_nearest  \\\n",
              "0      False          25.0        0  Санкт-Петербург           18863.0   \n",
              "1      False          11.0        2   посёлок Шушары           12817.0   \n",
              "2      False           8.3        0  Санкт-Петербург           21741.0   \n",
              "4      False          41.0        0  Санкт-Петербург           31856.0   \n",
              "5      False           9.1        0  посёлок Янино-1               NaN   \n",
              "\n",
              "   cityCenters_nearest  parks_around3000  parks_nearest  ponds_around3000  \\\n",
              "0              16028.0               1.0          482.0               2.0   \n",
              "1              18603.0               0.0            NaN               0.0   \n",
              "2              13933.0               1.0           90.0               2.0   \n",
              "4               8098.0               2.0          112.0               1.0   \n",
              "5                  NaN               0.0            NaN               0.0   \n",
              "\n",
              "   ponds_nearest  days_exposition  price_one_square_meter  \n",
              "0          755.0              NaN              120.370370  \n",
              "1            NaN             81.0               82.920792  \n",
              "2          574.0            558.0               92.785714  \n",
              "4           48.0            121.0              100.000000  \n",
              "5            NaN             55.0               95.065789  "
            ]
          },
          "execution_count": 41,
          "metadata": {},
          "output_type": "execute_result"
        }
      ],
      "source": [
        "data.head()"
      ]
    },
    {
      "cell_type": "markdown",
      "metadata": {
        "id": "mbbaaL9UoVFz"
      },
      "source": [
        "Добавим столбцы со днями недели, месяцами и годами публикации объявлений"
      ]
    },
    {
      "cell_type": "code",
      "execution_count": null,
      "metadata": {
        "id": "5Mw1yzd4lpYl"
      },
      "outputs": [],
      "source": [
        "data['weekday_exposition'] = data['first_day_exposition'].dt.weekday"
      ]
    },
    {
      "cell_type": "code",
      "execution_count": null,
      "metadata": {
        "id": "0BS6I61Xo141"
      },
      "outputs": [],
      "source": [
        "data['month_exposition'] = data['first_day_exposition'].dt.month"
      ]
    },
    {
      "cell_type": "code",
      "execution_count": null,
      "metadata": {
        "id": "UvQoNJ7FpAHE"
      },
      "outputs": [],
      "source": [
        "data['year_exposition'] = data['first_day_exposition'].dt.year"
      ]
    },
    {
      "cell_type": "markdown",
      "metadata": {
        "id": "VMb2Ti7w0Z3d"
      },
      "source": [
        "Распределим квартиры по типам этажа"
      ]
    },
    {
      "cell_type": "code",
      "execution_count": null,
      "metadata": {
        "id": "FFw7cTjvpMmU"
      },
      "outputs": [],
      "source": [
        "data.loc[data['floor'] == 1, 'floor_type'] = 'первый'\n",
        "data.loc[data['floor'] == data['floors_total'], 'floor_type'] = 'последний'\n",
        "data.loc[(data['floor'] != 1) & (data['floor'] != data['floors_total']), 'floor_type'] = 'другой' "
      ]
    },
    {
      "cell_type": "code",
      "execution_count": null,
      "metadata": {
        "colab": {
          "base_uri": "https://localhost:8080/"
        },
        "id": "lGeg7z5htFV0",
        "outputId": "f434a4b9-8985-448a-942f-c4a68b4dbfbe"
      },
      "outputs": [
        {
          "data": {
            "text/plain": [
              "другой       16952\n",
              "последний     3251\n",
              "первый        2815\n",
              "Name: floor_type, dtype: int64"
            ]
          },
          "execution_count": 46,
          "metadata": {},
          "output_type": "execute_result"
        }
      ],
      "source": [
        "data['floor_type'].value_counts()"
      ]
    },
    {
      "cell_type": "markdown",
      "metadata": {
        "id": "pfgHYUUB-1z1"
      },
      "source": [
        "Создадим новый столбец с округленным расстоянием до центра города в километрах"
      ]
    },
    {
      "cell_type": "code",
      "execution_count": null,
      "metadata": {
        "id": "WuULLu189moG"
      },
      "outputs": [],
      "source": [
        "data['to_city_centres_km'] = (data['cityCenters_nearest'] / 1000).round()"
      ]
    },
    {
      "cell_type": "markdown",
      "metadata": {
        "id": "hkVNYNKcL998"
      },
      "source": [
        "После того, как мы создали вспомогательные данные для исследования, можем приступить непосредственно к анализу данных"
      ]
    },
    {
      "cell_type": "markdown",
      "metadata": {
        "id": "sgd_nM8tVbtt"
      },
      "source": [
        "### **4. Исследовательский анализ данных**"
      ]
    },
    {
      "cell_type": "markdown",
      "metadata": {
        "id": "8IALTjHJ_naG"
      },
      "source": [
        "**4.1 Изучение параметров объектов недвижимости**"
      ]
    },
    {
      "cell_type": "code",
      "execution_count": null,
      "metadata": {
        "colab": {
          "base_uri": "https://localhost:8080/",
          "height": 282
        },
        "id": "iarBDczYVbtt",
        "outputId": "eaf1e35b-bbab-453c-b03f-b46fca737704"
      },
      "outputs": [
        {
          "data": {
            "text/plain": [
              "<AxesSubplot:>"
            ]
          },
          "execution_count": 48,
          "metadata": {},
          "output_type": "execute_result"
        },
        {
          "data": {
            "image/png": "[encoded data removed]",
            "text/plain": [
              "<Figure size 432x288 with 1 Axes>"
            ]
          },
          "metadata": {
            "needs_background": "light"
          },
          "output_type": "display_data"
        }
      ],
      "source": [
        "data['total_area'].hist(bins=100, range=(0, 400))"
      ]
    },
    {
      "cell_type": "markdown",
      "metadata": {
        "id": "SuHC2-0MAnEK"
      },
      "source": [
        "На графике видно, что основная часть объектов недвижимости по общей площади находится в районе от 30 до 100 кв.м. "
      ]
    },
    {
      "cell_type": "code",
      "execution_count": null,
      "metadata": {
        "colab": {
          "base_uri": "https://localhost:8080/",
          "height": 282
        },
        "id": "fbgmdrkbCdb8",
        "outputId": "2b018dfb-d932-4a87-cfb2-0c9ccd3863e9"
      },
      "outputs": [
        {
          "data": {
            "text/plain": [
              "<AxesSubplot:>"
            ]
          },
          "execution_count": 49,
          "metadata": {},
          "output_type": "execute_result"
        },
        {
          "data": {
            "image/png": "[encoded data removed]",
            "text/plain": [
              "<Figure size 432x288 with 1 Axes>"
            ]
          },
          "metadata": {
            "needs_background": "light"
          },
          "output_type": "display_data"
        }
      ],
      "source": [
        "data['living_area'].hist(bins=100, range=(0, 200))"
      ]
    },
    {
      "cell_type": "markdown",
      "metadata": {
        "id": "Wkcz-LA8EMlc"
      },
      "source": [
        "На графике жилой площади есть провал между 20 и 30 квадратными метрами"
      ]
    },
    {
      "cell_type": "code",
      "execution_count": null,
      "metadata": {
        "colab": {
          "base_uri": "https://localhost:8080/",
          "height": 282
        },
        "id": "nj_cRodvEYxL",
        "outputId": "905d3aa6-2872-4bd1-e965-e9125540201d"
      },
      "outputs": [
        {
          "data": {
            "text/plain": [
              "<AxesSubplot:>"
            ]
          },
          "execution_count": 50,
          "metadata": {},
          "output_type": "execute_result"
        },
        {
          "data": {
            "image/png": "[encoded data removed]",
            "text/plain": [
              "<Figure size 432x288 with 1 Axes>"
            ]
          },
          "metadata": {
            "needs_background": "light"
          },
          "output_type": "display_data"
        }
      ],
      "source": [
        "data['kitchen_area'].hist(bins=100, range=(0, 50))"
      ]
    },
    {
      "cell_type": "markdown",
      "metadata": {
        "id": "bUtYyK5YE_H9"
      },
      "source": [
        "Основная часть кухонь от 5 до 20 кв.м. Выделяются  пиковые стандартные значения площадей"
      ]
    },
    {
      "cell_type": "markdown",
      "metadata": {
        "id": "TM_9xmD0Lf5j"
      },
      "source": [
        "Переведём цены из тыс.руб. в млн.руб. для удобства восприятия"
      ]
    },
    {
      "cell_type": "code",
      "execution_count": null,
      "metadata": {
        "id": "95_BPLE6Lf5j"
      },
      "outputs": [],
      "source": [
        "data['last_price'] = data['last_price'] / 1000"
      ]
    },
    {
      "cell_type": "code",
      "execution_count": null,
      "metadata": {
        "colab": {
          "base_uri": "https://localhost:8080/",
          "height": 282
        },
        "id": "vLtmRu_JFVJT",
        "outputId": "6103d86b-6b5f-4955-d7c5-a1c163d3162d"
      },
      "outputs": [
        {
          "data": {
            "text/plain": [
              "<AxesSubplot:>"
            ]
          },
          "execution_count": 52,
          "metadata": {},
          "output_type": "execute_result"
        },
        {
          "data": {
            "image/png": "[encoded data removed]",
            "text/plain": [
              "<Figure size 432x288 with 1 Axes>"
            ]
          },
          "metadata": {
            "needs_background": "light"
          },
          "output_type": "display_data"
        }
      ],
      "source": [
        "data['last_price'].hist(bins=100, range=(0, 50))"
      ]
    },
    {
      "cell_type": "markdown",
      "metadata": {
        "id": "Zo3_4fcMF02p"
      },
      "source": [
        "Основная часть объектов продаётся по цене до 10 млн.рублей"
      ]
    },
    {
      "cell_type": "code",
      "execution_count": null,
      "metadata": {
        "colab": {
          "base_uri": "https://localhost:8080/",
          "height": 282
        },
        "id": "uLRuZTVnGX6P",
        "outputId": "a502ceb1-68c1-42ef-9b0e-7cdbb9f0b2c0"
      },
      "outputs": [
        {
          "data": {
            "text/plain": [
              "<AxesSubplot:>"
            ]
          },
          "execution_count": 53,
          "metadata": {},
          "output_type": "execute_result"
        },
        {
          "data": {
            "image/png": "[encoded data removed]",
            "text/plain": [
              "<Figure size 432x288 with 1 Axes>"
            ]
          },
          "metadata": {
            "needs_background": "light"
          },
          "output_type": "display_data"
        }
      ],
      "source": [
        "data['rooms'].hist(bins=100, range=(0, 10))"
      ]
    },
    {
      "cell_type": "markdown",
      "metadata": {
        "id": "OEg8Ylo6KIhE"
      },
      "source": [
        "Больше всего одно- и двухкомнатных квартир. Их примерно равное количество, около 8000. При этом есть объекты с 0 комнат. Возможно, это офисные помещения, студии или объекты со свободной планировкой "
      ]
    },
    {
      "cell_type": "code",
      "execution_count": null,
      "metadata": {
        "colab": {
          "base_uri": "https://localhost:8080/",
          "height": 282
        },
        "id": "px7GyDYJIQN4",
        "outputId": "afd8e215-cd8d-4227-9556-db17015663b2"
      },
      "outputs": [
        {
          "data": {
            "text/plain": [
              "<AxesSubplot:>"
            ]
          },
          "execution_count": 54,
          "metadata": {},
          "output_type": "execute_result"
        },
        {
          "data": {
            "image/png": "[encoded data removed]",
            "text/plain": [
              "<Figure size 432x288 with 1 Axes>"
            ]
          },
          "metadata": {
            "needs_background": "light"
          },
          "output_type": "display_data"
        }
      ],
      "source": [
        "data['ceiling_height'].hist(bins=100, range=(0, 6))"
      ]
    },
    {
      "cell_type": "markdown",
      "metadata": {
        "id": "MRA8qLPNIe47"
      },
      "source": [
        "Большая часть потолков распределена примерно от 2.5 до 3.5 м. При этом так же, как и в случае с кухнями, выделяются стандартные пиковые значения"
      ]
    },
    {
      "cell_type": "code",
      "execution_count": null,
      "metadata": {
        "colab": {
          "base_uri": "https://localhost:8080/",
          "height": 282
        },
        "id": "fa8CONunJFQm",
        "outputId": "b18d0f6b-8a73-4a11-f3b4-00f76c7401f8"
      },
      "outputs": [
        {
          "data": {
            "text/plain": [
              "<AxesSubplot:>"
            ]
          },
          "execution_count": 55,
          "metadata": {},
          "output_type": "execute_result"
        },
        {
          "data": {
            "image/png": "[encoded data removed]",
            "text/plain": [
              "<Figure size 432x288 with 1 Axes>"
            ]
          },
          "metadata": {
            "needs_background": "light"
          },
          "output_type": "display_data"
        }
      ],
      "source": [
        "data['floor_type'].hist()"
      ]
    },
    {
      "cell_type": "markdown",
      "metadata": {
        "id": "EjSVB9lXKpFl"
      },
      "source": [
        "Квартир на последнем этаже выставлено на продажу больше, чем на первом "
      ]
    },
    {
      "cell_type": "code",
      "execution_count": null,
      "metadata": {
        "colab": {
          "base_uri": "https://localhost:8080/",
          "height": 284
        },
        "id": "q9QDrq4jLUhu",
        "outputId": "9b9f5e92-f13d-4575-c60c-0ecbda546475"
      },
      "outputs": [
        {
          "data": {
            "text/plain": [
              "<AxesSubplot:>"
            ]
          },
          "execution_count": 56,
          "metadata": {},
          "output_type": "execute_result"
        },
        {
          "data": {
            "image/png": "[encoded data removed]",
            "text/plain": [
              "<Figure size 432x288 with 1 Axes>"
            ]
          },
          "metadata": {
            "needs_background": "light"
          },
          "output_type": "display_data"
        }
      ],
      "source": [
        "data['floors_total'].hist(bins=100, range=(0, 30))"
      ]
    },
    {
      "cell_type": "markdown",
      "metadata": {
        "id": "fWh1Q7oFLprN"
      },
      "source": [
        "Основная часть домов содержит от 2 до 25 этажей. Наиболее распространены пяти- и девятиэтажные. "
      ]
    },
    {
      "cell_type": "code",
      "execution_count": null,
      "metadata": {
        "colab": {
          "base_uri": "https://localhost:8080/",
          "height": 282
        },
        "id": "OeCeb4rjMXFC",
        "outputId": "6c0287f0-5e5a-481b-c15f-89e316922571"
      },
      "outputs": [
        {
          "data": {
            "text/plain": [
              "<AxesSubplot:>"
            ]
          },
          "execution_count": 57,
          "metadata": {},
          "output_type": "execute_result"
        },
        {
          "data": {
            "image/png": "[encoded data removed]",
            "text/plain": [
              "<Figure size 432x288 with 1 Axes>"
            ]
          },
          "metadata": {
            "needs_background": "light"
          },
          "output_type": "display_data"
        }
      ],
      "source": [
        "data['cityCenters_nearest'].hist(bins=100)"
      ]
    },
    {
      "cell_type": "markdown",
      "metadata": {
        "id": "vxjjDbRZOFFw"
      },
      "source": [
        "Основная часть выставленных на продажу объектов находится на расстоянии от 10 до 16 км от центра. При этом есть провал в значениях от 5 до 10 км "
      ]
    },
    {
      "cell_type": "code",
      "execution_count": null,
      "metadata": {
        "colab": {
          "base_uri": "https://localhost:8080/",
          "height": 282
        },
        "id": "dePifdjmOoIe",
        "outputId": "50621fc9-d442-4566-a6c2-91fa9da8b721"
      },
      "outputs": [
        {
          "data": {
            "text/plain": [
              "<AxesSubplot:>"
            ]
          },
          "execution_count": 58,
          "metadata": {},
          "output_type": "execute_result"
        },
        {
          "data": {
            "image/png": "[encoded data removed]",
            "text/plain": [
              "<Figure size 432x288 with 1 Axes>"
            ]
          },
          "metadata": {
            "needs_background": "light"
          },
          "output_type": "display_data"
        }
      ],
      "source": [
        "data['airports_nearest'].hist(bins=100)"
      ]
    },
    {
      "cell_type": "markdown",
      "metadata": {
        "id": "nJNJW1S6PKH9"
      },
      "source": [
        "Большая часть объектов находится на расстоянии от 10 до 40 км до ближайшего аэропорта"
      ]
    },
    {
      "cell_type": "code",
      "execution_count": null,
      "metadata": {
        "colab": {
          "base_uri": "https://localhost:8080/",
          "height": 282
        },
        "id": "0iGLV-lLPYg6",
        "outputId": "1af21ab0-1005-4427-f4dc-9063c50f71c2"
      },
      "outputs": [
        {
          "data": {
            "text/plain": [
              "<AxesSubplot:>"
            ]
          },
          "execution_count": 59,
          "metadata": {},
          "output_type": "execute_result"
        },
        {
          "data": {
            "image/png": "[encoded data removed]",
            "text/plain": [
              "<Figure size 432x288 with 1 Axes>"
            ]
          },
          "metadata": {
            "needs_background": "light"
          },
          "output_type": "display_data"
        }
      ],
      "source": [
        "data['parks_nearest'].hist(bins=100)"
      ]
    },
    {
      "cell_type": "markdown",
      "metadata": {
        "id": "KguMwKalQGfL"
      },
      "source": [
        "Основная часть объектов находится на расстоянии от 10 до 800 метров до ближайшего парка"
      ]
    },
    {
      "cell_type": "code",
      "execution_count": null,
      "metadata": {
        "colab": {
          "base_uri": "https://localhost:8080/",
          "height": 282
        },
        "id": "O4hZh0z4QxVD",
        "outputId": "b37bf356-c4db-4b0f-e2b3-3b15321e56ab"
      },
      "outputs": [
        {
          "data": {
            "text/plain": [
              "<AxesSubplot:>"
            ]
          },
          "execution_count": 60,
          "metadata": {},
          "output_type": "execute_result"
        },
        {
          "data": {
            "image/png": "[encoded data removed]",
            "text/plain": [
              "<Figure size 432x288 with 1 Axes>"
            ]
          },
          "metadata": {
            "needs_background": "light"
          },
          "output_type": "display_data"
        }
      ],
      "source": [
        "data['weekday_exposition'].hist(bins=15)"
      ]
    },
    {
      "cell_type": "markdown",
      "metadata": {
        "id": "S3kc0jyLRRoY"
      },
      "source": [
        "Чаще всего объявления публиковали в среду. В целом по будням это делают гораздо чаще, чем по выходным"
      ]
    },
    {
      "cell_type": "code",
      "execution_count": null,
      "metadata": {
        "colab": {
          "base_uri": "https://localhost:8080/",
          "height": 282
        },
        "id": "mrAEF6MKRhzo",
        "outputId": "d7551771-ad75-4a7e-ac7a-68d55a7b89a4"
      },
      "outputs": [
        {
          "data": {
            "text/plain": [
              "<AxesSubplot:>"
            ]
          },
          "execution_count": 61,
          "metadata": {},
          "output_type": "execute_result"
        },
        {
          "data": {
            "image/png": "[encoded data removed]",
            "text/plain": [
              "<Figure size 432x288 with 1 Axes>"
            ]
          },
          "metadata": {
            "needs_background": "light"
          },
          "output_type": "display_data"
        }
      ],
      "source": [
        "data['month_exposition'].hist(bins=25)"
      ]
    },
    {
      "cell_type": "markdown",
      "metadata": {
        "id": "mqU19UtZR_oR"
      },
      "source": [
        "Самая большая активность публикаций в феврале. Затем она уверенно держится до мая. В мае резко падает. С июня по август активность снижена, но затем всю осень она постепенно растёт до декабря. В декабре и январе активность примерно одинаково низкая"
      ]
    },
    {
      "cell_type": "markdown",
      "metadata": {
        "id": "PJdR1bK3bN26"
      },
      "source": [
        "**4.2 Исследуем, как быстро продавались квартиры**"
      ]
    },
    {
      "cell_type": "code",
      "execution_count": null,
      "metadata": {
        "colab": {
          "base_uri": "https://localhost:8080/",
          "height": 282
        },
        "id": "Gg2iyZ0lTAav",
        "outputId": "e9e9f17f-83d4-4c77-f025-5bbc55d6ca43"
      },
      "outputs": [
        {
          "data": {
            "text/plain": [
              "<AxesSubplot:>"
            ]
          },
          "execution_count": 62,
          "metadata": {},
          "output_type": "execute_result"
        },
        {
          "data": {
            "image/png": "[encoded data removed]",
            "text/plain": [
              "<Figure size 432x288 with 1 Axes>"
            ]
          },
          "metadata": {
            "needs_background": "light"
          },
          "output_type": "display_data"
        }
      ],
      "source": [
        "data['days_exposition'].hist(bins=100, range=(0, 600))"
      ]
    },
    {
      "cell_type": "code",
      "execution_count": null,
      "metadata": {
        "colab": {
          "base_uri": "https://localhost:8080/"
        },
        "id": "wR3Z_AM6aSr3",
        "outputId": "0d8e173c-c9ba-48e5-e0d6-e5189e19c47c"
      },
      "outputs": [
        {
          "data": {
            "text/plain": [
              "count    19999.000000\n",
              "mean       178.029151\n",
              "std        216.830036\n",
              "min          1.000000\n",
              "25%         44.000000\n",
              "50%         94.000000\n",
              "75%        227.000000\n",
              "max       1580.000000\n",
              "Name: days_exposition, dtype: float64"
            ]
          },
          "execution_count": 63,
          "metadata": {},
          "output_type": "execute_result"
        }
      ],
      "source": [
        "data['days_exposition'].describe()"
      ]
    },
    {
      "cell_type": "markdown",
      "metadata": {
        "id": "c1uIt1J7cTTk"
      },
      "source": [
        "Мы видим, что большинство объявлений размещается на срок до 100 дней. При этом есть пиковые значения в области 45 и 60 дней. С учётом того, что медиана составляет 94 дня, можно утверждать, что умеренно-быстрая продажа как раз и происходит в срок до 3 месяцев. Далее смотрим на среднее значение в 178 дней. В данном случае не очень показательное значение, так как отличается от третьего квартиля всего на 49 дней, а в нём заложены 75% значений, меньших, чем 227 дней, включая большинство значений до 100 дней. Таким образом, можем утверждать, что долгие продажи - это продажи, длящиеся более 8 месяцев "
      ]
    },
    {
      "cell_type": "markdown",
      "metadata": {
        "id": "ZQDU21K3kVYW"
      },
      "source": [
        "**4.3 Факторы влияния на конечную стоимость объектов**"
      ]
    },
    {
      "cell_type": "code",
      "execution_count": null,
      "metadata": {
        "colab": {
          "base_uri": "https://localhost:8080/"
        },
        "id": "6ptHjSWJke7u",
        "outputId": "49360e9a-ead6-4593-9062-6e90d7691151"
      },
      "outputs": [
        {
          "data": {
            "text/plain": [
              "0.7587055185951807"
            ]
          },
          "execution_count": 64,
          "metadata": {},
          "output_type": "execute_result"
        }
      ],
      "source": [
        "data['last_price'].corr(data['total_area'])"
      ]
    },
    {
      "cell_type": "code",
      "execution_count": null,
      "metadata": {
        "colab": {
          "base_uri": "https://localhost:8080/"
        },
        "id": "28EcNAjjkrXa",
        "outputId": "16fbe816-cefe-4308-b5ea-0442c93ad001"
      },
      "outputs": [
        {
          "data": {
            "text/plain": [
              "0.6320801899128342"
            ]
          },
          "execution_count": 65,
          "metadata": {},
          "output_type": "execute_result"
        }
      ],
      "source": [
        "data['last_price'].corr(data['living_area'])"
      ]
    },
    {
      "cell_type": "code",
      "execution_count": null,
      "metadata": {
        "colab": {
          "base_uri": "https://localhost:8080/"
        },
        "id": "aejamyqQl7ba",
        "outputId": "bb3338a2-3573-4865-dce7-fd78e43c2dde"
      },
      "outputs": [
        {
          "data": {
            "text/plain": [
              "0.5871334021254013"
            ]
          },
          "execution_count": 66,
          "metadata": {},
          "output_type": "execute_result"
        }
      ],
      "source": [
        "data['last_price'].corr(data['kitchen_area'])"
      ]
    },
    {
      "cell_type": "code",
      "execution_count": null,
      "metadata": {
        "colab": {
          "base_uri": "https://localhost:8080/"
        },
        "id": "SMUdohfrmC8a",
        "outputId": "c8d9888c-c24e-45f2-ceee-faffb1bb8447"
      },
      "outputs": [
        {
          "data": {
            "text/plain": [
              "0.43006788993952966"
            ]
          },
          "execution_count": 67,
          "metadata": {},
          "output_type": "execute_result"
        }
      ],
      "source": [
        "data['last_price'].corr(data['rooms'])"
      ]
    },
    {
      "cell_type": "markdown",
      "metadata": {
        "id": "_8QLyh7pr6ia"
      },
      "source": [
        "Исходя из расчётов, можем сказать, что наибольшее влияние на цену объектов оказывает общая площадь, нежели жилая площадь, площадь кухни или количество комнат"
      ]
    },
    {
      "cell_type": "markdown",
      "metadata": {
        "id": "2C7HpEUEsUpS"
      },
      "source": [
        "Исследуем, как меняется стоимость объектов в зависимости от типа этажа"
      ]
    },
    {
      "cell_type": "code",
      "execution_count": null,
      "metadata": {
        "colab": {
          "base_uri": "https://localhost:8080/",
          "height": 344
        },
        "id": "OXyUyECOmSy9",
        "outputId": "88d8844f-776c-4a4e-fcfc-2b20895b4caf"
      },
      "outputs": [
        {
          "data": {
            "text/plain": [
              "<AxesSubplot:xlabel='floor_type'>"
            ]
          },
          "execution_count": 68,
          "metadata": {},
          "output_type": "execute_result"
        },
        {
          "data": {
            "image/png": "[encoded data removed]",
            "text/plain": [
              "<Figure size 432x288 with 1 Axes>"
            ]
          },
          "metadata": {
            "needs_background": "light"
          },
          "output_type": "display_data"
        }
      ],
      "source": [
        "data_pivot_floor_type = data.pivot_table(index='floor_type', values='last_price', aggfunc='median')\n",
        "(data_pivot_floor_type\n",
        ".sort_values(by='last_price')\n",
        ".plot(y='last_price', kind='bar')\n",
        ")"
      ]
    },
    {
      "cell_type": "markdown",
      "metadata": {
        "id": "dRM94nnDsSUo"
      },
      "source": [
        "Итак, самая низкая стоимость, судя по медиане, у объектов на первых этажах. Дороже объекты на последних. И самые дорогие квартиры между ними"
      ]
    },
    {
      "cell_type": "markdown",
      "metadata": {
        "id": "mLsCZ0S0tn6C"
      },
      "source": [
        "Теперь проанализируем зависимость цены от даты размещения объявления по:\n",
        "- году;\n",
        "- месяцу;\n",
        "- дню недели."
      ]
    },
    {
      "cell_type": "code",
      "execution_count": null,
      "metadata": {
        "colab": {
          "base_uri": "https://localhost:8080/",
          "height": 313
        },
        "id": "v5j0xwXjt3BC",
        "outputId": "5bd2004e-e32b-4d91-b4fd-28d2d44fccb0"
      },
      "outputs": [
        {
          "data": {
            "text/plain": [
              "<AxesSubplot:xlabel='year_exposition'>"
            ]
          },
          "execution_count": 69,
          "metadata": {},
          "output_type": "execute_result"
        },
        {
          "data": {
            "image/png": "[encoded data removed]",
            "text/plain": [
              "<Figure size 432x288 with 1 Axes>"
            ]
          },
          "metadata": {
            "needs_background": "light"
          },
          "output_type": "display_data"
        }
      ],
      "source": [
        "data_pivot_year = data.pivot_table(index='year_exposition', values='last_price')\n",
        "data_pivot_year.plot(y='last_price', kind='bar')"
      ]
    },
    {
      "cell_type": "markdown",
      "metadata": {
        "id": "b_dagVHzvXs7"
      },
      "source": [
        "На графике видно, что до 2018 года стоимость недвижимости снижалась, причём в 2015 году упала на целых 30% по сравнению с 2014. В 2019 рост возобновился"
      ]
    },
    {
      "cell_type": "code",
      "execution_count": null,
      "metadata": {
        "colab": {
          "base_uri": "https://localhost:8080/",
          "height": 300
        },
        "id": "vow0EXiawKaU",
        "outputId": "d22fc2d4-3a8d-48b0-d3e6-873a0fcb12f3"
      },
      "outputs": [
        {
          "data": {
            "text/plain": [
              "<AxesSubplot:xlabel='month_exposition'>"
            ]
          },
          "execution_count": 70,
          "metadata": {},
          "output_type": "execute_result"
        },
        {
          "data": {
            "image/png": "[encoded data removed]",
            "text/plain": [
              "<Figure size 432x288 with 1 Axes>"
            ]
          },
          "metadata": {
            "needs_background": "light"
          },
          "output_type": "display_data"
        }
      ],
      "source": [
        "data_pivot_month = data.pivot_table(index='month_exposition', values='last_price')\n",
        "(data_pivot_month\n",
        " .sort_values(by='last_price')\n",
        " .plot(y='last_price', kind='bar')\n",
        ")"
      ]
    },
    {
      "cell_type": "markdown",
      "metadata": {
        "id": "RDOo027Ax215"
      },
      "source": [
        "Исходя из данных графика, можем заключить, что в среднем самые высокие цены на недвижимость продавцы выставляют в ноябрьских объявлениях, а самую низкую - в июньских"
      ]
    },
    {
      "cell_type": "code",
      "execution_count": null,
      "metadata": {
        "colab": {
          "base_uri": "https://localhost:8080/",
          "height": 294
        },
        "id": "3X97iwh4yZpk",
        "outputId": "75012c46-3929-46d5-a647-bfffe996d0f0"
      },
      "outputs": [
        {
          "data": {
            "text/plain": [
              "<AxesSubplot:xlabel='weekday_exposition'>"
            ]
          },
          "execution_count": 71,
          "metadata": {},
          "output_type": "execute_result"
        },
        {
          "data": {
            "image/png": "[encoded data removed]",
            "text/plain": [
              "<Figure size 432x288 with 1 Axes>"
            ]
          },
          "metadata": {
            "needs_background": "light"
          },
          "output_type": "display_data"
        }
      ],
      "source": [
        "data_pivot_weekday = data.pivot_table(index='weekday_exposition', values='last_price')\n",
        "(data_pivot_weekday\n",
        " .sort_values(by='last_price')\n",
        " .plot(y='last_price', kind='bar')\n",
        ")"
      ]
    },
    {
      "cell_type": "markdown",
      "metadata": {
        "id": "fuiSwixkzk7w"
      },
      "source": [
        "В среднем самые высокие цены ставят в среду, а самые низкие - в пятницу"
      ]
    },
    {
      "cell_type": "markdown",
      "metadata": {
        "id": "0Yz65Q6ASkHc"
      },
      "source": [
        "**4.4 Анализ средней стоимости 1 кв.м**"
      ]
    },
    {
      "cell_type": "markdown",
      "metadata": {
        "id": "yhwxkt9j1oiO"
      },
      "source": [
        "Посчитаем среднюю стоимость 1 кв.м недвижимости в десяти населённых пунктах с самым большим количеством объявлений"
      ]
    },
    {
      "cell_type": "code",
      "execution_count": null,
      "metadata": {
        "colab": {
          "base_uri": "https://localhost:8080/",
          "height": 391
        },
        "id": "MA8rXzYIAWxk",
        "outputId": "da68b88e-6826-49c7-9c2d-0725908d9b35"
      },
      "outputs": [
        {
          "data": {
            "text/plain": [
              "<AxesSubplot:xlabel='locality_name'>"
            ]
          },
          "execution_count": 72,
          "metadata": {},
          "output_type": "execute_result"
        },
        {
          "data": {
            "image/png": "[encoded data removed]",
            "text/plain": [
              "<Figure size 432x288 with 1 Axes>"
            ]
          },
          "metadata": {
            "needs_background": "light"
          },
          "output_type": "display_data"
        }
      ],
      "source": [
        "data_locality_price = data.groupby('locality_name')['price_one_square_meter'].agg(['count', 'mean']).sort_values(by='count', ascending=False).head(10)\n",
        "data_locality_price.columns = ['count', 'mean_price']\n",
        "(data_locality_price\n",
        " .sort_values(by='mean_price')\n",
        " .plot(y='mean_price', kind='bar')\n",
        ")"
      ]
    },
    {
      "cell_type": "markdown",
      "metadata": {
        "id": "ILBmsV97Dluf"
      },
      "source": [
        "Итак, самая высокая средняя цена за 1 кв.м недвижимости, как и самое большое количество объявлений, за Санкт-Петербургом. Среди топ 10 самая низкая стоимость за 1 кв.м в Выборге"
      ]
    },
    {
      "cell_type": "code",
      "execution_count": null,
      "metadata": {
        "colab": {
          "base_uri": "https://localhost:8080/",
          "height": 297
        },
        "id": "iIK5W68yFc2Q",
        "outputId": "b3360d0b-2088-4b7a-84c5-bbf7e6d53abd"
      },
      "outputs": [
        {
          "data": {
            "text/plain": [
              "<AxesSubplot:xlabel='to_city_centres_km'>"
            ]
          },
          "execution_count": 73,
          "metadata": {},
          "output_type": "execute_result"
        },
        {
          "data": {
            "image/png": "[encoded data removed]",
            "text/plain": [
              "<Figure size 432x288 with 1 Axes>"
            ]
          },
          "metadata": {
            "needs_background": "light"
          },
          "output_type": "display_data"
        }
      ],
      "source": [
        "data_spb_price = data.loc[data['locality_name'] == 'Санкт-Петербург'].groupby('to_city_centres_km')['price_one_square_meter'].agg('mean')\n",
        "data_spb_price.plot()"
      ]
    },
    {
      "cell_type": "markdown",
      "metadata": {
        "id": "AKhR7muZIrtS"
      },
      "source": [
        "На графике мы видим, что чем дальше от центра города, тем ниже средняя стоимость 1 кв.м. Причём стоимость резко снижается, начиная с примерно 4 км от центра. Есть подъёмы стоимости в районах 5-7 км от центра и в районе 27 км. Возможно, имеет место наличие элитной застройки в этих районах, однако на общий тренд они не влияют"
      ]
    },
    {
      "cell_type": "markdown",
      "metadata": {
        "id": "GO01DHehVbtt"
      },
      "source": [
        "### **5. Общий вывод**"
      ]
    },
    {
      "cell_type": "markdown",
      "metadata": {
        "id": "mXCoUxkDVbtu"
      },
      "source": [
        "В ходе исследования объявлений о продаже недвижимости в Ленинградской области и Санкт-Петербурге, мы выяснили, что большинство сделок о продаже происходит в первые 3 месяца после публикации объявления. \n",
        "\n",
        "Основным фактором, влияющим на конечную стоимость объекта, является его общая площадь.\n",
        "\n",
        "Больше всего недорогих объектов находится на первом этаже, и меньше всего между первым и последним.\n",
        "\n",
        "С 2019 года возобновился рост цен на недвижимости после падения в 2015 году.\n",
        "\n",
        "В среднем самые высокие цены продавцы выставляют в ноябре, а самые низкие - в начале лета.\n",
        "\n",
        "Самая высокая средняя стоимость 1 кв.м - в Санкт-Петербурге, самая низкая - в Выборге.\n",
        "\n",
        "Чем ближе центр Петербурга, тем выше средняя стоимость 1 кв.м недвижимости."
      ]
    }
  ],
  "metadata": {
    "ExecuteTimeLog": [
      {
        "duration": 355,
        "start_time": "2023-01-24T15:06:53.849Z"
      },
      {
        "duration": 3,
        "start_time": "2023-01-24T15:07:11.452Z"
      },
      {
        "duration": 316,
        "start_time": "2023-01-24T15:08:16.045Z"
      },
      {
        "duration": 13,
        "start_time": "2023-01-24T15:09:16.677Z"
      },
      {
        "duration": 89,
        "start_time": "2023-01-24T15:10:17.767Z"
      },
      {
        "duration": 24,
        "start_time": "2023-01-24T15:10:22.728Z"
      },
      {
        "duration": 16,
        "start_time": "2023-01-24T15:11:32.464Z"
      },
      {
        "duration": 2384,
        "start_time": "2023-01-24T15:13:20.297Z"
      },
      {
        "duration": 9,
        "start_time": "2023-01-24T15:23:31.853Z"
      },
      {
        "duration": 9,
        "start_time": "2023-01-24T15:25:03.812Z"
      },
      {
        "duration": 4,
        "start_time": "2023-01-24T15:29:17.001Z"
      },
      {
        "duration": 9,
        "start_time": "2023-01-24T15:29:36.628Z"
      },
      {
        "duration": 5,
        "start_time": "2023-01-24T15:43:01.337Z"
      },
      {
        "duration": 6,
        "start_time": "2023-01-24T17:07:37.769Z"
      },
      {
        "duration": 13,
        "start_time": "2023-01-24T17:08:02.367Z"
      },
      {
        "duration": 60,
        "start_time": "2023-01-24T17:15:54.643Z"
      },
      {
        "duration": 9,
        "start_time": "2023-01-24T17:16:31.902Z"
      },
      {
        "duration": 11,
        "start_time": "2023-01-24T17:16:51.633Z"
      },
      {
        "duration": 7,
        "start_time": "2023-01-24T17:28:46.637Z"
      },
      {
        "duration": 7,
        "start_time": "2023-01-24T17:38:27.693Z"
      },
      {
        "duration": 7,
        "start_time": "2023-01-24T17:50:55.640Z"
      },
      {
        "duration": 8,
        "start_time": "2023-01-24T17:51:14.827Z"
      },
      {
        "duration": 6,
        "start_time": "2023-01-24T18:00:01.911Z"
      },
      {
        "duration": 5,
        "start_time": "2023-01-24T18:01:47.844Z"
      },
      {
        "duration": 6,
        "start_time": "2023-01-24T18:01:51.006Z"
      },
      {
        "duration": 4,
        "start_time": "2023-01-24T18:02:41.646Z"
      },
      {
        "duration": 6,
        "start_time": "2023-01-24T18:02:44.638Z"
      },
      {
        "duration": 383,
        "start_time": "2023-01-24T18:03:19.814Z"
      },
      {
        "duration": 91,
        "start_time": "2023-01-24T18:03:20.199Z"
      },
      {
        "duration": 31,
        "start_time": "2023-01-24T18:03:20.292Z"
      },
      {
        "duration": 14,
        "start_time": "2023-01-24T18:03:20.325Z"
      },
      {
        "duration": 2129,
        "start_time": "2023-01-24T18:03:20.340Z"
      },
      {
        "duration": 9,
        "start_time": "2023-01-24T18:03:22.471Z"
      },
      {
        "duration": 14,
        "start_time": "2023-01-24T18:03:22.481Z"
      },
      {
        "duration": 8,
        "start_time": "2023-01-24T18:03:22.496Z"
      },
      {
        "duration": 21,
        "start_time": "2023-01-24T18:03:22.506Z"
      },
      {
        "duration": 18,
        "start_time": "2023-01-24T18:03:22.529Z"
      },
      {
        "duration": 12,
        "start_time": "2023-01-24T18:03:22.549Z"
      },
      {
        "duration": 21,
        "start_time": "2023-01-24T18:03:22.563Z"
      },
      {
        "duration": 401,
        "start_time": "2023-01-28T17:34:05.308Z"
      },
      {
        "duration": 708,
        "start_time": "2023-01-28T17:34:05.711Z"
      },
      {
        "duration": 52,
        "start_time": "2023-01-28T17:34:06.421Z"
      },
      {
        "duration": 18,
        "start_time": "2023-01-28T17:34:06.476Z"
      },
      {
        "duration": 3333,
        "start_time": "2023-01-28T17:34:06.496Z"
      },
      {
        "duration": 10,
        "start_time": "2023-01-28T17:34:09.830Z"
      },
      {
        "duration": 6,
        "start_time": "2023-01-28T17:34:09.883Z"
      },
      {
        "duration": 8,
        "start_time": "2023-01-28T17:34:09.891Z"
      },
      {
        "duration": 5,
        "start_time": "2023-01-28T17:34:09.901Z"
      },
      {
        "duration": 11,
        "start_time": "2023-01-28T17:34:09.909Z"
      },
      {
        "duration": 62,
        "start_time": "2023-01-28T17:34:09.921Z"
      },
      {
        "duration": 17,
        "start_time": "2023-01-28T17:34:09.985Z"
      },
      {
        "duration": 9,
        "start_time": "2023-01-28T17:34:10.004Z"
      },
      {
        "duration": 11,
        "start_time": "2023-01-28T17:34:10.015Z"
      },
      {
        "duration": 48,
        "start_time": "2023-01-28T17:34:10.081Z"
      },
      {
        "duration": 8,
        "start_time": "2023-01-28T17:34:10.182Z"
      },
      {
        "duration": 26,
        "start_time": "2023-01-28T17:34:10.191Z"
      },
      {
        "duration": 70,
        "start_time": "2023-01-28T17:34:10.219Z"
      },
      {
        "duration": 134,
        "start_time": "2023-01-28T17:34:10.290Z"
      },
      {
        "duration": 132,
        "start_time": "2023-01-28T17:34:10.426Z"
      },
      {
        "duration": 5,
        "start_time": "2023-01-28T17:34:10.560Z"
      },
      {
        "duration": 243,
        "start_time": "2023-01-28T17:34:10.566Z"
      },
      {
        "duration": 4,
        "start_time": "2023-01-28T17:34:10.811Z"
      },
      {
        "duration": 13,
        "start_time": "2023-01-28T17:34:10.817Z"
      },
      {
        "duration": 331,
        "start_time": "2023-01-28T17:34:10.832Z"
      },
      {
        "duration": 24,
        "start_time": "2023-01-28T17:34:11.164Z"
      },
      {
        "duration": 9,
        "start_time": "2023-01-28T17:34:11.190Z"
      },
      {
        "duration": 9,
        "start_time": "2023-01-28T17:34:11.203Z"
      },
      {
        "duration": 309,
        "start_time": "2023-01-28T17:34:11.213Z"
      },
      {
        "duration": 60,
        "start_time": "2023-01-28T17:34:11.523Z"
      },
      {
        "duration": 169,
        "start_time": "2023-01-28T17:34:11.585Z"
      },
      {
        "duration": 9,
        "start_time": "2023-01-28T17:34:11.756Z"
      },
      {
        "duration": 188,
        "start_time": "2023-01-28T17:34:11.767Z"
      },
      {
        "duration": 4,
        "start_time": "2023-01-28T17:34:11.957Z"
      },
      {
        "duration": 41,
        "start_time": "2023-01-28T17:34:11.962Z"
      },
      {
        "duration": 6,
        "start_time": "2023-01-28T17:34:12.004Z"
      },
      {
        "duration": 6,
        "start_time": "2023-01-28T17:34:12.011Z"
      },
      {
        "duration": 5,
        "start_time": "2023-01-28T17:34:12.018Z"
      },
      {
        "duration": 9,
        "start_time": "2023-01-28T17:34:12.024Z"
      },
      {
        "duration": 6,
        "start_time": "2023-01-28T17:34:12.035Z"
      },
      {
        "duration": 39,
        "start_time": "2023-01-28T17:34:12.042Z"
      },
      {
        "duration": 241,
        "start_time": "2023-01-28T17:34:12.083Z"
      },
      {
        "duration": 257,
        "start_time": "2023-01-28T17:34:12.325Z"
      },
      {
        "duration": 240,
        "start_time": "2023-01-28T17:34:12.583Z"
      },
      {
        "duration": 358,
        "start_time": "2023-01-28T17:34:12.825Z"
      },
      {
        "duration": 258,
        "start_time": "2023-01-28T17:34:13.184Z"
      },
      {
        "duration": 273,
        "start_time": "2023-01-28T17:34:13.444Z"
      },
      {
        "duration": 123,
        "start_time": "2023-01-28T17:34:13.719Z"
      },
      {
        "duration": 225,
        "start_time": "2023-01-28T17:34:13.844Z"
      },
      {
        "duration": 222,
        "start_time": "2023-01-28T17:34:14.071Z"
      },
      {
        "duration": 310,
        "start_time": "2023-01-28T17:34:14.295Z"
      },
      {
        "duration": 204,
        "start_time": "2023-01-28T17:34:14.606Z"
      },
      {
        "duration": 129,
        "start_time": "2023-01-28T17:34:14.812Z"
      },
      {
        "duration": 129,
        "start_time": "2023-01-28T17:34:14.943Z"
      },
      {
        "duration": 222,
        "start_time": "2023-01-28T17:34:15.080Z"
      },
      {
        "duration": 9,
        "start_time": "2023-01-28T17:34:15.303Z"
      },
      {
        "duration": 4,
        "start_time": "2023-01-28T17:34:15.314Z"
      },
      {
        "duration": 5,
        "start_time": "2023-01-28T17:34:15.320Z"
      },
      {
        "duration": 6,
        "start_time": "2023-01-28T17:34:15.327Z"
      },
      {
        "duration": 5,
        "start_time": "2023-01-28T17:34:15.334Z"
      },
      {
        "duration": 151,
        "start_time": "2023-01-28T17:34:15.340Z"
      },
      {
        "duration": 150,
        "start_time": "2023-01-28T17:34:15.493Z"
      },
      {
        "duration": 174,
        "start_time": "2023-01-28T17:34:15.645Z"
      },
      {
        "duration": 152,
        "start_time": "2023-01-28T17:34:15.821Z"
      },
      {
        "duration": 172,
        "start_time": "2023-01-28T17:34:15.974Z"
      },
      {
        "duration": 140,
        "start_time": "2023-01-28T17:34:16.147Z"
      },
      {
        "duration": 23,
        "start_time": "2023-01-28T17:35:17.605Z"
      },
      {
        "duration": 13,
        "start_time": "2023-01-28T17:35:54.020Z"
      },
      {
        "duration": 95,
        "start_time": "2023-01-28T17:35:57.505Z"
      },
      {
        "duration": 6,
        "start_time": "2023-01-28T17:36:11.254Z"
      },
      {
        "duration": 57,
        "start_time": "2023-01-29T14:09:14.373Z"
      },
      {
        "duration": 429,
        "start_time": "2023-01-29T14:09:32.078Z"
      },
      {
        "duration": 173,
        "start_time": "2023-01-29T14:09:32.509Z"
      },
      {
        "duration": 2,
        "start_time": "2023-01-29T14:09:32.683Z"
      },
      {
        "duration": 35,
        "start_time": "2023-01-29T14:09:32.687Z"
      },
      {
        "duration": 13,
        "start_time": "2023-01-29T14:09:32.724Z"
      },
      {
        "duration": 2343,
        "start_time": "2023-01-29T14:09:32.739Z"
      },
      {
        "duration": 11,
        "start_time": "2023-01-29T14:09:35.084Z"
      },
      {
        "duration": 24,
        "start_time": "2023-01-29T14:09:35.097Z"
      },
      {
        "duration": 5,
        "start_time": "2023-01-29T14:09:35.123Z"
      },
      {
        "duration": 6,
        "start_time": "2023-01-29T14:09:35.131Z"
      },
      {
        "duration": 11,
        "start_time": "2023-01-29T14:09:35.139Z"
      },
      {
        "duration": 8,
        "start_time": "2023-01-29T14:09:35.152Z"
      },
      {
        "duration": 19,
        "start_time": "2023-01-29T14:09:35.161Z"
      },
      {
        "duration": 8,
        "start_time": "2023-01-29T14:09:35.182Z"
      },
      {
        "duration": 9,
        "start_time": "2023-01-29T14:09:35.191Z"
      },
      {
        "duration": 73,
        "start_time": "2023-01-29T14:09:35.201Z"
      },
      {
        "duration": 9,
        "start_time": "2023-01-29T14:09:35.276Z"
      },
      {
        "duration": 12,
        "start_time": "2023-01-29T14:09:35.287Z"
      },
      {
        "duration": 15,
        "start_time": "2023-01-29T14:09:35.301Z"
      },
      {
        "duration": 167,
        "start_time": "2023-01-29T14:09:35.319Z"
      },
      {
        "duration": 189,
        "start_time": "2023-01-29T14:09:35.488Z"
      },
      {
        "duration": 6,
        "start_time": "2023-01-29T14:09:35.679Z"
      },
      {
        "duration": 274,
        "start_time": "2023-01-29T14:09:35.686Z"
      },
      {
        "duration": 5,
        "start_time": "2023-01-29T14:09:35.962Z"
      },
      {
        "duration": 43,
        "start_time": "2023-01-29T14:09:35.969Z"
      },
      {
        "duration": 467,
        "start_time": "2023-01-29T14:09:36.014Z"
      },
      {
        "duration": 13,
        "start_time": "2023-01-29T14:09:36.483Z"
      },
      {
        "duration": 21,
        "start_time": "2023-01-29T14:09:36.502Z"
      },
      {
        "duration": 30,
        "start_time": "2023-01-29T14:09:36.529Z"
      },
      {
        "duration": 166,
        "start_time": "2023-01-29T14:09:36.561Z"
      },
      {
        "duration": 24,
        "start_time": "2023-01-29T14:09:36.729Z"
      },
      {
        "duration": 187,
        "start_time": "2023-01-29T14:09:36.755Z"
      },
      {
        "duration": 31,
        "start_time": "2023-01-29T14:09:36.944Z"
      },
      {
        "duration": 198,
        "start_time": "2023-01-29T14:09:36.978Z"
      },
      {
        "duration": 4,
        "start_time": "2023-01-29T14:09:37.178Z"
      },
      {
        "duration": 33,
        "start_time": "2023-01-29T14:09:37.184Z"
      },
      {
        "duration": 9,
        "start_time": "2023-01-29T14:09:37.219Z"
      },
      {
        "duration": 26,
        "start_time": "2023-01-29T14:09:37.230Z"
      },
      {
        "duration": 6,
        "start_time": "2023-01-29T14:09:37.258Z"
      },
      {
        "duration": 13,
        "start_time": "2023-01-29T14:09:37.266Z"
      },
      {
        "duration": 10,
        "start_time": "2023-01-29T14:09:37.282Z"
      },
      {
        "duration": 10,
        "start_time": "2023-01-29T14:09:37.293Z"
      },
      {
        "duration": 384,
        "start_time": "2023-01-29T14:09:37.305Z"
      },
      {
        "duration": 249,
        "start_time": "2023-01-29T14:09:37.692Z"
      },
      {
        "duration": 267,
        "start_time": "2023-01-29T14:09:37.944Z"
      },
      {
        "duration": 328,
        "start_time": "2023-01-29T14:09:38.213Z"
      },
      {
        "duration": 248,
        "start_time": "2023-01-29T14:09:38.542Z"
      },
      {
        "duration": 261,
        "start_time": "2023-01-29T14:09:38.792Z"
      },
      {
        "duration": 139,
        "start_time": "2023-01-29T14:09:39.055Z"
      },
      {
        "duration": 242,
        "start_time": "2023-01-29T14:09:39.196Z"
      },
      {
        "duration": 263,
        "start_time": "2023-01-29T14:09:39.441Z"
      },
      {
        "duration": 426,
        "start_time": "2023-01-29T14:09:39.706Z"
      },
      {
        "duration": 277,
        "start_time": "2023-01-29T14:09:40.135Z"
      },
      {
        "duration": 163,
        "start_time": "2023-01-29T14:09:40.414Z"
      },
      {
        "duration": 169,
        "start_time": "2023-01-29T14:09:40.579Z"
      },
      {
        "duration": 278,
        "start_time": "2023-01-29T14:09:40.753Z"
      },
      {
        "duration": 20,
        "start_time": "2023-01-29T14:09:41.034Z"
      },
      {
        "duration": 6,
        "start_time": "2023-01-29T14:09:41.057Z"
      },
      {
        "duration": 12,
        "start_time": "2023-01-29T14:09:41.065Z"
      },
      {
        "duration": 9,
        "start_time": "2023-01-29T14:09:41.079Z"
      },
      {
        "duration": 8,
        "start_time": "2023-01-29T14:09:41.090Z"
      },
      {
        "duration": 165,
        "start_time": "2023-01-29T14:09:41.100Z"
      },
      {
        "duration": 188,
        "start_time": "2023-01-29T14:09:41.267Z"
      },
      {
        "duration": 206,
        "start_time": "2023-01-29T14:09:41.457Z"
      },
      {
        "duration": 153,
        "start_time": "2023-01-29T14:09:41.665Z"
      },
      {
        "duration": 192,
        "start_time": "2023-01-29T14:09:41.820Z"
      },
      {
        "duration": 203,
        "start_time": "2023-01-29T14:09:42.015Z"
      },
      {
        "duration": 2839,
        "start_time": "2023-01-29T14:13:09.492Z"
      },
      {
        "duration": 414,
        "start_time": "2023-01-29T14:24:23.946Z"
      },
      {
        "duration": 90,
        "start_time": "2023-01-29T14:24:24.362Z"
      },
      {
        "duration": 3,
        "start_time": "2023-01-29T14:24:24.453Z"
      },
      {
        "duration": 31,
        "start_time": "2023-01-29T14:24:24.457Z"
      },
      {
        "duration": 24,
        "start_time": "2023-01-29T14:24:24.490Z"
      },
      {
        "duration": 2178,
        "start_time": "2023-01-29T14:24:24.516Z"
      },
      {
        "duration": 11,
        "start_time": "2023-01-29T14:24:26.696Z"
      },
      {
        "duration": 10,
        "start_time": "2023-01-29T14:24:26.708Z"
      },
      {
        "duration": 20,
        "start_time": "2023-01-29T14:24:26.720Z"
      },
      {
        "duration": 6,
        "start_time": "2023-01-29T14:24:26.743Z"
      },
      {
        "duration": 30,
        "start_time": "2023-01-29T14:24:26.750Z"
      },
      {
        "duration": 8,
        "start_time": "2023-01-29T14:24:26.782Z"
      },
      {
        "duration": 34,
        "start_time": "2023-01-29T14:24:26.792Z"
      },
      {
        "duration": 7,
        "start_time": "2023-01-29T14:24:26.829Z"
      },
      {
        "duration": 26,
        "start_time": "2023-01-29T14:24:26.837Z"
      },
      {
        "duration": 65,
        "start_time": "2023-01-29T14:24:26.865Z"
      },
      {
        "duration": 11,
        "start_time": "2023-01-29T14:24:26.931Z"
      },
      {
        "duration": 37,
        "start_time": "2023-01-29T14:24:26.944Z"
      },
      {
        "duration": 20,
        "start_time": "2023-01-29T14:24:26.983Z"
      },
      {
        "duration": 151,
        "start_time": "2023-01-29T14:24:27.004Z"
      },
      {
        "duration": 153,
        "start_time": "2023-01-29T14:24:27.157Z"
      },
      {
        "duration": 8,
        "start_time": "2023-01-29T14:24:27.312Z"
      },
      {
        "duration": 409,
        "start_time": "2023-01-29T14:24:27.322Z"
      },
      {
        "duration": 3,
        "start_time": "2023-01-29T14:24:27.733Z"
      },
      {
        "duration": 30,
        "start_time": "2023-01-29T14:24:27.738Z"
      },
      {
        "duration": 239,
        "start_time": "2023-01-29T14:24:27.770Z"
      },
      {
        "duration": 10,
        "start_time": "2023-01-29T14:24:28.010Z"
      },
      {
        "duration": 16,
        "start_time": "2023-01-29T14:24:28.021Z"
      },
      {
        "duration": 20,
        "start_time": "2023-01-29T14:24:28.039Z"
      },
      {
        "duration": 243,
        "start_time": "2023-01-29T14:24:28.061Z"
      },
      {
        "duration": 9,
        "start_time": "2023-01-29T14:24:28.305Z"
      },
      {
        "duration": 160,
        "start_time": "2023-01-29T14:24:28.316Z"
      },
      {
        "duration": 10,
        "start_time": "2023-01-29T14:24:28.477Z"
      },
      {
        "duration": 175,
        "start_time": "2023-01-29T14:24:28.488Z"
      },
      {
        "duration": 4,
        "start_time": "2023-01-29T14:24:28.664Z"
      },
      {
        "duration": 26,
        "start_time": "2023-01-29T14:24:28.670Z"
      },
      {
        "duration": 7,
        "start_time": "2023-01-29T14:24:28.698Z"
      },
      {
        "duration": 9,
        "start_time": "2023-01-29T14:24:28.706Z"
      },
      {
        "duration": 10,
        "start_time": "2023-01-29T14:24:28.716Z"
      },
      {
        "duration": 38,
        "start_time": "2023-01-29T14:24:28.728Z"
      },
      {
        "duration": 10,
        "start_time": "2023-01-29T14:24:28.772Z"
      },
      {
        "duration": 5,
        "start_time": "2023-01-29T14:24:28.784Z"
      },
      {
        "duration": 243,
        "start_time": "2023-01-29T14:24:28.791Z"
      },
      {
        "duration": 251,
        "start_time": "2023-01-29T14:24:29.035Z"
      },
      {
        "duration": 246,
        "start_time": "2023-01-29T14:24:29.288Z"
      },
      {
        "duration": 271,
        "start_time": "2023-01-29T14:24:29.536Z"
      },
      {
        "duration": 350,
        "start_time": "2023-01-29T14:24:29.808Z"
      },
      {
        "duration": 255,
        "start_time": "2023-01-29T14:24:30.160Z"
      },
      {
        "duration": 158,
        "start_time": "2023-01-29T14:24:30.416Z"
      },
      {
        "duration": 236,
        "start_time": "2023-01-29T14:24:30.575Z"
      },
      {
        "duration": 246,
        "start_time": "2023-01-29T14:24:30.813Z"
      },
      {
        "duration": 265,
        "start_time": "2023-01-29T14:24:31.061Z"
      },
      {
        "duration": 385,
        "start_time": "2023-01-29T14:24:31.327Z"
      },
      {
        "duration": 161,
        "start_time": "2023-01-29T14:24:31.714Z"
      },
      {
        "duration": 164,
        "start_time": "2023-01-29T14:24:31.877Z"
      },
      {
        "duration": 281,
        "start_time": "2023-01-29T14:24:32.043Z"
      },
      {
        "duration": 11,
        "start_time": "2023-01-29T14:24:32.326Z"
      },
      {
        "duration": 18,
        "start_time": "2023-01-29T14:24:32.338Z"
      },
      {
        "duration": 15,
        "start_time": "2023-01-29T14:24:32.358Z"
      },
      {
        "duration": 8,
        "start_time": "2023-01-29T14:24:32.375Z"
      },
      {
        "duration": 8,
        "start_time": "2023-01-29T14:24:32.385Z"
      },
      {
        "duration": 173,
        "start_time": "2023-01-29T14:24:32.395Z"
      },
      {
        "duration": 158,
        "start_time": "2023-01-29T14:24:32.570Z"
      },
      {
        "duration": 216,
        "start_time": "2023-01-29T14:24:32.731Z"
      },
      {
        "duration": 172,
        "start_time": "2023-01-29T14:24:32.949Z"
      },
      {
        "duration": 225,
        "start_time": "2023-01-29T14:24:33.123Z"
      },
      {
        "duration": 154,
        "start_time": "2023-01-29T14:24:33.353Z"
      },
      {
        "duration": 44,
        "start_time": "2023-01-29T14:27:58.267Z"
      },
      {
        "duration": 57,
        "start_time": "2023-01-29T14:33:22.397Z"
      },
      {
        "duration": 72,
        "start_time": "2023-01-29T14:36:03.317Z"
      },
      {
        "duration": 11,
        "start_time": "2023-01-29T14:37:58.684Z"
      },
      {
        "duration": 5,
        "start_time": "2023-01-29T14:39:12.660Z"
      },
      {
        "duration": 13,
        "start_time": "2023-01-29T14:39:51.037Z"
      },
      {
        "duration": 15,
        "start_time": "2023-01-29T14:43:43.515Z"
      },
      {
        "duration": 16,
        "start_time": "2023-01-29T14:43:49.761Z"
      },
      {
        "duration": 12,
        "start_time": "2023-01-29T14:49:40.988Z"
      },
      {
        "duration": 5,
        "start_time": "2023-01-29T14:51:00.586Z"
      },
      {
        "duration": 22,
        "start_time": "2023-01-29T14:51:26.388Z"
      },
      {
        "duration": 5,
        "start_time": "2023-01-29T14:56:27.787Z"
      },
      {
        "duration": 20,
        "start_time": "2023-01-29T14:56:38.950Z"
      },
      {
        "duration": 7,
        "start_time": "2023-01-29T14:56:59.605Z"
      },
      {
        "duration": 22,
        "start_time": "2023-01-29T14:57:03.596Z"
      },
      {
        "duration": 17,
        "start_time": "2023-01-29T14:58:47.911Z"
      },
      {
        "duration": 173,
        "start_time": "2023-01-29T15:08:15.116Z"
      },
      {
        "duration": 153,
        "start_time": "2023-01-29T15:08:24.873Z"
      },
      {
        "duration": 287,
        "start_time": "2023-01-29T15:08:39.016Z"
      },
      {
        "duration": 158,
        "start_time": "2023-01-29T15:08:49.883Z"
      },
      {
        "duration": 137,
        "start_time": "2023-01-29T15:08:59.288Z"
      },
      {
        "duration": 143,
        "start_time": "2023-01-29T15:09:54.706Z"
      },
      {
        "duration": 15,
        "start_time": "2023-01-29T15:11:11.874Z"
      },
      {
        "duration": 18,
        "start_time": "2023-01-29T15:11:40.450Z"
      },
      {
        "duration": 6,
        "start_time": "2023-01-29T15:12:05.986Z"
      },
      {
        "duration": 509,
        "start_time": "2023-01-29T15:12:35.048Z"
      },
      {
        "duration": 116,
        "start_time": "2023-01-29T15:12:35.559Z"
      },
      {
        "duration": 3,
        "start_time": "2023-01-29T15:12:35.677Z"
      },
      {
        "duration": 43,
        "start_time": "2023-01-29T15:12:35.683Z"
      },
      {
        "duration": 24,
        "start_time": "2023-01-29T15:12:35.728Z"
      },
      {
        "duration": 2652,
        "start_time": "2023-01-29T15:12:35.758Z"
      },
      {
        "duration": 10,
        "start_time": "2023-01-29T15:12:38.412Z"
      },
      {
        "duration": 36,
        "start_time": "2023-01-29T15:12:38.423Z"
      },
      {
        "duration": 51,
        "start_time": "2023-01-29T15:12:38.461Z"
      },
      {
        "duration": 20,
        "start_time": "2023-01-29T15:12:38.514Z"
      },
      {
        "duration": 73,
        "start_time": "2023-01-29T15:12:38.536Z"
      },
      {
        "duration": 18,
        "start_time": "2023-01-29T15:12:38.611Z"
      },
      {
        "duration": 33,
        "start_time": "2023-01-29T15:12:38.630Z"
      },
      {
        "duration": 30,
        "start_time": "2023-01-29T15:12:38.665Z"
      },
      {
        "duration": 22,
        "start_time": "2023-01-29T15:12:38.697Z"
      },
      {
        "duration": 37,
        "start_time": "2023-01-29T15:12:38.721Z"
      },
      {
        "duration": 39,
        "start_time": "2023-01-29T15:12:38.785Z"
      },
      {
        "duration": 9,
        "start_time": "2023-01-29T15:12:38.827Z"
      },
      {
        "duration": 46,
        "start_time": "2023-01-29T15:12:38.838Z"
      },
      {
        "duration": 73,
        "start_time": "2023-01-29T15:12:38.886Z"
      },
      {
        "duration": 27,
        "start_time": "2023-01-29T15:12:38.961Z"
      },
      {
        "duration": 23,
        "start_time": "2023-01-29T15:12:38.990Z"
      },
      {
        "duration": 47,
        "start_time": "2023-01-29T15:12:39.015Z"
      },
      {
        "duration": 224,
        "start_time": "2023-01-29T15:12:39.065Z"
      },
      {
        "duration": 183,
        "start_time": "2023-01-29T15:12:39.291Z"
      },
      {
        "duration": 11,
        "start_time": "2023-01-29T15:12:39.477Z"
      },
      {
        "duration": 342,
        "start_time": "2023-01-29T15:12:39.490Z"
      },
      {
        "duration": 4,
        "start_time": "2023-01-29T15:12:39.837Z"
      },
      {
        "duration": 61,
        "start_time": "2023-01-29T15:12:39.843Z"
      },
      {
        "duration": 288,
        "start_time": "2023-01-29T15:12:39.906Z"
      },
      {
        "duration": 10,
        "start_time": "2023-01-29T15:12:40.196Z"
      },
      {
        "duration": 18,
        "start_time": "2023-01-29T15:12:40.208Z"
      },
      {
        "duration": 23,
        "start_time": "2023-01-29T15:12:40.228Z"
      },
      {
        "duration": 288,
        "start_time": "2023-01-29T15:12:40.252Z"
      },
      {
        "duration": 28,
        "start_time": "2023-01-29T15:12:40.543Z"
      },
      {
        "duration": 155,
        "start_time": "2023-01-29T15:12:40.578Z"
      },
      {
        "duration": 177,
        "start_time": "2023-01-29T15:12:40.735Z"
      },
      {
        "duration": 9,
        "start_time": "2023-01-29T15:12:40.914Z"
      },
      {
        "duration": 15,
        "start_time": "2023-01-29T15:12:40.925Z"
      },
      {
        "duration": 50,
        "start_time": "2023-01-29T15:12:40.942Z"
      },
      {
        "duration": 53,
        "start_time": "2023-01-29T15:12:40.994Z"
      },
      {
        "duration": 51,
        "start_time": "2023-01-29T15:12:41.049Z"
      },
      {
        "duration": 21,
        "start_time": "2023-01-29T15:12:41.102Z"
      },
      {
        "duration": 26,
        "start_time": "2023-01-29T15:12:41.125Z"
      },
      {
        "duration": 53,
        "start_time": "2023-01-29T15:12:41.157Z"
      },
      {
        "duration": 20,
        "start_time": "2023-01-29T15:12:41.212Z"
      },
      {
        "duration": 50,
        "start_time": "2023-01-29T15:12:41.234Z"
      },
      {
        "duration": 326,
        "start_time": "2023-01-29T15:12:41.286Z"
      },
      {
        "duration": 294,
        "start_time": "2023-01-29T15:12:41.615Z"
      },
      {
        "duration": 292,
        "start_time": "2023-01-29T15:12:41.911Z"
      },
      {
        "duration": 289,
        "start_time": "2023-01-29T15:12:42.205Z"
      },
      {
        "duration": 349,
        "start_time": "2023-01-29T15:12:42.495Z"
      },
      {
        "duration": 266,
        "start_time": "2023-01-29T15:12:42.846Z"
      },
      {
        "duration": 143,
        "start_time": "2023-01-29T15:12:43.113Z"
      },
      {
        "duration": 323,
        "start_time": "2023-01-29T15:12:43.260Z"
      },
      {
        "duration": 319,
        "start_time": "2023-01-29T15:12:43.585Z"
      },
      {
        "duration": 261,
        "start_time": "2023-01-29T15:12:43.906Z"
      },
      {
        "duration": 377,
        "start_time": "2023-01-29T15:12:44.168Z"
      },
      {
        "duration": 165,
        "start_time": "2023-01-29T15:12:44.547Z"
      },
      {
        "duration": 177,
        "start_time": "2023-01-29T15:12:44.713Z"
      },
      {
        "duration": 280,
        "start_time": "2023-01-29T15:12:44.892Z"
      },
      {
        "duration": 17,
        "start_time": "2023-01-29T15:12:45.174Z"
      },
      {
        "duration": 18,
        "start_time": "2023-01-29T15:12:45.192Z"
      },
      {
        "duration": 12,
        "start_time": "2023-01-29T15:12:45.212Z"
      },
      {
        "duration": 8,
        "start_time": "2023-01-29T15:12:45.226Z"
      },
      {
        "duration": 26,
        "start_time": "2023-01-29T15:12:45.236Z"
      },
      {
        "duration": 179,
        "start_time": "2023-01-29T15:12:45.268Z"
      },
      {
        "duration": 200,
        "start_time": "2023-01-29T15:12:45.449Z"
      },
      {
        "duration": 240,
        "start_time": "2023-01-29T15:12:45.651Z"
      },
      {
        "duration": 195,
        "start_time": "2023-01-29T15:12:45.893Z"
      },
      {
        "duration": 206,
        "start_time": "2023-01-29T15:12:46.090Z"
      },
      {
        "duration": 173,
        "start_time": "2023-01-29T15:12:46.298Z"
      },
      {
        "duration": 141,
        "start_time": "2023-01-29T15:14:03.293Z"
      },
      {
        "duration": 149,
        "start_time": "2023-01-29T15:16:12.675Z"
      },
      {
        "duration": 257,
        "start_time": "2023-01-29T15:19:30.471Z"
      },
      {
        "duration": 11,
        "start_time": "2023-01-29T15:20:33.418Z"
      },
      {
        "duration": 4,
        "start_time": "2023-01-29T15:20:36.885Z"
      },
      {
        "duration": 167,
        "start_time": "2023-01-29T15:20:59.781Z"
      },
      {
        "duration": 148,
        "start_time": "2023-01-29T15:21:54.247Z"
      },
      {
        "duration": 258,
        "start_time": "2023-01-29T15:22:14.515Z"
      },
      {
        "duration": 162,
        "start_time": "2023-01-29T15:23:02.724Z"
      },
      {
        "duration": 11,
        "start_time": "2023-01-29T15:24:39.794Z"
      },
      {
        "duration": 9,
        "start_time": "2023-01-29T15:24:44.129Z"
      },
      {
        "duration": 4,
        "start_time": "2023-01-29T15:24:46.939Z"
      },
      {
        "duration": 9,
        "start_time": "2023-01-29T15:27:26.734Z"
      },
      {
        "duration": 157,
        "start_time": "2023-01-29T15:27:29.579Z"
      },
      {
        "duration": 10,
        "start_time": "2023-01-29T15:27:32.787Z"
      },
      {
        "duration": 409,
        "start_time": "2023-01-29T15:31:57.871Z"
      },
      {
        "duration": 103,
        "start_time": "2023-01-29T15:31:58.282Z"
      },
      {
        "duration": 3,
        "start_time": "2023-01-29T15:31:58.387Z"
      },
      {
        "duration": 32,
        "start_time": "2023-01-29T15:31:58.392Z"
      },
      {
        "duration": 39,
        "start_time": "2023-01-29T15:31:58.426Z"
      },
      {
        "duration": 2428,
        "start_time": "2023-01-29T15:31:58.472Z"
      },
      {
        "duration": 11,
        "start_time": "2023-01-29T15:32:00.903Z"
      },
      {
        "duration": 23,
        "start_time": "2023-01-29T15:32:00.916Z"
      },
      {
        "duration": 41,
        "start_time": "2023-01-29T15:32:00.941Z"
      },
      {
        "duration": 33,
        "start_time": "2023-01-29T15:32:00.985Z"
      },
      {
        "duration": 81,
        "start_time": "2023-01-29T15:32:01.021Z"
      },
      {
        "duration": 14,
        "start_time": "2023-01-29T15:32:01.104Z"
      },
      {
        "duration": 46,
        "start_time": "2023-01-29T15:32:01.121Z"
      },
      {
        "duration": 7,
        "start_time": "2023-01-29T15:32:01.172Z"
      },
      {
        "duration": 21,
        "start_time": "2023-01-29T15:32:01.181Z"
      },
      {
        "duration": 41,
        "start_time": "2023-01-29T15:32:01.205Z"
      },
      {
        "duration": 18,
        "start_time": "2023-01-29T15:32:01.248Z"
      },
      {
        "duration": 21,
        "start_time": "2023-01-29T15:32:01.268Z"
      },
      {
        "duration": 25,
        "start_time": "2023-01-29T15:32:01.292Z"
      },
      {
        "duration": 83,
        "start_time": "2023-01-29T15:32:01.319Z"
      },
      {
        "duration": 10,
        "start_time": "2023-01-29T15:32:01.404Z"
      },
      {
        "duration": 16,
        "start_time": "2023-01-29T15:32:01.415Z"
      },
      {
        "duration": 31,
        "start_time": "2023-01-29T15:32:01.433Z"
      },
      {
        "duration": 176,
        "start_time": "2023-01-29T15:32:01.468Z"
      },
      {
        "duration": 178,
        "start_time": "2023-01-29T15:32:01.645Z"
      },
      {
        "duration": 8,
        "start_time": "2023-01-29T15:32:01.825Z"
      },
      {
        "duration": 341,
        "start_time": "2023-01-29T15:32:01.835Z"
      },
      {
        "duration": 5,
        "start_time": "2023-01-29T15:32:02.178Z"
      },
      {
        "duration": 31,
        "start_time": "2023-01-29T15:32:02.185Z"
      },
      {
        "duration": 310,
        "start_time": "2023-01-29T15:32:02.218Z"
      },
      {
        "duration": 11,
        "start_time": "2023-01-29T15:32:02.531Z"
      },
      {
        "duration": 25,
        "start_time": "2023-01-29T15:32:02.543Z"
      },
      {
        "duration": 265,
        "start_time": "2023-01-29T15:32:02.572Z"
      },
      {
        "duration": 18,
        "start_time": "2023-01-29T15:32:02.840Z"
      },
      {
        "duration": 164,
        "start_time": "2023-01-29T15:32:02.860Z"
      },
      {
        "duration": 11,
        "start_time": "2023-01-29T15:32:03.027Z"
      },
      {
        "duration": 168,
        "start_time": "2023-01-29T15:32:03.040Z"
      },
      {
        "duration": 90,
        "start_time": "2023-01-29T15:32:03.210Z"
      },
      {
        "duration": 0,
        "start_time": "2023-01-29T15:32:03.303Z"
      },
      {
        "duration": 0,
        "start_time": "2023-01-29T15:32:03.305Z"
      },
      {
        "duration": 0,
        "start_time": "2023-01-29T15:32:03.306Z"
      },
      {
        "duration": 0,
        "start_time": "2023-01-29T15:32:03.307Z"
      },
      {
        "duration": 0,
        "start_time": "2023-01-29T15:32:03.309Z"
      },
      {
        "duration": 0,
        "start_time": "2023-01-29T15:32:03.311Z"
      },
      {
        "duration": 0,
        "start_time": "2023-01-29T15:32:03.313Z"
      },
      {
        "duration": 0,
        "start_time": "2023-01-29T15:32:03.315Z"
      },
      {
        "duration": 0,
        "start_time": "2023-01-29T15:32:03.316Z"
      },
      {
        "duration": 0,
        "start_time": "2023-01-29T15:32:03.318Z"
      },
      {
        "duration": 0,
        "start_time": "2023-01-29T15:32:03.319Z"
      },
      {
        "duration": 0,
        "start_time": "2023-01-29T15:32:03.320Z"
      },
      {
        "duration": 1,
        "start_time": "2023-01-29T15:32:03.321Z"
      },
      {
        "duration": 0,
        "start_time": "2023-01-29T15:32:03.357Z"
      },
      {
        "duration": 0,
        "start_time": "2023-01-29T15:32:03.359Z"
      },
      {
        "duration": 0,
        "start_time": "2023-01-29T15:32:03.360Z"
      },
      {
        "duration": 0,
        "start_time": "2023-01-29T15:32:03.361Z"
      },
      {
        "duration": 0,
        "start_time": "2023-01-29T15:32:03.362Z"
      },
      {
        "duration": 0,
        "start_time": "2023-01-29T15:32:03.362Z"
      },
      {
        "duration": 0,
        "start_time": "2023-01-29T15:32:03.365Z"
      },
      {
        "duration": 0,
        "start_time": "2023-01-29T15:32:03.367Z"
      },
      {
        "duration": 0,
        "start_time": "2023-01-29T15:32:03.368Z"
      },
      {
        "duration": 0,
        "start_time": "2023-01-29T15:32:03.369Z"
      },
      {
        "duration": 0,
        "start_time": "2023-01-29T15:32:03.371Z"
      },
      {
        "duration": 0,
        "start_time": "2023-01-29T15:32:03.373Z"
      },
      {
        "duration": 0,
        "start_time": "2023-01-29T15:32:03.374Z"
      },
      {
        "duration": 0,
        "start_time": "2023-01-29T15:32:03.375Z"
      },
      {
        "duration": 0,
        "start_time": "2023-01-29T15:32:03.376Z"
      },
      {
        "duration": 0,
        "start_time": "2023-01-29T15:32:03.378Z"
      },
      {
        "duration": 0,
        "start_time": "2023-01-29T15:32:03.378Z"
      },
      {
        "duration": 0,
        "start_time": "2023-01-29T15:32:03.382Z"
      },
      {
        "duration": 0,
        "start_time": "2023-01-29T15:32:03.384Z"
      },
      {
        "duration": 1,
        "start_time": "2023-01-29T15:32:03.385Z"
      },
      {
        "duration": 11,
        "start_time": "2023-01-29T15:32:23.430Z"
      },
      {
        "duration": 2384,
        "start_time": "2023-01-29T15:33:23.572Z"
      },
      {
        "duration": 20,
        "start_time": "2023-01-29T15:35:51.172Z"
      },
      {
        "duration": 212,
        "start_time": "2023-01-29T15:35:53.849Z"
      },
      {
        "duration": 11,
        "start_time": "2023-01-29T15:36:07.897Z"
      },
      {
        "duration": 236,
        "start_time": "2023-01-29T15:36:09.952Z"
      },
      {
        "duration": 8,
        "start_time": "2023-01-29T15:36:13.293Z"
      },
      {
        "duration": 2602,
        "start_time": "2023-01-29T15:36:16.229Z"
      },
      {
        "duration": 10,
        "start_time": "2023-01-29T15:37:14.571Z"
      },
      {
        "duration": 9,
        "start_time": "2023-01-29T15:37:26.794Z"
      },
      {
        "duration": 12,
        "start_time": "2023-01-29T15:37:37.275Z"
      },
      {
        "duration": 6,
        "start_time": "2023-01-29T15:38:06.432Z"
      },
      {
        "duration": 548,
        "start_time": "2023-01-29T15:38:19.232Z"
      },
      {
        "duration": 128,
        "start_time": "2023-01-29T15:38:19.783Z"
      },
      {
        "duration": 8,
        "start_time": "2023-01-29T15:38:19.913Z"
      },
      {
        "duration": 31,
        "start_time": "2023-01-29T15:38:19.924Z"
      },
      {
        "duration": 37,
        "start_time": "2023-01-29T15:38:19.956Z"
      },
      {
        "duration": 2468,
        "start_time": "2023-01-29T15:38:19.995Z"
      },
      {
        "duration": 13,
        "start_time": "2023-01-29T15:38:22.469Z"
      },
      {
        "duration": 10,
        "start_time": "2023-01-29T15:38:22.484Z"
      },
      {
        "duration": 6,
        "start_time": "2023-01-29T15:38:22.496Z"
      },
      {
        "duration": 8,
        "start_time": "2023-01-29T15:38:22.505Z"
      },
      {
        "duration": 99,
        "start_time": "2023-01-29T15:38:22.515Z"
      },
      {
        "duration": 19,
        "start_time": "2023-01-29T15:38:22.616Z"
      },
      {
        "duration": 23,
        "start_time": "2023-01-29T15:38:22.653Z"
      },
      {
        "duration": 17,
        "start_time": "2023-01-29T15:38:22.678Z"
      },
      {
        "duration": 25,
        "start_time": "2023-01-29T15:38:22.697Z"
      },
      {
        "duration": 22,
        "start_time": "2023-01-29T15:38:22.725Z"
      },
      {
        "duration": 35,
        "start_time": "2023-01-29T15:38:22.749Z"
      },
      {
        "duration": 14,
        "start_time": "2023-01-29T15:38:22.787Z"
      },
      {
        "duration": 13,
        "start_time": "2023-01-29T15:38:22.803Z"
      },
      {
        "duration": 111,
        "start_time": "2023-01-29T15:38:22.818Z"
      },
      {
        "duration": 12,
        "start_time": "2023-01-29T15:38:22.931Z"
      },
      {
        "duration": 23,
        "start_time": "2023-01-29T15:38:22.945Z"
      },
      {
        "duration": 18,
        "start_time": "2023-01-29T15:38:22.973Z"
      },
      {
        "duration": 179,
        "start_time": "2023-01-29T15:38:22.993Z"
      },
      {
        "duration": 201,
        "start_time": "2023-01-29T15:38:23.175Z"
      },
      {
        "duration": 8,
        "start_time": "2023-01-29T15:38:23.379Z"
      },
      {
        "duration": 466,
        "start_time": "2023-01-29T15:38:23.389Z"
      },
      {
        "duration": 13,
        "start_time": "2023-01-29T15:38:23.862Z"
      },
      {
        "duration": 20,
        "start_time": "2023-01-29T15:38:23.876Z"
      },
      {
        "duration": 439,
        "start_time": "2023-01-29T15:38:23.901Z"
      },
      {
        "duration": 27,
        "start_time": "2023-01-29T15:38:24.342Z"
      },
      {
        "duration": 12,
        "start_time": "2023-01-29T15:38:24.371Z"
      },
      {
        "duration": 404,
        "start_time": "2023-01-29T15:38:24.385Z"
      },
      {
        "duration": 10,
        "start_time": "2023-01-29T15:38:24.791Z"
      },
      {
        "duration": 268,
        "start_time": "2023-01-29T15:38:24.804Z"
      },
      {
        "duration": 12,
        "start_time": "2023-01-29T15:38:25.078Z"
      },
      {
        "duration": 186,
        "start_time": "2023-01-29T15:38:25.092Z"
      },
      {
        "duration": 17,
        "start_time": "2023-01-29T15:38:25.281Z"
      },
      {
        "duration": 2757,
        "start_time": "2023-01-29T15:38:25.300Z"
      },
      {
        "duration": 4,
        "start_time": "2023-01-29T15:38:28.059Z"
      },
      {
        "duration": 21,
        "start_time": "2023-01-29T15:38:28.065Z"
      },
      {
        "duration": 30,
        "start_time": "2023-01-29T15:38:28.088Z"
      },
      {
        "duration": 14,
        "start_time": "2023-01-29T15:38:28.120Z"
      },
      {
        "duration": 8,
        "start_time": "2023-01-29T15:38:28.136Z"
      },
      {
        "duration": 8,
        "start_time": "2023-01-29T15:38:28.154Z"
      },
      {
        "duration": 28,
        "start_time": "2023-01-29T15:38:28.169Z"
      },
      {
        "duration": 10,
        "start_time": "2023-01-29T15:38:28.199Z"
      },
      {
        "duration": 8,
        "start_time": "2023-01-29T15:38:28.211Z"
      },
      {
        "duration": 287,
        "start_time": "2023-01-29T15:38:28.221Z"
      },
      {
        "duration": 311,
        "start_time": "2023-01-29T15:38:28.510Z"
      },
      {
        "duration": 346,
        "start_time": "2023-01-29T15:38:28.823Z"
      },
      {
        "duration": 265,
        "start_time": "2023-01-29T15:38:29.171Z"
      },
      {
        "duration": 496,
        "start_time": "2023-01-29T15:38:29.438Z"
      },
      {
        "duration": 459,
        "start_time": "2023-01-29T15:38:29.936Z"
      },
      {
        "duration": 163,
        "start_time": "2023-01-29T15:38:30.398Z"
      },
      {
        "duration": 283,
        "start_time": "2023-01-29T15:38:30.569Z"
      },
      {
        "duration": 309,
        "start_time": "2023-01-29T15:38:30.857Z"
      },
      {
        "duration": 254,
        "start_time": "2023-01-29T15:38:31.174Z"
      },
      {
        "duration": 446,
        "start_time": "2023-01-29T15:38:31.431Z"
      },
      {
        "duration": 163,
        "start_time": "2023-01-29T15:38:31.880Z"
      },
      {
        "duration": 165,
        "start_time": "2023-01-29T15:38:32.046Z"
      },
      {
        "duration": 294,
        "start_time": "2023-01-29T15:38:32.213Z"
      },
      {
        "duration": 15,
        "start_time": "2023-01-29T15:38:32.509Z"
      },
      {
        "duration": 7,
        "start_time": "2023-01-29T15:38:32.526Z"
      },
      {
        "duration": 20,
        "start_time": "2023-01-29T15:38:32.554Z"
      },
      {
        "duration": 21,
        "start_time": "2023-01-29T15:38:32.575Z"
      },
      {
        "duration": 7,
        "start_time": "2023-01-29T15:38:32.599Z"
      },
      {
        "duration": 212,
        "start_time": "2023-01-29T15:38:32.608Z"
      },
      {
        "duration": 176,
        "start_time": "2023-01-29T15:38:32.824Z"
      },
      {
        "duration": 214,
        "start_time": "2023-01-29T15:38:33.002Z"
      },
      {
        "duration": 255,
        "start_time": "2023-01-29T15:38:33.218Z"
      },
      {
        "duration": 209,
        "start_time": "2023-01-29T15:38:33.476Z"
      },
      {
        "duration": 204,
        "start_time": "2023-01-29T15:38:33.687Z"
      },
      {
        "duration": 471,
        "start_time": "2023-01-29T15:39:30.148Z"
      },
      {
        "duration": 105,
        "start_time": "2023-01-29T15:39:30.621Z"
      },
      {
        "duration": 2,
        "start_time": "2023-01-29T15:39:30.729Z"
      },
      {
        "duration": 54,
        "start_time": "2023-01-29T15:39:30.734Z"
      },
      {
        "duration": 48,
        "start_time": "2023-01-29T15:39:30.790Z"
      },
      {
        "duration": 2482,
        "start_time": "2023-01-29T15:39:30.840Z"
      },
      {
        "duration": 13,
        "start_time": "2023-01-29T15:39:33.325Z"
      },
      {
        "duration": 48,
        "start_time": "2023-01-29T15:39:33.341Z"
      },
      {
        "duration": 22,
        "start_time": "2023-01-29T15:39:33.391Z"
      },
      {
        "duration": 21,
        "start_time": "2023-01-29T15:39:33.418Z"
      },
      {
        "duration": 141,
        "start_time": "2023-01-29T15:39:33.441Z"
      },
      {
        "duration": 20,
        "start_time": "2023-01-29T15:39:33.584Z"
      },
      {
        "duration": 29,
        "start_time": "2023-01-29T15:39:33.607Z"
      },
      {
        "duration": 36,
        "start_time": "2023-01-29T15:39:33.638Z"
      },
      {
        "duration": 34,
        "start_time": "2023-01-29T15:39:33.677Z"
      },
      {
        "duration": 35,
        "start_time": "2023-01-29T15:39:33.713Z"
      },
      {
        "duration": 28,
        "start_time": "2023-01-29T15:39:33.750Z"
      },
      {
        "duration": 20,
        "start_time": "2023-01-29T15:39:33.780Z"
      },
      {
        "duration": 32,
        "start_time": "2023-01-29T15:39:33.803Z"
      },
      {
        "duration": 93,
        "start_time": "2023-01-29T15:39:33.838Z"
      },
      {
        "duration": 9,
        "start_time": "2023-01-29T15:39:33.934Z"
      },
      {
        "duration": 53,
        "start_time": "2023-01-29T15:39:33.945Z"
      },
      {
        "duration": 18,
        "start_time": "2023-01-29T15:39:34.000Z"
      },
      {
        "duration": 204,
        "start_time": "2023-01-29T15:39:34.020Z"
      },
      {
        "duration": 190,
        "start_time": "2023-01-29T15:39:34.227Z"
      },
      {
        "duration": 6,
        "start_time": "2023-01-29T15:39:34.419Z"
      },
      {
        "duration": 399,
        "start_time": "2023-01-29T15:39:34.428Z"
      },
      {
        "duration": 4,
        "start_time": "2023-01-29T15:39:34.832Z"
      },
      {
        "duration": 53,
        "start_time": "2023-01-29T15:39:34.838Z"
      },
      {
        "duration": 268,
        "start_time": "2023-01-29T15:39:34.894Z"
      },
      {
        "duration": 14,
        "start_time": "2023-01-29T15:39:35.168Z"
      },
      {
        "duration": 30,
        "start_time": "2023-01-29T15:39:35.185Z"
      },
      {
        "duration": 369,
        "start_time": "2023-01-29T15:39:35.218Z"
      },
      {
        "duration": 9,
        "start_time": "2023-01-29T15:39:35.589Z"
      },
      {
        "duration": 187,
        "start_time": "2023-01-29T15:39:35.600Z"
      },
      {
        "duration": 14,
        "start_time": "2023-01-29T15:39:35.789Z"
      },
      {
        "duration": 220,
        "start_time": "2023-01-29T15:39:35.806Z"
      },
      {
        "duration": 13,
        "start_time": "2023-01-29T15:39:36.028Z"
      },
      {
        "duration": 2539,
        "start_time": "2023-01-29T15:39:36.053Z"
      },
      {
        "duration": 6,
        "start_time": "2023-01-29T15:39:38.595Z"
      },
      {
        "duration": 69,
        "start_time": "2023-01-29T15:39:38.603Z"
      },
      {
        "duration": 41,
        "start_time": "2023-01-29T15:39:38.677Z"
      },
      {
        "duration": 60,
        "start_time": "2023-01-29T15:39:38.720Z"
      },
      {
        "duration": 21,
        "start_time": "2023-01-29T15:39:38.782Z"
      },
      {
        "duration": 38,
        "start_time": "2023-01-29T15:39:38.805Z"
      },
      {
        "duration": 42,
        "start_time": "2023-01-29T15:39:38.845Z"
      },
      {
        "duration": 26,
        "start_time": "2023-01-29T15:39:38.889Z"
      },
      {
        "duration": 341,
        "start_time": "2023-01-29T15:39:38.917Z"
      },
      {
        "duration": 344,
        "start_time": "2023-01-29T15:39:39.262Z"
      },
      {
        "duration": 395,
        "start_time": "2023-01-29T15:39:39.607Z"
      },
      {
        "duration": 324,
        "start_time": "2023-01-29T15:39:40.004Z"
      },
      {
        "duration": 577,
        "start_time": "2023-01-29T15:39:40.331Z"
      },
      {
        "duration": 324,
        "start_time": "2023-01-29T15:39:40.910Z"
      },
      {
        "duration": 179,
        "start_time": "2023-01-29T15:39:41.236Z"
      },
      {
        "duration": 329,
        "start_time": "2023-01-29T15:39:41.417Z"
      },
      {
        "duration": 280,
        "start_time": "2023-01-29T15:39:41.753Z"
      },
      {
        "duration": 266,
        "start_time": "2023-01-29T15:39:42.035Z"
      },
      {
        "duration": 397,
        "start_time": "2023-01-29T15:39:42.303Z"
      },
      {
        "duration": 181,
        "start_time": "2023-01-29T15:39:42.701Z"
      },
      {
        "duration": 181,
        "start_time": "2023-01-29T15:39:42.884Z"
      },
      {
        "duration": 279,
        "start_time": "2023-01-29T15:39:43.068Z"
      },
      {
        "duration": 21,
        "start_time": "2023-01-29T15:39:43.349Z"
      },
      {
        "duration": 21,
        "start_time": "2023-01-29T15:39:43.374Z"
      },
      {
        "duration": 8,
        "start_time": "2023-01-29T15:39:43.397Z"
      },
      {
        "duration": 9,
        "start_time": "2023-01-29T15:39:43.407Z"
      },
      {
        "duration": 39,
        "start_time": "2023-01-29T15:39:43.418Z"
      },
      {
        "duration": 209,
        "start_time": "2023-01-29T15:39:43.460Z"
      },
      {
        "duration": 206,
        "start_time": "2023-01-29T15:39:43.670Z"
      },
      {
        "duration": 220,
        "start_time": "2023-01-29T15:39:43.879Z"
      },
      {
        "duration": 285,
        "start_time": "2023-01-29T15:39:44.101Z"
      },
      {
        "duration": 212,
        "start_time": "2023-01-29T15:39:44.388Z"
      },
      {
        "duration": 167,
        "start_time": "2023-01-29T15:39:44.602Z"
      },
      {
        "duration": 7,
        "start_time": "2023-01-29T15:54:56.864Z"
      },
      {
        "duration": 237,
        "start_time": "2023-01-29T15:56:34.619Z"
      },
      {
        "duration": 389,
        "start_time": "2023-01-29T15:56:51.715Z"
      },
      {
        "duration": 508,
        "start_time": "2023-01-29T16:08:26.540Z"
      },
      {
        "duration": 122,
        "start_time": "2023-01-29T16:08:27.050Z"
      },
      {
        "duration": 3,
        "start_time": "2023-01-29T16:08:27.176Z"
      },
      {
        "duration": 64,
        "start_time": "2023-01-29T16:08:27.182Z"
      },
      {
        "duration": 20,
        "start_time": "2023-01-29T16:08:27.247Z"
      },
      {
        "duration": 2794,
        "start_time": "2023-01-29T16:08:27.269Z"
      },
      {
        "duration": 26,
        "start_time": "2023-01-29T16:08:30.066Z"
      },
      {
        "duration": 23,
        "start_time": "2023-01-29T16:08:30.095Z"
      },
      {
        "duration": 4,
        "start_time": "2023-01-29T16:08:30.120Z"
      },
      {
        "duration": 10,
        "start_time": "2023-01-29T16:08:30.126Z"
      },
      {
        "duration": 77,
        "start_time": "2023-01-29T16:08:30.137Z"
      },
      {
        "duration": 12,
        "start_time": "2023-01-29T16:08:30.216Z"
      },
      {
        "duration": 29,
        "start_time": "2023-01-29T16:08:30.230Z"
      },
      {
        "duration": 21,
        "start_time": "2023-01-29T16:08:30.261Z"
      },
      {
        "duration": 42,
        "start_time": "2023-01-29T16:08:30.288Z"
      },
      {
        "duration": 77,
        "start_time": "2023-01-29T16:08:30.331Z"
      },
      {
        "duration": 32,
        "start_time": "2023-01-29T16:08:30.410Z"
      },
      {
        "duration": 98,
        "start_time": "2023-01-29T16:08:30.443Z"
      },
      {
        "duration": 81,
        "start_time": "2023-01-29T16:08:30.543Z"
      },
      {
        "duration": 105,
        "start_time": "2023-01-29T16:08:30.626Z"
      },
      {
        "duration": 7,
        "start_time": "2023-01-29T16:08:30.732Z"
      },
      {
        "duration": 79,
        "start_time": "2023-01-29T16:08:30.741Z"
      },
      {
        "duration": 74,
        "start_time": "2023-01-29T16:08:30.823Z"
      },
      {
        "duration": 234,
        "start_time": "2023-01-29T16:08:30.899Z"
      },
      {
        "duration": 183,
        "start_time": "2023-01-29T16:08:31.135Z"
      },
      {
        "duration": 6,
        "start_time": "2023-01-29T16:08:31.319Z"
      },
      {
        "duration": 315,
        "start_time": "2023-01-29T16:08:31.327Z"
      },
      {
        "duration": 4,
        "start_time": "2023-01-29T16:08:31.646Z"
      },
      {
        "duration": 60,
        "start_time": "2023-01-29T16:08:31.651Z"
      },
      {
        "duration": 297,
        "start_time": "2023-01-29T16:08:31.714Z"
      },
      {
        "duration": 10,
        "start_time": "2023-01-29T16:08:32.013Z"
      },
      {
        "duration": 14,
        "start_time": "2023-01-29T16:08:32.025Z"
      },
      {
        "duration": 285,
        "start_time": "2023-01-29T16:08:32.040Z"
      },
      {
        "duration": 9,
        "start_time": "2023-01-29T16:08:32.326Z"
      },
      {
        "duration": 174,
        "start_time": "2023-01-29T16:08:32.336Z"
      },
      {
        "duration": 7,
        "start_time": "2023-01-29T16:08:32.512Z"
      },
      {
        "duration": 213,
        "start_time": "2023-01-29T16:08:32.521Z"
      },
      {
        "duration": 25,
        "start_time": "2023-01-29T16:08:32.736Z"
      },
      {
        "duration": 2502,
        "start_time": "2023-01-29T16:08:32.763Z"
      },
      {
        "duration": 6,
        "start_time": "2023-01-29T16:08:35.270Z"
      },
      {
        "duration": 56,
        "start_time": "2023-01-29T16:08:35.280Z"
      },
      {
        "duration": 6,
        "start_time": "2023-01-29T16:08:35.339Z"
      },
      {
        "duration": 8,
        "start_time": "2023-01-29T16:08:35.347Z"
      },
      {
        "duration": 52,
        "start_time": "2023-01-29T16:08:35.357Z"
      },
      {
        "duration": 14,
        "start_time": "2023-01-29T16:08:35.411Z"
      },
      {
        "duration": 8,
        "start_time": "2023-01-29T16:08:35.427Z"
      },
      {
        "duration": 7,
        "start_time": "2023-01-29T16:08:35.436Z"
      },
      {
        "duration": 322,
        "start_time": "2023-01-29T16:08:35.445Z"
      },
      {
        "duration": 274,
        "start_time": "2023-01-29T16:08:35.769Z"
      },
      {
        "duration": 294,
        "start_time": "2023-01-29T16:08:36.045Z"
      },
      {
        "duration": 3,
        "start_time": "2023-01-29T16:08:36.341Z"
      },
      {
        "duration": 324,
        "start_time": "2023-01-29T16:08:36.346Z"
      },
      {
        "duration": 397,
        "start_time": "2023-01-29T16:08:36.674Z"
      },
      {
        "duration": 270,
        "start_time": "2023-01-29T16:08:37.075Z"
      },
      {
        "duration": 231,
        "start_time": "2023-01-29T16:08:37.358Z"
      },
      {
        "duration": 331,
        "start_time": "2023-01-29T16:08:37.596Z"
      },
      {
        "duration": 300,
        "start_time": "2023-01-29T16:08:37.929Z"
      },
      {
        "duration": 284,
        "start_time": "2023-01-29T16:08:38.234Z"
      },
      {
        "duration": 408,
        "start_time": "2023-01-29T16:08:38.519Z"
      },
      {
        "duration": 198,
        "start_time": "2023-01-29T16:08:38.929Z"
      },
      {
        "duration": 182,
        "start_time": "2023-01-29T16:08:39.129Z"
      },
      {
        "duration": 317,
        "start_time": "2023-01-29T16:08:39.312Z"
      },
      {
        "duration": 10,
        "start_time": "2023-01-29T16:08:39.631Z"
      },
      {
        "duration": 15,
        "start_time": "2023-01-29T16:08:39.654Z"
      },
      {
        "duration": 49,
        "start_time": "2023-01-29T16:08:39.675Z"
      },
      {
        "duration": 6,
        "start_time": "2023-01-29T16:08:39.726Z"
      },
      {
        "duration": 5,
        "start_time": "2023-01-29T16:08:39.734Z"
      },
      {
        "duration": 182,
        "start_time": "2023-01-29T16:08:39.741Z"
      },
      {
        "duration": 178,
        "start_time": "2023-01-29T16:08:39.925Z"
      },
      {
        "duration": 199,
        "start_time": "2023-01-29T16:08:40.105Z"
      },
      {
        "duration": 197,
        "start_time": "2023-01-29T16:08:40.306Z"
      },
      {
        "duration": 187,
        "start_time": "2023-01-29T16:08:40.504Z"
      },
      {
        "duration": 155,
        "start_time": "2023-01-29T16:08:40.692Z"
      },
      {
        "duration": 39,
        "start_time": "2023-01-29T16:32:24.399Z"
      },
      {
        "duration": 484,
        "start_time": "2023-01-29T16:37:07.710Z"
      },
      {
        "duration": 111,
        "start_time": "2023-01-29T16:37:08.204Z"
      },
      {
        "duration": 3,
        "start_time": "2023-01-29T16:37:08.317Z"
      },
      {
        "duration": 43,
        "start_time": "2023-01-29T16:37:08.322Z"
      },
      {
        "duration": 27,
        "start_time": "2023-01-29T16:37:08.367Z"
      },
      {
        "duration": 2534,
        "start_time": "2023-01-29T16:37:08.396Z"
      },
      {
        "duration": 9,
        "start_time": "2023-01-29T16:37:10.933Z"
      },
      {
        "duration": 6,
        "start_time": "2023-01-29T16:37:10.944Z"
      },
      {
        "duration": 12,
        "start_time": "2023-01-29T16:37:10.951Z"
      },
      {
        "duration": 47,
        "start_time": "2023-01-29T16:37:10.964Z"
      },
      {
        "duration": 57,
        "start_time": "2023-01-29T16:37:11.013Z"
      },
      {
        "duration": 22,
        "start_time": "2023-01-29T16:37:11.072Z"
      },
      {
        "duration": 38,
        "start_time": "2023-01-29T16:37:11.096Z"
      },
      {
        "duration": 5,
        "start_time": "2023-01-29T16:37:11.138Z"
      },
      {
        "duration": 13,
        "start_time": "2023-01-29T16:37:11.144Z"
      },
      {
        "duration": 77,
        "start_time": "2023-01-29T16:37:11.159Z"
      },
      {
        "duration": 15,
        "start_time": "2023-01-29T16:37:11.237Z"
      },
      {
        "duration": 9,
        "start_time": "2023-01-29T16:37:11.256Z"
      },
      {
        "duration": 44,
        "start_time": "2023-01-29T16:37:11.266Z"
      },
      {
        "duration": 52,
        "start_time": "2023-01-29T16:37:11.312Z"
      },
      {
        "duration": 12,
        "start_time": "2023-01-29T16:37:11.368Z"
      },
      {
        "duration": 17,
        "start_time": "2023-01-29T16:37:11.385Z"
      },
      {
        "duration": 12,
        "start_time": "2023-01-29T16:37:11.404Z"
      },
      {
        "duration": 174,
        "start_time": "2023-01-29T16:37:11.418Z"
      },
      {
        "duration": 156,
        "start_time": "2023-01-29T16:37:11.594Z"
      },
      {
        "duration": 6,
        "start_time": "2023-01-29T16:37:11.757Z"
      },
      {
        "duration": 314,
        "start_time": "2023-01-29T16:37:11.764Z"
      },
      {
        "duration": 6,
        "start_time": "2023-01-29T16:37:12.080Z"
      },
      {
        "duration": 36,
        "start_time": "2023-01-29T16:37:12.088Z"
      },
      {
        "duration": 286,
        "start_time": "2023-01-29T16:37:12.126Z"
      },
      {
        "duration": 11,
        "start_time": "2023-01-29T16:37:12.414Z"
      },
      {
        "duration": 10,
        "start_time": "2023-01-29T16:37:12.426Z"
      },
      {
        "duration": 278,
        "start_time": "2023-01-29T16:37:12.458Z"
      },
      {
        "duration": 7,
        "start_time": "2023-01-29T16:37:12.738Z"
      },
      {
        "duration": 162,
        "start_time": "2023-01-29T16:37:12.746Z"
      },
      {
        "duration": 7,
        "start_time": "2023-01-29T16:37:12.910Z"
      },
      {
        "duration": 195,
        "start_time": "2023-01-29T16:37:12.919Z"
      },
      {
        "duration": 11,
        "start_time": "2023-01-29T16:37:13.116Z"
      },
      {
        "duration": 2629,
        "start_time": "2023-01-29T16:37:13.129Z"
      },
      {
        "duration": 7,
        "start_time": "2023-01-29T16:37:15.760Z"
      },
      {
        "duration": 38,
        "start_time": "2023-01-29T16:37:15.790Z"
      },
      {
        "duration": 10,
        "start_time": "2023-01-29T16:37:15.830Z"
      },
      {
        "duration": 6,
        "start_time": "2023-01-29T16:37:15.842Z"
      },
      {
        "duration": 14,
        "start_time": "2023-01-29T16:37:15.850Z"
      },
      {
        "duration": 43,
        "start_time": "2023-01-29T16:37:15.874Z"
      },
      {
        "duration": 8,
        "start_time": "2023-01-29T16:37:15.919Z"
      },
      {
        "duration": 14,
        "start_time": "2023-01-29T16:37:15.929Z"
      },
      {
        "duration": 341,
        "start_time": "2023-01-29T16:37:15.945Z"
      },
      {
        "duration": 309,
        "start_time": "2023-01-29T16:37:16.296Z"
      },
      {
        "duration": 297,
        "start_time": "2023-01-29T16:37:16.607Z"
      },
      {
        "duration": 4,
        "start_time": "2023-01-29T16:37:16.908Z"
      },
      {
        "duration": 300,
        "start_time": "2023-01-29T16:37:16.914Z"
      },
      {
        "duration": 550,
        "start_time": "2023-01-29T16:37:17.216Z"
      },
      {
        "duration": 312,
        "start_time": "2023-01-29T16:37:17.771Z"
      },
      {
        "duration": 152,
        "start_time": "2023-01-29T16:37:18.087Z"
      },
      {
        "duration": 298,
        "start_time": "2023-01-29T16:37:18.240Z"
      },
      {
        "duration": 329,
        "start_time": "2023-01-29T16:37:18.540Z"
      },
      {
        "duration": 275,
        "start_time": "2023-01-29T16:37:18.872Z"
      },
      {
        "duration": 474,
        "start_time": "2023-01-29T16:37:19.149Z"
      },
      {
        "duration": 205,
        "start_time": "2023-01-29T16:37:19.626Z"
      },
      {
        "duration": 189,
        "start_time": "2023-01-29T16:37:19.833Z"
      },
      {
        "duration": 297,
        "start_time": "2023-01-29T16:37:20.024Z"
      },
      {
        "duration": 14,
        "start_time": "2023-01-29T16:37:20.323Z"
      },
      {
        "duration": 44,
        "start_time": "2023-01-29T16:37:20.338Z"
      },
      {
        "duration": 46,
        "start_time": "2023-01-29T16:37:20.385Z"
      },
      {
        "duration": 64,
        "start_time": "2023-01-29T16:37:20.433Z"
      },
      {
        "duration": 35,
        "start_time": "2023-01-29T16:37:20.500Z"
      },
      {
        "duration": 190,
        "start_time": "2023-01-29T16:37:20.537Z"
      },
      {
        "duration": 215,
        "start_time": "2023-01-29T16:37:20.729Z"
      },
      {
        "duration": 208,
        "start_time": "2023-01-29T16:37:20.945Z"
      },
      {
        "duration": 178,
        "start_time": "2023-01-29T16:37:21.154Z"
      },
      {
        "duration": 219,
        "start_time": "2023-01-29T16:37:21.334Z"
      },
      {
        "duration": 224,
        "start_time": "2023-01-29T16:37:21.555Z"
      },
      {
        "duration": 453,
        "start_time": "2023-01-29T20:02:31.417Z"
      },
      {
        "duration": 96,
        "start_time": "2023-01-29T20:02:31.871Z"
      },
      {
        "duration": 3,
        "start_time": "2023-01-29T20:02:31.969Z"
      },
      {
        "duration": 34,
        "start_time": "2023-01-29T20:02:31.974Z"
      },
      {
        "duration": 27,
        "start_time": "2023-01-29T20:02:32.010Z"
      },
      {
        "duration": 2233,
        "start_time": "2023-01-29T20:02:32.039Z"
      },
      {
        "duration": 10,
        "start_time": "2023-01-29T20:02:34.273Z"
      },
      {
        "duration": 8,
        "start_time": "2023-01-29T20:02:34.285Z"
      },
      {
        "duration": 27,
        "start_time": "2023-01-29T20:02:34.295Z"
      },
      {
        "duration": 6,
        "start_time": "2023-01-29T20:02:34.325Z"
      },
      {
        "duration": 59,
        "start_time": "2023-01-29T20:02:34.333Z"
      },
      {
        "duration": 13,
        "start_time": "2023-01-29T20:02:34.394Z"
      },
      {
        "duration": 22,
        "start_time": "2023-01-29T20:02:34.408Z"
      },
      {
        "duration": 4,
        "start_time": "2023-01-29T20:02:34.432Z"
      },
      {
        "duration": 10,
        "start_time": "2023-01-29T20:02:34.438Z"
      },
      {
        "duration": 18,
        "start_time": "2023-01-29T20:02:34.450Z"
      },
      {
        "duration": 15,
        "start_time": "2023-01-29T20:02:34.469Z"
      },
      {
        "duration": 8,
        "start_time": "2023-01-29T20:02:34.486Z"
      },
      {
        "duration": 8,
        "start_time": "2023-01-29T20:02:34.528Z"
      },
      {
        "duration": 43,
        "start_time": "2023-01-29T20:02:34.538Z"
      },
      {
        "duration": 7,
        "start_time": "2023-01-29T20:02:34.583Z"
      },
      {
        "duration": 12,
        "start_time": "2023-01-29T20:02:34.591Z"
      },
      {
        "duration": 13,
        "start_time": "2023-01-29T20:02:34.628Z"
      },
      {
        "duration": 165,
        "start_time": "2023-01-29T20:02:34.643Z"
      },
      {
        "duration": 154,
        "start_time": "2023-01-29T20:02:34.810Z"
      },
      {
        "duration": 6,
        "start_time": "2023-01-29T20:02:34.966Z"
      },
      {
        "duration": 285,
        "start_time": "2023-01-29T20:02:34.973Z"
      },
      {
        "duration": 3,
        "start_time": "2023-01-29T20:02:35.262Z"
      },
      {
        "duration": 15,
        "start_time": "2023-01-29T20:02:35.267Z"
      },
      {
        "duration": 257,
        "start_time": "2023-01-29T20:02:35.283Z"
      },
      {
        "duration": 10,
        "start_time": "2023-01-29T20:02:35.542Z"
      },
      {
        "duration": 30,
        "start_time": "2023-01-29T20:02:35.554Z"
      },
      {
        "duration": 268,
        "start_time": "2023-01-29T20:02:35.586Z"
      },
      {
        "duration": 8,
        "start_time": "2023-01-29T20:02:35.855Z"
      },
      {
        "duration": 164,
        "start_time": "2023-01-29T20:02:35.865Z"
      },
      {
        "duration": 10,
        "start_time": "2023-01-29T20:02:36.031Z"
      },
      {
        "duration": 182,
        "start_time": "2023-01-29T20:02:36.043Z"
      },
      {
        "duration": 7,
        "start_time": "2023-01-29T20:02:36.227Z"
      },
      {
        "duration": 2257,
        "start_time": "2023-01-29T20:02:36.236Z"
      },
      {
        "duration": 4,
        "start_time": "2023-01-29T20:02:38.495Z"
      },
      {
        "duration": 59,
        "start_time": "2023-01-29T20:02:38.501Z"
      },
      {
        "duration": 27,
        "start_time": "2023-01-29T20:02:38.562Z"
      },
      {
        "duration": 32,
        "start_time": "2023-01-29T20:02:38.592Z"
      },
      {
        "duration": 23,
        "start_time": "2023-01-29T20:02:38.626Z"
      },
      {
        "duration": 34,
        "start_time": "2023-01-29T20:02:38.652Z"
      },
      {
        "duration": 18,
        "start_time": "2023-01-29T20:02:38.687Z"
      },
      {
        "duration": 32,
        "start_time": "2023-01-29T20:02:38.707Z"
      },
      {
        "duration": 271,
        "start_time": "2023-01-29T20:02:38.742Z"
      },
      {
        "duration": 268,
        "start_time": "2023-01-29T20:02:39.015Z"
      },
      {
        "duration": 262,
        "start_time": "2023-01-29T20:02:39.286Z"
      },
      {
        "duration": 5,
        "start_time": "2023-01-29T20:02:39.550Z"
      },
      {
        "duration": 255,
        "start_time": "2023-01-29T20:02:39.557Z"
      },
      {
        "duration": 418,
        "start_time": "2023-01-29T20:02:39.814Z"
      },
      {
        "duration": 316,
        "start_time": "2023-01-29T20:02:40.234Z"
      },
      {
        "duration": 161,
        "start_time": "2023-01-29T20:02:40.552Z"
      },
      {
        "duration": 261,
        "start_time": "2023-01-29T20:02:40.715Z"
      },
      {
        "duration": 271,
        "start_time": "2023-01-29T20:02:40.978Z"
      },
      {
        "duration": 246,
        "start_time": "2023-01-29T20:02:41.251Z"
      },
      {
        "duration": 373,
        "start_time": "2023-01-29T20:02:41.499Z"
      },
      {
        "duration": 159,
        "start_time": "2023-01-29T20:02:41.873Z"
      },
      {
        "duration": 156,
        "start_time": "2023-01-29T20:02:42.033Z"
      },
      {
        "duration": 256,
        "start_time": "2023-01-29T20:02:42.191Z"
      },
      {
        "duration": 9,
        "start_time": "2023-01-29T20:02:42.449Z"
      },
      {
        "duration": 10,
        "start_time": "2023-01-29T20:02:42.459Z"
      },
      {
        "duration": 6,
        "start_time": "2023-01-29T20:02:42.471Z"
      },
      {
        "duration": 6,
        "start_time": "2023-01-29T20:02:42.479Z"
      },
      {
        "duration": 9,
        "start_time": "2023-01-29T20:02:42.487Z"
      },
      {
        "duration": 161,
        "start_time": "2023-01-29T20:02:42.497Z"
      },
      {
        "duration": 157,
        "start_time": "2023-01-29T20:02:42.660Z"
      },
      {
        "duration": 198,
        "start_time": "2023-01-29T20:02:42.819Z"
      },
      {
        "duration": 162,
        "start_time": "2023-01-29T20:02:43.019Z"
      },
      {
        "duration": 183,
        "start_time": "2023-01-29T20:02:43.183Z"
      },
      {
        "duration": 141,
        "start_time": "2023-01-29T20:02:43.368Z"
      },
      {
        "duration": 16,
        "start_time": "2023-01-29T20:03:24.502Z"
      },
      {
        "duration": 70,
        "start_time": "2023-01-29T20:03:28.298Z"
      },
      {
        "duration": 102,
        "start_time": "2023-01-29T20:03:30.651Z"
      }
    ],
    "colab": {
      "provenance": []
    },
    "kernelspec": {
      "display_name": "Python 3 (ipykernel)",
      "language": "python",
      "name": "python3"
    },
    "language_info": {
      "codemirror_mode": {
        "name": "ipython",
        "version": 3
      },
      "file_extension": ".py",
      "mimetype": "text/x-python",
      "name": "python",
      "nbconvert_exporter": "python",
      "pygments_lexer": "ipython3",
      "version": "3.9.5"
    },
    "toc": {
      "base_numbering": 1,
      "nav_menu": {},
      "number_sections": true,
      "sideBar": true,
      "skip_h1_title": true,
      "title_cell": "Table of Contents",
      "title_sidebar": "Contents",
      "toc_cell": false,
      "toc_position": {},
      "toc_section_display": true,
      "toc_window_display": false
    }
  },
  "nbformat": 4,
  "nbformat_minor": 0
}